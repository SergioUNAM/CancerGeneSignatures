{
 "cells": [
  {
   "cell_type": "markdown",
   "metadata": {},
   "source": [
    "CancerGeneSignatures\n",
    "\n",
    "> Documento vivo para alinear objetivos, datos, arquitectura y plan de trabajo del proyecto."
   ]
  },
  {
   "cell_type": "markdown",
   "metadata": {},
   "source": [
    "## Resumen\n",
    "CancerGeneSignatures centraliza análisis de firmas génicas (miRNAs y genes normalizadores) para distintos tejidos. Este notebook describe el marco general del proyecto, las dependencias, el flujo de trabajo y el plan de unificación de notebooks."
   ]
  },
  {
   "cell_type": "markdown",
   "metadata": {},
   "source": [
    "## Objetivos\n",
    "- Consolidar análisis dispersos en un flujo reproducible.\n",
    "- Definir y documentar el set de datos de entrada.\n",
    "- Establecer notebooks modulares y reutilizables (exploración, procesamiento, resultados).\n",
    "- Facilitar evaluación y trazabilidad (versionado y métricas)."
   ]
  },
  {
   "cell_type": "markdown",
   "metadata": {},
   "source": [
    "## Alcance y Entregables\n",
    "- Pipeline reproducible para análisis de miRNAs y genes normalizadores.\n",
    "- Notebooks consolidados y documentados.\n",
    "- Resultados clave (tablas, figuras) exportados.\n",
    "- Guía de ejecución (README y este notebook)."
   ]
  },
  {
   "cell_type": "markdown",
   "metadata": {},
   "source": [
    "## Datos y Fuentes\n",
    "- Directorio de datos: `raw_data/` (archivos Excel/CSV).\n",
    "- Anotar versiones relevantes de archivos fuente utilizados en los análisis.\n",
    "- Mantener diccionario de datos en README o anexo."
   ]
  },
  {
   "cell_type": "markdown",
   "metadata": {},
   "source": [
    "## Arquitectura y Organización\n",
    "- `notebooks/`: análisis interactivos (e.g., `genes_normalizadores.ipynb`, `miRNAS.ipynb`, `uimeo_data_analysis.ipynb`).\n",
    "- `raw_data/`: insumos originales.\n",
    "- `desktop_app/`: componentes de la aplicación (si aplica).\n",
    "- Estandarizar nombres: prefijos numéricos para el orden (este archivo: `00_`)."
   ]
  },
  {
   "cell_type": "markdown",
   "metadata": {},
   "source": [
    "## Plan de Unificación de Notebooks\n",
    "1. Inventario de celdas y resultados relevantes en notebooks existentes.\n",
    "2. Extraer utilidades repetidas a funciones (o módulo) reutilizable(s).\n",
    "3. Crear notebooks por etapa: 01_exploracion, 02_procesamiento, 03_resultados.\n",
    "4. Validar concordancia de resultados vs. versión original.\n",
    "5. Documentar supuestos, parámetros y métricas."
   ]
  },
  {
   "cell_type": "markdown",
   "metadata": {},
   "source": [
    "## Flujo de Trabajo (propuesto)\n",
    "- Ingesta y validación de datos (tipos, faltantes).\n",
    "- Preprocesamiento/normalización (definir estrategia y justificación).\n",
    "- Análisis estadístico y visualizaciones.\n",
    "- Generación de reportes y exportables.\n",
    "- Revisión/QA y versionado."
   ]
  },
  {
   "cell_type": "code",
   "execution_count": null,
   "metadata": {},
   "outputs": [],
   "source": [
    "# Configuración base del proyecto\n",
    "from pathlib import Path\n",
    "import sys\n",
    "\n",
    "REPO_ROOT = Path.cwd()  # Ajustar si se ejecuta desde otra ruta\n",
    "DATA_DIR = REPO_ROOT / 'raw_data'\n",
    "NOTEBOOKS_DIR = REPO_ROOT / 'notebooks'\n",
    "\n",
    "print('Repo:', REPO_ROOT)\n",
    "print('Datos:', DATA_DIR)\n",
    "print('Notebooks:', NOTEBOOKS_DIR)\n"
   ]
  },
  {
   "cell_type": "markdown",
   "metadata": {},
   "source": [
    "## Checklist / TODO\n",
    "- [ ] Completar inventario de notebooks y secciones críticas.\n",
    "- [ ] Definir funciones auxiliares comunes.\n",
    "- [ ] Dividir flujo en 01/02/03 notebooks y probar end-to-end.\n",
    "- [ ] Documentar parámetros y resultados clave.\n",
    "- [ ] Preparar reporte final y guía de ejecución."
   ]
  },
  {
   "cell_type": "markdown",
   "metadata": {},
   "source": [
    "## Registro de Cambios (este notebook)\n",
    "- v0.1: Estructura inicial y plan de unificación."
   ]
  }
 ],
 "metadata": {
  "kernelspec": {
   "display_name": "Python 3 (ipykernel)",
   "language": "python",
   "name": "python3"
  },
  "language_info": {
   "name": "python",
   "version": "3"
  }
 },
 "nbformat": 4,
 "nbformat_minor": 5
}
