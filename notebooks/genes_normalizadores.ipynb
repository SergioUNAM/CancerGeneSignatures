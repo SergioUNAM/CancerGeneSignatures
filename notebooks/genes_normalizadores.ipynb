{
 "cells": [
  {
   "cell_type": "markdown",
   "id": "28994fe4",
   "metadata": {},
   "source": [
    "## Preparación del entorno\n",
    "## Definición del contexto biológico de estudio, método de normalización, cáncer de interés y ruta del archivo a los datos crudos"
   ]
  },
  {
   "cell_type": "markdown",
   "id": "bac284b1",
   "metadata": {},
   "source": [
    "### Mensajes de salida personalizados"
   ]
  },
  {
   "cell_type": "code",
   "execution_count": 5,
   "id": "e8fd43d6",
   "metadata": {},
   "outputs": [],
   "source": [
    "from pathlib import Path\n",
    "from IPython.display import display, HTML, Markdown\n",
    "\n",
    "# Configuración de estilos\n",
    "STYLES = {\n",
    "    \"result\": {\"bg\": \"#e9f5ff\", \"text\": \"#004085\", \"icon\": \"📊\"},\n",
    "    \"success\": {\"bg\": \"#eaf4ea\", \"text\": \"#2e6637\", \"icon\": \"🧬\"},\n",
    "    \"error\": {\"bg\": \"#f8d7da\", \"text\": \"#721c24\", \"icon\": \"🧫\"},\n",
    "    \"alert\": {\"bg\": \"#fff3cd\", \"text\": \"#856404\", \"icon\": \"💊\"},\n",
    "    \"export\": {\"bg\": \"#e0f2f1\", \"text\": \"#00695c\", \"icon\": \"💾\"},\n",
    "    \"resume\": {\"bg\": \"#fff3cd\", \"text\": \"#856404\", \"icon\": \"🔔\", \"title\": \"Resumen de ejecución\"}\n",
    "}\n",
    "\n",
    "\n",
    "def resume_message(items: dict, title: str = \"Resumen de ejecución\") -> None:\n",
    "    \"\"\"Muestra un resumen organizado de parámetros/configuraciones\"\"\"\n",
    "    formatted_lines = [f\"{k}: {v}\" for k, v in items.items()]\n",
    "    summary = \"\\n\".join(formatted_lines)\n",
    "    \n",
    "    html_content = f\"\"\"\n",
    "    <div style=\"background-color:{STYLES['resume']['bg']}; \n",
    "                color:{STYLES['resume']['text']};\n",
    "                padding: 12px; \n",
    "                border-radius: 8px;\n",
    "                border-left: 4px solid {STYLES['resume']['text']};\n",
    "                margin: 10px 0;\n",
    "                box-shadow: 0 2px 4px rgba(0,0,0,0.1);\">\n",
    "        <div style=\"font-size: 1.1em; margin-bottom: 6px;\">\n",
    "            {STYLES['resume']['icon']} <strong>{title}</strong>\n",
    "        </div>\n",
    "        <div style=\"font-size: 0.95em; margin-left: 24px;\">\n",
    "            {\"\".join([f'<div><strong>{k.split(\":\")[0]}:</strong> {v}</div>' for k, v in [line.split(\":\", 1) for line in formatted_lines]])}\n",
    "        </div>\n",
    "    </div>\n",
    "    \"\"\"\n",
    "    display(HTML(html_content))\n",
    "\n",
    "def display_message(text: str, style_type: str) -> None:\n",
    "    \"\"\"Muestra mensajes estilizados en notebooks Jupyter\"\"\"\n",
    "    if style_type not in STYLES:\n",
    "        raise ValueError(f\"Estilo inválido. Opciones: {list(STYLES.keys())}\")\n",
    "    \n",
    "    style = STYLES[style_type]\n",
    "    parts = text.split(':', 1) if ':' in text else [text, '']\n",
    "    \n",
    "    html_content = f\"\"\"\n",
    "    <div style=\"background-color:{style['bg']}; \n",
    "                color:{style['text']};\n",
    "                padding: 12px; \n",
    "                border-radius: 8px;\n",
    "                border-left: 4px solid {style['text']};\n",
    "                margin: 10px 0;\n",
    "                box-shadow: 0 2px 4px rgba(0,0,0,0.1);\">\n",
    "        <div style=\"font-size: 1.1em; margin-bottom: 6px;\">\n",
    "            {style['icon']} <strong>{parts[0].strip()}</strong>\n",
    "        </div>\n",
    "        <div style=\"font-size: 0.95em; margin-left: 24px;\">\n",
    "            {parts[1].strip()}\n",
    "        </div>\n",
    "    </div>\n",
    "    \"\"\"\n",
    "    display(HTML(html_content))\n",
    "\n",
    "# Funciones especializadas\n",
    "def result_message(text: str) -> None:\n",
    "    \"\"\"Mensaje para resultados de análisis\"\"\"\n",
    "    display_message(text, \"result\")\n",
    "\n",
    "def success_message(text: str) -> None:\n",
    "    \"\"\"Mensaje de operación exitosa\"\"\"\n",
    "    display_message(text, \"success\")\n",
    "\n",
    "def error_message(text: str) -> None:\n",
    "    \"\"\"Mensaje de error crítico\"\"\"\n",
    "    display_message(text, \"error\")\n",
    "\n",
    "def alert_message(text: str) -> None:\n",
    "    \"\"\"Mensaje de advertencia o alerta\"\"\"\n",
    "    display_message(text, \"alert\")\n",
    "\n",
    "def export_message(text: str) -> None:\n",
    "    \"\"\"Mensaje para operaciones de exportación\"\"\"\n",
    "    display_message(text, \"export\")\n"
   ]
  },
  {
   "cell_type": "code",
   "execution_count": null,
   "id": "657fba9d",
   "metadata": {},
   "outputs": [],
   "source": []
  },
  {
   "cell_type": "markdown",
   "id": "94c2f5df",
   "metadata": {},
   "source": [
    "### Carga de la configuración\n",
    "\n",
    "Este módulo es el núcleo de la configuración del pipeline y se encarga de cargar y validar los parámetros del archivo config.yaml (como rutas de datos, métodos de análisis y tipo de cáncer), asegurándose de que no falte información crítica. Además, organiza automáticamente las carpetas de resultados en una estructura clara (para evitar errores manuales. Si trabajan en Google Colab, también puede montar Google Drive con solo activar una opción en la configuración. En resumen: ellas solo modifican el config.yaml y el código se encarga de validar, crear rutas y preparar todo para que el análisis fluya sin problemas. Si algo falla, mostrará mensajes de error específicos (ej.: \"Falta el método de normalización en el YAML\") para que corrijan fácilmente."
   ]
  },
  {
   "cell_type": "code",
   "execution_count": 6,
   "id": "d622f6b3",
   "metadata": {},
   "outputs": [],
   "source": [
    "\n",
    "def configurar_rutas(config):\n",
    "    \"\"\"\n",
    "    Configura las rutas del proyecto y crea la estructura de directorios para resultados.\n",
    "    \n",
    "    Args:\n",
    "        config (dict): Configuración cargada del archivo YAML\n",
    "    \n",
    "    Returns:\n",
    "        dict: Diccionario con:\n",
    "            - ruta_archivo: Path al archivo de datos crudos\n",
    "            - ruta_resultados: Path a la carpeta de resultados creada\n",
    "    \n",
    "    Raises:\n",
    "        FileNotFoundError: Si no existe el archivo de datos crudos\n",
    "        Exception: Para otros errores relacionados con rutas\n",
    "    \"\"\"\n",
    "    try:\n",
    "        # Verifica que exista el archivo de datos crudos\n",
    "        ruta_archivo = Path(config['rutas']['datos_crudos'])\n",
    "        if not ruta_archivo.exists():\n",
    "            raise FileNotFoundError(f\"Archivo de datos no encontrado: {ruta_archivo}\")\n",
    "        \n",
    "        # Crea estructura de directorios para resultados\n",
    "        nombre_archivo = ruta_archivo.stem  # Nombre del archivo sin extensión\n",
    "        ruta_resultados = Path(\n",
    "            f\"{config['rutas']['resultados_base']}/\"\n",
    "            f\"{nombre_archivo}/\"\n",
    "            f\"{config['analisis']['contexto_biologico']}/\"\n",
    "            f\"{config['analisis']['metodo_normalizacion']}/\"\n",
    "            f\"{config['analisis']['tipo_cancer']}/\"\n",
    "        )\n",
    "        # Crea los directorios (incluyendo padres si no existen)\n",
    "        ruta_resultados.mkdir(parents=True, exist_ok=True)\n",
    "        \n",
    "        return {\n",
    "            'ruta_archivo': ruta_archivo,\n",
    "            'ruta_resultados': ruta_resultados\n",
    "        }\n",
    "        \n",
    "    except Exception as e:\n",
    "        error_message(f\"Error configurando rutas: {str(e)}\")\n",
    "        raise"
   ]
  },
  {
   "cell_type": "markdown",
   "id": "89e31838",
   "metadata": {},
   "source": [
    "### Guardado de resultados"
   ]
  },
  {
   "cell_type": "code",
   "execution_count": 7,
   "id": "ef45b8dc",
   "metadata": {},
   "outputs": [],
   "source": [
    "# src/io.py\n",
    "import pandas as pd\n",
    "from pathlib import Path\n",
    "import os\n",
    "\n",
    "# Variable global para almacenar la ruta de exportación\n",
    "_default_export_folder = None\n",
    "\n",
    "def set_export_folder(path):\n",
    "    global _default_export_folder\n",
    "    _default_export_folder = Path(path)\n",
    "\n",
    "def export_dfs_to_excel(dataframes, file_names, note=\"\", export_folder=None):\n",
    "    \"\"\"Exporta múltiples DataFrames a Excel\"\"\"\n",
    "    try:\n",
    "        # Usar la variable global si no se especifica explícitamente\n",
    "        export_folder = export_folder or _default_export_folder\n",
    "        \n",
    "        if not export_folder:\n",
    "            raise ValueError(\"Debe especificar carpeta de exportación\")\n",
    "            \n",
    "        if len(dataframes) != len(file_names):\n",
    "            raise ValueError(\"dataframes y file_names deben tener misma longitud\")\n",
    "\n",
    "        export_path = Path(export_folder)\n",
    "        export_path.mkdir(parents=True, exist_ok=True)\n",
    "        \n",
    "        file_name = note.split(':', 1)[0] if ':' in note else \"resultados\"\n",
    "        file_path = export_path / f\"{file_name}.xlsx\"\n",
    "\n",
    "        with pd.ExcelWriter(file_path, engine='openpyxl') as writer:\n",
    "            for df, sheet_name in zip(dataframes, file_names):\n",
    "                if not df.empty:\n",
    "                    df.to_excel(writer, sheet_name=sheet_name[:31], index=False)\n",
    "                    \n",
    "        export_message(f\"Archivo exportado: {file_name}.xlsx {note}\")\n",
    "        return file_path\n",
    "        \n",
    "    except Exception as e:\n",
    "        alert_message(f\"Error en exportación: {str(e)}\")\n",
    "        raise\n",
    "\n",
    "def guardar_grafico(fig, nombre_archivo, carpeta=None):\n",
    "    \"\"\"Guarda gráficos en formato PNG\"\"\"\n",
    "    try:\n",
    "        # Usar la variable global si no se especifica explícitamente\n",
    "        carpeta = carpeta or _default_export_folder\n",
    "        \n",
    "        if not carpeta:\n",
    "            raise ValueError(\"Debe especificar carpeta de guardado\")\n",
    "            \n",
    "        ruta_completa = Path(carpeta) / nombre_archivo\n",
    "        fig.write_image(str(ruta_completa), format='png', scale=2)\n",
    "        success_message(f\"Gráfico guardado: {nombre_archivo}\")\n",
    "        return ruta_completa\n",
    "        \n",
    "    except Exception as e:\n",
    "        alert_message(f\"Error guardando gráfico: {str(e)}\")\n",
    "        raise"
   ]
  },
  {
   "cell_type": "code",
   "execution_count": 8,
   "id": "7e28e91b",
   "metadata": {},
   "outputs": [
    {
     "name": "stderr",
     "output_type": "stream",
     "text": [
      "/opt/anaconda3/lib/python3.11/site-packages/openpyxl/worksheet/_read_only.py:79: UserWarning: Data Validation extension is not supported and will be removed\n",
      "  for idx, row in parser.parse():\n"
     ]
    },
    {
     "data": {
      "text/html": [
       "\n",
       "    <div style=\"background-color:#eaf4ea; \n",
       "                color:#2e6637;\n",
       "                padding: 12px; \n",
       "                border-radius: 8px;\n",
       "                border-left: 4px solid #2e6637;\n",
       "                margin: 10px 0;\n",
       "                box-shadow: 0 2px 4px rgba(0,0,0,0.1);\">\n",
       "        <div style=\"font-size: 1.1em; margin-bottom: 6px;\">\n",
       "            🧬 <strong>Configuración cargada desde Excel</strong>\n",
       "        </div>\n",
       "        <div style=\"font-size: 0.95em; margin-left: 24px;\">\n",
       "            \n",
       "        </div>\n",
       "    </div>\n",
       "    "
      ],
      "text/plain": [
       "<IPython.core.display.HTML object>"
      ]
     },
     "metadata": {},
     "output_type": "display_data"
    },
    {
     "data": {
      "text/html": [
       "\n",
       "    <div style=\"background-color:#fff3cd; \n",
       "                color:#856404;\n",
       "                padding: 12px; \n",
       "                border-radius: 8px;\n",
       "                border-left: 4px solid #856404;\n",
       "                margin: 10px 0;\n",
       "                box-shadow: 0 2px 4px rgba(0,0,0,0.1);\">\n",
       "        <div style=\"font-size: 1.1em; margin-bottom: 6px;\">\n",
       "            🔔 <strong>Resumen de ejecución</strong>\n",
       "        </div>\n",
       "        <div style=\"font-size: 0.95em; margin-left: 24px;\">\n",
       "            <div><strong>Contexto biológico:</strong>  Cáncer y TEM</div><div><strong>Método de normalización:</strong>  gen de referencia</div><div><strong>Tipo de cáncer:</strong>  Gastric Cancer</div><div><strong>Controles:</strong>  4GB</div><div><strong>Muestras:</strong>  3CG</div>\n",
       "        </div>\n",
       "    </div>\n",
       "    "
      ],
      "text/plain": [
       "<IPython.core.display.HTML object>"
      ]
     },
     "metadata": {},
     "output_type": "display_data"
    },
    {
     "data": {
      "text/html": [
       "\n",
       "    <div style=\"background-color:#eaf4ea; \n",
       "                color:#2e6637;\n",
       "                padding: 12px; \n",
       "                border-radius: 8px;\n",
       "                border-left: 4px solid #2e6637;\n",
       "                margin: 10px 0;\n",
       "                box-shadow: 0 2px 4px rgba(0,0,0,0.1);\">\n",
       "        <div style=\"font-size: 1.1em; margin-bottom: 6px;\">\n",
       "            🧬 <strong>Configuración de las variables de análisis cargadas correctamente</strong>\n",
       "        </div>\n",
       "        <div style=\"font-size: 0.95em; margin-left: 24px;\">\n",
       "            \n",
       "        </div>\n",
       "    </div>\n",
       "    "
      ],
      "text/plain": [
       "<IPython.core.display.HTML object>"
      ]
     },
     "metadata": {},
     "output_type": "display_data"
    },
    {
     "data": {
      "text/html": [
       "\n",
       "    <div style=\"background-color:#fff3cd; \n",
       "                color:#856404;\n",
       "                padding: 12px; \n",
       "                border-radius: 8px;\n",
       "                border-left: 4px solid #856404;\n",
       "                margin: 10px 0;\n",
       "                box-shadow: 0 2px 4px rgba(0,0,0,0.1);\">\n",
       "        <div style=\"font-size: 1.1em; margin-bottom: 6px;\">\n",
       "            🔔 <strong>Resumen de ejecución</strong>\n",
       "        </div>\n",
       "        <div style=\"font-size: 0.95em; margin-left: 24px;\">\n",
       "            <div><strong>Archivo de datos:</strong>  ../raw_data/CG-TEM-intestinal_prueba.xlsx</div><div><strong>Directorio de resultados:</strong>  ../resultados/CG-TEM-intestinal_prueba/Cáncer y TEM/gen de referencia/Gastric Cancer</div>\n",
       "        </div>\n",
       "    </div>\n",
       "    "
      ],
      "text/plain": [
       "<IPython.core.display.HTML object>"
      ]
     },
     "metadata": {},
     "output_type": "display_data"
    },
    {
     "data": {
      "text/html": [
       "\n",
       "    <div style=\"background-color:#eaf4ea; \n",
       "                color:#2e6637;\n",
       "                padding: 12px; \n",
       "                border-radius: 8px;\n",
       "                border-left: 4px solid #2e6637;\n",
       "                margin: 10px 0;\n",
       "                box-shadow: 0 2px 4px rgba(0,0,0,0.1);\">\n",
       "        <div style=\"font-size: 1.1em; margin-bottom: 6px;\">\n",
       "            🧬 <strong>Configuración de rutas cargadas correctamente</strong>\n",
       "        </div>\n",
       "        <div style=\"font-size: 0.95em; margin-left: 24px;\">\n",
       "            \n",
       "        </div>\n",
       "    </div>\n",
       "    "
      ],
      "text/plain": [
       "<IPython.core.display.HTML object>"
      ]
     },
     "metadata": {},
     "output_type": "display_data"
    },
    {
     "data": {
      "text/html": [
       "\n",
       "    <div style=\"background-color:#eaf4ea; \n",
       "                color:#2e6637;\n",
       "                padding: 12px; \n",
       "                border-radius: 8px;\n",
       "                border-left: 4px solid #2e6637;\n",
       "                margin: 10px 0;\n",
       "                box-shadow: 0 2px 4px rgba(0,0,0,0.1);\">\n",
       "        <div style=\"font-size: 1.1em; margin-bottom: 6px;\">\n",
       "            🧬 <strong>✓ Configuración válida</strong>\n",
       "        </div>\n",
       "        <div style=\"font-size: 0.95em; margin-left: 24px;\">\n",
       "            \n",
       "        </div>\n",
       "    </div>\n",
       "    "
      ],
      "text/plain": [
       "<IPython.core.display.HTML object>"
      ]
     },
     "metadata": {},
     "output_type": "display_data"
    }
   ],
   "source": [
    "\n",
    "\n",
    "# notebooks/analisis.ipynb\n",
    "import sys\n",
    "from pathlib import Path\n",
    "import pandas as pd\n",
    "\n",
    "sys.path.append(\"../src\")\n",
    "\n",
    "# -----------------------------------------------\n",
    "# Cargar configuración desde Excel\n",
    "# -----------------------------------------------\n",
    "ruta_excel = Path(\"../raw_data/CG-TEM-intestinal_prueba.xlsx\")\n",
    "df_excel = pd.read_excel(ruta_excel, sheet_name=0, header=None)\n",
    "\n",
    "# Extraer parámetros desde ubicaciones específicas\n",
    "ruta_archivo = ruta_excel  # Ya es la fuente de datos\n",
    "contexto_biologico = df_excel.iloc[2, 1]  # Fila 4, Columna B\n",
    "metodo_elegido = df_excel.iloc[1, 1]      # Fila 3, Columna B\n",
    "tipo_cancer = df_excel.iloc[0, 1]         # Fila 2, Columna B\n",
    "\n",
    "# Extraer nombre de controles desde la celda B4\n",
    "nombre_controles = df_excel.iloc[3, 1]\n",
    "\n",
    "# Extraer nombre de muestra desde la celda B5\n",
    "nombre_muestras = df_excel.iloc[4, 1]\n",
    "# -----------------------------------------------\n",
    "# Configurar rutas\n",
    "# -----------------------------------------------\n",
    "nombre_archivo = ruta_archivo.stem\n",
    "ruta_resultados = Path(\n",
    "    f\"../resultados/\"\n",
    "    f\"{nombre_archivo}/\"\n",
    "    f\"{contexto_biologico}/\"\n",
    "    f\"{metodo_elegido}/\"\n",
    "    f\"{tipo_cancer}/\"\n",
    ")\n",
    "ruta_resultados.mkdir(parents=True, exist_ok=True)\n",
    "\n",
    "#from utils.helpers import set_export_folder, success_message, resume_message\n",
    "\n",
    "set_export_folder(ruta_resultados)\n",
    "\n",
    "# ==================================================\n",
    "# VISUALIZACIÓN DE CONFIGURACIÓN\n",
    "# ==================================================\n",
    "\n",
    "success_message(\"Configuración cargada desde Excel\")\n",
    "\n",
    "# Mostrar parámetros\n",
    "resume_message({\n",
    "    \"Contexto biológico\": contexto_biologico,\n",
    "    \"Método de normalización\": metodo_elegido,\n",
    "    \"Tipo de cáncer\": tipo_cancer,\n",
    "    \"Controles\": nombre_controles,\n",
    "    \"Muestras\": nombre_muestras\n",
    "})\n",
    "\n",
    "success_message(\"Configuración de las variables de análisis cargadas correctamente\")\n",
    "\n",
    "# Mostrar rutas\n",
    "resume_message({\n",
    "    \"Archivo de datos\": ruta_archivo,\n",
    "    \"Directorio de resultados\": ruta_resultados\n",
    "})\n",
    "success_message(\"Configuración de rutas cargadas correctamente\")\n",
    "\n",
    "# Verificación final\n",
    "success_message(\"✓ Configuración válida\")"
   ]
  },
  {
   "cell_type": "markdown",
   "id": "dca23e86",
   "metadata": {},
   "source": [
    "## Importación de librerías esenciales para el análisis de expresión génica\n",
    "\n",
    "Este bloque de código importa una serie de librerías fundamentales para realizar análisis avanzados en el contexto de la expresión génica.\n"
   ]
  },
  {
   "cell_type": "markdown",
   "id": "2bc3a5da",
   "metadata": {},
   "source": [
    "### Configuración del entorno"
   ]
  },
  {
   "cell_type": "code",
   "execution_count": 9,
   "id": "0067d3fe",
   "metadata": {},
   "outputs": [
    {
     "data": {
      "text/html": [
       "\n",
       "    <div style=\"background-color:#fff3cd; \n",
       "                color:#856404;\n",
       "                padding: 12px; \n",
       "                border-radius: 8px;\n",
       "                border-left: 4px solid #856404;\n",
       "                margin: 10px 0;\n",
       "                box-shadow: 0 2px 4px rgba(0,0,0,0.1);\">\n",
       "        <div style=\"font-size: 1.1em; margin-bottom: 6px;\">\n",
       "            💊 <strong>Instalando biopython...</strong>\n",
       "        </div>\n",
       "        <div style=\"font-size: 0.95em; margin-left: 24px;\">\n",
       "            \n",
       "        </div>\n",
       "    </div>\n",
       "    "
      ],
      "text/plain": [
       "<IPython.core.display.HTML object>"
      ]
     },
     "metadata": {},
     "output_type": "display_data"
    },
    {
     "data": {
      "text/html": [
       "\n",
       "    <div style=\"background-color:#eaf4ea; \n",
       "                color:#2e6637;\n",
       "                padding: 12px; \n",
       "                border-radius: 8px;\n",
       "                border-left: 4px solid #2e6637;\n",
       "                margin: 10px 0;\n",
       "                box-shadow: 0 2px 4px rgba(0,0,0,0.1);\">\n",
       "        <div style=\"font-size: 1.1em; margin-bottom: 6px;\">\n",
       "            🧬 <strong>Paquetes instalados</strong>\n",
       "        </div>\n",
       "        <div style=\"font-size: 0.95em; margin-left: 24px;\">\n",
       "            markdown, gseapy, biopython, squarify, openpyxl, goatools, kaleido, py2cytoscape\n",
       "        </div>\n",
       "    </div>\n",
       "    "
      ],
      "text/plain": [
       "<IPython.core.display.HTML object>"
      ]
     },
     "metadata": {},
     "output_type": "display_data"
    },
    {
     "data": {
      "text/html": [
       "\n",
       "    <div style=\"background-color:#eaf4ea; \n",
       "                color:#2e6637;\n",
       "                padding: 12px; \n",
       "                border-radius: 8px;\n",
       "                border-left: 4px solid #2e6637;\n",
       "                margin: 10px 0;\n",
       "                box-shadow: 0 2px 4px rgba(0,0,0,0.1);\">\n",
       "        <div style=\"font-size: 1.1em; margin-bottom: 6px;\">\n",
       "            🧬 <strong>Entorno configurado correctamente</strong>\n",
       "        </div>\n",
       "        <div style=\"font-size: 0.95em; margin-left: 24px;\">\n",
       "            \n",
       "        </div>\n",
       "    </div>\n",
       "    "
      ],
      "text/plain": [
       "<IPython.core.display.HTML object>"
      ]
     },
     "metadata": {},
     "output_type": "display_data"
    }
   ],
   "source": [
    "from pathlib import Path\n",
    "import importlib\n",
    "import subprocess\n",
    "import sys\n",
    "import os\n",
    "import pandas as pd\n",
    "import numpy as np\n",
    "from IPython.display import display, Markdown, HTML\n",
    "import requests\n",
    "import json\n",
    "import re\n",
    "import matplotlib.pyplot as plt\n",
    "import seaborn as sns\n",
    "from scipy.stats import ttest_ind\n",
    "from sklearn.decomposition import PCA\n",
    "from sklearn.cluster import KMeans\n",
    "import networkx as nx\n",
    "import warnings\n",
    "import contextlib\n",
    "import io\n",
    "\n",
    "\n",
    "# Configuración inicial del entorno\n",
    "def configure_environment():\n",
    "    # Configuración de pandas\n",
    "    pd.set_option('display.max_colwidth', 100)\n",
    "    \n",
    "    # Manejo de advertencias de Python\n",
    "    warnings.filterwarnings('ignore')\n",
    "    \n",
    "    # Lista de paquetes a verificar e instalar si es necesario\n",
    "    packages_to_check = [\n",
    "        'markdown',\n",
    "        'gseapy',\n",
    "        'biopython',\n",
    "        'squarify',\n",
    "        'openpyxl',\n",
    "        'goatools',\n",
    "        'kaleido',\n",
    "        'py2cytoscape'\n",
    "    ]\n",
    "    \n",
    "    installed_packages = []\n",
    "    \n",
    "    # Redirección de stdout y stderr para ocultar mensajes molestos\n",
    "    with contextlib.redirect_stdout(io.StringIO()), contextlib.redirect_stderr(io.StringIO()):\n",
    "        for package in packages_to_check:\n",
    "            try:\n",
    "                importlib.import_module(package)\n",
    "                installed_packages.append(package)\n",
    "            except ImportError:\n",
    "                alert_message(f\"Instalando {package}...\")\n",
    "                try:\n",
    "                    subprocess.check_call(\n",
    "                        [sys.executable, \"-m\", \"pip\", \"install\", package],\n",
    "                        stdout=subprocess.DEVNULL,\n",
    "                        stderr=subprocess.DEVNULL\n",
    "                    )\n",
    "                    installed_packages.append(package)\n",
    "                except Exception as e:\n",
    "                    error_message(f\"Error instalando {package}: {str(e)}\")\n",
    "\n",
    "    success_message(f\"Paquetes instalados: {', '.join(installed_packages)}\")\n",
    "\n",
    "    # Importaciones posteriores a la instalación\n",
    "    import gseapy as gp\n",
    "    import squarify\n",
    "    import kaleido\n",
    "\n",
    "    success_message(\"Entorno configurado correctamente\")\n",
    "\n",
    "configure_environment()\n"
   ]
  },
  {
   "cell_type": "markdown",
   "id": "40d3c994",
   "metadata": {},
   "source": [
    "## Limpieza de datos\n"
   ]
  },
  {
   "cell_type": "markdown",
   "id": "a34eeb56",
   "metadata": {},
   "source": [
    "### Definición de los nombres de los controles y las muestras\n"
   ]
  },
  {
   "cell_type": "markdown",
   "id": "3a4ebf02",
   "metadata": {},
   "source": [
    "### Carga del archivo de Excel y extracción de información\n",
    "\n",
    "En esta sección se realiza la carga de un archivo de Excel que contiene los datos de Ct de diversas pruebas. El proceso se divide en dos pasos fundamentales:\n",
    "\n",
    "1. **Carga del archivo de Excel**  \n",
    "   Se define una función llamada `cargar_datos_excel` que recibe como argumento la ruta del archivo. La función intenta cargar el archivo utilizando `pandas.read_excel` y maneja posibles errores.\n",
    "   \n",
    "   Si el archivo se carga correctamente, se muestra un mensaje de éxito; de lo contrario, se interrumpe la ejecución del programa.\n",
    "\n",
    "2. **Extracción de información relevante**  \n",
    "   La función `extraer_informacion` se encarga de extraer tres elementos importantes del DataFrame cargado: Nombres de las pruebas, Pozos y Genes objetivo.\n",
    "\n",
    "Finalmente, se muestran los resultados de la extracción en pantalla, confirmando que el proceso se ha llevado a cabo correctamente."
   ]
  },
  {
   "cell_type": "code",
   "execution_count": 10,
   "id": "272390b9",
   "metadata": {},
   "outputs": [
    {
     "data": {
      "text/markdown": [
       "### Resultados de la extracción"
      ],
      "text/plain": [
       "<IPython.core.display.Markdown object>"
      ]
     },
     "metadata": {},
     "output_type": "display_data"
    },
    {
     "data": {
      "text/html": [
       "\n",
       "    <div style=\"background-color:#eaf4ea; \n",
       "                color:#2e6637;\n",
       "                padding: 12px; \n",
       "                border-radius: 8px;\n",
       "                border-left: 4px solid #2e6637;\n",
       "                margin: 10px 0;\n",
       "                box-shadow: 0 2px 4px rgba(0,0,0,0.1);\">\n",
       "        <div style=\"font-size: 1.1em; margin-bottom: 6px;\">\n",
       "            🧬 <strong>Archivo cargado correctamente</strong>\n",
       "        </div>\n",
       "        <div style=\"font-size: 0.95em; margin-left: 24px;\">\n",
       "            \n",
       "        </div>\n",
       "    </div>\n",
       "    "
      ],
      "text/plain": [
       "<IPython.core.display.HTML object>"
      ]
     },
     "metadata": {},
     "output_type": "display_data"
    },
    {
     "data": {
      "text/markdown": [
       "### Nombres de las pruebas realizadas"
      ],
      "text/plain": [
       "<IPython.core.display.Markdown object>"
      ]
     },
     "metadata": {},
     "output_type": "display_data"
    },
    {
     "data": {
      "text/html": [
       "\n",
       "    <div style=\"background-color:#e9f5ff; \n",
       "                color:#004085;\n",
       "                padding: 12px; \n",
       "                border-radius: 8px;\n",
       "                border-left: 4px solid #004085;\n",
       "                margin: 10px 0;\n",
       "                box-shadow: 0 2px 4px rgba(0,0,0,0.1);\">\n",
       "        <div style=\"font-size: 1.1em; margin-bottom: 6px;\">\n",
       "            📊 <strong>Total 4</strong>\n",
       "        </div>\n",
       "        <div style=\"font-size: 0.95em; margin-left: 24px;\">\n",
       "            4GB031, 3CG008, 3CG128, 3CG129\n",
       "        </div>\n",
       "    </div>\n",
       "    "
      ],
      "text/plain": [
       "<IPython.core.display.HTML object>"
      ]
     },
     "metadata": {},
     "output_type": "display_data"
    },
    {
     "data": {
      "text/markdown": [
       "### Genes objetivo analizados"
      ],
      "text/plain": [
       "<IPython.core.display.Markdown object>"
      ]
     },
     "metadata": {},
     "output_type": "display_data"
    },
    {
     "data": {
      "text/html": [
       "\n",
       "    <div style=\"background-color:#e9f5ff; \n",
       "                color:#004085;\n",
       "                padding: 12px; \n",
       "                border-radius: 8px;\n",
       "                border-left: 4px solid #004085;\n",
       "                margin: 10px 0;\n",
       "                box-shadow: 0 2px 4px rgba(0,0,0,0.1);\">\n",
       "        <div style=\"font-size: 1.1em; margin-bottom: 6px;\">\n",
       "            📊 <strong>Total 95</strong>\n",
       "        </div>\n",
       "        <div style=\"font-size: 0.95em; margin-left: 24px;\">\n",
       "            AKT1, BMP1, BMP2, BMP7, CALD1, CAMK2N1, CAV2, CDH1, CDH2, COL1A2, COL3A1, COL5A2, CTNNB1, DSC2, DSP, EGFR, ERBB3, ESR1, F11R, FGFBP1, FN1, FOXC2, FZD7, GNG11, GSC, GSK3B, IGFBP4, IL1RN, ILK, ITGA5, ITGAV, ITGB1, JAG1, KRT14, KRT19, KRT7, MAP1B, MMP2, MMP3, MMP9, MSN, MST1R, NODAL, NOTCH1, NUDT13, OCLN, PDGFRB, PLEK2, PPPDE2, PTK2, PTP4A1, RAC1, RGS2, SERPINE1, SIP1, SMAD2, SNAI1, SNAI2, SNAI3, SOX10, SPARC, SPP1, STAT3, STEAP1, TCF3, TCF4, TFPI2, TGFB1, TGFB2, TGFB3, TIMP1, TMEFF1, TMEM132A, TSPAN13, TWIST1, VCAN, VIM, VPS13A, WNT11, WNT5A, WNT5B, ZEB1, ZEB2, ACTB, B2M, GAPDH, HPRT1, RPLP0, HGDC, RTC, RTC, RTC, PPC, PPC, PPC\n",
       "        </div>\n",
       "    </div>\n",
       "    "
      ],
      "text/plain": [
       "<IPython.core.display.HTML object>"
      ]
     },
     "metadata": {},
     "output_type": "display_data"
    },
    {
     "name": "stdout",
     "output_type": "stream",
     "text": [
      "[DEBUG] idx=2, nombre_test='4GB001'\n"
     ]
    },
    {
     "data": {
      "text/html": [
       "\n",
       "    <div style=\"background-color:#e9f5ff; \n",
       "                color:#004085;\n",
       "                padding: 12px; \n",
       "                border-radius: 8px;\n",
       "                border-left: 4px solid #004085;\n",
       "                margin: 10px 0;\n",
       "                box-shadow: 0 2px 4px rgba(0,0,0,0.1);\">\n",
       "        <div style=\"font-size: 1.1em; margin-bottom: 6px;\">\n",
       "            📊 <strong>Control detectado</strong>\n",
       "        </div>\n",
       "        <div style=\"font-size: 0.95em; margin-left: 24px;\">\n",
       "            4GB001\n",
       "        </div>\n",
       "    </div>\n",
       "    "
      ],
      "text/plain": [
       "<IPython.core.display.HTML object>"
      ]
     },
     "metadata": {},
     "output_type": "display_data"
    },
    {
     "name": "stdout",
     "output_type": "stream",
     "text": [
      "[DEBUG] idx=3, nombre_test='4GB031'\n"
     ]
    },
    {
     "data": {
      "text/html": [
       "\n",
       "    <div style=\"background-color:#e9f5ff; \n",
       "                color:#004085;\n",
       "                padding: 12px; \n",
       "                border-radius: 8px;\n",
       "                border-left: 4px solid #004085;\n",
       "                margin: 10px 0;\n",
       "                box-shadow: 0 2px 4px rgba(0,0,0,0.1);\">\n",
       "        <div style=\"font-size: 1.1em; margin-bottom: 6px;\">\n",
       "            📊 <strong>Control detectado</strong>\n",
       "        </div>\n",
       "        <div style=\"font-size: 0.95em; margin-left: 24px;\">\n",
       "            4GB031\n",
       "        </div>\n",
       "    </div>\n",
       "    "
      ],
      "text/plain": [
       "<IPython.core.display.HTML object>"
      ]
     },
     "metadata": {},
     "output_type": "display_data"
    },
    {
     "name": "stdout",
     "output_type": "stream",
     "text": [
      "[DEBUG] idx=4, nombre_test='3CG008'\n"
     ]
    },
    {
     "data": {
      "text/html": [
       "\n",
       "    <div style=\"background-color:#e9f5ff; \n",
       "                color:#004085;\n",
       "                padding: 12px; \n",
       "                border-radius: 8px;\n",
       "                border-left: 4px solid #004085;\n",
       "                margin: 10px 0;\n",
       "                box-shadow: 0 2px 4px rgba(0,0,0,0.1);\">\n",
       "        <div style=\"font-size: 1.1em; margin-bottom: 6px;\">\n",
       "            📊 <strong>Muestra detectada</strong>\n",
       "        </div>\n",
       "        <div style=\"font-size: 0.95em; margin-left: 24px;\">\n",
       "            3CG008\n",
       "        </div>\n",
       "    </div>\n",
       "    "
      ],
      "text/plain": [
       "<IPython.core.display.HTML object>"
      ]
     },
     "metadata": {},
     "output_type": "display_data"
    },
    {
     "name": "stdout",
     "output_type": "stream",
     "text": [
      "[DEBUG] idx=5, nombre_test='3CG128'\n"
     ]
    },
    {
     "data": {
      "text/html": [
       "\n",
       "    <div style=\"background-color:#e9f5ff; \n",
       "                color:#004085;\n",
       "                padding: 12px; \n",
       "                border-radius: 8px;\n",
       "                border-left: 4px solid #004085;\n",
       "                margin: 10px 0;\n",
       "                box-shadow: 0 2px 4px rgba(0,0,0,0.1);\">\n",
       "        <div style=\"font-size: 1.1em; margin-bottom: 6px;\">\n",
       "            📊 <strong>Muestra detectada</strong>\n",
       "        </div>\n",
       "        <div style=\"font-size: 0.95em; margin-left: 24px;\">\n",
       "            3CG128\n",
       "        </div>\n",
       "    </div>\n",
       "    "
      ],
      "text/plain": [
       "<IPython.core.display.HTML object>"
      ]
     },
     "metadata": {},
     "output_type": "display_data"
    },
    {
     "name": "stdout",
     "output_type": "stream",
     "text": [
      "[DEBUG] idx=6, nombre_test='3CG129'\n"
     ]
    },
    {
     "data": {
      "text/html": [
       "\n",
       "    <div style=\"background-color:#e9f5ff; \n",
       "                color:#004085;\n",
       "                padding: 12px; \n",
       "                border-radius: 8px;\n",
       "                border-left: 4px solid #004085;\n",
       "                margin: 10px 0;\n",
       "                box-shadow: 0 2px 4px rgba(0,0,0,0.1);\">\n",
       "        <div style=\"font-size: 1.1em; margin-bottom: 6px;\">\n",
       "            📊 <strong>Muestra detectada</strong>\n",
       "        </div>\n",
       "        <div style=\"font-size: 0.95em; margin-left: 24px;\">\n",
       "            3CG129\n",
       "        </div>\n",
       "    </div>\n",
       "    "
      ],
      "text/plain": [
       "<IPython.core.display.HTML object>"
      ]
     },
     "metadata": {},
     "output_type": "display_data"
    },
    {
     "data": {
      "text/markdown": [
       "### Resumen de clasificación"
      ],
      "text/plain": [
       "<IPython.core.display.Markdown object>"
      ]
     },
     "metadata": {},
     "output_type": "display_data"
    },
    {
     "data": {
      "text/html": [
       "\n",
       "    <div style=\"background-color:#e9f5ff; \n",
       "                color:#004085;\n",
       "                padding: 12px; \n",
       "                border-radius: 8px;\n",
       "                border-left: 4px solid #004085;\n",
       "                margin: 10px 0;\n",
       "                box-shadow: 0 2px 4px rgba(0,0,0,0.1);\">\n",
       "        <div style=\"font-size: 1.1em; margin-bottom: 6px;\">\n",
       "            📊 <strong>Controles</strong>\n",
       "        </div>\n",
       "        <div style=\"font-size: 0.95em; margin-left: 24px;\">\n",
       "            2 pruebas → 4GB001, 4GB031\n",
       "        </div>\n",
       "    </div>\n",
       "    "
      ],
      "text/plain": [
       "<IPython.core.display.HTML object>"
      ]
     },
     "metadata": {},
     "output_type": "display_data"
    },
    {
     "data": {
      "text/html": [
       "\n",
       "    <div style=\"background-color:#e9f5ff; \n",
       "                color:#004085;\n",
       "                padding: 12px; \n",
       "                border-radius: 8px;\n",
       "                border-left: 4px solid #004085;\n",
       "                margin: 10px 0;\n",
       "                box-shadow: 0 2px 4px rgba(0,0,0,0.1);\">\n",
       "        <div style=\"font-size: 1.1em; margin-bottom: 6px;\">\n",
       "            📊 <strong>Muestras</strong>\n",
       "        </div>\n",
       "        <div style=\"font-size: 0.95em; margin-left: 24px;\">\n",
       "            3 pruebas → 3CG008, 3CG128, 3CG129\n",
       "        </div>\n",
       "    </div>\n",
       "    "
      ],
      "text/plain": [
       "<IPython.core.display.HTML object>"
      ]
     },
     "metadata": {},
     "output_type": "display_data"
    },
    {
     "data": {
      "text/html": [
       "\n",
       "    <div style=\"background-color:#eaf4ea; \n",
       "                color:#2e6637;\n",
       "                padding: 12px; \n",
       "                border-radius: 8px;\n",
       "                border-left: 4px solid #2e6637;\n",
       "                margin: 10px 0;\n",
       "                box-shadow: 0 2px 4px rgba(0,0,0,0.1);\">\n",
       "        <div style=\"font-size: 1.1em; margin-bottom: 6px;\">\n",
       "            🧬 <strong>Proceso de CT completado exitosamente</strong>\n",
       "        </div>\n",
       "        <div style=\"font-size: 0.95em; margin-left: 24px;\">\n",
       "            \n",
       "        </div>\n",
       "    </div>\n",
       "    "
      ],
      "text/plain": [
       "<IPython.core.display.HTML object>"
      ]
     },
     "metadata": {},
     "output_type": "display_data"
    }
   ],
   "source": [
    "import pandas as pd\n",
    "import numpy as np\n",
    "from IPython.display import display, Markdown\n",
    "\n",
    "# ============================================================\n",
    "# FUNCIÓN DE CARGA DE DATOS\n",
    "# ============================================================\n",
    "def cargar_datos_excel(ruta):\n",
    "    display(Markdown(\"### Resultados de la extracción\"))\n",
    "    try:\n",
    "        df = pd.read_excel(ruta, engine='openpyxl', header=None)\n",
    "        success_message(\"Archivo cargado correctamente\")\n",
    "        return df\n",
    "    except FileNotFoundError:\n",
    "        error_message(f\"Archivo '{ruta}' no encontrado\")\n",
    "    except Exception as e:\n",
    "        error_message(f\"Error al cargar: {e}\")\n",
    "    return None\n",
    "\n",
    "# ============================================================\n",
    "# FUNCIÓN PARA EXTRAER NOMBRES DE PRUEBAS, POZOS Y GENES\n",
    "# ============================================================\n",
    "def extraer_informacion_cg(df: pd.DataFrame) -> tuple:\n",
    "    rows, cols = df.shape\n",
    "    if rows < 9 or cols < 3:\n",
    "        alert_message(\"El archivo no tiene el formato esperado.\")\n",
    "        return [], [], []\n",
    "    test_names = df.iloc[5, 2:].dropna().astype(str).tolist()\n",
    "    pozos = df.iloc[9:, 0].dropna().astype(str).tolist()\n",
    "    genes = df.iloc[9:, 1].dropna().astype(str).tolist()\n",
    "    return test_names, pozos, genes\n",
    "\n",
    "# ============================================================\n",
    "# FUNCIÓN PARA PROCESAR VALORES CT Y CLASIFICARLOS\n",
    "# ============================================================\n",
    "def procesar_ct(df: pd.DataFrame, genes: list, nombre_controles: str, nombre_muestras: str) -> tuple:\n",
    "    if len(df) <= 8:\n",
    "        alert_message(\"El DataFrame no tiene suficientes filas.\")\n",
    "        return pd.DataFrame(), pd.DataFrame()\n",
    "\n",
    "    fila_ct = df.iloc[7]\n",
    "    if not any(str(val).strip().upper() == \"CT\" for val in fila_ct.values):\n",
    "        alert_message(\"No se encontró ninguna columna con 'CT' en la fila 7.\")\n",
    "        return pd.DataFrame(), pd.DataFrame()\n",
    "\n",
    "    # Normalizar prefijos\n",
    "    nombre_controles = nombre_controles.strip().upper()\n",
    "    nombre_muestras = nombre_muestras.strip().upper()\n",
    "\n",
    "    controles_list = []\n",
    "    muestras_list = []\n",
    "\n",
    "    for idx in np.where(fila_ct == \"CT\")[0]:\n",
    "        raw_test_name = str(df.iloc[5, idx])\n",
    "        nombre_test = raw_test_name.strip().upper()\n",
    "        print(f\"[DEBUG] idx={idx}, nombre_test='{nombre_test}'\")\n",
    "\n",
    "        ct_values = df.iloc[8:, idx].tolist()\n",
    "        if len(ct_values) < len(genes):\n",
    "            ct_values.extend([np.nan] * (len(genes) - len(ct_values)))\n",
    "        elif len(ct_values) > len(genes):\n",
    "            ct_values = ct_values[:len(genes)]\n",
    "\n",
    "        df_temp = pd.DataFrame({\n",
    "            'test': [nombre_test] * len(genes),\n",
    "            'target': genes,\n",
    "            'ct': ct_values\n",
    "        })\n",
    "\n",
    "        if nombre_test.startswith(nombre_controles):\n",
    "            controles_list.append(df_temp)\n",
    "            result_message(f\"Control detectado: {nombre_test}\")\n",
    "        elif nombre_test.startswith(nombre_muestras):\n",
    "            muestras_list.append(df_temp)\n",
    "            result_message(f\"Muestra detectada: {nombre_test}\")\n",
    "        else:\n",
    "            alert_message(f\"'{nombre_test}' no coincide con control ni muestra. Se omite.\")\n",
    "\n",
    "    controles_df = pd.concat(controles_list, ignore_index=True) if controles_list else pd.DataFrame()\n",
    "    muestras_df = pd.concat(muestras_list, ignore_index=True) if muestras_list else pd.DataFrame()\n",
    "    return controles_df, muestras_df\n",
    "\n",
    "# ============================================================\n",
    "# FLUJO PRINCIPAL DE PROCESAMIENTO\n",
    "# ============================================================\n",
    "def flujo_procesamiento(ruta_archivo: str, nombre_controles: str, nombre_muestras: str) -> dict:\n",
    "    df = cargar_datos_excel(ruta_archivo)\n",
    "    if df is None:\n",
    "        raise SystemExit(f\"❌ Error crítico: No se pudo cargar el archivo '{ruta_archivo}'\")\n",
    "\n",
    "    test_names, pozos, genes = extraer_informacion_cg(df)\n",
    "\n",
    "    for titulo, datos, filtro in [\n",
    "        (\"### Nombres de las pruebas realizadas\", test_names, lambda x: x[1:]),\n",
    "        (\"### Genes objetivo analizados\", genes, lambda x: [g for g in x if pd.notna(g) and g.strip()])\n",
    "    ]:\n",
    "        display(Markdown(titulo))\n",
    "        datos_filtrados = filtro(datos)\n",
    "        result_message(f\"Total {len(datos_filtrados)}: \\n{', '.join(datos_filtrados)}\")\n",
    "\n",
    "    controles_df, muestras_df = procesar_ct(df, genes, nombre_controles, nombre_muestras)\n",
    "\n",
    "    display(Markdown(\"### Resumen de clasificación\"))\n",
    "    for tipo, df_tipo in [('Controles', controles_df), ('Muestras', muestras_df)]:\n",
    "        if not df_tipo.empty:\n",
    "            unique_tests = df_tipo['test'].unique()\n",
    "            result_message(f\"{tipo}: {len(unique_tests)} pruebas → {', '.join(unique_tests)}\")\n",
    "        else:\n",
    "            alert_message(f\"No se detectaron {tipo.lower()} en el archivo.\")\n",
    "\n",
    "    success_message(\"Proceso de CT completado exitosamente\")\n",
    "    return {\n",
    "        \"test_names\": test_names,\n",
    "        \"pozos\": pozos,\n",
    "        \"genes\": genes,\n",
    "        \"controles_df\": controles_df,\n",
    "        \"muestras_df\": muestras_df\n",
    "    }\n",
    "\n",
    "# ============================================================\n",
    "# EJECUCIÓN DEL FLUJO\n",
    "# ============================================================\n",
    "# ruta_archivo = \"../raw_data/CG-TEM-intestinal_prueba.xlsx\"\n",
    "# nombre_controles = \"4GB\"\n",
    "# nombre_muestras = \"3CG\"\n",
    "resultados = flujo_procesamiento(ruta_archivo, nombre_controles, nombre_muestras)\n",
    "controles_df = resultados['controles_df']\n",
    "muestras_df = resultados['muestras_df']"
   ]
  },
  {
   "cell_type": "markdown",
   "id": "d2094696",
   "metadata": {},
   "source": [
    "### Procesamiento de valores Ct indeterminados\n",
    "\n",
    "Esta sección del código se encarga de procesar los valores de **Ct** en los dataframes de controles y muestras, reemplazando valores indeterminados y asegurando que la columna de Ct esté en formato numérico adecuado, si hay datos faltantes estos se eliminan para no agregar ruido a los cálculos"
   ]
  },
  {
   "cell_type": "code",
   "execution_count": 11,
   "id": "82bc9ef7",
   "metadata": {},
   "outputs": [
    {
     "data": {
      "text/markdown": [
       "### Procesamiento completado"
      ],
      "text/plain": [
       "<IPython.core.display.Markdown object>"
      ]
     },
     "metadata": {},
     "output_type": "display_data"
    },
    {
     "data": {
      "text/markdown": [
       "- Valor máximo usado para imputación: **44.93**"
      ],
      "text/plain": [
       "<IPython.core.display.Markdown object>"
      ]
     },
     "metadata": {},
     "output_type": "display_data"
    },
    {
     "data": {
      "text/html": [
       "\n",
       "    <div style=\"background-color:#eaf4ea; \n",
       "                color:#2e6637;\n",
       "                padding: 12px; \n",
       "                border-radius: 8px;\n",
       "                border-left: 4px solid #2e6637;\n",
       "                margin: 10px 0;\n",
       "                box-shadow: 0 2px 4px rgba(0,0,0,0.1);\">\n",
       "        <div style=\"font-size: 1.1em; margin-bottom: 6px;\">\n",
       "            🧬 <strong>Procesamiento de valores de Ct finalizado</strong>\n",
       "        </div>\n",
       "        <div style=\"font-size: 0.95em; margin-left: 24px;\">\n",
       "            \n",
       "        </div>\n",
       "    </div>\n",
       "    "
      ],
      "text/plain": [
       "<IPython.core.display.HTML object>"
      ]
     },
     "metadata": {},
     "output_type": "display_data"
    }
   ],
   "source": [
    "import pandas as pd\n",
    "from IPython.display import display, Markdown\n",
    "\n",
    "def procesar_ct_column(df1, df2, columna_ct='ct'):\n",
    "    \"\"\"\n",
    "    Imputa 'Undetermined' y valores faltantes con el valor máximo encontrado en ambas columnas Ct.\n",
    "\n",
    "    Args:\n",
    "        df1, df2: DataFrames con columna 'ct'\n",
    "        columna_ct: nombre de la columna Ct\n",
    "\n",
    "    Returns:\n",
    "        df1, df2: con imputación lista\n",
    "    \"\"\"\n",
    "    def procesar(df, columna):\n",
    "        # Reemplazar 'Undetermined' por NaN\n",
    "        df[columna] = df[columna].replace('Undetermined', pd.NA)\n",
    "        df[columna] = pd.to_numeric(df[columna], errors='coerce')\n",
    "        return df\n",
    "\n",
    "    # Paso 1: Reemplazo y conversión\n",
    "    df1 = procesar(df1, columna_ct)\n",
    "    df2 = procesar(df2, columna_ct)\n",
    "\n",
    "    # Paso 2: Encontrar el valor máximo observado entre ambos DF (sin contar NaN)\n",
    "    valor_maximo = pd.concat([df1[columna_ct], df2[columna_ct]]).max()\n",
    "\n",
    "    # Paso 3: Imputar NaNs con ese valor\n",
    "    df1[columna_ct] = df1[columna_ct].fillna(valor_maximo)\n",
    "    df2[columna_ct] = df2[columna_ct].fillna(valor_maximo)\n",
    "\n",
    "    # Paso 4: Mostrar resumen\n",
    "    display(Markdown(\"### Procesamiento completado\"))\n",
    "    display(Markdown(f\"- Valor máximo usado para imputación: **{valor_maximo}**\"))\n",
    "    return df1, df2\n",
    "\n",
    "# Procesamos los DataFrames de controles y muestras\n",
    "try:\n",
    "    controles_df, muestras_df = procesar_ct_column(controles_df, muestras_df)\n",
    "    success_message(\"Procesamiento de valores de Ct finalizado\")\n",
    "except Exception as e:\n",
    "    error_message(f\"Ocurrió un error en el procesamiento de valores de Ct: {e}\")\n",
    "\n"
   ]
  },
  {
   "cell_type": "markdown",
   "id": "babde8e3",
   "metadata": {},
   "source": [
    "### Filtrado de controles de máquina y concatenación de datos\n",
    "\n",
    "En esta sección del código se realiza el filtrado de los controles de máquina de los dataframes y la concatenación de los resultados para obtener un dataframe combinado que clasifica las filas según su tipo (control o muestra).\n"
   ]
  },
  {
   "cell_type": "code",
   "execution_count": 12,
   "id": "a835e366",
   "metadata": {},
   "outputs": [
    {
     "data": {
      "text/markdown": [
       "### Filtrado de controles de máquina para los datos en controles"
      ],
      "text/plain": [
       "<IPython.core.display.Markdown object>"
      ]
     },
     "metadata": {},
     "output_type": "display_data"
    },
    {
     "data": {
      "text/html": [
       "\n",
       "    <div style=\"background-color:#fff3cd; \n",
       "                color:#856404;\n",
       "                padding: 12px; \n",
       "                border-radius: 8px;\n",
       "                border-left: 4px solid #856404;\n",
       "                margin: 10px 0;\n",
       "                box-shadow: 0 2px 4px rgba(0,0,0,0.1);\">\n",
       "        <div style=\"font-size: 1.1em; margin-bottom: 6px;\">\n",
       "            💊 <strong>Controles de máquina a eliminar</strong>\n",
       "        </div>\n",
       "        <div style=\"font-size: 0.95em; margin-left: 24px;\">\n",
       "            PPC, RTC\n",
       "        </div>\n",
       "    </div>\n",
       "    "
      ],
      "text/plain": [
       "<IPython.core.display.HTML object>"
      ]
     },
     "metadata": {},
     "output_type": "display_data"
    },
    {
     "data": {
      "text/html": [
       "\n",
       "    <div style=\"background-color:#eaf4ea; \n",
       "                color:#2e6637;\n",
       "                padding: 12px; \n",
       "                border-radius: 8px;\n",
       "                border-left: 4px solid #2e6637;\n",
       "                margin: 10px 0;\n",
       "                box-shadow: 0 2px 4px rgba(0,0,0,0.1);\">\n",
       "        <div style=\"font-size: 1.1em; margin-bottom: 6px;\">\n",
       "            🧬 <strong>Filas eliminadas con controles de máquina</strong>\n",
       "        </div>\n",
       "        <div style=\"font-size: 0.95em; margin-left: 24px;\">\n",
       "            \n",
       "        </div>\n",
       "    </div>\n",
       "    "
      ],
      "text/plain": [
       "<IPython.core.display.HTML object>"
      ]
     },
     "metadata": {},
     "output_type": "display_data"
    },
    {
     "data": {
      "text/markdown": [
       "### Filtrado de controles de máquina para los datos en muestras"
      ],
      "text/plain": [
       "<IPython.core.display.Markdown object>"
      ]
     },
     "metadata": {},
     "output_type": "display_data"
    },
    {
     "data": {
      "text/html": [
       "\n",
       "    <div style=\"background-color:#fff3cd; \n",
       "                color:#856404;\n",
       "                padding: 12px; \n",
       "                border-radius: 8px;\n",
       "                border-left: 4px solid #856404;\n",
       "                margin: 10px 0;\n",
       "                box-shadow: 0 2px 4px rgba(0,0,0,0.1);\">\n",
       "        <div style=\"font-size: 1.1em; margin-bottom: 6px;\">\n",
       "            💊 <strong>Controles de máquina a eliminar</strong>\n",
       "        </div>\n",
       "        <div style=\"font-size: 0.95em; margin-left: 24px;\">\n",
       "            PPC, RTC\n",
       "        </div>\n",
       "    </div>\n",
       "    "
      ],
      "text/plain": [
       "<IPython.core.display.HTML object>"
      ]
     },
     "metadata": {},
     "output_type": "display_data"
    },
    {
     "data": {
      "text/html": [
       "\n",
       "    <div style=\"background-color:#eaf4ea; \n",
       "                color:#2e6637;\n",
       "                padding: 12px; \n",
       "                border-radius: 8px;\n",
       "                border-left: 4px solid #2e6637;\n",
       "                margin: 10px 0;\n",
       "                box-shadow: 0 2px 4px rgba(0,0,0,0.1);\">\n",
       "        <div style=\"font-size: 1.1em; margin-bottom: 6px;\">\n",
       "            🧬 <strong>Filas eliminadas con controles de máquina</strong>\n",
       "        </div>\n",
       "        <div style=\"font-size: 0.95em; margin-left: 24px;\">\n",
       "            \n",
       "        </div>\n",
       "    </div>\n",
       "    "
      ],
      "text/plain": [
       "<IPython.core.display.HTML object>"
      ]
     },
     "metadata": {},
     "output_type": "display_data"
    },
    {
     "data": {
      "text/html": [
       "\n",
       "    <div style=\"background-color:#e0f2f1; \n",
       "                color:#00695c;\n",
       "                padding: 12px; \n",
       "                border-radius: 8px;\n",
       "                border-left: 4px solid #00695c;\n",
       "                margin: 10px 0;\n",
       "                box-shadow: 0 2px 4px rgba(0,0,0,0.1);\">\n",
       "        <div style=\"font-size: 1.1em; margin-bottom: 6px;\">\n",
       "            💾 <strong>Archivo exportado</strong>\n",
       "        </div>\n",
       "        <div style=\"font-size: 0.95em; margin-left: 24px;\">\n",
       "            Datos limpios de controles y muestras.xlsx Datos limpios de controles y muestras: Archivo que contiene los datos de controles y muestras limpios, sin valores nulos ni controles de máquina.\n",
       "        </div>\n",
       "    </div>\n",
       "    "
      ],
      "text/plain": [
       "<IPython.core.display.HTML object>"
      ]
     },
     "metadata": {},
     "output_type": "display_data"
    },
    {
     "data": {
      "text/plain": [
       "PosixPath('../resultados/CG-TEM-intestinal_prueba/Cáncer y TEM/gen de referencia/Gastric Cancer/Datos limpios de controles y muestras.xlsx')"
      ]
     },
     "execution_count": 12,
     "metadata": {},
     "output_type": "execute_result"
    }
   ],
   "source": [
    "def filtrar_controles_maquina(df, columna_target='target', controles_maquina=None):\n",
    "    \"\"\"\n",
    "    Filtra las filas de un DataFrame eliminando aquellas que contienen controles de máquina,\n",
    "    definidos como aquellos cuyo valor en la columna 'columna_target' comienza con alguno\n",
    "    de los prefijos especificados en controles_maquina.\n",
    "\n",
    "    Args:\n",
    "        df (pd.DataFrame): DataFrame que contiene los datos a filtrar.\n",
    "        columna_target (str): Nombre de la columna que contiene los targets (por defecto, 'target').\n",
    "        controles_maquina (list, opcional): Lista de prefijos de controles de máquina a eliminar.\n",
    "            Si no se proporciona, se utilizará la lista por defecto: ['PPC', 'RTC'].\n",
    "\n",
    "    Returns:\n",
    "        pd.DataFrame: DataFrame filtrado sin los controles de máquina.\n",
    "    \"\"\"\n",
    "    # Lista por defecto de controles de máquina si no se proporciona\n",
    "    if controles_maquina is None:\n",
    "        controles_maquina = ['PPC', 'RTC']\n",
    "\n",
    "    alert_message(f\"Controles de máquina a eliminar: {', '.join(controles_maquina)}\")\n",
    "\n",
    "    # Filtrado del DataFrame eliminando los controles de máquina que comienzan con alguno de los prefijos\n",
    "    df_filtrado = df[~df[columna_target].str.startswith(tuple(controles_maquina))]\n",
    "    success_message(\"Filas eliminadas con controles de máquina\")\n",
    "\n",
    "    return df_filtrado\n",
    "\n",
    "# Filtrar los controles de máquina de los DataFrames\n",
    "display(Markdown(\"### Filtrado de controles de máquina para los datos en controles\"))\n",
    "controles_df = filtrar_controles_maquina(controles_df)\n",
    "display(Markdown(\"### Filtrado de controles de máquina para los datos en muestras\"))\n",
    "muestras_df = filtrar_controles_maquina(muestras_df)\n",
    "\n",
    "# Añadir columna para identificar el tipo de cada fila\n",
    "controles_df = controles_df.assign(tipo='Control')\n",
    "muestras_df = muestras_df.assign(tipo='Muestra')\n",
    "\n",
    "export_dfs_to_excel(\n",
    "    [controles_df, muestras_df],\n",
    "    [\"datos_control_limpio\", \"datos_muestras_limpio\"],\n",
    "    \"Datos limpios de controles y muestras: Archivo que contiene los datos de controles y muestras limpios, sin valores nulos ni controles de máquina.\", ruta_resultados\n",
    ")"
   ]
  },
  {
   "cell_type": "markdown",
   "id": "68428173",
   "metadata": {},
   "source": []
  },
  {
   "cell_type": "markdown",
   "id": "8b324cf2",
   "metadata": {},
   "source": [
    "## Procesamiento de datos"
   ]
  },
  {
   "cell_type": "markdown",
   "id": "2976700c",
   "metadata": {},
   "source": [
    "### Análisis de expresión génica mediante CT y Fold Change utilizando las metodologías promedio CT de un gen de referencia y promedio global\n",
    "\n",
    "#### Método con gen de referencia\n",
    "\n",
    "1. Promedio de Ct para cada gen:\n",
    "\n",
    "$$\\text{Promedio } Ct_{\\text{gen de referencia}} \\hspace{5pt}= \\frac{Ct_1 + Ct_2 + Ct_3 + ... +Ct_n}{n}$$\n",
    "\n",
    "2. ΔCt para cada condición:\n",
    "\n",
    "$$\\Delta Ct = \\text{Promedio } Ct_{\\text{gen de interés}} \\hspace{5pt}- \\text{Promedio } Ct_{\\text{gen de referencia}}$$\n",
    "\n",
    "3. ΔΔCt:\n",
    "\n",
    "$$\\Delta\\Delta Ct = \\Delta Ct_{\\text{muestra}} - \\Delta Ct_{\\text{control}}\n",
    "$$\n",
    "\n",
    "4. Fold Change:\n",
    "\n",
    "$$\\text{Fold Change} = 2^{-\\Delta\\Delta Ct}$$\n",
    "\n",
    "#### Métdodo con promedio global\n",
    "\n",
    "1. Promedio de Ct para cada gen:\n",
    "\n",
    "$$\n",
    "\\text{Promedio } Ct_{\\text{gen}} = \\frac{Ct_1 + Ct_2 + Ct_3 + ... + Ct_n}{n}\n",
    "$$\n",
    "\n",
    "2. Promedio global de Ct para cada condición\n",
    "\n",
    "$$\n",
    "\\text{Promedio global } Ct_{\\text{condición}} \\hspace{5pt}= \\frac{\\sum \\text{Promedio } Ct_{\\text{gen}}}{N}\n",
    "$$\n",
    "\n",
    "3. ΔCt para cada gen:\n",
    "\n",
    "$$\n",
    "\\Delta Ct_{\\text{gen}} = \\text{Promedio } Ct_{\\text{gen}} - \\text{Promedio global } Ct_{\\text{condición}}\n",
    "$$\n",
    "\n",
    "4. ΔΔCt para cada gen:\n",
    "\n",
    "$$\n",
    "\\Delta\\Delta Ct_{\\text{gen}} = \\Delta Ct_{\\text{gen, tratamiento}} \\hspace{5pt}- \\Delta Ct_{\\text{gen, control}}\n",
    "$$\n",
    "\n",
    "5. Fold Change:\n",
    "\n",
    "$$\n",
    "\\text{Fold Change} = 2^{-\\Delta\\Delta Ct_{\\text{gen}}}\n",
    "$$"
   ]
  },
  {
   "cell_type": "code",
   "execution_count": 13,
   "id": "3a1c523c",
   "metadata": {},
   "outputs": [
    {
     "data": {
      "text/html": [
       "\n",
       "    <div style=\"background-color:#fff3cd; \n",
       "                color:#856404;\n",
       "                padding: 12px; \n",
       "                border-radius: 8px;\n",
       "                border-left: 4px solid #856404;\n",
       "                margin: 10px 0;\n",
       "                box-shadow: 0 2px 4px rgba(0,0,0,0.1);\">\n",
       "        <div style=\"font-size: 1.1em; margin-bottom: 6px;\">\n",
       "            💊 <strong>Gen de referencia seleccionado</strong>\n",
       "        </div>\n",
       "        <div style=\"font-size: 0.95em; margin-left: 24px;\">\n",
       "            ILK\n",
       "        </div>\n",
       "    </div>\n",
       "    "
      ],
      "text/plain": [
       "<IPython.core.display.HTML object>"
      ]
     },
     "metadata": {},
     "output_type": "display_data"
    },
    {
     "data": {
      "text/html": [
       "\n",
       "    <div style=\"background-color:#eaf4ea; \n",
       "                color:#2e6637;\n",
       "                padding: 12px; \n",
       "                border-radius: 8px;\n",
       "                border-left: 4px solid #2e6637;\n",
       "                margin: 10px 0;\n",
       "                box-shadow: 0 2px 4px rgba(0,0,0,0.1);\">\n",
       "        <div style=\"font-size: 1.1em; margin-bottom: 6px;\">\n",
       "            🧬 <strong>Cálculo de fold change finalizado 🚀</strong>\n",
       "        </div>\n",
       "        <div style=\"font-size: 0.95em; margin-left: 24px;\">\n",
       "            \n",
       "        </div>\n",
       "    </div>\n",
       "    "
      ],
      "text/plain": [
       "<IPython.core.display.HTML object>"
      ]
     },
     "metadata": {},
     "output_type": "display_data"
    },
    {
     "data": {
      "text/html": [
       "\n",
       "    <div style=\"background-color:#e0f2f1; \n",
       "                color:#00695c;\n",
       "                padding: 12px; \n",
       "                border-radius: 8px;\n",
       "                border-left: 4px solid #00695c;\n",
       "                margin: 10px 0;\n",
       "                box-shadow: 0 2px 4px rgba(0,0,0,0.1);\">\n",
       "        <div style=\"font-size: 1.1em; margin-bottom: 6px;\">\n",
       "            💾 <strong>Archivo exportado</strong>\n",
       "        </div>\n",
       "        <div style=\"font-size: 0.95em; margin-left: 24px;\">\n",
       "            Calculo de fold change.xlsx Calculo de fold change: Archivo que contiene los cálculos realizados y los valores de fold change por método.\n",
       "        </div>\n",
       "    </div>\n",
       "    "
      ],
      "text/plain": [
       "<IPython.core.display.HTML object>"
      ]
     },
     "metadata": {},
     "output_type": "display_data"
    },
    {
     "data": {
      "text/plain": [
       "PosixPath('../resultados/CG-TEM-intestinal_prueba/Cáncer y TEM/gen de referencia/Gastric Cancer/Calculo de fold change.xlsx')"
      ]
     },
     "execution_count": 13,
     "metadata": {},
     "output_type": "execute_result"
    }
   ],
   "source": [
    "from typing import Tuple\n",
    "import pandas as pd\n",
    "\n",
    "def calcular_fold_change(\n",
    "    controles: pd.DataFrame,\n",
    "    muestras: pd.DataFrame\n",
    ") -> Tuple[pd.DataFrame, pd.DataFrame, pd.DataFrame]:\n",
    "    \"\"\"\n",
    "    Calcula el fold change usando los dataframes de controles y muestras.\n",
    "\n",
    "\n",
    "    1. Agrupamos los datos por 'target' y calculamos la media y la desviación estándar (CT).\n",
    "    2. Calculamos los delta CT comparando cada gen con el promedio general.\n",
    "    3. Seleccionamos el gen más estable: el que tiene la menor variabilidad (promedio de desviaciones).\n",
    "    4. Utilizamos este gen de referencia para normalizar y obtener el fold change.\n",
    "    \"\"\"\n",
    "\n",
    "    # Función auxiliar para procesar cada grupo (controles o muestras) 🧪📊\n",
    "    def procesar_grupo(df: pd.DataFrame, grupo: str) -> pd.DataFrame:\n",
    "        # Agrupamos por gen y calculamos estadísticas básicas\n",
    "        stats = df.groupby('target', as_index=False).agg(\n",
    "            ct_promedio=('ct', 'mean'),\n",
    "            ct_std=('ct', 'std')\n",
    "        ).rename(columns={\n",
    "            'ct_promedio': f'ct_promedio_{grupo}',\n",
    "            'ct_std': f'ct_std_{grupo}'\n",
    "        })\n",
    "        return stats\n",
    "\n",
    "    # Procesamos los dataframes de controles y muestras\n",
    "    stats_controles = procesar_grupo(controles, 'controles')\n",
    "    stats_muestras = procesar_grupo(muestras, 'muestras')\n",
    "\n",
    "    # Calculamos el promedio general de CT para cada grupo 📈\n",
    "    stats_controles['promedio_general_controles'] = stats_controles['ct_promedio_controles'].mean()\n",
    "    stats_muestras['promedio_general_muestras'] = stats_muestras['ct_promedio_muestras'].mean()\n",
    "\n",
    "    # Calculamos el delta CT con respecto al promedio general 🧮\n",
    "    stats_controles['delta_ct_promedio_controles'] = stats_controles['ct_promedio_controles'] - stats_controles['promedio_general_controles']\n",
    "    stats_muestras['delta_ct_promedio_muestras'] = stats_muestras['ct_promedio_muestras'] - stats_muestras['promedio_general_muestras']\n",
    "\n",
    "    # Merge inicial de controles y muestras en un solo dataframe 🔀\n",
    "    df_consolidado = pd.merge(\n",
    "        stats_controles,\n",
    "        stats_muestras,\n",
    "        on='target',\n",
    "        how='outer',  # Se mantienen todos los targets 🤝\n",
    "        suffixes=('_controles', '_muestras')\n",
    "    )\n",
    "\n",
    "    # Selección del gen más estable 🔬📉:\n",
    "    # Se define la estabilidad como el promedio de las desviaciones estándar de controles y muestras\n",
    "    df_consolidado['stability'] = (df_consolidado['ct_std_controles'] + df_consolidado['ct_std_muestras']) / 2\n",
    "    gen_mas_estable = df_consolidado.loc[df_consolidado['stability'].idxmin(), 'target']\n",
    "\n",
    "\n",
    "    # Muestra una alerta con el gen de referencia seleccionado 🚨✨\n",
    "    # alert_message debe estar definida en otro lugar con la siguiente estructura:\n",
    "    # def alert_message(text):\n",
    "    #     \"\"\"\n",
    "    #     Muestra un mensaje de alerta.\n",
    "    #\n",
    "    #     Args:\n",
    "    #         text (str): Texto del mensaje.\n",
    "    #     \"\"\"\n",
    "    alert_message(f\"Gen de referencia seleccionado: {gen_mas_estable} \")\n",
    "\n",
    "    # Cálculo del delta CT respecto al gen de referencia (más estable) 🎯\n",
    "    ref_controles = stats_controles.query(\"target == @gen_mas_estable\")['ct_promedio_controles'].values[0]\n",
    "    ref_muestras = stats_muestras.query(\"target == @gen_mas_estable\")['ct_promedio_muestras'].values[0]\n",
    "\n",
    "    stats_controles['delta_ct_gen_ref_controles'] = stats_controles['ct_promedio_controles'] - ref_controles\n",
    "    stats_muestras['delta_ct_gen_ref_muestras'] = stats_muestras['ct_promedio_muestras'] - ref_muestras\n",
    "\n",
    "    # Merge final para incorporar los cálculos de fold change 🔗\n",
    "    df_consolidado = pd.merge(\n",
    "        stats_controles,\n",
    "        stats_muestras,\n",
    "        on='target',\n",
    "        how='outer',\n",
    "        suffixes=('_controles', '_muestras')\n",
    "    )\n",
    "\n",
    "    # Cálculo del fold change utilizando el método del promedio 📊🏎️\n",
    "    df_consolidado['delta_delta_ct_promedio'] = (\n",
    "        df_consolidado['delta_ct_promedio_muestras'] - df_consolidado['delta_ct_promedio_controles']\n",
    "    )\n",
    "    df_consolidado['fold_change_promedio'] = 2 ** (-df_consolidado['delta_delta_ct_promedio'])\n",
    "\n",
    "    # Cálculo del fold change utilizando el método del gen de referencia 🎯🔢\n",
    "    df_consolidado['delta_delta_ct_gen_ref'] = (\n",
    "        df_consolidado['delta_ct_gen_ref_muestras'] - df_consolidado['delta_ct_gen_ref_controles']\n",
    "    )\n",
    "    df_consolidado['fold_change_gen_ref'] = 2 ** (-df_consolidado['delta_delta_ct_gen_ref'])\n",
    "\n",
    "    # Preparación de dataframes especializados para exportar 📑\n",
    "    cols_promedio = ['target'] + [c for c in df_consolidado.columns if 'promedio' in c]\n",
    "    cols_gen_ref = ['target'] + [c for c in df_consolidado.columns if 'gen_ref' in c]\n",
    "\n",
    "    df_promedios = df_consolidado[cols_promedio].copy()\n",
    "    df_promedios.rename(columns={'fold_change_promedio': 'fold_change'}, inplace=True)\n",
    "    df_gen_ref = df_consolidado[cols_gen_ref].copy()\n",
    "    df_gen_ref.rename(columns={'fold_change_gen_ref': 'fold_change'}, inplace=True)\n",
    "\n",
    "    success_message(\"Cálculo de fold change finalizado 🚀\")\n",
    "\n",
    "    return df_consolidado, df_promedios, df_gen_ref, gen_mas_estable\n",
    "\n",
    "\n",
    "# Ejemplo de uso:\n",
    "# Se asume que controles_df y muestras_df ya están definidos\n",
    "df_consolidado, df_promedios, df_gen_ref, gen_referencia= calcular_fold_change(controles_df, muestras_df)\n",
    "\n",
    "# Exportar todos los dataframes a un archivo Excel 📤📊\n",
    "export_dfs_to_excel(\n",
    "    [df_consolidado, df_promedios, df_gen_ref],\n",
    "    ['consolidado_promedios_y_gen_ref', 'fc_metodo_promedios', 'fc_metodo_gen_ref'],\n",
    "    \"Calculo de fold change: Archivo que contiene los cálculos realizados y los valores de fold change por método.\"\n",
    ")\n",
    "\n",
    "\n"
   ]
  },
  {
   "cell_type": "code",
   "execution_count": 14,
   "id": "b6ede03c",
   "metadata": {},
   "outputs": [
    {
     "data": {
      "text/html": [
       "\n",
       "    <div style=\"background-color:#eaf4ea; \n",
       "                color:#2e6637;\n",
       "                padding: 12px; \n",
       "                border-radius: 8px;\n",
       "                border-left: 4px solid #2e6637;\n",
       "                margin: 10px 0;\n",
       "                box-shadow: 0 2px 4px rgba(0,0,0,0.1);\">\n",
       "        <div style=\"font-size: 1.1em; margin-bottom: 6px;\">\n",
       "            🧬 <strong>Gráfico guardado</strong>\n",
       "        </div>\n",
       "        <div style=\"font-size: 0.95em; margin-left: 24px;\">\n",
       "            clustergrama_todos_Gastric Cancer.png\n",
       "        </div>\n",
       "    </div>\n",
       "    "
      ],
      "text/plain": [
       "<IPython.core.display.HTML object>"
      ]
     },
     "metadata": {},
     "output_type": "display_data"
    },
    {
     "data": {
      "application/vnd.plotly.v1+json": {
       "config": {
        "plotlyServerURL": "https://plot.ly"
       },
       "data": [
        {
         "hoverinfo": "text",
         "marker": {
          "color": "rgb(0,116,217)"
         },
         "mode": "lines",
         "type": "scatter",
         "x": [
          35,
          35,
          45,
          45
         ],
         "xaxis": "x",
         "y": [
          0,
          20.567447581068485,
          20.567447581068485,
          0
         ],
         "yaxis": "y"
        },
        {
         "hoverinfo": "text",
         "marker": {
          "color": "rgb(0,116,217)"
         },
         "mode": "lines",
         "type": "scatter",
         "x": [
          25,
          25,
          40,
          40
         ],
         "xaxis": "x",
         "y": [
          0,
          24.390883309781806,
          24.390883309781806,
          20.567447581068485
         ],
         "yaxis": "y"
        },
        {
         "hoverinfo": "text",
         "marker": {
          "color": "rgb(0,116,217)"
         },
         "mode": "lines",
         "type": "scatter",
         "x": [
          15,
          15,
          32.5,
          32.5
         ],
         "xaxis": "x",
         "y": [
          0,
          26.749453000606405,
          26.749453000606405,
          24.390883309781806
         ],
         "yaxis": "y"
        },
        {
         "hoverinfo": "text",
         "marker": {
          "color": "rgb(0,116,217)"
         },
         "mode": "lines",
         "type": "scatter",
         "x": [
          5,
          5,
          23.75,
          23.75
         ],
         "xaxis": "x",
         "y": [
          0,
          28.62468518135609,
          28.62468518135609,
          26.749453000606405
         ],
         "yaxis": "y"
        },
        {
         "hoverinfo": "text",
         "marker": {
          "color": "rgb(61,153,112)"
         },
         "mode": "lines",
         "type": "scatter",
         "x": [
          0,
          -3.0048627256498746,
          -3.0048627256498746,
          0
         ],
         "xaxis": "x3",
         "y": [
          45,
          45,
          55,
          55
         ],
         "yaxis": "y3"
        },
        {
         "hoverinfo": "text",
         "marker": {
          "color": "rgb(61,153,112)"
         },
         "mode": "lines",
         "type": "scatter",
         "x": [
          0,
          -3.5108038490962286,
          -3.5108038490962286,
          -3.0048627256498746
         ],
         "xaxis": "x3",
         "y": [
          35,
          35,
          50,
          50
         ],
         "yaxis": "y3"
        },
        {
         "hoverinfo": "text",
         "marker": {
          "color": "rgb(61,153,112)"
         },
         "mode": "lines",
         "type": "scatter",
         "x": [
          0,
          -4.202936984698375,
          -4.202936984698375,
          -3.5108038490962286
         ],
         "xaxis": "x3",
         "y": [
          25,
          25,
          42.5,
          42.5
         ],
         "yaxis": "y3"
        },
        {
         "hoverinfo": "text",
         "marker": {
          "color": "rgb(61,153,112)"
         },
         "mode": "lines",
         "type": "scatter",
         "x": [
          0,
          -6.23345232660601,
          -6.23345232660601,
          -4.202936984698375
         ],
         "xaxis": "x3",
         "y": [
          15,
          15,
          33.75,
          33.75
         ],
         "yaxis": "y3"
        },
        {
         "hoverinfo": "text",
         "marker": {
          "color": "rgb(61,153,112)"
         },
         "mode": "lines",
         "type": "scatter",
         "x": [
          0,
          -7.025237367149484,
          -7.025237367149484,
          -6.23345232660601
         ],
         "xaxis": "x3",
         "y": [
          5,
          5,
          24.375,
          24.375
         ],
         "yaxis": "y3"
        },
        {
         "hoverinfo": "text",
         "marker": {
          "color": "rgb(61,153,112)"
         },
         "mode": "lines",
         "type": "scatter",
         "x": [
          0,
          -1.919661428481598,
          -1.919661428481598,
          0
         ],
         "xaxis": "x3",
         "y": [
          75,
          75,
          85,
          85
         ],
         "yaxis": "y3"
        },
        {
         "hoverinfo": "text",
         "marker": {
          "color": "rgb(61,153,112)"
         },
         "mode": "lines",
         "type": "scatter",
         "x": [
          0,
          -2.3682271850479193,
          -2.3682271850479193,
          0
         ],
         "xaxis": "x3",
         "y": [
          95,
          95,
          105,
          105
         ],
         "yaxis": "y3"
        },
        {
         "hoverinfo": "text",
         "marker": {
          "color": "rgb(61,153,112)"
         },
         "mode": "lines",
         "type": "scatter",
         "x": [
          -1.919661428481598,
          -3.7717950526581827,
          -3.7717950526581827,
          -2.3682271850479193
         ],
         "xaxis": "x3",
         "y": [
          80,
          80,
          100,
          100
         ],
         "yaxis": "y3"
        },
        {
         "hoverinfo": "text",
         "marker": {
          "color": "rgb(61,153,112)"
         },
         "mode": "lines",
         "type": "scatter",
         "x": [
          0,
          -2.82511946650049,
          -2.82511946650049,
          0
         ],
         "xaxis": "x3",
         "y": [
          125,
          125,
          135,
          135
         ],
         "yaxis": "y3"
        },
        {
         "hoverinfo": "text",
         "marker": {
          "color": "rgb(61,153,112)"
         },
         "mode": "lines",
         "type": "scatter",
         "x": [
          0,
          -4.417905280426323,
          -4.417905280426323,
          -2.82511946650049
         ],
         "xaxis": "x3",
         "y": [
          115,
          115,
          130,
          130
         ],
         "yaxis": "y3"
        },
        {
         "hoverinfo": "text",
         "marker": {
          "color": "rgb(61,153,112)"
         },
         "mode": "lines",
         "type": "scatter",
         "x": [
          -3.7717950526581827,
          -4.801654225887789,
          -4.801654225887789,
          -4.417905280426323
         ],
         "xaxis": "x3",
         "y": [
          90,
          90,
          122.5,
          122.5
         ],
         "yaxis": "y3"
        },
        {
         "hoverinfo": "text",
         "marker": {
          "color": "rgb(61,153,112)"
         },
         "mode": "lines",
         "type": "scatter",
         "x": [
          0,
          -2.1359775279716775,
          -2.1359775279716775,
          0
         ],
         "xaxis": "x3",
         "y": [
          155,
          155,
          165,
          165
         ],
         "yaxis": "y3"
        },
        {
         "hoverinfo": "text",
         "marker": {
          "color": "rgb(61,153,112)"
         },
         "mode": "lines",
         "type": "scatter",
         "x": [
          0,
          -3.5361164342703164,
          -3.5361164342703164,
          -2.1359775279716775
         ],
         "xaxis": "x3",
         "y": [
          145,
          145,
          160,
          160
         ],
         "yaxis": "y3"
        },
        {
         "hoverinfo": "text",
         "marker": {
          "color": "rgb(61,153,112)"
         },
         "mode": "lines",
         "type": "scatter",
         "x": [
          0,
          -2.826941810508313,
          -2.826941810508313,
          0
         ],
         "xaxis": "x3",
         "y": [
          195,
          195,
          205,
          205
         ],
         "yaxis": "y3"
        },
        {
         "hoverinfo": "text",
         "marker": {
          "color": "rgb(61,153,112)"
         },
         "mode": "lines",
         "type": "scatter",
         "x": [
          0,
          -3.5844775308750574,
          -3.5844775308750574,
          -2.826941810508313
         ],
         "xaxis": "x3",
         "y": [
          185,
          185,
          200,
          200
         ],
         "yaxis": "y3"
        },
        {
         "hoverinfo": "text",
         "marker": {
          "color": "rgb(61,153,112)"
         },
         "mode": "lines",
         "type": "scatter",
         "x": [
          0,
          -4.143206653239516,
          -4.143206653239516,
          -3.5844775308750574
         ],
         "xaxis": "x3",
         "y": [
          175,
          175,
          192.5,
          192.5
         ],
         "yaxis": "y3"
        },
        {
         "hoverinfo": "text",
         "marker": {
          "color": "rgb(61,153,112)"
         },
         "mode": "lines",
         "type": "scatter",
         "x": [
          0,
          -1.8736595208308247,
          -1.8736595208308247,
          0
         ],
         "xaxis": "x3",
         "y": [
          215,
          215,
          225,
          225
         ],
         "yaxis": "y3"
        },
        {
         "hoverinfo": "text",
         "marker": {
          "color": "rgb(61,153,112)"
         },
         "mode": "lines",
         "type": "scatter",
         "x": [
          0,
          -1.8315021157508922,
          -1.8315021157508922,
          0
         ],
         "xaxis": "x3",
         "y": [
          235,
          235,
          245,
          245
         ],
         "yaxis": "y3"
        },
        {
         "hoverinfo": "text",
         "marker": {
          "color": "rgb(61,153,112)"
         },
         "mode": "lines",
         "type": "scatter",
         "x": [
          0,
          -1.4970303938130294,
          -1.4970303938130294,
          0
         ],
         "xaxis": "x3",
         "y": [
          275,
          275,
          285,
          285
         ],
         "yaxis": "y3"
        },
        {
         "hoverinfo": "text",
         "marker": {
          "color": "rgb(61,153,112)"
         },
         "mode": "lines",
         "type": "scatter",
         "x": [
          0,
          -1.6365067128937132,
          -1.6365067128937132,
          -1.4970303938130294
         ],
         "xaxis": "x3",
         "y": [
          265,
          265,
          280,
          280
         ],
         "yaxis": "y3"
        },
        {
         "hoverinfo": "text",
         "marker": {
          "color": "rgb(61,153,112)"
         },
         "mode": "lines",
         "type": "scatter",
         "x": [
          0,
          -2.2115070484680217,
          -2.2115070484680217,
          -1.6365067128937132
         ],
         "xaxis": "x3",
         "y": [
          255,
          255,
          272.5,
          272.5
         ],
         "yaxis": "y3"
        },
        {
         "hoverinfo": "text",
         "marker": {
          "color": "rgb(61,153,112)"
         },
         "mode": "lines",
         "type": "scatter",
         "x": [
          -1.8315021157508922,
          -2.6444594893736544,
          -2.6444594893736544,
          -2.2115070484680217
         ],
         "xaxis": "x3",
         "y": [
          240,
          240,
          263.75,
          263.75
         ],
         "yaxis": "y3"
        },
        {
         "hoverinfo": "text",
         "marker": {
          "color": "rgb(61,153,112)"
         },
         "mode": "lines",
         "type": "scatter",
         "x": [
          0,
          -2.0016243403795793,
          -2.0016243403795793,
          0
         ],
         "xaxis": "x3",
         "y": [
          295,
          295,
          305,
          305
         ],
         "yaxis": "y3"
        },
        {
         "hoverinfo": "text",
         "marker": {
          "color": "rgb(61,153,112)"
         },
         "mode": "lines",
         "type": "scatter",
         "x": [
          0,
          -1.237214613557407,
          -1.237214613557407,
          0
         ],
         "xaxis": "x3",
         "y": [
          335,
          335,
          345,
          345
         ],
         "yaxis": "y3"
        },
        {
         "hoverinfo": "text",
         "marker": {
          "color": "rgb(61,153,112)"
         },
         "mode": "lines",
         "type": "scatter",
         "x": [
          0,
          -1.6345771712433566,
          -1.6345771712433566,
          -1.237214613557407
         ],
         "xaxis": "x3",
         "y": [
          325,
          325,
          340,
          340
         ],
         "yaxis": "y3"
        },
        {
         "hoverinfo": "text",
         "marker": {
          "color": "rgb(61,153,112)"
         },
         "mode": "lines",
         "type": "scatter",
         "x": [
          0,
          -2.102680311290425,
          -2.102680311290425,
          -1.6345771712433566
         ],
         "xaxis": "x3",
         "y": [
          315,
          315,
          332.5,
          332.5
         ],
         "yaxis": "y3"
        },
        {
         "hoverinfo": "text",
         "marker": {
          "color": "rgb(61,153,112)"
         },
         "mode": "lines",
         "type": "scatter",
         "x": [
          -2.0016243403795793,
          -2.6655359846209614,
          -2.6655359846209614,
          -2.102680311290425
         ],
         "xaxis": "x3",
         "y": [
          300,
          300,
          323.75,
          323.75
         ],
         "yaxis": "y3"
        },
        {
         "hoverinfo": "text",
         "marker": {
          "color": "rgb(61,153,112)"
         },
         "mode": "lines",
         "type": "scatter",
         "x": [
          -2.6444594893736544,
          -3.0957385598955915,
          -3.0957385598955915,
          -2.6655359846209614
         ],
         "xaxis": "x3",
         "y": [
          251.875,
          251.875,
          311.875,
          311.875
         ],
         "yaxis": "y3"
        },
        {
         "hoverinfo": "text",
         "marker": {
          "color": "rgb(61,153,112)"
         },
         "mode": "lines",
         "type": "scatter",
         "x": [
          -1.8736595208308247,
          -3.50817865882145,
          -3.50817865882145,
          -3.0957385598955915
         ],
         "xaxis": "x3",
         "y": [
          220,
          220,
          281.875,
          281.875
         ],
         "yaxis": "y3"
        },
        {
         "hoverinfo": "text",
         "marker": {
          "color": "rgb(61,153,112)"
         },
         "mode": "lines",
         "type": "scatter",
         "x": [
          0,
          -3.839348903134493,
          -3.839348903134493,
          0
         ],
         "xaxis": "x3",
         "y": [
          355,
          355,
          365,
          365
         ],
         "yaxis": "y3"
        },
        {
         "hoverinfo": "text",
         "marker": {
          "color": "rgb(61,153,112)"
         },
         "mode": "lines",
         "type": "scatter",
         "x": [
          -3.50817865882145,
          -4.533143882115641,
          -4.533143882115641,
          -3.839348903134493
         ],
         "xaxis": "x3",
         "y": [
          250.9375,
          250.9375,
          360,
          360
         ],
         "yaxis": "y3"
        },
        {
         "hoverinfo": "text",
         "marker": {
          "color": "rgb(61,153,112)"
         },
         "mode": "lines",
         "type": "scatter",
         "x": [
          -4.143206653239516,
          -4.831167037161795,
          -4.831167037161795,
          -4.533143882115641
         ],
         "xaxis": "x3",
         "y": [
          183.75,
          183.75,
          305.46875,
          305.46875
         ],
         "yaxis": "y3"
        },
        {
         "hoverinfo": "text",
         "marker": {
          "color": "rgb(61,153,112)"
         },
         "mode": "lines",
         "type": "scatter",
         "x": [
          -3.5361164342703164,
          -5.696166232680507,
          -5.696166232680507,
          -4.831167037161795
         ],
         "xaxis": "x3",
         "y": [
          152.5,
          152.5,
          244.609375,
          244.609375
         ],
         "yaxis": "y3"
        },
        {
         "hoverinfo": "text",
         "marker": {
          "color": "rgb(61,153,112)"
         },
         "mode": "lines",
         "type": "scatter",
         "x": [
          0,
          -2.415160450156469,
          -2.415160450156469,
          0
         ],
         "xaxis": "x3",
         "y": [
          395,
          395,
          405,
          405
         ],
         "yaxis": "y3"
        },
        {
         "hoverinfo": "text",
         "marker": {
          "color": "rgb(61,153,112)"
         },
         "mode": "lines",
         "type": "scatter",
         "x": [
          0,
          -3.045242190696824,
          -3.045242190696824,
          0
         ],
         "xaxis": "x3",
         "y": [
          415,
          415,
          425,
          425
         ],
         "yaxis": "y3"
        },
        {
         "hoverinfo": "text",
         "marker": {
          "color": "rgb(61,153,112)"
         },
         "mode": "lines",
         "type": "scatter",
         "x": [
          -2.415160450156469,
          -4.139006277291754,
          -4.139006277291754,
          -3.045242190696824
         ],
         "xaxis": "x3",
         "y": [
          400,
          400,
          420,
          420
         ],
         "yaxis": "y3"
        },
        {
         "hoverinfo": "text",
         "marker": {
          "color": "rgb(61,153,112)"
         },
         "mode": "lines",
         "type": "scatter",
         "x": [
          0,
          -5.254545118279201,
          -5.254545118279201,
          -4.139006277291754
         ],
         "xaxis": "x3",
         "y": [
          385,
          385,
          410,
          410
         ],
         "yaxis": "y3"
        },
        {
         "hoverinfo": "text",
         "marker": {
          "color": "rgb(61,153,112)"
         },
         "mode": "lines",
         "type": "scatter",
         "x": [
          0,
          -5.9476726073212225,
          -5.9476726073212225,
          -5.254545118279201
         ],
         "xaxis": "x3",
         "y": [
          375,
          375,
          397.5,
          397.5
         ],
         "yaxis": "y3"
        },
        {
         "hoverinfo": "text",
         "marker": {
          "color": "rgb(61,153,112)"
         },
         "mode": "lines",
         "type": "scatter",
         "x": [
          -5.696166232680507,
          -6.535886473229272,
          -6.535886473229272,
          -5.9476726073212225
         ],
         "xaxis": "x3",
         "y": [
          198.5546875,
          198.5546875,
          386.25,
          386.25
         ],
         "yaxis": "y3"
        },
        {
         "hoverinfo": "text",
         "marker": {
          "color": "rgb(61,153,112)"
         },
         "mode": "lines",
         "type": "scatter",
         "x": [
          -4.801654225887789,
          -6.667184349710182,
          -6.667184349710182,
          -6.535886473229272
         ],
         "xaxis": "x3",
         "y": [
          106.25,
          106.25,
          292.40234375,
          292.40234375
         ],
         "yaxis": "y3"
        },
        {
         "hoverinfo": "text",
         "marker": {
          "color": "rgb(61,153,112)"
         },
         "mode": "lines",
         "type": "scatter",
         "x": [
          0,
          -8.072982533682818,
          -8.072982533682818,
          -6.667184349710182
         ],
         "xaxis": "x3",
         "y": [
          65,
          65,
          199.326171875,
          199.326171875
         ],
         "yaxis": "y3"
        },
        {
         "hoverinfo": "text",
         "marker": {
          "color": "rgb(61,153,112)"
         },
         "mode": "lines",
         "type": "scatter",
         "x": [
          -7.025237367149484,
          -9.256285653219518,
          -9.256285653219518,
          -8.072982533682818
         ],
         "xaxis": "x3",
         "y": [
          14.6875,
          14.6875,
          132.1630859375,
          132.1630859375
         ],
         "yaxis": "y3"
        },
        {
         "hoverinfo": "text",
         "marker": {
          "color": "rgb(61,153,112)"
         },
         "mode": "lines",
         "type": "scatter",
         "x": [
          0,
          -1.781909088590099,
          -1.781909088590099,
          0
         ],
         "xaxis": "x3",
         "y": [
          435,
          435,
          445,
          445
         ],
         "yaxis": "y3"
        },
        {
         "hoverinfo": "text",
         "marker": {
          "color": "rgb(61,153,112)"
         },
         "mode": "lines",
         "type": "scatter",
         "x": [
          0,
          -1.327629466379836,
          -1.327629466379836,
          0
         ],
         "xaxis": "x3",
         "y": [
          485,
          485,
          495,
          495
         ],
         "yaxis": "y3"
        },
        {
         "hoverinfo": "text",
         "marker": {
          "color": "rgb(61,153,112)"
         },
         "mode": "lines",
         "type": "scatter",
         "x": [
          0,
          -0.9655568341635828,
          -0.9655568341635828,
          0
         ],
         "xaxis": "x3",
         "y": [
          505,
          505,
          515,
          515
         ],
         "yaxis": "y3"
        },
        {
         "hoverinfo": "text",
         "marker": {
          "color": "rgb(61,153,112)"
         },
         "mode": "lines",
         "type": "scatter",
         "x": [
          0,
          -1.1972468417164441,
          -1.1972468417164441,
          0
         ],
         "xaxis": "x3",
         "y": [
          525,
          525,
          535,
          535
         ],
         "yaxis": "y3"
        },
        {
         "hoverinfo": "text",
         "marker": {
          "color": "rgb(61,153,112)"
         },
         "mode": "lines",
         "type": "scatter",
         "x": [
          -0.9655568341635828,
          -1.3457275797572905,
          -1.3457275797572905,
          -1.1972468417164441
         ],
         "xaxis": "x3",
         "y": [
          510,
          510,
          530,
          530
         ],
         "yaxis": "y3"
        },
        {
         "hoverinfo": "text",
         "marker": {
          "color": "rgb(61,153,112)"
         },
         "mode": "lines",
         "type": "scatter",
         "x": [
          -1.327629466379836,
          -1.9723880031616408,
          -1.9723880031616408,
          -1.3457275797572905
         ],
         "xaxis": "x3",
         "y": [
          490,
          490,
          520,
          520
         ],
         "yaxis": "y3"
        },
        {
         "hoverinfo": "text",
         "marker": {
          "color": "rgb(61,153,112)"
         },
         "mode": "lines",
         "type": "scatter",
         "x": [
          0,
          -2.107887992036545,
          -2.107887992036545,
          -1.9723880031616408
         ],
         "xaxis": "x3",
         "y": [
          475,
          475,
          505,
          505
         ],
         "yaxis": "y3"
        },
        {
         "hoverinfo": "text",
         "marker": {
          "color": "rgb(61,153,112)"
         },
         "mode": "lines",
         "type": "scatter",
         "x": [
          0,
          -2.443378808126158,
          -2.443378808126158,
          0
         ],
         "xaxis": "x3",
         "y": [
          545,
          545,
          555,
          555
         ],
         "yaxis": "y3"
        },
        {
         "hoverinfo": "text",
         "marker": {
          "color": "rgb(61,153,112)"
         },
         "mode": "lines",
         "type": "scatter",
         "x": [
          -2.107887992036545,
          -2.578162700764268,
          -2.578162700764268,
          -2.443378808126158
         ],
         "xaxis": "x3",
         "y": [
          490,
          490,
          550,
          550
         ],
         "yaxis": "y3"
        },
        {
         "hoverinfo": "text",
         "marker": {
          "color": "rgb(61,153,112)"
         },
         "mode": "lines",
         "type": "scatter",
         "x": [
          0,
          -1.5858436240689047,
          -1.5858436240689047,
          0
         ],
         "xaxis": "x3",
         "y": [
          565,
          565,
          575,
          575
         ],
         "yaxis": "y3"
        },
        {
         "hoverinfo": "text",
         "marker": {
          "color": "rgb(61,153,112)"
         },
         "mode": "lines",
         "type": "scatter",
         "x": [
          0,
          -0.7507329751649404,
          -0.7507329751649404,
          0
         ],
         "xaxis": "x3",
         "y": [
          615,
          615,
          625,
          625
         ],
         "yaxis": "y3"
        },
        {
         "hoverinfo": "text",
         "marker": {
          "color": "rgb(61,153,112)"
         },
         "mode": "lines",
         "type": "scatter",
         "x": [
          0,
          -0.9695696333413268,
          -0.9695696333413268,
          -0.7507329751649404
         ],
         "xaxis": "x3",
         "y": [
          605,
          605,
          620,
          620
         ],
         "yaxis": "y3"
        },
        {
         "hoverinfo": "text",
         "marker": {
          "color": "rgb(61,153,112)"
         },
         "mode": "lines",
         "type": "scatter",
         "x": [
          0,
          -0.9893937537704587,
          -0.9893937537704587,
          0
         ],
         "xaxis": "x3",
         "y": [
          635,
          635,
          645,
          645
         ],
         "yaxis": "y3"
        },
        {
         "hoverinfo": "text",
         "marker": {
          "color": "rgb(61,153,112)"
         },
         "mode": "lines",
         "type": "scatter",
         "x": [
          -0.9695696333413268,
          -1.6956210523647943,
          -1.6956210523647943,
          -0.9893937537704587
         ],
         "xaxis": "x3",
         "y": [
          612.5,
          612.5,
          640,
          640
         ],
         "yaxis": "y3"
        },
        {
         "hoverinfo": "text",
         "marker": {
          "color": "rgb(61,153,112)"
         },
         "mode": "lines",
         "type": "scatter",
         "x": [
          0,
          -1.7917941127147405,
          -1.7917941127147405,
          -1.6956210523647943
         ],
         "xaxis": "x3",
         "y": [
          595,
          595,
          626.25,
          626.25
         ],
         "yaxis": "y3"
        },
        {
         "hoverinfo": "text",
         "marker": {
          "color": "rgb(61,153,112)"
         },
         "mode": "lines",
         "type": "scatter",
         "x": [
          0,
          -2.575330086314612,
          -2.575330086314612,
          -1.7917941127147405
         ],
         "xaxis": "x3",
         "y": [
          585,
          585,
          610.625,
          610.625
         ],
         "yaxis": "y3"
        },
        {
         "hoverinfo": "text",
         "marker": {
          "color": "rgb(61,153,112)"
         },
         "mode": "lines",
         "type": "scatter",
         "x": [
          -1.5858436240689047,
          -2.7404515183357523,
          -2.7404515183357523,
          -2.575330086314612
         ],
         "xaxis": "x3",
         "y": [
          570,
          570,
          597.8125,
          597.8125
         ],
         "yaxis": "y3"
        },
        {
         "hoverinfo": "text",
         "marker": {
          "color": "rgb(61,153,112)"
         },
         "mode": "lines",
         "type": "scatter",
         "x": [
          -2.578162700764268,
          -3.6104047459983954,
          -3.6104047459983954,
          -2.7404515183357523
         ],
         "xaxis": "x3",
         "y": [
          520,
          520,
          583.90625,
          583.90625
         ],
         "yaxis": "y3"
        },
        {
         "hoverinfo": "text",
         "marker": {
          "color": "rgb(61,153,112)"
         },
         "mode": "lines",
         "type": "scatter",
         "x": [
          0,
          -1.8855768348173962,
          -1.8855768348173962,
          0
         ],
         "xaxis": "x3",
         "y": [
          665,
          665,
          675,
          675
         ],
         "yaxis": "y3"
        },
        {
         "hoverinfo": "text",
         "marker": {
          "color": "rgb(61,153,112)"
         },
         "mode": "lines",
         "type": "scatter",
         "x": [
          0,
          -0.4701063709417273,
          -0.4701063709417273,
          0
         ],
         "xaxis": "x3",
         "y": [
          695,
          695,
          705,
          705
         ],
         "yaxis": "y3"
        },
        {
         "hoverinfo": "text",
         "marker": {
          "color": "rgb(61,153,112)"
         },
         "mode": "lines",
         "type": "scatter",
         "x": [
          0,
          -1.1086478250553702,
          -1.1086478250553702,
          0
         ],
         "xaxis": "x3",
         "y": [
          715,
          715,
          725,
          725
         ],
         "yaxis": "y3"
        },
        {
         "hoverinfo": "text",
         "marker": {
          "color": "rgb(61,153,112)"
         },
         "mode": "lines",
         "type": "scatter",
         "x": [
          -0.4701063709417273,
          -1.3704489997018894,
          -1.3704489997018894,
          -1.1086478250553702
         ],
         "xaxis": "x3",
         "y": [
          700,
          700,
          720,
          720
         ],
         "yaxis": "y3"
        },
        {
         "hoverinfo": "text",
         "marker": {
          "color": "rgb(61,153,112)"
         },
         "mode": "lines",
         "type": "scatter",
         "x": [
          0,
          -2.4442377263609716,
          -2.4442377263609716,
          -1.3704489997018894
         ],
         "xaxis": "x3",
         "y": [
          685,
          685,
          710,
          710
         ],
         "yaxis": "y3"
        },
        {
         "hoverinfo": "text",
         "marker": {
          "color": "rgb(61,153,112)"
         },
         "mode": "lines",
         "type": "scatter",
         "x": [
          -1.8855768348173962,
          -3.00003416669406,
          -3.00003416669406,
          -2.4442377263609716
         ],
         "xaxis": "x3",
         "y": [
          670,
          670,
          697.5,
          697.5
         ],
         "yaxis": "y3"
        },
        {
         "hoverinfo": "text",
         "marker": {
          "color": "rgb(61,153,112)"
         },
         "mode": "lines",
         "type": "scatter",
         "x": [
          0,
          -3.9803622951935203,
          -3.9803622951935203,
          -3.00003416669406
         ],
         "xaxis": "x3",
         "y": [
          655,
          655,
          683.75,
          683.75
         ],
         "yaxis": "y3"
        },
        {
         "hoverinfo": "text",
         "marker": {
          "color": "rgb(61,153,112)"
         },
         "mode": "lines",
         "type": "scatter",
         "x": [
          -3.6104047459983954,
          -5.38336669873016,
          -5.38336669873016,
          -3.9803622951935203
         ],
         "xaxis": "x3",
         "y": [
          551.953125,
          551.953125,
          669.375,
          669.375
         ],
         "yaxis": "y3"
        },
        {
         "hoverinfo": "text",
         "marker": {
          "color": "rgb(61,153,112)"
         },
         "mode": "lines",
         "type": "scatter",
         "x": [
          0,
          -6.171721171225011,
          -6.171721171225011,
          -5.38336669873016
         ],
         "xaxis": "x3",
         "y": [
          465,
          465,
          610.6640625,
          610.6640625
         ],
         "yaxis": "y3"
        },
        {
         "hoverinfo": "text",
         "marker": {
          "color": "rgb(61,153,112)"
         },
         "mode": "lines",
         "type": "scatter",
         "x": [
          0,
          -6.6763435987322435,
          -6.6763435987322435,
          -6.171721171225011
         ],
         "xaxis": "x3",
         "y": [
          455,
          455,
          537.83203125,
          537.83203125
         ],
         "yaxis": "y3"
        },
        {
         "hoverinfo": "text",
         "marker": {
          "color": "rgb(61,153,112)"
         },
         "mode": "lines",
         "type": "scatter",
         "x": [
          -1.781909088590099,
          -9.571768642611305,
          -9.571768642611305,
          -6.6763435987322435
         ],
         "xaxis": "x3",
         "y": [
          440,
          440,
          496.416015625,
          496.416015625
         ],
         "yaxis": "y3"
        },
        {
         "hoverinfo": "text",
         "marker": {
          "color": "rgb(61,153,112)"
         },
         "mode": "lines",
         "type": "scatter",
         "x": [
          -9.256285653219518,
          -11.448532309914482,
          -11.448532309914482,
          -9.571768642611305
         ],
         "xaxis": "x3",
         "y": [
          73.42529296875,
          73.42529296875,
          468.2080078125,
          468.2080078125
         ],
         "yaxis": "y3"
        },
        {
         "hoverinfo": "text",
         "marker": {
          "color": "rgb(255,65,54)"
         },
         "mode": "lines",
         "type": "scatter",
         "x": [
          0,
          -6.542721146434413,
          -6.542721146434413,
          0
         ],
         "xaxis": "x3",
         "y": [
          735,
          735,
          745,
          745
         ],
         "yaxis": "y3"
        },
        {
         "hoverinfo": "text",
         "marker": {
          "color": "rgb(255,65,54)"
         },
         "mode": "lines",
         "type": "scatter",
         "x": [
          0,
          -3.3545193396372026,
          -3.3545193396372026,
          0
         ],
         "xaxis": "x3",
         "y": [
          775,
          775,
          785,
          785
         ],
         "yaxis": "y3"
        },
        {
         "hoverinfo": "text",
         "marker": {
          "color": "rgb(255,65,54)"
         },
         "mode": "lines",
         "type": "scatter",
         "x": [
          0,
          -5.13879829603845,
          -5.13879829603845,
          -3.3545193396372026
         ],
         "xaxis": "x3",
         "y": [
          765,
          765,
          780,
          780
         ],
         "yaxis": "y3"
        },
        {
         "hoverinfo": "text",
         "marker": {
          "color": "rgb(255,65,54)"
         },
         "mode": "lines",
         "type": "scatter",
         "x": [
          0,
          -3.1134064945008393,
          -3.1134064945008393,
          0
         ],
         "xaxis": "x3",
         "y": [
          805,
          805,
          815,
          815
         ],
         "yaxis": "y3"
        },
        {
         "hoverinfo": "text",
         "marker": {
          "color": "rgb(255,65,54)"
         },
         "mode": "lines",
         "type": "scatter",
         "x": [
          0,
          -3.3229204022967505,
          -3.3229204022967505,
          0
         ],
         "xaxis": "x3",
         "y": [
          835,
          835,
          845,
          845
         ],
         "yaxis": "y3"
        },
        {
         "hoverinfo": "text",
         "marker": {
          "color": "rgb(255,65,54)"
         },
         "mode": "lines",
         "type": "scatter",
         "x": [
          0,
          -4.253701165613288,
          -4.253701165613288,
          -3.3229204022967505
         ],
         "xaxis": "x3",
         "y": [
          825,
          825,
          840,
          840
         ],
         "yaxis": "y3"
        },
        {
         "hoverinfo": "text",
         "marker": {
          "color": "rgb(255,65,54)"
         },
         "mode": "lines",
         "type": "scatter",
         "x": [
          -3.1134064945008393,
          -5.434015132496953,
          -5.434015132496953,
          -4.253701165613288
         ],
         "xaxis": "x3",
         "y": [
          810,
          810,
          832.5,
          832.5
         ],
         "yaxis": "y3"
        },
        {
         "hoverinfo": "text",
         "marker": {
          "color": "rgb(255,65,54)"
         },
         "mode": "lines",
         "type": "scatter",
         "x": [
          0,
          -5.733709578369277,
          -5.733709578369277,
          -5.434015132496953
         ],
         "xaxis": "x3",
         "y": [
          795,
          795,
          821.25,
          821.25
         ],
         "yaxis": "y3"
        },
        {
         "hoverinfo": "text",
         "marker": {
          "color": "rgb(255,65,54)"
         },
         "mode": "lines",
         "type": "scatter",
         "x": [
          -5.13879829603845,
          -6.047259270163465,
          -6.047259270163465,
          -5.733709578369277
         ],
         "xaxis": "x3",
         "y": [
          772.5,
          772.5,
          808.125,
          808.125
         ],
         "yaxis": "y3"
        },
        {
         "hoverinfo": "text",
         "marker": {
          "color": "rgb(255,65,54)"
         },
         "mode": "lines",
         "type": "scatter",
         "x": [
          0,
          -7.772459309555269,
          -7.772459309555269,
          -6.047259270163465
         ],
         "xaxis": "x3",
         "y": [
          755,
          755,
          790.3125,
          790.3125
         ],
         "yaxis": "y3"
        },
        {
         "hoverinfo": "text",
         "marker": {
          "color": "rgb(255,65,54)"
         },
         "mode": "lines",
         "type": "scatter",
         "x": [
          -6.542721146434413,
          -9.31122245278937,
          -9.31122245278937,
          -7.772459309555269
         ],
         "xaxis": "x3",
         "y": [
          740,
          740,
          772.65625,
          772.65625
         ],
         "yaxis": "y3"
        },
        {
         "hoverinfo": "text",
         "marker": {
          "color": "rgb(255,65,54)"
         },
         "mode": "lines",
         "type": "scatter",
         "x": [
          0,
          -7.6667724630381455,
          -7.6667724630381455,
          0
         ],
         "xaxis": "x3",
         "y": [
          865,
          865,
          875,
          875
         ],
         "yaxis": "y3"
        },
        {
         "hoverinfo": "text",
         "marker": {
          "color": "rgb(255,65,54)"
         },
         "mode": "lines",
         "type": "scatter",
         "x": [
          0,
          -10.329974851492313,
          -10.329974851492313,
          -7.6667724630381455
         ],
         "xaxis": "x3",
         "y": [
          855,
          855,
          870,
          870
         ],
         "yaxis": "y3"
        },
        {
         "hoverinfo": "text",
         "marker": {
          "color": "rgb(255,65,54)"
         },
         "mode": "lines",
         "type": "scatter",
         "x": [
          -9.31122245278937,
          -11.618057928789879,
          -11.618057928789879,
          -10.329974851492313
         ],
         "xaxis": "x3",
         "y": [
          756.328125,
          756.328125,
          862.5,
          862.5
         ],
         "yaxis": "y3"
        },
        {
         "hoverinfo": "text",
         "marker": {
          "color": "rgb(0,116,217)"
         },
         "mode": "lines",
         "type": "scatter",
         "x": [
          -11.448532309914482,
          -16.722793236493732,
          -16.722793236493732,
          -11.618057928789879
         ],
         "xaxis": "x3",
         "y": [
          270.816650390625,
          270.816650390625,
          809.4140625,
          809.4140625
         ],
         "yaxis": "y3"
        },
        {
         "colorbar": {
          "title": {
           "text": "log2(Exp. Rel. vs ILK)"
          }
         },
         "colorscale": [
          [
           0,
           "#2c7bb6"
          ],
          [
           0.5,
           "#ffffb2"
          ],
          [
           1,
           "#d7191c"
          ]
         ],
         "showscale": true,
         "type": "heatmap",
         "x": [
          "3CG008",
          "3CG129",
          "4GB001",
          "3CG128",
          "4GB031"
         ],
         "xaxis": "x2",
         "y": [
          "SERPINE1",
          "CAMK2N1",
          "PTK2",
          "TCF4",
          "MMP9",
          "ZEB2",
          "ACTB",
          "FN1",
          "MMP2",
          "BMP7",
          "TCF3",
          "WNT11",
          "KRT7",
          "SPARC",
          "COL3A1",
          "GNG11",
          "GSK3B",
          "HPRT1",
          "ESR1",
          "CDH2",
          "ITGAV",
          "PDGFRB",
          "TIMP1",
          "SNAI2",
          "VPS13A",
          "NODAL",
          "DSP",
          "NUDT13",
          "WNT5A",
          "CALD1",
          "IGFBP4",
          "SIP1",
          "CTNNB1",
          "PLEK2",
          "SMAD2",
          "ERBB3",
          "ZEB1",
          "BMP1",
          "SNAI3",
          "RAC1",
          "TGFB3",
          "SNAI1",
          "STAT3",
          "AKT1",
          "MST1R",
          "TFPI2",
          "B2M",
          "COL1A2",
          "BMP2",
          "COL5A2",
          "TMEM132A",
          "TSPAN13",
          "CDH1",
          "IL1RN",
          "FOXC2",
          "TMEFF1",
          "SOX10",
          "TWIST1",
          "ITGA5",
          "OCLN",
          "MAP1B",
          "SPP1",
          "WNT5B",
          "F11R",
          "KRT19",
          "RPLP0",
          "DSC2",
          "TGFB2",
          "MSN",
          "EGFR",
          "FZD7",
          "MMP3",
          "RGS2",
          "GAPDH",
          "GSC",
          "VIM",
          "NOTCH1",
          "ITGB1",
          "TGFB1",
          "PTP4A1",
          "CAV2",
          "FGFBP1",
          "JAG1",
          "HGDC",
          "STEAP1",
          "PPPDE2",
          "KRT14",
          "VCAN"
         ],
         "yaxis": "y2",
         "z": [
          [
           5.899999999999999,
           6.32,
           0,
           9.060000000000002,
           0
          ],
          [
           6.189999999999998,
           5.960000000000001,
           2.5600000000000023,
           8.86,
           8.149999999999999
          ],
          [
           9.439999999999998,
           6.18,
           1.3599999999999994,
           6.68,
           2.049999999999997
          ],
          [
           10.29,
           6.210000000000001,
           0,
           7.839999999999996,
           5.859999999999999
          ],
          [
           8.61,
           3.299999999999997,
           0.14000000000000057,
           7.649999999999999,
           4.310000000000002
          ],
          [
           10.689999999999998,
           3.75,
           1.7700000000000031,
           6.700000000000003,
           5.280000000000001
          ],
          [
           9.689999999999998,
           1.5399999999999991,
           9.670000000000002,
           11,
           9.18
          ],
          [
           6.829999999999998,
           3.479999999999997,
           8.450000000000003,
           5.619999999999997,
           8.939999999999998
          ],
          [
           7.229999999999997,
           4.600000000000001,
           8.119999999999997,
           7.089999999999996,
           8.909999999999997
          ],
          [
           6.259999999999998,
           6.359999999999999,
           6.350000000000001,
           6.329999999999998,
           6.380000000000003
          ],
          [
           7.119999999999997,
           6.939999999999998,
           8.25,
           6.57,
           7.310000000000002
          ],
          [
           5.960000000000001,
           2.8100000000000023,
           4.600000000000001,
           4.600000000000001,
           8.18
          ],
          [
           7.939999999999998,
           4.07,
           6.670000000000002,
           3.8900000000000006,
           6.310000000000002
          ],
          [
           9.149999999999999,
           5.43,
           4.909999999999997,
           4.409999999999997,
           5.170000000000002
          ],
          [
           7.380000000000003,
           4.210000000000001,
           11.75,
           9.829999999999998,
           10.5
          ],
          [
           7.829999999999998,
           7.339999999999996,
           11.869999999999997,
           9.93,
           10.810000000000002
          ],
          [
           9.030000000000001,
           7.420000000000002,
           10.950000000000003,
           10.07,
           9.310000000000002
          ],
          [
           11.39,
           4.710000000000001,
           6.909999999999997,
           7.399999999999999,
           8.86
          ],
          [
           9.700000000000003,
           5.530000000000001,
           8.990000000000002,
           6.700000000000003,
           5.100000000000001
          ],
          [
           10.509999999999998,
           5.159999999999997,
           7.07,
           9.880000000000003,
           6.93
          ],
          [
           10.380000000000003,
           7.170000000000002,
           7.579999999999998,
           8.490000000000002,
           5.609999999999999
          ],
          [
           10.170000000000002,
           9.939999999999998,
           6.390000000000001,
           9.219999999999999,
           8.649999999999999
          ],
          [
           9.839999999999996,
           10.200000000000003,
           6.899999999999999,
           8.46,
           10.229999999999997
          ],
          [
           9.14,
           8.43,
           9.310000000000002,
           6.960000000000001,
           7.409999999999997
          ],
          [
           9.030000000000001,
           7.560000000000002,
           9.89,
           8.329999999999998,
           8.020000000000003
          ],
          [
           10.21,
           8.759999999999998,
           9.54,
           10.04,
           8.280000000000001
          ],
          [
           8.060000000000002,
           8.560000000000002,
           9.380000000000003,
           9.020000000000003,
           8.93
          ],
          [
           9.560000000000002,
           8.490000000000002,
           9.089999999999996,
           8.839999999999996,
           9.259999999999998
          ],
          [
           8.82,
           7.960000000000001,
           8.200000000000003,
           9.619999999999997,
           9.369999999999997
          ],
          [
           11.589999999999996,
           8.200000000000003,
           8.159999999999997,
           9.18,
           8.14
          ],
          [
           12.07,
           7.420000000000002,
           7.539999999999999,
           7.700000000000003,
           8.909999999999997
          ],
          [
           8.899999999999999,
           7.839999999999996,
           6.850000000000001,
           7.219999999999999,
           7.640000000000001
          ],
          [
           10.020000000000003,
           7.200000000000003,
           7.589999999999996,
           8.170000000000002,
           7.810000000000002
          ],
          [
           9.950000000000003,
           8.009999999999998,
           7.850000000000001,
           8.170000000000002,
           8.939999999999998
          ],
          [
           9.839999999999996,
           7.890000000000001,
           6.780000000000001,
           8.700000000000003,
           9.219999999999999
          ],
          [
           6.799999999999997,
           10.670000000000002,
           7.109999999999999,
           9.11,
           6.380000000000003
          ],
          [
           7.700000000000003,
           10.089999999999996,
           8.920000000000002,
           10.770000000000003,
           9.130000000000003
          ],
          [
           11.310000000000002,
           11.829999999999998,
           6.159999999999997,
           9.86,
           4.670000000000002
          ],
          [
           6.509999999999998,
           8.979999999999997,
           3.3999999999999986,
           8.469999999999999,
           2.8999999999999986
          ],
          [
           10.240000000000002,
           9.270000000000003,
           6.219999999999999,
           7.359999999999999,
           6.75
          ],
          [
           9.18,
           9.439999999999998,
           6.200000000000003,
           5.210000000000001,
           6.509999999999998
          ],
          [
           8.64,
           7.119999999999997,
           3.270000000000003,
           6.670000000000002,
           6.469999999999999
          ],
          [
           9.479999999999997,
           7.509999999999998,
           4.219999999999999,
           7.289999999999999,
           3.799999999999997
          ],
          [
           16.4,
           16.05,
           15.759999999999998,
           16.11,
           16.3
          ],
          [
           15.73,
           16.66,
           16.81,
           15.969999999999999,
           15.190000000000001
          ],
          [
           13.14,
           9.829999999999998,
           17.04,
           12.520000000000003,
           10.619999999999997
          ],
          [
           14.120000000000001,
           15.5,
           8.11,
           11.490000000000002,
           10.96
          ],
          [
           12.670000000000002,
           12.089999999999996,
           10.780000000000001,
           12.670000000000002,
           12.490000000000002
          ],
          [
           12.020000000000003,
           11.57,
           12.369999999999997,
           12.159999999999997,
           12.079999999999998
          ],
          [
           11.729999999999997,
           12.060000000000002,
           12.969999999999999,
           12.439999999999998,
           13.079999999999998
          ],
          [
           13.379999999999999,
           11.14,
           11.990000000000002,
           11.630000000000003,
           11.380000000000003
          ],
          [
           13.079999999999998,
           11.950000000000003,
           11.780000000000001,
           11.979999999999997,
           11.520000000000003
          ],
          [
           12.420000000000002,
           12.579999999999998,
           12.189999999999998,
           11.61,
           11.600000000000001
          ],
          [
           12.200000000000003,
           11.649999999999999,
           11.93,
           11.549999999999997,
           10.93
          ],
          [
           12.920000000000002,
           11.600000000000001,
           10.259999999999998,
           10.850000000000001,
           11.049999999999997
          ],
          [
           12.61,
           9.740000000000002,
           10.939999999999998,
           12.130000000000003,
           11.61
          ],
          [
           14.940000000000001,
           13.600000000000001,
           13.93,
           13.05,
           13.919999999999998
          ],
          [
           14.669999999999998,
           13.280000000000001,
           14.29,
           14.469999999999999,
           14.36
          ],
          [
           13.579999999999998,
           14.39,
           11.54,
           13.95,
           12.25
          ],
          [
           14.61,
           13.620000000000001,
           12.700000000000003,
           13.649999999999999,
           12.920000000000002
          ],
          [
           13,
           13.02,
           13.149999999999999,
           13.07,
           12.989999999999998
          ],
          [
           13.509999999999998,
           12.68,
           13.329999999999998,
           12.549999999999997,
           12.940000000000001
          ],
          [
           13.91,
           13.030000000000001,
           13.259999999999998,
           12.740000000000002,
           12.450000000000003
          ],
          [
           14.02,
           12.350000000000001,
           12.11,
           12.329999999999998,
           12.79
          ],
          [
           14.95,
           12.579999999999998,
           12.32,
           12.46,
           12.799999999999997
          ],
          [
           11.839999999999996,
           11.719999999999999,
           8.869999999999997,
           8.5,
           8.009999999999998
          ],
          [
           11.780000000000001,
           9.29,
           9.759999999999998,
           8.810000000000002,
           10.829999999999998
          ],
          [
           13.239999999999998,
           9.659999999999997,
           10.630000000000003,
           9.509999999999998,
           10.630000000000003
          ],
          [
           10.119999999999997,
           12.329999999999998,
           11.270000000000003,
           9.380000000000003,
           9.700000000000003
          ],
          [
           10.469999999999999,
           10.600000000000001,
           10.36,
           9.759999999999998,
           10.36
          ],
          [
           10.75,
           10.380000000000003,
           10.530000000000001,
           9.979999999999997,
           10.490000000000002
          ],
          [
           10.850000000000001,
           10.369999999999997,
           10.75,
           11.089999999999996,
           10.869999999999997
          ],
          [
           10.86,
           10.75,
           11.560000000000002,
           10.549999999999997,
           10.5
          ],
          [
           0,
           0,
           9.280000000000001,
           2.020000000000003,
           0
          ],
          [
           4.310000000000002,
           4.310000000000002,
           9.149999999999999,
           1.6799999999999997,
           2.3500000000000014
          ],
          [
           0,
           0,
           0,
           0,
           0
          ],
          [
           4.979999999999997,
           0.9799999999999969,
           0.36999999999999744,
           4.82,
           0
          ],
          [
           4.829999999999998,
           1.9299999999999997,
           3.1700000000000017,
           3.8800000000000026,
           2.8399999999999963
          ],
          [
           7.289999999999999,
           3.740000000000002,
           2.700000000000003,
           3.3900000000000006,
           4.049999999999997
          ],
          [
           5.82,
           0.1599999999999966,
           0.740000000000002,
           0.07000000000000028,
           4.530000000000001
          ],
          [
           5.009999999999998,
           0,
           4.5,
           0,
           0
          ],
          [
           6.859999999999999,
           0,
           6.18,
           0.7000000000000028,
           1.7199999999999989
          ],
          [
           5.039999999999999,
           4.170000000000002,
           0,
           0,
           0
          ],
          [
           7.859999999999999,
           2.5700000000000003,
           2.4099999999999966,
           0,
           0
          ],
          [
           6.259999999999998,
           0,
           1.0399999999999991,
           0,
           0
          ],
          [
           0,
           8.75,
           0.7100000000000009,
           0,
           0
          ],
          [
           1.5600000000000023,
           11.380000000000003,
           7.119999999999997,
           2.8100000000000023,
           6.909999999999997
          ],
          [
           4.719999999999999,
           7.759999999999998,
           1.8200000000000003,
           1.0600000000000023,
           9.04
          ]
         ],
         "zmid": 0
        }
       ],
       "layout": {
        "height": 3520,
        "showlegend": false,
        "template": {
         "data": {
          "bar": [
           {
            "error_x": {
             "color": "#2a3f5f"
            },
            "error_y": {
             "color": "#2a3f5f"
            },
            "marker": {
             "line": {
              "color": "#E5ECF6",
              "width": 0.5
             },
             "pattern": {
              "fillmode": "overlay",
              "size": 10,
              "solidity": 0.2
             }
            },
            "type": "bar"
           }
          ],
          "barpolar": [
           {
            "marker": {
             "line": {
              "color": "#E5ECF6",
              "width": 0.5
             },
             "pattern": {
              "fillmode": "overlay",
              "size": 10,
              "solidity": 0.2
             }
            },
            "type": "barpolar"
           }
          ],
          "carpet": [
           {
            "aaxis": {
             "endlinecolor": "#2a3f5f",
             "gridcolor": "white",
             "linecolor": "white",
             "minorgridcolor": "white",
             "startlinecolor": "#2a3f5f"
            },
            "baxis": {
             "endlinecolor": "#2a3f5f",
             "gridcolor": "white",
             "linecolor": "white",
             "minorgridcolor": "white",
             "startlinecolor": "#2a3f5f"
            },
            "type": "carpet"
           }
          ],
          "choropleth": [
           {
            "colorbar": {
             "outlinewidth": 0,
             "ticks": ""
            },
            "type": "choropleth"
           }
          ],
          "contour": [
           {
            "colorbar": {
             "outlinewidth": 0,
             "ticks": ""
            },
            "colorscale": [
             [
              0,
              "#0d0887"
             ],
             [
              0.1111111111111111,
              "#46039f"
             ],
             [
              0.2222222222222222,
              "#7201a8"
             ],
             [
              0.3333333333333333,
              "#9c179e"
             ],
             [
              0.4444444444444444,
              "#bd3786"
             ],
             [
              0.5555555555555556,
              "#d8576b"
             ],
             [
              0.6666666666666666,
              "#ed7953"
             ],
             [
              0.7777777777777778,
              "#fb9f3a"
             ],
             [
              0.8888888888888888,
              "#fdca26"
             ],
             [
              1,
              "#f0f921"
             ]
            ],
            "type": "contour"
           }
          ],
          "contourcarpet": [
           {
            "colorbar": {
             "outlinewidth": 0,
             "ticks": ""
            },
            "type": "contourcarpet"
           }
          ],
          "heatmap": [
           {
            "colorbar": {
             "outlinewidth": 0,
             "ticks": ""
            },
            "colorscale": [
             [
              0,
              "#0d0887"
             ],
             [
              0.1111111111111111,
              "#46039f"
             ],
             [
              0.2222222222222222,
              "#7201a8"
             ],
             [
              0.3333333333333333,
              "#9c179e"
             ],
             [
              0.4444444444444444,
              "#bd3786"
             ],
             [
              0.5555555555555556,
              "#d8576b"
             ],
             [
              0.6666666666666666,
              "#ed7953"
             ],
             [
              0.7777777777777778,
              "#fb9f3a"
             ],
             [
              0.8888888888888888,
              "#fdca26"
             ],
             [
              1,
              "#f0f921"
             ]
            ],
            "type": "heatmap"
           }
          ],
          "heatmapgl": [
           {
            "colorbar": {
             "outlinewidth": 0,
             "ticks": ""
            },
            "colorscale": [
             [
              0,
              "#0d0887"
             ],
             [
              0.1111111111111111,
              "#46039f"
             ],
             [
              0.2222222222222222,
              "#7201a8"
             ],
             [
              0.3333333333333333,
              "#9c179e"
             ],
             [
              0.4444444444444444,
              "#bd3786"
             ],
             [
              0.5555555555555556,
              "#d8576b"
             ],
             [
              0.6666666666666666,
              "#ed7953"
             ],
             [
              0.7777777777777778,
              "#fb9f3a"
             ],
             [
              0.8888888888888888,
              "#fdca26"
             ],
             [
              1,
              "#f0f921"
             ]
            ],
            "type": "heatmapgl"
           }
          ],
          "histogram": [
           {
            "marker": {
             "pattern": {
              "fillmode": "overlay",
              "size": 10,
              "solidity": 0.2
             }
            },
            "type": "histogram"
           }
          ],
          "histogram2d": [
           {
            "colorbar": {
             "outlinewidth": 0,
             "ticks": ""
            },
            "colorscale": [
             [
              0,
              "#0d0887"
             ],
             [
              0.1111111111111111,
              "#46039f"
             ],
             [
              0.2222222222222222,
              "#7201a8"
             ],
             [
              0.3333333333333333,
              "#9c179e"
             ],
             [
              0.4444444444444444,
              "#bd3786"
             ],
             [
              0.5555555555555556,
              "#d8576b"
             ],
             [
              0.6666666666666666,
              "#ed7953"
             ],
             [
              0.7777777777777778,
              "#fb9f3a"
             ],
             [
              0.8888888888888888,
              "#fdca26"
             ],
             [
              1,
              "#f0f921"
             ]
            ],
            "type": "histogram2d"
           }
          ],
          "histogram2dcontour": [
           {
            "colorbar": {
             "outlinewidth": 0,
             "ticks": ""
            },
            "colorscale": [
             [
              0,
              "#0d0887"
             ],
             [
              0.1111111111111111,
              "#46039f"
             ],
             [
              0.2222222222222222,
              "#7201a8"
             ],
             [
              0.3333333333333333,
              "#9c179e"
             ],
             [
              0.4444444444444444,
              "#bd3786"
             ],
             [
              0.5555555555555556,
              "#d8576b"
             ],
             [
              0.6666666666666666,
              "#ed7953"
             ],
             [
              0.7777777777777778,
              "#fb9f3a"
             ],
             [
              0.8888888888888888,
              "#fdca26"
             ],
             [
              1,
              "#f0f921"
             ]
            ],
            "type": "histogram2dcontour"
           }
          ],
          "mesh3d": [
           {
            "colorbar": {
             "outlinewidth": 0,
             "ticks": ""
            },
            "type": "mesh3d"
           }
          ],
          "parcoords": [
           {
            "line": {
             "colorbar": {
              "outlinewidth": 0,
              "ticks": ""
             }
            },
            "type": "parcoords"
           }
          ],
          "pie": [
           {
            "automargin": true,
            "type": "pie"
           }
          ],
          "scatter": [
           {
            "fillpattern": {
             "fillmode": "overlay",
             "size": 10,
             "solidity": 0.2
            },
            "type": "scatter"
           }
          ],
          "scatter3d": [
           {
            "line": {
             "colorbar": {
              "outlinewidth": 0,
              "ticks": ""
             }
            },
            "marker": {
             "colorbar": {
              "outlinewidth": 0,
              "ticks": ""
             }
            },
            "type": "scatter3d"
           }
          ],
          "scattercarpet": [
           {
            "marker": {
             "colorbar": {
              "outlinewidth": 0,
              "ticks": ""
             }
            },
            "type": "scattercarpet"
           }
          ],
          "scattergeo": [
           {
            "marker": {
             "colorbar": {
              "outlinewidth": 0,
              "ticks": ""
             }
            },
            "type": "scattergeo"
           }
          ],
          "scattergl": [
           {
            "marker": {
             "colorbar": {
              "outlinewidth": 0,
              "ticks": ""
             }
            },
            "type": "scattergl"
           }
          ],
          "scattermapbox": [
           {
            "marker": {
             "colorbar": {
              "outlinewidth": 0,
              "ticks": ""
             }
            },
            "type": "scattermapbox"
           }
          ],
          "scatterpolar": [
           {
            "marker": {
             "colorbar": {
              "outlinewidth": 0,
              "ticks": ""
             }
            },
            "type": "scatterpolar"
           }
          ],
          "scatterpolargl": [
           {
            "marker": {
             "colorbar": {
              "outlinewidth": 0,
              "ticks": ""
             }
            },
            "type": "scatterpolargl"
           }
          ],
          "scatterternary": [
           {
            "marker": {
             "colorbar": {
              "outlinewidth": 0,
              "ticks": ""
             }
            },
            "type": "scatterternary"
           }
          ],
          "surface": [
           {
            "colorbar": {
             "outlinewidth": 0,
             "ticks": ""
            },
            "colorscale": [
             [
              0,
              "#0d0887"
             ],
             [
              0.1111111111111111,
              "#46039f"
             ],
             [
              0.2222222222222222,
              "#7201a8"
             ],
             [
              0.3333333333333333,
              "#9c179e"
             ],
             [
              0.4444444444444444,
              "#bd3786"
             ],
             [
              0.5555555555555556,
              "#d8576b"
             ],
             [
              0.6666666666666666,
              "#ed7953"
             ],
             [
              0.7777777777777778,
              "#fb9f3a"
             ],
             [
              0.8888888888888888,
              "#fdca26"
             ],
             [
              1,
              "#f0f921"
             ]
            ],
            "type": "surface"
           }
          ],
          "table": [
           {
            "cells": {
             "fill": {
              "color": "#EBF0F8"
             },
             "line": {
              "color": "white"
             }
            },
            "header": {
             "fill": {
              "color": "#C8D4E3"
             },
             "line": {
              "color": "white"
             }
            },
            "type": "table"
           }
          ]
         },
         "layout": {
          "annotationdefaults": {
           "arrowcolor": "#2a3f5f",
           "arrowhead": 0,
           "arrowwidth": 1
          },
          "autotypenumbers": "strict",
          "coloraxis": {
           "colorbar": {
            "outlinewidth": 0,
            "ticks": ""
           }
          },
          "colorscale": {
           "diverging": [
            [
             0,
             "#8e0152"
            ],
            [
             0.1,
             "#c51b7d"
            ],
            [
             0.2,
             "#de77ae"
            ],
            [
             0.3,
             "#f1b6da"
            ],
            [
             0.4,
             "#fde0ef"
            ],
            [
             0.5,
             "#f7f7f7"
            ],
            [
             0.6,
             "#e6f5d0"
            ],
            [
             0.7,
             "#b8e186"
            ],
            [
             0.8,
             "#7fbc41"
            ],
            [
             0.9,
             "#4d9221"
            ],
            [
             1,
             "#276419"
            ]
           ],
           "sequential": [
            [
             0,
             "#0d0887"
            ],
            [
             0.1111111111111111,
             "#46039f"
            ],
            [
             0.2222222222222222,
             "#7201a8"
            ],
            [
             0.3333333333333333,
             "#9c179e"
            ],
            [
             0.4444444444444444,
             "#bd3786"
            ],
            [
             0.5555555555555556,
             "#d8576b"
            ],
            [
             0.6666666666666666,
             "#ed7953"
            ],
            [
             0.7777777777777778,
             "#fb9f3a"
            ],
            [
             0.8888888888888888,
             "#fdca26"
            ],
            [
             1,
             "#f0f921"
            ]
           ],
           "sequentialminus": [
            [
             0,
             "#0d0887"
            ],
            [
             0.1111111111111111,
             "#46039f"
            ],
            [
             0.2222222222222222,
             "#7201a8"
            ],
            [
             0.3333333333333333,
             "#9c179e"
            ],
            [
             0.4444444444444444,
             "#bd3786"
            ],
            [
             0.5555555555555556,
             "#d8576b"
            ],
            [
             0.6666666666666666,
             "#ed7953"
            ],
            [
             0.7777777777777778,
             "#fb9f3a"
            ],
            [
             0.8888888888888888,
             "#fdca26"
            ],
            [
             1,
             "#f0f921"
            ]
           ]
          },
          "colorway": [
           "#636efa",
           "#EF553B",
           "#00cc96",
           "#ab63fa",
           "#FFA15A",
           "#19d3f3",
           "#FF6692",
           "#B6E880",
           "#FF97FF",
           "#FECB52"
          ],
          "font": {
           "color": "#2a3f5f"
          },
          "geo": {
           "bgcolor": "white",
           "lakecolor": "white",
           "landcolor": "#E5ECF6",
           "showlakes": true,
           "showland": true,
           "subunitcolor": "white"
          },
          "hoverlabel": {
           "align": "left"
          },
          "hovermode": "closest",
          "mapbox": {
           "style": "light"
          },
          "paper_bgcolor": "white",
          "plot_bgcolor": "#E5ECF6",
          "polar": {
           "angularaxis": {
            "gridcolor": "white",
            "linecolor": "white",
            "ticks": ""
           },
           "bgcolor": "#E5ECF6",
           "radialaxis": {
            "gridcolor": "white",
            "linecolor": "white",
            "ticks": ""
           }
          },
          "scene": {
           "xaxis": {
            "backgroundcolor": "#E5ECF6",
            "gridcolor": "white",
            "gridwidth": 2,
            "linecolor": "white",
            "showbackground": true,
            "ticks": "",
            "zerolinecolor": "white"
           },
           "yaxis": {
            "backgroundcolor": "#E5ECF6",
            "gridcolor": "white",
            "gridwidth": 2,
            "linecolor": "white",
            "showbackground": true,
            "ticks": "",
            "zerolinecolor": "white"
           },
           "zaxis": {
            "backgroundcolor": "#E5ECF6",
            "gridcolor": "white",
            "gridwidth": 2,
            "linecolor": "white",
            "showbackground": true,
            "ticks": "",
            "zerolinecolor": "white"
           }
          },
          "shapedefaults": {
           "line": {
            "color": "#2a3f5f"
           }
          },
          "ternary": {
           "aaxis": {
            "gridcolor": "white",
            "linecolor": "white",
            "ticks": ""
           },
           "baxis": {
            "gridcolor": "white",
            "linecolor": "white",
            "ticks": ""
           },
           "bgcolor": "#E5ECF6",
           "caxis": {
            "gridcolor": "white",
            "linecolor": "white",
            "ticks": ""
           }
          },
          "title": {
           "x": 0.05
          },
          "xaxis": {
           "automargin": true,
           "gridcolor": "white",
           "linecolor": "white",
           "ticks": "",
           "title": {
            "standoff": 15
           },
           "zerolinecolor": "white",
           "zerolinewidth": 2
          },
          "yaxis": {
           "automargin": true,
           "gridcolor": "white",
           "linecolor": "white",
           "ticks": "",
           "title": {
            "standoff": 15
           },
           "zerolinecolor": "white",
           "zerolinewidth": 2
          }
         }
        },
        "title": {
         "text": "Expresión de Todos los Genes en Gastric Cancer con Dendrograma (Normalizado vs ILK)"
        },
        "width": 1000,
        "xaxis": {
         "anchor": "y",
         "domain": [
          0,
          1
         ],
         "showticklabels": false
        },
        "xaxis2": {
         "anchor": "y2",
         "domain": [
          0,
          0.784
         ],
         "showticklabels": true,
         "title": {
          "text": "Tests"
         }
        },
        "xaxis3": {
         "anchor": "y3",
         "domain": [
          0.804,
          1
         ]
        },
        "yaxis": {
         "anchor": "x",
         "domain": [
          0.9109090909090909,
          1
         ]
        },
        "yaxis2": {
         "anchor": "x2",
         "domain": [
          0,
          0.8909090909090909
         ],
         "showticklabels": true,
         "title": {
          "text": "Genes"
         }
        },
        "yaxis3": {
         "anchor": "x3",
         "domain": [
          0,
          0.8909090909090909
         ],
         "matches": "y2",
         "showticklabels": false
        }
       }
      }
     },
     "metadata": {},
     "output_type": "display_data"
    }
   ],
   "source": [
    "import pandas as pd\n",
    "import plotly.express as px\n",
    "import plotly.figure_factory as ff\n",
    "import plotly.graph_objects as go\n",
    "from plotly.subplots import make_subplots\n",
    "from scipy.cluster.hierarchy import linkage\n",
    "\n",
    "\n",
    "df_total = pd.concat([controles_df, muestras_df])\n",
    "\n",
    "# ------------------------------\n",
    "# 3. Normalización de datos según el método elegido\n",
    "# ------------------------------\n",
    "if metodo_elegido == \"gen de referencia\":\n",
    "    # Se extrae el Ct del gen de referencia para cada test\n",
    "    ref_ct = df_total[df_total['target'] == gen_referencia][['test', 'ct']].rename(\n",
    "        columns={'ct': f'{gen_referencia}_ct'}\n",
    "    )\n",
    "    df_norm = df_total.merge(ref_ct, on='test')\n",
    "    df_norm['delta_ct'] = df_norm['ct'] - df_norm[f'{gen_referencia}_ct']\n",
    "    df_norm['log2_rel_expr'] = -df_norm['delta_ct']  # log2(2^(-ΔCt)) = -ΔCt\n",
    "\n",
    "elif metodo_elegido == \"promedios\":\n",
    "    # Se calcula el promedio de Ct para cada test y se normaliza respecto a ese promedio\n",
    "    df_norm = df_total.copy()\n",
    "    df_norm['ct_promedio_test'] = df_norm.groupby('test')['ct'].transform('mean')\n",
    "    df_norm['delta_ct_promedio'] = df_norm['ct'] - df_norm['ct_promedio_test']\n",
    "    df_norm['log2_rel_expr'] = -df_norm['delta_ct_promedio']\n",
    "\n",
    "else:\n",
    "    raise ValueError(\"El método de normalización debe ser 'gen de referencia' o 'promedios'.\")\n",
    "\n",
    "# Crear la matriz para el heatmap (tabla pivote)\n",
    "# Si se normaliza por gen de referencia, se elimina dicho gen de la matriz\n",
    "if metodo_elegido == \"gen de referencia\":\n",
    "    heatmap_data = df_norm.pivot_table(\n",
    "        index='target',\n",
    "        columns='test',\n",
    "        values='log2_rel_expr',\n",
    "        aggfunc='mean'\n",
    "    ).drop(gen_referencia, errors='ignore')\n",
    "else:\n",
    "    heatmap_data = df_norm.pivot_table(\n",
    "        index='target',\n",
    "        columns='test',\n",
    "        values='log2_rel_expr',\n",
    "        aggfunc='mean'\n",
    "    )\n",
    "\n",
    "# ------------------------------\n",
    "# 4. (Filtrado por firmas - OMITIDO)\n",
    "# ------------------------------\n",
    "# heatmap_data_sobre = heatmap_data[heatmap_data.index.isin(lista_sobre)]\n",
    "# heatmap_data_sub   = heatmap_data[heatmap_data.index.isin(lista_sub)]\n",
    "\n",
    "# ------------------------------\n",
    "# 5. Crear el clustergrama (heatmap con dendrogramas)\n",
    "# ------------------------------\n",
    "def create_clustered_heatmap(heatmap_data, title):\n",
    "    # Clustering y dendrogramas para columnas (tests)\n",
    "    dendro_col = ff.create_dendrogram(\n",
    "        heatmap_data.T,\n",
    "        orientation='bottom',\n",
    "        labels=heatmap_data.columns.tolist(),\n",
    "        linkagefun=lambda x: linkage(x, method='average', metric='euclidean')\n",
    "    )\n",
    "    col_order = dendro_col['layout']['xaxis']['ticktext']\n",
    "\n",
    "    # Clustering y dendrogramas para filas (genes)\n",
    "    dendro_row = ff.create_dendrogram(\n",
    "        heatmap_data,\n",
    "        orientation='right',\n",
    "        labels=heatmap_data.index.tolist(),\n",
    "        linkagefun=lambda x: linkage(x, method='average', metric='euclidean')\n",
    "    )\n",
    "    row_order = dendro_row['layout']['yaxis']['ticktext']\n",
    "\n",
    "    # Reordenar la matriz según el clustering obtenido\n",
    "    clustered_data = heatmap_data.loc[row_order, col_order]\n",
    "\n",
    "    # Definir la escala de colores personalizada:\n",
    "    # - Valores bajos (subexpresados): azul\n",
    "    # - 0 (expresión similar al método de normalización): amarillo pastel\n",
    "    # - Valores altos (sobreexpresados): rojo\n",
    "    custom_colorscale = [\n",
    "        [0.0, '#2c7bb6'],   # Azul\n",
    "        [0.5, '#ffffb2'],   # Amarillo pastel\n",
    "        [1.0, '#d7191c']    # Rojo\n",
    "    ]\n",
    "\n",
    "    # Crear subplots para combinar dendrogramas y heatmap\n",
    "    fig = make_subplots(\n",
    "        rows=2, cols=2,\n",
    "        shared_xaxes=True,\n",
    "        shared_yaxes=True,\n",
    "        vertical_spacing=0.02,\n",
    "        horizontal_spacing=0.02,\n",
    "        column_widths=[0.8, 0.2],\n",
    "        row_heights=[0.10, 1],\n",
    "        specs=[[{\"type\": \"scatter\", \"colspan\": 2}, None],\n",
    "               [{\"type\": \"heatmap\"}, {\"type\": \"scatter\"}]]\n",
    "    )\n",
    "\n",
    "    # Añadir dendrograma de columnas\n",
    "    for trace in dendro_col['data']:\n",
    "        fig.add_trace(trace, row=1, col=1)\n",
    "\n",
    "    # Añadir dendrograma de filas\n",
    "    for trace in dendro_row['data']:\n",
    "        fig.add_trace(trace, row=2, col=2)\n",
    "\n",
    "    # Añadir heatmap utilizando la escala de colores personalizada y centrándose en 0\n",
    "    heatmap = go.Heatmap(\n",
    "        z=clustered_data.values,\n",
    "        x=col_order,\n",
    "        y=row_order,\n",
    "        colorscale=custom_colorscale,\n",
    "        colorbar=dict(\n",
    "            title=f\"log2(Exp. Rel. { 'vs ' + gen_referencia if metodo_elegido=='gen de referencia' else 'por promedios' })\"\n",
    "        ),\n",
    "        showscale=True,\n",
    "        zmid=0\n",
    "    )\n",
    "    fig.add_trace(heatmap, row=2, col=1)\n",
    "\n",
    "    # Ajustes de layout\n",
    "    genes_count = len(row_order)\n",
    "    fig_height = max(800, genes_count * 40)  # Ajusta el 40 a tu gusto\n",
    "    fig.update_layout(\n",
    "        title_text=title,\n",
    "        width=1000,\n",
    "        height=fig_height,\n",
    "        showlegend=False\n",
    "    )\n",
    "\n",
    "    # Configuración de ejes\n",
    "    fig.update_xaxes(showticklabels=False, row=1, col=1)\n",
    "    fig.update_xaxes(showticklabels=True, row=2, col=1, title=\"Tests\")\n",
    "    fig.update_yaxes(showticklabels=True, row=2, col=1, title=\"Genes\")\n",
    "    fig.update_yaxes(showticklabels=False, row=2, col=2)\n",
    "\n",
    "    return fig\n",
    "\n",
    "# Definir el título según el método de normalización\n",
    "if metodo_elegido == \"gen de referencia\":\n",
    "    norm_title = f\"Normalizado vs {gen_referencia}\"\n",
    "elif metodo_elegido == \"promedios\":\n",
    "    norm_title = \"Normalizado por promedios\"\n",
    "else:\n",
    "    norm_title = \"Normalización desconocida\"\n",
    "\n",
    "# ------------------------------\n",
    "# 6. Clustergrama interactivo para TODOS los genes (panel completo)\n",
    "# ------------------------------\n",
    "fig_all = create_clustered_heatmap(\n",
    "    heatmap_data,\n",
    "    title=f\"Expresión de Todos los Genes en {tipo_cancer} con Dendrograma ({norm_title})\"\n",
    ")\n",
    "\n",
    "guardar_grafico(fig_all, f\"clustergrama_todos_{tipo_cancer}.png\")\n",
    "fig_all.show()"
   ]
  },
  {
   "cell_type": "code",
   "execution_count": 15,
   "id": "fff66434",
   "metadata": {},
   "outputs": [
    {
     "name": "stdout",
     "output_type": "stream",
     "text": [
      "Genes separadores (umbral delta_delta_ct_promedio > 1):\n",
      "['SERPINE1', 'PTK2', 'BMP1', 'COL3A1', 'GAPDH', 'TCF4', 'SNAI3', 'FN1', 'MMP9', 'GNG11', 'B2M', 'STAT3', 'GSC', 'ZEB2', 'MMP2', 'NOTCH1', 'ACTB', 'TFPI2', 'WNT11', 'JAG1', 'KRT14', 'FGFBP1']\n"
     ]
    },
    {
     "data": {
      "image/png": "[encoded data removed]",
      "text/plain": [
       "<Figure size 800x500 with 1 Axes>"
      ]
     },
     "metadata": {},
     "output_type": "display_data"
    },
    {
     "data": {
      "text/html": [
       "<div>\n",
       "<style scoped>\n",
       "    .dataframe tbody tr th:only-of-type {\n",
       "        vertical-align: middle;\n",
       "    }\n",
       "\n",
       "    .dataframe tbody tr th {\n",
       "        vertical-align: top;\n",
       "    }\n",
       "\n",
       "    .dataframe thead th {\n",
       "        text-align: right;\n",
       "    }\n",
       "</style>\n",
       "<table border=\"1\" class=\"dataframe\">\n",
       "  <thead>\n",
       "    <tr style=\"text-align: right;\">\n",
       "      <th></th>\n",
       "      <th>target</th>\n",
       "      <th>delta_delta_ct_promedio</th>\n",
       "      <th>fold_change_promedio</th>\n",
       "      <th>abs_delta</th>\n",
       "    </tr>\n",
       "  </thead>\n",
       "  <tbody>\n",
       "    <tr>\n",
       "      <th>59</th>\n",
       "      <td>SERPINE1</td>\n",
       "      <td>-6.441255</td>\n",
       "      <td>86.898218</td>\n",
       "      <td>6.441255</td>\n",
       "    </tr>\n",
       "    <tr>\n",
       "      <th>54</th>\n",
       "      <td>PTK2</td>\n",
       "      <td>-5.076255</td>\n",
       "      <td>33.736881</td>\n",
       "      <td>5.076255</td>\n",
       "    </tr>\n",
       "    <tr>\n",
       "      <th>3</th>\n",
       "      <td>BMP1</td>\n",
       "      <td>-4.932921</td>\n",
       "      <td>30.546207</td>\n",
       "      <td>4.932921</td>\n",
       "    </tr>\n",
       "    <tr>\n",
       "      <th>12</th>\n",
       "      <td>COL3A1</td>\n",
       "      <td>4.637079</td>\n",
       "      <td>0.040188</td>\n",
       "      <td>4.637079</td>\n",
       "    </tr>\n",
       "    <tr>\n",
       "      <th>25</th>\n",
       "      <td>GAPDH</td>\n",
       "      <td>4.618745</td>\n",
       "      <td>0.040702</td>\n",
       "      <td>4.618745</td>\n",
       "    </tr>\n",
       "    <tr>\n",
       "      <th>71</th>\n",
       "      <td>TCF4</td>\n",
       "      <td>-4.531255</td>\n",
       "      <td>23.122968</td>\n",
       "      <td>4.531255</td>\n",
       "    </tr>\n",
       "    <tr>\n",
       "      <th>64</th>\n",
       "      <td>SNAI3</td>\n",
       "      <td>-4.184588</td>\n",
       "      <td>18.183878</td>\n",
       "      <td>4.184588</td>\n",
       "    </tr>\n",
       "    <tr>\n",
       "      <th>22</th>\n",
       "      <td>FN1</td>\n",
       "      <td>4.037079</td>\n",
       "      <td>0.060914</td>\n",
       "      <td>4.037079</td>\n",
       "    </tr>\n",
       "    <tr>\n",
       "      <th>44</th>\n",
       "      <td>MMP9</td>\n",
       "      <td>-3.642921</td>\n",
       "      <td>12.491903</td>\n",
       "      <td>3.642921</td>\n",
       "    </tr>\n",
       "    <tr>\n",
       "      <th>26</th>\n",
       "      <td>GNG11</td>\n",
       "      <td>3.625412</td>\n",
       "      <td>0.081029</td>\n",
       "      <td>3.625412</td>\n",
       "    </tr>\n",
       "    <tr>\n",
       "      <th>2</th>\n",
       "      <td>B2M</td>\n",
       "      <td>-3.516255</td>\n",
       "      <td>11.441900</td>\n",
       "      <td>3.516255</td>\n",
       "    </tr>\n",
       "    <tr>\n",
       "      <th>68</th>\n",
       "      <td>STAT3</td>\n",
       "      <td>-3.431255</td>\n",
       "      <td>10.787246</td>\n",
       "      <td>3.431255</td>\n",
       "    </tr>\n",
       "    <tr>\n",
       "      <th>27</th>\n",
       "      <td>GSC</td>\n",
       "      <td>2.968745</td>\n",
       "      <td>0.127738</td>\n",
       "      <td>2.968745</td>\n",
       "    </tr>\n",
       "    <tr>\n",
       "      <th>88</th>\n",
       "      <td>ZEB2</td>\n",
       "      <td>-2.869588</td>\n",
       "      <td>7.308564</td>\n",
       "      <td>2.869588</td>\n",
       "    </tr>\n",
       "    <tr>\n",
       "      <th>42</th>\n",
       "      <td>MMP2</td>\n",
       "      <td>2.860412</td>\n",
       "      <td>0.137699</td>\n",
       "      <td>2.860412</td>\n",
       "    </tr>\n",
       "    <tr>\n",
       "      <th>48</th>\n",
       "      <td>NOTCH1</td>\n",
       "      <td>-2.756255</td>\n",
       "      <td>6.756400</td>\n",
       "      <td>2.756255</td>\n",
       "    </tr>\n",
       "    <tr>\n",
       "      <th>0</th>\n",
       "      <td>ACTB</td>\n",
       "      <td>2.667079</td>\n",
       "      <td>0.157445</td>\n",
       "      <td>2.667079</td>\n",
       "    </tr>\n",
       "    <tr>\n",
       "      <th>72</th>\n",
       "      <td>TFPI2</td>\n",
       "      <td>2.652079</td>\n",
       "      <td>0.159091</td>\n",
       "      <td>2.652079</td>\n",
       "    </tr>\n",
       "    <tr>\n",
       "      <th>84</th>\n",
       "      <td>WNT11</td>\n",
       "      <td>2.585412</td>\n",
       "      <td>0.166615</td>\n",
       "      <td>2.585412</td>\n",
       "    </tr>\n",
       "    <tr>\n",
       "      <th>37</th>\n",
       "      <td>JAG1</td>\n",
       "      <td>-2.417921</td>\n",
       "      <td>5.344005</td>\n",
       "      <td>2.417921</td>\n",
       "    </tr>\n",
       "    <tr>\n",
       "      <th>38</th>\n",
       "      <td>KRT14</td>\n",
       "      <td>2.417079</td>\n",
       "      <td>0.187235</td>\n",
       "      <td>2.417079</td>\n",
       "    </tr>\n",
       "    <tr>\n",
       "      <th>21</th>\n",
       "      <td>FGFBP1</td>\n",
       "      <td>2.082079</td>\n",
       "      <td>0.236174</td>\n",
       "      <td>2.082079</td>\n",
       "    </tr>\n",
       "  </tbody>\n",
       "</table>\n",
       "</div>"
      ],
      "text/plain": [
       "      target  delta_delta_ct_promedio  fold_change_promedio  abs_delta\n",
       "59  SERPINE1                -6.441255             86.898218   6.441255\n",
       "54      PTK2                -5.076255             33.736881   5.076255\n",
       "3       BMP1                -4.932921             30.546207   4.932921\n",
       "12    COL3A1                 4.637079              0.040188   4.637079\n",
       "25     GAPDH                 4.618745              0.040702   4.618745\n",
       "71      TCF4                -4.531255             23.122968   4.531255\n",
       "64     SNAI3                -4.184588             18.183878   4.184588\n",
       "22       FN1                 4.037079              0.060914   4.037079\n",
       "44      MMP9                -3.642921             12.491903   3.642921\n",
       "26     GNG11                 3.625412              0.081029   3.625412\n",
       "2        B2M                -3.516255             11.441900   3.516255\n",
       "68     STAT3                -3.431255             10.787246   3.431255\n",
       "27       GSC                 2.968745              0.127738   2.968745\n",
       "88      ZEB2                -2.869588              7.308564   2.869588\n",
       "42      MMP2                 2.860412              0.137699   2.860412\n",
       "48    NOTCH1                -2.756255              6.756400   2.756255\n",
       "0       ACTB                 2.667079              0.157445   2.667079\n",
       "72     TFPI2                 2.652079              0.159091   2.652079\n",
       "84     WNT11                 2.585412              0.166615   2.585412\n",
       "37      JAG1                -2.417921              5.344005   2.417921\n",
       "38     KRT14                 2.417079              0.187235   2.417079\n",
       "21    FGFBP1                 2.082079              0.236174   2.082079"
      ]
     },
     "metadata": {},
     "output_type": "display_data"
    }
   ],
   "source": [
    "import pandas as pd\n",
    "import numpy as np\n",
    "import matplotlib.pyplot as plt\n",
    "import seaborn as sns\n",
    "\n",
    "# df_consolidado: tu dataframe ya normalizado y preparado\n",
    "\n",
    "# 1. Calcular score de separación\n",
    "# Puedes usar |delta_delta_ct_promedio| o bien log2(fold_change_promedio) para ranking\n",
    "df_separadores = df_consolidado.copy()\n",
    "df_separadores['abs_delta'] = df_separadores['delta_delta_ct_promedio'].abs()\n",
    "df_separadores['log2_fold_change'] = np.log2(df_separadores['fold_change_promedio'])\n",
    "\n",
    "# 2. Ordenar genes por mayor diferencia\n",
    "df_separadores = df_separadores.sort_values('abs_delta', ascending=False)\n",
    "\n",
    "# 3. Filtrar con umbral (puedes ajustar según tu criterio biológico)\n",
    "umbral = 2  # Ejemplo: diferencia de 1 ciclo Ct, ajusta a tu preferencia\n",
    "genes_separadores = df_separadores[df_separadores['abs_delta'] > umbral]['target'].tolist()\n",
    "\n",
    "print(\"Genes separadores (umbral delta_delta_ct_promedio > 1):\")\n",
    "print(genes_separadores)\n",
    "\n",
    "# 4. (Opcional) Visualización: Volcano Plot\n",
    "plt.figure(figsize=(8,5))\n",
    "plt.scatter(df_separadores['delta_delta_ct_promedio'], df_separadores['log2_fold_change'])\n",
    "plt.xlabel('delta_delta_ct_promedio')\n",
    "plt.ylabel('log2(fold_change_promedio)')\n",
    "plt.title('Volcano plot')\n",
    "plt.grid(True)\n",
    "plt.show()\n",
    "\n",
    "# 5. (Opcional) Heatmap con los genes separadores\n",
    "# Si tienes la matriz de expresión individual por muestra, puedes hacer un heatmap aquí.\n",
    "# Si solo tienes los promedios, muestra una tabla.\n",
    "\n",
    "display(df_separadores[df_separadores['target'].isin(genes_separadores)][\n",
    "    ['target', 'delta_delta_ct_promedio', 'fold_change_promedio', 'abs_delta']\n",
    "])"
   ]
  },
  {
   "cell_type": "code",
   "execution_count": 16,
   "id": "bf6003f9",
   "metadata": {},
   "outputs": [
    {
     "name": "stderr",
     "output_type": "stream",
     "text": [
      "Probando sets de 2 genes: 100%|██████████| 66/66 [00:00<00:00, 225794.51it/s]\n"
     ]
    },
    {
     "data": {
      "text/html": [
       "<div>\n",
       "<style scoped>\n",
       "    .dataframe tbody tr th:only-of-type {\n",
       "        vertical-align: middle;\n",
       "    }\n",
       "\n",
       "    .dataframe tbody tr th {\n",
       "        vertical-align: top;\n",
       "    }\n",
       "\n",
       "    .dataframe thead th {\n",
       "        text-align: right;\n",
       "    }\n",
       "</style>\n",
       "<table border=\"1\" class=\"dataframe\">\n",
       "  <thead>\n",
       "    <tr style=\"text-align: right;\">\n",
       "      <th></th>\n",
       "      <th>genes</th>\n",
       "      <th>score</th>\n",
       "    </tr>\n",
       "  </thead>\n",
       "  <tbody>\n",
       "    <tr>\n",
       "      <th>0</th>\n",
       "      <td>(SERPINE1, PTK2)</td>\n",
       "      <td>14.425720</td>\n",
       "    </tr>\n",
       "    <tr>\n",
       "      <th>1</th>\n",
       "      <td>(SERPINE1, BMP1)</td>\n",
       "      <td>14.148054</td>\n",
       "    </tr>\n",
       "    <tr>\n",
       "      <th>5</th>\n",
       "      <td>(SERPINE1, TCF4)</td>\n",
       "      <td>13.212577</td>\n",
       "    </tr>\n",
       "    <tr>\n",
       "      <th>3</th>\n",
       "      <td>(SERPINE1, SNAI3)</td>\n",
       "      <td>12.981539</td>\n",
       "    </tr>\n",
       "    <tr>\n",
       "      <th>11</th>\n",
       "      <td>(PTK2, BMP1)</td>\n",
       "      <td>12.586067</td>\n",
       "    </tr>\n",
       "    <tr>\n",
       "      <th>8</th>\n",
       "      <td>(SERPINE1, STAT3)</td>\n",
       "      <td>12.362606</td>\n",
       "    </tr>\n",
       "    <tr>\n",
       "      <th>9</th>\n",
       "      <td>(SERPINE1, B2M)</td>\n",
       "      <td>12.305547</td>\n",
       "    </tr>\n",
       "    <tr>\n",
       "      <th>10</th>\n",
       "      <td>(SERPINE1, MMP9)</td>\n",
       "      <td>12.186425</td>\n",
       "    </tr>\n",
       "    <tr>\n",
       "      <th>24</th>\n",
       "      <td>(BMP1, TCF4)</td>\n",
       "      <td>11.674517</td>\n",
       "    </tr>\n",
       "    <tr>\n",
       "      <th>13</th>\n",
       "      <td>(PTK2, SNAI3)</td>\n",
       "      <td>11.644901</td>\n",
       "    </tr>\n",
       "  </tbody>\n",
       "</table>\n",
       "</div>"
      ],
      "text/plain": [
       "                genes      score\n",
       "0    (SERPINE1, PTK2)  14.425720\n",
       "1    (SERPINE1, BMP1)  14.148054\n",
       "5    (SERPINE1, TCF4)  13.212577\n",
       "3   (SERPINE1, SNAI3)  12.981539\n",
       "11       (PTK2, BMP1)  12.586067\n",
       "8   (SERPINE1, STAT3)  12.362606\n",
       "9     (SERPINE1, B2M)  12.305547\n",
       "10   (SERPINE1, MMP9)  12.186425\n",
       "24       (BMP1, TCF4)  11.674517\n",
       "13      (PTK2, SNAI3)  11.644901"
      ]
     },
     "metadata": {},
     "output_type": "display_data"
    },
    {
     "data": {
      "application/vnd.plotly.v1+json": {
       "config": {
        "plotlyServerURL": "https://plot.ly"
       },
       "data": [
        {
         "hoverinfo": "text",
         "marker": {
          "color": "rgb(61,153,112)"
         },
         "mode": "lines",
         "type": "scatter",
         "x": [
          5,
          5,
          15,
          15
         ],
         "xaxis": "x",
         "y": [
          0,
          19.089533781630177,
          19.089533781630177,
          0
         ],
         "yaxis": "y"
        },
        {
         "hoverinfo": "text",
         "marker": {
          "color": "rgb(255,65,54)"
         },
         "mode": "lines",
         "type": "scatter",
         "x": [
          35,
          35,
          45,
          45
         ],
         "xaxis": "x",
         "y": [
          0,
          21.091403462074318,
          21.091403462074318,
          0
         ],
         "yaxis": "y"
        },
        {
         "hoverinfo": "text",
         "marker": {
          "color": "rgb(255,65,54)"
         },
         "mode": "lines",
         "type": "scatter",
         "x": [
          25,
          25,
          40,
          40
         ],
         "xaxis": "x",
         "y": [
          0,
          22.038329704692334,
          22.038329704692334,
          21.091403462074318
         ],
         "yaxis": "y"
        },
        {
         "hoverinfo": "text",
         "marker": {
          "color": "rgb(0,116,217)"
         },
         "mode": "lines",
         "type": "scatter",
         "x": [
          10,
          10,
          32.5,
          32.5
         ],
         "xaxis": "x",
         "y": [
          19.089533781630177,
          58.277422955712424,
          58.277422955712424,
          22.038329704692334
         ],
         "yaxis": "y"
        },
        {
         "hoverinfo": "text",
         "marker": {
          "color": "rgb(61,153,112)"
         },
         "mode": "lines",
         "type": "scatter",
         "x": [
          0,
          -6.542721146434413,
          -6.542721146434413,
          0
         ],
         "xaxis": "x3",
         "y": [
          5,
          5,
          15,
          15
         ],
         "yaxis": "y3"
        },
        {
         "hoverinfo": "text",
         "marker": {
          "color": "rgb(61,153,112)"
         },
         "mode": "lines",
         "type": "scatter",
         "x": [
          0,
          0,
          0,
          0
         ],
         "xaxis": "x3",
         "y": [
          25,
          25,
          35,
          35
         ],
         "yaxis": "y3"
        },
        {
         "hoverinfo": "text",
         "marker": {
          "color": "rgb(61,153,112)"
         },
         "mode": "lines",
         "type": "scatter",
         "x": [
          0,
          -3.3545193396372026,
          -3.3545193396372026,
          0
         ],
         "xaxis": "x3",
         "y": [
          55,
          55,
          65,
          65
         ],
         "yaxis": "y3"
        },
        {
         "hoverinfo": "text",
         "marker": {
          "color": "rgb(61,153,112)"
         },
         "mode": "lines",
         "type": "scatter",
         "x": [
          0,
          -5.13879829603845,
          -5.13879829603845,
          -3.3545193396372026
         ],
         "xaxis": "x3",
         "y": [
          45,
          45,
          60,
          60
         ],
         "yaxis": "y3"
        },
        {
         "hoverinfo": "text",
         "marker": {
          "color": "rgb(61,153,112)"
         },
         "mode": "lines",
         "type": "scatter",
         "x": [
          0,
          -3.1134064945008393,
          -3.1134064945008393,
          0
         ],
         "xaxis": "x3",
         "y": [
          75,
          75,
          85,
          85
         ],
         "yaxis": "y3"
        },
        {
         "hoverinfo": "text",
         "marker": {
          "color": "rgb(61,153,112)"
         },
         "mode": "lines",
         "type": "scatter",
         "x": [
          0,
          -4.564537216410883,
          -4.564537216410883,
          0
         ],
         "xaxis": "x3",
         "y": [
          95,
          95,
          105,
          105
         ],
         "yaxis": "y3"
        },
        {
         "hoverinfo": "text",
         "marker": {
          "color": "rgb(61,153,112)"
         },
         "mode": "lines",
         "type": "scatter",
         "x": [
          -3.1134064945008393,
          -5.341636960306445,
          -5.341636960306445,
          -4.564537216410883
         ],
         "xaxis": "x3",
         "y": [
          80,
          80,
          100,
          100
         ],
         "yaxis": "y3"
        },
        {
         "hoverinfo": "text",
         "marker": {
          "color": "rgb(61,153,112)"
         },
         "mode": "lines",
         "type": "scatter",
         "x": [
          -5.13879829603845,
          -6.09316919805136,
          -6.09316919805136,
          -5.341636960306445
         ],
         "xaxis": "x3",
         "y": [
          52.5,
          52.5,
          90,
          90
         ],
         "yaxis": "y3"
        },
        {
         "hoverinfo": "text",
         "marker": {
          "color": "rgb(61,153,112)"
         },
         "mode": "lines",
         "type": "scatter",
         "x": [
          0,
          -7.828168050203715,
          -7.828168050203715,
          -6.09316919805136
         ],
         "xaxis": "x3",
         "y": [
          30,
          30,
          71.25,
          71.25
         ],
         "yaxis": "y3"
        },
        {
         "hoverinfo": "text",
         "marker": {
          "color": "rgb(61,153,112)"
         },
         "mode": "lines",
         "type": "scatter",
         "x": [
          -6.542721146434413,
          -9.259076998403598,
          -9.259076998403598,
          -7.828168050203715
         ],
         "xaxis": "x3",
         "y": [
          10,
          10,
          50.625,
          50.625
         ],
         "yaxis": "y3"
        },
        {
         "hoverinfo": "text",
         "marker": {
          "color": "rgb(255,65,54)"
         },
         "mode": "lines",
         "type": "scatter",
         "x": [
          0,
          -2.1359775279716775,
          -2.1359775279716775,
          0
         ],
         "xaxis": "x3",
         "y": [
          145,
          145,
          155,
          155
         ],
         "yaxis": "y3"
        },
        {
         "hoverinfo": "text",
         "marker": {
          "color": "rgb(255,65,54)"
         },
         "mode": "lines",
         "type": "scatter",
         "x": [
          0,
          -3.5361164342703164,
          -3.5361164342703164,
          -2.1359775279716775
         ],
         "xaxis": "x3",
         "y": [
          135,
          135,
          150,
          150
         ],
         "yaxis": "y3"
        },
        {
         "hoverinfo": "text",
         "marker": {
          "color": "rgb(255,65,54)"
         },
         "mode": "lines",
         "type": "scatter",
         "x": [
          0,
          -5.7835575901699,
          -5.7835575901699,
          -3.5361164342703164
         ],
         "xaxis": "x3",
         "y": [
          125,
          125,
          142.5,
          142.5
         ],
         "yaxis": "y3"
        },
        {
         "hoverinfo": "text",
         "marker": {
          "color": "rgb(255,65,54)"
         },
         "mode": "lines",
         "type": "scatter",
         "x": [
          0,
          -1.919661428481598,
          -1.919661428481598,
          0
         ],
         "xaxis": "x3",
         "y": [
          165,
          165,
          175,
          175
         ],
         "yaxis": "y3"
        },
        {
         "hoverinfo": "text",
         "marker": {
          "color": "rgb(255,65,54)"
         },
         "mode": "lines",
         "type": "scatter",
         "x": [
          0,
          -2.3682271850479193,
          -2.3682271850479193,
          0
         ],
         "xaxis": "x3",
         "y": [
          185,
          185,
          195,
          195
         ],
         "yaxis": "y3"
        },
        {
         "hoverinfo": "text",
         "marker": {
          "color": "rgb(255,65,54)"
         },
         "mode": "lines",
         "type": "scatter",
         "x": [
          -1.919661428481598,
          -3.7717950526581827,
          -3.7717950526581827,
          -2.3682271850479193
         ],
         "xaxis": "x3",
         "y": [
          170,
          170,
          190,
          190
         ],
         "yaxis": "y3"
        },
        {
         "hoverinfo": "text",
         "marker": {
          "color": "rgb(255,65,54)"
         },
         "mode": "lines",
         "type": "scatter",
         "x": [
          0,
          -2.82511946650049,
          -2.82511946650049,
          0
         ],
         "xaxis": "x3",
         "y": [
          215,
          215,
          225,
          225
         ],
         "yaxis": "y3"
        },
        {
         "hoverinfo": "text",
         "marker": {
          "color": "rgb(255,65,54)"
         },
         "mode": "lines",
         "type": "scatter",
         "x": [
          0,
          -4.417905280426323,
          -4.417905280426323,
          -2.82511946650049
         ],
         "xaxis": "x3",
         "y": [
          205,
          205,
          220,
          220
         ],
         "yaxis": "y3"
        },
        {
         "hoverinfo": "text",
         "marker": {
          "color": "rgb(255,65,54)"
         },
         "mode": "lines",
         "type": "scatter",
         "x": [
          -3.7717950526581827,
          -4.801654225887789,
          -4.801654225887789,
          -4.417905280426323
         ],
         "xaxis": "x3",
         "y": [
          180,
          180,
          212.5,
          212.5
         ],
         "yaxis": "y3"
        },
        {
         "hoverinfo": "text",
         "marker": {
          "color": "rgb(255,65,54)"
         },
         "mode": "lines",
         "type": "scatter",
         "x": [
          0,
          -2.415160450156469,
          -2.415160450156469,
          0
         ],
         "xaxis": "x3",
         "y": [
          235,
          235,
          245,
          245
         ],
         "yaxis": "y3"
        },
        {
         "hoverinfo": "text",
         "marker": {
          "color": "rgb(255,65,54)"
         },
         "mode": "lines",
         "type": "scatter",
         "x": [
          0,
          -3.045242190696824,
          -3.045242190696824,
          0
         ],
         "xaxis": "x3",
         "y": [
          255,
          255,
          265,
          265
         ],
         "yaxis": "y3"
        },
        {
         "hoverinfo": "text",
         "marker": {
          "color": "rgb(255,65,54)"
         },
         "mode": "lines",
         "type": "scatter",
         "x": [
          -2.415160450156469,
          -4.139006277291754,
          -4.139006277291754,
          -3.045242190696824
         ],
         "xaxis": "x3",
         "y": [
          240,
          240,
          260,
          260
         ],
         "yaxis": "y3"
        },
        {
         "hoverinfo": "text",
         "marker": {
          "color": "rgb(255,65,54)"
         },
         "mode": "lines",
         "type": "scatter",
         "x": [
          0,
          -2.826941810508313,
          -2.826941810508313,
          0
         ],
         "xaxis": "x3",
         "y": [
          295,
          295,
          305,
          305
         ],
         "yaxis": "y3"
        },
        {
         "hoverinfo": "text",
         "marker": {
          "color": "rgb(255,65,54)"
         },
         "mode": "lines",
         "type": "scatter",
         "x": [
          0,
          -3.5844775308750574,
          -3.5844775308750574,
          -2.826941810508313
         ],
         "xaxis": "x3",
         "y": [
          285,
          285,
          300,
          300
         ],
         "yaxis": "y3"
        },
        {
         "hoverinfo": "text",
         "marker": {
          "color": "rgb(255,65,54)"
         },
         "mode": "lines",
         "type": "scatter",
         "x": [
          0,
          -4.143206653239516,
          -4.143206653239516,
          -3.5844775308750574
         ],
         "xaxis": "x3",
         "y": [
          275,
          275,
          292.5,
          292.5
         ],
         "yaxis": "y3"
        },
        {
         "hoverinfo": "text",
         "marker": {
          "color": "rgb(255,65,54)"
         },
         "mode": "lines",
         "type": "scatter",
         "x": [
          0,
          -1.8736595208308247,
          -1.8736595208308247,
          0
         ],
         "xaxis": "x3",
         "y": [
          315,
          315,
          325,
          325
         ],
         "yaxis": "y3"
        },
        {
         "hoverinfo": "text",
         "marker": {
          "color": "rgb(255,65,54)"
         },
         "mode": "lines",
         "type": "scatter",
         "x": [
          0,
          -1.8315021157508922,
          -1.8315021157508922,
          0
         ],
         "xaxis": "x3",
         "y": [
          335,
          335,
          345,
          345
         ],
         "yaxis": "y3"
        },
        {
         "hoverinfo": "text",
         "marker": {
          "color": "rgb(255,65,54)"
         },
         "mode": "lines",
         "type": "scatter",
         "x": [
          0,
          -1.4970303938130294,
          -1.4970303938130294,
          0
         ],
         "xaxis": "x3",
         "y": [
          375,
          375,
          385,
          385
         ],
         "yaxis": "y3"
        },
        {
         "hoverinfo": "text",
         "marker": {
          "color": "rgb(255,65,54)"
         },
         "mode": "lines",
         "type": "scatter",
         "x": [
          0,
          -1.6365067128937132,
          -1.6365067128937132,
          -1.4970303938130294
         ],
         "xaxis": "x3",
         "y": [
          365,
          365,
          380,
          380
         ],
         "yaxis": "y3"
        },
        {
         "hoverinfo": "text",
         "marker": {
          "color": "rgb(255,65,54)"
         },
         "mode": "lines",
         "type": "scatter",
         "x": [
          0,
          -2.2115070484680217,
          -2.2115070484680217,
          -1.6365067128937132
         ],
         "xaxis": "x3",
         "y": [
          355,
          355,
          372.5,
          372.5
         ],
         "yaxis": "y3"
        },
        {
         "hoverinfo": "text",
         "marker": {
          "color": "rgb(255,65,54)"
         },
         "mode": "lines",
         "type": "scatter",
         "x": [
          -1.8315021157508922,
          -2.6444594893736544,
          -2.6444594893736544,
          -2.2115070484680217
         ],
         "xaxis": "x3",
         "y": [
          340,
          340,
          363.75,
          363.75
         ],
         "yaxis": "y3"
        },
        {
         "hoverinfo": "text",
         "marker": {
          "color": "rgb(255,65,54)"
         },
         "mode": "lines",
         "type": "scatter",
         "x": [
          0,
          -2.0016243403795793,
          -2.0016243403795793,
          0
         ],
         "xaxis": "x3",
         "y": [
          395,
          395,
          405,
          405
         ],
         "yaxis": "y3"
        },
        {
         "hoverinfo": "text",
         "marker": {
          "color": "rgb(255,65,54)"
         },
         "mode": "lines",
         "type": "scatter",
         "x": [
          0,
          -1.237214613557407,
          -1.237214613557407,
          0
         ],
         "xaxis": "x3",
         "y": [
          435,
          435,
          445,
          445
         ],
         "yaxis": "y3"
        },
        {
         "hoverinfo": "text",
         "marker": {
          "color": "rgb(255,65,54)"
         },
         "mode": "lines",
         "type": "scatter",
         "x": [
          0,
          -1.6345771712433566,
          -1.6345771712433566,
          -1.237214613557407
         ],
         "xaxis": "x3",
         "y": [
          425,
          425,
          440,
          440
         ],
         "yaxis": "y3"
        },
        {
         "hoverinfo": "text",
         "marker": {
          "color": "rgb(255,65,54)"
         },
         "mode": "lines",
         "type": "scatter",
         "x": [
          0,
          -2.102680311290425,
          -2.102680311290425,
          -1.6345771712433566
         ],
         "xaxis": "x3",
         "y": [
          415,
          415,
          432.5,
          432.5
         ],
         "yaxis": "y3"
        },
        {
         "hoverinfo": "text",
         "marker": {
          "color": "rgb(255,65,54)"
         },
         "mode": "lines",
         "type": "scatter",
         "x": [
          -2.0016243403795793,
          -2.6655359846209614,
          -2.6655359846209614,
          -2.102680311290425
         ],
         "xaxis": "x3",
         "y": [
          400,
          400,
          423.75,
          423.75
         ],
         "yaxis": "y3"
        },
        {
         "hoverinfo": "text",
         "marker": {
          "color": "rgb(255,65,54)"
         },
         "mode": "lines",
         "type": "scatter",
         "x": [
          -2.6444594893736544,
          -3.0957385598955915,
          -3.0957385598955915,
          -2.6655359846209614
         ],
         "xaxis": "x3",
         "y": [
          351.875,
          351.875,
          411.875,
          411.875
         ],
         "yaxis": "y3"
        },
        {
         "hoverinfo": "text",
         "marker": {
          "color": "rgb(255,65,54)"
         },
         "mode": "lines",
         "type": "scatter",
         "x": [
          -1.8736595208308247,
          -3.50817865882145,
          -3.50817865882145,
          -3.0957385598955915
         ],
         "xaxis": "x3",
         "y": [
          320,
          320,
          381.875,
          381.875
         ],
         "yaxis": "y3"
        },
        {
         "hoverinfo": "text",
         "marker": {
          "color": "rgb(255,65,54)"
         },
         "mode": "lines",
         "type": "scatter",
         "x": [
          0,
          -3.839348903134493,
          -3.839348903134493,
          0
         ],
         "xaxis": "x3",
         "y": [
          455,
          455,
          465,
          465
         ],
         "yaxis": "y3"
        },
        {
         "hoverinfo": "text",
         "marker": {
          "color": "rgb(255,65,54)"
         },
         "mode": "lines",
         "type": "scatter",
         "x": [
          -3.50817865882145,
          -4.533143882115641,
          -4.533143882115641,
          -3.839348903134493
         ],
         "xaxis": "x3",
         "y": [
          350.9375,
          350.9375,
          460,
          460
         ],
         "yaxis": "y3"
        },
        {
         "hoverinfo": "text",
         "marker": {
          "color": "rgb(255,65,54)"
         },
         "mode": "lines",
         "type": "scatter",
         "x": [
          -4.143206653239516,
          -4.831167037161795,
          -4.831167037161795,
          -4.533143882115641
         ],
         "xaxis": "x3",
         "y": [
          283.75,
          283.75,
          405.46875,
          405.46875
         ],
         "yaxis": "y3"
        },
        {
         "hoverinfo": "text",
         "marker": {
          "color": "rgb(255,65,54)"
         },
         "mode": "lines",
         "type": "scatter",
         "x": [
          -4.139006277291754,
          -5.431208275426109,
          -5.431208275426109,
          -4.831167037161795
         ],
         "xaxis": "x3",
         "y": [
          250,
          250,
          344.609375,
          344.609375
         ],
         "yaxis": "y3"
        },
        {
         "hoverinfo": "text",
         "marker": {
          "color": "rgb(255,65,54)"
         },
         "mode": "lines",
         "type": "scatter",
         "x": [
          -4.801654225887789,
          -6.329912084390649,
          -6.329912084390649,
          -5.431208275426109
         ],
         "xaxis": "x3",
         "y": [
          196.25,
          196.25,
          297.3046875,
          297.3046875
         ],
         "yaxis": "y3"
        },
        {
         "hoverinfo": "text",
         "marker": {
          "color": "rgb(255,65,54)"
         },
         "mode": "lines",
         "type": "scatter",
         "x": [
          -5.7835575901699,
          -6.986288220389404,
          -6.986288220389404,
          -6.329912084390649
         ],
         "xaxis": "x3",
         "y": [
          133.75,
          133.75,
          246.77734375,
          246.77734375
         ],
         "yaxis": "y3"
        },
        {
         "hoverinfo": "text",
         "marker": {
          "color": "rgb(255,65,54)"
         },
         "mode": "lines",
         "type": "scatter",
         "x": [
          0,
          -1.781909088590099,
          -1.781909088590099,
          0
         ],
         "xaxis": "x3",
         "y": [
          475,
          475,
          485,
          485
         ],
         "yaxis": "y3"
        },
        {
         "hoverinfo": "text",
         "marker": {
          "color": "rgb(255,65,54)"
         },
         "mode": "lines",
         "type": "scatter",
         "x": [
          0,
          -1.327629466379836,
          -1.327629466379836,
          0
         ],
         "xaxis": "x3",
         "y": [
          515,
          515,
          525,
          525
         ],
         "yaxis": "y3"
        },
        {
         "hoverinfo": "text",
         "marker": {
          "color": "rgb(255,65,54)"
         },
         "mode": "lines",
         "type": "scatter",
         "x": [
          0,
          -0.9655568341635828,
          -0.9655568341635828,
          0
         ],
         "xaxis": "x3",
         "y": [
          535,
          535,
          545,
          545
         ],
         "yaxis": "y3"
        },
        {
         "hoverinfo": "text",
         "marker": {
          "color": "rgb(255,65,54)"
         },
         "mode": "lines",
         "type": "scatter",
         "x": [
          0,
          -1.1972468417164441,
          -1.1972468417164441,
          0
         ],
         "xaxis": "x3",
         "y": [
          555,
          555,
          565,
          565
         ],
         "yaxis": "y3"
        },
        {
         "hoverinfo": "text",
         "marker": {
          "color": "rgb(255,65,54)"
         },
         "mode": "lines",
         "type": "scatter",
         "x": [
          -0.9655568341635828,
          -1.3457275797572905,
          -1.3457275797572905,
          -1.1972468417164441
         ],
         "xaxis": "x3",
         "y": [
          540,
          540,
          560,
          560
         ],
         "yaxis": "y3"
        },
        {
         "hoverinfo": "text",
         "marker": {
          "color": "rgb(255,65,54)"
         },
         "mode": "lines",
         "type": "scatter",
         "x": [
          -1.327629466379836,
          -1.9723880031616408,
          -1.9723880031616408,
          -1.3457275797572905
         ],
         "xaxis": "x3",
         "y": [
          520,
          520,
          550,
          550
         ],
         "yaxis": "y3"
        },
        {
         "hoverinfo": "text",
         "marker": {
          "color": "rgb(255,65,54)"
         },
         "mode": "lines",
         "type": "scatter",
         "x": [
          0,
          -2.107887992036545,
          -2.107887992036545,
          -1.9723880031616408
         ],
         "xaxis": "x3",
         "y": [
          505,
          505,
          535,
          535
         ],
         "yaxis": "y3"
        },
        {
         "hoverinfo": "text",
         "marker": {
          "color": "rgb(255,65,54)"
         },
         "mode": "lines",
         "type": "scatter",
         "x": [
          0,
          -2.443378808126158,
          -2.443378808126158,
          0
         ],
         "xaxis": "x3",
         "y": [
          575,
          575,
          585,
          585
         ],
         "yaxis": "y3"
        },
        {
         "hoverinfo": "text",
         "marker": {
          "color": "rgb(255,65,54)"
         },
         "mode": "lines",
         "type": "scatter",
         "x": [
          -2.107887992036545,
          -2.578162700764268,
          -2.578162700764268,
          -2.443378808126158
         ],
         "xaxis": "x3",
         "y": [
          520,
          520,
          580,
          580
         ],
         "yaxis": "y3"
        },
        {
         "hoverinfo": "text",
         "marker": {
          "color": "rgb(255,65,54)"
         },
         "mode": "lines",
         "type": "scatter",
         "x": [
          0,
          -1.5858436240689047,
          -1.5858436240689047,
          0
         ],
         "xaxis": "x3",
         "y": [
          595,
          595,
          605,
          605
         ],
         "yaxis": "y3"
        },
        {
         "hoverinfo": "text",
         "marker": {
          "color": "rgb(255,65,54)"
         },
         "mode": "lines",
         "type": "scatter",
         "x": [
          0,
          -0.7507329751649404,
          -0.7507329751649404,
          0
         ],
         "xaxis": "x3",
         "y": [
          645,
          645,
          655,
          655
         ],
         "yaxis": "y3"
        },
        {
         "hoverinfo": "text",
         "marker": {
          "color": "rgb(255,65,54)"
         },
         "mode": "lines",
         "type": "scatter",
         "x": [
          0,
          -0.9695696333413268,
          -0.9695696333413268,
          -0.7507329751649404
         ],
         "xaxis": "x3",
         "y": [
          635,
          635,
          650,
          650
         ],
         "yaxis": "y3"
        },
        {
         "hoverinfo": "text",
         "marker": {
          "color": "rgb(255,65,54)"
         },
         "mode": "lines",
         "type": "scatter",
         "x": [
          0,
          -0.9893937537704587,
          -0.9893937537704587,
          0
         ],
         "xaxis": "x3",
         "y": [
          665,
          665,
          675,
          675
         ],
         "yaxis": "y3"
        },
        {
         "hoverinfo": "text",
         "marker": {
          "color": "rgb(255,65,54)"
         },
         "mode": "lines",
         "type": "scatter",
         "x": [
          -0.9695696333413268,
          -1.6956210523647943,
          -1.6956210523647943,
          -0.9893937537704587
         ],
         "xaxis": "x3",
         "y": [
          642.5,
          642.5,
          670,
          670
         ],
         "yaxis": "y3"
        },
        {
         "hoverinfo": "text",
         "marker": {
          "color": "rgb(255,65,54)"
         },
         "mode": "lines",
         "type": "scatter",
         "x": [
          0,
          -1.7917941127147405,
          -1.7917941127147405,
          -1.6956210523647943
         ],
         "xaxis": "x3",
         "y": [
          625,
          625,
          656.25,
          656.25
         ],
         "yaxis": "y3"
        },
        {
         "hoverinfo": "text",
         "marker": {
          "color": "rgb(255,65,54)"
         },
         "mode": "lines",
         "type": "scatter",
         "x": [
          0,
          -2.575330086314612,
          -2.575330086314612,
          -1.7917941127147405
         ],
         "xaxis": "x3",
         "y": [
          615,
          615,
          640.625,
          640.625
         ],
         "yaxis": "y3"
        },
        {
         "hoverinfo": "text",
         "marker": {
          "color": "rgb(255,65,54)"
         },
         "mode": "lines",
         "type": "scatter",
         "x": [
          -1.5858436240689047,
          -2.7404515183357523,
          -2.7404515183357523,
          -2.575330086314612
         ],
         "xaxis": "x3",
         "y": [
          600,
          600,
          627.8125,
          627.8125
         ],
         "yaxis": "y3"
        },
        {
         "hoverinfo": "text",
         "marker": {
          "color": "rgb(255,65,54)"
         },
         "mode": "lines",
         "type": "scatter",
         "x": [
          -2.578162700764268,
          -3.6104047459983954,
          -3.6104047459983954,
          -2.7404515183357523
         ],
         "xaxis": "x3",
         "y": [
          550,
          550,
          613.90625,
          613.90625
         ],
         "yaxis": "y3"
        },
        {
         "hoverinfo": "text",
         "marker": {
          "color": "rgb(255,65,54)"
         },
         "mode": "lines",
         "type": "scatter",
         "x": [
          0,
          -1.8855768348173962,
          -1.8855768348173962,
          0
         ],
         "xaxis": "x3",
         "y": [
          695,
          695,
          705,
          705
         ],
         "yaxis": "y3"
        },
        {
         "hoverinfo": "text",
         "marker": {
          "color": "rgb(255,65,54)"
         },
         "mode": "lines",
         "type": "scatter",
         "x": [
          0,
          -0.4701063709417273,
          -0.4701063709417273,
          0
         ],
         "xaxis": "x3",
         "y": [
          725,
          725,
          735,
          735
         ],
         "yaxis": "y3"
        },
        {
         "hoverinfo": "text",
         "marker": {
          "color": "rgb(255,65,54)"
         },
         "mode": "lines",
         "type": "scatter",
         "x": [
          0,
          -1.1086478250553702,
          -1.1086478250553702,
          0
         ],
         "xaxis": "x3",
         "y": [
          745,
          745,
          755,
          755
         ],
         "yaxis": "y3"
        },
        {
         "hoverinfo": "text",
         "marker": {
          "color": "rgb(255,65,54)"
         },
         "mode": "lines",
         "type": "scatter",
         "x": [
          -0.4701063709417273,
          -1.3704489997018894,
          -1.3704489997018894,
          -1.1086478250553702
         ],
         "xaxis": "x3",
         "y": [
          730,
          730,
          750,
          750
         ],
         "yaxis": "y3"
        },
        {
         "hoverinfo": "text",
         "marker": {
          "color": "rgb(255,65,54)"
         },
         "mode": "lines",
         "type": "scatter",
         "x": [
          0,
          -2.4442377263609716,
          -2.4442377263609716,
          -1.3704489997018894
         ],
         "xaxis": "x3",
         "y": [
          715,
          715,
          740,
          740
         ],
         "yaxis": "y3"
        },
        {
         "hoverinfo": "text",
         "marker": {
          "color": "rgb(255,65,54)"
         },
         "mode": "lines",
         "type": "scatter",
         "x": [
          -1.8855768348173962,
          -3.00003416669406,
          -3.00003416669406,
          -2.4442377263609716
         ],
         "xaxis": "x3",
         "y": [
          700,
          700,
          727.5,
          727.5
         ],
         "yaxis": "y3"
        },
        {
         "hoverinfo": "text",
         "marker": {
          "color": "rgb(255,65,54)"
         },
         "mode": "lines",
         "type": "scatter",
         "x": [
          0,
          -3.9803622951935203,
          -3.9803622951935203,
          -3.00003416669406
         ],
         "xaxis": "x3",
         "y": [
          685,
          685,
          713.75,
          713.75
         ],
         "yaxis": "y3"
        },
        {
         "hoverinfo": "text",
         "marker": {
          "color": "rgb(255,65,54)"
         },
         "mode": "lines",
         "type": "scatter",
         "x": [
          -3.6104047459983954,
          -5.38336669873016,
          -5.38336669873016,
          -3.9803622951935203
         ],
         "xaxis": "x3",
         "y": [
          581.953125,
          581.953125,
          699.375,
          699.375
         ],
         "yaxis": "y3"
        },
        {
         "hoverinfo": "text",
         "marker": {
          "color": "rgb(255,65,54)"
         },
         "mode": "lines",
         "type": "scatter",
         "x": [
          0,
          -6.522413898126739,
          -6.522413898126739,
          -5.38336669873016
         ],
         "xaxis": "x3",
         "y": [
          495,
          495,
          640.6640625,
          640.6640625
         ],
         "yaxis": "y3"
        },
        {
         "hoverinfo": "text",
         "marker": {
          "color": "rgb(255,65,54)"
         },
         "mode": "lines",
         "type": "scatter",
         "x": [
          -1.781909088590099,
          -9.527842389397502,
          -9.527842389397502,
          -6.522413898126739
         ],
         "xaxis": "x3",
         "y": [
          480,
          480,
          567.83203125,
          567.83203125
         ],
         "yaxis": "y3"
        },
        {
         "hoverinfo": "text",
         "marker": {
          "color": "rgb(255,65,54)"
         },
         "mode": "lines",
         "type": "scatter",
         "x": [
          -6.986288220389404,
          -10.421466169196696,
          -10.421466169196696,
          -9.527842389397502
         ],
         "xaxis": "x3",
         "y": [
          190.263671875,
          190.263671875,
          523.916015625,
          523.916015625
         ],
         "yaxis": "y3"
        },
        {
         "hoverinfo": "text",
         "marker": {
          "color": "rgb(0,116,217)"
         },
         "mode": "lines",
         "type": "scatter",
         "x": [
          0,
          -13.358539264867314,
          -13.358539264867314,
          -10.421466169196696
         ],
         "xaxis": "x3",
         "y": [
          115,
          115,
          357.08984375,
          357.08984375
         ],
         "yaxis": "y3"
        },
        {
         "hoverinfo": "text",
         "marker": {
          "color": "rgb(0,116,217)"
         },
         "mode": "lines",
         "type": "scatter",
         "x": [
          -9.259076998403598,
          -17.88268024873909,
          -17.88268024873909,
          -13.358539264867314
         ],
         "xaxis": "x3",
         "y": [
          30.3125,
          30.3125,
          236.044921875,
          236.044921875
         ],
         "yaxis": "y3"
        },
        {
         "colorbar": {
          "title": {
           "text": "log2(Exp. Rel. vs ILK)"
          }
         },
         "colorscale": [
          [
           0,
           "#2c7bb6"
          ],
          [
           0.5,
           "#ffffb2"
          ],
          [
           1,
           "#d7191c"
          ]
         ],
         "showscale": true,
         "type": "heatmap",
         "x": [
          "4GB001",
          "4GB031",
          "3CG129",
          "3CG008",
          "3CG128"
         ],
         "xaxis": "x2",
         "y": [
          "GAPDH",
          "GSC",
          "ILK",
          "VIM",
          "NOTCH1",
          "ITGB1",
          "TGFB1",
          "CAV2",
          "FGFBP1",
          "PTP4A1",
          "STEAP1",
          "KRT14",
          "ACTB",
          "COL3A1",
          "GNG11",
          "GSK3B",
          "FN1",
          "MMP2",
          "BMP7",
          "TCF3",
          "WNT11",
          "KRT7",
          "SPARC",
          "RAC1",
          "TGFB3",
          "SNAI1",
          "STAT3",
          "HPRT1",
          "ESR1",
          "CDH2",
          "ITGAV",
          "PDGFRB",
          "TIMP1",
          "SNAI2",
          "VPS13A",
          "NODAL",
          "DSP",
          "NUDT13",
          "WNT5A",
          "CALD1",
          "IGFBP4",
          "SIP1",
          "CTNNB1",
          "PLEK2",
          "SMAD2",
          "ERBB3",
          "ZEB1",
          "AKT1",
          "MST1R",
          "TFPI2",
          "COL1A2",
          "BMP2",
          "COL5A2",
          "TMEM132A",
          "TSPAN13",
          "CDH1",
          "IL1RN",
          "FOXC2",
          "TMEFF1",
          "SOX10",
          "TWIST1",
          "ITGA5",
          "OCLN",
          "MAP1B",
          "SPP1",
          "WNT5B",
          "F11R",
          "KRT19",
          "RPLP0",
          "DSC2",
          "TGFB2",
          "MSN",
          "EGFR",
          "FZD7",
          "MMP3",
          "RGS2"
         ],
         "yaxis": "y2",
         "z": [
          [
           8.600000000000001,
           -1.0249999999999986,
           -6.25,
           -7.669999999999995,
           -5.849999999999994
          ],
          [
           8.469999999999999,
           1.3250000000000028,
           -1.9399999999999977,
           -3.3599999999999923,
           -6.189999999999998
          ],
          [
           -0.6799999999999997,
           -1.0249999999999986,
           -6.25,
           -7.669999999999995,
           -7.869999999999997
          ],
          [
           -0.6799999999999997,
           -1.0249999999999986,
           -6.25,
           -7.669999999999995,
           -7.869999999999997
          ],
          [
           -0.3100000000000023,
           -1.0249999999999986,
           -5.270000000000003,
           -2.6899999999999977,
           -3.049999999999997
          ],
          [
           2.490000000000002,
           1.8149999999999977,
           -4.32,
           -2.8399999999999963,
           -3.989999999999995
          ],
          [
           2.020000000000003,
           3.0249999999999986,
           -2.509999999999998,
           -0.37999999999999545,
           -4.479999999999997
          ],
          [
           3.8200000000000003,
           -1.0249999999999986,
           -6.25,
           -2.6599999999999966,
           -7.869999999999997
          ],
          [
           5.5,
           0.6950000000000003,
           -6.25,
           -0.8099999999999952,
           -7.169999999999995
          ],
          [
           0.060000000000002274,
           3.5050000000000026,
           -6.090000000000003,
           -1.8499999999999943,
           -7.799999999999997
          ],
          [
           0.35999999999999943,
           -1.0249999999999986,
           -6.25,
           -1.4099999999999966,
           -7.869999999999997
          ],
          [
           6.439999999999998,
           5.884999999999998,
           5.130000000000003,
           -6.109999999999992,
           -5.059999999999995
          ],
          [
           8.990000000000002,
           8.155000000000001,
           -4.710000000000001,
           2.020000000000003,
           3.1300000000000026
          ],
          [
           11.07,
           9.475000000000001,
           -2.039999999999999,
           -0.28999999999999204,
           1.9600000000000009
          ],
          [
           11.189999999999998,
           9.785000000000004,
           1.0899999999999963,
           0.1600000000000037,
           2.0600000000000023
          ],
          [
           10.270000000000003,
           8.285000000000004,
           1.1700000000000017,
           1.3600000000000065,
           2.200000000000003
          ],
          [
           7.770000000000003,
           7.914999999999999,
           -2.770000000000003,
           -0.8399999999999963,
           -2.25
          ],
          [
           7.439999999999998,
           7.884999999999998,
           -1.6499999999999986,
           -0.4399999999999977,
           -0.7800000000000011
          ],
          [
           5.670000000000002,
           5.355000000000004,
           0.10999999999999943,
           -1.4099999999999966,
           -1.5399999999999991
          ],
          [
           7.57,
           6.285000000000004,
           0.6899999999999977,
           -0.5499999999999972,
           -1.2999999999999972
          ],
          [
           3.9200000000000017,
           7.155000000000001,
           -3.4399999999999977,
           -1.7099999999999937,
           -3.269999999999996
          ],
          [
           5.990000000000002,
           5.285000000000004,
           -2.1799999999999997,
           0.2700000000000031,
           -3.979999999999997
          ],
          [
           4.229999999999997,
           4.145000000000003,
           -0.8200000000000003,
           1.480000000000004,
           -3.460000000000001
          ],
          [
           5.539999999999999,
           5.725000000000001,
           3.020000000000003,
           2.5700000000000074,
           -0.509999999999998
          ],
          [
           5.520000000000003,
           5.484999999999999,
           3.1899999999999977,
           1.5100000000000051,
           -2.6599999999999966
          ],
          [
           2.5900000000000034,
           5.445,
           0.8699999999999974,
           0.970000000000006,
           -1.1999999999999957
          ],
          [
           3.539999999999999,
           2.7749999999999986,
           1.259999999999998,
           1.8100000000000023,
           -0.5799999999999983
          ],
          [
           6.229999999999997,
           7.835000000000001,
           -1.5399999999999991,
           3.720000000000006,
           -0.46999999999999886
          ],
          [
           8.310000000000002,
           4.075000000000003,
           -0.7199999999999989,
           2.0300000000000082,
           -1.1699999999999946
          ],
          [
           6.390000000000001,
           5.905000000000001,
           -1.0900000000000034,
           2.8400000000000034,
           2.010000000000005
          ],
          [
           6.899999999999999,
           4.585000000000001,
           0.9200000000000017,
           2.710000000000008,
           0.6200000000000045
          ],
          [
           5.710000000000001,
           7.625,
           3.6899999999999977,
           2.500000000000007,
           1.3500000000000014
          ],
          [
           6.219999999999999,
           9.204999999999998,
           3.950000000000003,
           2.1700000000000017,
           0.5900000000000034
          ],
          [
           8.630000000000003,
           6.384999999999998,
           2.1799999999999997,
           1.470000000000006,
           -0.9099999999999966
          ],
          [
           9.21,
           6.9950000000000045,
           1.3100000000000023,
           1.3600000000000065,
           0.46000000000000085
          ],
          [
           8.86,
           7.255000000000003,
           2.509999999999998,
           2.5400000000000063,
           2.1700000000000017
          ],
          [
           8.700000000000003,
           7.905000000000001,
           2.3100000000000023,
           0.3900000000000077,
           1.1500000000000057
          ],
          [
           8.409999999999997,
           8.235,
           2.240000000000002,
           1.8900000000000077,
           0.9699999999999989
          ],
          [
           7.520000000000003,
           8.344999999999999,
           1.7100000000000009,
           1.1500000000000057,
           1.75
          ],
          [
           7.479999999999997,
           7.115000000000002,
           1.9500000000000028,
           3.9200000000000017,
           1.3100000000000023
          ],
          [
           6.859999999999999,
           7.884999999999998,
           1.1700000000000017,
           4.400000000000006,
           -0.1699999999999946
          ],
          [
           6.170000000000002,
           6.615000000000002,
           1.5899999999999963,
           1.230000000000004,
           -0.6499999999999986
          ],
          [
           6.909999999999997,
           6.785000000000004,
           0.9500000000000028,
           2.3500000000000085,
           0.30000000000000426
          ],
          [
           7.170000000000002,
           7.914999999999999,
           1.759999999999998,
           2.2800000000000082,
           0.30000000000000426
          ],
          [
           6.100000000000001,
           8.195,
           1.6400000000000006,
           2.1700000000000017,
           0.8300000000000054
          ],
          [
           6.43,
           5.355000000000004,
           4.420000000000002,
           -0.8699999999999974,
           1.240000000000002
          ],
          [
           8.240000000000002,
           8.105000000000004,
           3.8399999999999963,
           0.030000000000008242,
           2.9000000000000057
          ],
          [
           15.079999999999998,
           15.275000000000002,
           9.8,
           8.730000000000004,
           8.240000000000002
          ],
          [
           16.13,
           14.165000000000003,
           10.41,
           8.060000000000006,
           8.100000000000001
          ],
          [
           16.36,
           9.594999999999999,
           3.5799999999999983,
           5.470000000000006,
           4.650000000000006
          ],
          [
           10.100000000000001,
           11.465000000000003,
           5.839999999999996,
           5.000000000000007,
           4.800000000000004
          ],
          [
           11.689999999999998,
           11.055,
           5.32,
           4.3500000000000085,
           4.289999999999999
          ],
          [
           12.29,
           12.055,
           5.810000000000002,
           4.060000000000002,
           4.57
          ],
          [
           11.310000000000002,
           10.355000000000004,
           4.890000000000001,
           5.710000000000004,
           3.760000000000005
          ],
          [
           11.100000000000001,
           10.495000000000005,
           5.700000000000003,
           5.410000000000004,
           4.109999999999999
          ],
          [
           11.509999999999998,
           10.575000000000003,
           6.329999999999998,
           4.750000000000007,
           3.740000000000002
          ],
          [
           11.25,
           9.905000000000001,
           5.399999999999999,
           4.530000000000008,
           3.6799999999999997
          ],
          [
           9.579999999999998,
           10.024999999999999,
           5.350000000000001,
           5.250000000000007,
           2.980000000000004
          ],
          [
           10.259999999999998,
           10.585,
           3.490000000000002,
           4.940000000000005,
           4.260000000000005
          ],
          [
           13.25,
           12.895,
           7.350000000000001,
           7.270000000000007,
           5.180000000000003
          ],
          [
           13.61,
           13.335,
           7.030000000000001,
           7.0000000000000036,
           6.600000000000001
          ],
          [
           10.86,
           11.225000000000001,
           8.14,
           5.910000000000004,
           6.080000000000002
          ],
          [
           12.020000000000003,
           11.895000000000003,
           7.370000000000001,
           6.940000000000005,
           5.780000000000001
          ],
          [
           12.469999999999999,
           11.965,
           6.77,
           5.330000000000005,
           5.200000000000003
          ],
          [
           12.649999999999999,
           11.915000000000003,
           6.43,
           5.840000000000003,
           4.68
          ],
          [
           12.579999999999998,
           11.425000000000004,
           6.780000000000001,
           6.2400000000000055,
           4.8700000000000045
          ],
          [
           11.43,
           11.765,
           6.100000000000001,
           6.350000000000005,
           4.460000000000001
          ],
          [
           11.64,
           11.774999999999999,
           6.329999999999998,
           7.280000000000005,
           4.590000000000003
          ],
          [
           8.189999999999998,
           6.984999999999999,
           5.469999999999999,
           4.170000000000002,
           0.6300000000000026
          ],
          [
           9.079999999999998,
           9.805,
           3.039999999999999,
           4.1100000000000065,
           0.9400000000000048
          ],
          [
           9.950000000000003,
           9.605000000000004,
           3.4099999999999966,
           5.570000000000004,
           1.6400000000000006
          ],
          [
           10.590000000000003,
           8.675000000000004,
           6.079999999999998,
           2.450000000000003,
           1.5100000000000051
          ],
          [
           9.68,
           9.335,
           4.350000000000001,
           2.8000000000000043,
           1.8900000000000006
          ],
          [
           9.850000000000001,
           9.465000000000003,
           4.130000000000003,
           3.0800000000000054,
           2.1099999999999994
          ],
          [
           10.07,
           9.844999999999999,
           4.119999999999997,
           3.180000000000007,
           3.219999999999999
          ],
          [
           10.880000000000003,
           9.475000000000001,
           4.5,
           3.190000000000005,
           2.6799999999999997
          ]
         ],
         "zmid": 0
        }
       ],
       "layout": {
        "height": 3040,
        "showlegend": false,
        "template": {
         "data": {
          "bar": [
           {
            "error_x": {
             "color": "#2a3f5f"
            },
            "error_y": {
             "color": "#2a3f5f"
            },
            "marker": {
             "line": {
              "color": "#E5ECF6",
              "width": 0.5
             },
             "pattern": {
              "fillmode": "overlay",
              "size": 10,
              "solidity": 0.2
             }
            },
            "type": "bar"
           }
          ],
          "barpolar": [
           {
            "marker": {
             "line": {
              "color": "#E5ECF6",
              "width": 0.5
             },
             "pattern": {
              "fillmode": "overlay",
              "size": 10,
              "solidity": 0.2
             }
            },
            "type": "barpolar"
           }
          ],
          "carpet": [
           {
            "aaxis": {
             "endlinecolor": "#2a3f5f",
             "gridcolor": "white",
             "linecolor": "white",
             "minorgridcolor": "white",
             "startlinecolor": "#2a3f5f"
            },
            "baxis": {
             "endlinecolor": "#2a3f5f",
             "gridcolor": "white",
             "linecolor": "white",
             "minorgridcolor": "white",
             "startlinecolor": "#2a3f5f"
            },
            "type": "carpet"
           }
          ],
          "choropleth": [
           {
            "colorbar": {
             "outlinewidth": 0,
             "ticks": ""
            },
            "type": "choropleth"
           }
          ],
          "contour": [
           {
            "colorbar": {
             "outlinewidth": 0,
             "ticks": ""
            },
            "colorscale": [
             [
              0,
              "#0d0887"
             ],
             [
              0.1111111111111111,
              "#46039f"
             ],
             [
              0.2222222222222222,
              "#7201a8"
             ],
             [
              0.3333333333333333,
              "#9c179e"
             ],
             [
              0.4444444444444444,
              "#bd3786"
             ],
             [
              0.5555555555555556,
              "#d8576b"
             ],
             [
              0.6666666666666666,
              "#ed7953"
             ],
             [
              0.7777777777777778,
              "#fb9f3a"
             ],
             [
              0.8888888888888888,
              "#fdca26"
             ],
             [
              1,
              "#f0f921"
             ]
            ],
            "type": "contour"
           }
          ],
          "contourcarpet": [
           {
            "colorbar": {
             "outlinewidth": 0,
             "ticks": ""
            },
            "type": "contourcarpet"
           }
          ],
          "heatmap": [
           {
            "colorbar": {
             "outlinewidth": 0,
             "ticks": ""
            },
            "colorscale": [
             [
              0,
              "#0d0887"
             ],
             [
              0.1111111111111111,
              "#46039f"
             ],
             [
              0.2222222222222222,
              "#7201a8"
             ],
             [
              0.3333333333333333,
              "#9c179e"
             ],
             [
              0.4444444444444444,
              "#bd3786"
             ],
             [
              0.5555555555555556,
              "#d8576b"
             ],
             [
              0.6666666666666666,
              "#ed7953"
             ],
             [
              0.7777777777777778,
              "#fb9f3a"
             ],
             [
              0.8888888888888888,
              "#fdca26"
             ],
             [
              1,
              "#f0f921"
             ]
            ],
            "type": "heatmap"
           }
          ],
          "heatmapgl": [
           {
            "colorbar": {
             "outlinewidth": 0,
             "ticks": ""
            },
            "colorscale": [
             [
              0,
              "#0d0887"
             ],
             [
              0.1111111111111111,
              "#46039f"
             ],
             [
              0.2222222222222222,
              "#7201a8"
             ],
             [
              0.3333333333333333,
              "#9c179e"
             ],
             [
              0.4444444444444444,
              "#bd3786"
             ],
             [
              0.5555555555555556,
              "#d8576b"
             ],
             [
              0.6666666666666666,
              "#ed7953"
             ],
             [
              0.7777777777777778,
              "#fb9f3a"
             ],
             [
              0.8888888888888888,
              "#fdca26"
             ],
             [
              1,
              "#f0f921"
             ]
            ],
            "type": "heatmapgl"
           }
          ],
          "histogram": [
           {
            "marker": {
             "pattern": {
              "fillmode": "overlay",
              "size": 10,
              "solidity": 0.2
             }
            },
            "type": "histogram"
           }
          ],
          "histogram2d": [
           {
            "colorbar": {
             "outlinewidth": 0,
             "ticks": ""
            },
            "colorscale": [
             [
              0,
              "#0d0887"
             ],
             [
              0.1111111111111111,
              "#46039f"
             ],
             [
              0.2222222222222222,
              "#7201a8"
             ],
             [
              0.3333333333333333,
              "#9c179e"
             ],
             [
              0.4444444444444444,
              "#bd3786"
             ],
             [
              0.5555555555555556,
              "#d8576b"
             ],
             [
              0.6666666666666666,
              "#ed7953"
             ],
             [
              0.7777777777777778,
              "#fb9f3a"
             ],
             [
              0.8888888888888888,
              "#fdca26"
             ],
             [
              1,
              "#f0f921"
             ]
            ],
            "type": "histogram2d"
           }
          ],
          "histogram2dcontour": [
           {
            "colorbar": {
             "outlinewidth": 0,
             "ticks": ""
            },
            "colorscale": [
             [
              0,
              "#0d0887"
             ],
             [
              0.1111111111111111,
              "#46039f"
             ],
             [
              0.2222222222222222,
              "#7201a8"
             ],
             [
              0.3333333333333333,
              "#9c179e"
             ],
             [
              0.4444444444444444,
              "#bd3786"
             ],
             [
              0.5555555555555556,
              "#d8576b"
             ],
             [
              0.6666666666666666,
              "#ed7953"
             ],
             [
              0.7777777777777778,
              "#fb9f3a"
             ],
             [
              0.8888888888888888,
              "#fdca26"
             ],
             [
              1,
              "#f0f921"
             ]
            ],
            "type": "histogram2dcontour"
           }
          ],
          "mesh3d": [
           {
            "colorbar": {
             "outlinewidth": 0,
             "ticks": ""
            },
            "type": "mesh3d"
           }
          ],
          "parcoords": [
           {
            "line": {
             "colorbar": {
              "outlinewidth": 0,
              "ticks": ""
             }
            },
            "type": "parcoords"
           }
          ],
          "pie": [
           {
            "automargin": true,
            "type": "pie"
           }
          ],
          "scatter": [
           {
            "fillpattern": {
             "fillmode": "overlay",
             "size": 10,
             "solidity": 0.2
            },
            "type": "scatter"
           }
          ],
          "scatter3d": [
           {
            "line": {
             "colorbar": {
              "outlinewidth": 0,
              "ticks": ""
             }
            },
            "marker": {
             "colorbar": {
              "outlinewidth": 0,
              "ticks": ""
             }
            },
            "type": "scatter3d"
           }
          ],
          "scattercarpet": [
           {
            "marker": {
             "colorbar": {
              "outlinewidth": 0,
              "ticks": ""
             }
            },
            "type": "scattercarpet"
           }
          ],
          "scattergeo": [
           {
            "marker": {
             "colorbar": {
              "outlinewidth": 0,
              "ticks": ""
             }
            },
            "type": "scattergeo"
           }
          ],
          "scattergl": [
           {
            "marker": {
             "colorbar": {
              "outlinewidth": 0,
              "ticks": ""
             }
            },
            "type": "scattergl"
           }
          ],
          "scattermapbox": [
           {
            "marker": {
             "colorbar": {
              "outlinewidth": 0,
              "ticks": ""
             }
            },
            "type": "scattermapbox"
           }
          ],
          "scatterpolar": [
           {
            "marker": {
             "colorbar": {
              "outlinewidth": 0,
              "ticks": ""
             }
            },
            "type": "scatterpolar"
           }
          ],
          "scatterpolargl": [
           {
            "marker": {
             "colorbar": {
              "outlinewidth": 0,
              "ticks": ""
             }
            },
            "type": "scatterpolargl"
           }
          ],
          "scatterternary": [
           {
            "marker": {
             "colorbar": {
              "outlinewidth": 0,
              "ticks": ""
             }
            },
            "type": "scatterternary"
           }
          ],
          "surface": [
           {
            "colorbar": {
             "outlinewidth": 0,
             "ticks": ""
            },
            "colorscale": [
             [
              0,
              "#0d0887"
             ],
             [
              0.1111111111111111,
              "#46039f"
             ],
             [
              0.2222222222222222,
              "#7201a8"
             ],
             [
              0.3333333333333333,
              "#9c179e"
             ],
             [
              0.4444444444444444,
              "#bd3786"
             ],
             [
              0.5555555555555556,
              "#d8576b"
             ],
             [
              0.6666666666666666,
              "#ed7953"
             ],
             [
              0.7777777777777778,
              "#fb9f3a"
             ],
             [
              0.8888888888888888,
              "#fdca26"
             ],
             [
              1,
              "#f0f921"
             ]
            ],
            "type": "surface"
           }
          ],
          "table": [
           {
            "cells": {
             "fill": {
              "color": "#EBF0F8"
             },
             "line": {
              "color": "white"
             }
            },
            "header": {
             "fill": {
              "color": "#C8D4E3"
             },
             "line": {
              "color": "white"
             }
            },
            "type": "table"
           }
          ]
         },
         "layout": {
          "annotationdefaults": {
           "arrowcolor": "#2a3f5f",
           "arrowhead": 0,
           "arrowwidth": 1
          },
          "autotypenumbers": "strict",
          "coloraxis": {
           "colorbar": {
            "outlinewidth": 0,
            "ticks": ""
           }
          },
          "colorscale": {
           "diverging": [
            [
             0,
             "#8e0152"
            ],
            [
             0.1,
             "#c51b7d"
            ],
            [
             0.2,
             "#de77ae"
            ],
            [
             0.3,
             "#f1b6da"
            ],
            [
             0.4,
             "#fde0ef"
            ],
            [
             0.5,
             "#f7f7f7"
            ],
            [
             0.6,
             "#e6f5d0"
            ],
            [
             0.7,
             "#b8e186"
            ],
            [
             0.8,
             "#7fbc41"
            ],
            [
             0.9,
             "#4d9221"
            ],
            [
             1,
             "#276419"
            ]
           ],
           "sequential": [
            [
             0,
             "#0d0887"
            ],
            [
             0.1111111111111111,
             "#46039f"
            ],
            [
             0.2222222222222222,
             "#7201a8"
            ],
            [
             0.3333333333333333,
             "#9c179e"
            ],
            [
             0.4444444444444444,
             "#bd3786"
            ],
            [
             0.5555555555555556,
             "#d8576b"
            ],
            [
             0.6666666666666666,
             "#ed7953"
            ],
            [
             0.7777777777777778,
             "#fb9f3a"
            ],
            [
             0.8888888888888888,
             "#fdca26"
            ],
            [
             1,
             "#f0f921"
            ]
           ],
           "sequentialminus": [
            [
             0,
             "#0d0887"
            ],
            [
             0.1111111111111111,
             "#46039f"
            ],
            [
             0.2222222222222222,
             "#7201a8"
            ],
            [
             0.3333333333333333,
             "#9c179e"
            ],
            [
             0.4444444444444444,
             "#bd3786"
            ],
            [
             0.5555555555555556,
             "#d8576b"
            ],
            [
             0.6666666666666666,
             "#ed7953"
            ],
            [
             0.7777777777777778,
             "#fb9f3a"
            ],
            [
             0.8888888888888888,
             "#fdca26"
            ],
            [
             1,
             "#f0f921"
            ]
           ]
          },
          "colorway": [
           "#636efa",
           "#EF553B",
           "#00cc96",
           "#ab63fa",
           "#FFA15A",
           "#19d3f3",
           "#FF6692",
           "#B6E880",
           "#FF97FF",
           "#FECB52"
          ],
          "font": {
           "color": "#2a3f5f"
          },
          "geo": {
           "bgcolor": "white",
           "lakecolor": "white",
           "landcolor": "#E5ECF6",
           "showlakes": true,
           "showland": true,
           "subunitcolor": "white"
          },
          "hoverlabel": {
           "align": "left"
          },
          "hovermode": "closest",
          "mapbox": {
           "style": "light"
          },
          "paper_bgcolor": "white",
          "plot_bgcolor": "#E5ECF6",
          "polar": {
           "angularaxis": {
            "gridcolor": "white",
            "linecolor": "white",
            "ticks": ""
           },
           "bgcolor": "#E5ECF6",
           "radialaxis": {
            "gridcolor": "white",
            "linecolor": "white",
            "ticks": ""
           }
          },
          "scene": {
           "xaxis": {
            "backgroundcolor": "#E5ECF6",
            "gridcolor": "white",
            "gridwidth": 2,
            "linecolor": "white",
            "showbackground": true,
            "ticks": "",
            "zerolinecolor": "white"
           },
           "yaxis": {
            "backgroundcolor": "#E5ECF6",
            "gridcolor": "white",
            "gridwidth": 2,
            "linecolor": "white",
            "showbackground": true,
            "ticks": "",
            "zerolinecolor": "white"
           },
           "zaxis": {
            "backgroundcolor": "#E5ECF6",
            "gridcolor": "white",
            "gridwidth": 2,
            "linecolor": "white",
            "showbackground": true,
            "ticks": "",
            "zerolinecolor": "white"
           }
          },
          "shapedefaults": {
           "line": {
            "color": "#2a3f5f"
           }
          },
          "ternary": {
           "aaxis": {
            "gridcolor": "white",
            "linecolor": "white",
            "ticks": ""
           },
           "baxis": {
            "gridcolor": "white",
            "linecolor": "white",
            "ticks": ""
           },
           "bgcolor": "#E5ECF6",
           "caxis": {
            "gridcolor": "white",
            "linecolor": "white",
            "ticks": ""
           }
          },
          "title": {
           "x": 0.05
          },
          "xaxis": {
           "automargin": true,
           "gridcolor": "white",
           "linecolor": "white",
           "ticks": "",
           "title": {
            "standoff": 15
           },
           "zerolinecolor": "white",
           "zerolinewidth": 2
          },
          "yaxis": {
           "automargin": true,
           "gridcolor": "white",
           "linecolor": "white",
           "ticks": "",
           "title": {
            "standoff": 15
           },
           "zerolinecolor": "white",
           "zerolinewidth": 2
          }
         }
        },
        "title": {
         "text": "Clustergrama: Genes separadores (score > 2) usando normalización por SERPINE1, PTK2"
        },
        "width": 1000,
        "xaxis": {
         "anchor": "y",
         "domain": [
          0,
          1
         ],
         "showticklabels": false
        },
        "xaxis2": {
         "anchor": "y2",
         "domain": [
          0,
          0.784
         ],
         "showticklabels": true,
         "title": {
          "text": "Tests"
         }
        },
        "xaxis3": {
         "anchor": "y3",
         "domain": [
          0.804,
          1
         ]
        },
        "yaxis": {
         "anchor": "x",
         "domain": [
          0.9109090909090909,
          1
         ]
        },
        "yaxis2": {
         "anchor": "x2",
         "domain": [
          0,
          0.8909090909090909
         ],
         "showticklabels": true,
         "title": {
          "text": "Genes"
         }
        },
        "yaxis3": {
         "anchor": "x3",
         "domain": [
          0,
          0.8909090909090909
         ],
         "matches": "y2",
         "showticklabels": false
        }
       }
      }
     },
     "metadata": {},
     "output_type": "display_data"
    },
    {
     "data": {
      "text/html": [
       "<div>\n",
       "<style scoped>\n",
       "    .dataframe tbody tr th:only-of-type {\n",
       "        vertical-align: middle;\n",
       "    }\n",
       "\n",
       "    .dataframe tbody tr th {\n",
       "        vertical-align: top;\n",
       "    }\n",
       "\n",
       "    .dataframe thead th {\n",
       "        text-align: right;\n",
       "    }\n",
       "</style>\n",
       "<table border=\"1\" class=\"dataframe\">\n",
       "  <thead>\n",
       "    <tr style=\"text-align: right;\">\n",
       "      <th></th>\n",
       "      <th>gene</th>\n",
       "      <th>score</th>\n",
       "    </tr>\n",
       "  </thead>\n",
       "  <tbody>\n",
       "    <tr>\n",
       "      <th>74</th>\n",
       "      <td>TWIST1</td>\n",
       "      <td>33.783782</td>\n",
       "    </tr>\n",
       "    <tr>\n",
       "      <th>37</th>\n",
       "      <td>MMP2</td>\n",
       "      <td>20.354203</td>\n",
       "    </tr>\n",
       "    <tr>\n",
       "      <th>38</th>\n",
       "      <td>MMP3</td>\n",
       "      <td>19.736086</td>\n",
       "    </tr>\n",
       "    <tr>\n",
       "      <th>44</th>\n",
       "      <td>NUDT13</td>\n",
       "      <td>17.037454</td>\n",
       "    </tr>\n",
       "    <tr>\n",
       "      <th>20</th>\n",
       "      <td>FN1</td>\n",
       "      <td>16.857643</td>\n",
       "    </tr>\n",
       "    <tr>\n",
       "      <th>...</th>\n",
       "      <td>...</td>\n",
       "      <td>...</td>\n",
       "    </tr>\n",
       "    <tr>\n",
       "      <th>56</th>\n",
       "      <td>SNAI1</td>\n",
       "      <td>2.387902</td>\n",
       "    </tr>\n",
       "    <tr>\n",
       "      <th>63</th>\n",
       "      <td>STEAP1</td>\n",
       "      <td>2.351094</td>\n",
       "    </tr>\n",
       "    <tr>\n",
       "      <th>24</th>\n",
       "      <td>GSC</td>\n",
       "      <td>2.306057</td>\n",
       "    </tr>\n",
       "    <tr>\n",
       "      <th>33</th>\n",
       "      <td>KRT14</td>\n",
       "      <td>2.274078</td>\n",
       "    </tr>\n",
       "    <tr>\n",
       "      <th>85</th>\n",
       "      <td>GAPDH</td>\n",
       "      <td>2.142307</td>\n",
       "    </tr>\n",
       "  </tbody>\n",
       "</table>\n",
       "<p>76 rows × 2 columns</p>\n",
       "</div>"
      ],
      "text/plain": [
       "      gene      score\n",
       "74  TWIST1  33.783782\n",
       "37    MMP2  20.354203\n",
       "38    MMP3  19.736086\n",
       "44  NUDT13  17.037454\n",
       "20     FN1  16.857643\n",
       "..     ...        ...\n",
       "56   SNAI1   2.387902\n",
       "63  STEAP1   2.351094\n",
       "24     GSC   2.306057\n",
       "33   KRT14   2.274078\n",
       "85   GAPDH   2.142307\n",
       "\n",
       "[76 rows x 2 columns]"
      ]
     },
     "metadata": {},
     "output_type": "display_data"
    }
   ],
   "source": [
    "# =============================================================================\n",
    "# 0. Importar librerías y cargar datos\n",
    "# =============================================================================\n",
    "import pandas as pd\n",
    "import numpy as np\n",
    "from itertools import combinations\n",
    "from scipy.stats import ttest_ind\n",
    "from tqdm import tqdm\n",
    "from concurrent.futures import ThreadPoolExecutor\n",
    "\n",
    "df = df_total.copy()  # Usamos el DataFrame total con datos normalizados\n",
    "\n",
    "# =============================================================================\n",
    "# 1. Función de score para un set de genes normalizadores\n",
    "# =============================================================================\n",
    "def separation_score_for_refs(refs):\n",
    "    temp = df.copy()\n",
    "    # Promedio de Ct de los genes en cada test\n",
    "    ref_cts = temp[temp['target'].isin(refs)].groupby('test')['ct'].mean().reset_index()\n",
    "    ref_cts = ref_cts.rename(columns={'ct': 'ref_ct'})\n",
    "    temp = temp.merge(ref_cts, on='test')\n",
    "    temp['delta_ct'] = temp['ct'] - temp['ref_ct']\n",
    "    temp['log2_rel_expr'] = -temp['delta_ct']\n",
    "    vals_ctrl = temp[temp['tipo'] == 'Control']['log2_rel_expr']\n",
    "    vals_case = temp[temp['tipo'] != 'Control']['log2_rel_expr']\n",
    "    if len(vals_ctrl) < 2 or len(vals_case) < 2:\n",
    "        return (refs, np.nan)\n",
    "    t_stat, _ = ttest_ind(vals_ctrl, vals_case, equal_var=False)\n",
    "    return (refs, abs(t_stat))\n",
    "\n",
    "# =============================================================================\n",
    "# 2. Selección de genes más prometedores (reduce combinatoria)\n",
    "# =============================================================================\n",
    "scores_indiv = []\n",
    "for gene in df['target'].unique():\n",
    "    temp = df.copy()\n",
    "    ref_ct = temp[temp['target'] == gene][['test', 'ct']].rename(columns={'ct': f'{gene}_ct'})\n",
    "    temp = temp.merge(ref_ct, on='test')\n",
    "    temp['delta_ct'] = temp['ct'] - temp[f'{gene}_ct']\n",
    "    temp['log2_rel_expr'] = -temp['delta_ct']\n",
    "    vals_ctrl = temp[temp['tipo'] == 'Control']['log2_rel_expr']\n",
    "    vals_case = temp[temp['tipo'] != 'Control']['log2_rel_expr']\n",
    "    if len(vals_ctrl) > 1 and len(vals_case) > 1:\n",
    "        t_stat, _ = ttest_ind(vals_ctrl, vals_case, equal_var=False)\n",
    "        scores_indiv.append((gene, abs(t_stat)))\n",
    "scores_indiv = sorted(scores_indiv, key=lambda x: -x[1])\n",
    "top_N = 12\n",
    "top_genes = [x[0] for x in scores_indiv[:top_N]]\n",
    "\n",
    "# =============================================================================\n",
    "# 3. Combinaciones de genes a evaluar (aquí K = tamaño del set)\n",
    "# =============================================================================\n",
    "K = 2  # Cambia a 2, 3, 4, etc. según tu CPU/RAM\n",
    "comb_list = list(combinations(top_genes, K))\n",
    "\n",
    "# =============================================================================\n",
    "# 4. Paralelización con ThreadPoolExecutor y barra de progreso\n",
    "# =============================================================================\n",
    "results = []\n",
    "with ThreadPoolExecutor() as executor:\n",
    "    for res in tqdm(executor.map(separation_score_for_refs, comb_list), total=len(comb_list), desc=f\"Probando sets de {K} genes\"):\n",
    "        results.append(res)\n",
    "\n",
    "# =============================================================================\n",
    "# 5. Mostrar las mejores combinaciones encontradas\n",
    "# =============================================================================\n",
    "df_results = pd.DataFrame(results, columns=['genes', 'score']).sort_values('score', ascending=False)\n",
    "display(df_results.head(10))\n",
    "\n",
    "# 1. Normalizar todo el dataset con los mejores genes normalizadores\n",
    "best_genes = df_results.iloc[0]['genes']\n",
    "temp = df.copy()\n",
    "ref_cts = temp[temp['target'].isin(best_genes)].groupby('test')['ct'].mean().reset_index()\n",
    "ref_cts = ref_cts.rename(columns={'ct': 'ref_ct'})\n",
    "temp = temp.merge(ref_cts, on='test')\n",
    "temp['delta_ct'] = temp['ct'] - temp['ref_ct']\n",
    "temp['log2_rel_expr'] = -temp['delta_ct']\n",
    "\n",
    "# 2. Calcular el score de separación para TODOS los genes bajo esta normalización\n",
    "genes_all = temp['target'].unique()\n",
    "scores_all = []\n",
    "for gene in genes_all:\n",
    "    sub = temp[temp['target'] == gene]\n",
    "    vals_ctrl = sub[sub['tipo'] == 'Control']['log2_rel_expr']\n",
    "    vals_case = sub[sub['tipo'] != 'Control']['log2_rel_expr']\n",
    "    if len(vals_ctrl) > 1 and len(vals_case) > 1:\n",
    "        t_stat, _ = ttest_ind(vals_ctrl, vals_case, equal_var=False)\n",
    "        scores_all.append((gene, abs(t_stat)))\n",
    "df_scores_all = pd.DataFrame(scores_all, columns=['gene', 'score']).sort_values('score', ascending=False)\n",
    "\n",
    "# 3. Seleccionar solo los genes con score alto (define tú el umbral, por ejemplo, score > 2)\n",
    "umbral = 2  # Puedes ajustar este valor para que el clustergrama no sea ni muy grande ni muy chico\n",
    "genes_separadores = df_scores_all[df_scores_all['score'] > umbral]['gene'].tolist()\n",
    "\n",
    "# 4. Heatmap solo para estos genes\n",
    "df_sep = temp[temp['target'].isin(genes_separadores)]\n",
    "heatmap_data = df_sep.pivot_table(\n",
    "    index='target',\n",
    "    columns='test',\n",
    "    values='log2_rel_expr',\n",
    "    aggfunc='mean'\n",
    ")\n",
    "\n",
    "# 5. Clustergrama solo para genes separadores\n",
    "fig = create_clustered_heatmap(\n",
    "    heatmap_data,\n",
    "    title=f\"Clustergrama: Genes separadores (score > {umbral}) usando normalización por {', '.join(best_genes)}\"\n",
    ")\n",
    "fig.show()\n",
    "\n",
    "# 6. Opcional: ver lista y scores de los genes incluidos en el plot\n",
    "display(df_scores_all[df_scores_all['gene'].isin(genes_separadores)])"
   ]
  },
  {
   "cell_type": "code",
   "execution_count": 17,
   "id": "79337d74",
   "metadata": {},
   "outputs": [
    {
     "name": "stderr",
     "output_type": "stream",
     "text": [
      "Probando sets de 2 genes: 100%|██████████| 66/66 [00:00<00:00, 1551.70it/s]\n"
     ]
    },
    {
     "data": {
      "application/vnd.plotly.v1+json": {
       "config": {
        "plotlyServerURL": "https://plot.ly"
       },
       "data": [
        {
         "hoverinfo": "text",
         "marker": {
          "color": "rgb(61,153,112)"
         },
         "mode": "lines",
         "type": "scatter",
         "x": [
          5,
          5,
          15,
          15
         ],
         "xaxis": "x",
         "y": [
          0,
          19.089533781630177,
          19.089533781630177,
          0
         ],
         "yaxis": "y"
        },
        {
         "hoverinfo": "text",
         "marker": {
          "color": "rgb(255,65,54)"
         },
         "mode": "lines",
         "type": "scatter",
         "x": [
          35,
          35,
          45,
          45
         ],
         "xaxis": "x",
         "y": [
          0,
          21.091403462074318,
          21.091403462074318,
          0
         ],
         "yaxis": "y"
        },
        {
         "hoverinfo": "text",
         "marker": {
          "color": "rgb(255,65,54)"
         },
         "mode": "lines",
         "type": "scatter",
         "x": [
          25,
          25,
          40,
          40
         ],
         "xaxis": "x",
         "y": [
          0,
          22.038329704692334,
          22.038329704692334,
          21.091403462074318
         ],
         "yaxis": "y"
        },
        {
         "hoverinfo": "text",
         "marker": {
          "color": "rgb(0,116,217)"
         },
         "mode": "lines",
         "type": "scatter",
         "x": [
          10,
          10,
          32.5,
          32.5
         ],
         "xaxis": "x",
         "y": [
          19.089533781630177,
          58.277422955712424,
          58.277422955712424,
          22.038329704692334
         ],
         "yaxis": "y"
        },
        {
         "hoverinfo": "text",
         "marker": {
          "color": "rgb(61,153,112)"
         },
         "mode": "lines",
         "type": "scatter",
         "x": [
          0,
          -6.542721146434413,
          -6.542721146434413,
          0
         ],
         "xaxis": "x3",
         "y": [
          5,
          5,
          15,
          15
         ],
         "yaxis": "y3"
        },
        {
         "hoverinfo": "text",
         "marker": {
          "color": "rgb(61,153,112)"
         },
         "mode": "lines",
         "type": "scatter",
         "x": [
          0,
          0,
          0,
          0
         ],
         "xaxis": "x3",
         "y": [
          25,
          25,
          35,
          35
         ],
         "yaxis": "y3"
        },
        {
         "hoverinfo": "text",
         "marker": {
          "color": "rgb(61,153,112)"
         },
         "mode": "lines",
         "type": "scatter",
         "x": [
          0,
          -3.3545193396372026,
          -3.3545193396372026,
          0
         ],
         "xaxis": "x3",
         "y": [
          55,
          55,
          65,
          65
         ],
         "yaxis": "y3"
        },
        {
         "hoverinfo": "text",
         "marker": {
          "color": "rgb(61,153,112)"
         },
         "mode": "lines",
         "type": "scatter",
         "x": [
          0,
          -5.13879829603845,
          -5.13879829603845,
          -3.3545193396372026
         ],
         "xaxis": "x3",
         "y": [
          45,
          45,
          60,
          60
         ],
         "yaxis": "y3"
        },
        {
         "hoverinfo": "text",
         "marker": {
          "color": "rgb(61,153,112)"
         },
         "mode": "lines",
         "type": "scatter",
         "x": [
          0,
          -3.1134064945008393,
          -3.1134064945008393,
          0
         ],
         "xaxis": "x3",
         "y": [
          75,
          75,
          85,
          85
         ],
         "yaxis": "y3"
        },
        {
         "hoverinfo": "text",
         "marker": {
          "color": "rgb(61,153,112)"
         },
         "mode": "lines",
         "type": "scatter",
         "x": [
          0,
          -4.564537216410883,
          -4.564537216410883,
          0
         ],
         "xaxis": "x3",
         "y": [
          95,
          95,
          105,
          105
         ],
         "yaxis": "y3"
        },
        {
         "hoverinfo": "text",
         "marker": {
          "color": "rgb(61,153,112)"
         },
         "mode": "lines",
         "type": "scatter",
         "x": [
          -3.1134064945008393,
          -5.341636960306445,
          -5.341636960306445,
          -4.564537216410883
         ],
         "xaxis": "x3",
         "y": [
          80,
          80,
          100,
          100
         ],
         "yaxis": "y3"
        },
        {
         "hoverinfo": "text",
         "marker": {
          "color": "rgb(61,153,112)"
         },
         "mode": "lines",
         "type": "scatter",
         "x": [
          -5.13879829603845,
          -6.09316919805136,
          -6.09316919805136,
          -5.341636960306445
         ],
         "xaxis": "x3",
         "y": [
          52.5,
          52.5,
          90,
          90
         ],
         "yaxis": "y3"
        },
        {
         "hoverinfo": "text",
         "marker": {
          "color": "rgb(61,153,112)"
         },
         "mode": "lines",
         "type": "scatter",
         "x": [
          0,
          -7.828168050203715,
          -7.828168050203715,
          -6.09316919805136
         ],
         "xaxis": "x3",
         "y": [
          30,
          30,
          71.25,
          71.25
         ],
         "yaxis": "y3"
        },
        {
         "hoverinfo": "text",
         "marker": {
          "color": "rgb(61,153,112)"
         },
         "mode": "lines",
         "type": "scatter",
         "x": [
          -6.542721146434413,
          -9.259076998403598,
          -9.259076998403598,
          -7.828168050203715
         ],
         "xaxis": "x3",
         "y": [
          10,
          10,
          50.625,
          50.625
         ],
         "yaxis": "y3"
        },
        {
         "hoverinfo": "text",
         "marker": {
          "color": "rgb(255,65,54)"
         },
         "mode": "lines",
         "type": "scatter",
         "x": [
          0,
          -2.1359775279716775,
          -2.1359775279716775,
          0
         ],
         "xaxis": "x3",
         "y": [
          145,
          145,
          155,
          155
         ],
         "yaxis": "y3"
        },
        {
         "hoverinfo": "text",
         "marker": {
          "color": "rgb(255,65,54)"
         },
         "mode": "lines",
         "type": "scatter",
         "x": [
          0,
          -3.5361164342703164,
          -3.5361164342703164,
          -2.1359775279716775
         ],
         "xaxis": "x3",
         "y": [
          135,
          135,
          150,
          150
         ],
         "yaxis": "y3"
        },
        {
         "hoverinfo": "text",
         "marker": {
          "color": "rgb(255,65,54)"
         },
         "mode": "lines",
         "type": "scatter",
         "x": [
          0,
          -5.7835575901699,
          -5.7835575901699,
          -3.5361164342703164
         ],
         "xaxis": "x3",
         "y": [
          125,
          125,
          142.5,
          142.5
         ],
         "yaxis": "y3"
        },
        {
         "hoverinfo": "text",
         "marker": {
          "color": "rgb(255,65,54)"
         },
         "mode": "lines",
         "type": "scatter",
         "x": [
          0,
          -1.919661428481598,
          -1.919661428481598,
          0
         ],
         "xaxis": "x3",
         "y": [
          165,
          165,
          175,
          175
         ],
         "yaxis": "y3"
        },
        {
         "hoverinfo": "text",
         "marker": {
          "color": "rgb(255,65,54)"
         },
         "mode": "lines",
         "type": "scatter",
         "x": [
          0,
          -2.3682271850479193,
          -2.3682271850479193,
          0
         ],
         "xaxis": "x3",
         "y": [
          185,
          185,
          195,
          195
         ],
         "yaxis": "y3"
        },
        {
         "hoverinfo": "text",
         "marker": {
          "color": "rgb(255,65,54)"
         },
         "mode": "lines",
         "type": "scatter",
         "x": [
          -1.919661428481598,
          -3.7717950526581827,
          -3.7717950526581827,
          -2.3682271850479193
         ],
         "xaxis": "x3",
         "y": [
          170,
          170,
          190,
          190
         ],
         "yaxis": "y3"
        },
        {
         "hoverinfo": "text",
         "marker": {
          "color": "rgb(255,65,54)"
         },
         "mode": "lines",
         "type": "scatter",
         "x": [
          0,
          -2.82511946650049,
          -2.82511946650049,
          0
         ],
         "xaxis": "x3",
         "y": [
          215,
          215,
          225,
          225
         ],
         "yaxis": "y3"
        },
        {
         "hoverinfo": "text",
         "marker": {
          "color": "rgb(255,65,54)"
         },
         "mode": "lines",
         "type": "scatter",
         "x": [
          0,
          -4.417905280426323,
          -4.417905280426323,
          -2.82511946650049
         ],
         "xaxis": "x3",
         "y": [
          205,
          205,
          220,
          220
         ],
         "yaxis": "y3"
        },
        {
         "hoverinfo": "text",
         "marker": {
          "color": "rgb(255,65,54)"
         },
         "mode": "lines",
         "type": "scatter",
         "x": [
          -3.7717950526581827,
          -4.801654225887789,
          -4.801654225887789,
          -4.417905280426323
         ],
         "xaxis": "x3",
         "y": [
          180,
          180,
          212.5,
          212.5
         ],
         "yaxis": "y3"
        },
        {
         "hoverinfo": "text",
         "marker": {
          "color": "rgb(255,65,54)"
         },
         "mode": "lines",
         "type": "scatter",
         "x": [
          0,
          -2.415160450156469,
          -2.415160450156469,
          0
         ],
         "xaxis": "x3",
         "y": [
          235,
          235,
          245,
          245
         ],
         "yaxis": "y3"
        },
        {
         "hoverinfo": "text",
         "marker": {
          "color": "rgb(255,65,54)"
         },
         "mode": "lines",
         "type": "scatter",
         "x": [
          0,
          -3.045242190696824,
          -3.045242190696824,
          0
         ],
         "xaxis": "x3",
         "y": [
          255,
          255,
          265,
          265
         ],
         "yaxis": "y3"
        },
        {
         "hoverinfo": "text",
         "marker": {
          "color": "rgb(255,65,54)"
         },
         "mode": "lines",
         "type": "scatter",
         "x": [
          -2.415160450156469,
          -4.139006277291754,
          -4.139006277291754,
          -3.045242190696824
         ],
         "xaxis": "x3",
         "y": [
          240,
          240,
          260,
          260
         ],
         "yaxis": "y3"
        },
        {
         "hoverinfo": "text",
         "marker": {
          "color": "rgb(255,65,54)"
         },
         "mode": "lines",
         "type": "scatter",
         "x": [
          0,
          -2.826941810508313,
          -2.826941810508313,
          0
         ],
         "xaxis": "x3",
         "y": [
          295,
          295,
          305,
          305
         ],
         "yaxis": "y3"
        },
        {
         "hoverinfo": "text",
         "marker": {
          "color": "rgb(255,65,54)"
         },
         "mode": "lines",
         "type": "scatter",
         "x": [
          0,
          -3.5844775308750574,
          -3.5844775308750574,
          -2.826941810508313
         ],
         "xaxis": "x3",
         "y": [
          285,
          285,
          300,
          300
         ],
         "yaxis": "y3"
        },
        {
         "hoverinfo": "text",
         "marker": {
          "color": "rgb(255,65,54)"
         },
         "mode": "lines",
         "type": "scatter",
         "x": [
          0,
          -4.143206653239516,
          -4.143206653239516,
          -3.5844775308750574
         ],
         "xaxis": "x3",
         "y": [
          275,
          275,
          292.5,
          292.5
         ],
         "yaxis": "y3"
        },
        {
         "hoverinfo": "text",
         "marker": {
          "color": "rgb(255,65,54)"
         },
         "mode": "lines",
         "type": "scatter",
         "x": [
          0,
          -1.8736595208308247,
          -1.8736595208308247,
          0
         ],
         "xaxis": "x3",
         "y": [
          315,
          315,
          325,
          325
         ],
         "yaxis": "y3"
        },
        {
         "hoverinfo": "text",
         "marker": {
          "color": "rgb(255,65,54)"
         },
         "mode": "lines",
         "type": "scatter",
         "x": [
          0,
          -1.8315021157508922,
          -1.8315021157508922,
          0
         ],
         "xaxis": "x3",
         "y": [
          335,
          335,
          345,
          345
         ],
         "yaxis": "y3"
        },
        {
         "hoverinfo": "text",
         "marker": {
          "color": "rgb(255,65,54)"
         },
         "mode": "lines",
         "type": "scatter",
         "x": [
          0,
          -1.4970303938130294,
          -1.4970303938130294,
          0
         ],
         "xaxis": "x3",
         "y": [
          375,
          375,
          385,
          385
         ],
         "yaxis": "y3"
        },
        {
         "hoverinfo": "text",
         "marker": {
          "color": "rgb(255,65,54)"
         },
         "mode": "lines",
         "type": "scatter",
         "x": [
          0,
          -1.6365067128937132,
          -1.6365067128937132,
          -1.4970303938130294
         ],
         "xaxis": "x3",
         "y": [
          365,
          365,
          380,
          380
         ],
         "yaxis": "y3"
        },
        {
         "hoverinfo": "text",
         "marker": {
          "color": "rgb(255,65,54)"
         },
         "mode": "lines",
         "type": "scatter",
         "x": [
          0,
          -2.2115070484680217,
          -2.2115070484680217,
          -1.6365067128937132
         ],
         "xaxis": "x3",
         "y": [
          355,
          355,
          372.5,
          372.5
         ],
         "yaxis": "y3"
        },
        {
         "hoverinfo": "text",
         "marker": {
          "color": "rgb(255,65,54)"
         },
         "mode": "lines",
         "type": "scatter",
         "x": [
          -1.8315021157508922,
          -2.6444594893736544,
          -2.6444594893736544,
          -2.2115070484680217
         ],
         "xaxis": "x3",
         "y": [
          340,
          340,
          363.75,
          363.75
         ],
         "yaxis": "y3"
        },
        {
         "hoverinfo": "text",
         "marker": {
          "color": "rgb(255,65,54)"
         },
         "mode": "lines",
         "type": "scatter",
         "x": [
          0,
          -2.0016243403795793,
          -2.0016243403795793,
          0
         ],
         "xaxis": "x3",
         "y": [
          395,
          395,
          405,
          405
         ],
         "yaxis": "y3"
        },
        {
         "hoverinfo": "text",
         "marker": {
          "color": "rgb(255,65,54)"
         },
         "mode": "lines",
         "type": "scatter",
         "x": [
          0,
          -1.237214613557407,
          -1.237214613557407,
          0
         ],
         "xaxis": "x3",
         "y": [
          435,
          435,
          445,
          445
         ],
         "yaxis": "y3"
        },
        {
         "hoverinfo": "text",
         "marker": {
          "color": "rgb(255,65,54)"
         },
         "mode": "lines",
         "type": "scatter",
         "x": [
          0,
          -1.6345771712433566,
          -1.6345771712433566,
          -1.237214613557407
         ],
         "xaxis": "x3",
         "y": [
          425,
          425,
          440,
          440
         ],
         "yaxis": "y3"
        },
        {
         "hoverinfo": "text",
         "marker": {
          "color": "rgb(255,65,54)"
         },
         "mode": "lines",
         "type": "scatter",
         "x": [
          0,
          -2.102680311290425,
          -2.102680311290425,
          -1.6345771712433566
         ],
         "xaxis": "x3",
         "y": [
          415,
          415,
          432.5,
          432.5
         ],
         "yaxis": "y3"
        },
        {
         "hoverinfo": "text",
         "marker": {
          "color": "rgb(255,65,54)"
         },
         "mode": "lines",
         "type": "scatter",
         "x": [
          -2.0016243403795793,
          -2.6655359846209614,
          -2.6655359846209614,
          -2.102680311290425
         ],
         "xaxis": "x3",
         "y": [
          400,
          400,
          423.75,
          423.75
         ],
         "yaxis": "y3"
        },
        {
         "hoverinfo": "text",
         "marker": {
          "color": "rgb(255,65,54)"
         },
         "mode": "lines",
         "type": "scatter",
         "x": [
          -2.6444594893736544,
          -3.0957385598955915,
          -3.0957385598955915,
          -2.6655359846209614
         ],
         "xaxis": "x3",
         "y": [
          351.875,
          351.875,
          411.875,
          411.875
         ],
         "yaxis": "y3"
        },
        {
         "hoverinfo": "text",
         "marker": {
          "color": "rgb(255,65,54)"
         },
         "mode": "lines",
         "type": "scatter",
         "x": [
          -1.8736595208308247,
          -3.50817865882145,
          -3.50817865882145,
          -3.0957385598955915
         ],
         "xaxis": "x3",
         "y": [
          320,
          320,
          381.875,
          381.875
         ],
         "yaxis": "y3"
        },
        {
         "hoverinfo": "text",
         "marker": {
          "color": "rgb(255,65,54)"
         },
         "mode": "lines",
         "type": "scatter",
         "x": [
          0,
          -3.839348903134493,
          -3.839348903134493,
          0
         ],
         "xaxis": "x3",
         "y": [
          455,
          455,
          465,
          465
         ],
         "yaxis": "y3"
        },
        {
         "hoverinfo": "text",
         "marker": {
          "color": "rgb(255,65,54)"
         },
         "mode": "lines",
         "type": "scatter",
         "x": [
          -3.50817865882145,
          -4.533143882115641,
          -4.533143882115641,
          -3.839348903134493
         ],
         "xaxis": "x3",
         "y": [
          350.9375,
          350.9375,
          460,
          460
         ],
         "yaxis": "y3"
        },
        {
         "hoverinfo": "text",
         "marker": {
          "color": "rgb(255,65,54)"
         },
         "mode": "lines",
         "type": "scatter",
         "x": [
          -4.143206653239516,
          -4.831167037161795,
          -4.831167037161795,
          -4.533143882115641
         ],
         "xaxis": "x3",
         "y": [
          283.75,
          283.75,
          405.46875,
          405.46875
         ],
         "yaxis": "y3"
        },
        {
         "hoverinfo": "text",
         "marker": {
          "color": "rgb(255,65,54)"
         },
         "mode": "lines",
         "type": "scatter",
         "x": [
          -4.139006277291754,
          -5.431208275426109,
          -5.431208275426109,
          -4.831167037161795
         ],
         "xaxis": "x3",
         "y": [
          250,
          250,
          344.609375,
          344.609375
         ],
         "yaxis": "y3"
        },
        {
         "hoverinfo": "text",
         "marker": {
          "color": "rgb(255,65,54)"
         },
         "mode": "lines",
         "type": "scatter",
         "x": [
          -4.801654225887789,
          -6.329912084390649,
          -6.329912084390649,
          -5.431208275426109
         ],
         "xaxis": "x3",
         "y": [
          196.25,
          196.25,
          297.3046875,
          297.3046875
         ],
         "yaxis": "y3"
        },
        {
         "hoverinfo": "text",
         "marker": {
          "color": "rgb(255,65,54)"
         },
         "mode": "lines",
         "type": "scatter",
         "x": [
          -5.7835575901699,
          -6.986288220389404,
          -6.986288220389404,
          -6.329912084390649
         ],
         "xaxis": "x3",
         "y": [
          133.75,
          133.75,
          246.77734375,
          246.77734375
         ],
         "yaxis": "y3"
        },
        {
         "hoverinfo": "text",
         "marker": {
          "color": "rgb(255,65,54)"
         },
         "mode": "lines",
         "type": "scatter",
         "x": [
          0,
          -1.781909088590099,
          -1.781909088590099,
          0
         ],
         "xaxis": "x3",
         "y": [
          475,
          475,
          485,
          485
         ],
         "yaxis": "y3"
        },
        {
         "hoverinfo": "text",
         "marker": {
          "color": "rgb(255,65,54)"
         },
         "mode": "lines",
         "type": "scatter",
         "x": [
          0,
          -1.327629466379836,
          -1.327629466379836,
          0
         ],
         "xaxis": "x3",
         "y": [
          515,
          515,
          525,
          525
         ],
         "yaxis": "y3"
        },
        {
         "hoverinfo": "text",
         "marker": {
          "color": "rgb(255,65,54)"
         },
         "mode": "lines",
         "type": "scatter",
         "x": [
          0,
          -0.9655568341635828,
          -0.9655568341635828,
          0
         ],
         "xaxis": "x3",
         "y": [
          535,
          535,
          545,
          545
         ],
         "yaxis": "y3"
        },
        {
         "hoverinfo": "text",
         "marker": {
          "color": "rgb(255,65,54)"
         },
         "mode": "lines",
         "type": "scatter",
         "x": [
          0,
          -1.1972468417164441,
          -1.1972468417164441,
          0
         ],
         "xaxis": "x3",
         "y": [
          555,
          555,
          565,
          565
         ],
         "yaxis": "y3"
        },
        {
         "hoverinfo": "text",
         "marker": {
          "color": "rgb(255,65,54)"
         },
         "mode": "lines",
         "type": "scatter",
         "x": [
          -0.9655568341635828,
          -1.3457275797572905,
          -1.3457275797572905,
          -1.1972468417164441
         ],
         "xaxis": "x3",
         "y": [
          540,
          540,
          560,
          560
         ],
         "yaxis": "y3"
        },
        {
         "hoverinfo": "text",
         "marker": {
          "color": "rgb(255,65,54)"
         },
         "mode": "lines",
         "type": "scatter",
         "x": [
          -1.327629466379836,
          -1.9723880031616408,
          -1.9723880031616408,
          -1.3457275797572905
         ],
         "xaxis": "x3",
         "y": [
          520,
          520,
          550,
          550
         ],
         "yaxis": "y3"
        },
        {
         "hoverinfo": "text",
         "marker": {
          "color": "rgb(255,65,54)"
         },
         "mode": "lines",
         "type": "scatter",
         "x": [
          0,
          -2.107887992036545,
          -2.107887992036545,
          -1.9723880031616408
         ],
         "xaxis": "x3",
         "y": [
          505,
          505,
          535,
          535
         ],
         "yaxis": "y3"
        },
        {
         "hoverinfo": "text",
         "marker": {
          "color": "rgb(255,65,54)"
         },
         "mode": "lines",
         "type": "scatter",
         "x": [
          0,
          -2.443378808126158,
          -2.443378808126158,
          0
         ],
         "xaxis": "x3",
         "y": [
          575,
          575,
          585,
          585
         ],
         "yaxis": "y3"
        },
        {
         "hoverinfo": "text",
         "marker": {
          "color": "rgb(255,65,54)"
         },
         "mode": "lines",
         "type": "scatter",
         "x": [
          -2.107887992036545,
          -2.578162700764268,
          -2.578162700764268,
          -2.443378808126158
         ],
         "xaxis": "x3",
         "y": [
          520,
          520,
          580,
          580
         ],
         "yaxis": "y3"
        },
        {
         "hoverinfo": "text",
         "marker": {
          "color": "rgb(255,65,54)"
         },
         "mode": "lines",
         "type": "scatter",
         "x": [
          0,
          -1.5858436240689047,
          -1.5858436240689047,
          0
         ],
         "xaxis": "x3",
         "y": [
          595,
          595,
          605,
          605
         ],
         "yaxis": "y3"
        },
        {
         "hoverinfo": "text",
         "marker": {
          "color": "rgb(255,65,54)"
         },
         "mode": "lines",
         "type": "scatter",
         "x": [
          0,
          -0.7507329751649404,
          -0.7507329751649404,
          0
         ],
         "xaxis": "x3",
         "y": [
          645,
          645,
          655,
          655
         ],
         "yaxis": "y3"
        },
        {
         "hoverinfo": "text",
         "marker": {
          "color": "rgb(255,65,54)"
         },
         "mode": "lines",
         "type": "scatter",
         "x": [
          0,
          -0.9695696333413268,
          -0.9695696333413268,
          -0.7507329751649404
         ],
         "xaxis": "x3",
         "y": [
          635,
          635,
          650,
          650
         ],
         "yaxis": "y3"
        },
        {
         "hoverinfo": "text",
         "marker": {
          "color": "rgb(255,65,54)"
         },
         "mode": "lines",
         "type": "scatter",
         "x": [
          0,
          -0.9893937537704587,
          -0.9893937537704587,
          0
         ],
         "xaxis": "x3",
         "y": [
          665,
          665,
          675,
          675
         ],
         "yaxis": "y3"
        },
        {
         "hoverinfo": "text",
         "marker": {
          "color": "rgb(255,65,54)"
         },
         "mode": "lines",
         "type": "scatter",
         "x": [
          -0.9695696333413268,
          -1.6956210523647943,
          -1.6956210523647943,
          -0.9893937537704587
         ],
         "xaxis": "x3",
         "y": [
          642.5,
          642.5,
          670,
          670
         ],
         "yaxis": "y3"
        },
        {
         "hoverinfo": "text",
         "marker": {
          "color": "rgb(255,65,54)"
         },
         "mode": "lines",
         "type": "scatter",
         "x": [
          0,
          -1.7917941127147405,
          -1.7917941127147405,
          -1.6956210523647943
         ],
         "xaxis": "x3",
         "y": [
          625,
          625,
          656.25,
          656.25
         ],
         "yaxis": "y3"
        },
        {
         "hoverinfo": "text",
         "marker": {
          "color": "rgb(255,65,54)"
         },
         "mode": "lines",
         "type": "scatter",
         "x": [
          0,
          -2.575330086314612,
          -2.575330086314612,
          -1.7917941127147405
         ],
         "xaxis": "x3",
         "y": [
          615,
          615,
          640.625,
          640.625
         ],
         "yaxis": "y3"
        },
        {
         "hoverinfo": "text",
         "marker": {
          "color": "rgb(255,65,54)"
         },
         "mode": "lines",
         "type": "scatter",
         "x": [
          -1.5858436240689047,
          -2.7404515183357523,
          -2.7404515183357523,
          -2.575330086314612
         ],
         "xaxis": "x3",
         "y": [
          600,
          600,
          627.8125,
          627.8125
         ],
         "yaxis": "y3"
        },
        {
         "hoverinfo": "text",
         "marker": {
          "color": "rgb(255,65,54)"
         },
         "mode": "lines",
         "type": "scatter",
         "x": [
          -2.578162700764268,
          -3.6104047459983954,
          -3.6104047459983954,
          -2.7404515183357523
         ],
         "xaxis": "x3",
         "y": [
          550,
          550,
          613.90625,
          613.90625
         ],
         "yaxis": "y3"
        },
        {
         "hoverinfo": "text",
         "marker": {
          "color": "rgb(255,65,54)"
         },
         "mode": "lines",
         "type": "scatter",
         "x": [
          0,
          -1.8855768348173962,
          -1.8855768348173962,
          0
         ],
         "xaxis": "x3",
         "y": [
          695,
          695,
          705,
          705
         ],
         "yaxis": "y3"
        },
        {
         "hoverinfo": "text",
         "marker": {
          "color": "rgb(255,65,54)"
         },
         "mode": "lines",
         "type": "scatter",
         "x": [
          0,
          -0.4701063709417273,
          -0.4701063709417273,
          0
         ],
         "xaxis": "x3",
         "y": [
          725,
          725,
          735,
          735
         ],
         "yaxis": "y3"
        },
        {
         "hoverinfo": "text",
         "marker": {
          "color": "rgb(255,65,54)"
         },
         "mode": "lines",
         "type": "scatter",
         "x": [
          0,
          -1.1086478250553702,
          -1.1086478250553702,
          0
         ],
         "xaxis": "x3",
         "y": [
          745,
          745,
          755,
          755
         ],
         "yaxis": "y3"
        },
        {
         "hoverinfo": "text",
         "marker": {
          "color": "rgb(255,65,54)"
         },
         "mode": "lines",
         "type": "scatter",
         "x": [
          -0.4701063709417273,
          -1.3704489997018894,
          -1.3704489997018894,
          -1.1086478250553702
         ],
         "xaxis": "x3",
         "y": [
          730,
          730,
          750,
          750
         ],
         "yaxis": "y3"
        },
        {
         "hoverinfo": "text",
         "marker": {
          "color": "rgb(255,65,54)"
         },
         "mode": "lines",
         "type": "scatter",
         "x": [
          0,
          -2.4442377263609716,
          -2.4442377263609716,
          -1.3704489997018894
         ],
         "xaxis": "x3",
         "y": [
          715,
          715,
          740,
          740
         ],
         "yaxis": "y3"
        },
        {
         "hoverinfo": "text",
         "marker": {
          "color": "rgb(255,65,54)"
         },
         "mode": "lines",
         "type": "scatter",
         "x": [
          -1.8855768348173962,
          -3.00003416669406,
          -3.00003416669406,
          -2.4442377263609716
         ],
         "xaxis": "x3",
         "y": [
          700,
          700,
          727.5,
          727.5
         ],
         "yaxis": "y3"
        },
        {
         "hoverinfo": "text",
         "marker": {
          "color": "rgb(255,65,54)"
         },
         "mode": "lines",
         "type": "scatter",
         "x": [
          0,
          -3.9803622951935203,
          -3.9803622951935203,
          -3.00003416669406
         ],
         "xaxis": "x3",
         "y": [
          685,
          685,
          713.75,
          713.75
         ],
         "yaxis": "y3"
        },
        {
         "hoverinfo": "text",
         "marker": {
          "color": "rgb(255,65,54)"
         },
         "mode": "lines",
         "type": "scatter",
         "x": [
          -3.6104047459983954,
          -5.38336669873016,
          -5.38336669873016,
          -3.9803622951935203
         ],
         "xaxis": "x3",
         "y": [
          581.953125,
          581.953125,
          699.375,
          699.375
         ],
         "yaxis": "y3"
        },
        {
         "hoverinfo": "text",
         "marker": {
          "color": "rgb(255,65,54)"
         },
         "mode": "lines",
         "type": "scatter",
         "x": [
          0,
          -6.522413898126739,
          -6.522413898126739,
          -5.38336669873016
         ],
         "xaxis": "x3",
         "y": [
          495,
          495,
          640.6640625,
          640.6640625
         ],
         "yaxis": "y3"
        },
        {
         "hoverinfo": "text",
         "marker": {
          "color": "rgb(255,65,54)"
         },
         "mode": "lines",
         "type": "scatter",
         "x": [
          -1.781909088590099,
          -9.527842389397502,
          -9.527842389397502,
          -6.522413898126739
         ],
         "xaxis": "x3",
         "y": [
          480,
          480,
          567.83203125,
          567.83203125
         ],
         "yaxis": "y3"
        },
        {
         "hoverinfo": "text",
         "marker": {
          "color": "rgb(255,65,54)"
         },
         "mode": "lines",
         "type": "scatter",
         "x": [
          -6.986288220389404,
          -10.421466169196696,
          -10.421466169196696,
          -9.527842389397502
         ],
         "xaxis": "x3",
         "y": [
          190.263671875,
          190.263671875,
          523.916015625,
          523.916015625
         ],
         "yaxis": "y3"
        },
        {
         "hoverinfo": "text",
         "marker": {
          "color": "rgb(0,116,217)"
         },
         "mode": "lines",
         "type": "scatter",
         "x": [
          0,
          -13.358539264867314,
          -13.358539264867314,
          -10.421466169196696
         ],
         "xaxis": "x3",
         "y": [
          115,
          115,
          357.08984375,
          357.08984375
         ],
         "yaxis": "y3"
        },
        {
         "hoverinfo": "text",
         "marker": {
          "color": "rgb(0,116,217)"
         },
         "mode": "lines",
         "type": "scatter",
         "x": [
          -9.259076998403598,
          -17.88268024873909,
          -17.88268024873909,
          -13.358539264867314
         ],
         "xaxis": "x3",
         "y": [
          30.3125,
          30.3125,
          236.044921875,
          236.044921875
         ],
         "yaxis": "y3"
        },
        {
         "colorbar": {
          "title": {
           "text": "log2(Exp. Rel. vs ILK)"
          }
         },
         "colorscale": [
          [
           0,
           "#2c7bb6"
          ],
          [
           0.5,
           "#ffffb2"
          ],
          [
           1,
           "#d7191c"
          ]
         ],
         "showscale": true,
         "type": "heatmap",
         "x": [
          "4GB001",
          "4GB031",
          "3CG129",
          "3CG008",
          "3CG128"
         ],
         "xaxis": "x2",
         "y": [
          "GAPDH",
          "GSC",
          "ILK",
          "VIM",
          "NOTCH1",
          "ITGB1",
          "TGFB1",
          "CAV2",
          "FGFBP1",
          "PTP4A1",
          "STEAP1",
          "KRT14",
          "ACTB",
          "COL3A1",
          "GNG11",
          "GSK3B",
          "FN1",
          "MMP2",
          "BMP7",
          "TCF3",
          "WNT11",
          "KRT7",
          "SPARC",
          "RAC1",
          "TGFB3",
          "SNAI1",
          "STAT3",
          "HPRT1",
          "ESR1",
          "CDH2",
          "ITGAV",
          "PDGFRB",
          "TIMP1",
          "SNAI2",
          "VPS13A",
          "NODAL",
          "DSP",
          "NUDT13",
          "WNT5A",
          "CALD1",
          "IGFBP4",
          "SIP1",
          "CTNNB1",
          "PLEK2",
          "SMAD2",
          "ERBB3",
          "ZEB1",
          "AKT1",
          "MST1R",
          "TFPI2",
          "COL1A2",
          "BMP2",
          "COL5A2",
          "TMEM132A",
          "TSPAN13",
          "CDH1",
          "IL1RN",
          "FOXC2",
          "TMEFF1",
          "SOX10",
          "TWIST1",
          "ITGA5",
          "OCLN",
          "MAP1B",
          "SPP1",
          "WNT5B",
          "F11R",
          "KRT19",
          "RPLP0",
          "DSC2",
          "TGFB2",
          "MSN",
          "EGFR",
          "FZD7",
          "MMP3",
          "RGS2"
         ],
         "yaxis": "y2",
         "z": [
          [
           8.600000000000001,
           -1.0249999999999986,
           -6.25,
           -7.669999999999995,
           -5.849999999999994
          ],
          [
           8.469999999999999,
           1.3250000000000028,
           -1.9399999999999977,
           -3.3599999999999923,
           -6.189999999999998
          ],
          [
           -0.6799999999999997,
           -1.0249999999999986,
           -6.25,
           -7.669999999999995,
           -7.869999999999997
          ],
          [
           -0.6799999999999997,
           -1.0249999999999986,
           -6.25,
           -7.669999999999995,
           -7.869999999999997
          ],
          [
           -0.3100000000000023,
           -1.0249999999999986,
           -5.270000000000003,
           -2.6899999999999977,
           -3.049999999999997
          ],
          [
           2.490000000000002,
           1.8149999999999977,
           -4.32,
           -2.8399999999999963,
           -3.989999999999995
          ],
          [
           2.020000000000003,
           3.0249999999999986,
           -2.509999999999998,
           -0.37999999999999545,
           -4.479999999999997
          ],
          [
           3.8200000000000003,
           -1.0249999999999986,
           -6.25,
           -2.6599999999999966,
           -7.869999999999997
          ],
          [
           5.5,
           0.6950000000000003,
           -6.25,
           -0.8099999999999952,
           -7.169999999999995
          ],
          [
           0.060000000000002274,
           3.5050000000000026,
           -6.090000000000003,
           -1.8499999999999943,
           -7.799999999999997
          ],
          [
           0.35999999999999943,
           -1.0249999999999986,
           -6.25,
           -1.4099999999999966,
           -7.869999999999997
          ],
          [
           6.439999999999998,
           5.884999999999998,
           5.130000000000003,
           -6.109999999999992,
           -5.059999999999995
          ],
          [
           8.990000000000002,
           8.155000000000001,
           -4.710000000000001,
           2.020000000000003,
           3.1300000000000026
          ],
          [
           11.07,
           9.475000000000001,
           -2.039999999999999,
           -0.28999999999999204,
           1.9600000000000009
          ],
          [
           11.189999999999998,
           9.785000000000004,
           1.0899999999999963,
           0.1600000000000037,
           2.0600000000000023
          ],
          [
           10.270000000000003,
           8.285000000000004,
           1.1700000000000017,
           1.3600000000000065,
           2.200000000000003
          ],
          [
           7.770000000000003,
           7.914999999999999,
           -2.770000000000003,
           -0.8399999999999963,
           -2.25
          ],
          [
           7.439999999999998,
           7.884999999999998,
           -1.6499999999999986,
           -0.4399999999999977,
           -0.7800000000000011
          ],
          [
           5.670000000000002,
           5.355000000000004,
           0.10999999999999943,
           -1.4099999999999966,
           -1.5399999999999991
          ],
          [
           7.57,
           6.285000000000004,
           0.6899999999999977,
           -0.5499999999999972,
           -1.2999999999999972
          ],
          [
           3.9200000000000017,
           7.155000000000001,
           -3.4399999999999977,
           -1.7099999999999937,
           -3.269999999999996
          ],
          [
           5.990000000000002,
           5.285000000000004,
           -2.1799999999999997,
           0.2700000000000031,
           -3.979999999999997
          ],
          [
           4.229999999999997,
           4.145000000000003,
           -0.8200000000000003,
           1.480000000000004,
           -3.460000000000001
          ],
          [
           5.539999999999999,
           5.725000000000001,
           3.020000000000003,
           2.5700000000000074,
           -0.509999999999998
          ],
          [
           5.520000000000003,
           5.484999999999999,
           3.1899999999999977,
           1.5100000000000051,
           -2.6599999999999966
          ],
          [
           2.5900000000000034,
           5.445,
           0.8699999999999974,
           0.970000000000006,
           -1.1999999999999957
          ],
          [
           3.539999999999999,
           2.7749999999999986,
           1.259999999999998,
           1.8100000000000023,
           -0.5799999999999983
          ],
          [
           6.229999999999997,
           7.835000000000001,
           -1.5399999999999991,
           3.720000000000006,
           -0.46999999999999886
          ],
          [
           8.310000000000002,
           4.075000000000003,
           -0.7199999999999989,
           2.0300000000000082,
           -1.1699999999999946
          ],
          [
           6.390000000000001,
           5.905000000000001,
           -1.0900000000000034,
           2.8400000000000034,
           2.010000000000005
          ],
          [
           6.899999999999999,
           4.585000000000001,
           0.9200000000000017,
           2.710000000000008,
           0.6200000000000045
          ],
          [
           5.710000000000001,
           7.625,
           3.6899999999999977,
           2.500000000000007,
           1.3500000000000014
          ],
          [
           6.219999999999999,
           9.204999999999998,
           3.950000000000003,
           2.1700000000000017,
           0.5900000000000034
          ],
          [
           8.630000000000003,
           6.384999999999998,
           2.1799999999999997,
           1.470000000000006,
           -0.9099999999999966
          ],
          [
           9.21,
           6.9950000000000045,
           1.3100000000000023,
           1.3600000000000065,
           0.46000000000000085
          ],
          [
           8.86,
           7.255000000000003,
           2.509999999999998,
           2.5400000000000063,
           2.1700000000000017
          ],
          [
           8.700000000000003,
           7.905000000000001,
           2.3100000000000023,
           0.3900000000000077,
           1.1500000000000057
          ],
          [
           8.409999999999997,
           8.235,
           2.240000000000002,
           1.8900000000000077,
           0.9699999999999989
          ],
          [
           7.520000000000003,
           8.344999999999999,
           1.7100000000000009,
           1.1500000000000057,
           1.75
          ],
          [
           7.479999999999997,
           7.115000000000002,
           1.9500000000000028,
           3.9200000000000017,
           1.3100000000000023
          ],
          [
           6.859999999999999,
           7.884999999999998,
           1.1700000000000017,
           4.400000000000006,
           -0.1699999999999946
          ],
          [
           6.170000000000002,
           6.615000000000002,
           1.5899999999999963,
           1.230000000000004,
           -0.6499999999999986
          ],
          [
           6.909999999999997,
           6.785000000000004,
           0.9500000000000028,
           2.3500000000000085,
           0.30000000000000426
          ],
          [
           7.170000000000002,
           7.914999999999999,
           1.759999999999998,
           2.2800000000000082,
           0.30000000000000426
          ],
          [
           6.100000000000001,
           8.195,
           1.6400000000000006,
           2.1700000000000017,
           0.8300000000000054
          ],
          [
           6.43,
           5.355000000000004,
           4.420000000000002,
           -0.8699999999999974,
           1.240000000000002
          ],
          [
           8.240000000000002,
           8.105000000000004,
           3.8399999999999963,
           0.030000000000008242,
           2.9000000000000057
          ],
          [
           15.079999999999998,
           15.275000000000002,
           9.8,
           8.730000000000004,
           8.240000000000002
          ],
          [
           16.13,
           14.165000000000003,
           10.41,
           8.060000000000006,
           8.100000000000001
          ],
          [
           16.36,
           9.594999999999999,
           3.5799999999999983,
           5.470000000000006,
           4.650000000000006
          ],
          [
           10.100000000000001,
           11.465000000000003,
           5.839999999999996,
           5.000000000000007,
           4.800000000000004
          ],
          [
           11.689999999999998,
           11.055,
           5.32,
           4.3500000000000085,
           4.289999999999999
          ],
          [
           12.29,
           12.055,
           5.810000000000002,
           4.060000000000002,
           4.57
          ],
          [
           11.310000000000002,
           10.355000000000004,
           4.890000000000001,
           5.710000000000004,
           3.760000000000005
          ],
          [
           11.100000000000001,
           10.495000000000005,
           5.700000000000003,
           5.410000000000004,
           4.109999999999999
          ],
          [
           11.509999999999998,
           10.575000000000003,
           6.329999999999998,
           4.750000000000007,
           3.740000000000002
          ],
          [
           11.25,
           9.905000000000001,
           5.399999999999999,
           4.530000000000008,
           3.6799999999999997
          ],
          [
           9.579999999999998,
           10.024999999999999,
           5.350000000000001,
           5.250000000000007,
           2.980000000000004
          ],
          [
           10.259999999999998,
           10.585,
           3.490000000000002,
           4.940000000000005,
           4.260000000000005
          ],
          [
           13.25,
           12.895,
           7.350000000000001,
           7.270000000000007,
           5.180000000000003
          ],
          [
           13.61,
           13.335,
           7.030000000000001,
           7.0000000000000036,
           6.600000000000001
          ],
          [
           10.86,
           11.225000000000001,
           8.14,
           5.910000000000004,
           6.080000000000002
          ],
          [
           12.020000000000003,
           11.895000000000003,
           7.370000000000001,
           6.940000000000005,
           5.780000000000001
          ],
          [
           12.469999999999999,
           11.965,
           6.77,
           5.330000000000005,
           5.200000000000003
          ],
          [
           12.649999999999999,
           11.915000000000003,
           6.43,
           5.840000000000003,
           4.68
          ],
          [
           12.579999999999998,
           11.425000000000004,
           6.780000000000001,
           6.2400000000000055,
           4.8700000000000045
          ],
          [
           11.43,
           11.765,
           6.100000000000001,
           6.350000000000005,
           4.460000000000001
          ],
          [
           11.64,
           11.774999999999999,
           6.329999999999998,
           7.280000000000005,
           4.590000000000003
          ],
          [
           8.189999999999998,
           6.984999999999999,
           5.469999999999999,
           4.170000000000002,
           0.6300000000000026
          ],
          [
           9.079999999999998,
           9.805,
           3.039999999999999,
           4.1100000000000065,
           0.9400000000000048
          ],
          [
           9.950000000000003,
           9.605000000000004,
           3.4099999999999966,
           5.570000000000004,
           1.6400000000000006
          ],
          [
           10.590000000000003,
           8.675000000000004,
           6.079999999999998,
           2.450000000000003,
           1.5100000000000051
          ],
          [
           9.68,
           9.335,
           4.350000000000001,
           2.8000000000000043,
           1.8900000000000006
          ],
          [
           9.850000000000001,
           9.465000000000003,
           4.130000000000003,
           3.0800000000000054,
           2.1099999999999994
          ],
          [
           10.07,
           9.844999999999999,
           4.119999999999997,
           3.180000000000007,
           3.219999999999999
          ],
          [
           10.880000000000003,
           9.475000000000001,
           4.5,
           3.190000000000005,
           2.6799999999999997
          ]
         ],
         "zmid": 0
        }
       ],
       "layout": {
        "height": 3040,
        "showlegend": false,
        "template": {
         "data": {
          "bar": [
           {
            "error_x": {
             "color": "#2a3f5f"
            },
            "error_y": {
             "color": "#2a3f5f"
            },
            "marker": {
             "line": {
              "color": "#E5ECF6",
              "width": 0.5
             },
             "pattern": {
              "fillmode": "overlay",
              "size": 10,
              "solidity": 0.2
             }
            },
            "type": "bar"
           }
          ],
          "barpolar": [
           {
            "marker": {
             "line": {
              "color": "#E5ECF6",
              "width": 0.5
             },
             "pattern": {
              "fillmode": "overlay",
              "size": 10,
              "solidity": 0.2
             }
            },
            "type": "barpolar"
           }
          ],
          "carpet": [
           {
            "aaxis": {
             "endlinecolor": "#2a3f5f",
             "gridcolor": "white",
             "linecolor": "white",
             "minorgridcolor": "white",
             "startlinecolor": "#2a3f5f"
            },
            "baxis": {
             "endlinecolor": "#2a3f5f",
             "gridcolor": "white",
             "linecolor": "white",
             "minorgridcolor": "white",
             "startlinecolor": "#2a3f5f"
            },
            "type": "carpet"
           }
          ],
          "choropleth": [
           {
            "colorbar": {
             "outlinewidth": 0,
             "ticks": ""
            },
            "type": "choropleth"
           }
          ],
          "contour": [
           {
            "colorbar": {
             "outlinewidth": 0,
             "ticks": ""
            },
            "colorscale": [
             [
              0,
              "#0d0887"
             ],
             [
              0.1111111111111111,
              "#46039f"
             ],
             [
              0.2222222222222222,
              "#7201a8"
             ],
             [
              0.3333333333333333,
              "#9c179e"
             ],
             [
              0.4444444444444444,
              "#bd3786"
             ],
             [
              0.5555555555555556,
              "#d8576b"
             ],
             [
              0.6666666666666666,
              "#ed7953"
             ],
             [
              0.7777777777777778,
              "#fb9f3a"
             ],
             [
              0.8888888888888888,
              "#fdca26"
             ],
             [
              1,
              "#f0f921"
             ]
            ],
            "type": "contour"
           }
          ],
          "contourcarpet": [
           {
            "colorbar": {
             "outlinewidth": 0,
             "ticks": ""
            },
            "type": "contourcarpet"
           }
          ],
          "heatmap": [
           {
            "colorbar": {
             "outlinewidth": 0,
             "ticks": ""
            },
            "colorscale": [
             [
              0,
              "#0d0887"
             ],
             [
              0.1111111111111111,
              "#46039f"
             ],
             [
              0.2222222222222222,
              "#7201a8"
             ],
             [
              0.3333333333333333,
              "#9c179e"
             ],
             [
              0.4444444444444444,
              "#bd3786"
             ],
             [
              0.5555555555555556,
              "#d8576b"
             ],
             [
              0.6666666666666666,
              "#ed7953"
             ],
             [
              0.7777777777777778,
              "#fb9f3a"
             ],
             [
              0.8888888888888888,
              "#fdca26"
             ],
             [
              1,
              "#f0f921"
             ]
            ],
            "type": "heatmap"
           }
          ],
          "heatmapgl": [
           {
            "colorbar": {
             "outlinewidth": 0,
             "ticks": ""
            },
            "colorscale": [
             [
              0,
              "#0d0887"
             ],
             [
              0.1111111111111111,
              "#46039f"
             ],
             [
              0.2222222222222222,
              "#7201a8"
             ],
             [
              0.3333333333333333,
              "#9c179e"
             ],
             [
              0.4444444444444444,
              "#bd3786"
             ],
             [
              0.5555555555555556,
              "#d8576b"
             ],
             [
              0.6666666666666666,
              "#ed7953"
             ],
             [
              0.7777777777777778,
              "#fb9f3a"
             ],
             [
              0.8888888888888888,
              "#fdca26"
             ],
             [
              1,
              "#f0f921"
             ]
            ],
            "type": "heatmapgl"
           }
          ],
          "histogram": [
           {
            "marker": {
             "pattern": {
              "fillmode": "overlay",
              "size": 10,
              "solidity": 0.2
             }
            },
            "type": "histogram"
           }
          ],
          "histogram2d": [
           {
            "colorbar": {
             "outlinewidth": 0,
             "ticks": ""
            },
            "colorscale": [
             [
              0,
              "#0d0887"
             ],
             [
              0.1111111111111111,
              "#46039f"
             ],
             [
              0.2222222222222222,
              "#7201a8"
             ],
             [
              0.3333333333333333,
              "#9c179e"
             ],
             [
              0.4444444444444444,
              "#bd3786"
             ],
             [
              0.5555555555555556,
              "#d8576b"
             ],
             [
              0.6666666666666666,
              "#ed7953"
             ],
             [
              0.7777777777777778,
              "#fb9f3a"
             ],
             [
              0.8888888888888888,
              "#fdca26"
             ],
             [
              1,
              "#f0f921"
             ]
            ],
            "type": "histogram2d"
           }
          ],
          "histogram2dcontour": [
           {
            "colorbar": {
             "outlinewidth": 0,
             "ticks": ""
            },
            "colorscale": [
             [
              0,
              "#0d0887"
             ],
             [
              0.1111111111111111,
              "#46039f"
             ],
             [
              0.2222222222222222,
              "#7201a8"
             ],
             [
              0.3333333333333333,
              "#9c179e"
             ],
             [
              0.4444444444444444,
              "#bd3786"
             ],
             [
              0.5555555555555556,
              "#d8576b"
             ],
             [
              0.6666666666666666,
              "#ed7953"
             ],
             [
              0.7777777777777778,
              "#fb9f3a"
             ],
             [
              0.8888888888888888,
              "#fdca26"
             ],
             [
              1,
              "#f0f921"
             ]
            ],
            "type": "histogram2dcontour"
           }
          ],
          "mesh3d": [
           {
            "colorbar": {
             "outlinewidth": 0,
             "ticks": ""
            },
            "type": "mesh3d"
           }
          ],
          "parcoords": [
           {
            "line": {
             "colorbar": {
              "outlinewidth": 0,
              "ticks": ""
             }
            },
            "type": "parcoords"
           }
          ],
          "pie": [
           {
            "automargin": true,
            "type": "pie"
           }
          ],
          "scatter": [
           {
            "fillpattern": {
             "fillmode": "overlay",
             "size": 10,
             "solidity": 0.2
            },
            "type": "scatter"
           }
          ],
          "scatter3d": [
           {
            "line": {
             "colorbar": {
              "outlinewidth": 0,
              "ticks": ""
             }
            },
            "marker": {
             "colorbar": {
              "outlinewidth": 0,
              "ticks": ""
             }
            },
            "type": "scatter3d"
           }
          ],
          "scattercarpet": [
           {
            "marker": {
             "colorbar": {
              "outlinewidth": 0,
              "ticks": ""
             }
            },
            "type": "scattercarpet"
           }
          ],
          "scattergeo": [
           {
            "marker": {
             "colorbar": {
              "outlinewidth": 0,
              "ticks": ""
             }
            },
            "type": "scattergeo"
           }
          ],
          "scattergl": [
           {
            "marker": {
             "colorbar": {
              "outlinewidth": 0,
              "ticks": ""
             }
            },
            "type": "scattergl"
           }
          ],
          "scattermapbox": [
           {
            "marker": {
             "colorbar": {
              "outlinewidth": 0,
              "ticks": ""
             }
            },
            "type": "scattermapbox"
           }
          ],
          "scatterpolar": [
           {
            "marker": {
             "colorbar": {
              "outlinewidth": 0,
              "ticks": ""
             }
            },
            "type": "scatterpolar"
           }
          ],
          "scatterpolargl": [
           {
            "marker": {
             "colorbar": {
              "outlinewidth": 0,
              "ticks": ""
             }
            },
            "type": "scatterpolargl"
           }
          ],
          "scatterternary": [
           {
            "marker": {
             "colorbar": {
              "outlinewidth": 0,
              "ticks": ""
             }
            },
            "type": "scatterternary"
           }
          ],
          "surface": [
           {
            "colorbar": {
             "outlinewidth": 0,
             "ticks": ""
            },
            "colorscale": [
             [
              0,
              "#0d0887"
             ],
             [
              0.1111111111111111,
              "#46039f"
             ],
             [
              0.2222222222222222,
              "#7201a8"
             ],
             [
              0.3333333333333333,
              "#9c179e"
             ],
             [
              0.4444444444444444,
              "#bd3786"
             ],
             [
              0.5555555555555556,
              "#d8576b"
             ],
             [
              0.6666666666666666,
              "#ed7953"
             ],
             [
              0.7777777777777778,
              "#fb9f3a"
             ],
             [
              0.8888888888888888,
              "#fdca26"
             ],
             [
              1,
              "#f0f921"
             ]
            ],
            "type": "surface"
           }
          ],
          "table": [
           {
            "cells": {
             "fill": {
              "color": "#EBF0F8"
             },
             "line": {
              "color": "white"
             }
            },
            "header": {
             "fill": {
              "color": "#C8D4E3"
             },
             "line": {
              "color": "white"
             }
            },
            "type": "table"
           }
          ]
         },
         "layout": {
          "annotationdefaults": {
           "arrowcolor": "#2a3f5f",
           "arrowhead": 0,
           "arrowwidth": 1
          },
          "autotypenumbers": "strict",
          "coloraxis": {
           "colorbar": {
            "outlinewidth": 0,
            "ticks": ""
           }
          },
          "colorscale": {
           "diverging": [
            [
             0,
             "#8e0152"
            ],
            [
             0.1,
             "#c51b7d"
            ],
            [
             0.2,
             "#de77ae"
            ],
            [
             0.3,
             "#f1b6da"
            ],
            [
             0.4,
             "#fde0ef"
            ],
            [
             0.5,
             "#f7f7f7"
            ],
            [
             0.6,
             "#e6f5d0"
            ],
            [
             0.7,
             "#b8e186"
            ],
            [
             0.8,
             "#7fbc41"
            ],
            [
             0.9,
             "#4d9221"
            ],
            [
             1,
             "#276419"
            ]
           ],
           "sequential": [
            [
             0,
             "#0d0887"
            ],
            [
             0.1111111111111111,
             "#46039f"
            ],
            [
             0.2222222222222222,
             "#7201a8"
            ],
            [
             0.3333333333333333,
             "#9c179e"
            ],
            [
             0.4444444444444444,
             "#bd3786"
            ],
            [
             0.5555555555555556,
             "#d8576b"
            ],
            [
             0.6666666666666666,
             "#ed7953"
            ],
            [
             0.7777777777777778,
             "#fb9f3a"
            ],
            [
             0.8888888888888888,
             "#fdca26"
            ],
            [
             1,
             "#f0f921"
            ]
           ],
           "sequentialminus": [
            [
             0,
             "#0d0887"
            ],
            [
             0.1111111111111111,
             "#46039f"
            ],
            [
             0.2222222222222222,
             "#7201a8"
            ],
            [
             0.3333333333333333,
             "#9c179e"
            ],
            [
             0.4444444444444444,
             "#bd3786"
            ],
            [
             0.5555555555555556,
             "#d8576b"
            ],
            [
             0.6666666666666666,
             "#ed7953"
            ],
            [
             0.7777777777777778,
             "#fb9f3a"
            ],
            [
             0.8888888888888888,
             "#fdca26"
            ],
            [
             1,
             "#f0f921"
            ]
           ]
          },
          "colorway": [
           "#636efa",
           "#EF553B",
           "#00cc96",
           "#ab63fa",
           "#FFA15A",
           "#19d3f3",
           "#FF6692",
           "#B6E880",
           "#FF97FF",
           "#FECB52"
          ],
          "font": {
           "color": "#2a3f5f"
          },
          "geo": {
           "bgcolor": "white",
           "lakecolor": "white",
           "landcolor": "#E5ECF6",
           "showlakes": true,
           "showland": true,
           "subunitcolor": "white"
          },
          "hoverlabel": {
           "align": "left"
          },
          "hovermode": "closest",
          "mapbox": {
           "style": "light"
          },
          "paper_bgcolor": "white",
          "plot_bgcolor": "#E5ECF6",
          "polar": {
           "angularaxis": {
            "gridcolor": "white",
            "linecolor": "white",
            "ticks": ""
           },
           "bgcolor": "#E5ECF6",
           "radialaxis": {
            "gridcolor": "white",
            "linecolor": "white",
            "ticks": ""
           }
          },
          "scene": {
           "xaxis": {
            "backgroundcolor": "#E5ECF6",
            "gridcolor": "white",
            "gridwidth": 2,
            "linecolor": "white",
            "showbackground": true,
            "ticks": "",
            "zerolinecolor": "white"
           },
           "yaxis": {
            "backgroundcolor": "#E5ECF6",
            "gridcolor": "white",
            "gridwidth": 2,
            "linecolor": "white",
            "showbackground": true,
            "ticks": "",
            "zerolinecolor": "white"
           },
           "zaxis": {
            "backgroundcolor": "#E5ECF6",
            "gridcolor": "white",
            "gridwidth": 2,
            "linecolor": "white",
            "showbackground": true,
            "ticks": "",
            "zerolinecolor": "white"
           }
          },
          "shapedefaults": {
           "line": {
            "color": "#2a3f5f"
           }
          },
          "ternary": {
           "aaxis": {
            "gridcolor": "white",
            "linecolor": "white",
            "ticks": ""
           },
           "baxis": {
            "gridcolor": "white",
            "linecolor": "white",
            "ticks": ""
           },
           "bgcolor": "#E5ECF6",
           "caxis": {
            "gridcolor": "white",
            "linecolor": "white",
            "ticks": ""
           }
          },
          "title": {
           "x": 0.05
          },
          "xaxis": {
           "automargin": true,
           "gridcolor": "white",
           "linecolor": "white",
           "ticks": "",
           "title": {
            "standoff": 15
           },
           "zerolinecolor": "white",
           "zerolinewidth": 2
          },
          "yaxis": {
           "automargin": true,
           "gridcolor": "white",
           "linecolor": "white",
           "ticks": "",
           "title": {
            "standoff": 15
           },
           "zerolinecolor": "white",
           "zerolinewidth": 2
          }
         }
        },
        "title": {
         "text": "Clustergrama continuo | score > 2 | refs: SERPINE1, PTK2"
        },
        "width": 1000,
        "xaxis": {
         "anchor": "y",
         "domain": [
          0,
          1
         ],
         "showticklabels": false
        },
        "xaxis2": {
         "anchor": "y2",
         "domain": [
          0,
          0.784
         ],
         "showticklabels": true,
         "title": {
          "text": "Tests"
         }
        },
        "xaxis3": {
         "anchor": "y3",
         "domain": [
          0.804,
          1
         ]
        },
        "yaxis": {
         "anchor": "x",
         "domain": [
          0.9109090909090909,
          1
         ]
        },
        "yaxis2": {
         "anchor": "x2",
         "domain": [
          0,
          0.8909090909090909
         ],
         "showticklabels": true,
         "title": {
          "text": "Genes"
         }
        },
        "yaxis3": {
         "anchor": "x3",
         "domain": [
          0,
          0.8909090909090909
         ],
         "matches": "y2",
         "showticklabels": false
        }
       }
      }
     },
     "metadata": {},
     "output_type": "display_data"
    },
    {
     "data": {
      "application/vnd.plotly.v1+json": {
       "config": {
        "plotlyServerURL": "https://plot.ly",
        "scrollZoom": true
       },
       "data": [
        {
         "colorscale": [
          [
           0,
           "#3182bd"
          ],
          [
           0.5,
           "#f7f7f7"
          ],
          [
           1,
           "#de2d26"
          ]
         ],
         "hovertemplate": "Gen: %{y}<br>Muestra: %{x}<br>Estado: %{z}<extra></extra>",
         "showscale": false,
         "type": "heatmap",
         "x": [
          "4GB001",
          "4GB031",
          "3CG128",
          "3CG008",
          "3CG129"
         ],
         "y": [
          "TCF3",
          "TGFB3",
          "SNAI2",
          "SIP1",
          "SNAI1",
          "ERBB3",
          "ZEB1",
          "DSP",
          "GNG11",
          "VPS13A",
          "STAT3",
          "RAC1",
          "PLEK2",
          "CTNNB1",
          "IGFBP4",
          "WNT5B",
          "WNT5A",
          "TWIST1",
          "TSPAN13",
          "TMEM132A",
          "TMEFF1",
          "TIMP1",
          "TGFB2",
          "TFPI2",
          "SPP1",
          "SOX10",
          "SMAD2",
          "RPLP0",
          "RGS2",
          "PDGFRB",
          "OCLN",
          "NUDT13",
          "NODAL",
          "MST1R",
          "MSN",
          "MMP3",
          "MAP1B",
          "KRT19",
          "ITGAV",
          "ITGA5",
          "IL1RN",
          "GSK3B",
          "FZD7",
          "FOXC2",
          "F11R",
          "EGFR",
          "DSC2",
          "COL5A2",
          "COL1A2",
          "CDH1",
          "CALD1",
          "AKT1",
          "BMP2",
          "ILK",
          "VIM",
          "CAV2",
          "GAPDH",
          "NOTCH1",
          "STEAP1",
          "BMP7",
          "KRT14",
          "PTP4A1",
          "WNT11",
          "ITGB1",
          "GSC",
          "FGFBP1",
          "FN1",
          "TGFB1",
          "KRT7",
          "MMP2",
          "COL3A1",
          "ACTB",
          "CDH2",
          "HPRT1",
          "ESR1",
          "SPARC"
         ],
         "z": [
          [
           1,
           1,
           -1,
           0,
           1
          ],
          [
           1,
           1,
           -1,
           1,
           1
          ],
          [
           1,
           1,
           -1,
           1,
           1
          ],
          [
           1,
           1,
           -1,
           1,
           1
          ],
          [
           1,
           1,
           -1,
           1,
           1
          ],
          [
           1,
           1,
           1,
           -1,
           1
          ],
          [
           1,
           1,
           1,
           0,
           1
          ],
          [
           1,
           1,
           1,
           0,
           1
          ],
          [
           1,
           1,
           1,
           0,
           1
          ],
          [
           1,
           1,
           0,
           1,
           1
          ],
          [
           1,
           1,
           0,
           1,
           1
          ],
          [
           1,
           1,
           0,
           1,
           1
          ],
          [
           1,
           1,
           0,
           1,
           1
          ],
          [
           1,
           1,
           0,
           1,
           1
          ],
          [
           1,
           1,
           0,
           1,
           1
          ],
          [
           1,
           1,
           1,
           1,
           1
          ],
          [
           1,
           1,
           1,
           1,
           1
          ],
          [
           1,
           1,
           1,
           1,
           1
          ],
          [
           1,
           1,
           1,
           1,
           1
          ],
          [
           1,
           1,
           1,
           1,
           1
          ],
          [
           1,
           1,
           1,
           1,
           1
          ],
          [
           1,
           1,
           1,
           1,
           1
          ],
          [
           1,
           1,
           1,
           1,
           1
          ],
          [
           1,
           1,
           1,
           1,
           1
          ],
          [
           1,
           1,
           1,
           1,
           1
          ],
          [
           1,
           1,
           1,
           1,
           1
          ],
          [
           1,
           1,
           1,
           1,
           1
          ],
          [
           1,
           1,
           1,
           1,
           1
          ],
          [
           1,
           1,
           1,
           1,
           1
          ],
          [
           1,
           1,
           1,
           1,
           1
          ],
          [
           1,
           1,
           1,
           1,
           1
          ],
          [
           1,
           1,
           1,
           1,
           1
          ],
          [
           1,
           1,
           1,
           1,
           1
          ],
          [
           1,
           1,
           1,
           1,
           1
          ],
          [
           1,
           1,
           1,
           1,
           1
          ],
          [
           1,
           1,
           1,
           1,
           1
          ],
          [
           1,
           1,
           1,
           1,
           1
          ],
          [
           1,
           1,
           1,
           1,
           1
          ],
          [
           1,
           1,
           1,
           1,
           1
          ],
          [
           1,
           1,
           1,
           1,
           1
          ],
          [
           1,
           1,
           1,
           1,
           1
          ],
          [
           1,
           1,
           1,
           1,
           1
          ],
          [
           1,
           1,
           1,
           1,
           1
          ],
          [
           1,
           1,
           1,
           1,
           1
          ],
          [
           1,
           1,
           1,
           1,
           1
          ],
          [
           1,
           1,
           1,
           1,
           1
          ],
          [
           1,
           1,
           1,
           1,
           1
          ],
          [
           1,
           1,
           1,
           1,
           1
          ],
          [
           1,
           1,
           1,
           1,
           1
          ],
          [
           1,
           1,
           1,
           1,
           1
          ],
          [
           1,
           1,
           1,
           1,
           1
          ],
          [
           1,
           1,
           1,
           1,
           1
          ],
          [
           1,
           1,
           1,
           1,
           1
          ],
          [
           -1,
           -1,
           -1,
           -1,
           -1
          ],
          [
           -1,
           -1,
           -1,
           -1,
           -1
          ],
          [
           1,
           -1,
           -1,
           -1,
           -1
          ],
          [
           1,
           -1,
           -1,
           -1,
           -1
          ],
          [
           0,
           -1,
           -1,
           -1,
           -1
          ],
          [
           0,
           -1,
           -1,
           -1,
           -1
          ],
          [
           1,
           1,
           -1,
           -1,
           0
          ],
          [
           1,
           1,
           -1,
           -1,
           1
          ],
          [
           0,
           1,
           -1,
           -1,
           -1
          ],
          [
           1,
           1,
           -1,
           -1,
           -1
          ],
          [
           1,
           1,
           -1,
           -1,
           -1
          ],
          [
           1,
           1,
           -1,
           -1,
           -1
          ],
          [
           1,
           1,
           -1,
           -1,
           -1
          ],
          [
           1,
           1,
           -1,
           -1,
           -1
          ],
          [
           1,
           1,
           -1,
           0,
           -1
          ],
          [
           1,
           1,
           -1,
           0,
           -1
          ],
          [
           1,
           1,
           -1,
           0,
           -1
          ],
          [
           1,
           1,
           1,
           0,
           -1
          ],
          [
           1,
           1,
           1,
           1,
           -1
          ],
          [
           1,
           1,
           1,
           1,
           -1
          ],
          [
           1,
           1,
           0,
           1,
           -1
          ],
          [
           1,
           1,
           -1,
           1,
           -1
          ],
          [
           1,
           1,
           -1,
           1,
           -1
          ]
         ],
         "zmax": 1,
         "zmin": -1
        }
       ],
       "layout": {
        "height": 1520,
        "template": {
         "data": {
          "bar": [
           {
            "error_x": {
             "color": "#2a3f5f"
            },
            "error_y": {
             "color": "#2a3f5f"
            },
            "marker": {
             "line": {
              "color": "#E5ECF6",
              "width": 0.5
             },
             "pattern": {
              "fillmode": "overlay",
              "size": 10,
              "solidity": 0.2
             }
            },
            "type": "bar"
           }
          ],
          "barpolar": [
           {
            "marker": {
             "line": {
              "color": "#E5ECF6",
              "width": 0.5
             },
             "pattern": {
              "fillmode": "overlay",
              "size": 10,
              "solidity": 0.2
             }
            },
            "type": "barpolar"
           }
          ],
          "carpet": [
           {
            "aaxis": {
             "endlinecolor": "#2a3f5f",
             "gridcolor": "white",
             "linecolor": "white",
             "minorgridcolor": "white",
             "startlinecolor": "#2a3f5f"
            },
            "baxis": {
             "endlinecolor": "#2a3f5f",
             "gridcolor": "white",
             "linecolor": "white",
             "minorgridcolor": "white",
             "startlinecolor": "#2a3f5f"
            },
            "type": "carpet"
           }
          ],
          "choropleth": [
           {
            "colorbar": {
             "outlinewidth": 0,
             "ticks": ""
            },
            "type": "choropleth"
           }
          ],
          "contour": [
           {
            "colorbar": {
             "outlinewidth": 0,
             "ticks": ""
            },
            "colorscale": [
             [
              0,
              "#0d0887"
             ],
             [
              0.1111111111111111,
              "#46039f"
             ],
             [
              0.2222222222222222,
              "#7201a8"
             ],
             [
              0.3333333333333333,
              "#9c179e"
             ],
             [
              0.4444444444444444,
              "#bd3786"
             ],
             [
              0.5555555555555556,
              "#d8576b"
             ],
             [
              0.6666666666666666,
              "#ed7953"
             ],
             [
              0.7777777777777778,
              "#fb9f3a"
             ],
             [
              0.8888888888888888,
              "#fdca26"
             ],
             [
              1,
              "#f0f921"
             ]
            ],
            "type": "contour"
           }
          ],
          "contourcarpet": [
           {
            "colorbar": {
             "outlinewidth": 0,
             "ticks": ""
            },
            "type": "contourcarpet"
           }
          ],
          "heatmap": [
           {
            "colorbar": {
             "outlinewidth": 0,
             "ticks": ""
            },
            "colorscale": [
             [
              0,
              "#0d0887"
             ],
             [
              0.1111111111111111,
              "#46039f"
             ],
             [
              0.2222222222222222,
              "#7201a8"
             ],
             [
              0.3333333333333333,
              "#9c179e"
             ],
             [
              0.4444444444444444,
              "#bd3786"
             ],
             [
              0.5555555555555556,
              "#d8576b"
             ],
             [
              0.6666666666666666,
              "#ed7953"
             ],
             [
              0.7777777777777778,
              "#fb9f3a"
             ],
             [
              0.8888888888888888,
              "#fdca26"
             ],
             [
              1,
              "#f0f921"
             ]
            ],
            "type": "heatmap"
           }
          ],
          "heatmapgl": [
           {
            "colorbar": {
             "outlinewidth": 0,
             "ticks": ""
            },
            "colorscale": [
             [
              0,
              "#0d0887"
             ],
             [
              0.1111111111111111,
              "#46039f"
             ],
             [
              0.2222222222222222,
              "#7201a8"
             ],
             [
              0.3333333333333333,
              "#9c179e"
             ],
             [
              0.4444444444444444,
              "#bd3786"
             ],
             [
              0.5555555555555556,
              "#d8576b"
             ],
             [
              0.6666666666666666,
              "#ed7953"
             ],
             [
              0.7777777777777778,
              "#fb9f3a"
             ],
             [
              0.8888888888888888,
              "#fdca26"
             ],
             [
              1,
              "#f0f921"
             ]
            ],
            "type": "heatmapgl"
           }
          ],
          "histogram": [
           {
            "marker": {
             "pattern": {
              "fillmode": "overlay",
              "size": 10,
              "solidity": 0.2
             }
            },
            "type": "histogram"
           }
          ],
          "histogram2d": [
           {
            "colorbar": {
             "outlinewidth": 0,
             "ticks": ""
            },
            "colorscale": [
             [
              0,
              "#0d0887"
             ],
             [
              0.1111111111111111,
              "#46039f"
             ],
             [
              0.2222222222222222,
              "#7201a8"
             ],
             [
              0.3333333333333333,
              "#9c179e"
             ],
             [
              0.4444444444444444,
              "#bd3786"
             ],
             [
              0.5555555555555556,
              "#d8576b"
             ],
             [
              0.6666666666666666,
              "#ed7953"
             ],
             [
              0.7777777777777778,
              "#fb9f3a"
             ],
             [
              0.8888888888888888,
              "#fdca26"
             ],
             [
              1,
              "#f0f921"
             ]
            ],
            "type": "histogram2d"
           }
          ],
          "histogram2dcontour": [
           {
            "colorbar": {
             "outlinewidth": 0,
             "ticks": ""
            },
            "colorscale": [
             [
              0,
              "#0d0887"
             ],
             [
              0.1111111111111111,
              "#46039f"
             ],
             [
              0.2222222222222222,
              "#7201a8"
             ],
             [
              0.3333333333333333,
              "#9c179e"
             ],
             [
              0.4444444444444444,
              "#bd3786"
             ],
             [
              0.5555555555555556,
              "#d8576b"
             ],
             [
              0.6666666666666666,
              "#ed7953"
             ],
             [
              0.7777777777777778,
              "#fb9f3a"
             ],
             [
              0.8888888888888888,
              "#fdca26"
             ],
             [
              1,
              "#f0f921"
             ]
            ],
            "type": "histogram2dcontour"
           }
          ],
          "mesh3d": [
           {
            "colorbar": {
             "outlinewidth": 0,
             "ticks": ""
            },
            "type": "mesh3d"
           }
          ],
          "parcoords": [
           {
            "line": {
             "colorbar": {
              "outlinewidth": 0,
              "ticks": ""
             }
            },
            "type": "parcoords"
           }
          ],
          "pie": [
           {
            "automargin": true,
            "type": "pie"
           }
          ],
          "scatter": [
           {
            "fillpattern": {
             "fillmode": "overlay",
             "size": 10,
             "solidity": 0.2
            },
            "type": "scatter"
           }
          ],
          "scatter3d": [
           {
            "line": {
             "colorbar": {
              "outlinewidth": 0,
              "ticks": ""
             }
            },
            "marker": {
             "colorbar": {
              "outlinewidth": 0,
              "ticks": ""
             }
            },
            "type": "scatter3d"
           }
          ],
          "scattercarpet": [
           {
            "marker": {
             "colorbar": {
              "outlinewidth": 0,
              "ticks": ""
             }
            },
            "type": "scattercarpet"
           }
          ],
          "scattergeo": [
           {
            "marker": {
             "colorbar": {
              "outlinewidth": 0,
              "ticks": ""
             }
            },
            "type": "scattergeo"
           }
          ],
          "scattergl": [
           {
            "marker": {
             "colorbar": {
              "outlinewidth": 0,
              "ticks": ""
             }
            },
            "type": "scattergl"
           }
          ],
          "scattermapbox": [
           {
            "marker": {
             "colorbar": {
              "outlinewidth": 0,
              "ticks": ""
             }
            },
            "type": "scattermapbox"
           }
          ],
          "scatterpolar": [
           {
            "marker": {
             "colorbar": {
              "outlinewidth": 0,
              "ticks": ""
             }
            },
            "type": "scatterpolar"
           }
          ],
          "scatterpolargl": [
           {
            "marker": {
             "colorbar": {
              "outlinewidth": 0,
              "ticks": ""
             }
            },
            "type": "scatterpolargl"
           }
          ],
          "scatterternary": [
           {
            "marker": {
             "colorbar": {
              "outlinewidth": 0,
              "ticks": ""
             }
            },
            "type": "scatterternary"
           }
          ],
          "surface": [
           {
            "colorbar": {
             "outlinewidth": 0,
             "ticks": ""
            },
            "colorscale": [
             [
              0,
              "#0d0887"
             ],
             [
              0.1111111111111111,
              "#46039f"
             ],
             [
              0.2222222222222222,
              "#7201a8"
             ],
             [
              0.3333333333333333,
              "#9c179e"
             ],
             [
              0.4444444444444444,
              "#bd3786"
             ],
             [
              0.5555555555555556,
              "#d8576b"
             ],
             [
              0.6666666666666666,
              "#ed7953"
             ],
             [
              0.7777777777777778,
              "#fb9f3a"
             ],
             [
              0.8888888888888888,
              "#fdca26"
             ],
             [
              1,
              "#f0f921"
             ]
            ],
            "type": "surface"
           }
          ],
          "table": [
           {
            "cells": {
             "fill": {
              "color": "#EBF0F8"
             },
             "line": {
              "color": "white"
             }
            },
            "header": {
             "fill": {
              "color": "#C8D4E3"
             },
             "line": {
              "color": "white"
             }
            },
            "type": "table"
           }
          ]
         },
         "layout": {
          "annotationdefaults": {
           "arrowcolor": "#2a3f5f",
           "arrowhead": 0,
           "arrowwidth": 1
          },
          "autotypenumbers": "strict",
          "coloraxis": {
           "colorbar": {
            "outlinewidth": 0,
            "ticks": ""
           }
          },
          "colorscale": {
           "diverging": [
            [
             0,
             "#8e0152"
            ],
            [
             0.1,
             "#c51b7d"
            ],
            [
             0.2,
             "#de77ae"
            ],
            [
             0.3,
             "#f1b6da"
            ],
            [
             0.4,
             "#fde0ef"
            ],
            [
             0.5,
             "#f7f7f7"
            ],
            [
             0.6,
             "#e6f5d0"
            ],
            [
             0.7,
             "#b8e186"
            ],
            [
             0.8,
             "#7fbc41"
            ],
            [
             0.9,
             "#4d9221"
            ],
            [
             1,
             "#276419"
            ]
           ],
           "sequential": [
            [
             0,
             "#0d0887"
            ],
            [
             0.1111111111111111,
             "#46039f"
            ],
            [
             0.2222222222222222,
             "#7201a8"
            ],
            [
             0.3333333333333333,
             "#9c179e"
            ],
            [
             0.4444444444444444,
             "#bd3786"
            ],
            [
             0.5555555555555556,
             "#d8576b"
            ],
            [
             0.6666666666666666,
             "#ed7953"
            ],
            [
             0.7777777777777778,
             "#fb9f3a"
            ],
            [
             0.8888888888888888,
             "#fdca26"
            ],
            [
             1,
             "#f0f921"
            ]
           ],
           "sequentialminus": [
            [
             0,
             "#0d0887"
            ],
            [
             0.1111111111111111,
             "#46039f"
            ],
            [
             0.2222222222222222,
             "#7201a8"
            ],
            [
             0.3333333333333333,
             "#9c179e"
            ],
            [
             0.4444444444444444,
             "#bd3786"
            ],
            [
             0.5555555555555556,
             "#d8576b"
            ],
            [
             0.6666666666666666,
             "#ed7953"
            ],
            [
             0.7777777777777778,
             "#fb9f3a"
            ],
            [
             0.8888888888888888,
             "#fdca26"
            ],
            [
             1,
             "#f0f921"
            ]
           ]
          },
          "colorway": [
           "#636efa",
           "#EF553B",
           "#00cc96",
           "#ab63fa",
           "#FFA15A",
           "#19d3f3",
           "#FF6692",
           "#B6E880",
           "#FF97FF",
           "#FECB52"
          ],
          "font": {
           "color": "#2a3f5f"
          },
          "geo": {
           "bgcolor": "white",
           "lakecolor": "white",
           "landcolor": "#E5ECF6",
           "showlakes": true,
           "showland": true,
           "subunitcolor": "white"
          },
          "hoverlabel": {
           "align": "left"
          },
          "hovermode": "closest",
          "mapbox": {
           "style": "light"
          },
          "paper_bgcolor": "white",
          "plot_bgcolor": "#E5ECF6",
          "polar": {
           "angularaxis": {
            "gridcolor": "white",
            "linecolor": "white",
            "ticks": ""
           },
           "bgcolor": "#E5ECF6",
           "radialaxis": {
            "gridcolor": "white",
            "linecolor": "white",
            "ticks": ""
           }
          },
          "scene": {
           "xaxis": {
            "backgroundcolor": "#E5ECF6",
            "gridcolor": "white",
            "gridwidth": 2,
            "linecolor": "white",
            "showbackground": true,
            "ticks": "",
            "zerolinecolor": "white"
           },
           "yaxis": {
            "backgroundcolor": "#E5ECF6",
            "gridcolor": "white",
            "gridwidth": 2,
            "linecolor": "white",
            "showbackground": true,
            "ticks": "",
            "zerolinecolor": "white"
           },
           "zaxis": {
            "backgroundcolor": "#E5ECF6",
            "gridcolor": "white",
            "gridwidth": 2,
            "linecolor": "white",
            "showbackground": true,
            "ticks": "",
            "zerolinecolor": "white"
           }
          },
          "shapedefaults": {
           "line": {
            "color": "#2a3f5f"
           }
          },
          "ternary": {
           "aaxis": {
            "gridcolor": "white",
            "linecolor": "white",
            "ticks": ""
           },
           "baxis": {
            "gridcolor": "white",
            "linecolor": "white",
            "ticks": ""
           },
           "bgcolor": "#E5ECF6",
           "caxis": {
            "gridcolor": "white",
            "linecolor": "white",
            "ticks": ""
           }
          },
          "title": {
           "x": 0.05
          },
          "xaxis": {
           "automargin": true,
           "gridcolor": "white",
           "linecolor": "white",
           "ticks": "",
           "title": {
            "standoff": 15
           },
           "zerolinecolor": "white",
           "zerolinewidth": 2
          },
          "yaxis": {
           "automargin": true,
           "gridcolor": "white",
           "linecolor": "white",
           "ticks": "",
           "title": {
            "standoff": 15
           },
           "zerolinecolor": "white",
           "zerolinewidth": 2
          }
         }
        },
        "title": {
         "text": "Clustergrama discreto (±0.58 log2)  | refs: SERPINE1, PTK2"
        },
        "xaxis": {
         "title": {
          "text": "Muestras"
         }
        },
        "yaxis": {
         "title": {
          "text": "Genes"
         }
        }
       }
      }
     },
     "metadata": {},
     "output_type": "display_data"
    },
    {
     "name": "stdout",
     "output_type": "stream",
     "text": [
      "        Estable  Sobre  Sub\n",
      "target                     \n",
      "ACTB        0.0    4.0  1.0\n",
      "AKT1        0.0    5.0  0.0\n",
      "BMP2        0.0    5.0  0.0\n",
      "BMP7        1.0    2.0  2.0\n",
      "CALD1       0.0    5.0  0.0\n"
     ]
    }
   ],
   "source": [
    "# =============================================================================\n",
    "# RT-qPCR pipeline completo 🤖🔬  (comentarios estilo “Feynman” + emojis)\n",
    "# Incluye:\n",
    "#   1) Selección óptima de genes normalizadores vía Welch-t\n",
    "#   2) Cálculo de genes separadores\n",
    "#   3) Dos clustergramas:\n",
    "#        • Gradiente continuo (creado previamente con create_clustered_heatmap)\n",
    "#        • Discreto absoluto (sobre / estable / sub) sin barra de escala\n",
    "# =============================================================================\n",
    "\n",
    "import pandas as pd\n",
    "import numpy as np\n",
    "from itertools import combinations\n",
    "from scipy.stats import ttest_ind\n",
    "from tqdm import tqdm\n",
    "from concurrent.futures import ThreadPoolExecutor\n",
    "from scipy.cluster.hierarchy import linkage, leaves_list\n",
    "import scipy.spatial.distance as ssd\n",
    "import plotly.graph_objects as go\n",
    "\n",
    "# ----------------------------------------------------------------------------- \n",
    "# 0 ▸ Cargar y clonar el DataFrame normalizado 🗂️\n",
    "# -----------------------------------------------------------------------------\n",
    "df = df_total.copy()       # ← df_total debe contener columnas: test, target, ct, tipo\n",
    "\n",
    "# ----------------------------------------------------------------------------- \n",
    "# 1 ▸ Función de “separation score” para un set de genes referenciales 🧠\n",
    "# -----------------------------------------------------------------------------\n",
    "def separation_score_for_refs(refs):\n",
    "    \"\"\"\n",
    "    ⚙️ Calcula |t| de Welch entre grupos Control vs Caso\n",
    "    tras normalizar usando el promedio Ct de 'refs' por test.\n",
    "    Retorna (refs_tuple, |t|)  – NaN si no hay datos suficientes.\n",
    "    \"\"\"\n",
    "    temp = df.copy()\n",
    "    ref_cts = (temp[temp['target'].isin(refs)]\n",
    "               .groupby('test')['ct'].mean()\n",
    "               .reset_index()\n",
    "               .rename(columns={'ct': 'ref_ct'}))\n",
    "    temp = temp.merge(ref_cts, on='test')\n",
    "    temp['delta_ct']      = temp['ct'] - temp['ref_ct']\n",
    "    temp['log2_rel_expr'] = -temp['delta_ct']         # 2^(−ΔCt) en log2\n",
    "    vals_ctrl = temp[temp['tipo'] == 'Control']['log2_rel_expr']\n",
    "    vals_case = temp[temp['tipo'] != 'Control']['log2_rel_expr']\n",
    "    if len(vals_ctrl) < 2 or len(vals_case) < 2:\n",
    "        return (refs, np.nan)\n",
    "    t_stat, _ = ttest_ind(vals_ctrl, vals_case, equal_var=False)\n",
    "    return (refs, abs(t_stat))\n",
    "\n",
    "# ----------------------------------------------------------------------------- \n",
    "# 2 ▸ Ranking individual de genes referenciales 🔍\n",
    "# -----------------------------------------------------------------------------\n",
    "scores_indiv = []\n",
    "for gene in df['target'].unique():\n",
    "    temp  = df.copy()\n",
    "    ref   = temp[temp['target'] == gene][['test', 'ct']].rename(columns={'ct': f'{gene}_ct'})\n",
    "    temp  = temp.merge(ref, on='test')\n",
    "    temp['delta_ct']      = temp['ct'] - temp[f'{gene}_ct']\n",
    "    temp['log2_rel_expr'] = -temp['delta_ct']\n",
    "    vals_ctrl = temp[temp['tipo'] == 'Control']['log2_rel_expr']\n",
    "    vals_case = temp[temp['tipo'] != 'Control']['log2_rel_expr']\n",
    "    if len(vals_ctrl) > 1 and len(vals_case) > 1:\n",
    "        t_stat, _ = ttest_ind(vals_ctrl, vals_case, equal_var=False)\n",
    "        scores_indiv.append((gene, abs(t_stat)))\n",
    "scores_indiv = sorted(scores_indiv, key=lambda x: -x[1])\n",
    "top_N        = 12                 # ← ajusta si quieres explorar más candidatos\n",
    "top_genes    = [g for g, _ in scores_indiv[:top_N]]\n",
    "\n",
    "# ----------------------------------------------------------------------------- \n",
    "# 3 ▸ Evaluar todas las combinaciones de tamaño K ⚡ (multi-thread)\n",
    "# -----------------------------------------------------------------------------\n",
    "K          = 2               # → puede ser 2, 3… según CPU/RAM\n",
    "comb_list  = list(combinations(top_genes, K))\n",
    "results    = []\n",
    "with ThreadPoolExecutor() as ex:\n",
    "    for res in tqdm(ex.map(separation_score_for_refs, comb_list),\n",
    "                    total=len(comb_list),\n",
    "                    desc=f\"Probando sets de {K} genes\"):\n",
    "        results.append(res)\n",
    "\n",
    "df_results = (pd.DataFrame(results, columns=['genes', 'score'])\n",
    "              .sort_values('score', ascending=False))\n",
    "\n",
    "# ----------------------------------------------------------------------------- \n",
    "# 4 ▸ Normalizar todo con los mejores genes 🏆\n",
    "# -----------------------------------------------------------------------------\n",
    "best_genes = df_results.iloc[0]['genes']\n",
    "temp       = df.copy()\n",
    "ref_cts    = (temp[temp['target'].isin(best_genes)]\n",
    "              .groupby('test')['ct'].mean()\n",
    "              .reset_index()\n",
    "              .rename(columns={'ct': 'ref_ct'}))\n",
    "temp = temp.merge(ref_cts, on='test')\n",
    "temp['delta_ct']      = temp['ct'] - temp['ref_ct']\n",
    "temp['log2_rel_expr'] = -temp['delta_ct']\n",
    "\n",
    "# ----------------------------------------------------------------------------- \n",
    "# 5 ▸ Calcular |t| para **todos** los genes con esta normalización 📈\n",
    "# -----------------------------------------------------------------------------\n",
    "scores_all = []\n",
    "for gene in temp['target'].unique():\n",
    "    sub        = temp[temp['target'] == gene]\n",
    "    vals_ctrl  = sub[sub['tipo'] == 'Control']['log2_rel_expr']\n",
    "    vals_case  = sub[sub['tipo'] != 'Control']['log2_rel_expr']\n",
    "    if len(vals_ctrl) > 1 and len(vals_case) > 1:\n",
    "        t_stat, _ = ttest_ind(vals_ctrl, vals_case, equal_var=False)\n",
    "        scores_all.append((gene, abs(t_stat)))\n",
    "df_scores_all = (pd.DataFrame(scores_all, columns=['gene', 'score'])\n",
    "                 .sort_values('score', ascending=False))\n",
    "\n",
    "# Genes con mayor poder separador\n",
    "THRESH_SCORE      = 2\n",
    "genes_separadores = df_scores_all[df_scores_all['score'] > THRESH_SCORE]['gene']\n",
    "\n",
    "# ----------------------------------------------------------------------------- \n",
    "# 6 ▸ Heatmap continuo (si ya tienes create_clustered_heatmap) 🌡️\n",
    "# -----------------------------------------------------------------------------\n",
    "heatmap_data = (temp[temp['target'].isin(genes_separadores)]\n",
    "                .pivot_table(index='target',\n",
    "                             columns='test',\n",
    "                             values='log2_rel_expr',\n",
    "                             aggfunc='mean'))\n",
    "\n",
    "fig_continuo = create_clustered_heatmap(\n",
    "    heatmap_data,\n",
    "    title=f\"Clustergrama continuo | score > {THRESH_SCORE} | refs: {', '.join(best_genes)}\"\n",
    ")\n",
    "fig_continuo.show()\n",
    "\n",
    "# ----------------------------------------------------------------------------- \n",
    "# 7 ▸ Heatmap **discreto absoluto** (sobre / estable / sub) 🎯\n",
    "# -----------------------------------------------------------------------------\n",
    "ABS_THRESHOLD = 0.58      # ≈ log2(1.5). Ajusta según efecto biológico deseado\n",
    "\n",
    "# a) Discretizar: -1 = sub, 0 = estable, 1 = sobre\n",
    "cat_data = heatmap_data.applymap(\n",
    "    lambda x: 1 if x >  ABS_THRESHOLD else (-1 if x < -ABS_THRESHOLD else 0)\n",
    ")\n",
    "\n",
    "# b) Clustering jerárquico para reordenar filas y columnas\n",
    "row_order  = leaves_list(linkage(ssd.pdist(cat_data,       'euclidean'), method='average'))\n",
    "col_order  = leaves_list(linkage(ssd.pdist(cat_data.T,     'euclidean'), method='average'))\n",
    "cat_ord    = cat_data.iloc[row_order, col_order]\n",
    "\n",
    "# c) Dibujar sin barra de escala\n",
    "colorscale = [\n",
    "    [0.0, \"#3182bd\"],   # azul → subexpresado\n",
    "    [0.5, \"#f7f7f7\"],   # gris → estable\n",
    "    [1.0, \"#de2d26\"]    # rojo → sobreexpresado\n",
    "]\n",
    "fig_discreto = go.Figure(\n",
    "    go.Heatmap(\n",
    "        z             = cat_ord.values,\n",
    "        x             = cat_ord.columns,\n",
    "        y             = cat_ord.index,\n",
    "        zmin          = -1,\n",
    "        zmax          =  1,\n",
    "        colorscale    = colorscale,\n",
    "        showscale     = False,   # 🔕 sin barra de color\n",
    "        hovertemplate = \"Gen: %{y}<br>Muestra: %{x}<br>Estado: %{z}<extra></extra>\"\n",
    "    )\n",
    ")\n",
    "fig_discreto.update_layout(\n",
    "    title = (f\"Clustergrama discreto (±{ABS_THRESHOLD} log2)  \"\n",
    "             f\"| refs: {', '.join(best_genes)}\"),\n",
    "    xaxis_title = \"Muestras\",\n",
    "    yaxis_title = \"Genes\"\n",
    ")\n",
    "row_px = 20\n",
    "n_genes = cat_ord.shape[0]\n",
    "fig_discreto.update_layout(height=max(400, n_genes * row_px))\n",
    "fig_discreto.show(config={'scrollZoom': True})  # zoom con scroll si lo necesitas\n",
    "\n",
    "# ----------------------------------------------------------------------------- \n",
    "# 8 ▸ Resumen categórico opcional 📊\n",
    "# -----------------------------------------------------------------------------\n",
    "cat_counts = (cat_data.replace({-1: 'Sub', 0: 'Estable', 1: 'Sobre'})\n",
    "              .apply(pd.Series.value_counts, axis=1)\n",
    "              .fillna(0))\n",
    "print(cat_counts.head())"
   ]
  },
  {
   "cell_type": "code",
   "execution_count": 18,
   "id": "854131e7",
   "metadata": {},
   "outputs": [
    {
     "name": "stdout",
     "output_type": "stream",
     "text": [
      "Genes separadores (umbral delta_delta_ct_promedio > 2):\n",
      "['SERPINE1', 'PTK2', 'BMP1', 'COL3A1', 'GAPDH', 'TCF4', 'SNAI3', 'FN1', 'MMP9', 'GNG11', 'B2M', 'STAT3', 'GSC', 'ZEB2', 'MMP2', 'NOTCH1', 'ACTB', 'TFPI2', 'WNT11', 'JAG1', 'KRT14', 'FGFBP1']\n",
      "      target  delta_delta_ct_promedio  fold_change_promedio  abs_delta\n",
      "59  SERPINE1                -6.441255             86.898218   6.441255\n",
      "54      PTK2                -5.076255             33.736881   5.076255\n",
      "3       BMP1                -4.932921             30.546207   4.932921\n",
      "12    COL3A1                 4.637079              0.040188   4.637079\n",
      "25     GAPDH                 4.618745              0.040702   4.618745\n",
      "71      TCF4                -4.531255             23.122968   4.531255\n",
      "64     SNAI3                -4.184588             18.183878   4.184588\n",
      "22       FN1                 4.037079              0.060914   4.037079\n",
      "44      MMP9                -3.642921             12.491903   3.642921\n",
      "26     GNG11                 3.625412              0.081029   3.625412\n",
      "2        B2M                -3.516255             11.441900   3.516255\n",
      "68     STAT3                -3.431255             10.787246   3.431255\n",
      "27       GSC                 2.968745              0.127738   2.968745\n",
      "88      ZEB2                -2.869588              7.308564   2.869588\n",
      "42      MMP2                 2.860412              0.137699   2.860412\n",
      "48    NOTCH1                -2.756255              6.756400   2.756255\n",
      "0       ACTB                 2.667079              0.157445   2.667079\n",
      "72     TFPI2                 2.652079              0.159091   2.652079\n",
      "84     WNT11                 2.585412              0.166615   2.585412\n",
      "37      JAG1                -2.417921              5.344005   2.417921\n",
      "38     KRT14                 2.417079              0.187235   2.417079\n",
      "21    FGFBP1                 2.082079              0.236174   2.082079\n"
     ]
    },
    {
     "data": {
      "application/vnd.plotly.v1+json": {
       "config": {
        "plotlyServerURL": "https://plot.ly"
       },
       "data": [
        {
         "hoverinfo": "text",
         "marker": {
          "color": "rgb(0,116,217)"
         },
         "mode": "lines",
         "type": "scatter",
         "x": [
          5,
          5,
          15,
          15
         ],
         "xaxis": "x",
         "y": [
          0,
          16.89816262201308,
          16.89816262201308,
          0
         ],
         "yaxis": "y"
        },
        {
         "hoverinfo": "text",
         "marker": {
          "color": "rgb(61,153,112)"
         },
         "mode": "lines",
         "type": "scatter",
         "x": [
          35,
          35,
          45,
          45
         ],
         "xaxis": "x",
         "y": [
          0,
          12.242687613428677,
          12.242687613428677,
          0
         ],
         "yaxis": "y"
        },
        {
         "hoverinfo": "text",
         "marker": {
          "color": "rgb(0,116,217)"
         },
         "mode": "lines",
         "type": "scatter",
         "x": [
          25,
          25,
          40,
          40
         ],
         "xaxis": "x",
         "y": [
          0,
          18.90407376211649,
          18.90407376211649,
          12.242687613428677
         ],
         "yaxis": "y"
        },
        {
         "hoverinfo": "text",
         "marker": {
          "color": "rgb(0,116,217)"
         },
         "mode": "lines",
         "type": "scatter",
         "x": [
          10,
          10,
          32.5,
          32.5
         ],
         "xaxis": "x",
         "y": [
          16.89816262201308,
          22.029627820172333,
          22.029627820172333,
          18.90407376211649
         ],
         "yaxis": "y"
        },
        {
         "hoverinfo": "text",
         "marker": {
          "color": "rgb(61,153,112)"
         },
         "mode": "lines",
         "type": "scatter",
         "x": [
          0,
          -8.209049884121793,
          -8.209049884121793,
          0
         ],
         "xaxis": "x3",
         "y": [
          15,
          15,
          25,
          25
         ],
         "yaxis": "y3"
        },
        {
         "hoverinfo": "text",
         "marker": {
          "color": "rgb(0,116,217)"
         },
         "mode": "lines",
         "type": "scatter",
         "x": [
          0,
          -11.823882028958222,
          -11.823882028958222,
          -8.209049884121793
         ],
         "xaxis": "x3",
         "y": [
          5,
          5,
          20,
          20
         ],
         "yaxis": "y3"
        },
        {
         "hoverinfo": "text",
         "marker": {
          "color": "rgb(255,65,54)"
         },
         "mode": "lines",
         "type": "scatter",
         "x": [
          0,
          -1.919661428481598,
          -1.919661428481598,
          0
         ],
         "xaxis": "x3",
         "y": [
          55,
          55,
          65,
          65
         ],
         "yaxis": "y3"
        },
        {
         "hoverinfo": "text",
         "marker": {
          "color": "rgb(255,65,54)"
         },
         "mode": "lines",
         "type": "scatter",
         "x": [
          0,
          -4.5468213689614565,
          -4.5468213689614565,
          -1.919661428481598
         ],
         "xaxis": "x3",
         "y": [
          45,
          45,
          60,
          60
         ],
         "yaxis": "y3"
        },
        {
         "hoverinfo": "text",
         "marker": {
          "color": "rgb(255,65,54)"
         },
         "mode": "lines",
         "type": "scatter",
         "x": [
          0,
          -3.1811790267132043,
          -3.1811790267132043,
          0
         ],
         "xaxis": "x3",
         "y": [
          85,
          85,
          95,
          95
         ],
         "yaxis": "y3"
        },
        {
         "hoverinfo": "text",
         "marker": {
          "color": "rgb(255,65,54)"
         },
         "mode": "lines",
         "type": "scatter",
         "x": [
          0,
          -5.612241545064621,
          -5.612241545064621,
          -3.1811790267132043
         ],
         "xaxis": "x3",
         "y": [
          75,
          75,
          90,
          90
         ],
         "yaxis": "y3"
        },
        {
         "hoverinfo": "text",
         "marker": {
          "color": "rgb(255,65,54)"
         },
         "mode": "lines",
         "type": "scatter",
         "x": [
          -4.5468213689614565,
          -7.187397961285792,
          -7.187397961285792,
          -5.612241545064621
         ],
         "xaxis": "x3",
         "y": [
          52.5,
          52.5,
          82.5,
          82.5
         ],
         "yaxis": "y3"
        },
        {
         "hoverinfo": "text",
         "marker": {
          "color": "rgb(0,116,217)"
         },
         "mode": "lines",
         "type": "scatter",
         "x": [
          0,
          -11.834968233089342,
          -11.834968233089342,
          -7.187397961285792
         ],
         "xaxis": "x3",
         "y": [
          35,
          35,
          67.5,
          67.5
         ],
         "yaxis": "y3"
        },
        {
         "hoverinfo": "text",
         "marker": {
          "color": "rgb(35,205,205)"
         },
         "mode": "lines",
         "type": "scatter",
         "x": [
          0,
          -5.937743679210142,
          -5.937743679210142,
          0
         ],
         "xaxis": "x3",
         "y": [
          115,
          115,
          125,
          125
         ],
         "yaxis": "y3"
        },
        {
         "hoverinfo": "text",
         "marker": {
          "color": "rgb(35,205,205)"
         },
         "mode": "lines",
         "type": "scatter",
         "x": [
          0,
          -7.188323682566081,
          -7.188323682566081,
          -5.937743679210142
         ],
         "xaxis": "x3",
         "y": [
          105,
          105,
          120,
          120
         ],
         "yaxis": "y3"
        },
        {
         "hoverinfo": "text",
         "marker": {
          "color": "rgb(133,20,75)"
         },
         "mode": "lines",
         "type": "scatter",
         "x": [
          0,
          -5.792149859939747,
          -5.792149859939747,
          0
         ],
         "xaxis": "x3",
         "y": [
          135,
          135,
          145,
          145
         ],
         "yaxis": "y3"
        },
        {
         "hoverinfo": "text",
         "marker": {
          "color": "rgb(133,20,75)"
         },
         "mode": "lines",
         "type": "scatter",
         "x": [
          0,
          -3.0048627256498746,
          -3.0048627256498746,
          0
         ],
         "xaxis": "x3",
         "y": [
          175,
          175,
          185,
          185
         ],
         "yaxis": "y3"
        },
        {
         "hoverinfo": "text",
         "marker": {
          "color": "rgb(133,20,75)"
         },
         "mode": "lines",
         "type": "scatter",
         "x": [
          0,
          -3.5108038490962286,
          -3.5108038490962286,
          -3.0048627256498746
         ],
         "xaxis": "x3",
         "y": [
          165,
          165,
          180,
          180
         ],
         "yaxis": "y3"
        },
        {
         "hoverinfo": "text",
         "marker": {
          "color": "rgb(133,20,75)"
         },
         "mode": "lines",
         "type": "scatter",
         "x": [
          0,
          -3.65851062592416,
          -3.65851062592416,
          0
         ],
         "xaxis": "x3",
         "y": [
          205,
          205,
          215,
          215
         ],
         "yaxis": "y3"
        },
        {
         "hoverinfo": "text",
         "marker": {
          "color": "rgb(133,20,75)"
         },
         "mode": "lines",
         "type": "scatter",
         "x": [
          0,
          -4.336758012036536,
          -4.336758012036536,
          -3.65851062592416
         ],
         "xaxis": "x3",
         "y": [
          195,
          195,
          210,
          210
         ],
         "yaxis": "y3"
        },
        {
         "hoverinfo": "text",
         "marker": {
          "color": "rgb(133,20,75)"
         },
         "mode": "lines",
         "type": "scatter",
         "x": [
          -3.5108038490962286,
          -5.506127097896704,
          -5.506127097896704,
          -4.336758012036536
         ],
         "xaxis": "x3",
         "y": [
          172.5,
          172.5,
          202.5,
          202.5
         ],
         "yaxis": "y3"
        },
        {
         "hoverinfo": "text",
         "marker": {
          "color": "rgb(133,20,75)"
         },
         "mode": "lines",
         "type": "scatter",
         "x": [
          0,
          -6.480296395458276,
          -6.480296395458276,
          -5.506127097896704
         ],
         "xaxis": "x3",
         "y": [
          155,
          155,
          187.5,
          187.5
         ],
         "yaxis": "y3"
        },
        {
         "hoverinfo": "text",
         "marker": {
          "color": "rgb(133,20,75)"
         },
         "mode": "lines",
         "type": "scatter",
         "x": [
          -5.792149859939747,
          -9.295948291670477,
          -9.295948291670477,
          -6.480296395458276
         ],
         "xaxis": "x3",
         "y": [
          140,
          140,
          171.25,
          171.25
         ],
         "yaxis": "y3"
        },
        {
         "hoverinfo": "text",
         "marker": {
          "color": "rgb(0,116,217)"
         },
         "mode": "lines",
         "type": "scatter",
         "x": [
          -7.188323682566081,
          -11.877375644792833,
          -11.877375644792833,
          -9.295948291670477
         ],
         "xaxis": "x3",
         "y": [
          112.5,
          112.5,
          155.625,
          155.625
         ],
         "yaxis": "y3"
        },
        {
         "hoverinfo": "text",
         "marker": {
          "color": "rgb(0,116,217)"
         },
         "mode": "lines",
         "type": "scatter",
         "x": [
          -11.834968233089342,
          -12.128960852576256,
          -12.128960852576256,
          -11.877375644792833
         ],
         "xaxis": "x3",
         "y": [
          51.25,
          51.25,
          134.0625,
          134.0625
         ],
         "yaxis": "y3"
        },
        {
         "hoverinfo": "text",
         "marker": {
          "color": "rgb(0,116,217)"
         },
         "mode": "lines",
         "type": "scatter",
         "x": [
          -11.823882028958222,
          -15.55915061429658,
          -15.55915061429658,
          -12.128960852576256
         ],
         "xaxis": "x3",
         "y": [
          12.5,
          12.5,
          92.65625,
          92.65625
         ],
         "yaxis": "y3"
        },
        {
         "colorbar": {
          "title": {
           "text": "log2(Exp. Rel. vs ILK)"
          }
         },
         "colorscale": [
          [
           0,
           "#2c7bb6"
          ],
          [
           0.5,
           "#ffffb2"
          ],
          [
           1,
           "#d7191c"
          ]
         ],
         "showscale": true,
         "type": "heatmap",
         "x": [
          "4GB001",
          "4GB031",
          "3CG129",
          "3CG008",
          "3CG128"
         ],
         "xaxis": "x2",
         "y": [
          "TFPI2",
          "B2M",
          "BMP1",
          "KRT14",
          "WNT11",
          "FN1",
          "MMP2",
          "ACTB",
          "COL3A1",
          "GNG11",
          "GAPDH",
          "FGFBP1",
          "GSC",
          "JAG1",
          "NOTCH1",
          "SERPINE1",
          "TCF4",
          "MMP9",
          "ZEB2",
          "SNAI3",
          "PTK2",
          "STAT3"
         ],
         "yaxis": "y2",
         "z": [
          [
           17.04,
           10.619999999999997,
           9.829999999999998,
           13.14,
           12.520000000000003
          ],
          [
           8.11,
           10.96,
           15.5,
           14.120000000000001,
           11.490000000000002
          ],
          [
           6.159999999999997,
           4.670000000000002,
           11.829999999999998,
           11.310000000000002,
           9.86
          ],
          [
           7.119999999999997,
           6.909999999999997,
           11.380000000000003,
           1.5600000000000023,
           2.8100000000000023
          ],
          [
           4.600000000000001,
           8.18,
           2.8100000000000023,
           5.960000000000001,
           4.600000000000001
          ],
          [
           8.450000000000003,
           8.939999999999998,
           3.479999999999997,
           6.829999999999998,
           5.619999999999997
          ],
          [
           8.119999999999997,
           8.909999999999997,
           4.600000000000001,
           7.229999999999997,
           7.089999999999996
          ],
          [
           9.670000000000002,
           9.18,
           1.5399999999999991,
           9.689999999999998,
           11
          ],
          [
           11.75,
           10.5,
           4.210000000000001,
           7.380000000000003,
           9.829999999999998
          ],
          [
           11.869999999999997,
           10.810000000000002,
           7.339999999999996,
           7.829999999999998,
           9.93
          ],
          [
           9.280000000000001,
           0,
           0,
           0,
           2.020000000000003
          ],
          [
           6.18,
           1.7199999999999989,
           0,
           6.859999999999999,
           0.7000000000000028
          ],
          [
           9.149999999999999,
           2.3500000000000014,
           4.310000000000002,
           4.310000000000002,
           1.6799999999999997
          ],
          [
           0,
           0,
           4.170000000000002,
           5.039999999999999,
           0
          ],
          [
           0.36999999999999744,
           0,
           0.9799999999999969,
           4.979999999999997,
           4.82
          ],
          [
           0,
           0,
           6.32,
           5.899999999999999,
           9.060000000000002
          ],
          [
           0,
           5.859999999999999,
           6.210000000000001,
           10.29,
           7.839999999999996
          ],
          [
           0.14000000000000057,
           4.310000000000002,
           3.299999999999997,
           8.61,
           7.649999999999999
          ],
          [
           1.7700000000000031,
           5.280000000000001,
           3.75,
           10.689999999999998,
           6.700000000000003
          ],
          [
           3.3999999999999986,
           2.8999999999999986,
           8.979999999999997,
           6.509999999999998,
           8.469999999999999
          ],
          [
           1.3599999999999994,
           2.049999999999997,
           6.18,
           9.439999999999998,
           6.68
          ],
          [
           4.219999999999999,
           3.799999999999997,
           7.509999999999998,
           9.479999999999997,
           7.289999999999999
          ]
         ],
         "zmid": 0
        }
       ],
       "layout": {
        "height": 880,
        "showlegend": false,
        "template": {
         "data": {
          "bar": [
           {
            "error_x": {
             "color": "#2a3f5f"
            },
            "error_y": {
             "color": "#2a3f5f"
            },
            "marker": {
             "line": {
              "color": "#E5ECF6",
              "width": 0.5
             },
             "pattern": {
              "fillmode": "overlay",
              "size": 10,
              "solidity": 0.2
             }
            },
            "type": "bar"
           }
          ],
          "barpolar": [
           {
            "marker": {
             "line": {
              "color": "#E5ECF6",
              "width": 0.5
             },
             "pattern": {
              "fillmode": "overlay",
              "size": 10,
              "solidity": 0.2
             }
            },
            "type": "barpolar"
           }
          ],
          "carpet": [
           {
            "aaxis": {
             "endlinecolor": "#2a3f5f",
             "gridcolor": "white",
             "linecolor": "white",
             "minorgridcolor": "white",
             "startlinecolor": "#2a3f5f"
            },
            "baxis": {
             "endlinecolor": "#2a3f5f",
             "gridcolor": "white",
             "linecolor": "white",
             "minorgridcolor": "white",
             "startlinecolor": "#2a3f5f"
            },
            "type": "carpet"
           }
          ],
          "choropleth": [
           {
            "colorbar": {
             "outlinewidth": 0,
             "ticks": ""
            },
            "type": "choropleth"
           }
          ],
          "contour": [
           {
            "colorbar": {
             "outlinewidth": 0,
             "ticks": ""
            },
            "colorscale": [
             [
              0,
              "#0d0887"
             ],
             [
              0.1111111111111111,
              "#46039f"
             ],
             [
              0.2222222222222222,
              "#7201a8"
             ],
             [
              0.3333333333333333,
              "#9c179e"
             ],
             [
              0.4444444444444444,
              "#bd3786"
             ],
             [
              0.5555555555555556,
              "#d8576b"
             ],
             [
              0.6666666666666666,
              "#ed7953"
             ],
             [
              0.7777777777777778,
              "#fb9f3a"
             ],
             [
              0.8888888888888888,
              "#fdca26"
             ],
             [
              1,
              "#f0f921"
             ]
            ],
            "type": "contour"
           }
          ],
          "contourcarpet": [
           {
            "colorbar": {
             "outlinewidth": 0,
             "ticks": ""
            },
            "type": "contourcarpet"
           }
          ],
          "heatmap": [
           {
            "colorbar": {
             "outlinewidth": 0,
             "ticks": ""
            },
            "colorscale": [
             [
              0,
              "#0d0887"
             ],
             [
              0.1111111111111111,
              "#46039f"
             ],
             [
              0.2222222222222222,
              "#7201a8"
             ],
             [
              0.3333333333333333,
              "#9c179e"
             ],
             [
              0.4444444444444444,
              "#bd3786"
             ],
             [
              0.5555555555555556,
              "#d8576b"
             ],
             [
              0.6666666666666666,
              "#ed7953"
             ],
             [
              0.7777777777777778,
              "#fb9f3a"
             ],
             [
              0.8888888888888888,
              "#fdca26"
             ],
             [
              1,
              "#f0f921"
             ]
            ],
            "type": "heatmap"
           }
          ],
          "heatmapgl": [
           {
            "colorbar": {
             "outlinewidth": 0,
             "ticks": ""
            },
            "colorscale": [
             [
              0,
              "#0d0887"
             ],
             [
              0.1111111111111111,
              "#46039f"
             ],
             [
              0.2222222222222222,
              "#7201a8"
             ],
             [
              0.3333333333333333,
              "#9c179e"
             ],
             [
              0.4444444444444444,
              "#bd3786"
             ],
             [
              0.5555555555555556,
              "#d8576b"
             ],
             [
              0.6666666666666666,
              "#ed7953"
             ],
             [
              0.7777777777777778,
              "#fb9f3a"
             ],
             [
              0.8888888888888888,
              "#fdca26"
             ],
             [
              1,
              "#f0f921"
             ]
            ],
            "type": "heatmapgl"
           }
          ],
          "histogram": [
           {
            "marker": {
             "pattern": {
              "fillmode": "overlay",
              "size": 10,
              "solidity": 0.2
             }
            },
            "type": "histogram"
           }
          ],
          "histogram2d": [
           {
            "colorbar": {
             "outlinewidth": 0,
             "ticks": ""
            },
            "colorscale": [
             [
              0,
              "#0d0887"
             ],
             [
              0.1111111111111111,
              "#46039f"
             ],
             [
              0.2222222222222222,
              "#7201a8"
             ],
             [
              0.3333333333333333,
              "#9c179e"
             ],
             [
              0.4444444444444444,
              "#bd3786"
             ],
             [
              0.5555555555555556,
              "#d8576b"
             ],
             [
              0.6666666666666666,
              "#ed7953"
             ],
             [
              0.7777777777777778,
              "#fb9f3a"
             ],
             [
              0.8888888888888888,
              "#fdca26"
             ],
             [
              1,
              "#f0f921"
             ]
            ],
            "type": "histogram2d"
           }
          ],
          "histogram2dcontour": [
           {
            "colorbar": {
             "outlinewidth": 0,
             "ticks": ""
            },
            "colorscale": [
             [
              0,
              "#0d0887"
             ],
             [
              0.1111111111111111,
              "#46039f"
             ],
             [
              0.2222222222222222,
              "#7201a8"
             ],
             [
              0.3333333333333333,
              "#9c179e"
             ],
             [
              0.4444444444444444,
              "#bd3786"
             ],
             [
              0.5555555555555556,
              "#d8576b"
             ],
             [
              0.6666666666666666,
              "#ed7953"
             ],
             [
              0.7777777777777778,
              "#fb9f3a"
             ],
             [
              0.8888888888888888,
              "#fdca26"
             ],
             [
              1,
              "#f0f921"
             ]
            ],
            "type": "histogram2dcontour"
           }
          ],
          "mesh3d": [
           {
            "colorbar": {
             "outlinewidth": 0,
             "ticks": ""
            },
            "type": "mesh3d"
           }
          ],
          "parcoords": [
           {
            "line": {
             "colorbar": {
              "outlinewidth": 0,
              "ticks": ""
             }
            },
            "type": "parcoords"
           }
          ],
          "pie": [
           {
            "automargin": true,
            "type": "pie"
           }
          ],
          "scatter": [
           {
            "fillpattern": {
             "fillmode": "overlay",
             "size": 10,
             "solidity": 0.2
            },
            "type": "scatter"
           }
          ],
          "scatter3d": [
           {
            "line": {
             "colorbar": {
              "outlinewidth": 0,
              "ticks": ""
             }
            },
            "marker": {
             "colorbar": {
              "outlinewidth": 0,
              "ticks": ""
             }
            },
            "type": "scatter3d"
           }
          ],
          "scattercarpet": [
           {
            "marker": {
             "colorbar": {
              "outlinewidth": 0,
              "ticks": ""
             }
            },
            "type": "scattercarpet"
           }
          ],
          "scattergeo": [
           {
            "marker": {
             "colorbar": {
              "outlinewidth": 0,
              "ticks": ""
             }
            },
            "type": "scattergeo"
           }
          ],
          "scattergl": [
           {
            "marker": {
             "colorbar": {
              "outlinewidth": 0,
              "ticks": ""
             }
            },
            "type": "scattergl"
           }
          ],
          "scattermapbox": [
           {
            "marker": {
             "colorbar": {
              "outlinewidth": 0,
              "ticks": ""
             }
            },
            "type": "scattermapbox"
           }
          ],
          "scatterpolar": [
           {
            "marker": {
             "colorbar": {
              "outlinewidth": 0,
              "ticks": ""
             }
            },
            "type": "scatterpolar"
           }
          ],
          "scatterpolargl": [
           {
            "marker": {
             "colorbar": {
              "outlinewidth": 0,
              "ticks": ""
             }
            },
            "type": "scatterpolargl"
           }
          ],
          "scatterternary": [
           {
            "marker": {
             "colorbar": {
              "outlinewidth": 0,
              "ticks": ""
             }
            },
            "type": "scatterternary"
           }
          ],
          "surface": [
           {
            "colorbar": {
             "outlinewidth": 0,
             "ticks": ""
            },
            "colorscale": [
             [
              0,
              "#0d0887"
             ],
             [
              0.1111111111111111,
              "#46039f"
             ],
             [
              0.2222222222222222,
              "#7201a8"
             ],
             [
              0.3333333333333333,
              "#9c179e"
             ],
             [
              0.4444444444444444,
              "#bd3786"
             ],
             [
              0.5555555555555556,
              "#d8576b"
             ],
             [
              0.6666666666666666,
              "#ed7953"
             ],
             [
              0.7777777777777778,
              "#fb9f3a"
             ],
             [
              0.8888888888888888,
              "#fdca26"
             ],
             [
              1,
              "#f0f921"
             ]
            ],
            "type": "surface"
           }
          ],
          "table": [
           {
            "cells": {
             "fill": {
              "color": "#EBF0F8"
             },
             "line": {
              "color": "white"
             }
            },
            "header": {
             "fill": {
              "color": "#C8D4E3"
             },
             "line": {
              "color": "white"
             }
            },
            "type": "table"
           }
          ]
         },
         "layout": {
          "annotationdefaults": {
           "arrowcolor": "#2a3f5f",
           "arrowhead": 0,
           "arrowwidth": 1
          },
          "autotypenumbers": "strict",
          "coloraxis": {
           "colorbar": {
            "outlinewidth": 0,
            "ticks": ""
           }
          },
          "colorscale": {
           "diverging": [
            [
             0,
             "#8e0152"
            ],
            [
             0.1,
             "#c51b7d"
            ],
            [
             0.2,
             "#de77ae"
            ],
            [
             0.3,
             "#f1b6da"
            ],
            [
             0.4,
             "#fde0ef"
            ],
            [
             0.5,
             "#f7f7f7"
            ],
            [
             0.6,
             "#e6f5d0"
            ],
            [
             0.7,
             "#b8e186"
            ],
            [
             0.8,
             "#7fbc41"
            ],
            [
             0.9,
             "#4d9221"
            ],
            [
             1,
             "#276419"
            ]
           ],
           "sequential": [
            [
             0,
             "#0d0887"
            ],
            [
             0.1111111111111111,
             "#46039f"
            ],
            [
             0.2222222222222222,
             "#7201a8"
            ],
            [
             0.3333333333333333,
             "#9c179e"
            ],
            [
             0.4444444444444444,
             "#bd3786"
            ],
            [
             0.5555555555555556,
             "#d8576b"
            ],
            [
             0.6666666666666666,
             "#ed7953"
            ],
            [
             0.7777777777777778,
             "#fb9f3a"
            ],
            [
             0.8888888888888888,
             "#fdca26"
            ],
            [
             1,
             "#f0f921"
            ]
           ],
           "sequentialminus": [
            [
             0,
             "#0d0887"
            ],
            [
             0.1111111111111111,
             "#46039f"
            ],
            [
             0.2222222222222222,
             "#7201a8"
            ],
            [
             0.3333333333333333,
             "#9c179e"
            ],
            [
             0.4444444444444444,
             "#bd3786"
            ],
            [
             0.5555555555555556,
             "#d8576b"
            ],
            [
             0.6666666666666666,
             "#ed7953"
            ],
            [
             0.7777777777777778,
             "#fb9f3a"
            ],
            [
             0.8888888888888888,
             "#fdca26"
            ],
            [
             1,
             "#f0f921"
            ]
           ]
          },
          "colorway": [
           "#636efa",
           "#EF553B",
           "#00cc96",
           "#ab63fa",
           "#FFA15A",
           "#19d3f3",
           "#FF6692",
           "#B6E880",
           "#FF97FF",
           "#FECB52"
          ],
          "font": {
           "color": "#2a3f5f"
          },
          "geo": {
           "bgcolor": "white",
           "lakecolor": "white",
           "landcolor": "#E5ECF6",
           "showlakes": true,
           "showland": true,
           "subunitcolor": "white"
          },
          "hoverlabel": {
           "align": "left"
          },
          "hovermode": "closest",
          "mapbox": {
           "style": "light"
          },
          "paper_bgcolor": "white",
          "plot_bgcolor": "#E5ECF6",
          "polar": {
           "angularaxis": {
            "gridcolor": "white",
            "linecolor": "white",
            "ticks": ""
           },
           "bgcolor": "#E5ECF6",
           "radialaxis": {
            "gridcolor": "white",
            "linecolor": "white",
            "ticks": ""
           }
          },
          "scene": {
           "xaxis": {
            "backgroundcolor": "#E5ECF6",
            "gridcolor": "white",
            "gridwidth": 2,
            "linecolor": "white",
            "showbackground": true,
            "ticks": "",
            "zerolinecolor": "white"
           },
           "yaxis": {
            "backgroundcolor": "#E5ECF6",
            "gridcolor": "white",
            "gridwidth": 2,
            "linecolor": "white",
            "showbackground": true,
            "ticks": "",
            "zerolinecolor": "white"
           },
           "zaxis": {
            "backgroundcolor": "#E5ECF6",
            "gridcolor": "white",
            "gridwidth": 2,
            "linecolor": "white",
            "showbackground": true,
            "ticks": "",
            "zerolinecolor": "white"
           }
          },
          "shapedefaults": {
           "line": {
            "color": "#2a3f5f"
           }
          },
          "ternary": {
           "aaxis": {
            "gridcolor": "white",
            "linecolor": "white",
            "ticks": ""
           },
           "baxis": {
            "gridcolor": "white",
            "linecolor": "white",
            "ticks": ""
           },
           "bgcolor": "#E5ECF6",
           "caxis": {
            "gridcolor": "white",
            "linecolor": "white",
            "ticks": ""
           }
          },
          "title": {
           "x": 0.05
          },
          "xaxis": {
           "automargin": true,
           "gridcolor": "white",
           "linecolor": "white",
           "ticks": "",
           "title": {
            "standoff": 15
           },
           "zerolinecolor": "white",
           "zerolinewidth": 2
          },
          "yaxis": {
           "automargin": true,
           "gridcolor": "white",
           "linecolor": "white",
           "ticks": "",
           "title": {
            "standoff": 15
           },
           "zerolinecolor": "white",
           "zerolinewidth": 2
          }
         }
        },
        "title": {
         "text": "Clustergrama: Genes separadores (normalización vs ILK)"
        },
        "width": 1000,
        "xaxis": {
         "anchor": "y",
         "domain": [
          0,
          1
         ],
         "showticklabels": false
        },
        "xaxis2": {
         "anchor": "y2",
         "domain": [
          0,
          0.784
         ],
         "showticklabels": true,
         "title": {
          "text": "Tests"
         }
        },
        "xaxis3": {
         "anchor": "y3",
         "domain": [
          0.804,
          1
         ]
        },
        "yaxis": {
         "anchor": "x",
         "domain": [
          0.9109090909090909,
          1
         ]
        },
        "yaxis2": {
         "anchor": "x2",
         "domain": [
          0,
          0.8909090909090909
         ],
         "showticklabels": true,
         "title": {
          "text": "Genes"
         }
        },
        "yaxis3": {
         "anchor": "x3",
         "domain": [
          0,
          0.8909090909090909
         ],
         "matches": "y2",
         "showticklabels": false
        }
       }
      }
     },
     "metadata": {},
     "output_type": "display_data"
    }
   ],
   "source": [
    "from pathlib import Path\n",
    "import pandas as pd\n",
    "import numpy as np\n",
    "from scipy.stats import ttest_ind\n",
    "\n",
    "# ----------------------\n",
    "# 1. Carga y configuración\n",
    "# ----------------------\n",
    "ruta_excel = Path(\"../raw_data/CG-TEM-intestinal_prueba.xlsx\")\n",
    "df_excel = pd.read_excel(ruta_excel, sheet_name=0, header=None)\n",
    "ruta_archivo = ruta_excel\n",
    "contexto_biologico = df_excel.iloc[2, 1]\n",
    "metodo_elegido = df_excel.iloc[1, 1]\n",
    "tipo_cancer = df_excel.iloc[0, 1]\n",
    "nombre_controles = df_excel.iloc[3, 1]\n",
    "nombre_muestras = df_excel.iloc[4, 1]\n",
    "nombre_archivo = ruta_archivo.stem\n",
    "ruta_resultados = Path(\n",
    "    f\"../resultados/{nombre_archivo}/{contexto_biologico}/{metodo_elegido}/{tipo_cancer}/\"\n",
    ")\n",
    "ruta_resultados.mkdir(parents=True, exist_ok=True)\n",
    "\n",
    "# ----------------------\n",
    "# 2. Procesamiento de datos crudos\n",
    "# ----------------------\n",
    "def cargar_datos_excel(ruta):\n",
    "    return pd.read_excel(ruta, engine='openpyxl', header=None)\n",
    "\n",
    "def extraer_informacion_cg(df):\n",
    "    test_names = df.iloc[5, 2:].dropna().astype(str).tolist()\n",
    "    genes = df.iloc[9:, 1].dropna().astype(str).tolist()\n",
    "    return test_names, genes\n",
    "\n",
    "def procesar_ct(df, genes, nombre_controles, nombre_muestras):\n",
    "    fila_ct = df.iloc[7]\n",
    "    controles_list, muestras_list = [], []\n",
    "    for idx in np.where(fila_ct == \"CT\")[0]:\n",
    "        nombre_test = str(df.iloc[5, idx]).strip().upper()\n",
    "        ct_values = df.iloc[8:, idx].tolist()\n",
    "        if len(ct_values) < len(genes):\n",
    "            ct_values.extend([np.nan] * (len(genes) - len(ct_values)))\n",
    "        elif len(ct_values) > len(genes):\n",
    "            ct_values = ct_values[:len(genes)]\n",
    "        df_temp = pd.DataFrame({'test': [nombre_test]*len(genes), 'target': genes, 'ct': ct_values})\n",
    "    \n",
    "        if nombre_test.startswith(nombre_controles.strip().upper()):\n",
    "            controles_list.append(df_temp)\n",
    "        elif nombre_test.startswith(nombre_muestras.strip().upper()):\n",
    "            muestras_list.append(df_temp)\n",
    "    controles_df = pd.concat(controles_list, ignore_index=True) if controles_list else pd.DataFrame()\n",
    "    muestras_df = pd.concat(muestras_list, ignore_index=True) if muestras_list else pd.DataFrame()\n",
    "    return controles_df, muestras_df\n",
    "\n",
    "df = cargar_datos_excel(ruta_archivo)\n",
    "test_names, genes = extraer_informacion_cg(df)\n",
    "controles_df, muestras_df = procesar_ct(df, genes, nombre_controles, nombre_muestras)\n",
    "\n",
    "def procesar_ct_column(df1, df2, columna_ct='ct'):\n",
    "    def procesar(df, columna):\n",
    "        df[columna] = df[columna].replace('Undetermined', pd.NA)\n",
    "        df[columna] = pd.to_numeric(df[columna], errors='coerce')\n",
    "        return df\n",
    "    df1 = procesar(df1, columna_ct)\n",
    "    df2 = procesar(df2, columna_ct)\n",
    "    valor_maximo = pd.concat([df1[columna_ct], df2[columna_ct]]).max()\n",
    "    df1[columna_ct] = df1[columna_ct].fillna(valor_maximo)\n",
    "    df2[columna_ct] = df2[columna_ct].fillna(valor_maximo)\n",
    "    return df1, df2\n",
    "\n",
    "controles_df, muestras_df = procesar_ct_column(controles_df, muestras_df)\n",
    "\n",
    "def filtrar_controles_maquina(df, columna_target='target', controles_maquina=None):\n",
    "    if controles_maquina is None:\n",
    "        controles_maquina = ['PPC', 'RTC']\n",
    "    return df[~df[columna_target].str.startswith(tuple(controles_maquina))]\n",
    "\n",
    "controles_df = filtrar_controles_maquina(controles_df)\n",
    "muestras_df = filtrar_controles_maquina(muestras_df)\n",
    "controles_df = controles_df.assign(tipo='Control')\n",
    "muestras_df = muestras_df.assign(tipo='Muestra')\n",
    "\n",
    "# ----------------------\n",
    "# 3. Fold change y normalización\n",
    "# ----------------------\n",
    "def calcular_fold_change(controles, muestras):\n",
    "    def proc(df, grupo):\n",
    "        stats = df.groupby('target', as_index=False).agg(\n",
    "            ct_promedio=('ct', 'mean'), ct_std=('ct', 'std')\n",
    "        ).rename(columns={'ct_promedio': f'ct_promedio_{grupo}', 'ct_std': f'ct_std_{grupo}'})\n",
    "        return stats\n",
    "    stats_cont = proc(controles, 'controles')\n",
    "    stats_mues = proc(muestras, 'muestras')\n",
    "    stats_cont['promedio_general_controles'] = stats_cont['ct_promedio_controles'].mean()\n",
    "    stats_mues['promedio_general_muestras'] = stats_mues['ct_promedio_muestras'].mean()\n",
    "    stats_cont['delta_ct_promedio_controles'] = stats_cont['ct_promedio_controles'] - stats_cont['promedio_general_controles']\n",
    "    stats_mues['delta_ct_promedio_muestras'] = stats_mues['ct_promedio_muestras'] - stats_mues['promedio_general_muestras']\n",
    "    df_consolidado = pd.merge(stats_cont, stats_mues, on='target', how='outer')\n",
    "    df_consolidado['stability'] = (df_consolidado['ct_std_controles'] + df_consolidado['ct_std_muestras']) / 2\n",
    "    gen_mas_estable = df_consolidado.loc[df_consolidado['stability'].idxmin(), 'target']\n",
    "    ref_cont = stats_cont.query(\"target == @gen_mas_estable\")['ct_promedio_controles'].values[0]\n",
    "    ref_mues = stats_mues.query(\"target == @gen_mas_estable\")['ct_promedio_muestras'].values[0]\n",
    "    stats_cont['delta_ct_gen_ref_controles'] = stats_cont['ct_promedio_controles'] - ref_cont\n",
    "    stats_mues['delta_ct_gen_ref_muestras'] = stats_mues['ct_promedio_muestras'] - ref_mues\n",
    "    df_consolidado = pd.merge(stats_cont, stats_mues, on='target', how='outer')\n",
    "    df_consolidado['delta_delta_ct_promedio'] = (\n",
    "        df_consolidado['delta_ct_promedio_muestras'] - df_consolidado['delta_ct_promedio_controles']\n",
    "    )\n",
    "    df_consolidado['fold_change_promedio'] = 2 ** (-df_consolidado['delta_delta_ct_promedio'])\n",
    "    df_consolidado['delta_delta_ct_gen_ref'] = (\n",
    "        df_consolidado['delta_ct_gen_ref_muestras'] - df_consolidado['delta_ct_gen_ref_controles']\n",
    "    )\n",
    "    df_consolidado['fold_change_gen_ref'] = 2 ** (-df_consolidado['delta_delta_ct_gen_ref'])\n",
    "    return df_consolidado, gen_mas_estable\n",
    "\n",
    "df_consolidado, gen_referencia = calcular_fold_change(controles_df, muestras_df)\n",
    "\n",
    "# ----------------------\n",
    "# 4. Normalización para clustergrama\n",
    "# ----------------------\n",
    "df_total = pd.concat([controles_df, muestras_df])\n",
    "if metodo_elegido == \"gen de referencia\":\n",
    "    ref_ct = df_total[df_total['target'] == gen_referencia][['test', 'ct']].rename(\n",
    "        columns={'ct': f'{gen_referencia}_ct'}\n",
    "    )\n",
    "    df_norm = df_total.merge(ref_ct, on='test')\n",
    "    df_norm['delta_ct'] = df_norm['ct'] - df_norm[f'{gen_referencia}_ct']\n",
    "    df_norm['log2_rel_expr'] = -df_norm['delta_ct']\n",
    "else:\n",
    "    df_norm = df_total.copy()\n",
    "    df_norm['ct_promedio_test'] = df_norm.groupby('test')['ct'].transform('mean')\n",
    "    df_norm['delta_ct_promedio'] = df_norm['ct'] - df_norm['ct_promedio_test']\n",
    "    df_norm['log2_rel_expr'] = -df_norm['delta_ct_promedio']\n",
    "\n",
    "# ----------------------\n",
    "# 5. Ranking de separadores (por |ΔΔCt|, fold change o t-test)\n",
    "# ----------------------\n",
    "df_separadores = df_consolidado.copy()\n",
    "df_separadores['abs_delta'] = df_separadores['delta_delta_ct_promedio'].abs() # valor absoluto de ΔΔCt\n",
    "df_separadores = df_separadores.sort_values('abs_delta', ascending=False)\n",
    "umbral = 2  # Ajusta según criterio\n",
    "genes_separadores = df_separadores[df_separadores['abs_delta'] > umbral]['target'].tolist()\n",
    "\n",
    "print(\"Genes separadores (umbral delta_delta_ct_promedio > 2):\")\n",
    "print(genes_separadores)\n",
    "print(df_separadores[df_separadores['target'].isin(genes_separadores)][\n",
    "    ['target', 'delta_delta_ct_promedio', 'fold_change_promedio', 'abs_delta']\n",
    "])\n",
    "\n",
    "# ----------------------\n",
    "# 6. Clustergrama solo para genes separadores\n",
    "# ----------------------\n",
    "import plotly.figure_factory as ff\n",
    "import plotly.graph_objects as go\n",
    "from plotly.subplots import make_subplots\n",
    "from scipy.cluster.hierarchy import linkage\n",
    "\n",
    "def create_clustered_heatmap(heatmap_data, title):\n",
    "    dendro_col = ff.create_dendrogram(\n",
    "        heatmap_data.T,\n",
    "        orientation='bottom',\n",
    "        labels=heatmap_data.columns.tolist(),\n",
    "        linkagefun=lambda x: linkage(x, method='average', metric='euclidean')\n",
    "    )\n",
    "    col_order = dendro_col['layout']['xaxis']['ticktext']\n",
    "    dendro_row = ff.create_dendrogram(\n",
    "        heatmap_data,\n",
    "        orientation='right',\n",
    "        labels=heatmap_data.index.tolist(),\n",
    "        linkagefun=lambda x: linkage(x, method='average', metric='euclidean')\n",
    "    )\n",
    "    row_order = dendro_row['layout']['yaxis']['ticktext']\n",
    "    clustered_data = heatmap_data.loc[row_order, col_order]\n",
    "    custom_colorscale = [\n",
    "        [0.0, '#2c7bb6'], [0.5, '#ffffb2'], [1.0, '#d7191c']\n",
    "    ]\n",
    "    fig = make_subplots(\n",
    "        rows=2, cols=2,\n",
    "        shared_xaxes=True,\n",
    "        shared_yaxes=True,\n",
    "        vertical_spacing=0.02,\n",
    "        horizontal_spacing=0.02,\n",
    "        column_widths=[0.8, 0.2],\n",
    "        row_heights=[0.10, 1],\n",
    "        specs=[[{\"type\": \"scatter\", \"colspan\": 2}, None],\n",
    "               [{\"type\": \"heatmap\"}, {\"type\": \"scatter\"}]]\n",
    "    )\n",
    "    for trace in dendro_col['data']:\n",
    "        fig.add_trace(trace, row=1, col=1)\n",
    "    for trace in dendro_row['data']:\n",
    "        fig.add_trace(trace, row=2, col=2)\n",
    "    heatmap = go.Heatmap(\n",
    "        z=clustered_data.values,\n",
    "        x=col_order,\n",
    "        y=row_order,\n",
    "        colorscale=custom_colorscale,\n",
    "        colorbar=dict(title=f\"log2(Exp. Rel. vs {gen_referencia})\"),\n",
    "        showscale=True,\n",
    "        zmid=0\n",
    "    )\n",
    "    fig.add_trace(heatmap, row=2, col=1)\n",
    "    fig.update_layout(title_text=title, width=1000, height=max(800, len(row_order) * 40), showlegend=False)\n",
    "    fig.update_xaxes(showticklabels=False, row=1, col=1)\n",
    "    fig.update_xaxes(showticklabels=True, row=2, col=1, title=\"Tests\")\n",
    "    fig.update_yaxes(showticklabels=True, row=2, col=1, title=\"Genes\")\n",
    "    fig.update_yaxes(showticklabels=False, row=2, col=2)\n",
    "    return fig\n",
    "\n",
    "if genes_separadores:\n",
    "    heatmap_data = df_norm[df_norm['target'].isin(genes_separadores)].pivot_table(\n",
    "        index='target', columns='test', values='log2_rel_expr', aggfunc='mean'\n",
    "    )\n",
    "    fig = create_clustered_heatmap(\n",
    "        heatmap_data,\n",
    "        title=f\"Clustergrama: Genes separadores (normalización vs {gen_referencia})\"\n",
    "    )\n",
    "    fig.show()\n",
    "else:\n",
    "    print(\"No hay suficientes genes separadores para el clustergrama.\")"
   ]
  },
  {
   "cell_type": "markdown",
   "id": "8a46a836",
   "metadata": {},
   "source": []
  },
  {
   "cell_type": "markdown",
   "id": "547243c1",
   "metadata": {},
   "source": [
    "# PIPE LINE COMPLETO"
   ]
  },
  {
   "cell_type": "code",
   "execution_count": 19,
   "id": "44f12693",
   "metadata": {},
   "outputs": [
    {
     "data": {
      "application/vnd.plotly.v1+json": {
       "config": {
        "plotlyServerURL": "https://plot.ly"
       },
       "data": [
        {
         "hoverinfo": "text",
         "marker": {
          "color": "rgb(0,116,217)"
         },
         "mode": "lines",
         "type": "scatter",
         "x": [
          5,
          5,
          15,
          15
         ],
         "xaxis": "x",
         "y": [
          0,
          16.89816262201308,
          16.89816262201308,
          0
         ],
         "yaxis": "y"
        },
        {
         "hoverinfo": "text",
         "marker": {
          "color": "rgb(61,153,112)"
         },
         "mode": "lines",
         "type": "scatter",
         "x": [
          35,
          35,
          45,
          45
         ],
         "xaxis": "x",
         "y": [
          0,
          12.242687613428677,
          12.242687613428677,
          0
         ],
         "yaxis": "y"
        },
        {
         "hoverinfo": "text",
         "marker": {
          "color": "rgb(0,116,217)"
         },
         "mode": "lines",
         "type": "scatter",
         "x": [
          25,
          25,
          40,
          40
         ],
         "xaxis": "x",
         "y": [
          0,
          18.90407376211649,
          18.90407376211649,
          12.242687613428677
         ],
         "yaxis": "y"
        },
        {
         "hoverinfo": "text",
         "marker": {
          "color": "rgb(0,116,217)"
         },
         "mode": "lines",
         "type": "scatter",
         "x": [
          10,
          10,
          32.5,
          32.5
         ],
         "xaxis": "x",
         "y": [
          16.89816262201308,
          22.029627820172333,
          22.029627820172333,
          18.90407376211649
         ],
         "yaxis": "y"
        },
        {
         "hoverinfo": "text",
         "marker": {
          "color": "rgb(61,153,112)"
         },
         "mode": "lines",
         "type": "scatter",
         "x": [
          0,
          -8.209049884121793,
          -8.209049884121793,
          0
         ],
         "xaxis": "x3",
         "y": [
          15,
          15,
          25,
          25
         ],
         "yaxis": "y3"
        },
        {
         "hoverinfo": "text",
         "marker": {
          "color": "rgb(0,116,217)"
         },
         "mode": "lines",
         "type": "scatter",
         "x": [
          0,
          -11.823882028958222,
          -11.823882028958222,
          -8.209049884121793
         ],
         "xaxis": "x3",
         "y": [
          5,
          5,
          20,
          20
         ],
         "yaxis": "y3"
        },
        {
         "hoverinfo": "text",
         "marker": {
          "color": "rgb(255,65,54)"
         },
         "mode": "lines",
         "type": "scatter",
         "x": [
          0,
          -1.919661428481598,
          -1.919661428481598,
          0
         ],
         "xaxis": "x3",
         "y": [
          55,
          55,
          65,
          65
         ],
         "yaxis": "y3"
        },
        {
         "hoverinfo": "text",
         "marker": {
          "color": "rgb(255,65,54)"
         },
         "mode": "lines",
         "type": "scatter",
         "x": [
          0,
          -4.5468213689614565,
          -4.5468213689614565,
          -1.919661428481598
         ],
         "xaxis": "x3",
         "y": [
          45,
          45,
          60,
          60
         ],
         "yaxis": "y3"
        },
        {
         "hoverinfo": "text",
         "marker": {
          "color": "rgb(255,65,54)"
         },
         "mode": "lines",
         "type": "scatter",
         "x": [
          0,
          -3.1811790267132043,
          -3.1811790267132043,
          0
         ],
         "xaxis": "x3",
         "y": [
          85,
          85,
          95,
          95
         ],
         "yaxis": "y3"
        },
        {
         "hoverinfo": "text",
         "marker": {
          "color": "rgb(255,65,54)"
         },
         "mode": "lines",
         "type": "scatter",
         "x": [
          0,
          -5.612241545064621,
          -5.612241545064621,
          -3.1811790267132043
         ],
         "xaxis": "x3",
         "y": [
          75,
          75,
          90,
          90
         ],
         "yaxis": "y3"
        },
        {
         "hoverinfo": "text",
         "marker": {
          "color": "rgb(255,65,54)"
         },
         "mode": "lines",
         "type": "scatter",
         "x": [
          -4.5468213689614565,
          -7.187397961285792,
          -7.187397961285792,
          -5.612241545064621
         ],
         "xaxis": "x3",
         "y": [
          52.5,
          52.5,
          82.5,
          82.5
         ],
         "yaxis": "y3"
        },
        {
         "hoverinfo": "text",
         "marker": {
          "color": "rgb(0,116,217)"
         },
         "mode": "lines",
         "type": "scatter",
         "x": [
          0,
          -11.834968233089342,
          -11.834968233089342,
          -7.187397961285792
         ],
         "xaxis": "x3",
         "y": [
          35,
          35,
          67.5,
          67.5
         ],
         "yaxis": "y3"
        },
        {
         "hoverinfo": "text",
         "marker": {
          "color": "rgb(35,205,205)"
         },
         "mode": "lines",
         "type": "scatter",
         "x": [
          0,
          -5.937743679210142,
          -5.937743679210142,
          0
         ],
         "xaxis": "x3",
         "y": [
          115,
          115,
          125,
          125
         ],
         "yaxis": "y3"
        },
        {
         "hoverinfo": "text",
         "marker": {
          "color": "rgb(35,205,205)"
         },
         "mode": "lines",
         "type": "scatter",
         "x": [
          0,
          -7.188323682566081,
          -7.188323682566081,
          -5.937743679210142
         ],
         "xaxis": "x3",
         "y": [
          105,
          105,
          120,
          120
         ],
         "yaxis": "y3"
        },
        {
         "hoverinfo": "text",
         "marker": {
          "color": "rgb(133,20,75)"
         },
         "mode": "lines",
         "type": "scatter",
         "x": [
          0,
          -5.792149859939747,
          -5.792149859939747,
          0
         ],
         "xaxis": "x3",
         "y": [
          135,
          135,
          145,
          145
         ],
         "yaxis": "y3"
        },
        {
         "hoverinfo": "text",
         "marker": {
          "color": "rgb(133,20,75)"
         },
         "mode": "lines",
         "type": "scatter",
         "x": [
          0,
          -3.0048627256498746,
          -3.0048627256498746,
          0
         ],
         "xaxis": "x3",
         "y": [
          175,
          175,
          185,
          185
         ],
         "yaxis": "y3"
        },
        {
         "hoverinfo": "text",
         "marker": {
          "color": "rgb(133,20,75)"
         },
         "mode": "lines",
         "type": "scatter",
         "x": [
          0,
          -3.5108038490962286,
          -3.5108038490962286,
          -3.0048627256498746
         ],
         "xaxis": "x3",
         "y": [
          165,
          165,
          180,
          180
         ],
         "yaxis": "y3"
        },
        {
         "hoverinfo": "text",
         "marker": {
          "color": "rgb(133,20,75)"
         },
         "mode": "lines",
         "type": "scatter",
         "x": [
          0,
          -3.65851062592416,
          -3.65851062592416,
          0
         ],
         "xaxis": "x3",
         "y": [
          205,
          205,
          215,
          215
         ],
         "yaxis": "y3"
        },
        {
         "hoverinfo": "text",
         "marker": {
          "color": "rgb(133,20,75)"
         },
         "mode": "lines",
         "type": "scatter",
         "x": [
          0,
          -4.336758012036536,
          -4.336758012036536,
          -3.65851062592416
         ],
         "xaxis": "x3",
         "y": [
          195,
          195,
          210,
          210
         ],
         "yaxis": "y3"
        },
        {
         "hoverinfo": "text",
         "marker": {
          "color": "rgb(133,20,75)"
         },
         "mode": "lines",
         "type": "scatter",
         "x": [
          -3.5108038490962286,
          -5.506127097896704,
          -5.506127097896704,
          -4.336758012036536
         ],
         "xaxis": "x3",
         "y": [
          172.5,
          172.5,
          202.5,
          202.5
         ],
         "yaxis": "y3"
        },
        {
         "hoverinfo": "text",
         "marker": {
          "color": "rgb(133,20,75)"
         },
         "mode": "lines",
         "type": "scatter",
         "x": [
          0,
          -6.480296395458276,
          -6.480296395458276,
          -5.506127097896704
         ],
         "xaxis": "x3",
         "y": [
          155,
          155,
          187.5,
          187.5
         ],
         "yaxis": "y3"
        },
        {
         "hoverinfo": "text",
         "marker": {
          "color": "rgb(133,20,75)"
         },
         "mode": "lines",
         "type": "scatter",
         "x": [
          -5.792149859939747,
          -9.295948291670477,
          -9.295948291670477,
          -6.480296395458276
         ],
         "xaxis": "x3",
         "y": [
          140,
          140,
          171.25,
          171.25
         ],
         "yaxis": "y3"
        },
        {
         "hoverinfo": "text",
         "marker": {
          "color": "rgb(0,116,217)"
         },
         "mode": "lines",
         "type": "scatter",
         "x": [
          -7.188323682566081,
          -11.877375644792833,
          -11.877375644792833,
          -9.295948291670477
         ],
         "xaxis": "x3",
         "y": [
          112.5,
          112.5,
          155.625,
          155.625
         ],
         "yaxis": "y3"
        },
        {
         "hoverinfo": "text",
         "marker": {
          "color": "rgb(0,116,217)"
         },
         "mode": "lines",
         "type": "scatter",
         "x": [
          -11.834968233089342,
          -12.128960852576256,
          -12.128960852576256,
          -11.877375644792833
         ],
         "xaxis": "x3",
         "y": [
          51.25,
          51.25,
          134.0625,
          134.0625
         ],
         "yaxis": "y3"
        },
        {
         "hoverinfo": "text",
         "marker": {
          "color": "rgb(0,116,217)"
         },
         "mode": "lines",
         "type": "scatter",
         "x": [
          -11.823882028958222,
          -15.55915061429658,
          -15.55915061429658,
          -12.128960852576256
         ],
         "xaxis": "x3",
         "y": [
          12.5,
          12.5,
          92.65625,
          92.65625
         ],
         "yaxis": "y3"
        },
        {
         "colorbar": {
          "title": {
           "text": "log2(Exp. Rel. vs ILK)"
          }
         },
         "colorscale": [
          [
           0,
           "#2c7bb6"
          ],
          [
           0.5,
           "#ffffb2"
          ],
          [
           1,
           "#d7191c"
          ]
         ],
         "showscale": true,
         "type": "heatmap",
         "x": [
          "4GB001",
          "4GB031",
          "3CG129",
          "3CG008",
          "3CG128"
         ],
         "xaxis": "x2",
         "y": [
          "TFPI2",
          "B2M",
          "BMP1",
          "KRT14",
          "WNT11",
          "FN1",
          "MMP2",
          "ACTB",
          "COL3A1",
          "GNG11",
          "GAPDH",
          "FGFBP1",
          "GSC",
          "JAG1",
          "NOTCH1",
          "SERPINE1",
          "TCF4",
          "MMP9",
          "ZEB2",
          "SNAI3",
          "PTK2",
          "STAT3"
         ],
         "yaxis": "y2",
         "z": [
          [
           17.04,
           10.619999999999997,
           9.829999999999998,
           13.14,
           12.520000000000003
          ],
          [
           8.11,
           10.96,
           15.5,
           14.120000000000001,
           11.490000000000002
          ],
          [
           6.159999999999997,
           4.670000000000002,
           11.829999999999998,
           11.310000000000002,
           9.86
          ],
          [
           7.119999999999997,
           6.909999999999997,
           11.380000000000003,
           1.5600000000000023,
           2.8100000000000023
          ],
          [
           4.600000000000001,
           8.18,
           2.8100000000000023,
           5.960000000000001,
           4.600000000000001
          ],
          [
           8.450000000000003,
           8.939999999999998,
           3.479999999999997,
           6.829999999999998,
           5.619999999999997
          ],
          [
           8.119999999999997,
           8.909999999999997,
           4.600000000000001,
           7.229999999999997,
           7.089999999999996
          ],
          [
           9.670000000000002,
           9.18,
           1.5399999999999991,
           9.689999999999998,
           11
          ],
          [
           11.75,
           10.5,
           4.210000000000001,
           7.380000000000003,
           9.829999999999998
          ],
          [
           11.869999999999997,
           10.810000000000002,
           7.339999999999996,
           7.829999999999998,
           9.93
          ],
          [
           9.280000000000001,
           0,
           0,
           0,
           2.020000000000003
          ],
          [
           6.18,
           1.7199999999999989,
           0,
           6.859999999999999,
           0.7000000000000028
          ],
          [
           9.149999999999999,
           2.3500000000000014,
           4.310000000000002,
           4.310000000000002,
           1.6799999999999997
          ],
          [
           0,
           0,
           4.170000000000002,
           5.039999999999999,
           0
          ],
          [
           0.36999999999999744,
           0,
           0.9799999999999969,
           4.979999999999997,
           4.82
          ],
          [
           0,
           0,
           6.32,
           5.899999999999999,
           9.060000000000002
          ],
          [
           0,
           5.859999999999999,
           6.210000000000001,
           10.29,
           7.839999999999996
          ],
          [
           0.14000000000000057,
           4.310000000000002,
           3.299999999999997,
           8.61,
           7.649999999999999
          ],
          [
           1.7700000000000031,
           5.280000000000001,
           3.75,
           10.689999999999998,
           6.700000000000003
          ],
          [
           3.3999999999999986,
           2.8999999999999986,
           8.979999999999997,
           6.509999999999998,
           8.469999999999999
          ],
          [
           1.3599999999999994,
           2.049999999999997,
           6.18,
           9.439999999999998,
           6.68
          ],
          [
           4.219999999999999,
           3.799999999999997,
           7.509999999999998,
           9.479999999999997,
           7.289999999999999
          ]
         ],
         "zmid": 0
        }
       ],
       "layout": {
        "height": 880,
        "showlegend": false,
        "template": {
         "data": {
          "bar": [
           {
            "error_x": {
             "color": "#2a3f5f"
            },
            "error_y": {
             "color": "#2a3f5f"
            },
            "marker": {
             "line": {
              "color": "#E5ECF6",
              "width": 0.5
             },
             "pattern": {
              "fillmode": "overlay",
              "size": 10,
              "solidity": 0.2
             }
            },
            "type": "bar"
           }
          ],
          "barpolar": [
           {
            "marker": {
             "line": {
              "color": "#E5ECF6",
              "width": 0.5
             },
             "pattern": {
              "fillmode": "overlay",
              "size": 10,
              "solidity": 0.2
             }
            },
            "type": "barpolar"
           }
          ],
          "carpet": [
           {
            "aaxis": {
             "endlinecolor": "#2a3f5f",
             "gridcolor": "white",
             "linecolor": "white",
             "minorgridcolor": "white",
             "startlinecolor": "#2a3f5f"
            },
            "baxis": {
             "endlinecolor": "#2a3f5f",
             "gridcolor": "white",
             "linecolor": "white",
             "minorgridcolor": "white",
             "startlinecolor": "#2a3f5f"
            },
            "type": "carpet"
           }
          ],
          "choropleth": [
           {
            "colorbar": {
             "outlinewidth": 0,
             "ticks": ""
            },
            "type": "choropleth"
           }
          ],
          "contour": [
           {
            "colorbar": {
             "outlinewidth": 0,
             "ticks": ""
            },
            "colorscale": [
             [
              0,
              "#0d0887"
             ],
             [
              0.1111111111111111,
              "#46039f"
             ],
             [
              0.2222222222222222,
              "#7201a8"
             ],
             [
              0.3333333333333333,
              "#9c179e"
             ],
             [
              0.4444444444444444,
              "#bd3786"
             ],
             [
              0.5555555555555556,
              "#d8576b"
             ],
             [
              0.6666666666666666,
              "#ed7953"
             ],
             [
              0.7777777777777778,
              "#fb9f3a"
             ],
             [
              0.8888888888888888,
              "#fdca26"
             ],
             [
              1,
              "#f0f921"
             ]
            ],
            "type": "contour"
           }
          ],
          "contourcarpet": [
           {
            "colorbar": {
             "outlinewidth": 0,
             "ticks": ""
            },
            "type": "contourcarpet"
           }
          ],
          "heatmap": [
           {
            "colorbar": {
             "outlinewidth": 0,
             "ticks": ""
            },
            "colorscale": [
             [
              0,
              "#0d0887"
             ],
             [
              0.1111111111111111,
              "#46039f"
             ],
             [
              0.2222222222222222,
              "#7201a8"
             ],
             [
              0.3333333333333333,
              "#9c179e"
             ],
             [
              0.4444444444444444,
              "#bd3786"
             ],
             [
              0.5555555555555556,
              "#d8576b"
             ],
             [
              0.6666666666666666,
              "#ed7953"
             ],
             [
              0.7777777777777778,
              "#fb9f3a"
             ],
             [
              0.8888888888888888,
              "#fdca26"
             ],
             [
              1,
              "#f0f921"
             ]
            ],
            "type": "heatmap"
           }
          ],
          "heatmapgl": [
           {
            "colorbar": {
             "outlinewidth": 0,
             "ticks": ""
            },
            "colorscale": [
             [
              0,
              "#0d0887"
             ],
             [
              0.1111111111111111,
              "#46039f"
             ],
             [
              0.2222222222222222,
              "#7201a8"
             ],
             [
              0.3333333333333333,
              "#9c179e"
             ],
             [
              0.4444444444444444,
              "#bd3786"
             ],
             [
              0.5555555555555556,
              "#d8576b"
             ],
             [
              0.6666666666666666,
              "#ed7953"
             ],
             [
              0.7777777777777778,
              "#fb9f3a"
             ],
             [
              0.8888888888888888,
              "#fdca26"
             ],
             [
              1,
              "#f0f921"
             ]
            ],
            "type": "heatmapgl"
           }
          ],
          "histogram": [
           {
            "marker": {
             "pattern": {
              "fillmode": "overlay",
              "size": 10,
              "solidity": 0.2
             }
            },
            "type": "histogram"
           }
          ],
          "histogram2d": [
           {
            "colorbar": {
             "outlinewidth": 0,
             "ticks": ""
            },
            "colorscale": [
             [
              0,
              "#0d0887"
             ],
             [
              0.1111111111111111,
              "#46039f"
             ],
             [
              0.2222222222222222,
              "#7201a8"
             ],
             [
              0.3333333333333333,
              "#9c179e"
             ],
             [
              0.4444444444444444,
              "#bd3786"
             ],
             [
              0.5555555555555556,
              "#d8576b"
             ],
             [
              0.6666666666666666,
              "#ed7953"
             ],
             [
              0.7777777777777778,
              "#fb9f3a"
             ],
             [
              0.8888888888888888,
              "#fdca26"
             ],
             [
              1,
              "#f0f921"
             ]
            ],
            "type": "histogram2d"
           }
          ],
          "histogram2dcontour": [
           {
            "colorbar": {
             "outlinewidth": 0,
             "ticks": ""
            },
            "colorscale": [
             [
              0,
              "#0d0887"
             ],
             [
              0.1111111111111111,
              "#46039f"
             ],
             [
              0.2222222222222222,
              "#7201a8"
             ],
             [
              0.3333333333333333,
              "#9c179e"
             ],
             [
              0.4444444444444444,
              "#bd3786"
             ],
             [
              0.5555555555555556,
              "#d8576b"
             ],
             [
              0.6666666666666666,
              "#ed7953"
             ],
             [
              0.7777777777777778,
              "#fb9f3a"
             ],
             [
              0.8888888888888888,
              "#fdca26"
             ],
             [
              1,
              "#f0f921"
             ]
            ],
            "type": "histogram2dcontour"
           }
          ],
          "mesh3d": [
           {
            "colorbar": {
             "outlinewidth": 0,
             "ticks": ""
            },
            "type": "mesh3d"
           }
          ],
          "parcoords": [
           {
            "line": {
             "colorbar": {
              "outlinewidth": 0,
              "ticks": ""
             }
            },
            "type": "parcoords"
           }
          ],
          "pie": [
           {
            "automargin": true,
            "type": "pie"
           }
          ],
          "scatter": [
           {
            "fillpattern": {
             "fillmode": "overlay",
             "size": 10,
             "solidity": 0.2
            },
            "type": "scatter"
           }
          ],
          "scatter3d": [
           {
            "line": {
             "colorbar": {
              "outlinewidth": 0,
              "ticks": ""
             }
            },
            "marker": {
             "colorbar": {
              "outlinewidth": 0,
              "ticks": ""
             }
            },
            "type": "scatter3d"
           }
          ],
          "scattercarpet": [
           {
            "marker": {
             "colorbar": {
              "outlinewidth": 0,
              "ticks": ""
             }
            },
            "type": "scattercarpet"
           }
          ],
          "scattergeo": [
           {
            "marker": {
             "colorbar": {
              "outlinewidth": 0,
              "ticks": ""
             }
            },
            "type": "scattergeo"
           }
          ],
          "scattergl": [
           {
            "marker": {
             "colorbar": {
              "outlinewidth": 0,
              "ticks": ""
             }
            },
            "type": "scattergl"
           }
          ],
          "scattermapbox": [
           {
            "marker": {
             "colorbar": {
              "outlinewidth": 0,
              "ticks": ""
             }
            },
            "type": "scattermapbox"
           }
          ],
          "scatterpolar": [
           {
            "marker": {
             "colorbar": {
              "outlinewidth": 0,
              "ticks": ""
             }
            },
            "type": "scatterpolar"
           }
          ],
          "scatterpolargl": [
           {
            "marker": {
             "colorbar": {
              "outlinewidth": 0,
              "ticks": ""
             }
            },
            "type": "scatterpolargl"
           }
          ],
          "scatterternary": [
           {
            "marker": {
             "colorbar": {
              "outlinewidth": 0,
              "ticks": ""
             }
            },
            "type": "scatterternary"
           }
          ],
          "surface": [
           {
            "colorbar": {
             "outlinewidth": 0,
             "ticks": ""
            },
            "colorscale": [
             [
              0,
              "#0d0887"
             ],
             [
              0.1111111111111111,
              "#46039f"
             ],
             [
              0.2222222222222222,
              "#7201a8"
             ],
             [
              0.3333333333333333,
              "#9c179e"
             ],
             [
              0.4444444444444444,
              "#bd3786"
             ],
             [
              0.5555555555555556,
              "#d8576b"
             ],
             [
              0.6666666666666666,
              "#ed7953"
             ],
             [
              0.7777777777777778,
              "#fb9f3a"
             ],
             [
              0.8888888888888888,
              "#fdca26"
             ],
             [
              1,
              "#f0f921"
             ]
            ],
            "type": "surface"
           }
          ],
          "table": [
           {
            "cells": {
             "fill": {
              "color": "#EBF0F8"
             },
             "line": {
              "color": "white"
             }
            },
            "header": {
             "fill": {
              "color": "#C8D4E3"
             },
             "line": {
              "color": "white"
             }
            },
            "type": "table"
           }
          ]
         },
         "layout": {
          "annotationdefaults": {
           "arrowcolor": "#2a3f5f",
           "arrowhead": 0,
           "arrowwidth": 1
          },
          "autotypenumbers": "strict",
          "coloraxis": {
           "colorbar": {
            "outlinewidth": 0,
            "ticks": ""
           }
          },
          "colorscale": {
           "diverging": [
            [
             0,
             "#8e0152"
            ],
            [
             0.1,
             "#c51b7d"
            ],
            [
             0.2,
             "#de77ae"
            ],
            [
             0.3,
             "#f1b6da"
            ],
            [
             0.4,
             "#fde0ef"
            ],
            [
             0.5,
             "#f7f7f7"
            ],
            [
             0.6,
             "#e6f5d0"
            ],
            [
             0.7,
             "#b8e186"
            ],
            [
             0.8,
             "#7fbc41"
            ],
            [
             0.9,
             "#4d9221"
            ],
            [
             1,
             "#276419"
            ]
           ],
           "sequential": [
            [
             0,
             "#0d0887"
            ],
            [
             0.1111111111111111,
             "#46039f"
            ],
            [
             0.2222222222222222,
             "#7201a8"
            ],
            [
             0.3333333333333333,
             "#9c179e"
            ],
            [
             0.4444444444444444,
             "#bd3786"
            ],
            [
             0.5555555555555556,
             "#d8576b"
            ],
            [
             0.6666666666666666,
             "#ed7953"
            ],
            [
             0.7777777777777778,
             "#fb9f3a"
            ],
            [
             0.8888888888888888,
             "#fdca26"
            ],
            [
             1,
             "#f0f921"
            ]
           ],
           "sequentialminus": [
            [
             0,
             "#0d0887"
            ],
            [
             0.1111111111111111,
             "#46039f"
            ],
            [
             0.2222222222222222,
             "#7201a8"
            ],
            [
             0.3333333333333333,
             "#9c179e"
            ],
            [
             0.4444444444444444,
             "#bd3786"
            ],
            [
             0.5555555555555556,
             "#d8576b"
            ],
            [
             0.6666666666666666,
             "#ed7953"
            ],
            [
             0.7777777777777778,
             "#fb9f3a"
            ],
            [
             0.8888888888888888,
             "#fdca26"
            ],
            [
             1,
             "#f0f921"
            ]
           ]
          },
          "colorway": [
           "#636efa",
           "#EF553B",
           "#00cc96",
           "#ab63fa",
           "#FFA15A",
           "#19d3f3",
           "#FF6692",
           "#B6E880",
           "#FF97FF",
           "#FECB52"
          ],
          "font": {
           "color": "#2a3f5f"
          },
          "geo": {
           "bgcolor": "white",
           "lakecolor": "white",
           "landcolor": "#E5ECF6",
           "showlakes": true,
           "showland": true,
           "subunitcolor": "white"
          },
          "hoverlabel": {
           "align": "left"
          },
          "hovermode": "closest",
          "mapbox": {
           "style": "light"
          },
          "paper_bgcolor": "white",
          "plot_bgcolor": "#E5ECF6",
          "polar": {
           "angularaxis": {
            "gridcolor": "white",
            "linecolor": "white",
            "ticks": ""
           },
           "bgcolor": "#E5ECF6",
           "radialaxis": {
            "gridcolor": "white",
            "linecolor": "white",
            "ticks": ""
           }
          },
          "scene": {
           "xaxis": {
            "backgroundcolor": "#E5ECF6",
            "gridcolor": "white",
            "gridwidth": 2,
            "linecolor": "white",
            "showbackground": true,
            "ticks": "",
            "zerolinecolor": "white"
           },
           "yaxis": {
            "backgroundcolor": "#E5ECF6",
            "gridcolor": "white",
            "gridwidth": 2,
            "linecolor": "white",
            "showbackground": true,
            "ticks": "",
            "zerolinecolor": "white"
           },
           "zaxis": {
            "backgroundcolor": "#E5ECF6",
            "gridcolor": "white",
            "gridwidth": 2,
            "linecolor": "white",
            "showbackground": true,
            "ticks": "",
            "zerolinecolor": "white"
           }
          },
          "shapedefaults": {
           "line": {
            "color": "#2a3f5f"
           }
          },
          "ternary": {
           "aaxis": {
            "gridcolor": "white",
            "linecolor": "white",
            "ticks": ""
           },
           "baxis": {
            "gridcolor": "white",
            "linecolor": "white",
            "ticks": ""
           },
           "bgcolor": "#E5ECF6",
           "caxis": {
            "gridcolor": "white",
            "linecolor": "white",
            "ticks": ""
           }
          },
          "title": {
           "x": 0.05
          },
          "xaxis": {
           "automargin": true,
           "gridcolor": "white",
           "linecolor": "white",
           "ticks": "",
           "title": {
            "standoff": 15
           },
           "zerolinecolor": "white",
           "zerolinewidth": 2
          },
          "yaxis": {
           "automargin": true,
           "gridcolor": "white",
           "linecolor": "white",
           "ticks": "",
           "title": {
            "standoff": 15
           },
           "zerolinecolor": "white",
           "zerolinewidth": 2
          }
         }
        },
        "title": {
         "text": "Clustergrama: Genes separadores (normalización vs ILK)"
        },
        "width": 1000,
        "xaxis": {
         "anchor": "y",
         "domain": [
          0,
          1
         ],
         "showticklabels": false
        },
        "xaxis2": {
         "anchor": "y2",
         "domain": [
          0,
          0.784
         ],
         "showticklabels": true,
         "title": {
          "text": "Tests"
         }
        },
        "xaxis3": {
         "anchor": "y3",
         "domain": [
          0.804,
          1
         ]
        },
        "yaxis": {
         "anchor": "x",
         "domain": [
          0.9109090909090909,
          1
         ]
        },
        "yaxis2": {
         "anchor": "x2",
         "domain": [
          0,
          0.8909090909090909
         ],
         "showticklabels": true,
         "title": {
          "text": "Genes"
         }
        },
        "yaxis3": {
         "anchor": "x3",
         "domain": [
          0,
          0.8909090909090909
         ],
         "matches": "y2",
         "showticklabels": false
        }
       }
      }
     },
     "metadata": {},
     "output_type": "display_data"
    },
    {
     "name": "stdout",
     "output_type": "stream",
     "text": [
      "\n",
      "Iniciando búsqueda de sets óptimos de genes normalizadores (fuerza bruta)...\n",
      "\n"
     ]
    },
    {
     "name": "stderr",
     "output_type": "stream",
     "text": [
      "Probando sets de 5 genes: 100%|██████████| 792/792 [00:01<00:00, 561.88it/s]\n"
     ]
    },
    {
     "data": {
      "text/html": [
       "<div>\n",
       "<style scoped>\n",
       "    .dataframe tbody tr th:only-of-type {\n",
       "        vertical-align: middle;\n",
       "    }\n",
       "\n",
       "    .dataframe tbody tr th {\n",
       "        vertical-align: top;\n",
       "    }\n",
       "\n",
       "    .dataframe thead th {\n",
       "        text-align: right;\n",
       "    }\n",
       "</style>\n",
       "<table border=\"1\" class=\"dataframe\">\n",
       "  <thead>\n",
       "    <tr style=\"text-align: right;\">\n",
       "      <th></th>\n",
       "      <th>genes</th>\n",
       "      <th>score</th>\n",
       "    </tr>\n",
       "  </thead>\n",
       "  <tbody>\n",
       "    <tr>\n",
       "      <th>9</th>\n",
       "      <td>(SERPINE1, PTK2, BMP1, SNAI3, TCF4)</td>\n",
       "      <td>12.617987</td>\n",
       "    </tr>\n",
       "    <tr>\n",
       "      <th>23</th>\n",
       "      <td>(SERPINE1, PTK2, BMP1, TCF4, STAT3)</td>\n",
       "      <td>12.259174</td>\n",
       "    </tr>\n",
       "    <tr>\n",
       "      <th>24</th>\n",
       "      <td>(SERPINE1, PTK2, BMP1, TCF4, B2M)</td>\n",
       "      <td>12.212470</td>\n",
       "    </tr>\n",
       "    <tr>\n",
       "      <th>25</th>\n",
       "      <td>(SERPINE1, PTK2, BMP1, TCF4, MMP9)</td>\n",
       "      <td>12.188423</td>\n",
       "    </tr>\n",
       "    <tr>\n",
       "      <th>14</th>\n",
       "      <td>(SERPINE1, PTK2, BMP1, SNAI3, MMP9)</td>\n",
       "      <td>12.181839</td>\n",
       "    </tr>\n",
       "    <tr>\n",
       "      <th>13</th>\n",
       "      <td>(SERPINE1, PTK2, BMP1, SNAI3, B2M)</td>\n",
       "      <td>12.101021</td>\n",
       "    </tr>\n",
       "    <tr>\n",
       "      <th>12</th>\n",
       "      <td>(SERPINE1, PTK2, BMP1, SNAI3, STAT3)</td>\n",
       "      <td>12.093400</td>\n",
       "    </tr>\n",
       "    <tr>\n",
       "      <th>72</th>\n",
       "      <td>(SERPINE1, PTK2, SNAI3, TCF4, STAT3)</td>\n",
       "      <td>11.846727</td>\n",
       "    </tr>\n",
       "    <tr>\n",
       "      <th>34</th>\n",
       "      <td>(SERPINE1, PTK2, BMP1, STAT3, MMP9)</td>\n",
       "      <td>11.822580</td>\n",
       "    </tr>\n",
       "    <tr>\n",
       "      <th>35</th>\n",
       "      <td>(SERPINE1, PTK2, BMP1, B2M, MMP9)</td>\n",
       "      <td>11.820523</td>\n",
       "    </tr>\n",
       "  </tbody>\n",
       "</table>\n",
       "</div>"
      ],
      "text/plain": [
       "                                   genes      score\n",
       "9    (SERPINE1, PTK2, BMP1, SNAI3, TCF4)  12.617987\n",
       "23   (SERPINE1, PTK2, BMP1, TCF4, STAT3)  12.259174\n",
       "24     (SERPINE1, PTK2, BMP1, TCF4, B2M)  12.212470\n",
       "25    (SERPINE1, PTK2, BMP1, TCF4, MMP9)  12.188423\n",
       "14   (SERPINE1, PTK2, BMP1, SNAI3, MMP9)  12.181839\n",
       "13    (SERPINE1, PTK2, BMP1, SNAI3, B2M)  12.101021\n",
       "12  (SERPINE1, PTK2, BMP1, SNAI3, STAT3)  12.093400\n",
       "72  (SERPINE1, PTK2, SNAI3, TCF4, STAT3)  11.846727\n",
       "34   (SERPINE1, PTK2, BMP1, STAT3, MMP9)  11.822580\n",
       "35     (SERPINE1, PTK2, BMP1, B2M, MMP9)  11.820523"
      ]
     },
     "metadata": {},
     "output_type": "display_data"
    },
    {
     "data": {
      "application/vnd.plotly.v1+json": {
       "config": {
        "plotlyServerURL": "https://plot.ly"
       },
       "data": [
        {
         "hoverinfo": "text",
         "marker": {
          "color": "rgb(61,153,112)"
         },
         "mode": "lines",
         "type": "scatter",
         "x": [
          5,
          5,
          15,
          15
         ],
         "xaxis": "x",
         "y": [
          0,
          18.312138269464867,
          18.312138269464867,
          0
         ],
         "yaxis": "y"
        },
        {
         "hoverinfo": "text",
         "marker": {
          "color": "rgb(255,65,54)"
         },
         "mode": "lines",
         "type": "scatter",
         "x": [
          35,
          35,
          45,
          45
         ],
         "xaxis": "x",
         "y": [
          0,
          17.60241256191886,
          17.60241256191886,
          0
         ],
         "yaxis": "y"
        },
        {
         "hoverinfo": "text",
         "marker": {
          "color": "rgb(255,65,54)"
         },
         "mode": "lines",
         "type": "scatter",
         "x": [
          25,
          25,
          40,
          40
         ],
         "xaxis": "x",
         "y": [
          0,
          20.304704867472076,
          20.304704867472076,
          17.60241256191886
         ],
         "yaxis": "y"
        },
        {
         "hoverinfo": "text",
         "marker": {
          "color": "rgb(0,116,217)"
         },
         "mode": "lines",
         "type": "scatter",
         "x": [
          10,
          10,
          32.5,
          32.5
         ],
         "xaxis": "x",
         "y": [
          18.312138269464867,
          50.87110371249799,
          50.87110371249799,
          20.304704867472076
         ],
         "yaxis": "y"
        },
        {
         "hoverinfo": "text",
         "marker": {
          "color": "rgb(61,153,112)"
         },
         "mode": "lines",
         "type": "scatter",
         "x": [
          0,
          -2.1359775279716775,
          -2.1359775279716775,
          0
         ],
         "xaxis": "x3",
         "y": [
          25,
          25,
          35,
          35
         ],
         "yaxis": "y3"
        },
        {
         "hoverinfo": "text",
         "marker": {
          "color": "rgb(61,153,112)"
         },
         "mode": "lines",
         "type": "scatter",
         "x": [
          0,
          -3.5361164342703164,
          -3.5361164342703164,
          -2.1359775279716775
         ],
         "xaxis": "x3",
         "y": [
          15,
          15,
          30,
          30
         ],
         "yaxis": "y3"
        },
        {
         "hoverinfo": "text",
         "marker": {
          "color": "rgb(61,153,112)"
         },
         "mode": "lines",
         "type": "scatter",
         "x": [
          0,
          -5.7835575901699,
          -5.7835575901699,
          -3.5361164342703164
         ],
         "xaxis": "x3",
         "y": [
          5,
          5,
          22.5,
          22.5
         ],
         "yaxis": "y3"
        },
        {
         "hoverinfo": "text",
         "marker": {
          "color": "rgb(61,153,112)"
         },
         "mode": "lines",
         "type": "scatter",
         "x": [
          0,
          -1.919661428481598,
          -1.919661428481598,
          0
         ],
         "xaxis": "x3",
         "y": [
          45,
          45,
          55,
          55
         ],
         "yaxis": "y3"
        },
        {
         "hoverinfo": "text",
         "marker": {
          "color": "rgb(61,153,112)"
         },
         "mode": "lines",
         "type": "scatter",
         "x": [
          0,
          -2.3682271850479193,
          -2.3682271850479193,
          0
         ],
         "xaxis": "x3",
         "y": [
          65,
          65,
          75,
          75
         ],
         "yaxis": "y3"
        },
        {
         "hoverinfo": "text",
         "marker": {
          "color": "rgb(61,153,112)"
         },
         "mode": "lines",
         "type": "scatter",
         "x": [
          -1.919661428481598,
          -3.7717950526581827,
          -3.7717950526581827,
          -2.3682271850479193
         ],
         "xaxis": "x3",
         "y": [
          50,
          50,
          70,
          70
         ],
         "yaxis": "y3"
        },
        {
         "hoverinfo": "text",
         "marker": {
          "color": "rgb(61,153,112)"
         },
         "mode": "lines",
         "type": "scatter",
         "x": [
          0,
          -2.82511946650049,
          -2.82511946650049,
          0
         ],
         "xaxis": "x3",
         "y": [
          95,
          95,
          105,
          105
         ],
         "yaxis": "y3"
        },
        {
         "hoverinfo": "text",
         "marker": {
          "color": "rgb(61,153,112)"
         },
         "mode": "lines",
         "type": "scatter",
         "x": [
          0,
          -4.417905280426323,
          -4.417905280426323,
          -2.82511946650049
         ],
         "xaxis": "x3",
         "y": [
          85,
          85,
          100,
          100
         ],
         "yaxis": "y3"
        },
        {
         "hoverinfo": "text",
         "marker": {
          "color": "rgb(61,153,112)"
         },
         "mode": "lines",
         "type": "scatter",
         "x": [
          -3.7717950526581827,
          -4.801654225887789,
          -4.801654225887789,
          -4.417905280426323
         ],
         "xaxis": "x3",
         "y": [
          60,
          60,
          92.5,
          92.5
         ],
         "yaxis": "y3"
        },
        {
         "hoverinfo": "text",
         "marker": {
          "color": "rgb(61,153,112)"
         },
         "mode": "lines",
         "type": "scatter",
         "x": [
          0,
          -2.415160450156469,
          -2.415160450156469,
          0
         ],
         "xaxis": "x3",
         "y": [
          125,
          125,
          135,
          135
         ],
         "yaxis": "y3"
        },
        {
         "hoverinfo": "text",
         "marker": {
          "color": "rgb(61,153,112)"
         },
         "mode": "lines",
         "type": "scatter",
         "x": [
          0,
          -4.051640586958465,
          -4.051640586958465,
          -2.415160450156469
         ],
         "xaxis": "x3",
         "y": [
          115,
          115,
          130,
          130
         ],
         "yaxis": "y3"
        },
        {
         "hoverinfo": "text",
         "marker": {
          "color": "rgb(61,153,112)"
         },
         "mode": "lines",
         "type": "scatter",
         "x": [
          0,
          -2.826941810508313,
          -2.826941810508313,
          0
         ],
         "xaxis": "x3",
         "y": [
          165,
          165,
          175,
          175
         ],
         "yaxis": "y3"
        },
        {
         "hoverinfo": "text",
         "marker": {
          "color": "rgb(61,153,112)"
         },
         "mode": "lines",
         "type": "scatter",
         "x": [
          0,
          -3.5844775308750574,
          -3.5844775308750574,
          -2.826941810508313
         ],
         "xaxis": "x3",
         "y": [
          155,
          155,
          170,
          170
         ],
         "yaxis": "y3"
        },
        {
         "hoverinfo": "text",
         "marker": {
          "color": "rgb(61,153,112)"
         },
         "mode": "lines",
         "type": "scatter",
         "x": [
          0,
          -4.143206653239516,
          -4.143206653239516,
          -3.5844775308750574
         ],
         "xaxis": "x3",
         "y": [
          145,
          145,
          162.5,
          162.5
         ],
         "yaxis": "y3"
        },
        {
         "hoverinfo": "text",
         "marker": {
          "color": "rgb(61,153,112)"
         },
         "mode": "lines",
         "type": "scatter",
         "x": [
          0,
          -1.8736595208308247,
          -1.8736595208308247,
          0
         ],
         "xaxis": "x3",
         "y": [
          185,
          185,
          195,
          195
         ],
         "yaxis": "y3"
        },
        {
         "hoverinfo": "text",
         "marker": {
          "color": "rgb(61,153,112)"
         },
         "mode": "lines",
         "type": "scatter",
         "x": [
          0,
          -1.8315021157508922,
          -1.8315021157508922,
          0
         ],
         "xaxis": "x3",
         "y": [
          205,
          205,
          215,
          215
         ],
         "yaxis": "y3"
        },
        {
         "hoverinfo": "text",
         "marker": {
          "color": "rgb(61,153,112)"
         },
         "mode": "lines",
         "type": "scatter",
         "x": [
          0,
          -1.4970303938130294,
          -1.4970303938130294,
          0
         ],
         "xaxis": "x3",
         "y": [
          245,
          245,
          255,
          255
         ],
         "yaxis": "y3"
        },
        {
         "hoverinfo": "text",
         "marker": {
          "color": "rgb(61,153,112)"
         },
         "mode": "lines",
         "type": "scatter",
         "x": [
          0,
          -1.6365067128937132,
          -1.6365067128937132,
          -1.4970303938130294
         ],
         "xaxis": "x3",
         "y": [
          235,
          235,
          250,
          250
         ],
         "yaxis": "y3"
        },
        {
         "hoverinfo": "text",
         "marker": {
          "color": "rgb(61,153,112)"
         },
         "mode": "lines",
         "type": "scatter",
         "x": [
          0,
          -2.2115070484680217,
          -2.2115070484680217,
          -1.6365067128937132
         ],
         "xaxis": "x3",
         "y": [
          225,
          225,
          242.5,
          242.5
         ],
         "yaxis": "y3"
        },
        {
         "hoverinfo": "text",
         "marker": {
          "color": "rgb(61,153,112)"
         },
         "mode": "lines",
         "type": "scatter",
         "x": [
          -1.8315021157508922,
          -2.6444594893736544,
          -2.6444594893736544,
          -2.2115070484680217
         ],
         "xaxis": "x3",
         "y": [
          210,
          210,
          233.75,
          233.75
         ],
         "yaxis": "y3"
        },
        {
         "hoverinfo": "text",
         "marker": {
          "color": "rgb(61,153,112)"
         },
         "mode": "lines",
         "type": "scatter",
         "x": [
          0,
          -2.0016243403795793,
          -2.0016243403795793,
          0
         ],
         "xaxis": "x3",
         "y": [
          265,
          265,
          275,
          275
         ],
         "yaxis": "y3"
        },
        {
         "hoverinfo": "text",
         "marker": {
          "color": "rgb(61,153,112)"
         },
         "mode": "lines",
         "type": "scatter",
         "x": [
          0,
          -1.237214613557407,
          -1.237214613557407,
          0
         ],
         "xaxis": "x3",
         "y": [
          305,
          305,
          315,
          315
         ],
         "yaxis": "y3"
        },
        {
         "hoverinfo": "text",
         "marker": {
          "color": "rgb(61,153,112)"
         },
         "mode": "lines",
         "type": "scatter",
         "x": [
          0,
          -1.6345771712433566,
          -1.6345771712433566,
          -1.237214613557407
         ],
         "xaxis": "x3",
         "y": [
          295,
          295,
          310,
          310
         ],
         "yaxis": "y3"
        },
        {
         "hoverinfo": "text",
         "marker": {
          "color": "rgb(61,153,112)"
         },
         "mode": "lines",
         "type": "scatter",
         "x": [
          0,
          -2.102680311290425,
          -2.102680311290425,
          -1.6345771712433566
         ],
         "xaxis": "x3",
         "y": [
          285,
          285,
          302.5,
          302.5
         ],
         "yaxis": "y3"
        },
        {
         "hoverinfo": "text",
         "marker": {
          "color": "rgb(61,153,112)"
         },
         "mode": "lines",
         "type": "scatter",
         "x": [
          -2.0016243403795793,
          -2.6655359846209614,
          -2.6655359846209614,
          -2.102680311290425
         ],
         "xaxis": "x3",
         "y": [
          270,
          270,
          293.75,
          293.75
         ],
         "yaxis": "y3"
        },
        {
         "hoverinfo": "text",
         "marker": {
          "color": "rgb(61,153,112)"
         },
         "mode": "lines",
         "type": "scatter",
         "x": [
          -2.6444594893736544,
          -3.0957385598955915,
          -3.0957385598955915,
          -2.6655359846209614
         ],
         "xaxis": "x3",
         "y": [
          221.875,
          221.875,
          281.875,
          281.875
         ],
         "yaxis": "y3"
        },
        {
         "hoverinfo": "text",
         "marker": {
          "color": "rgb(61,153,112)"
         },
         "mode": "lines",
         "type": "scatter",
         "x": [
          -1.8736595208308247,
          -3.50817865882145,
          -3.50817865882145,
          -3.0957385598955915
         ],
         "xaxis": "x3",
         "y": [
          190,
          190,
          251.875,
          251.875
         ],
         "yaxis": "y3"
        },
        {
         "hoverinfo": "text",
         "marker": {
          "color": "rgb(61,153,112)"
         },
         "mode": "lines",
         "type": "scatter",
         "x": [
          0,
          -3.839348903134493,
          -3.839348903134493,
          0
         ],
         "xaxis": "x3",
         "y": [
          325,
          325,
          335,
          335
         ],
         "yaxis": "y3"
        },
        {
         "hoverinfo": "text",
         "marker": {
          "color": "rgb(61,153,112)"
         },
         "mode": "lines",
         "type": "scatter",
         "x": [
          -3.50817865882145,
          -4.533143882115641,
          -4.533143882115641,
          -3.839348903134493
         ],
         "xaxis": "x3",
         "y": [
          220.9375,
          220.9375,
          330,
          330
         ],
         "yaxis": "y3"
        },
        {
         "hoverinfo": "text",
         "marker": {
          "color": "rgb(61,153,112)"
         },
         "mode": "lines",
         "type": "scatter",
         "x": [
          -4.143206653239516,
          -4.831167037161795,
          -4.831167037161795,
          -4.533143882115641
         ],
         "xaxis": "x3",
         "y": [
          153.75,
          153.75,
          275.46875,
          275.46875
         ],
         "yaxis": "y3"
        },
        {
         "hoverinfo": "text",
         "marker": {
          "color": "rgb(61,153,112)"
         },
         "mode": "lines",
         "type": "scatter",
         "x": [
          -4.051640586958465,
          -5.085656411293274,
          -5.085656411293274,
          -4.831167037161795
         ],
         "xaxis": "x3",
         "y": [
          122.5,
          122.5,
          214.609375,
          214.609375
         ],
         "yaxis": "y3"
        },
        {
         "hoverinfo": "text",
         "marker": {
          "color": "rgb(61,153,112)"
         },
         "mode": "lines",
         "type": "scatter",
         "x": [
          -4.801654225887789,
          -6.328995024615581,
          -6.328995024615581,
          -5.085656411293274
         ],
         "xaxis": "x3",
         "y": [
          76.25,
          76.25,
          168.5546875,
          168.5546875
         ],
         "yaxis": "y3"
        },
        {
         "hoverinfo": "text",
         "marker": {
          "color": "rgb(61,153,112)"
         },
         "mode": "lines",
         "type": "scatter",
         "x": [
          -5.7835575901699,
          -6.873496771151654,
          -6.873496771151654,
          -6.328995024615581
         ],
         "xaxis": "x3",
         "y": [
          13.75,
          13.75,
          122.40234375,
          122.40234375
         ],
         "yaxis": "y3"
        },
        {
         "hoverinfo": "text",
         "marker": {
          "color": "rgb(61,153,112)"
         },
         "mode": "lines",
         "type": "scatter",
         "x": [
          0,
          -1.781909088590099,
          -1.781909088590099,
          0
         ],
         "xaxis": "x3",
         "y": [
          345,
          345,
          355,
          355
         ],
         "yaxis": "y3"
        },
        {
         "hoverinfo": "text",
         "marker": {
          "color": "rgb(61,153,112)"
         },
         "mode": "lines",
         "type": "scatter",
         "x": [
          0,
          -1.327629466379836,
          -1.327629466379836,
          0
         ],
         "xaxis": "x3",
         "y": [
          385,
          385,
          395,
          395
         ],
         "yaxis": "y3"
        },
        {
         "hoverinfo": "text",
         "marker": {
          "color": "rgb(61,153,112)"
         },
         "mode": "lines",
         "type": "scatter",
         "x": [
          0,
          -0.9655568341635828,
          -0.9655568341635828,
          0
         ],
         "xaxis": "x3",
         "y": [
          405,
          405,
          415,
          415
         ],
         "yaxis": "y3"
        },
        {
         "hoverinfo": "text",
         "marker": {
          "color": "rgb(61,153,112)"
         },
         "mode": "lines",
         "type": "scatter",
         "x": [
          0,
          -1.1972468417164441,
          -1.1972468417164441,
          0
         ],
         "xaxis": "x3",
         "y": [
          425,
          425,
          435,
          435
         ],
         "yaxis": "y3"
        },
        {
         "hoverinfo": "text",
         "marker": {
          "color": "rgb(61,153,112)"
         },
         "mode": "lines",
         "type": "scatter",
         "x": [
          -0.9655568341635828,
          -1.3457275797572905,
          -1.3457275797572905,
          -1.1972468417164441
         ],
         "xaxis": "x3",
         "y": [
          410,
          410,
          430,
          430
         ],
         "yaxis": "y3"
        },
        {
         "hoverinfo": "text",
         "marker": {
          "color": "rgb(61,153,112)"
         },
         "mode": "lines",
         "type": "scatter",
         "x": [
          -1.327629466379836,
          -1.9723880031616408,
          -1.9723880031616408,
          -1.3457275797572905
         ],
         "xaxis": "x3",
         "y": [
          390,
          390,
          420,
          420
         ],
         "yaxis": "y3"
        },
        {
         "hoverinfo": "text",
         "marker": {
          "color": "rgb(61,153,112)"
         },
         "mode": "lines",
         "type": "scatter",
         "x": [
          0,
          -2.107887992036545,
          -2.107887992036545,
          -1.9723880031616408
         ],
         "xaxis": "x3",
         "y": [
          375,
          375,
          405,
          405
         ],
         "yaxis": "y3"
        },
        {
         "hoverinfo": "text",
         "marker": {
          "color": "rgb(61,153,112)"
         },
         "mode": "lines",
         "type": "scatter",
         "x": [
          0,
          -2.443378808126158,
          -2.443378808126158,
          0
         ],
         "xaxis": "x3",
         "y": [
          445,
          445,
          455,
          455
         ],
         "yaxis": "y3"
        },
        {
         "hoverinfo": "text",
         "marker": {
          "color": "rgb(61,153,112)"
         },
         "mode": "lines",
         "type": "scatter",
         "x": [
          -2.107887992036545,
          -2.578162700764268,
          -2.578162700764268,
          -2.443378808126158
         ],
         "xaxis": "x3",
         "y": [
          390,
          390,
          450,
          450
         ],
         "yaxis": "y3"
        },
        {
         "hoverinfo": "text",
         "marker": {
          "color": "rgb(61,153,112)"
         },
         "mode": "lines",
         "type": "scatter",
         "x": [
          0,
          -1.5858436240689047,
          -1.5858436240689047,
          0
         ],
         "xaxis": "x3",
         "y": [
          465,
          465,
          475,
          475
         ],
         "yaxis": "y3"
        },
        {
         "hoverinfo": "text",
         "marker": {
          "color": "rgb(61,153,112)"
         },
         "mode": "lines",
         "type": "scatter",
         "x": [
          0,
          -0.7507329751649404,
          -0.7507329751649404,
          0
         ],
         "xaxis": "x3",
         "y": [
          515,
          515,
          525,
          525
         ],
         "yaxis": "y3"
        },
        {
         "hoverinfo": "text",
         "marker": {
          "color": "rgb(61,153,112)"
         },
         "mode": "lines",
         "type": "scatter",
         "x": [
          0,
          -0.9695696333413268,
          -0.9695696333413268,
          -0.7507329751649404
         ],
         "xaxis": "x3",
         "y": [
          505,
          505,
          520,
          520
         ],
         "yaxis": "y3"
        },
        {
         "hoverinfo": "text",
         "marker": {
          "color": "rgb(61,153,112)"
         },
         "mode": "lines",
         "type": "scatter",
         "x": [
          0,
          -0.9893937537704587,
          -0.9893937537704587,
          0
         ],
         "xaxis": "x3",
         "y": [
          535,
          535,
          545,
          545
         ],
         "yaxis": "y3"
        },
        {
         "hoverinfo": "text",
         "marker": {
          "color": "rgb(61,153,112)"
         },
         "mode": "lines",
         "type": "scatter",
         "x": [
          -0.9695696333413268,
          -1.6956210523647943,
          -1.6956210523647943,
          -0.9893937537704587
         ],
         "xaxis": "x3",
         "y": [
          512.5,
          512.5,
          540,
          540
         ],
         "yaxis": "y3"
        },
        {
         "hoverinfo": "text",
         "marker": {
          "color": "rgb(61,153,112)"
         },
         "mode": "lines",
         "type": "scatter",
         "x": [
          0,
          -1.7917941127147405,
          -1.7917941127147405,
          -1.6956210523647943
         ],
         "xaxis": "x3",
         "y": [
          495,
          495,
          526.25,
          526.25
         ],
         "yaxis": "y3"
        },
        {
         "hoverinfo": "text",
         "marker": {
          "color": "rgb(61,153,112)"
         },
         "mode": "lines",
         "type": "scatter",
         "x": [
          0,
          -2.575330086314612,
          -2.575330086314612,
          -1.7917941127147405
         ],
         "xaxis": "x3",
         "y": [
          485,
          485,
          510.625,
          510.625
         ],
         "yaxis": "y3"
        },
        {
         "hoverinfo": "text",
         "marker": {
          "color": "rgb(61,153,112)"
         },
         "mode": "lines",
         "type": "scatter",
         "x": [
          -1.5858436240689047,
          -2.7404515183357523,
          -2.7404515183357523,
          -2.575330086314612
         ],
         "xaxis": "x3",
         "y": [
          470,
          470,
          497.8125,
          497.8125
         ],
         "yaxis": "y3"
        },
        {
         "hoverinfo": "text",
         "marker": {
          "color": "rgb(61,153,112)"
         },
         "mode": "lines",
         "type": "scatter",
         "x": [
          -2.578162700764268,
          -3.6104047459983954,
          -3.6104047459983954,
          -2.7404515183357523
         ],
         "xaxis": "x3",
         "y": [
          420,
          420,
          483.90625,
          483.90625
         ],
         "yaxis": "y3"
        },
        {
         "hoverinfo": "text",
         "marker": {
          "color": "rgb(61,153,112)"
         },
         "mode": "lines",
         "type": "scatter",
         "x": [
          0,
          -1.8855768348173962,
          -1.8855768348173962,
          0
         ],
         "xaxis": "x3",
         "y": [
          565,
          565,
          575,
          575
         ],
         "yaxis": "y3"
        },
        {
         "hoverinfo": "text",
         "marker": {
          "color": "rgb(61,153,112)"
         },
         "mode": "lines",
         "type": "scatter",
         "x": [
          0,
          -0.4701063709417273,
          -0.4701063709417273,
          0
         ],
         "xaxis": "x3",
         "y": [
          595,
          595,
          605,
          605
         ],
         "yaxis": "y3"
        },
        {
         "hoverinfo": "text",
         "marker": {
          "color": "rgb(61,153,112)"
         },
         "mode": "lines",
         "type": "scatter",
         "x": [
          0,
          -1.1086478250553702,
          -1.1086478250553702,
          0
         ],
         "xaxis": "x3",
         "y": [
          615,
          615,
          625,
          625
         ],
         "yaxis": "y3"
        },
        {
         "hoverinfo": "text",
         "marker": {
          "color": "rgb(61,153,112)"
         },
         "mode": "lines",
         "type": "scatter",
         "x": [
          -0.4701063709417273,
          -1.3704489997018894,
          -1.3704489997018894,
          -1.1086478250553702
         ],
         "xaxis": "x3",
         "y": [
          600,
          600,
          620,
          620
         ],
         "yaxis": "y3"
        },
        {
         "hoverinfo": "text",
         "marker": {
          "color": "rgb(61,153,112)"
         },
         "mode": "lines",
         "type": "scatter",
         "x": [
          0,
          -2.4442377263609716,
          -2.4442377263609716,
          -1.3704489997018894
         ],
         "xaxis": "x3",
         "y": [
          585,
          585,
          610,
          610
         ],
         "yaxis": "y3"
        },
        {
         "hoverinfo": "text",
         "marker": {
          "color": "rgb(61,153,112)"
         },
         "mode": "lines",
         "type": "scatter",
         "x": [
          -1.8855768348173962,
          -3.00003416669406,
          -3.00003416669406,
          -2.4442377263609716
         ],
         "xaxis": "x3",
         "y": [
          570,
          570,
          597.5,
          597.5
         ],
         "yaxis": "y3"
        },
        {
         "hoverinfo": "text",
         "marker": {
          "color": "rgb(61,153,112)"
         },
         "mode": "lines",
         "type": "scatter",
         "x": [
          0,
          -3.9803622951935203,
          -3.9803622951935203,
          -3.00003416669406
         ],
         "xaxis": "x3",
         "y": [
          555,
          555,
          583.75,
          583.75
         ],
         "yaxis": "y3"
        },
        {
         "hoverinfo": "text",
         "marker": {
          "color": "rgb(61,153,112)"
         },
         "mode": "lines",
         "type": "scatter",
         "x": [
          -3.6104047459983954,
          -5.38336669873016,
          -5.38336669873016,
          -3.9803622951935203
         ],
         "xaxis": "x3",
         "y": [
          451.953125,
          451.953125,
          569.375,
          569.375
         ],
         "yaxis": "y3"
        },
        {
         "hoverinfo": "text",
         "marker": {
          "color": "rgb(61,153,112)"
         },
         "mode": "lines",
         "type": "scatter",
         "x": [
          0,
          -6.522413898126739,
          -6.522413898126739,
          -5.38336669873016
         ],
         "xaxis": "x3",
         "y": [
          365,
          365,
          510.6640625,
          510.6640625
         ],
         "yaxis": "y3"
        },
        {
         "hoverinfo": "text",
         "marker": {
          "color": "rgb(61,153,112)"
         },
         "mode": "lines",
         "type": "scatter",
         "x": [
          -1.781909088590099,
          -9.527842389397502,
          -9.527842389397502,
          -6.522413898126739
         ],
         "xaxis": "x3",
         "y": [
          350,
          350,
          437.83203125,
          437.83203125
         ],
         "yaxis": "y3"
        },
        {
         "hoverinfo": "text",
         "marker": {
          "color": "rgb(61,153,112)"
         },
         "mode": "lines",
         "type": "scatter",
         "x": [
          -6.873496771151654,
          -10.322442614579224,
          -10.322442614579224,
          -9.527842389397502
         ],
         "xaxis": "x3",
         "y": [
          68.076171875,
          68.076171875,
          393.916015625,
          393.916015625
         ],
         "yaxis": "y3"
        },
        {
         "hoverinfo": "text",
         "marker": {
          "color": "rgb(255,65,54)"
         },
         "mode": "lines",
         "type": "scatter",
         "x": [
          0,
          0,
          0,
          0
         ],
         "xaxis": "x3",
         "y": [
          645,
          645,
          655,
          655
         ],
         "yaxis": "y3"
        },
        {
         "hoverinfo": "text",
         "marker": {
          "color": "rgb(255,65,54)"
         },
         "mode": "lines",
         "type": "scatter",
         "x": [
          0,
          -3.1134064945008393,
          -3.1134064945008393,
          0
         ],
         "xaxis": "x3",
         "y": [
          675,
          675,
          685,
          685
         ],
         "yaxis": "y3"
        },
        {
         "hoverinfo": "text",
         "marker": {
          "color": "rgb(255,65,54)"
         },
         "mode": "lines",
         "type": "scatter",
         "x": [
          0,
          -3.3545193396372026,
          -3.3545193396372026,
          0
         ],
         "xaxis": "x3",
         "y": [
          705,
          705,
          715,
          715
         ],
         "yaxis": "y3"
        },
        {
         "hoverinfo": "text",
         "marker": {
          "color": "rgb(255,65,54)"
         },
         "mode": "lines",
         "type": "scatter",
         "x": [
          0,
          -5.358661075234204,
          -5.358661075234204,
          -3.3545193396372026
         ],
         "xaxis": "x3",
         "y": [
          695,
          695,
          710,
          710
         ],
         "yaxis": "y3"
        },
        {
         "hoverinfo": "text",
         "marker": {
          "color": "rgb(255,65,54)"
         },
         "mode": "lines",
         "type": "scatter",
         "x": [
          -3.1134064945008393,
          -6.032270866935121,
          -6.032270866935121,
          -5.358661075234204
         ],
         "xaxis": "x3",
         "y": [
          680,
          680,
          702.5,
          702.5
         ],
         "yaxis": "y3"
        },
        {
         "hoverinfo": "text",
         "marker": {
          "color": "rgb(255,65,54)"
         },
         "mode": "lines",
         "type": "scatter",
         "x": [
          0,
          -7.436430328968041,
          -7.436430328968041,
          -6.032270866935121
         ],
         "xaxis": "x3",
         "y": [
          665,
          665,
          691.25,
          691.25
         ],
         "yaxis": "y3"
        },
        {
         "hoverinfo": "text",
         "marker": {
          "color": "rgb(255,65,54)"
         },
         "mode": "lines",
         "type": "scatter",
         "x": [
          0,
          -8.8015946374149,
          -8.8015946374149,
          -7.436430328968041
         ],
         "xaxis": "x3",
         "y": [
          650,
          650,
          678.125,
          678.125
         ],
         "yaxis": "y3"
        },
        {
         "hoverinfo": "text",
         "marker": {
          "color": "rgb(0,116,217)"
         },
         "mode": "lines",
         "type": "scatter",
         "x": [
          0,
          -13.077102962934834,
          -13.077102962934834,
          -8.8015946374149
         ],
         "xaxis": "x3",
         "y": [
          635,
          635,
          664.0625,
          664.0625
         ],
         "yaxis": "y3"
        },
        {
         "hoverinfo": "text",
         "marker": {
          "color": "rgb(0,116,217)"
         },
         "mode": "lines",
         "type": "scatter",
         "x": [
          -10.322442614579224,
          -17.196962871398238,
          -17.196962871398238,
          -13.077102962934834
         ],
         "xaxis": "x3",
         "y": [
          230.99609375,
          230.99609375,
          649.53125,
          649.53125
         ],
         "yaxis": "y3"
        },
        {
         "colorbar": {
          "title": {
           "text": "log2(Exp. Rel. vs ILK)"
          }
         },
         "colorscale": [
          [
           0,
           "#2c7bb6"
          ],
          [
           0.5,
           "#ffffb2"
          ],
          [
           1,
           "#d7191c"
          ]
         ],
         "showscale": true,
         "type": "heatmap",
         "x": [
          "4GB001",
          "4GB031",
          "3CG129",
          "3CG008",
          "3CG128"
         ],
         "xaxis": "x2",
         "y": [
          "ACTB",
          "COL3A1",
          "GNG11",
          "GSK3B",
          "FN1",
          "MMP2",
          "BMP7",
          "TCF3",
          "WNT11",
          "KRT7",
          "SPARC",
          "SNAI1",
          "RAC1",
          "TGFB3",
          "HPRT1",
          "ESR1",
          "CDH2",
          "ITGAV",
          "PDGFRB",
          "TIMP1",
          "SNAI2",
          "VPS13A",
          "NODAL",
          "DSP",
          "NUDT13",
          "WNT5A",
          "CALD1",
          "IGFBP4",
          "SIP1",
          "CTNNB1",
          "PLEK2",
          "SMAD2",
          "ERBB3",
          "ZEB1",
          "AKT1",
          "MST1R",
          "TFPI2",
          "COL1A2",
          "BMP2",
          "COL5A2",
          "TMEM132A",
          "TSPAN13",
          "CDH1",
          "IL1RN",
          "FOXC2",
          "TMEFF1",
          "SOX10",
          "TWIST1",
          "ITGA5",
          "OCLN",
          "MAP1B",
          "SPP1",
          "WNT5B",
          "F11R",
          "KRT19",
          "RPLP0",
          "DSC2",
          "TGFB2",
          "MSN",
          "EGFR",
          "FZD7",
          "MMP3",
          "RGS2",
          "KRT14",
          "ILK",
          "VIM",
          "GSC",
          "CAV2",
          "FGFBP1",
          "PTP4A1",
          "ITGB1",
          "TGFB1"
         ],
         "yaxis": "y2",
         "z": [
          [
           7.486000000000004,
           6.084000000000003,
           -6.364000000000004,
           0.9999999999999929,
           2.618000000000002
          ],
          [
           9.566000000000003,
           7.4040000000000035,
           -3.6940000000000026,
           -1.3100000000000023,
           1.4480000000000004
          ],
          [
           9.686,
           7.714000000000006,
           -0.5640000000000072,
           -0.8600000000000065,
           1.5480000000000018
          ],
          [
           8.766000000000005,
           6.214000000000006,
           -0.48400000000000176,
           0.3399999999999963,
           1.6880000000000024
          ],
          [
           6.266000000000005,
           5.844000000000001,
           -4.424000000000007,
           -1.8600000000000065,
           -2.7620000000000005
          ],
          [
           5.936,
           5.814,
           -3.304000000000002,
           -1.460000000000008,
           -1.2920000000000016
          ],
          [
           4.166000000000004,
           3.284000000000006,
           -1.544000000000004,
           -2.430000000000007,
           -2.0519999999999996
          ],
          [
           6.0660000000000025,
           4.214000000000006,
           -0.9640000000000057,
           -1.5700000000000074,
           -1.8119999999999976
          ],
          [
           2.416000000000004,
           5.084000000000003,
           -5.094000000000001,
           -2.730000000000004,
           -3.7819999999999965
          ],
          [
           4.486000000000004,
           3.2140000000000057,
           -3.834000000000003,
           -0.7500000000000071,
           -4.491999999999997
          ],
          [
           2.725999999999999,
           2.074000000000005,
           -2.4740000000000038,
           0.45999999999999375,
           -3.9720000000000013
          ],
          [
           1.0860000000000056,
           3.3740000000000023,
           -0.784000000000006,
           -0.05000000000000426,
           -1.7119999999999962
          ],
          [
           4.036000000000001,
           3.6540000000000035,
           1.3659999999999997,
           1.5499999999999972,
           -1.0219999999999985
          ],
          [
           4.016000000000005,
           3.4140000000000015,
           1.5359999999999943,
           0.4899999999999949,
           -3.171999999999997
          ],
          [
           4.725999999999999,
           5.764000000000003,
           -3.1940000000000026,
           2.6999999999999957,
           -0.9819999999999993
          ],
          [
           6.8060000000000045,
           2.004000000000005,
           -2.3740000000000023,
           1.009999999999998,
           -1.681999999999995
          ],
          [
           4.886000000000003,
           3.834000000000003,
           -2.744000000000007,
           1.8199999999999932,
           1.4980000000000047
          ],
          [
           5.396000000000001,
           2.514000000000003,
           -0.7340000000000018,
           1.6899999999999977,
           0.10800000000000409
          ],
          [
           4.206000000000003,
           5.554000000000002,
           2.0359999999999943,
           1.4799999999999969,
           0.838000000000001
          ],
          [
           4.716000000000001,
           7.134,
           2.2959999999999994,
           1.1499999999999915,
           0.07800000000000296
          ],
          [
           7.126000000000005,
           4.314,
           0.5259999999999962,
           0.44999999999999574,
           -1.421999999999997
          ],
          [
           7.706000000000003,
           4.924000000000007,
           -0.3440000000000012,
           0.3399999999999963,
           -0.0519999999999996
          ],
          [
           7.356000000000002,
           5.184000000000005,
           0.8559999999999945,
           1.519999999999996,
           1.6580000000000013
          ],
          [
           7.196000000000005,
           5.834000000000003,
           0.6559999999999988,
           -0.6300000000000026,
           0.6380000000000052
          ],
          [
           6.905999999999999,
           6.1640000000000015,
           0.5859999999999985,
           0.8699999999999974,
           0.4579999999999984
          ],
          [
           6.016000000000005,
           6.274000000000001,
           0.055999999999997385,
           0.12999999999999545,
           1.2379999999999995
          ],
          [
           5.975999999999999,
           5.044000000000004,
           0.2959999999999994,
           2.8999999999999915,
           0.7980000000000018
          ],
          [
           5.356000000000002,
           5.814,
           -0.48400000000000176,
           3.3799999999999955,
           -0.681999999999995
          ],
          [
           4.666000000000004,
           4.544000000000004,
           -0.06400000000000716,
           0.20999999999999375,
           -1.161999999999999
          ],
          [
           5.405999999999999,
           4.714000000000006,
           -0.7040000000000006,
           1.3299999999999983,
           -0.2119999999999962
          ],
          [
           5.666000000000004,
           5.844000000000001,
           0.10599999999999454,
           1.259999999999998,
           -0.2119999999999962
          ],
          [
           4.596000000000004,
           6.124000000000002,
           -0.014000000000002899,
           1.1499999999999915,
           0.31800000000000495
          ],
          [
           4.926000000000002,
           3.284000000000006,
           2.7659999999999982,
           -1.8900000000000077,
           0.7280000000000015
          ],
          [
           6.736000000000004,
           6.034000000000006,
           2.185999999999993,
           -0.990000000000002,
           2.3880000000000052
          ],
          [
           13.576,
           13.204000000000004,
           8.145999999999997,
           7.709999999999994,
           7.7280000000000015
          ],
          [
           14.626000000000001,
           12.094000000000005,
           8.755999999999997,
           7.039999999999996,
           7.588000000000001
          ],
          [
           14.856000000000002,
           7.524000000000001,
           1.9259999999999948,
           4.449999999999996,
           4.138000000000005
          ],
          [
           8.596000000000004,
           9.394000000000005,
           4.185999999999993,
           3.979999999999997,
           4.288000000000004
          ],
          [
           10.186,
           8.984000000000002,
           3.665999999999997,
           3.3299999999999983,
           3.7779999999999987
          ],
          [
           10.786000000000001,
           9.984000000000002,
           4.155999999999999,
           3.039999999999992,
           4.058
          ],
          [
           9.806000000000004,
           8.284000000000006,
           3.235999999999997,
           4.689999999999994,
           3.2480000000000047
          ],
          [
           9.596000000000004,
           8.424000000000007,
           4.045999999999999,
           4.3899999999999935,
           3.597999999999999
          ],
          [
           10.006,
           8.504000000000005,
           4.675999999999995,
           3.729999999999997,
           3.2280000000000015
          ],
          [
           9.746000000000002,
           7.834000000000003,
           3.745999999999995,
           3.509999999999998,
           3.1679999999999993
          ],
          [
           8.076,
           7.954000000000001,
           3.695999999999998,
           4.229999999999997,
           2.4680000000000035
          ],
          [
           8.756,
           8.514000000000003,
           1.8359999999999985,
           3.9199999999999946,
           3.7480000000000047
          ],
          [
           11.746000000000002,
           10.824000000000002,
           5.695999999999998,
           6.2499999999999964,
           4.668000000000003
          ],
          [
           12.106000000000002,
           11.264000000000003,
           5.375999999999998,
           5.979999999999993,
           6.088000000000001
          ],
          [
           9.356000000000002,
           9.154000000000003,
           6.485999999999997,
           4.8899999999999935,
           5.568000000000001
          ],
          [
           10.516000000000005,
           9.824000000000005,
           5.7159999999999975,
           5.919999999999995,
           5.268000000000001
          ],
          [
           10.966000000000001,
           9.894000000000002,
           5.115999999999996,
           4.309999999999995,
           4.688000000000002
          ],
          [
           11.146,
           9.844000000000005,
           4.775999999999996,
           4.819999999999993,
           4.167999999999999
          ],
          [
           11.076,
           9.354000000000006,
           5.125999999999998,
           5.219999999999995,
           4.358000000000004
          ],
          [
           9.926000000000002,
           9.694000000000003,
           4.445999999999998,
           5.329999999999995,
           3.9480000000000004
          ],
          [
           10.136000000000003,
           9.704,
           4.675999999999995,
           6.2599999999999945,
           4.078000000000003
          ],
          [
           6.686,
           4.9140000000000015,
           3.8159999999999954,
           3.1499999999999915,
           0.1180000000000021
          ],
          [
           7.5760000000000005,
           7.734000000000002,
           1.3859999999999957,
           3.0899999999999963,
           0.4280000000000044
          ],
          [
           8.446000000000005,
           7.534000000000006,
           1.7559999999999931,
           4.549999999999994,
           1.1280000000000001
          ],
          [
           9.086000000000006,
           6.604000000000006,
           4.425999999999995,
           1.4299999999999926,
           0.9980000000000047
          ],
          [
           8.176000000000002,
           7.264000000000003,
           2.695999999999998,
           1.779999999999994,
           1.3780000000000001
          ],
          [
           8.346000000000004,
           7.3940000000000055,
           2.475999999999999,
           2.059999999999995,
           1.597999999999999
          ],
          [
           8.566000000000003,
           7.774000000000001,
           2.465999999999994,
           2.1599999999999966,
           2.7079999999999984
          ],
          [
           9.376000000000005,
           7.4040000000000035,
           2.8459999999999965,
           2.1699999999999946,
           2.1679999999999993
          ],
          [
           4.936,
           3.814,
           3.475999999999999,
           -7.130000000000003,
           -5.571999999999996
          ],
          [
           -2.1839999999999975,
           -3.0959999999999965,
           -7.9040000000000035,
           -8.690000000000005,
           -8.381999999999998
          ],
          [
           -2.1839999999999975,
           -3.0959999999999965,
           -7.9040000000000035,
           -8.690000000000005,
           -8.381999999999998
          ],
          [
           6.966000000000001,
           -0.7459999999999951,
           -3.594000000000001,
           -4.380000000000003,
           -6.701999999999998
          ],
          [
           2.3160000000000025,
           -3.0959999999999965,
           -7.9040000000000035,
           -3.680000000000007,
           -8.381999999999998
          ],
          [
           3.996000000000002,
           -1.3759999999999977,
           -7.9040000000000035,
           -1.8300000000000054,
           -7.681999999999995
          ],
          [
           -1.4439999999999955,
           1.4340000000000046,
           -7.744000000000007,
           -2.8700000000000045,
           -8.311999999999998
          ],
          [
           0.9860000000000042,
           -0.2560000000000002,
           -5.974000000000004,
           -3.8600000000000065,
           -4.501999999999995
          ],
          [
           0.5160000000000053,
           0.9540000000000006,
           -4.1640000000000015,
           -1.4000000000000057,
           -4.991999999999997
          ]
         ],
         "zmid": 0
        }
       ],
       "layout": {
        "height": 2880,
        "showlegend": false,
        "template": {
         "data": {
          "bar": [
           {
            "error_x": {
             "color": "#2a3f5f"
            },
            "error_y": {
             "color": "#2a3f5f"
            },
            "marker": {
             "line": {
              "color": "#E5ECF6",
              "width": 0.5
             },
             "pattern": {
              "fillmode": "overlay",
              "size": 10,
              "solidity": 0.2
             }
            },
            "type": "bar"
           }
          ],
          "barpolar": [
           {
            "marker": {
             "line": {
              "color": "#E5ECF6",
              "width": 0.5
             },
             "pattern": {
              "fillmode": "overlay",
              "size": 10,
              "solidity": 0.2
             }
            },
            "type": "barpolar"
           }
          ],
          "carpet": [
           {
            "aaxis": {
             "endlinecolor": "#2a3f5f",
             "gridcolor": "white",
             "linecolor": "white",
             "minorgridcolor": "white",
             "startlinecolor": "#2a3f5f"
            },
            "baxis": {
             "endlinecolor": "#2a3f5f",
             "gridcolor": "white",
             "linecolor": "white",
             "minorgridcolor": "white",
             "startlinecolor": "#2a3f5f"
            },
            "type": "carpet"
           }
          ],
          "choropleth": [
           {
            "colorbar": {
             "outlinewidth": 0,
             "ticks": ""
            },
            "type": "choropleth"
           }
          ],
          "contour": [
           {
            "colorbar": {
             "outlinewidth": 0,
             "ticks": ""
            },
            "colorscale": [
             [
              0,
              "#0d0887"
             ],
             [
              0.1111111111111111,
              "#46039f"
             ],
             [
              0.2222222222222222,
              "#7201a8"
             ],
             [
              0.3333333333333333,
              "#9c179e"
             ],
             [
              0.4444444444444444,
              "#bd3786"
             ],
             [
              0.5555555555555556,
              "#d8576b"
             ],
             [
              0.6666666666666666,
              "#ed7953"
             ],
             [
              0.7777777777777778,
              "#fb9f3a"
             ],
             [
              0.8888888888888888,
              "#fdca26"
             ],
             [
              1,
              "#f0f921"
             ]
            ],
            "type": "contour"
           }
          ],
          "contourcarpet": [
           {
            "colorbar": {
             "outlinewidth": 0,
             "ticks": ""
            },
            "type": "contourcarpet"
           }
          ],
          "heatmap": [
           {
            "colorbar": {
             "outlinewidth": 0,
             "ticks": ""
            },
            "colorscale": [
             [
              0,
              "#0d0887"
             ],
             [
              0.1111111111111111,
              "#46039f"
             ],
             [
              0.2222222222222222,
              "#7201a8"
             ],
             [
              0.3333333333333333,
              "#9c179e"
             ],
             [
              0.4444444444444444,
              "#bd3786"
             ],
             [
              0.5555555555555556,
              "#d8576b"
             ],
             [
              0.6666666666666666,
              "#ed7953"
             ],
             [
              0.7777777777777778,
              "#fb9f3a"
             ],
             [
              0.8888888888888888,
              "#fdca26"
             ],
             [
              1,
              "#f0f921"
             ]
            ],
            "type": "heatmap"
           }
          ],
          "heatmapgl": [
           {
            "colorbar": {
             "outlinewidth": 0,
             "ticks": ""
            },
            "colorscale": [
             [
              0,
              "#0d0887"
             ],
             [
              0.1111111111111111,
              "#46039f"
             ],
             [
              0.2222222222222222,
              "#7201a8"
             ],
             [
              0.3333333333333333,
              "#9c179e"
             ],
             [
              0.4444444444444444,
              "#bd3786"
             ],
             [
              0.5555555555555556,
              "#d8576b"
             ],
             [
              0.6666666666666666,
              "#ed7953"
             ],
             [
              0.7777777777777778,
              "#fb9f3a"
             ],
             [
              0.8888888888888888,
              "#fdca26"
             ],
             [
              1,
              "#f0f921"
             ]
            ],
            "type": "heatmapgl"
           }
          ],
          "histogram": [
           {
            "marker": {
             "pattern": {
              "fillmode": "overlay",
              "size": 10,
              "solidity": 0.2
             }
            },
            "type": "histogram"
           }
          ],
          "histogram2d": [
           {
            "colorbar": {
             "outlinewidth": 0,
             "ticks": ""
            },
            "colorscale": [
             [
              0,
              "#0d0887"
             ],
             [
              0.1111111111111111,
              "#46039f"
             ],
             [
              0.2222222222222222,
              "#7201a8"
             ],
             [
              0.3333333333333333,
              "#9c179e"
             ],
             [
              0.4444444444444444,
              "#bd3786"
             ],
             [
              0.5555555555555556,
              "#d8576b"
             ],
             [
              0.6666666666666666,
              "#ed7953"
             ],
             [
              0.7777777777777778,
              "#fb9f3a"
             ],
             [
              0.8888888888888888,
              "#fdca26"
             ],
             [
              1,
              "#f0f921"
             ]
            ],
            "type": "histogram2d"
           }
          ],
          "histogram2dcontour": [
           {
            "colorbar": {
             "outlinewidth": 0,
             "ticks": ""
            },
            "colorscale": [
             [
              0,
              "#0d0887"
             ],
             [
              0.1111111111111111,
              "#46039f"
             ],
             [
              0.2222222222222222,
              "#7201a8"
             ],
             [
              0.3333333333333333,
              "#9c179e"
             ],
             [
              0.4444444444444444,
              "#bd3786"
             ],
             [
              0.5555555555555556,
              "#d8576b"
             ],
             [
              0.6666666666666666,
              "#ed7953"
             ],
             [
              0.7777777777777778,
              "#fb9f3a"
             ],
             [
              0.8888888888888888,
              "#fdca26"
             ],
             [
              1,
              "#f0f921"
             ]
            ],
            "type": "histogram2dcontour"
           }
          ],
          "mesh3d": [
           {
            "colorbar": {
             "outlinewidth": 0,
             "ticks": ""
            },
            "type": "mesh3d"
           }
          ],
          "parcoords": [
           {
            "line": {
             "colorbar": {
              "outlinewidth": 0,
              "ticks": ""
             }
            },
            "type": "parcoords"
           }
          ],
          "pie": [
           {
            "automargin": true,
            "type": "pie"
           }
          ],
          "scatter": [
           {
            "fillpattern": {
             "fillmode": "overlay",
             "size": 10,
             "solidity": 0.2
            },
            "type": "scatter"
           }
          ],
          "scatter3d": [
           {
            "line": {
             "colorbar": {
              "outlinewidth": 0,
              "ticks": ""
             }
            },
            "marker": {
             "colorbar": {
              "outlinewidth": 0,
              "ticks": ""
             }
            },
            "type": "scatter3d"
           }
          ],
          "scattercarpet": [
           {
            "marker": {
             "colorbar": {
              "outlinewidth": 0,
              "ticks": ""
             }
            },
            "type": "scattercarpet"
           }
          ],
          "scattergeo": [
           {
            "marker": {
             "colorbar": {
              "outlinewidth": 0,
              "ticks": ""
             }
            },
            "type": "scattergeo"
           }
          ],
          "scattergl": [
           {
            "marker": {
             "colorbar": {
              "outlinewidth": 0,
              "ticks": ""
             }
            },
            "type": "scattergl"
           }
          ],
          "scattermapbox": [
           {
            "marker": {
             "colorbar": {
              "outlinewidth": 0,
              "ticks": ""
             }
            },
            "type": "scattermapbox"
           }
          ],
          "scatterpolar": [
           {
            "marker": {
             "colorbar": {
              "outlinewidth": 0,
              "ticks": ""
             }
            },
            "type": "scatterpolar"
           }
          ],
          "scatterpolargl": [
           {
            "marker": {
             "colorbar": {
              "outlinewidth": 0,
              "ticks": ""
             }
            },
            "type": "scatterpolargl"
           }
          ],
          "scatterternary": [
           {
            "marker": {
             "colorbar": {
              "outlinewidth": 0,
              "ticks": ""
             }
            },
            "type": "scatterternary"
           }
          ],
          "surface": [
           {
            "colorbar": {
             "outlinewidth": 0,
             "ticks": ""
            },
            "colorscale": [
             [
              0,
              "#0d0887"
             ],
             [
              0.1111111111111111,
              "#46039f"
             ],
             [
              0.2222222222222222,
              "#7201a8"
             ],
             [
              0.3333333333333333,
              "#9c179e"
             ],
             [
              0.4444444444444444,
              "#bd3786"
             ],
             [
              0.5555555555555556,
              "#d8576b"
             ],
             [
              0.6666666666666666,
              "#ed7953"
             ],
             [
              0.7777777777777778,
              "#fb9f3a"
             ],
             [
              0.8888888888888888,
              "#fdca26"
             ],
             [
              1,
              "#f0f921"
             ]
            ],
            "type": "surface"
           }
          ],
          "table": [
           {
            "cells": {
             "fill": {
              "color": "#EBF0F8"
             },
             "line": {
              "color": "white"
             }
            },
            "header": {
             "fill": {
              "color": "#C8D4E3"
             },
             "line": {
              "color": "white"
             }
            },
            "type": "table"
           }
          ]
         },
         "layout": {
          "annotationdefaults": {
           "arrowcolor": "#2a3f5f",
           "arrowhead": 0,
           "arrowwidth": 1
          },
          "autotypenumbers": "strict",
          "coloraxis": {
           "colorbar": {
            "outlinewidth": 0,
            "ticks": ""
           }
          },
          "colorscale": {
           "diverging": [
            [
             0,
             "#8e0152"
            ],
            [
             0.1,
             "#c51b7d"
            ],
            [
             0.2,
             "#de77ae"
            ],
            [
             0.3,
             "#f1b6da"
            ],
            [
             0.4,
             "#fde0ef"
            ],
            [
             0.5,
             "#f7f7f7"
            ],
            [
             0.6,
             "#e6f5d0"
            ],
            [
             0.7,
             "#b8e186"
            ],
            [
             0.8,
             "#7fbc41"
            ],
            [
             0.9,
             "#4d9221"
            ],
            [
             1,
             "#276419"
            ]
           ],
           "sequential": [
            [
             0,
             "#0d0887"
            ],
            [
             0.1111111111111111,
             "#46039f"
            ],
            [
             0.2222222222222222,
             "#7201a8"
            ],
            [
             0.3333333333333333,
             "#9c179e"
            ],
            [
             0.4444444444444444,
             "#bd3786"
            ],
            [
             0.5555555555555556,
             "#d8576b"
            ],
            [
             0.6666666666666666,
             "#ed7953"
            ],
            [
             0.7777777777777778,
             "#fb9f3a"
            ],
            [
             0.8888888888888888,
             "#fdca26"
            ],
            [
             1,
             "#f0f921"
            ]
           ],
           "sequentialminus": [
            [
             0,
             "#0d0887"
            ],
            [
             0.1111111111111111,
             "#46039f"
            ],
            [
             0.2222222222222222,
             "#7201a8"
            ],
            [
             0.3333333333333333,
             "#9c179e"
            ],
            [
             0.4444444444444444,
             "#bd3786"
            ],
            [
             0.5555555555555556,
             "#d8576b"
            ],
            [
             0.6666666666666666,
             "#ed7953"
            ],
            [
             0.7777777777777778,
             "#fb9f3a"
            ],
            [
             0.8888888888888888,
             "#fdca26"
            ],
            [
             1,
             "#f0f921"
            ]
           ]
          },
          "colorway": [
           "#636efa",
           "#EF553B",
           "#00cc96",
           "#ab63fa",
           "#FFA15A",
           "#19d3f3",
           "#FF6692",
           "#B6E880",
           "#FF97FF",
           "#FECB52"
          ],
          "font": {
           "color": "#2a3f5f"
          },
          "geo": {
           "bgcolor": "white",
           "lakecolor": "white",
           "landcolor": "#E5ECF6",
           "showlakes": true,
           "showland": true,
           "subunitcolor": "white"
          },
          "hoverlabel": {
           "align": "left"
          },
          "hovermode": "closest",
          "mapbox": {
           "style": "light"
          },
          "paper_bgcolor": "white",
          "plot_bgcolor": "#E5ECF6",
          "polar": {
           "angularaxis": {
            "gridcolor": "white",
            "linecolor": "white",
            "ticks": ""
           },
           "bgcolor": "#E5ECF6",
           "radialaxis": {
            "gridcolor": "white",
            "linecolor": "white",
            "ticks": ""
           }
          },
          "scene": {
           "xaxis": {
            "backgroundcolor": "#E5ECF6",
            "gridcolor": "white",
            "gridwidth": 2,
            "linecolor": "white",
            "showbackground": true,
            "ticks": "",
            "zerolinecolor": "white"
           },
           "yaxis": {
            "backgroundcolor": "#E5ECF6",
            "gridcolor": "white",
            "gridwidth": 2,
            "linecolor": "white",
            "showbackground": true,
            "ticks": "",
            "zerolinecolor": "white"
           },
           "zaxis": {
            "backgroundcolor": "#E5ECF6",
            "gridcolor": "white",
            "gridwidth": 2,
            "linecolor": "white",
            "showbackground": true,
            "ticks": "",
            "zerolinecolor": "white"
           }
          },
          "shapedefaults": {
           "line": {
            "color": "#2a3f5f"
           }
          },
          "ternary": {
           "aaxis": {
            "gridcolor": "white",
            "linecolor": "white",
            "ticks": ""
           },
           "baxis": {
            "gridcolor": "white",
            "linecolor": "white",
            "ticks": ""
           },
           "bgcolor": "#E5ECF6",
           "caxis": {
            "gridcolor": "white",
            "linecolor": "white",
            "ticks": ""
           }
          },
          "title": {
           "x": 0.05
          },
          "xaxis": {
           "automargin": true,
           "gridcolor": "white",
           "linecolor": "white",
           "ticks": "",
           "title": {
            "standoff": 15
           },
           "zerolinecolor": "white",
           "zerolinewidth": 2
          },
          "yaxis": {
           "automargin": true,
           "gridcolor": "white",
           "linecolor": "white",
           "ticks": "",
           "title": {
            "standoff": 15
           },
           "zerolinecolor": "white",
           "zerolinewidth": 2
          }
         }
        },
        "title": {
         "text": "Clustergrama: Genes separadores (score > 2) usando normalización por SERPINE1, PTK2, BMP1, SNAI3, TCF4"
        },
        "width": 1000,
        "xaxis": {
         "anchor": "y",
         "domain": [
          0,
          1
         ],
         "showticklabels": false
        },
        "xaxis2": {
         "anchor": "y2",
         "domain": [
          0,
          0.784
         ],
         "showticklabels": true,
         "title": {
          "text": "Tests"
         }
        },
        "xaxis3": {
         "anchor": "y3",
         "domain": [
          0.804,
          1
         ]
        },
        "yaxis": {
         "anchor": "x",
         "domain": [
          0.9109090909090909,
          1
         ]
        },
        "yaxis2": {
         "anchor": "x2",
         "domain": [
          0,
          0.8909090909090909
         ],
         "showticklabels": true,
         "title": {
          "text": "Genes"
         }
        },
        "yaxis3": {
         "anchor": "x3",
         "domain": [
          0,
          0.8909090909090909
         ],
         "matches": "y2",
         "showticklabels": false
        }
       }
      }
     },
     "metadata": {},
     "output_type": "display_data"
    },
    {
     "data": {
      "text/html": [
       "<div>\n",
       "<style scoped>\n",
       "    .dataframe tbody tr th:only-of-type {\n",
       "        vertical-align: middle;\n",
       "    }\n",
       "\n",
       "    .dataframe tbody tr th {\n",
       "        vertical-align: top;\n",
       "    }\n",
       "\n",
       "    .dataframe thead th {\n",
       "        text-align: right;\n",
       "    }\n",
       "</style>\n",
       "<table border=\"1\" class=\"dataframe\">\n",
       "  <thead>\n",
       "    <tr style=\"text-align: right;\">\n",
       "      <th></th>\n",
       "      <th>gene</th>\n",
       "      <th>score</th>\n",
       "    </tr>\n",
       "  </thead>\n",
       "  <tbody>\n",
       "    <tr>\n",
       "      <th>0</th>\n",
       "      <td>AKT1</td>\n",
       "      <td>23.599691</td>\n",
       "    </tr>\n",
       "    <tr>\n",
       "      <th>44</th>\n",
       "      <td>NUDT13</td>\n",
       "      <td>15.102535</td>\n",
       "    </tr>\n",
       "    <tr>\n",
       "      <th>79</th>\n",
       "      <td>WNT5A</td>\n",
       "      <td>14.054834</td>\n",
       "    </tr>\n",
       "    <tr>\n",
       "      <th>38</th>\n",
       "      <td>MMP3</td>\n",
       "      <td>13.422044</td>\n",
       "    </tr>\n",
       "    <tr>\n",
       "      <th>18</th>\n",
       "      <td>F11R</td>\n",
       "      <td>12.452552</td>\n",
       "    </tr>\n",
       "    <tr>\n",
       "      <th>...</th>\n",
       "      <td>...</td>\n",
       "      <td>...</td>\n",
       "    </tr>\n",
       "    <tr>\n",
       "      <th>19</th>\n",
       "      <td>FGFBP1</td>\n",
       "      <td>2.129011</td>\n",
       "    </tr>\n",
       "    <tr>\n",
       "      <th>17</th>\n",
       "      <td>ESR1</td>\n",
       "      <td>2.074003</td>\n",
       "    </tr>\n",
       "    <tr>\n",
       "      <th>66</th>\n",
       "      <td>TFPI2</td>\n",
       "      <td>2.048824</td>\n",
       "    </tr>\n",
       "    <tr>\n",
       "      <th>6</th>\n",
       "      <td>CAV2</td>\n",
       "      <td>2.026923</td>\n",
       "    </tr>\n",
       "    <tr>\n",
       "      <th>24</th>\n",
       "      <td>GSC</td>\n",
       "      <td>2.017003</td>\n",
       "    </tr>\n",
       "  </tbody>\n",
       "</table>\n",
       "<p>72 rows × 2 columns</p>\n",
       "</div>"
      ],
      "text/plain": [
       "      gene      score\n",
       "0     AKT1  23.599691\n",
       "44  NUDT13  15.102535\n",
       "79   WNT5A  14.054834\n",
       "38    MMP3  13.422044\n",
       "18    F11R  12.452552\n",
       "..     ...        ...\n",
       "19  FGFBP1   2.129011\n",
       "17    ESR1   2.074003\n",
       "66   TFPI2   2.048824\n",
       "6     CAV2   2.026923\n",
       "24     GSC   2.017003\n",
       "\n",
       "[72 rows x 2 columns]"
      ]
     },
     "metadata": {},
     "output_type": "display_data"
    }
   ],
   "source": [
    "# ================================================================\n",
    "# 0. Importar librerías base y funciones para clustergrama\n",
    "# ================================================================\n",
    "from pathlib import Path\n",
    "import pandas as pd\n",
    "import numpy as np\n",
    "from scipy.stats import ttest_ind\n",
    "import plotly.figure_factory as ff\n",
    "import plotly.graph_objects as go\n",
    "from plotly.subplots import make_subplots\n",
    "from scipy.cluster.hierarchy import linkage\n",
    "from itertools import combinations\n",
    "from tqdm import tqdm\n",
    "from concurrent.futures import ThreadPoolExecutor\n",
    "\n",
    "# ================================================================\n",
    "# 1. Carga y procesamiento de datos crudos\n",
    "# ================================================================\n",
    "ruta_excel = Path(\"../raw_data/CG-TEM-intestinal_prueba.xlsx\")\n",
    "df_excel = pd.read_excel(ruta_excel, sheet_name=0, header=None)\n",
    "ruta_archivo = ruta_excel\n",
    "contexto_biologico = df_excel.iloc[2, 1]\n",
    "metodo_elegido = df_excel.iloc[1, 1]\n",
    "tipo_cancer = df_excel.iloc[0, 1]\n",
    "nombre_controles = df_excel.iloc[3, 1]\n",
    "nombre_muestras = df_excel.iloc[4, 1]\n",
    "nombre_archivo = ruta_archivo.stem\n",
    "ruta_resultados = Path(\n",
    "    f\"../resultados/{nombre_archivo}/{contexto_biologico}/{metodo_elegido}/{tipo_cancer}/\"\n",
    ")\n",
    "ruta_resultados.mkdir(parents=True, exist_ok=True)\n",
    "\n",
    "def cargar_datos_excel(ruta):\n",
    "    return pd.read_excel(ruta, engine='openpyxl', header=None)\n",
    "\n",
    "def extraer_informacion_cg(df):\n",
    "    test_names = df.iloc[5, 2:].dropna().astype(str).tolist()\n",
    "    genes = df.iloc[9:, 1].dropna().astype(str).tolist()\n",
    "    return test_names, genes\n",
    "\n",
    "def procesar_ct(df, genes, nombre_controles, nombre_muestras):\n",
    "    fila_ct = df.iloc[7]\n",
    "    controles_list, muestras_list = [], []\n",
    "    for idx in np.where(fila_ct == \"CT\")[0]:\n",
    "        nombre_test = str(df.iloc[5, idx]).strip().upper()\n",
    "        ct_values = df.iloc[8:, idx].tolist()\n",
    "        if len(ct_values) < len(genes):\n",
    "            ct_values.extend([np.nan] * (len(genes) - len(ct_values)))\n",
    "        elif len(ct_values) > len(genes):\n",
    "            ct_values = ct_values[:len(genes)]\n",
    "        df_temp = pd.DataFrame({'test': [nombre_test]*len(genes), 'target': genes, 'ct': ct_values})\n",
    "        if nombre_test.startswith(nombre_controles.strip().upper()):\n",
    "            controles_list.append(df_temp)\n",
    "        elif nombre_test.startswith(nombre_muestras.strip().upper()):\n",
    "            muestras_list.append(df_temp)\n",
    "    controles_df = pd.concat(controles_list, ignore_index=True) if controles_list else pd.DataFrame()\n",
    "    muestras_df = pd.concat(muestras_list, ignore_index=True) if muestras_list else pd.DataFrame()\n",
    "    return controles_df, muestras_df\n",
    "\n",
    "def procesar_ct_column(df1, df2, columna_ct='ct'):\n",
    "    def procesar(df, columna):\n",
    "        df[columna] = df[columna].replace('Undetermined', pd.NA)\n",
    "        df[columna] = pd.to_numeric(df[columna], errors='coerce')\n",
    "        return df\n",
    "    df1 = procesar(df1, columna_ct)\n",
    "    df2 = procesar(df2, columna_ct)\n",
    "    valor_maximo = pd.concat([df1[columna_ct], df2[columna_ct]]).max()\n",
    "    df1[columna_ct] = df1[columna_ct].fillna(valor_maximo)\n",
    "    df2[columna_ct] = df2[columna_ct].fillna(valor_maximo)\n",
    "    return df1, df2\n",
    "\n",
    "def filtrar_controles_maquina(df, columna_target='target', controles_maquina=None):\n",
    "    if controles_maquina is None:\n",
    "        controles_maquina = ['PPC', 'RTC']\n",
    "    return df[~df[columna_target].str.startswith(tuple(controles_maquina))]\n",
    "\n",
    "df = cargar_datos_excel(ruta_archivo)\n",
    "test_names, genes = extraer_informacion_cg(df)\n",
    "controles_df, muestras_df = procesar_ct(df, genes, nombre_controles, nombre_muestras)\n",
    "controles_df, muestras_df = procesar_ct_column(controles_df, muestras_df)\n",
    "controles_df = filtrar_controles_maquina(controles_df)\n",
    "muestras_df = filtrar_controles_maquina(muestras_df)\n",
    "controles_df = controles_df.assign(tipo='Control')\n",
    "muestras_df = muestras_df.assign(tipo='Muestra')\n",
    "\n",
    "# ================================================================\n",
    "# 2. Cálculo y visualización usando el gen más estable como referencia\n",
    "# ================================================================\n",
    "def calcular_fold_change(controles, muestras):\n",
    "    def proc(df, grupo):\n",
    "        stats = df.groupby('target', as_index=False).agg(\n",
    "            ct_promedio=('ct', 'mean'), ct_std=('ct', 'std')\n",
    "        ).rename(columns={'ct_promedio': f'ct_promedio_{grupo}', 'ct_std': f'ct_std_{grupo}'})\n",
    "        return stats\n",
    "    stats_cont = proc(controles, 'controles')\n",
    "    stats_mues = proc(muestras, 'muestras')\n",
    "    stats_cont['promedio_general_controles'] = stats_cont['ct_promedio_controles'].mean()\n",
    "    stats_mues['promedio_general_muestras'] = stats_mues['ct_promedio_muestras'].mean()\n",
    "    stats_cont['delta_ct_promedio_controles'] = stats_cont['ct_promedio_controles'] - stats_cont['promedio_general_controles']\n",
    "    stats_mues['delta_ct_promedio_muestras'] = stats_mues['ct_promedio_muestras'] - stats_mues['promedio_general_muestras']\n",
    "    df_consolidado = pd.merge(stats_cont, stats_mues, on='target', how='outer')\n",
    "    df_consolidado['stability'] = (df_consolidado['ct_std_controles'] + df_consolidado['ct_std_muestras']) / 2\n",
    "    gen_mas_estable = df_consolidado.loc[df_consolidado['stability'].idxmin(), 'target']\n",
    "    ref_cont = stats_cont.query(\"target == @gen_mas_estable\")['ct_promedio_controles'].values[0]\n",
    "    ref_mues = stats_mues.query(\"target == @gen_mas_estable\")['ct_promedio_muestras'].values[0]\n",
    "    stats_cont['delta_ct_gen_ref_controles'] = stats_cont['ct_promedio_controles'] - ref_cont\n",
    "    stats_mues['delta_ct_gen_ref_muestras'] = stats_mues['ct_promedio_muestras'] - ref_mues\n",
    "    df_consolidado = pd.merge(stats_cont, stats_mues, on='target', how='outer')\n",
    "    df_consolidado['delta_delta_ct_promedio'] = (\n",
    "        df_consolidado['delta_ct_promedio_muestras'] - df_consolidado['delta_ct_promedio_controles']\n",
    "    )\n",
    "    df_consolidado['fold_change_promedio'] = 2 ** (-df_consolidado['delta_delta_ct_promedio'])\n",
    "    df_consolidado['delta_delta_ct_gen_ref'] = (\n",
    "        df_consolidado['delta_ct_gen_ref_muestras'] - df_consolidado['delta_ct_gen_ref_controles']\n",
    "    )\n",
    "    df_consolidado['fold_change_gen_ref'] = 2 ** (-df_consolidado['delta_delta_ct_gen_ref'])\n",
    "    return df_consolidado, gen_mas_estable\n",
    "\n",
    "df_consolidado, gen_referencia = calcular_fold_change(controles_df, muestras_df)\n",
    "\n",
    "df_total = pd.concat([controles_df, muestras_df])\n",
    "ref_ct = df_total[df_total['target'] == gen_referencia][['test', 'ct']].rename(\n",
    "    columns={'ct': f'{gen_referencia}_ct'}\n",
    ")\n",
    "df_norm = df_total.merge(ref_ct, on='test')\n",
    "df_norm['delta_ct'] = df_norm['ct'] - df_norm[f'{gen_referencia}_ct']\n",
    "df_norm['log2_rel_expr'] = -df_norm['delta_ct']\n",
    "\n",
    "df_separadores = df_consolidado.copy()\n",
    "df_separadores['abs_delta'] = df_separadores['delta_delta_ct_promedio'].abs()\n",
    "df_separadores = df_separadores.sort_values('abs_delta', ascending=False)\n",
    "umbral = 2\n",
    "genes_separadores = df_separadores[df_separadores['abs_delta'] > umbral]['target'].tolist()\n",
    "\n",
    "# ====== Función para crear el clustergrama ======\n",
    "def create_clustered_heatmap(heatmap_data, title):\n",
    "    dendro_col = ff.create_dendrogram(\n",
    "        heatmap_data.T,\n",
    "        orientation='bottom',\n",
    "        labels=heatmap_data.columns.tolist(),\n",
    "        linkagefun=lambda x: linkage(x, method='average', metric='euclidean')\n",
    "    )\n",
    "    col_order = dendro_col['layout']['xaxis']['ticktext']\n",
    "    dendro_row = ff.create_dendrogram(\n",
    "        heatmap_data,\n",
    "        orientation='right',\n",
    "        labels=heatmap_data.index.tolist(),\n",
    "        linkagefun=lambda x: linkage(x, method='average', metric='euclidean')\n",
    "    )\n",
    "    row_order = dendro_row['layout']['yaxis']['ticktext']\n",
    "    clustered_data = heatmap_data.loc[row_order, col_order]\n",
    "    custom_colorscale = [\n",
    "        [0.0, '#2c7bb6'], [0.5, '#ffffb2'], [1.0, '#d7191c']\n",
    "    ]\n",
    "    fig = make_subplots(\n",
    "        rows=2, cols=2,\n",
    "        shared_xaxes=True,\n",
    "        shared_yaxes=True,\n",
    "        vertical_spacing=0.02,\n",
    "        horizontal_spacing=0.02,\n",
    "        column_widths=[0.8, 0.2],\n",
    "        row_heights=[0.10, 1],\n",
    "        specs=[[{\"type\": \"scatter\", \"colspan\": 2}, None],\n",
    "               [{\"type\": \"heatmap\"}, {\"type\": \"scatter\"}]]\n",
    "    )\n",
    "    for trace in dendro_col['data']:\n",
    "        fig.add_trace(trace, row=1, col=1)\n",
    "    for trace in dendro_row['data']:\n",
    "        fig.add_trace(trace, row=2, col=2)\n",
    "    heatmap = go.Heatmap(\n",
    "        z=clustered_data.values,\n",
    "        x=col_order,\n",
    "        y=row_order,\n",
    "        colorscale=custom_colorscale,\n",
    "        colorbar=dict(title=f\"log2(Exp. Rel. vs {gen_referencia})\"),\n",
    "        showscale=True,\n",
    "        zmid=0\n",
    "    )\n",
    "    fig.add_trace(heatmap, row=2, col=1)\n",
    "    fig.update_layout(title_text=title, width=1000, height=max(800, len(row_order) * 40), showlegend=False)\n",
    "    fig.update_xaxes(showticklabels=False, row=1, col=1)\n",
    "    fig.update_xaxes(showticklabels=True, row=2, col=1, title=\"Tests\")\n",
    "    fig.update_yaxes(showticklabels=True, row=2, col=1, title=\"Genes\")\n",
    "    fig.update_yaxes(showticklabels=False, row=2, col=2)\n",
    "    return fig\n",
    "\n",
    "# ==== 1. Clustergrama con el gen más estable ====\n",
    "if genes_separadores:\n",
    "    heatmap_data = df_norm[df_norm['target'].isin(genes_separadores)].pivot_table(\n",
    "        index='target', columns='test', values='log2_rel_expr', aggfunc='mean'\n",
    "    )\n",
    "    fig1 = create_clustered_heatmap(\n",
    "        heatmap_data,\n",
    "        title=f\"Clustergrama: Genes separadores (normalización vs {gen_referencia})\"\n",
    "    )\n",
    "    fig1.show()\n",
    "    heatmap_data1 = heatmap_data.copy()\n",
    "else:\n",
    "    print(\"No hay suficientes genes separadores para el clustergrama (gen más estable).\")\n",
    "\n",
    "# ================================================================\n",
    "# 3. Algoritmo de fuerza bruta para selección de candidatos normalizadores\n",
    "# ================================================================\n",
    "print(\"\\nIniciando búsqueda de sets óptimos de genes normalizadores (fuerza bruta)...\\n\")\n",
    "df = df_total.copy()\n",
    "\n",
    "def separation_score_for_refs(refs):\n",
    "    temp = df.copy()\n",
    "    ref_cts = temp[temp['target'].isin(refs)].groupby('test')['ct'].mean().reset_index()\n",
    "    ref_cts = ref_cts.rename(columns={'ct': 'ref_ct'})\n",
    "    temp = temp.merge(ref_cts, on='test')\n",
    "    temp['delta_ct'] = temp['ct'] - temp['ref_ct']\n",
    "    temp['log2_rel_expr'] = -temp['delta_ct']\n",
    "    vals_ctrl = temp[temp['tipo'] == 'Control']['log2_rel_expr']\n",
    "    vals_case = temp[temp['tipo'] != 'Control']['log2_rel_expr']\n",
    "    if len(vals_ctrl) < 2 or len(vals_case) < 2:\n",
    "        return (refs, np.nan)\n",
    "    t_stat, _ = ttest_ind(vals_ctrl, vals_case, equal_var=False)\n",
    "    return (refs, abs(t_stat))\n",
    "\n",
    "scores_indiv = []\n",
    "for gene in df['target'].unique():\n",
    "    temp = df.copy()\n",
    "    ref_ct = temp[temp['target'] == gene][['test', 'ct']].rename(columns={'ct': f'{gene}_ct'})\n",
    "    temp = temp.merge(ref_ct, on='test')\n",
    "    temp['delta_ct'] = temp['ct'] - temp[f'{gene}_ct']\n",
    "    temp['log2_rel_expr'] = -temp['delta_ct']\n",
    "    vals_ctrl = temp[temp['tipo'] == 'Control']['log2_rel_expr']\n",
    "    vals_case = temp[temp['tipo'] != 'Control']['log2_rel_expr']\n",
    "    if len(vals_ctrl) > 1 and len(vals_case) > 1:\n",
    "        t_stat, _ = ttest_ind(vals_ctrl, vals_case, equal_var=False)\n",
    "        scores_indiv.append((gene, abs(t_stat)))\n",
    "scores_indiv = sorted(scores_indiv, key=lambda x: -x[1])\n",
    "top_N = 12\n",
    "top_genes = [x[0] for x in scores_indiv[:top_N]]\n",
    "\n",
    "K = 5  # Cambia K para buscar sets de 2, 3 genes normalizadores\n",
    "comb_list = list(combinations(top_genes, K))\n",
    "\n",
    "results = []\n",
    "with ThreadPoolExecutor() as executor:\n",
    "    for res in tqdm(executor.map(separation_score_for_refs, comb_list), total=len(comb_list), desc=f\"Probando sets de {K} genes\"):\n",
    "        results.append(res)\n",
    "\n",
    "df_results = pd.DataFrame(results, columns=['genes', 'score']).sort_values('score', ascending=False)\n",
    "display(df_results.head(10))\n",
    "\n",
    "# Normalización global usando el/los mejores normalizadores seleccionados\n",
    "best_genes = df_results.iloc[0]['genes']\n",
    "temp = df.copy()\n",
    "ref_cts = temp[temp['target'].isin(best_genes)].groupby('test')['ct'].mean().reset_index()\n",
    "ref_cts = ref_cts.rename(columns={'ct': 'ref_ct'})\n",
    "temp = temp.merge(ref_cts, on='test')\n",
    "temp['delta_ct'] = temp['ct'] - temp['ref_ct']\n",
    "temp['log2_rel_expr'] = -temp['delta_ct']\n",
    "\n",
    "# Cálculo de score para todos los genes bajo esta normalización\n",
    "genes_all = temp['target'].unique()\n",
    "scores_all = []\n",
    "for gene in genes_all:\n",
    "    sub = temp[temp['target'] == gene]\n",
    "    vals_ctrl = sub[sub['tipo'] == 'Control']['log2_rel_expr']\n",
    "    vals_case = sub[sub['tipo'] != 'Control']['log2_rel_expr']\n",
    "    if len(vals_ctrl) > 1 and len(vals_case) > 1:\n",
    "        t_stat, _ = ttest_ind(vals_ctrl, vals_case, equal_var=False)\n",
    "        scores_all.append((gene, abs(t_stat)))\n",
    "df_scores_all = pd.DataFrame(scores_all, columns=['gene', 'score']).sort_values('score', ascending=False)\n",
    "\n",
    "umbral = 2\n",
    "genes_separadores = df_scores_all[df_scores_all['score'] > umbral]['gene'].tolist()\n",
    "\n",
    "df_sep = temp[temp['target'].isin(genes_separadores)]\n",
    "heatmap_data = df_sep.pivot_table(\n",
    "    index='target',\n",
    "    columns='test',\n",
    "    values='log2_rel_expr',\n",
    "    aggfunc='mean'\n",
    ")\n",
    "\n",
    "# ==== 2. Clustergrama usando el/los mejores genes normalizadores de la búsqueda de fuerza bruta ====\n",
    "if len(genes_separadores) > 0:\n",
    "\n",
    "    fig2 = create_clustered_heatmap(\n",
    "        heatmap_data,\n",
    "        title=f\"Clustergrama: Genes separadores (score > {umbral}) usando normalización por {', '.join(best_genes)}\"\n",
    "    )\n",
    "    fig2.show()\n",
    "    heatmap_data2 = heatmap_data.copy()\n",
    "    display(df_scores_all[df_scores_all['gene'].isin(genes_separadores)])\n",
    "else:\n",
    "    print(\"No hay suficientes genes separadores para el clustergrama (normalización óptima).\")"
   ]
  },
  {
   "cell_type": "code",
   "execution_count": 22,
   "id": "8a1d21be",
   "metadata": {},
   "outputs": [
    {
     "name": "stdout",
     "output_type": "stream",
     "text": [
      "   target  ct_promedio_controles  ct_std_controles  \\\n",
      "0    ACTB                 35.505          0.346482   \n",
      "1    AKT1                 28.900          0.381838   \n",
      "2     B2M                 35.395          2.015254   \n",
      "3    BMP1                 39.515          1.053589   \n",
      "4    BMP2                 32.705          0.205061   \n",
      "..    ...                    ...               ...   \n",
      "84  WNT11                 38.540          2.531442   \n",
      "85  WNT5A                 36.145          0.827315   \n",
      "86  WNT5B                 32.075          0.572756   \n",
      "87   ZEB1                 35.905          0.148492   \n",
      "88   ZEB2                 41.405          2.481945   \n",
      "\n",
      "    promedio_general_controles  delta_ct_promedio_controles  \\\n",
      "0                    37.070169                    -1.565169   \n",
      "1                    37.070169                    -8.170169   \n",
      "2                    37.070169                    -1.675169   \n",
      "3                    37.070169                     2.444831   \n",
      "4                    37.070169                    -4.365169   \n",
      "..                         ...                          ...   \n",
      "84                   37.070169                     1.469831   \n",
      "85                   37.070169                    -0.925169   \n",
      "86                   37.070169                    -4.995169   \n",
      "87                   37.070169                    -1.165169   \n",
      "88                   37.070169                     4.334831   \n",
      "\n",
      "    delta_ct_gen_ref_controles  ct_promedio_muestras  ct_std_muestras  \\\n",
      "0                       -9.425             37.520000         5.125593   \n",
      "1                      -16.030             28.743333         0.187172   \n",
      "2                       -9.535             31.226667         2.037212   \n",
      "3                       -5.415             33.930000         1.020931   \n",
      "4                      -12.225             33.013333         0.308275   \n",
      "..                         ...                   ...              ...   \n",
      "84                      -6.390             40.473333         1.579884   \n",
      "85                      -8.785             36.130000         0.830181   \n",
      "86                     -12.855             31.703333         0.609289   \n",
      "87                      -9.025             35.410000         1.612421   \n",
      "88                      -3.525             37.883333         3.482963   \n",
      "\n",
      "    promedio_general_muestras  delta_ct_promedio_muestras  \\\n",
      "0                    36.41809                    1.101910   \n",
      "1                    36.41809                   -7.674757   \n",
      "2                    36.41809                   -5.191423   \n",
      "3                    36.41809                   -2.488090   \n",
      "4                    36.41809                   -3.404757   \n",
      "..                        ...                         ...   \n",
      "84                   36.41809                    4.055243   \n",
      "85                   36.41809                   -0.288090   \n",
      "86                   36.41809                   -4.714757   \n",
      "87                   36.41809                   -1.008090   \n",
      "88                   36.41809                    1.465243   \n",
      "\n",
      "    delta_ct_gen_ref_muestras  delta_delta_ct_promedio  fold_change_promedio  \\\n",
      "0                   -7.410000                 2.667079              0.157445   \n",
      "1                  -16.186667                 0.495412              0.709359   \n",
      "2                  -13.703333                -3.516255             11.441900   \n",
      "3                  -11.000000                -4.932921             30.546207   \n",
      "4                  -11.916667                 0.960412              0.513910   \n",
      "..                        ...                      ...                   ...   \n",
      "84                  -4.456667                 2.585412              0.166615   \n",
      "85                  -8.800000                 0.637079              0.643014   \n",
      "86                 -13.226667                 0.280412              0.823356   \n",
      "87                  -9.520000                 0.157079              0.896839   \n",
      "88                  -7.046667                -2.869588              7.308564   \n",
      "\n",
      "    delta_delta_ct_gen_ref  fold_change_gen_ref  \n",
      "0                 2.015000             0.247414  \n",
      "1                -0.156667             1.114709  \n",
      "2                -4.168333            17.980152  \n",
      "3                -5.585000            48.001248  \n",
      "4                 0.308333             0.807574  \n",
      "..                     ...                  ...  \n",
      "84                1.933333             0.261824  \n",
      "85               -0.015000             1.010451  \n",
      "86               -0.371667             1.293847  \n",
      "87               -0.495000             1.409321  \n",
      "88               -3.521667            11.484902  \n",
      "\n",
      "[89 rows x 15 columns]\n"
     ]
    }
   ],
   "source": [
    "print(df_consolidado)"
   ]
  },
  {
   "cell_type": "code",
   "execution_count": 23,
   "id": "8b374eba",
   "metadata": {},
   "outputs": [
    {
     "data": {
      "image/png": "[encoded data removed]",
      "text/plain": [
       "<Figure size 1000x600 with 1 Axes>"
      ]
     },
     "metadata": {},
     "output_type": "display_data"
    }
   ],
   "source": [
    "import matplotlib.pyplot as plt\n",
    "import numpy as np\n",
    "\n",
    "# Supón que tu DataFrame se llama df_resultados\n",
    "# Si tienes p-valor, reemplaza 'pval' por el nombre de tu columna de p-valor\n",
    "# Aquí se usa fold_change_promedio como eje X y delta_delta_ct_promedio como eje Y\n",
    "\n",
    "plt.figure(figsize=(10,6))\n",
    "x = np.log2(df_consolidado['fold_change_promedio'])\n",
    "y = df_consolidado['delta_delta_ct_promedio']\n",
    "\n",
    "# Puedes ajustar el umbral para destacar genes\n",
    "umbral_fc = 1  # log2(FC) > 1 o < -1\n",
    "plt.scatter(x, y, c=(abs(x) > umbral_fc), cmap='coolwarm', alpha=0.7)\n",
    "\n",
    "plt.xlabel('Log2 Fold Change (promedio)')\n",
    "plt.ylabel('Delta Delta Ct (promedio)')\n",
    "plt.title('Volcano Plot - Genes Normalizadores')\n",
    "plt.grid(True)\n",
    "plt.show()"
   ]
  },
  {
   "cell_type": "code",
   "execution_count": null,
   "id": "8adee175",
   "metadata": {},
   "outputs": [],
   "source": []
  }
 ],
 "metadata": {
  "kernelspec": {
   "display_name": "base",
   "language": "python",
   "name": "python3"
  },
  "language_info": {
   "codemirror_mode": {
    "name": "ipython",
    "version": 3
   },
   "file_extension": ".py",
   "mimetype": "text/x-python",
   "name": "python",
   "nbconvert_exporter": "python",
   "pygments_lexer": "ipython3",
   "version": "3.11.7"
  }
 },
 "nbformat": 4,
 "nbformat_minor": 5
}
