{
 "cells": [
  {
   "cell_type": "markdown",
   "metadata": {
    "id": "LFkTaF5mZubK"
   },
   "source": [
    "# Análisis de datos de expresión diferencial por qPCR para identificar firmas génicas y redes de interacción en cánceres específicos\n",
    "\n",
    "Este pipeline de análisis toma datos experimentales de qPCR para identificar genes diferencialmente expresados. A partir de estos genes, se realiza una búsqueda bibliográfica, asociándolos a tipos específicos de cáncer y a un contexto definido, como la transición epitelio-mesénquima o perfiles de mRNAs. Además, se generan mapas de calor (heatmaps) para visualizar la expresión génica y se construyen redes de interacción genética, con el objetivo de identificar genes clave (genes hub) que podrían desempeñar un papel central en las vías biológicas relacionadas con el cáncer. Este contexto es flexible y puede ser editado según el objetivo de la investigación."
   ]
  },
  {
   "cell_type": "markdown",
   "metadata": {
    "id": "l_MF5i7YDyvx"
   },
   "source": [
    "## Definición del contexto biológico de estudio, método de normalización, cáncer de interés y ruta del archivo a los datos crudos"
   ]
  },
  {
   "cell_type": "markdown",
   "metadata": {
    "id": "pOMvHbngDyvx"
   },
   "source": [
    "### Configuración de carpetas de resultados"
   ]
  },
  {
   "cell_type": "code",
   "execution_count": 2,
   "metadata": {
    "colab": {
     "base_uri": "https://localhost:8080/",
     "height": 397
    },
    "executionInfo": {
     "elapsed": 132,
     "status": "error",
     "timestamp": 1742954402701,
     "user": {
      "displayName": "Sergio CFS",
      "userId": "11626938599988753511"
     },
     "user_tz": 360
    },
    "id": "eB0dAJklDyvx",
    "outputId": "de383183-c8f7-4ae5-bf9e-8da535d9c4c6"
   },
   "outputs": [
    {
     "data": {
      "text/html": [
       "\n",
       "    <div style=\"background-color:#eaf4ea; \n",
       "                color:#2e6637;\n",
       "                padding: 12px; \n",
       "                border-radius: 8px;\n",
       "                border-left: 4px solid #2e6637;\n",
       "                margin: 10px 0;\n",
       "                box-shadow: 0 2px 4px rgba(0,0,0,0.1);\">\n",
       "        <div style=\"font-size: 1.1em; margin-bottom: 6px;\">\n",
       "            🧬 <strong>Configuración cargada desde YAML</strong>\n",
       "        </div>\n",
       "        <div style=\"font-size: 0.95em; margin-left: 24px;\">\n",
       "            \n",
       "        </div>\n",
       "    </div>\n",
       "    "
      ],
      "text/plain": [
       "<IPython.core.display.HTML object>"
      ]
     },
     "metadata": {},
     "output_type": "display_data"
    },
    {
     "data": {
      "text/html": [
       "\n",
       "    <div style=\"background-color:#fff3cd; \n",
       "                color:#856404;\n",
       "                padding: 12px; \n",
       "                border-radius: 8px;\n",
       "                border-left: 4px solid #856404;\n",
       "                margin: 10px 0;\n",
       "                box-shadow: 0 2px 4px rgba(0,0,0,0.1);\">\n",
       "        <div style=\"font-size: 1.1em; margin-bottom: 6px;\">\n",
       "            🔔 <strong>Resumen de ejecución</strong>\n",
       "        </div>\n",
       "        <div style=\"font-size: 0.95em; margin-left: 24px;\">\n",
       "            <div><strong>Contexto biológico:</strong>  Cáncer y TEM</div><div><strong>Método de normalización:</strong>  miRNA de referencia</div><div><strong>Tipo de cáncer:</strong>  Breast Cancer</div><div><strong>Controles:</strong>  7BSC</div><div><strong>Muestras:</strong>  3CM</div>\n",
       "        </div>\n",
       "    </div>\n",
       "    "
      ],
      "text/plain": [
       "<IPython.core.display.HTML object>"
      ]
     },
     "metadata": {},
     "output_type": "display_data"
    },
    {
     "data": {
      "text/html": [
       "\n",
       "    <div style=\"background-color:#eaf4ea; \n",
       "                color:#2e6637;\n",
       "                padding: 12px; \n",
       "                border-radius: 8px;\n",
       "                border-left: 4px solid #2e6637;\n",
       "                margin: 10px 0;\n",
       "                box-shadow: 0 2px 4px rgba(0,0,0,0.1);\">\n",
       "        <div style=\"font-size: 1.1em; margin-bottom: 6px;\">\n",
       "            🧬 <strong>Configuración de las variables de análisis cargadas correctamente</strong>\n",
       "        </div>\n",
       "        <div style=\"font-size: 0.95em; margin-left: 24px;\">\n",
       "            \n",
       "        </div>\n",
       "    </div>\n",
       "    "
      ],
      "text/plain": [
       "<IPython.core.display.HTML object>"
      ]
     },
     "metadata": {},
     "output_type": "display_data"
    },
    {
     "data": {
      "text/html": [
       "\n",
       "    <div style=\"background-color:#fff3cd; \n",
       "                color:#856404;\n",
       "                padding: 12px; \n",
       "                border-radius: 8px;\n",
       "                border-left: 4px solid #856404;\n",
       "                margin: 10px 0;\n",
       "                box-shadow: 0 2px 4px rgba(0,0,0,0.1);\">\n",
       "        <div style=\"font-size: 1.1em; margin-bottom: 6px;\">\n",
       "            🔔 <strong>Resumen de ejecución</strong>\n",
       "        </div>\n",
       "        <div style=\"font-size: 0.95em; margin-left: 24px;\">\n",
       "            <div><strong>Archivo de datos:</strong>  ../raw_data/miRNAs.xlsx</div><div><strong>Directorio de resultados:</strong>  ../resultados/miRNAs/Cáncer y TEM/miRNA de referencia/Breast Cancer</div>\n",
       "        </div>\n",
       "    </div>\n",
       "    "
      ],
      "text/plain": [
       "<IPython.core.display.HTML object>"
      ]
     },
     "metadata": {},
     "output_type": "display_data"
    },
    {
     "data": {
      "text/html": [
       "\n",
       "    <div style=\"background-color:#eaf4ea; \n",
       "                color:#2e6637;\n",
       "                padding: 12px; \n",
       "                border-radius: 8px;\n",
       "                border-left: 4px solid #2e6637;\n",
       "                margin: 10px 0;\n",
       "                box-shadow: 0 2px 4px rgba(0,0,0,0.1);\">\n",
       "        <div style=\"font-size: 1.1em; margin-bottom: 6px;\">\n",
       "            🧬 <strong>Configuración de rutas cargadas correctamente</strong>\n",
       "        </div>\n",
       "        <div style=\"font-size: 0.95em; margin-left: 24px;\">\n",
       "            \n",
       "        </div>\n",
       "    </div>\n",
       "    "
      ],
      "text/plain": [
       "<IPython.core.display.HTML object>"
      ]
     },
     "metadata": {},
     "output_type": "display_data"
    },
    {
     "data": {
      "text/html": [
       "\n",
       "    <div style=\"background-color:#eaf4ea; \n",
       "                color:#2e6637;\n",
       "                padding: 12px; \n",
       "                border-radius: 8px;\n",
       "                border-left: 4px solid #2e6637;\n",
       "                margin: 10px 0;\n",
       "                box-shadow: 0 2px 4px rgba(0,0,0,0.1);\">\n",
       "        <div style=\"font-size: 1.1em; margin-bottom: 6px;\">\n",
       "            🧬 <strong>✓ Configuración válida</strong>\n",
       "        </div>\n",
       "        <div style=\"font-size: 0.95em; margin-left: 24px;\">\n",
       "            \n",
       "        </div>\n",
       "    </div>\n",
       "    "
      ],
      "text/plain": [
       "<IPython.core.display.HTML object>"
      ]
     },
     "metadata": {},
     "output_type": "display_data"
    }
   ],
   "source": [
    "# notebooks/analisis.ipynb\n",
    "import sys\n",
    "from pathlib import Path\n",
    "sys.path.append(\"../src\")\n",
    "\n",
    "from config import cargar_configuracion, configurar_rutas, montar_google_drive\n",
    "from save_results import export_dfs_to_excel, guardar_grafico, set_export_folder\n",
    "from messaging import result_message, success_message, error_message, resume_message\n",
    "\n",
    "# Cargar configuración\n",
    "config = cargar_configuracion('../config miRNAs.yaml')\n",
    "rutas = configurar_rutas(config)\n",
    "montar_google_drive(config)\n",
    "\n",
    "# Obtener parámetros principales\n",
    "ruta_archivo = config['rutas']['datos_crudos']\n",
    "contexto_biologico = config['analisis']['contexto_biologico']\n",
    "metodo_elegido = config['analisis']['metodo_normalizacion']\n",
    "tipo_cancer = config['analisis']['tipo_cancer']\n",
    "nombre_controles = config['analisis']['nombre_controles']\n",
    "nombre_muestras = config['analisis']['nombre_muestras']\n",
    "\n",
    "\n",
    "# Validar existencia del archivo de datos\n",
    "if not Path(ruta_archivo).exists():\n",
    "    raise FileNotFoundError(f\"Archivo de datos no encontrado: {ruta_archivo}\")\n",
    "\n",
    "# Generar estructura de carpetas\n",
    "nombre_archivo = Path(ruta_archivo).stem\n",
    "ruta_resultados = Path(\n",
    "    f\"{config['rutas']['resultados_base']}/\"\n",
    "    f\"{nombre_archivo}/\"\n",
    "    f\"{contexto_biologico}/\"\n",
    "    f\"{metodo_elegido}/\"\n",
    "    f\"{tipo_cancer}/\"\n",
    ")\n",
    "ruta_resultados.mkdir(parents=True, exist_ok=True)\n",
    "set_export_folder(ruta_resultados)\n",
    "\n",
    "# ==================================================\n",
    "# VISUALIZACIÓN DE CONFIGURACIÓN\n",
    "# ==================================================\n",
    "\n",
    "success_message(\"Configuración cargada desde YAML\")\n",
    "\n",
    "# Mostrar parámetros\n",
    "resume_message({\n",
    "    \"Contexto biológico\": contexto_biologico,\n",
    "    \"Método de normalización\": metodo_elegido,\n",
    "    \"Tipo de cáncer\": tipo_cancer,\n",
    "    \"Controles\": nombre_controles,\n",
    "    \"Muestras\": nombre_muestras\n",
    "})\n",
    "\n",
    "success_message(\"Configuración de las variables de análisis cargadas correctamente\")\n",
    "\n",
    "# Mostrar rutas\n",
    "\n",
    "resume_message({\n",
    "    \"Archivo de datos\": ruta_archivo,\n",
    "    \"Directorio de resultados\": ruta_resultados\n",
    "})\n",
    "success_message(\"Configuración de rutas cargadas correctamente\")\n",
    "\n",
    "# Verificación final\n",
    "\n",
    "success_message(\"✓ Configuración válida\" if config else \"✗ Error en configuración\")\n",
    "\n"
   ]
  },
  {
   "cell_type": "markdown",
   "metadata": {
    "id": "ej10x9GoZubP"
   },
   "source": [
    "## Importación de librerías esenciales para el análisis de expresión génica\n",
    "\n",
    "Este bloque de código importa una serie de librerías fundamentales para realizar análisis avanzados en el contexto de la expresión génica.\n"
   ]
  },
  {
   "cell_type": "code",
   "execution_count": null,
   "metadata": {},
   "outputs": [],
   "source": []
  },
  {
   "cell_type": "code",
   "execution_count": 3,
   "metadata": {
    "executionInfo": {
     "elapsed": 298,
     "status": "aborted",
     "timestamp": 1742954402698,
     "user": {
      "displayName": "Sergio CFS",
      "userId": "11626938599988753511"
     },
     "user_tz": 360
    },
    "id": "Du83QwENDyv0"
   },
   "outputs": [
    {
     "data": {
      "text/html": [
       "\n",
       "    <div style=\"background-color:#fff3cd; \n",
       "                color:#856404;\n",
       "                padding: 12px; \n",
       "                border-radius: 8px;\n",
       "                border-left: 4px solid #856404;\n",
       "                margin: 10px 0;\n",
       "                box-shadow: 0 2px 4px rgba(0,0,0,0.1);\">\n",
       "        <div style=\"font-size: 1.1em; margin-bottom: 6px;\">\n",
       "            💊 <strong>Instalando biopython...</strong>\n",
       "        </div>\n",
       "        <div style=\"font-size: 0.95em; margin-left: 24px;\">\n",
       "            \n",
       "        </div>\n",
       "    </div>\n",
       "    "
      ],
      "text/plain": [
       "<IPython.core.display.HTML object>"
      ]
     },
     "metadata": {},
     "output_type": "display_data"
    },
    {
     "name": "stdout",
     "output_type": "stream",
     "text": [
      "Requirement already satisfied: biopython in /opt/anaconda3/lib/python3.11/site-packages (1.84)\n",
      "Requirement already satisfied: numpy in /opt/anaconda3/lib/python3.11/site-packages (from biopython) (1.26.4)\n"
     ]
    },
    {
     "data": {
      "text/html": [
       "\n",
       "    <div style=\"background-color:#eaf4ea; \n",
       "                color:#2e6637;\n",
       "                padding: 12px; \n",
       "                border-radius: 8px;\n",
       "                border-left: 4px solid #2e6637;\n",
       "                margin: 10px 0;\n",
       "                box-shadow: 0 2px 4px rgba(0,0,0,0.1);\">\n",
       "        <div style=\"font-size: 1.1em; margin-bottom: 6px;\">\n",
       "            🧬 <strong>Paquetes instalados</strong>\n",
       "        </div>\n",
       "        <div style=\"font-size: 0.95em; margin-left: 24px;\">\n",
       "            markdown, gseapy, biopython, squarify, openpyxl, goatools, kaleido, py2cytoscape\n",
       "        </div>\n",
       "    </div>\n",
       "    "
      ],
      "text/plain": [
       "<IPython.core.display.HTML object>"
      ]
     },
     "metadata": {},
     "output_type": "display_data"
    },
    {
     "data": {
      "text/html": [
       "\n",
       "    <div style=\"background-color:#eaf4ea; \n",
       "                color:#2e6637;\n",
       "                padding: 12px; \n",
       "                border-radius: 8px;\n",
       "                border-left: 4px solid #2e6637;\n",
       "                margin: 10px 0;\n",
       "                box-shadow: 0 2px 4px rgba(0,0,0,0.1);\">\n",
       "        <div style=\"font-size: 1.1em; margin-bottom: 6px;\">\n",
       "            🧬 <strong>Entorno configurado correctamente</strong>\n",
       "        </div>\n",
       "        <div style=\"font-size: 0.95em; margin-left: 24px;\">\n",
       "            \n",
       "        </div>\n",
       "    </div>\n",
       "    "
      ],
      "text/plain": [
       "<IPython.core.display.HTML object>"
      ]
     },
     "metadata": {},
     "output_type": "display_data"
    }
   ],
   "source": [
    "# Celda 1: Importación de módulos\n",
    "import sys\n",
    "sys.path.append(\"../src\")  # Si los módulos están en subdirectorio\n",
    "\n",
    "from setup_environment import configure_environment\n",
    "from messaging import result_message, success_message\n",
    "\n",
    "# Celda 2: Configuración inicial\n",
    "configure_environment()\n"
   ]
  },
  {
   "cell_type": "markdown",
   "metadata": {
    "id": "9pdiV4SoZubQ"
   },
   "source": [
    "## Limpieza de datos\n"
   ]
  },
  {
   "cell_type": "markdown",
   "metadata": {
    "id": "irvOdbMXDyv1"
   },
   "source": [
    "### Definición de los nombres de los controles y las muestras\n"
   ]
  },
  {
   "cell_type": "markdown",
   "metadata": {
    "id": "185sBf77Dyv1"
   },
   "source": [
    "### Carga del archivo de Excel y extracción de información\n",
    "\n",
    "En esta sección se realiza la carga de un archivo de Excel que contiene los datos de Ct de diversas pruebas. El proceso se divide en dos pasos fundamentales:\n",
    "\n",
    "1. **Carga del archivo de Excel**  \n",
    "   Se define una función llamada `cargar_datos_excel` que recibe como argumento la ruta del archivo. La función intenta cargar el archivo utilizando `pandas.read_excel` y maneja posibles errores.\n",
    "   \n",
    "   Si el archivo se carga correctamente, se muestra un mensaje de éxito; de lo contrario, se interrumpe la ejecución del programa.\n",
    "\n",
    "2. **Extracción de información relevante**  \n",
    "   La función `extraer_informacion` se encarga de extraer tres elementos importantes del DataFrame cargado: Nombres de las pruebas, Pozos y Genes objetivo.\n",
    "\n",
    "Finalmente, se muestran los resultados de la extracción en pantalla, confirmando que el proceso se ha llevado a cabo correctamente."
   ]
  },
  {
   "cell_type": "code",
   "execution_count": 4,
   "metadata": {
    "executionInfo": {
     "elapsed": 286,
     "status": "aborted",
     "timestamp": 1742954402701,
     "user": {
      "displayName": "Sergio CFS",
      "userId": "11626938599988753511"
     },
     "user_tz": 360
    },
    "id": "J1Kx_X5LDyv3"
   },
   "outputs": [
    {
     "data": {
      "text/html": [
       "\n",
       "    <div style=\"background-color:#fff3cd; \n",
       "                color:#856404;\n",
       "                padding: 12px; \n",
       "                border-radius: 8px;\n",
       "                border-left: 4px solid #856404;\n",
       "                margin: 10px 0;\n",
       "                box-shadow: 0 2px 4px rgba(0,0,0,0.1);\">\n",
       "        <div style=\"font-size: 1.1em; margin-bottom: 6px;\">\n",
       "            🔔 <strong>📦 Datos cargados</strong>\n",
       "        </div>\n",
       "        <div style=\"font-size: 0.95em; margin-left: 24px;\">\n",
       "            <div><strong>Archivo:</strong>  miRNAs.xlsx</div><div><strong>Formato:</strong>  99 filas × 10 columnas</div><div><strong>Memoria:</strong>  0.01 MB</div><div><strong>Columnas:</strong>  Unnamed: 0, Unnamed: 1, Unnamed: 2...</div>\n",
       "        </div>\n",
       "    </div>\n",
       "    "
      ],
      "text/plain": [
       "<IPython.core.display.HTML object>"
      ]
     },
     "metadata": {},
     "output_type": "display_data"
    },
    {
     "data": {
      "text/html": [
       "\n",
       "    <div style=\"background-color:#fff3cd; \n",
       "                color:#856404;\n",
       "                padding: 12px; \n",
       "                border-radius: 8px;\n",
       "                border-left: 4px solid #856404;\n",
       "                margin: 10px 0;\n",
       "                box-shadow: 0 2px 4px rgba(0,0,0,0.1);\">\n",
       "        <div style=\"font-size: 1.1em; margin-bottom: 6px;\">\n",
       "            🔔 <strong>🔍 Metadatos extraídos</strong>\n",
       "        </div>\n",
       "        <div style=\"font-size: 0.95em; margin-left: 24px;\">\n",
       "            <div><strong>Pruebas:</strong>  9</div><div><strong>Pozos:</strong>  97 (únicos: 97)</div><div><strong>Genes:</strong>  96 (únicos: 93)</div><div><strong>Ejemplo gen:</strong>  hsa-let-7a-5p</div>\n",
       "        </div>\n",
       "    </div>\n",
       "    "
      ],
      "text/plain": [
       "<IPython.core.display.HTML object>"
      ]
     },
     "metadata": {},
     "output_type": "display_data"
    },
    {
     "data": {
      "text/html": [
       "\n",
       "    <div style=\"background-color:#fff3cd; \n",
       "                color:#856404;\n",
       "                padding: 12px; \n",
       "                border-radius: 8px;\n",
       "                border-left: 4px solid #856404;\n",
       "                margin: 10px 0;\n",
       "                box-shadow: 0 2px 4px rgba(0,0,0,0.1);\">\n",
       "        <div style=\"font-size: 1.1em; margin-bottom: 6px;\">\n",
       "            🔔 <strong>🧪 Clasificación CT</strong>\n",
       "        </div>\n",
       "        <div style=\"font-size: 0.95em; margin-left: 24px;\">\n",
       "            <div><strong>Controles:</strong>  3 pruebas</div><div><strong>Muestras:</strong>  5 pruebas</div><div><strong>Omitidos:</strong>  0 ítems</div><div><strong>Ejemplo Control:</strong>  7BSC-158...</div><div><strong>Ejemplo Muestra:</strong>  3CM-161...</div>\n",
       "        </div>\n",
       "    </div>\n",
       "    "
      ],
      "text/plain": [
       "<IPython.core.display.HTML object>"
      ]
     },
     "metadata": {},
     "output_type": "display_data"
    },
    {
     "data": {
      "text/html": [
       "\n",
       "    <div style=\"background-color:#fff3cd; \n",
       "                color:#856404;\n",
       "                padding: 12px; \n",
       "                border-radius: 8px;\n",
       "                border-left: 4px solid #856404;\n",
       "                margin: 10px 0;\n",
       "                box-shadow: 0 2px 4px rgba(0,0,0,0.1);\">\n",
       "        <div style=\"font-size: 1.1em; margin-bottom: 6px;\">\n",
       "            🔔 <strong>📊 Resumen Final</strong>\n",
       "        </div>\n",
       "        <div style=\"font-size: 0.95em; margin-left: 24px;\">\n",
       "            <div><strong>Total pruebas:</strong>  9</div><div><strong>Pozos válidos:</strong>  97</div><div><strong>miRNAS únicos:</strong>  93</div><div><strong>Datos controles:</strong>  288 registros</div><div><strong>Datos muestras:</strong>  480 registros</div>\n",
       "        </div>\n",
       "    </div>\n",
       "    "
      ],
      "text/plain": [
       "<IPython.core.display.HTML object>"
      ]
     },
     "metadata": {},
     "output_type": "display_data"
    },
    {
     "data": {
      "text/html": [
       "\n",
       "    <div style=\"background-color:#eaf4ea; \n",
       "                color:#2e6637;\n",
       "                padding: 12px; \n",
       "                border-radius: 8px;\n",
       "                border-left: 4px solid #2e6637;\n",
       "                margin: 10px 0;\n",
       "                box-shadow: 0 2px 4px rgba(0,0,0,0.1);\">\n",
       "        <div style=\"font-size: 1.1em; margin-bottom: 6px;\">\n",
       "            🧬 <strong>Procesamiento completado ✓</strong>\n",
       "        </div>\n",
       "        <div style=\"font-size: 0.95em; margin-left: 24px;\">\n",
       "            \n",
       "        </div>\n",
       "    </div>\n",
       "    "
      ],
      "text/plain": [
       "<IPython.core.display.HTML object>"
      ]
     },
     "metadata": {},
     "output_type": "display_data"
    }
   ],
   "source": [
    "import pandas as pd\n",
    "import numpy as np\n",
    "from pathlib import Path\n",
    "from IPython.display import display, Markdown\n",
    "from messaging import (alert_message, error_message,\n",
    "                      success_message, resume_message)\n",
    "\n",
    "# ==================================================\n",
    "# FUNCIÓN DE CARGA DE DATOS MEJORADA\n",
    "# ==================================================\n",
    "def cargar_datos_excel(ruta):\n",
    "    \"\"\"\n",
    "    Carga un archivo Excel con manejo robusto de errores y resumen automático\n",
    "    \"\"\"\n",
    "    try:\n",
    "        df = pd.read_excel(ruta, engine='openpyxl')\n",
    "\n",
    "        # Resumen detallado del archivo cargado\n",
    "        resume_message({\n",
    "            \"Archivo\": Path(ruta).name,\n",
    "            \"Formato\": f\"{df.shape[0]} filas × {df.shape[1]} columnas\",\n",
    "            \"Memoria\": f\"{df.memory_usage().sum() / 1024**2:.2f} MB\",\n",
    "            \"Columnas\": \", \".join(df.columns[:3]) + (\"...\" if len(df.columns)>3 else \"\")\n",
    "        }, title=\"📦 Datos cargados\")\n",
    "\n",
    "        return df\n",
    "\n",
    "    except FileNotFoundError:\n",
    "        error_message(f\"Archivo no encontrado: {ruta}\")\n",
    "    except Exception as e:\n",
    "        error_message(f\"Error en carga: {str(e)}\")\n",
    "    return None\n",
    "\n",
    "# ==================================================\n",
    "# FUNCIÓN DE EXTRACCIÓN DE METADATOS\n",
    "# ==================================================\n",
    "def extraer_informacion_cg(df: pd.DataFrame) -> tuple:\n",
    "    \"\"\"Extrae metadatos clave con validación integrada\"\"\"\n",
    "    if df.shape[0] < 4 or df.shape[1] < 2:\n",
    "        alert_message(\"Formato inválido: Mínimo 4 filas × 2 columnas requeridas\")\n",
    "        return [], [], []\n",
    "\n",
    "    test_names = df.iloc[0].dropna().astype(str).tolist()\n",
    "    pozos = df.iloc[2:, 0].dropna().astype(str).tolist()\n",
    "    genes = df.iloc[3:, 1].dropna().astype(str).tolist()\n",
    "\n",
    "    # Resumen estadístico de la extracción\n",
    "    resume_message({\n",
    "        \"Pruebas\": len(test_names),\n",
    "        \"Pozos\": f\"{len(pozos)} (únicos: {len(set(pozos))})\",\n",
    "        \"Genes\": f\"{len(genes)} (únicos: {len(set(genes))})\",\n",
    "        \"Ejemplo gen\": genes[0] if genes else \"N/A\"\n",
    "    }, title=\"🔍 Metadatos extraídos\")\n",
    "\n",
    "    return test_names, pozos, genes\n",
    "\n",
    "# ==================================================\n",
    "# PROCESAMIENTO DE VALORES CT (OPTIMIZADO)\n",
    "# ==================================================\n",
    "def procesar_ct(df: pd.DataFrame, genes: list,\n",
    "               nombre_controles: str, nombre_muestras: str) -> tuple:\n",
    "    \"\"\"Clasificación inteligente de datos CT con reporte automático\"\"\"\n",
    "    if len(df) <= 2:\n",
    "        alert_message(\"Insuficientes filas para procesar CT\")\n",
    "        return pd.DataFrame(), pd.DataFrame()\n",
    "\n",
    "    fila_ct = df.iloc[2]\n",
    "    if \"CT\" not in fila_ct.values:\n",
    "        alert_message(\"No se encontraron columnas con valores CT\")\n",
    "        return pd.DataFrame(), pd.DataFrame()\n",
    "\n",
    "    clasificacion = {\n",
    "        'controles': [],\n",
    "        'muestras': [],\n",
    "        'omitidos': []\n",
    "    }\n",
    "\n",
    "    # Contenedores para DataFrames\n",
    "    controles_list = []\n",
    "    muestras_list = []\n",
    "\n",
    "    for idx in np.where(fila_ct == \"CT\")[0]:\n",
    "        nombre_test = str(df.iloc[0, idx]) if idx < df.shape[1] else f\"Test_{idx}\"\n",
    "\n",
    "        # Construcción correcta de los DataFrames\n",
    "        df_temp = pd.DataFrame({\n",
    "            'test': [nombre_test] * len(genes),\n",
    "            'target': genes,\n",
    "            'ct': df.iloc[3:, idx].tolist()\n",
    "        })\n",
    "\n",
    "        if nombre_test.startswith(nombre_controles):\n",
    "            clasificacion['controles'].append(nombre_test)\n",
    "            controles_list.append(df_temp)\n",
    "        elif nombre_test.startswith(nombre_muestras):\n",
    "            clasificacion['muestras'].append(nombre_test)\n",
    "            muestras_list.append(df_temp)\n",
    "        else:\n",
    "            clasificacion['omitidos'].append(nombre_test)\n",
    "\n",
    "    # Generación de reporte de clasificación\n",
    "    resume_message({\n",
    "        \"Controles\": f\"{len(clasificacion['controles'])} pruebas\",\n",
    "        \"Muestras\": f\"{len(clasificacion['muestras'])} pruebas\",\n",
    "        \"Omitidos\": f\"{len(clasificacion['omitidos'])} ítems\",\n",
    "        \"Ejemplo Control\": clasificacion['controles'][0][:20] + \"...\" if clasificacion['controles'] else \"N/A\",\n",
    "        \"Ejemplo Muestra\": clasificacion['muestras'][0][:20] + \"...\" if clasificacion['muestras'] else \"N/A\"\n",
    "    }, title=\"🧪 Clasificación CT\")\n",
    "\n",
    "    if clasificacion['omitidos']:\n",
    "        alert_message(f\"Datos omitidos: {', '.join(clasificacion['omitidos'][:3])}{'...' if len(clasificacion['omitidos'])>3 else ''}\")\n",
    "\n",
    "    # Concatenación correcta de los datos\n",
    "    controles_df = pd.concat(controles_list, ignore_index=True) if controles_list else pd.DataFrame()\n",
    "    muestras_df = pd.concat(muestras_list, ignore_index=True) if muestras_list else pd.DataFrame()\n",
    "\n",
    "    return controles_df, muestras_df\n",
    "\n",
    "# ==================================================\n",
    "# FLUJO PRINCIPAL (CON REPORTES INTEGRADOS)\n",
    "# ==================================================\n",
    "def flujo_procesamiento(ruta_archivo: str,\n",
    "                       nombre_controles = nombre_controles,\n",
    "                       nombre_muestras = nombre_muestras) -> dict:\n",
    "    \"\"\"\n",
    "    Pipeline completo con telemetría mejorada\n",
    "    Devuelve: {\n",
    "        'metadata': dict,\n",
    "        'dataframes': dict,\n",
    "        'stats': dict\n",
    "    }\n",
    "    \"\"\"\n",
    "    # Etapa 1: Carga inteligente\n",
    "    df = cargar_datos_excel(ruta_archivo)\n",
    "    if df is None:\n",
    "        raise SystemExit(\"Error crítico: Carga de datos fallida\")\n",
    "\n",
    "    # Etapa 2: Extracción de metadatos\n",
    "    test_names, pozos, genes = extraer_informacion_cg(df)\n",
    "\n",
    "    # Etapa 3: Procesamiento CT\n",
    "    controles_df, muestras_df = procesar_ct(df, genes, nombre_controles, nombre_muestras)\n",
    "\n",
    "    # Reporte consolidado final\n",
    "    resume_message({\n",
    "        \"Total pruebas\": len(test_names),\n",
    "        \"Pozos válidos\": len(pozos),\n",
    "        \"miRNAS únicos\": len(set(genes)),\n",
    "        \"Datos controles\": f\"{len(controles_df)} registros\" if not controles_df.empty else \"0 (⚠️)\",\n",
    "        \"Datos muestras\": f\"{len(muestras_df)} registros\" if not muestras_df.empty else \"0 (⚠️)\"\n",
    "    }, title=\"📊 Resumen Final\")\n",
    "\n",
    "    success_message(\"Procesamiento completado ✓\")\n",
    "\n",
    "    return {\n",
    "        'metadata': {\n",
    "            'tests': test_names,\n",
    "            'pozos': pozos,\n",
    "            'genes': genes\n",
    "        },\n",
    "        'dataframes': {\n",
    "            'controles': controles_df,\n",
    "            'muestras': muestras_df\n",
    "        },\n",
    "        'stats': {\n",
    "            'total_ct': len(controles_df) + len(muestras_df),\n",
    "            'genes_unicos': len(set(genes))\n",
    "        }\n",
    "    }\n",
    "\n",
    "resultados = flujo_procesamiento(ruta_archivo)\n",
    "\n",
    "# Asignamos los DataFrames resultantes para su uso posterior.\n",
    "\n",
    "controles_df = resultados['dataframes']['controles']\n",
    "muestras_df = resultados['dataframes']['muestras']\n"
   ]
  },
  {
   "cell_type": "code",
   "execution_count": 5,
   "metadata": {},
   "outputs": [
    {
     "data": {
      "application/vnd.microsoft.datawrangler.viewer.v0+json": {
       "columns": [
        {
         "name": "index",
         "rawType": "int64",
         "type": "integer"
        },
        {
         "name": "test",
         "rawType": "object",
         "type": "string"
        },
        {
         "name": "target",
         "rawType": "object",
         "type": "string"
        },
        {
         "name": "ct",
         "rawType": "float64",
         "type": "float"
        }
       ],
       "conversionMethod": "pd.DataFrame",
       "ref": "d3e4946b-9f51-46af-beac-a28c3438e354",
       "rows": [
        [
         "0",
         "7BSC-158",
         "hsa-let-7a-5p",
         null
        ],
        [
         "1",
         "7BSC-158",
         "hsa-miR-1-3p",
         null
        ],
        [
         "2",
         "7BSC-158",
         "hsa-miR-100-5p",
         "43.38"
        ],
        [
         "3",
         "7BSC-158",
         "hsa-miR-106b-5p",
         null
        ],
        [
         "4",
         "7BSC-158",
         "hsa-miR-10b-5p",
         "43.55"
        ]
       ],
       "shape": {
        "columns": 3,
        "rows": 5
       }
      },
      "text/html": [
       "<div>\n",
       "<style scoped>\n",
       "    .dataframe tbody tr th:only-of-type {\n",
       "        vertical-align: middle;\n",
       "    }\n",
       "\n",
       "    .dataframe tbody tr th {\n",
       "        vertical-align: top;\n",
       "    }\n",
       "\n",
       "    .dataframe thead th {\n",
       "        text-align: right;\n",
       "    }\n",
       "</style>\n",
       "<table border=\"1\" class=\"dataframe\">\n",
       "  <thead>\n",
       "    <tr style=\"text-align: right;\">\n",
       "      <th></th>\n",
       "      <th>test</th>\n",
       "      <th>target</th>\n",
       "      <th>ct</th>\n",
       "    </tr>\n",
       "  </thead>\n",
       "  <tbody>\n",
       "    <tr>\n",
       "      <th>0</th>\n",
       "      <td>7BSC-158</td>\n",
       "      <td>hsa-let-7a-5p</td>\n",
       "      <td>NaN</td>\n",
       "    </tr>\n",
       "    <tr>\n",
       "      <th>1</th>\n",
       "      <td>7BSC-158</td>\n",
       "      <td>hsa-miR-1-3p</td>\n",
       "      <td>NaN</td>\n",
       "    </tr>\n",
       "    <tr>\n",
       "      <th>2</th>\n",
       "      <td>7BSC-158</td>\n",
       "      <td>hsa-miR-100-5p</td>\n",
       "      <td>43.38</td>\n",
       "    </tr>\n",
       "    <tr>\n",
       "      <th>3</th>\n",
       "      <td>7BSC-158</td>\n",
       "      <td>hsa-miR-106b-5p</td>\n",
       "      <td>NaN</td>\n",
       "    </tr>\n",
       "    <tr>\n",
       "      <th>4</th>\n",
       "      <td>7BSC-158</td>\n",
       "      <td>hsa-miR-10b-5p</td>\n",
       "      <td>43.55</td>\n",
       "    </tr>\n",
       "  </tbody>\n",
       "</table>\n",
       "</div>"
      ],
      "text/plain": [
       "       test           target     ct\n",
       "0  7BSC-158    hsa-let-7a-5p    NaN\n",
       "1  7BSC-158     hsa-miR-1-3p    NaN\n",
       "2  7BSC-158   hsa-miR-100-5p  43.38\n",
       "3  7BSC-158  hsa-miR-106b-5p    NaN\n",
       "4  7BSC-158   hsa-miR-10b-5p  43.55"
      ]
     },
     "execution_count": 5,
     "metadata": {},
     "output_type": "execute_result"
    }
   ],
   "source": [
    "controles_df.head()"
   ]
  },
  {
   "cell_type": "markdown",
   "metadata": {
    "id": "SdgFuV9SDyv4"
   },
   "source": []
  },
  {
   "cell_type": "markdown",
   "metadata": {
    "id": "-gOKj6oCZubQ"
   },
   "source": [
    "### Procesamiento de valores Ct indeterminados\n",
    "\n",
    "Esta sección del código se encarga de procesar los valores de **Ct** en los dataframes de controles y muestras, reemplazando valores indeterminados y asegurando que la columna de Ct esté en formato numérico adecuado, si hay datos faltantes estos se eliminan para no agregar ruido a los cálculos"
   ]
  },
  {
   "cell_type": "code",
   "execution_count": 6,
   "metadata": {
    "executionInfo": {
     "elapsed": 529,
     "status": "aborted",
     "timestamp": 1742954402951,
     "user": {
      "displayName": "Sergio CFS",
      "userId": "11626938599988753511"
     },
     "user_tz": 360
    },
    "id": "yGYJyF36ZubQ"
   },
   "outputs": [
    {
     "data": {
      "text/markdown": [
       "### Procesamiento completado"
      ],
      "text/plain": [
       "<IPython.core.display.Markdown object>"
      ]
     },
     "metadata": {},
     "output_type": "display_data"
    },
    {
     "data": {
      "text/markdown": [
       "- Valor máximo usado para imputación: **44.89**"
      ],
      "text/plain": [
       "<IPython.core.display.Markdown object>"
      ]
     },
     "metadata": {},
     "output_type": "display_data"
    },
    {
     "data": {
      "text/html": [
       "\n",
       "    <div style=\"background-color:#eaf4ea; \n",
       "                color:#2e6637;\n",
       "                padding: 12px; \n",
       "                border-radius: 8px;\n",
       "                border-left: 4px solid #2e6637;\n",
       "                margin: 10px 0;\n",
       "                box-shadow: 0 2px 4px rgba(0,0,0,0.1);\">\n",
       "        <div style=\"font-size: 1.1em; margin-bottom: 6px;\">\n",
       "            🧬 <strong>Procesamiento de valores de Ct finalizado</strong>\n",
       "        </div>\n",
       "        <div style=\"font-size: 0.95em; margin-left: 24px;\">\n",
       "            \n",
       "        </div>\n",
       "    </div>\n",
       "    "
      ],
      "text/plain": [
       "<IPython.core.display.HTML object>"
      ]
     },
     "metadata": {},
     "output_type": "display_data"
    }
   ],
   "source": [
    "import pandas as pd\n",
    "from IPython.display import display, Markdown\n",
    "\n",
    "def procesar_ct_column(df1, df2, columna_ct='ct'):\n",
    "    \"\"\"\n",
    "    Imputa 'Undetermined' y valores faltantes con el valor máximo encontrado en ambas columnas Ct.\n",
    "\n",
    "    Args:\n",
    "        df1, df2: DataFrames con columna 'ct'\n",
    "        columna_ct: nombre de la columna Ct\n",
    "\n",
    "    Returns:\n",
    "        df1, df2: con imputación lista\n",
    "    \"\"\"\n",
    "    def procesar(df, columna):\n",
    "        # Reemplazar 'Undetermined' por NaN\n",
    "        df[columna] = df[columna].replace('Undetermined', pd.NA)\n",
    "        df[columna] = pd.to_numeric(df[columna], errors='coerce')\n",
    "        return df\n",
    "\n",
    "    # Paso 1: Reemplazo y conversión\n",
    "    df1 = procesar(df1, columna_ct)\n",
    "    df2 = procesar(df2, columna_ct)\n",
    "\n",
    "    # Paso 2: Encontrar el valor máximo observado entre ambos DF (sin contar NaN)\n",
    "    valor_maximo = pd.concat([df1[columna_ct], df2[columna_ct]]).max()\n",
    "\n",
    "    # Paso 3: Imputar NaNs con ese valor\n",
    "    df1[columna_ct] = df1[columna_ct].fillna(valor_maximo)\n",
    "    df2[columna_ct] = df2[columna_ct].fillna(valor_maximo)\n",
    "\n",
    "    # Paso 4: Mostrar resumen\n",
    "    display(Markdown(\"### Procesamiento completado\"))\n",
    "    display(Markdown(f\"- Valor máximo usado para imputación: **{valor_maximo}**\"))\n",
    "    return df1, df2\n",
    "\n",
    "# Procesamos los DataFrames de controles y muestras\n",
    "try:\n",
    "    controles_df, muestras_df = procesar_ct_column(controles_df, muestras_df)\n",
    "    success_message(\"Procesamiento de valores de Ct finalizado\")\n",
    "except Exception as e:\n",
    "    error_message(f\"Ocurrió un error en el procesamiento de valores de Ct: {e}\")\n",
    "\n"
   ]
  },
  {
   "cell_type": "markdown",
   "metadata": {
    "id": "XIO1I1SHZubR"
   },
   "source": [
    "### Filtrado de controles de máquina y concatenación de datos\n",
    "\n",
    "En esta sección del código se realiza el filtrado de los controles de máquina de los dataframes y la concatenación de los resultados para obtener un dataframe combinado que clasifica las filas según su tipo (control o muestra).\n"
   ]
  },
  {
   "cell_type": "code",
   "execution_count": 7,
   "metadata": {
    "executionInfo": {
     "elapsed": 525,
     "status": "aborted",
     "timestamp": 1742954402953,
     "user": {
      "displayName": "Sergio CFS",
      "userId": "11626938599988753511"
     },
     "user_tz": 360
    },
    "id": "wDpahU-SZubR"
   },
   "outputs": [
    {
     "data": {
      "text/markdown": [
       "### Filtrado de controles de máquina para los datos en controles"
      ],
      "text/plain": [
       "<IPython.core.display.Markdown object>"
      ]
     },
     "metadata": {},
     "output_type": "display_data"
    },
    {
     "data": {
      "text/html": [
       "\n",
       "    <div style=\"background-color:#fff3cd; \n",
       "                color:#856404;\n",
       "                padding: 12px; \n",
       "                border-radius: 8px;\n",
       "                border-left: 4px solid #856404;\n",
       "                margin: 10px 0;\n",
       "                box-shadow: 0 2px 4px rgba(0,0,0,0.1);\">\n",
       "        <div style=\"font-size: 1.1em; margin-bottom: 6px;\">\n",
       "            💊 <strong>Controles de máquina a eliminar</strong>\n",
       "        </div>\n",
       "        <div style=\"font-size: 0.95em; margin-left: 24px;\">\n",
       "            PPC, RTC, miRTC\n",
       "        </div>\n",
       "    </div>\n",
       "    "
      ],
      "text/plain": [
       "<IPython.core.display.HTML object>"
      ]
     },
     "metadata": {},
     "output_type": "display_data"
    },
    {
     "data": {
      "text/html": [
       "\n",
       "    <div style=\"background-color:#eaf4ea; \n",
       "                color:#2e6637;\n",
       "                padding: 12px; \n",
       "                border-radius: 8px;\n",
       "                border-left: 4px solid #2e6637;\n",
       "                margin: 10px 0;\n",
       "                box-shadow: 0 2px 4px rgba(0,0,0,0.1);\">\n",
       "        <div style=\"font-size: 1.1em; margin-bottom: 6px;\">\n",
       "            🧬 <strong>Filas eliminadas con controles de máquina</strong>\n",
       "        </div>\n",
       "        <div style=\"font-size: 0.95em; margin-left: 24px;\">\n",
       "            \n",
       "        </div>\n",
       "    </div>\n",
       "    "
      ],
      "text/plain": [
       "<IPython.core.display.HTML object>"
      ]
     },
     "metadata": {},
     "output_type": "display_data"
    },
    {
     "data": {
      "text/markdown": [
       "### Filtrado de controles de máquina para los datos en muestras"
      ],
      "text/plain": [
       "<IPython.core.display.Markdown object>"
      ]
     },
     "metadata": {},
     "output_type": "display_data"
    },
    {
     "data": {
      "text/html": [
       "\n",
       "    <div style=\"background-color:#fff3cd; \n",
       "                color:#856404;\n",
       "                padding: 12px; \n",
       "                border-radius: 8px;\n",
       "                border-left: 4px solid #856404;\n",
       "                margin: 10px 0;\n",
       "                box-shadow: 0 2px 4px rgba(0,0,0,0.1);\">\n",
       "        <div style=\"font-size: 1.1em; margin-bottom: 6px;\">\n",
       "            💊 <strong>Controles de máquina a eliminar</strong>\n",
       "        </div>\n",
       "        <div style=\"font-size: 0.95em; margin-left: 24px;\">\n",
       "            PPC, RTC, miRTC\n",
       "        </div>\n",
       "    </div>\n",
       "    "
      ],
      "text/plain": [
       "<IPython.core.display.HTML object>"
      ]
     },
     "metadata": {},
     "output_type": "display_data"
    },
    {
     "data": {
      "text/html": [
       "\n",
       "    <div style=\"background-color:#eaf4ea; \n",
       "                color:#2e6637;\n",
       "                padding: 12px; \n",
       "                border-radius: 8px;\n",
       "                border-left: 4px solid #2e6637;\n",
       "                margin: 10px 0;\n",
       "                box-shadow: 0 2px 4px rgba(0,0,0,0.1);\">\n",
       "        <div style=\"font-size: 1.1em; margin-bottom: 6px;\">\n",
       "            🧬 <strong>Filas eliminadas con controles de máquina</strong>\n",
       "        </div>\n",
       "        <div style=\"font-size: 0.95em; margin-left: 24px;\">\n",
       "            \n",
       "        </div>\n",
       "    </div>\n",
       "    "
      ],
      "text/plain": [
       "<IPython.core.display.HTML object>"
      ]
     },
     "metadata": {},
     "output_type": "display_data"
    },
    {
     "data": {
      "text/html": [
       "\n",
       "    <div style=\"background-color:#e0f2f1; \n",
       "                color:#00695c;\n",
       "                padding: 12px; \n",
       "                border-radius: 8px;\n",
       "                border-left: 4px solid #00695c;\n",
       "                margin: 10px 0;\n",
       "                box-shadow: 0 2px 4px rgba(0,0,0,0.1);\">\n",
       "        <div style=\"font-size: 1.1em; margin-bottom: 6px;\">\n",
       "            💾 <strong>Archivo exportado</strong>\n",
       "        </div>\n",
       "        <div style=\"font-size: 0.95em; margin-left: 24px;\">\n",
       "            Datos limpios de controles y muestras.xlsx Datos limpios de controles y muestras: Archivo que contiene los datos de controles y muestras limpios, sin valores nulos ni controles de máquina.\n",
       "        </div>\n",
       "    </div>\n",
       "    "
      ],
      "text/plain": [
       "<IPython.core.display.HTML object>"
      ]
     },
     "metadata": {},
     "output_type": "display_data"
    },
    {
     "data": {
      "text/plain": [
       "PosixPath('../resultados/miRNAs/Cáncer y TEM/miRNA de referencia/Breast Cancer/Datos limpios de controles y muestras.xlsx')"
      ]
     },
     "execution_count": 7,
     "metadata": {},
     "output_type": "execute_result"
    }
   ],
   "source": [
    "def filtrar_controles_maquina(df, columna_target='target', controles_maquina=None):\n",
    "    \"\"\"\n",
    "    Filtra las filas de un DataFrame eliminando aquellas que contienen controles de máquina,\n",
    "    definidos como aquellos cuyo valor en la columna 'columna_target' comienza con alguno\n",
    "    de los prefijos especificados en controles_maquina.\n",
    "\n",
    "    Args:\n",
    "        df (pd.DataFrame): DataFrame que contiene los datos a filtrar.\n",
    "        columna_target (str): Nombre de la columna que contiene los targets (por defecto, 'target').\n",
    "        controles_maquina (list, opcional): Lista de prefijos de controles de máquina a eliminar.\n",
    "            Si no se proporciona, se utilizará la lista por defecto: ['PPC', 'RTC'].\n",
    "\n",
    "    Returns:\n",
    "        pd.DataFrame: DataFrame filtrado sin los controles de máquina.\n",
    "    \"\"\"\n",
    "    # Lista por defecto de controles de máquina si no se proporciona\n",
    "    if controles_maquina is None:\n",
    "        controles_maquina = ['PPC', 'RTC', 'miRTC']\n",
    "\n",
    "    alert_message(f\"Controles de máquina a eliminar: {', '.join(controles_maquina)}\")\n",
    "\n",
    "    # Filtrado del DataFrame eliminando los controles de máquina que comienzan con alguno de los prefijos\n",
    "    df_filtrado = df[~df[columna_target].str.startswith(tuple(controles_maquina))]\n",
    "    success_message(\"Filas eliminadas con controles de máquina\")\n",
    "\n",
    "    return df_filtrado\n",
    "\n",
    "# Filtrar los controles de máquina de los DataFrames\n",
    "display(Markdown(\"### Filtrado de controles de máquina para los datos en controles\"))\n",
    "controles_df = filtrar_controles_maquina(controles_df)\n",
    "display(Markdown(\"### Filtrado de controles de máquina para los datos en muestras\"))\n",
    "muestras_df = filtrar_controles_maquina(muestras_df)\n",
    "\n",
    "# Añadir columna para identificar el tipo de cada fila\n",
    "controles_df = controles_df.assign(tipo='Control')\n",
    "muestras_df = muestras_df.assign(tipo='Muestra')\n",
    "\n",
    "export_dfs_to_excel(\n",
    "    [controles_df, muestras_df],\n",
    "    [\"datos_control_limpio\", \"datos_muestras_limpio\"],\n",
    "    \"Datos limpios de controles y muestras: Archivo que contiene los datos de controles y muestras limpios, sin valores nulos ni controles de máquina.\", ruta_resultados\n",
    ")"
   ]
  },
  {
   "cell_type": "markdown",
   "metadata": {
    "id": "nZxt1VlIZubR"
   },
   "source": [
    "## Procesamiento de datos\n",
    "\n",
    "### Análisis de expresión génica mediante CT y Fold Change utilizando las metodologías promedio CT de un gen de referencia y promedio global\n",
    "\n",
    "#### Método con gen de referencia\n",
    "\n",
    "1. Promedio de Ct para cada gen:\n",
    "\n",
    "$$\\text{Promedio } Ct_{\\text{gen de referencia}} \\hspace{5pt}= \\frac{Ct_1 + Ct_2 + Ct_3 + ... +Ct_n}{n}$$\n",
    "\n",
    "2. ΔCt para cada condición:\n",
    "\n",
    "$$\\Delta Ct = \\text{Promedio } Ct_{\\text{gen de interés}} \\hspace{5pt}- \\text{Promedio } Ct_{\\text{gen de referencia}}$$\n",
    "\n",
    "3. ΔΔCt:\n",
    "\n",
    "$$\\Delta\\Delta Ct = \\Delta Ct_{\\text{muestra}} - \\Delta Ct_{\\text{control}}\n",
    "$$\n",
    "\n",
    "4. Fold Change:\n",
    "\n",
    "$$\\text{Fold Change} = 2^{-\\Delta\\Delta Ct}$$\n",
    "\n",
    "#### Métdodo con promedio global\n",
    "\n",
    "1. Promedio de Ct para cada gen:\n",
    "\n",
    "$$\n",
    "\\text{Promedio } Ct_{\\text{gen}} = \\frac{Ct_1 + Ct_2 + Ct_3 + ... + Ct_n}{n}\n",
    "$$\n",
    "\n",
    "2. Promedio global de Ct para cada condición\n",
    "\n",
    "$$\n",
    "\\text{Promedio global } Ct_{\\text{condición}} \\hspace{5pt}= \\frac{\\sum \\text{Promedio } Ct_{\\text{gen}}}{N}\n",
    "$$\n",
    "\n",
    "3. ΔCt para cada gen:\n",
    "\n",
    "$$\n",
    "\\Delta Ct_{\\text{gen}} = \\text{Promedio } Ct_{\\text{gen}} - \\text{Promedio global } Ct_{\\text{condición}}\n",
    "$$\n",
    "\n",
    "4. ΔΔCt para cada gen:\n",
    "\n",
    "$$\n",
    "\\Delta\\Delta Ct_{\\text{gen}} = \\Delta Ct_{\\text{gen, tratamiento}} \\hspace{5pt}- \\Delta Ct_{\\text{gen, control}}\n",
    "$$\n",
    "\n",
    "5. Fold Change:\n",
    "\n",
    "$$\n",
    "\\text{Fold Change} = 2^{-\\Delta\\Delta Ct_{\\text{gen}}}\n",
    "$$"
   ]
  },
  {
   "cell_type": "code",
   "execution_count": 8,
   "metadata": {
    "executionInfo": {
     "elapsed": 519,
     "status": "aborted",
     "timestamp": 1742954402954,
     "user": {
      "displayName": "Sergio CFS",
      "userId": "11626938599988753511"
     },
     "user_tz": 360
    },
    "id": "lGTTOhFJZubS"
   },
   "outputs": [
    {
     "data": {
      "text/html": [
       "\n",
       "    <div style=\"background-color:#fff3cd; \n",
       "                color:#856404;\n",
       "                padding: 12px; \n",
       "                border-radius: 8px;\n",
       "                border-left: 4px solid #856404;\n",
       "                margin: 10px 0;\n",
       "                box-shadow: 0 2px 4px rgba(0,0,0,0.1);\">\n",
       "        <div style=\"font-size: 1.1em; margin-bottom: 6px;\">\n",
       "            💊 <strong>miRNA de referencia seleccionado</strong>\n",
       "        </div>\n",
       "        <div style=\"font-size: 0.95em; margin-left: 24px;\">\n",
       "            SNORD68\n",
       "        </div>\n",
       "    </div>\n",
       "    "
      ],
      "text/plain": [
       "<IPython.core.display.HTML object>"
      ]
     },
     "metadata": {},
     "output_type": "display_data"
    },
    {
     "data": {
      "text/html": [
       "\n",
       "    <div style=\"background-color:#eaf4ea; \n",
       "                color:#2e6637;\n",
       "                padding: 12px; \n",
       "                border-radius: 8px;\n",
       "                border-left: 4px solid #2e6637;\n",
       "                margin: 10px 0;\n",
       "                box-shadow: 0 2px 4px rgba(0,0,0,0.1);\">\n",
       "        <div style=\"font-size: 1.1em; margin-bottom: 6px;\">\n",
       "            🧬 <strong>Cálculo de fold change finalizado 🚀</strong>\n",
       "        </div>\n",
       "        <div style=\"font-size: 0.95em; margin-left: 24px;\">\n",
       "            \n",
       "        </div>\n",
       "    </div>\n",
       "    "
      ],
      "text/plain": [
       "<IPython.core.display.HTML object>"
      ]
     },
     "metadata": {},
     "output_type": "display_data"
    },
    {
     "data": {
      "text/html": [
       "\n",
       "    <div style=\"background-color:#e0f2f1; \n",
       "                color:#00695c;\n",
       "                padding: 12px; \n",
       "                border-radius: 8px;\n",
       "                border-left: 4px solid #00695c;\n",
       "                margin: 10px 0;\n",
       "                box-shadow: 0 2px 4px rgba(0,0,0,0.1);\">\n",
       "        <div style=\"font-size: 1.1em; margin-bottom: 6px;\">\n",
       "            💾 <strong>Archivo exportado</strong>\n",
       "        </div>\n",
       "        <div style=\"font-size: 0.95em; margin-left: 24px;\">\n",
       "            Calculo de fold change.xlsx Calculo de fold change: Archivo que contiene los cálculos realizados y los valores de fold change por método.\n",
       "        </div>\n",
       "    </div>\n",
       "    "
      ],
      "text/plain": [
       "<IPython.core.display.HTML object>"
      ]
     },
     "metadata": {},
     "output_type": "display_data"
    },
    {
     "data": {
      "text/plain": [
       "PosixPath('../resultados/miRNAs/Cáncer y TEM/miRNA de referencia/Breast Cancer/Calculo de fold change.xlsx')"
      ]
     },
     "execution_count": 8,
     "metadata": {},
     "output_type": "execute_result"
    }
   ],
   "source": [
    "from typing import Tuple\n",
    "import pandas as pd\n",
    "\n",
    "def calcular_fold_change(\n",
    "    controles: pd.DataFrame,\n",
    "    muestras: pd.DataFrame\n",
    ") -> Tuple[pd.DataFrame, pd.DataFrame, pd.DataFrame]:\n",
    "    \"\"\"\n",
    "    Calcula el fold change usando los dataframes de controles y muestras.\n",
    "\n",
    "\n",
    "    1. Agrupamos los datos por 'target' y calculamos la media y la desviación estándar (CT).\n",
    "    2. Calculamos los delta CT comparando cada gen con el promedio general.\n",
    "    3. Seleccionamos el gen más estable: el que tiene la menor variabilidad (promedio de desviaciones).\n",
    "    4. Utilizamos este gen de referencia para normalizar y obtener el fold change.\n",
    "    \"\"\"\n",
    "\n",
    "    # Función auxiliar para procesar cada grupo (controles o muestras) 🧪📊\n",
    "    def procesar_grupo(df: pd.DataFrame, grupo: str) -> pd.DataFrame:\n",
    "        # Agrupamos por gen y calculamos estadísticas básicas\n",
    "        stats = df.groupby('target', as_index=False).agg(\n",
    "            ct_promedio=('ct', 'mean'),\n",
    "            ct_std=('ct', 'std')\n",
    "        ).rename(columns={\n",
    "            'ct_promedio': f'ct_promedio_{grupo}',\n",
    "            'ct_std': f'ct_std_{grupo}'\n",
    "        })\n",
    "        return stats\n",
    "\n",
    "    # Procesamos los dataframes de controles y muestras\n",
    "    stats_controles = procesar_grupo(controles, 'controles')\n",
    "    stats_muestras = procesar_grupo(muestras, 'muestras')\n",
    "\n",
    "    # Calculamos el promedio general de CT para cada grupo 📈\n",
    "    stats_controles['promedio_general_controles'] = stats_controles['ct_promedio_controles'].mean()\n",
    "    stats_muestras['promedio_general_muestras'] = stats_muestras['ct_promedio_muestras'].mean()\n",
    "\n",
    "    # Calculamos el delta CT con respecto al promedio general 🧮\n",
    "    stats_controles['delta_ct_promedio_controles'] = stats_controles['ct_promedio_controles'] - stats_controles['promedio_general_controles']\n",
    "    stats_muestras['delta_ct_promedio_muestras'] = stats_muestras['ct_promedio_muestras'] - stats_muestras['promedio_general_muestras']\n",
    "\n",
    "    # Merge inicial de controles y muestras en un solo dataframe 🔀\n",
    "    df_consolidado = pd.merge(\n",
    "        stats_controles,\n",
    "        stats_muestras,\n",
    "        on='target',\n",
    "        how='outer',  # Se mantienen todos los targets 🤝\n",
    "        suffixes=('_controles', '_muestras')\n",
    "    )\n",
    "\n",
    "    # Selección del gen más estable 🔬📉:\n",
    "    # Se define la estabilidad como el promedio de las desviaciones estándar de controles y muestras\n",
    "    df_consolidado['stability'] = (df_consolidado['ct_std_controles'] + df_consolidado['ct_std_muestras']) / 2\n",
    "    gen_mas_estable = df_consolidado.loc[df_consolidado['stability'].idxmin(), 'target']\n",
    "\n",
    "\n",
    "    # Muestra una alerta con el gen de referencia seleccionado 🚨✨\n",
    "    # alert_message debe estar definida en otro lugar con la siguiente estructura:\n",
    "    # def alert_message(text):\n",
    "    #     \"\"\"\n",
    "    #     Muestra un mensaje de alerta.\n",
    "    #\n",
    "    #     Args:\n",
    "    #         text (str): Texto del mensaje.\n",
    "    #     \"\"\"\n",
    "    alert_message(f\"miRNA de referencia seleccionado: {gen_mas_estable} \")\n",
    "\n",
    "    # Cálculo del delta CT respecto al gen de referencia (más estable) 🎯\n",
    "    ref_controles = stats_controles.query(\"target == @gen_mas_estable\")['ct_promedio_controles'].values[0]\n",
    "    ref_muestras = stats_muestras.query(\"target == @gen_mas_estable\")['ct_promedio_muestras'].values[0]\n",
    "\n",
    "    stats_controles['delta_ct_gen_ref_controles'] = stats_controles['ct_promedio_controles'] - ref_controles\n",
    "    stats_muestras['delta_ct_gen_ref_muestras'] = stats_muestras['ct_promedio_muestras'] - ref_muestras\n",
    "\n",
    "    # Merge final para incorporar los cálculos de fold change 🔗\n",
    "    df_consolidado = pd.merge(\n",
    "        stats_controles,\n",
    "        stats_muestras,\n",
    "        on='target',\n",
    "        how='outer',\n",
    "        suffixes=('_controles', '_muestras')\n",
    "    )\n",
    "\n",
    "    # Cálculo del fold change utilizando el método del promedio 📊🏎️\n",
    "    df_consolidado['delta_delta_ct_promedio'] = (\n",
    "        df_consolidado['delta_ct_promedio_muestras'] - df_consolidado['delta_ct_promedio_controles']\n",
    "    )\n",
    "    df_consolidado['fold_change_promedio'] = 2 ** (-df_consolidado['delta_delta_ct_promedio'])\n",
    "\n",
    "    # Cálculo del fold change utilizando el método del gen de referencia 🎯🔢\n",
    "    df_consolidado['delta_delta_ct_gen_ref'] = (\n",
    "        df_consolidado['delta_ct_gen_ref_muestras'] - df_consolidado['delta_ct_gen_ref_controles']\n",
    "    )\n",
    "    df_consolidado['fold_change_gen_ref'] = 2 ** (-df_consolidado['delta_delta_ct_gen_ref'])\n",
    "\n",
    "    # Preparación de dataframes especializados para exportar 📑\n",
    "    cols_promedio = ['target'] + [c for c in df_consolidado.columns if 'promedio' in c]\n",
    "    cols_gen_ref = ['target'] + [c for c in df_consolidado.columns if 'gen_ref' in c]\n",
    "\n",
    "    df_promedios = df_consolidado[cols_promedio].copy()\n",
    "    df_promedios.rename(columns={'fold_change_promedio': 'fold_change'}, inplace=True)\n",
    "    df_gen_ref = df_consolidado[cols_gen_ref].copy()\n",
    "    df_gen_ref.rename(columns={'fold_change_gen_ref': 'fold_change'}, inplace=True)\n",
    "\n",
    "    success_message(\"Cálculo de fold change finalizado 🚀\")\n",
    "\n",
    "    return df_consolidado, df_promedios, df_gen_ref, gen_mas_estable\n",
    "\n",
    "\n",
    "# Ejemplo de uso:\n",
    "# Se asume que controles_df y muestras_df ya están definidos\n",
    "df_consolidado, df_promedios, df_gen_ref, gen_referencia= calcular_fold_change(controles_df, muestras_df)\n",
    "\n",
    "# Exportar todos los dataframes a un archivo Excel 📤📊\n",
    "export_dfs_to_excel(\n",
    "    [df_consolidado, df_promedios, df_gen_ref],\n",
    "    ['consolidado_promedios_y_gen_ref', 'fc_metodo_promedios', 'fc_metodo_gen_ref'],\n",
    "    \"Calculo de fold change: Archivo que contiene los cálculos realizados y los valores de fold change por método.\"\n",
    ")\n",
    "\n"
   ]
  },
  {
   "cell_type": "markdown",
   "metadata": {
    "id": "gf3mOHvgZubS"
   },
   "source": [
    "### Tabla comparativa de métodos de calculo de fold change\n",
    "\n",
    "Este código genera una tabla interactiva en Python usando Plotly. Procesa los valores de \"fold change\" para cada gen y ajusta los estilos de manera dinámica, calculando el ancho de columnas en función del contenido y aplicando colores condicionales según los umbrales definidos. También ajusta la altura de las filas y el layout de la tabla para mejorar la visualización."
   ]
  },
  {
   "cell_type": "code",
   "execution_count": 9,
   "metadata": {
    "executionInfo": {
     "elapsed": 1,
     "status": "aborted",
     "timestamp": 1742954402956,
     "user": {
      "displayName": "Sergio CFS",
      "userId": "11626938599988753511"
     },
     "user_tz": 360
    },
    "id": "KmvEAEwaZubS"
   },
   "outputs": [
    {
     "data": {
      "application/vnd.plotly.v1+json": {
       "config": {
        "plotlyServerURL": "https://plot.ly",
        "responsive": false
       },
       "data": [
        {
         "cells": {
          "align": [
           "left",
           "center",
           "center"
          ],
          "fill": {
           "color": [
            [
             "#EEEEEE",
             "#EEEEEE",
             "#EEEEEE",
             "#EEEEEE",
             "#EEEEEE",
             "#EEEEEE",
             "#EEEEEE",
             "#EEEEEE",
             "#EEEEEE",
             "#EEEEEE",
             "#EEEEEE",
             "#EEEEEE",
             "#EEEEEE",
             "#EEEEEE",
             "#EEEEEE",
             "#EEEEEE",
             "#EEEEEE",
             "#EEEEEE",
             "#EEEEEE",
             "#EEEEEE",
             "#EEEEEE",
             "#EEEEEE",
             "#EEEEEE",
             "#EEEEEE",
             "#EEEEEE",
             "#EEEEEE",
             "#EEEEEE",
             "#EEEEEE",
             "#EEEEEE",
             "#EEEEEE",
             "#EEEEEE",
             "#EEEEEE",
             "#EEEEEE",
             "#EEEEEE",
             "#EEEEEE",
             "#EEEEEE",
             "#EEEEEE",
             "#EEEEEE",
             "#EEEEEE",
             "#EEEEEE",
             "#EEEEEE",
             "#EEEEEE",
             "#EEEEEE",
             "#EEEEEE",
             "#EEEEEE",
             "#EEEEEE",
             "#EEEEEE",
             "#EEEEEE",
             "#EEEEEE",
             "#EEEEEE",
             "#EEEEEE",
             "#EEEEEE",
             "#EEEEEE",
             "#EEEEEE",
             "#EEEEEE",
             "#EEEEEE",
             "#EEEEEE",
             "#EEEEEE",
             "#EEEEEE",
             "#EEEEEE",
             "#EEEEEE",
             "#EEEEEE",
             "#EEEEEE",
             "#EEEEEE",
             "#EEEEEE",
             "#EEEEEE",
             "#EEEEEE",
             "#EEEEEE",
             "#EEEEEE",
             "#EEEEEE",
             "#EEEEEE",
             "#EEEEEE",
             "#EEEEEE",
             "#EEEEEE",
             "#EEEEEE",
             "#EEEEEE",
             "#EEEEEE",
             "#EEEEEE",
             "#EEEEEE",
             "#EEEEEE",
             "#EEEEEE",
             "#EEEEEE",
             "#EEEEEE",
             "#EEEEEE",
             "#EEEEEE",
             "#EEEEEE",
             "#EEEEEE",
             "#EEEEEE",
             "#EEEEEE",
             "#EEEEEE",
             "#EEEEEE"
            ],
            [
             "#FFCCE1",
             "#FFFBCA",
             "#FFCCE1",
             "#FFCCE1",
             "#FFCCE1",
             "#FFCCE1",
             "#FFCCE1",
             "#9fccff",
             "#9fccff",
             "#9fccff",
             "#9fccff",
             "#9fccff",
             "#9fccff",
             "#FFCCE1",
             "#9fccff",
             "#9fccff",
             "#9fccff",
             "#FFCCE1",
             "#9fccff",
             "#9fccff",
             "#FFCCE1",
             "#9fccff",
             "#FFCCE1",
             "#FFCCE1",
             "#9fccff",
             "#FFCCE1",
             "#FFCCE1",
             "#FFCCE1",
             "#9fccff",
             "#9fccff",
             "#FFCCE1",
             "#9fccff",
             "#FFFBCA",
             "#9fccff",
             "#9fccff",
             "#FFCCE1",
             "#9fccff",
             "#FFCCE1",
             "#FFCCE1",
             "#9fccff",
             "#9fccff",
             "#FFCCE1",
             "#9fccff",
             "#9fccff",
             "#9fccff",
             "#FFFBCA",
             "#FFCCE1",
             "#FFCCE1",
             "#FFFBCA",
             "#FFCCE1",
             "#FFCCE1",
             "#9fccff",
             "#FFCCE1",
             "#FFCCE1",
             "#9fccff",
             "#9fccff",
             "#FFCCE1",
             "#9fccff",
             "#FFFBCA",
             "#9fccff",
             "#FFCCE1",
             "#9fccff",
             "#FFCCE1",
             "#9fccff",
             "#9fccff",
             "#9fccff",
             "#FFCCE1",
             "#9fccff",
             "#9fccff",
             "#9fccff",
             "#9fccff",
             "#FFCCE1",
             "#FFCCE1",
             "#9fccff",
             "#FFFBCA",
             "#FFCCE1",
             "#9fccff",
             "#FFCCE1",
             "#9fccff",
             "#9fccff",
             "#FFCCE1",
             "#9fccff",
             "#9fccff",
             "#FFCCE1",
             "#FFFBCA",
             "#9fccff",
             "#9fccff",
             "#FFCCE1",
             "#9fccff",
             "#FFFBCA",
             "#FFCCE1"
            ],
            [
             "#9fccff",
             "#9fccff",
             "#9fccff",
             "#9fccff",
             "#FFCCE1",
             "#9fccff",
             "#9fccff",
             "#9fccff",
             "#9fccff",
             "#9fccff",
             "#9fccff",
             "#9fccff",
             "#9fccff",
             "#9fccff",
             "#9fccff",
             "#9fccff",
             "#9fccff",
             "#9fccff",
             "#9fccff",
             "#9fccff",
             "#9fccff",
             "#9fccff",
             "#9fccff",
             "#FFCCE1",
             "#9fccff",
             "#FFCCE1",
             "#FFFBCA",
             "#9fccff",
             "#9fccff",
             "#9fccff",
             "#9fccff",
             "#9fccff",
             "#9fccff",
             "#9fccff",
             "#9fccff",
             "#9fccff",
             "#9fccff",
             "#9fccff",
             "#9fccff",
             "#9fccff",
             "#9fccff",
             "#9fccff",
             "#9fccff",
             "#9fccff",
             "#9fccff",
             "#9fccff",
             "#9fccff",
             "#9fccff",
             "#9fccff",
             "#9fccff",
             "#9fccff",
             "#9fccff",
             "#9fccff",
             "#9fccff",
             "#9fccff",
             "#9fccff",
             "#9fccff",
             "#9fccff",
             "#9fccff",
             "#9fccff",
             "#FFCCE1",
             "#9fccff",
             "#9fccff",
             "#9fccff",
             "#9fccff",
             "#9fccff",
             "#FFCCE1",
             "#9fccff",
             "#9fccff",
             "#9fccff",
             "#9fccff",
             "#9fccff",
             "#9fccff",
             "#9fccff",
             "#9fccff",
             "#FFFBCA",
             "#9fccff",
             "#9fccff",
             "#9fccff",
             "#9fccff",
             "#9fccff",
             "#9fccff",
             "#9fccff",
             "#9fccff",
             "#9fccff",
             "#9fccff",
             "#9fccff",
             "#9fccff",
             "#9fccff",
             "#9fccff",
             "#9fccff"
            ]
           ]
          },
          "font": {
           "size": 12
          },
          "height": 30,
          "values": [
           [
            "RNU6-6P",
            "SNORD61",
            "SNORD68",
            "SNORD72",
            "SNORD95",
            "SNORD96A",
            "cel-miR-39-3p",
            "hsa-let-7a-5p",
            "hsa-let-7c-5p",
            "hsa-miR-1-3p",
            "hsa-miR-100-5p",
            "hsa-miR-103a-3p",
            "hsa-miR-106b-5p",
            "hsa-miR-107",
            "hsa-miR-10a-5p",
            "hsa-miR-10b-5p",
            "hsa-miR-122-5p",
            "hsa-miR-124-3p",
            "hsa-miR-125b-5p",
            "hsa-miR-126-3p",
            "hsa-miR-128-3p",
            "hsa-miR-130b-3p",
            "hsa-miR-133a-3p",
            "hsa-miR-133b",
            "hsa-miR-134-5p",
            "hsa-miR-141-3p",
            "hsa-miR-143-3p",
            "hsa-miR-145-5p",
            "hsa-miR-146a-5p",
            "hsa-miR-148-3p",
            "hsa-miR-150-5p",
            "hsa-miR-155-5p",
            "hsa-miR-15a-5p",
            "hsa-miR-15b-5p",
            "hsa-miR-16-5p",
            "hsa-miR-17-3p",
            "hsa-miR-17-5p",
            "hsa-miR-184",
            "hsa-miR-18a-5p",
            "hsa-miR-191-5p",
            "hsa-miR-192-5p",
            "hsa-miR-193-5p",
            "hsa-miR-195-5p",
            "hsa-miR-196a-5p",
            "hsa-miR-19a-3p",
            "hsa-miR-19b-3p",
            "hsa-miR-200a-3p",
            "hsa-miR-200b-3p",
            "hsa-miR-200c-3p",
            "hsa-miR-203a-3p",
            "hsa-miR-204-5p",
            "hsa-miR-205-5p",
            "hsa-miR-206",
            "hsa-miR-208a-3p",
            "hsa-miR-20a-5p",
            "hsa-miR-21-5p",
            "hsa-miR-210-3p",
            "hsa-miR-211-5p",
            "hsa-miR-214-3p",
            "hsa-miR-215-5p",
            "hsa-miR-22-3p",
            "hsa-miR-221-3p",
            "hsa-miR-222-3p",
            "hsa-miR-223-3p",
            "hsa-miR-224-5p",
            "hsa-miR-23a-3p",
            "hsa-miR-24-3p",
            "hsa-miR-25-3p",
            "hsa-miR-26a-5p",
            "hsa-miR-26b-5p",
            "hsa-miR-27a-3p",
            "hsa-miR-296-5p",
            "hsa-miR-29a-3p",
            "hsa-miR-30d-5p",
            "hsa-miR-30e-5p",
            "hsa-miR-31-5p",
            "hsa-miR-34a-5p",
            "hsa-miR-372-3p",
            "hsa-miR-373-3p",
            "hsa-miR-374-5p",
            "hsa-miR-375",
            "hsa-miR-376c-3p",
            "hsa-miR-423-5p",
            "hsa-miR-499a-5p",
            "hsa-miR-574-3p",
            "hsa-miR-7-5p",
            "hsa-miR-885-5p",
            "hsa-miR-9-5p",
            "hsa-miR-92a-3p",
            "hsa-miR-93-5p",
            "hsa-miR-96-5p"
           ],
           [
            "5.93",
            "1.03",
            "8.49",
            "8.49",
            "34.87",
            "3.8",
            "5.35",
            "0.27",
            "0.35",
            "0.72",
            "0.44",
            "0.89",
            "0.33",
            "8.49",
            "0.71",
            "0.95",
            "0.07",
            "2.48",
            "0.46",
            "0.08",
            "8.49",
            "0.15",
            "2.34",
            "31.85",
            "0.54",
            "23.25",
            "12.34",
            "5.51",
            "0.03",
            "0.01",
            "2.72",
            "0.82",
            "1.79",
            "0.03",
            "0.19",
            "5.26",
            "0.06",
            "6.89",
            "5.33",
            "0.27",
            "0.1",
            "2.78",
            "0.28",
            "0.95",
            "0.0",
            "1.26",
            "8.49",
            "2.55",
            "1.49",
            "8.49",
            "7.44",
            "0.64",
            "8.49",
            "4.92",
            "0.13",
            "0.01",
            "2.99",
            "0.25",
            "1.79",
            "0.13",
            "197.34",
            "0.22",
            "7.13",
            "0.04",
            "0.75",
            "0.02",
            "130.44",
            "0.34",
            "0.08",
            "0.13",
            "0.05",
            "8.49",
            "3.87",
            "0.89",
            "2.0",
            "15.53",
            "0.73",
            "8.49",
            "0.69",
            "0.41",
            "2.13",
            "0.09",
            "0.07",
            "8.49",
            "1.25",
            "0.1",
            "0.48",
            "5.26",
            "0.45",
            "1.59",
            "8.49"
           ],
           [
            "0.7",
            "0.12",
            "1.0",
            "1.0",
            "4.11",
            "0.45",
            "0.63",
            "0.03",
            "0.04",
            "0.09",
            "0.05",
            "0.1",
            "0.04",
            "1.0",
            "0.08",
            "0.11",
            "0.01",
            "0.29",
            "0.05",
            "0.01",
            "1.0",
            "0.02",
            "0.28",
            "3.75",
            "0.06",
            "2.74",
            "1.45",
            "0.65",
            "0.0",
            "0.0",
            "0.32",
            "0.1",
            "0.21",
            "0.0",
            "0.02",
            "0.62",
            "0.01",
            "0.81",
            "0.63",
            "0.03",
            "0.01",
            "0.33",
            "0.03",
            "0.11",
            "0.0",
            "0.15",
            "1.0",
            "0.3",
            "0.18",
            "1.0",
            "0.88",
            "0.08",
            "1.0",
            "0.58",
            "0.02",
            "0.0",
            "0.35",
            "0.03",
            "0.21",
            "0.01",
            "23.25",
            "0.03",
            "0.84",
            "0.0",
            "0.09",
            "0.0",
            "15.37",
            "0.04",
            "0.01",
            "0.02",
            "0.01",
            "1.0",
            "0.46",
            "0.1",
            "0.24",
            "1.83",
            "0.09",
            "1.0",
            "0.08",
            "0.05",
            "0.25",
            "0.01",
            "0.01",
            "1.0",
            "0.15",
            "0.01",
            "0.06",
            "0.62",
            "0.05",
            "0.19",
            "1.0"
           ]
          ]
         },
         "columnwidth": [
          105,
          140,
          133
         ],
         "header": {
          "align": [
           "center",
           "center",
           "center"
          ],
          "fill": {
           "color": "#2C3E50"
          },
          "font": {
           "color": "white",
           "size": 14
          },
          "height": 40,
          "values": [
           "<b>target</b>",
           "<b>fold_change_promedio</b>",
           "<b>fold_change_gen_ref</b>"
          ]
         },
         "type": "table"
        }
       ],
       "layout": {
        "autosize": false,
        "height": 664,
        "margin": {
         "b": 20,
         "l": 20,
         "r": 20,
         "t": 100
        },
        "paper_bgcolor": "white",
        "template": {
         "data": {
          "bar": [
           {
            "error_x": {
             "color": "#2a3f5f"
            },
            "error_y": {
             "color": "#2a3f5f"
            },
            "marker": {
             "line": {
              "color": "#E5ECF6",
              "width": 0.5
             },
             "pattern": {
              "fillmode": "overlay",
              "size": 10,
              "solidity": 0.2
             }
            },
            "type": "bar"
           }
          ],
          "barpolar": [
           {
            "marker": {
             "line": {
              "color": "#E5ECF6",
              "width": 0.5
             },
             "pattern": {
              "fillmode": "overlay",
              "size": 10,
              "solidity": 0.2
             }
            },
            "type": "barpolar"
           }
          ],
          "carpet": [
           {
            "aaxis": {
             "endlinecolor": "#2a3f5f",
             "gridcolor": "white",
             "linecolor": "white",
             "minorgridcolor": "white",
             "startlinecolor": "#2a3f5f"
            },
            "baxis": {
             "endlinecolor": "#2a3f5f",
             "gridcolor": "white",
             "linecolor": "white",
             "minorgridcolor": "white",
             "startlinecolor": "#2a3f5f"
            },
            "type": "carpet"
           }
          ],
          "choropleth": [
           {
            "colorbar": {
             "outlinewidth": 0,
             "ticks": ""
            },
            "type": "choropleth"
           }
          ],
          "contour": [
           {
            "colorbar": {
             "outlinewidth": 0,
             "ticks": ""
            },
            "colorscale": [
             [
              0,
              "#0d0887"
             ],
             [
              0.1111111111111111,
              "#46039f"
             ],
             [
              0.2222222222222222,
              "#7201a8"
             ],
             [
              0.3333333333333333,
              "#9c179e"
             ],
             [
              0.4444444444444444,
              "#bd3786"
             ],
             [
              0.5555555555555556,
              "#d8576b"
             ],
             [
              0.6666666666666666,
              "#ed7953"
             ],
             [
              0.7777777777777778,
              "#fb9f3a"
             ],
             [
              0.8888888888888888,
              "#fdca26"
             ],
             [
              1,
              "#f0f921"
             ]
            ],
            "type": "contour"
           }
          ],
          "contourcarpet": [
           {
            "colorbar": {
             "outlinewidth": 0,
             "ticks": ""
            },
            "type": "contourcarpet"
           }
          ],
          "heatmap": [
           {
            "colorbar": {
             "outlinewidth": 0,
             "ticks": ""
            },
            "colorscale": [
             [
              0,
              "#0d0887"
             ],
             [
              0.1111111111111111,
              "#46039f"
             ],
             [
              0.2222222222222222,
              "#7201a8"
             ],
             [
              0.3333333333333333,
              "#9c179e"
             ],
             [
              0.4444444444444444,
              "#bd3786"
             ],
             [
              0.5555555555555556,
              "#d8576b"
             ],
             [
              0.6666666666666666,
              "#ed7953"
             ],
             [
              0.7777777777777778,
              "#fb9f3a"
             ],
             [
              0.8888888888888888,
              "#fdca26"
             ],
             [
              1,
              "#f0f921"
             ]
            ],
            "type": "heatmap"
           }
          ],
          "heatmapgl": [
           {
            "colorbar": {
             "outlinewidth": 0,
             "ticks": ""
            },
            "colorscale": [
             [
              0,
              "#0d0887"
             ],
             [
              0.1111111111111111,
              "#46039f"
             ],
             [
              0.2222222222222222,
              "#7201a8"
             ],
             [
              0.3333333333333333,
              "#9c179e"
             ],
             [
              0.4444444444444444,
              "#bd3786"
             ],
             [
              0.5555555555555556,
              "#d8576b"
             ],
             [
              0.6666666666666666,
              "#ed7953"
             ],
             [
              0.7777777777777778,
              "#fb9f3a"
             ],
             [
              0.8888888888888888,
              "#fdca26"
             ],
             [
              1,
              "#f0f921"
             ]
            ],
            "type": "heatmapgl"
           }
          ],
          "histogram": [
           {
            "marker": {
             "pattern": {
              "fillmode": "overlay",
              "size": 10,
              "solidity": 0.2
             }
            },
            "type": "histogram"
           }
          ],
          "histogram2d": [
           {
            "colorbar": {
             "outlinewidth": 0,
             "ticks": ""
            },
            "colorscale": [
             [
              0,
              "#0d0887"
             ],
             [
              0.1111111111111111,
              "#46039f"
             ],
             [
              0.2222222222222222,
              "#7201a8"
             ],
             [
              0.3333333333333333,
              "#9c179e"
             ],
             [
              0.4444444444444444,
              "#bd3786"
             ],
             [
              0.5555555555555556,
              "#d8576b"
             ],
             [
              0.6666666666666666,
              "#ed7953"
             ],
             [
              0.7777777777777778,
              "#fb9f3a"
             ],
             [
              0.8888888888888888,
              "#fdca26"
             ],
             [
              1,
              "#f0f921"
             ]
            ],
            "type": "histogram2d"
           }
          ],
          "histogram2dcontour": [
           {
            "colorbar": {
             "outlinewidth": 0,
             "ticks": ""
            },
            "colorscale": [
             [
              0,
              "#0d0887"
             ],
             [
              0.1111111111111111,
              "#46039f"
             ],
             [
              0.2222222222222222,
              "#7201a8"
             ],
             [
              0.3333333333333333,
              "#9c179e"
             ],
             [
              0.4444444444444444,
              "#bd3786"
             ],
             [
              0.5555555555555556,
              "#d8576b"
             ],
             [
              0.6666666666666666,
              "#ed7953"
             ],
             [
              0.7777777777777778,
              "#fb9f3a"
             ],
             [
              0.8888888888888888,
              "#fdca26"
             ],
             [
              1,
              "#f0f921"
             ]
            ],
            "type": "histogram2dcontour"
           }
          ],
          "mesh3d": [
           {
            "colorbar": {
             "outlinewidth": 0,
             "ticks": ""
            },
            "type": "mesh3d"
           }
          ],
          "parcoords": [
           {
            "line": {
             "colorbar": {
              "outlinewidth": 0,
              "ticks": ""
             }
            },
            "type": "parcoords"
           }
          ],
          "pie": [
           {
            "automargin": true,
            "type": "pie"
           }
          ],
          "scatter": [
           {
            "fillpattern": {
             "fillmode": "overlay",
             "size": 10,
             "solidity": 0.2
            },
            "type": "scatter"
           }
          ],
          "scatter3d": [
           {
            "line": {
             "colorbar": {
              "outlinewidth": 0,
              "ticks": ""
             }
            },
            "marker": {
             "colorbar": {
              "outlinewidth": 0,
              "ticks": ""
             }
            },
            "type": "scatter3d"
           }
          ],
          "scattercarpet": [
           {
            "marker": {
             "colorbar": {
              "outlinewidth": 0,
              "ticks": ""
             }
            },
            "type": "scattercarpet"
           }
          ],
          "scattergeo": [
           {
            "marker": {
             "colorbar": {
              "outlinewidth": 0,
              "ticks": ""
             }
            },
            "type": "scattergeo"
           }
          ],
          "scattergl": [
           {
            "marker": {
             "colorbar": {
              "outlinewidth": 0,
              "ticks": ""
             }
            },
            "type": "scattergl"
           }
          ],
          "scattermapbox": [
           {
            "marker": {
             "colorbar": {
              "outlinewidth": 0,
              "ticks": ""
             }
            },
            "type": "scattermapbox"
           }
          ],
          "scatterpolar": [
           {
            "marker": {
             "colorbar": {
              "outlinewidth": 0,
              "ticks": ""
             }
            },
            "type": "scatterpolar"
           }
          ],
          "scatterpolargl": [
           {
            "marker": {
             "colorbar": {
              "outlinewidth": 0,
              "ticks": ""
             }
            },
            "type": "scatterpolargl"
           }
          ],
          "scatterternary": [
           {
            "marker": {
             "colorbar": {
              "outlinewidth": 0,
              "ticks": ""
             }
            },
            "type": "scatterternary"
           }
          ],
          "surface": [
           {
            "colorbar": {
             "outlinewidth": 0,
             "ticks": ""
            },
            "colorscale": [
             [
              0,
              "#0d0887"
             ],
             [
              0.1111111111111111,
              "#46039f"
             ],
             [
              0.2222222222222222,
              "#7201a8"
             ],
             [
              0.3333333333333333,
              "#9c179e"
             ],
             [
              0.4444444444444444,
              "#bd3786"
             ],
             [
              0.5555555555555556,
              "#d8576b"
             ],
             [
              0.6666666666666666,
              "#ed7953"
             ],
             [
              0.7777777777777778,
              "#fb9f3a"
             ],
             [
              0.8888888888888888,
              "#fdca26"
             ],
             [
              1,
              "#f0f921"
             ]
            ],
            "type": "surface"
           }
          ],
          "table": [
           {
            "cells": {
             "fill": {
              "color": "#EBF0F8"
             },
             "line": {
              "color": "white"
             }
            },
            "header": {
             "fill": {
              "color": "#C8D4E3"
             },
             "line": {
              "color": "white"
             }
            },
            "type": "table"
           }
          ]
         },
         "layout": {
          "annotationdefaults": {
           "arrowcolor": "#2a3f5f",
           "arrowhead": 0,
           "arrowwidth": 1
          },
          "autotypenumbers": "strict",
          "coloraxis": {
           "colorbar": {
            "outlinewidth": 0,
            "ticks": ""
           }
          },
          "colorscale": {
           "diverging": [
            [
             0,
             "#8e0152"
            ],
            [
             0.1,
             "#c51b7d"
            ],
            [
             0.2,
             "#de77ae"
            ],
            [
             0.3,
             "#f1b6da"
            ],
            [
             0.4,
             "#fde0ef"
            ],
            [
             0.5,
             "#f7f7f7"
            ],
            [
             0.6,
             "#e6f5d0"
            ],
            [
             0.7,
             "#b8e186"
            ],
            [
             0.8,
             "#7fbc41"
            ],
            [
             0.9,
             "#4d9221"
            ],
            [
             1,
             "#276419"
            ]
           ],
           "sequential": [
            [
             0,
             "#0d0887"
            ],
            [
             0.1111111111111111,
             "#46039f"
            ],
            [
             0.2222222222222222,
             "#7201a8"
            ],
            [
             0.3333333333333333,
             "#9c179e"
            ],
            [
             0.4444444444444444,
             "#bd3786"
            ],
            [
             0.5555555555555556,
             "#d8576b"
            ],
            [
             0.6666666666666666,
             "#ed7953"
            ],
            [
             0.7777777777777778,
             "#fb9f3a"
            ],
            [
             0.8888888888888888,
             "#fdca26"
            ],
            [
             1,
             "#f0f921"
            ]
           ],
           "sequentialminus": [
            [
             0,
             "#0d0887"
            ],
            [
             0.1111111111111111,
             "#46039f"
            ],
            [
             0.2222222222222222,
             "#7201a8"
            ],
            [
             0.3333333333333333,
             "#9c179e"
            ],
            [
             0.4444444444444444,
             "#bd3786"
            ],
            [
             0.5555555555555556,
             "#d8576b"
            ],
            [
             0.6666666666666666,
             "#ed7953"
            ],
            [
             0.7777777777777778,
             "#fb9f3a"
            ],
            [
             0.8888888888888888,
             "#fdca26"
            ],
            [
             1,
             "#f0f921"
            ]
           ]
          },
          "colorway": [
           "#636efa",
           "#EF553B",
           "#00cc96",
           "#ab63fa",
           "#FFA15A",
           "#19d3f3",
           "#FF6692",
           "#B6E880",
           "#FF97FF",
           "#FECB52"
          ],
          "font": {
           "color": "#2a3f5f"
          },
          "geo": {
           "bgcolor": "white",
           "lakecolor": "white",
           "landcolor": "#E5ECF6",
           "showlakes": true,
           "showland": true,
           "subunitcolor": "white"
          },
          "hoverlabel": {
           "align": "left"
          },
          "hovermode": "closest",
          "mapbox": {
           "style": "light"
          },
          "paper_bgcolor": "white",
          "plot_bgcolor": "#E5ECF6",
          "polar": {
           "angularaxis": {
            "gridcolor": "white",
            "linecolor": "white",
            "ticks": ""
           },
           "bgcolor": "#E5ECF6",
           "radialaxis": {
            "gridcolor": "white",
            "linecolor": "white",
            "ticks": ""
           }
          },
          "scene": {
           "xaxis": {
            "backgroundcolor": "#E5ECF6",
            "gridcolor": "white",
            "gridwidth": 2,
            "linecolor": "white",
            "showbackground": true,
            "ticks": "",
            "zerolinecolor": "white"
           },
           "yaxis": {
            "backgroundcolor": "#E5ECF6",
            "gridcolor": "white",
            "gridwidth": 2,
            "linecolor": "white",
            "showbackground": true,
            "ticks": "",
            "zerolinecolor": "white"
           },
           "zaxis": {
            "backgroundcolor": "#E5ECF6",
            "gridcolor": "white",
            "gridwidth": 2,
            "linecolor": "white",
            "showbackground": true,
            "ticks": "",
            "zerolinecolor": "white"
           }
          },
          "shapedefaults": {
           "line": {
            "color": "#2a3f5f"
           }
          },
          "ternary": {
           "aaxis": {
            "gridcolor": "white",
            "linecolor": "white",
            "ticks": ""
           },
           "baxis": {
            "gridcolor": "white",
            "linecolor": "white",
            "ticks": ""
           },
           "bgcolor": "#E5ECF6",
           "caxis": {
            "gridcolor": "white",
            "linecolor": "white",
            "ticks": ""
           }
          },
          "title": {
           "x": 0.05
          },
          "xaxis": {
           "automargin": true,
           "gridcolor": "white",
           "linecolor": "white",
           "ticks": "",
           "title": {
            "standoff": 15
           },
           "zerolinecolor": "white",
           "zerolinewidth": 2
          },
          "yaxis": {
           "automargin": true,
           "gridcolor": "white",
           "linecolor": "white",
           "ticks": "",
           "title": {
            "standoff": 15
           },
           "zerolinecolor": "white",
           "zerolinewidth": 2
          }
         }
        },
        "title": {
         "font": {
          "color": "#2C3E50",
          "size": 20
         },
         "text": "<b>Tabla comparativa promedios vs miRNA de referencia (SNORD68)</b>",
         "x": 0.5,
         "xanchor": "center",
         "y": 0.97
        }
       }
      }
     },
     "metadata": {},
     "output_type": "display_data"
    }
   ],
   "source": [
    "import pandas as pd\n",
    "import plotly.graph_objects as go\n",
    "import numpy as np\n",
    "\n",
    "# Configuración actualizada con ajustes de ancho\n",
    "SETTINGS = {\n",
    "    \"color_thresholds\": [1, 2],\n",
    "    \"colors\": ['#9fccff', '#FFFBCA', '#FFCCE1'],\n",
    "    \"header_style\": {\n",
    "        \"fill_color\": '#2C3E50',\n",
    "        \"font_color\": 'white',\n",
    "        \"align\": ['center', 'center', 'center'],\n",
    "        \"font_size\": 14,\n",
    "        \"height\": 40\n",
    "    },\n",
    "    \"cell_style\": {\n",
    "        \"font_size\": 12,\n",
    "        \"align\": ['left', 'center', 'center'],\n",
    "        \"height\": 30\n",
    "    },\n",
    "    \"decimals\": 2,\n",
    "    \"char_width\": 7,         # Pixeles por carácter\n",
    "    \"min_column_width\": 60,  # Ancho mínimo reducido\n",
    "    \"max_column_width\": 200,  # Límite máximo ajustado\n",
    "\n",
    "    \"row_height\": 35,         # Altura por fila\n",
    "    \"header_height\": 40,      # Altura del encabezado\n",
    "    \"base_height\": 300        # Altura base para título y márgenes\n",
    "}\n",
    "\n",
    "def prepare_data(df):\n",
    "    return (df[['target', 'fold_change_promedio', 'fold_change_gen_ref']]\n",
    "            .sort_values(by='target', ascending=True)\n",
    "            .assign(\n",
    "                fold_change_promedio=lambda x: x['fold_change_promedio'].round(SETTINGS['decimals']),\n",
    "                fold_change_gen_ref=lambda x: x['fold_change_gen_ref'].round(SETTINGS['decimals'])\n",
    "            ))\n",
    "\n",
    "def calculate_colors(series):\n",
    "    return np.select(\n",
    "        [series > SETTINGS[\"color_thresholds\"][1],\n",
    "         series > SETTINGS[\"color_thresholds\"][0]],\n",
    "        SETTINGS[\"colors\"][::-1][:2],\n",
    "        SETTINGS[\"colors\"][0]\n",
    "    )\n",
    "\n",
    "def calculate_column_widths(df):\n",
    "    col_widths = []\n",
    "    for col in df.columns:\n",
    "        # Longitud máxima entre encabezado y contenido\n",
    "        max_header_length = len(str(col))\n",
    "        max_content_length = df[col].astype(str).apply(len).max()\n",
    "        max_length = max(max_header_length, max_content_length)\n",
    "\n",
    "        # Cálculo de ancho con nuevos parámetros\n",
    "        calculated_width = max_length * SETTINGS[\"char_width\"]\n",
    "        final_width = np.clip(calculated_width,\n",
    "                            SETTINGS[\"min_column_width\"],\n",
    "                            SETTINGS[\"max_column_width\"])\n",
    "\n",
    "        col_widths.append(final_width)\n",
    "\n",
    "    return col_widths\n",
    "\n",
    "def create_interactive_table(df):\n",
    "    # Convertir datos a strings para mejor cálculo\n",
    "    df_display = df.copy()\n",
    "    for col in ['fold_change_promedio', 'fold_change_gen_ref']:\n",
    "        df_display[col] = df_display[col].astype(str)\n",
    "\n",
    "    metadata = {\n",
    "        \"columns\": df_display.columns.tolist(),\n",
    "        \"promedio_colors\": calculate_colors(df['fold_change_promedio']),\n",
    "        \"gen_ref_colors\": calculate_colors(df['fold_change_gen_ref']),\n",
    "        \"values\": [df_display[col] for col in df_display.columns]\n",
    "    }\n",
    "\n",
    "    fig = go.Figure(data=[go.Table(\n",
    "        columnwidth=calculate_column_widths(df_display),\n",
    "        header=dict(\n",
    "            values=[f\"<b>{col}</b>\" for col in metadata[\"columns\"]],\n",
    "            **SETTINGS[\"header_style\"],\n",
    "            font=dict(\n",
    "                size=SETTINGS[\"header_style\"][\"font_size\"],\n",
    "                color=SETTINGS[\"header_style\"][\"font_color\"]\n",
    "            )\n",
    "        ),\n",
    "        cells=dict(\n",
    "            values=metadata[\"values\"],\n",
    "            fill_color=[\n",
    "                ['#EEEEEE']*len(df),\n",
    "                metadata[\"promedio_colors\"],\n",
    "                metadata[\"gen_ref_colors\"]\n",
    "            ],\n",
    "            **SETTINGS[\"cell_style\"],\n",
    "            font=dict(size=SETTINGS[\"cell_style\"][\"font_size\"])\n",
    "        )\n",
    "    )])\n",
    "\n",
    "    # Ajustes finales del layout\n",
    "    fig.update_layout(\n",
    "        title={\n",
    "            'text': f'<b>Tabla comparativa promedios vs miRNA de referencia ({gen_referencia})</b>',\n",
    "            'y': 0.97,\n",
    "            'x': 0.5,\n",
    "            'xanchor': 'center',\n",
    "            'font': dict(size=20, color='#2C3E50')\n",
    "        },\n",
    "        margin=dict(t=100, b=20, l=20, r=20),\n",
    "        paper_bgcolor='white',\n",
    "        autosize=False,  # Desactivar autoajuste global para priorizar nuestros cálculos\n",
    "        height=300 + len(df)*4\n",
    "    )\n",
    "\n",
    "    return fig\n",
    "\n",
    "# Datos de prueba con diferentes longitudes\n",
    "df_fold_change = df_consolidado[['target', 'fold_change_promedio', 'fold_change_gen_ref']]\n",
    "\n",
    "df_processed = prepare_data(df_fold_change)\n",
    "fig = create_interactive_table(df_processed)\n",
    "fig.show(config={'responsive': False})  # Desactivar responsive para forzar nuestros anchos"
   ]
  },
  {
   "cell_type": "markdown",
   "metadata": {
    "id": "TwvdBIaHZubS"
   },
   "source": [
    "### Análisis comparativo de métodos de cálculo\n",
    "\n",
    "\n",
    "Este código crea una visualización combinada en Plotly que compara valores de ΔΔCT (barra) y Fold Change (línea), usando dos ejes Y. Los valores de ΔΔCT se representan en un eje Y izquierdo, mientras que los valores de Fold Change se trazan en el eje Y derecho con una escala logarítmica. Además:\n",
    "\n",
    "- **Barras para ΔΔCT**: Comparan promedios y valores de genes de referencia.\n",
    "- **Líneas y marcadores para Fold Change**: Usan diferentes colores y formas para distinguir entre promedios y genes de referencia.\n",
    "- **Layout personalizado**: Incluye títulos, leyenda mejorada, anotaciones clave, y un esquema de colores claro."
   ]
  },
  {
   "cell_type": "code",
   "execution_count": 10,
   "metadata": {
    "executionInfo": {
     "elapsed": 509,
     "status": "aborted",
     "timestamp": 1742954402957,
     "user": {
      "displayName": "Sergio CFS",
      "userId": "11626938599988753511"
     },
     "user_tz": 360
    },
    "id": "hvQIf5-qZubS"
   },
   "outputs": [
    {
     "data": {
      "application/vnd.plotly.v1+json": {
       "config": {
        "plotlyServerURL": "https://plot.ly"
       },
       "data": [
        {
         "marker": {
          "color": "#1f77b4"
         },
         "name": "ΔΔCT (Promedios)",
         "opacity": 0.8,
         "type": "bar",
         "x": [
          "RNU6-6P",
          "SNORD61",
          "SNORD68",
          "SNORD72",
          "SNORD95",
          "SNORD96A",
          "cel-miR-39-3p",
          "hsa-let-7a-5p",
          "hsa-let-7c-5p",
          "hsa-miR-1-3p",
          "hsa-miR-100-5p",
          "hsa-miR-103a-3p",
          "hsa-miR-106b-5p",
          "hsa-miR-107",
          "hsa-miR-10a-5p",
          "hsa-miR-10b-5p",
          "hsa-miR-122-5p",
          "hsa-miR-124-3p",
          "hsa-miR-125b-5p",
          "hsa-miR-126-3p",
          "hsa-miR-128-3p",
          "hsa-miR-130b-3p",
          "hsa-miR-133a-3p",
          "hsa-miR-133b",
          "hsa-miR-134-5p",
          "hsa-miR-141-3p",
          "hsa-miR-143-3p",
          "hsa-miR-145-5p",
          "hsa-miR-146a-5p",
          "hsa-miR-148-3p",
          "hsa-miR-150-5p",
          "hsa-miR-155-5p",
          "hsa-miR-15a-5p",
          "hsa-miR-15b-5p",
          "hsa-miR-16-5p",
          "hsa-miR-17-3p",
          "hsa-miR-17-5p",
          "hsa-miR-184",
          "hsa-miR-18a-5p",
          "hsa-miR-191-5p",
          "hsa-miR-192-5p",
          "hsa-miR-193-5p",
          "hsa-miR-195-5p",
          "hsa-miR-196a-5p",
          "hsa-miR-19a-3p",
          "hsa-miR-19b-3p",
          "hsa-miR-200a-3p",
          "hsa-miR-200b-3p",
          "hsa-miR-200c-3p",
          "hsa-miR-203a-3p",
          "hsa-miR-204-5p",
          "hsa-miR-205-5p",
          "hsa-miR-206",
          "hsa-miR-208a-3p",
          "hsa-miR-20a-5p",
          "hsa-miR-21-5p",
          "hsa-miR-210-3p",
          "hsa-miR-211-5p",
          "hsa-miR-214-3p",
          "hsa-miR-215-5p",
          "hsa-miR-22-3p",
          "hsa-miR-221-3p",
          "hsa-miR-222-3p",
          "hsa-miR-223-3p",
          "hsa-miR-224-5p",
          "hsa-miR-23a-3p",
          "hsa-miR-24-3p",
          "hsa-miR-25-3p",
          "hsa-miR-26a-5p",
          "hsa-miR-26b-5p",
          "hsa-miR-27a-3p",
          "hsa-miR-296-5p",
          "hsa-miR-29a-3p",
          "hsa-miR-30d-5p",
          "hsa-miR-30e-5p",
          "hsa-miR-31-5p",
          "hsa-miR-34a-5p",
          "hsa-miR-372-3p",
          "hsa-miR-373-3p",
          "hsa-miR-374-5p",
          "hsa-miR-375",
          "hsa-miR-376c-3p",
          "hsa-miR-423-5p",
          "hsa-miR-499a-5p",
          "hsa-miR-574-3p",
          "hsa-miR-7-5p",
          "hsa-miR-885-5p",
          "hsa-miR-9-5p",
          "hsa-miR-92a-3p",
          "hsa-miR-93-5p",
          "hsa-miR-96-5p"
         ],
         "y": [
          -2.568560439560443,
          -0.03789377289377427,
          -3.0852271062271157,
          -3.0852271062271157,
          -5.12389377289378,
          -1.9278937728937748,
          -2.4202271062271095,
          1.8747728937728922,
          1.5214395604395605,
          0.46477289377288855,
          1.1694395604395638,
          0.16743956043956132,
          1.6147728937728942,
          -3.0852271062271157,
          0.4907728937728919,
          0.06677289377289242,
          3.8527728937728867,
          -1.3132271062271101,
          1.1347728937728974,
          3.6241062271062248,
          -3.0852271062271157,
          2.754772893772895,
          -1.2265604395604441,
          -4.993227106227117,
          0.8947728937728883,
          -4.539227106227116,
          -3.625227106227115,
          -2.4632271062271087,
          4.968106227106226,
          6.2047728937728905,
          -1.445227106227108,
          0.28810622710621914,
          -0.8385604395604389,
          4.909439560439559,
          2.434106227106227,
          -2.3945604395604434,
          4.01277289377289,
          -2.7852271062271114,
          -2.413893772893779,
          1.8947728937728883,
          3.381439560439553,
          -1.4732271062271138,
          1.81477289377289,
          0.07543956043956257,
          8.462106227106226,
          -0.33389377289378075,
          -3.0852271062271157,
          -1.3518937728937743,
          -0.5725604395604407,
          -3.0852271062271157,
          -2.8952271062271038,
          0.6474395604395511,
          -3.0852271062271157,
          -2.298560439560447,
          2.9514395604395602,
          6.819439560439559,
          -1.5798937728937759,
          2.028106227106221,
          -0.8425604395604438,
          2.9747728937728866,
          -7.624560439560437,
          2.1674395604395613,
          -2.8338937728937736,
          4.621439560439555,
          0.4181062271062288,
          5.944106227106218,
          -7.027227106227116,
          1.5561062271062234,
          3.6021062271062263,
          2.901439560439556,
          4.338106227106223,
          -3.0852271062271157,
          -1.9518937728937757,
          0.17277289377289407,
          -1.0012271062271125,
          -3.956560439560441,
          0.45143956043956024,
          -3.0852271062271157,
          0.5394395604395541,
          1.2974395604395497,
          -1.0912271062271053,
          3.4914395604395594,
          3.805439560439556,
          -3.0852271062271157,
          -0.32656043956044556,
          3.2561062271062227,
          1.0654395604395646,
          -2.3938937728937724,
          1.149439560439557,
          -0.6672271062271093,
          -3.0852271062271157
         ],
         "yaxis": "y"
        },
        {
         "marker": {
          "color": "#ff7f0e"
         },
         "name": "ΔΔCT (Gen Ref)",
         "opacity": 0.8,
         "type": "bar",
         "x": [
          "RNU6-6P",
          "SNORD61",
          "SNORD68",
          "SNORD72",
          "SNORD95",
          "SNORD96A",
          "cel-miR-39-3p",
          "hsa-let-7a-5p",
          "hsa-let-7c-5p",
          "hsa-miR-1-3p",
          "hsa-miR-100-5p",
          "hsa-miR-103a-3p",
          "hsa-miR-106b-5p",
          "hsa-miR-107",
          "hsa-miR-10a-5p",
          "hsa-miR-10b-5p",
          "hsa-miR-122-5p",
          "hsa-miR-124-3p",
          "hsa-miR-125b-5p",
          "hsa-miR-126-3p",
          "hsa-miR-128-3p",
          "hsa-miR-130b-3p",
          "hsa-miR-133a-3p",
          "hsa-miR-133b",
          "hsa-miR-134-5p",
          "hsa-miR-141-3p",
          "hsa-miR-143-3p",
          "hsa-miR-145-5p",
          "hsa-miR-146a-5p",
          "hsa-miR-148-3p",
          "hsa-miR-150-5p",
          "hsa-miR-155-5p",
          "hsa-miR-15a-5p",
          "hsa-miR-15b-5p",
          "hsa-miR-16-5p",
          "hsa-miR-17-3p",
          "hsa-miR-17-5p",
          "hsa-miR-184",
          "hsa-miR-18a-5p",
          "hsa-miR-191-5p",
          "hsa-miR-192-5p",
          "hsa-miR-193-5p",
          "hsa-miR-195-5p",
          "hsa-miR-196a-5p",
          "hsa-miR-19a-3p",
          "hsa-miR-19b-3p",
          "hsa-miR-200a-3p",
          "hsa-miR-200b-3p",
          "hsa-miR-200c-3p",
          "hsa-miR-203a-3p",
          "hsa-miR-204-5p",
          "hsa-miR-205-5p",
          "hsa-miR-206",
          "hsa-miR-208a-3p",
          "hsa-miR-20a-5p",
          "hsa-miR-21-5p",
          "hsa-miR-210-3p",
          "hsa-miR-211-5p",
          "hsa-miR-214-3p",
          "hsa-miR-215-5p",
          "hsa-miR-22-3p",
          "hsa-miR-221-3p",
          "hsa-miR-222-3p",
          "hsa-miR-223-3p",
          "hsa-miR-224-5p",
          "hsa-miR-23a-3p",
          "hsa-miR-24-3p",
          "hsa-miR-25-3p",
          "hsa-miR-26a-5p",
          "hsa-miR-26b-5p",
          "hsa-miR-27a-3p",
          "hsa-miR-296-5p",
          "hsa-miR-29a-3p",
          "hsa-miR-30d-5p",
          "hsa-miR-30e-5p",
          "hsa-miR-31-5p",
          "hsa-miR-34a-5p",
          "hsa-miR-372-3p",
          "hsa-miR-373-3p",
          "hsa-miR-374-5p",
          "hsa-miR-375",
          "hsa-miR-376c-3p",
          "hsa-miR-423-5p",
          "hsa-miR-499a-5p",
          "hsa-miR-574-3p",
          "hsa-miR-7-5p",
          "hsa-miR-885-5p",
          "hsa-miR-9-5p",
          "hsa-miR-92a-3p",
          "hsa-miR-93-5p",
          "hsa-miR-96-5p"
         ],
         "y": [
          0.5166666666666728,
          3.0473333333333414,
          0,
          0,
          -2.038666666666664,
          1.1573333333333409,
          0.6650000000000063,
          4.960000000000008,
          4.606666666666676,
          3.5500000000000043,
          4.2546666666666795,
          3.252666666666677,
          4.70000000000001,
          0,
          3.5760000000000076,
          3.152000000000008,
          6.938000000000002,
          1.7720000000000056,
          4.220000000000013,
          6.7093333333333405,
          0,
          5.8400000000000105,
          1.8586666666666716,
          -1.9080000000000013,
          3.980000000000004,
          -1.4540000000000006,
          -0.5399999999999991,
          0.622000000000007,
          8.053333333333342,
          9.290000000000006,
          1.6400000000000077,
          3.373333333333335,
          2.246666666666677,
          7.994666666666674,
          5.519333333333343,
          0.6906666666666723,
          7.098000000000006,
          0.30000000000000426,
          0.6713333333333367,
          4.980000000000004,
          6.466666666666669,
          1.6120000000000019,
          4.900000000000006,
          3.1606666666666783,
          11.547333333333341,
          2.751333333333335,
          0,
          1.7333333333333414,
          2.512666666666675,
          0,
          0.19000000000001194,
          3.732666666666667,
          0,
          0.7866666666666688,
          6.036666666666676,
          9.904666666666675,
          1.5053333333333399,
          5.113333333333337,
          2.242666666666672,
          6.060000000000002,
          -4.539333333333321,
          5.252666666666677,
          0.25133333333334207,
          7.7066666666666706,
          3.5033333333333445,
          9.029333333333334,
          -3.942,
          4.641333333333339,
          6.687333333333342,
          5.986666666666672,
          7.423333333333339,
          0,
          1.13333333333334,
          3.2580000000000098,
          2.084000000000003,
          -0.8713333333333253,
          3.536666666666676,
          0,
          3.62466666666667,
          4.382666666666665,
          1.9940000000000104,
          6.576666666666675,
          6.890666666666672,
          0,
          2.75866666666667,
          6.341333333333338,
          4.15066666666668,
          0.6913333333333433,
          4.234666666666673,
          2.4180000000000064,
          0
         ],
         "yaxis": "y"
        },
        {
         "line": {
          "color": "#2ca02c",
          "dash": "dot",
          "width": 2
         },
         "marker": {
          "color": "#2ca02c",
          "size": 10,
          "symbol": "diamond"
         },
         "mode": "markers+lines",
         "name": "Fold Change (Promedios)",
         "type": "scatter",
         "x": [
          "RNU6-6P",
          "SNORD61",
          "SNORD68",
          "SNORD72",
          "SNORD95",
          "SNORD96A",
          "cel-miR-39-3p",
          "hsa-let-7a-5p",
          "hsa-let-7c-5p",
          "hsa-miR-1-3p",
          "hsa-miR-100-5p",
          "hsa-miR-103a-3p",
          "hsa-miR-106b-5p",
          "hsa-miR-107",
          "hsa-miR-10a-5p",
          "hsa-miR-10b-5p",
          "hsa-miR-122-5p",
          "hsa-miR-124-3p",
          "hsa-miR-125b-5p",
          "hsa-miR-126-3p",
          "hsa-miR-128-3p",
          "hsa-miR-130b-3p",
          "hsa-miR-133a-3p",
          "hsa-miR-133b",
          "hsa-miR-134-5p",
          "hsa-miR-141-3p",
          "hsa-miR-143-3p",
          "hsa-miR-145-5p",
          "hsa-miR-146a-5p",
          "hsa-miR-148-3p",
          "hsa-miR-150-5p",
          "hsa-miR-155-5p",
          "hsa-miR-15a-5p",
          "hsa-miR-15b-5p",
          "hsa-miR-16-5p",
          "hsa-miR-17-3p",
          "hsa-miR-17-5p",
          "hsa-miR-184",
          "hsa-miR-18a-5p",
          "hsa-miR-191-5p",
          "hsa-miR-192-5p",
          "hsa-miR-193-5p",
          "hsa-miR-195-5p",
          "hsa-miR-196a-5p",
          "hsa-miR-19a-3p",
          "hsa-miR-19b-3p",
          "hsa-miR-200a-3p",
          "hsa-miR-200b-3p",
          "hsa-miR-200c-3p",
          "hsa-miR-203a-3p",
          "hsa-miR-204-5p",
          "hsa-miR-205-5p",
          "hsa-miR-206",
          "hsa-miR-208a-3p",
          "hsa-miR-20a-5p",
          "hsa-miR-21-5p",
          "hsa-miR-210-3p",
          "hsa-miR-211-5p",
          "hsa-miR-214-3p",
          "hsa-miR-215-5p",
          "hsa-miR-22-3p",
          "hsa-miR-221-3p",
          "hsa-miR-222-3p",
          "hsa-miR-223-3p",
          "hsa-miR-224-5p",
          "hsa-miR-23a-3p",
          "hsa-miR-24-3p",
          "hsa-miR-25-3p",
          "hsa-miR-26a-5p",
          "hsa-miR-26b-5p",
          "hsa-miR-27a-3p",
          "hsa-miR-296-5p",
          "hsa-miR-29a-3p",
          "hsa-miR-30d-5p",
          "hsa-miR-30e-5p",
          "hsa-miR-31-5p",
          "hsa-miR-34a-5p",
          "hsa-miR-372-3p",
          "hsa-miR-373-3p",
          "hsa-miR-374-5p",
          "hsa-miR-375",
          "hsa-miR-376c-3p",
          "hsa-miR-423-5p",
          "hsa-miR-499a-5p",
          "hsa-miR-574-3p",
          "hsa-miR-7-5p",
          "hsa-miR-885-5p",
          "hsa-miR-9-5p",
          "hsa-miR-92a-3p",
          "hsa-miR-93-5p",
          "hsa-miR-96-5p"
         ],
         "y": [
          5.932172045345321,
          1.026613952305411,
          8.486837807179468,
          8.486837807179468,
          34.86950001947664,
          3.8049929295051395,
          5.352552741195537,
          0.2726698529421442,
          0.34833816180333316,
          0.7245851310720197,
          0.4445940171905878,
          0.8904215655603227,
          0.32651634228979215,
          8.486837807179468,
          0.7116437473649432,
          0.954771300538252,
          0.0692149313516267,
          2.484967711530318,
          0.45540660036858766,
          0.08110270103930765,
          8.486837807179468,
          0.1481599175760405,
          2.340084197284251,
          31.850124487836233,
          0.5378318530018763,
          23.251100647786163,
          12.339628930593907,
          5.514488623576666,
          0.031948539091458415,
          0.013557426002222775,
          2.7230568575375096,
          0.818976393573183,
          1.7882648718714191,
          0.03327449173666954,
          0.18503803720913262,
          5.258168737469479,
          0.061949098842264266,
          6.893454346368201,
          5.32910689834956,
          0.26891592650093815,
          0.09595890063653735,
          2.7764224626175897,
          0.28424898570576945,
          0.9490529193769766,
          0.0028356472161557775,
          1.2604105828504326,
          8.486837807179468,
          2.552469589801273,
          1.4871605851958445,
          8.486837807179468,
          7.439610577654692,
          0.6384123384408514,
          8.486837807179468,
          4.919666226338923,
          0.12927905293666092,
          0.008854094210200442,
          2.9894783708266535,
          0.2451766977223739,
          1.7932298746623252,
          0.12720498429625557,
          197.34285005640447,
          0.22260539139008068,
          7.129958961702602,
          0.04062637464672471,
          0.7484063854426211,
          0.01624223269843655,
          130.43860494052453,
          0.3400676726502964,
          0.08234893332426076,
          0.13383806889275807,
          0.04944244069276172,
          8.486837807179468,
          3.8688204427757937,
          0.8871359453635426,
          2.001701854109498,
          15.525420509274587,
          0.7313127599751007,
          8.486837807179468,
          0.6880381373425418,
          0.40684761528576474,
          2.1305517676757444,
          0.08891437176193942,
          0.07152346494234574,
          8.486837807179468,
          1.2540200713749032,
          0.10466810383565511,
          0.4778270522320885,
          5.2557395088934795,
          0.45080031838832973,
          1.5880178248435208,
          8.486837807179468
         ],
         "yaxis": "y2"
        },
        {
         "line": {
          "color": "#d62728",
          "dash": "dot",
          "width": 2
         },
         "marker": {
          "color": "#d62728",
          "size": 10,
          "symbol": "diamond"
         },
         "mode": "markers+lines",
         "name": "Fold Change (Gen Ref)",
         "type": "scatter",
         "x": [
          "RNU6-6P",
          "SNORD61",
          "SNORD68",
          "SNORD72",
          "SNORD95",
          "SNORD96A",
          "cel-miR-39-3p",
          "hsa-let-7a-5p",
          "hsa-let-7c-5p",
          "hsa-miR-1-3p",
          "hsa-miR-100-5p",
          "hsa-miR-103a-3p",
          "hsa-miR-106b-5p",
          "hsa-miR-107",
          "hsa-miR-10a-5p",
          "hsa-miR-10b-5p",
          "hsa-miR-122-5p",
          "hsa-miR-124-3p",
          "hsa-miR-125b-5p",
          "hsa-miR-126-3p",
          "hsa-miR-128-3p",
          "hsa-miR-130b-3p",
          "hsa-miR-133a-3p",
          "hsa-miR-133b",
          "hsa-miR-134-5p",
          "hsa-miR-141-3p",
          "hsa-miR-143-3p",
          "hsa-miR-145-5p",
          "hsa-miR-146a-5p",
          "hsa-miR-148-3p",
          "hsa-miR-150-5p",
          "hsa-miR-155-5p",
          "hsa-miR-15a-5p",
          "hsa-miR-15b-5p",
          "hsa-miR-16-5p",
          "hsa-miR-17-3p",
          "hsa-miR-17-5p",
          "hsa-miR-184",
          "hsa-miR-18a-5p",
          "hsa-miR-191-5p",
          "hsa-miR-192-5p",
          "hsa-miR-193-5p",
          "hsa-miR-195-5p",
          "hsa-miR-196a-5p",
          "hsa-miR-19a-3p",
          "hsa-miR-19b-3p",
          "hsa-miR-200a-3p",
          "hsa-miR-200b-3p",
          "hsa-miR-200c-3p",
          "hsa-miR-203a-3p",
          "hsa-miR-204-5p",
          "hsa-miR-205-5p",
          "hsa-miR-206",
          "hsa-miR-208a-3p",
          "hsa-miR-20a-5p",
          "hsa-miR-21-5p",
          "hsa-miR-210-3p",
          "hsa-miR-211-5p",
          "hsa-miR-214-3p",
          "hsa-miR-215-5p",
          "hsa-miR-22-3p",
          "hsa-miR-221-3p",
          "hsa-miR-222-3p",
          "hsa-miR-223-3p",
          "hsa-miR-224-5p",
          "hsa-miR-23a-3p",
          "hsa-miR-24-3p",
          "hsa-miR-25-3p",
          "hsa-miR-26a-5p",
          "hsa-miR-26b-5p",
          "hsa-miR-27a-3p",
          "hsa-miR-296-5p",
          "hsa-miR-29a-3p",
          "hsa-miR-30d-5p",
          "hsa-miR-30e-5p",
          "hsa-miR-31-5p",
          "hsa-miR-34a-5p",
          "hsa-miR-372-3p",
          "hsa-miR-373-3p",
          "hsa-miR-374-5p",
          "hsa-miR-375",
          "hsa-miR-376c-3p",
          "hsa-miR-423-5p",
          "hsa-miR-499a-5p",
          "hsa-miR-574-3p",
          "hsa-miR-7-5p",
          "hsa-miR-885-5p",
          "hsa-miR-9-5p",
          "hsa-miR-92a-3p",
          "hsa-miR-93-5p",
          "hsa-miR-96-5p"
         ],
         "y": [
          0.6989849670895067,
          0.12096542618464368,
          1,
          1,
          4.108656346652304,
          0.448340479216687,
          0.6306887044156221,
          0.0321285570830019,
          0.04104451737119984,
          0.08537751604714947,
          0.05238629832356194,
          0.10491794303021412,
          0.03847326291702837,
          1,
          0.08385263905514088,
          0.11250024122418838,
          0.008155561932982166,
          0.29280254530470134,
          0.05366033977735912,
          0.009556292093940875,
          1,
          0.01745761153237831,
          0.2757309907943156,
          3.7528847860026877,
          0.06337246748687665,
          2.739665959931133,
          1.4539725173203097,
          0.6497695312277169,
          0.003764480931216978,
          0.0015974649581206592,
          0.32085647439072434,
          0.09649959292027088,
          0.21071038618867335,
          0.0039207172910174955,
          0.021802942558016028,
          0.6195674828404656,
          0.007299432397524816,
          0.8122523963562331,
          0.6279260920765313,
          0.031686233743438326,
          0.011306790917502939,
          0.3271445178637521,
          0.03349292070425903,
          0.11182644713371596,
          0.00033412294196985277,
          0.14851357024688092,
          1,
          0.3007562590205275,
          0.17523141351161164,
          1,
          0.8766057213160279,
          0.07522381750960111,
          1,
          0.5796818954377938,
          0.015232888370659906,
          0.0010432736445970836,
          0.3522487926301237,
          0.02888905188160494,
          0.21129541006961824,
          0.014988501864457233,
          23.252812713053345,
          0.02622948575755353,
          0.8401196209583494,
          0.0047869861036293985,
          0.08818436294487735,
          0.0019138144344759815,
          15.369517823255629,
          0.040070009628629305,
          0.009703135042194094,
          0.01577007501893548,
          0.005825778908009263,
          1,
          0.4558612442791063,
          0.10453079998925714,
          0.2358595627238395,
          1.8293528004200585,
          0.08617022931161054,
          1,
          0.08107120142681339,
          0.047938658017193485,
          0.25104188580974146,
          0.010476737482448649,
          0.008427575331042646,
          1,
          0.14776057936609335,
          0.012332992124240999,
          0.05630213079220969,
          0.6192812480105806,
          0.05311758379628438,
          0.1871153733490856,
          1
         ],
         "yaxis": "y2"
        }
       ],
       "layout": {
        "annotations": [
         {
          "font": {
           "color": "#d62728",
           "size": 12
          },
          "showarrow": false,
          "text": "Fold Change = 1",
          "x": 0.05,
          "xref": "paper",
          "y": 1,
          "yref": "y2"
         }
        ],
        "barmode": "group",
        "height": 650,
        "hovermode": "x unified",
        "legend": {
         "bgcolor": "rgba(255,255,255,0.9)",
         "orientation": "h",
         "x": 1,
         "xanchor": "right",
         "y": 1.02,
         "yanchor": "bottom"
        },
        "margin": {
         "b": 100,
         "t": 100
        },
        "plot_bgcolor": "rgba(245,245,245,0.9)",
        "template": {
         "data": {
          "bar": [
           {
            "error_x": {
             "color": "#2a3f5f"
            },
            "error_y": {
             "color": "#2a3f5f"
            },
            "marker": {
             "line": {
              "color": "white",
              "width": 0.5
             },
             "pattern": {
              "fillmode": "overlay",
              "size": 10,
              "solidity": 0.2
             }
            },
            "type": "bar"
           }
          ],
          "barpolar": [
           {
            "marker": {
             "line": {
              "color": "white",
              "width": 0.5
             },
             "pattern": {
              "fillmode": "overlay",
              "size": 10,
              "solidity": 0.2
             }
            },
            "type": "barpolar"
           }
          ],
          "carpet": [
           {
            "aaxis": {
             "endlinecolor": "#2a3f5f",
             "gridcolor": "#C8D4E3",
             "linecolor": "#C8D4E3",
             "minorgridcolor": "#C8D4E3",
             "startlinecolor": "#2a3f5f"
            },
            "baxis": {
             "endlinecolor": "#2a3f5f",
             "gridcolor": "#C8D4E3",
             "linecolor": "#C8D4E3",
             "minorgridcolor": "#C8D4E3",
             "startlinecolor": "#2a3f5f"
            },
            "type": "carpet"
           }
          ],
          "choropleth": [
           {
            "colorbar": {
             "outlinewidth": 0,
             "ticks": ""
            },
            "type": "choropleth"
           }
          ],
          "contour": [
           {
            "colorbar": {
             "outlinewidth": 0,
             "ticks": ""
            },
            "colorscale": [
             [
              0,
              "#0d0887"
             ],
             [
              0.1111111111111111,
              "#46039f"
             ],
             [
              0.2222222222222222,
              "#7201a8"
             ],
             [
              0.3333333333333333,
              "#9c179e"
             ],
             [
              0.4444444444444444,
              "#bd3786"
             ],
             [
              0.5555555555555556,
              "#d8576b"
             ],
             [
              0.6666666666666666,
              "#ed7953"
             ],
             [
              0.7777777777777778,
              "#fb9f3a"
             ],
             [
              0.8888888888888888,
              "#fdca26"
             ],
             [
              1,
              "#f0f921"
             ]
            ],
            "type": "contour"
           }
          ],
          "contourcarpet": [
           {
            "colorbar": {
             "outlinewidth": 0,
             "ticks": ""
            },
            "type": "contourcarpet"
           }
          ],
          "heatmap": [
           {
            "colorbar": {
             "outlinewidth": 0,
             "ticks": ""
            },
            "colorscale": [
             [
              0,
              "#0d0887"
             ],
             [
              0.1111111111111111,
              "#46039f"
             ],
             [
              0.2222222222222222,
              "#7201a8"
             ],
             [
              0.3333333333333333,
              "#9c179e"
             ],
             [
              0.4444444444444444,
              "#bd3786"
             ],
             [
              0.5555555555555556,
              "#d8576b"
             ],
             [
              0.6666666666666666,
              "#ed7953"
             ],
             [
              0.7777777777777778,
              "#fb9f3a"
             ],
             [
              0.8888888888888888,
              "#fdca26"
             ],
             [
              1,
              "#f0f921"
             ]
            ],
            "type": "heatmap"
           }
          ],
          "heatmapgl": [
           {
            "colorbar": {
             "outlinewidth": 0,
             "ticks": ""
            },
            "colorscale": [
             [
              0,
              "#0d0887"
             ],
             [
              0.1111111111111111,
              "#46039f"
             ],
             [
              0.2222222222222222,
              "#7201a8"
             ],
             [
              0.3333333333333333,
              "#9c179e"
             ],
             [
              0.4444444444444444,
              "#bd3786"
             ],
             [
              0.5555555555555556,
              "#d8576b"
             ],
             [
              0.6666666666666666,
              "#ed7953"
             ],
             [
              0.7777777777777778,
              "#fb9f3a"
             ],
             [
              0.8888888888888888,
              "#fdca26"
             ],
             [
              1,
              "#f0f921"
             ]
            ],
            "type": "heatmapgl"
           }
          ],
          "histogram": [
           {
            "marker": {
             "pattern": {
              "fillmode": "overlay",
              "size": 10,
              "solidity": 0.2
             }
            },
            "type": "histogram"
           }
          ],
          "histogram2d": [
           {
            "colorbar": {
             "outlinewidth": 0,
             "ticks": ""
            },
            "colorscale": [
             [
              0,
              "#0d0887"
             ],
             [
              0.1111111111111111,
              "#46039f"
             ],
             [
              0.2222222222222222,
              "#7201a8"
             ],
             [
              0.3333333333333333,
              "#9c179e"
             ],
             [
              0.4444444444444444,
              "#bd3786"
             ],
             [
              0.5555555555555556,
              "#d8576b"
             ],
             [
              0.6666666666666666,
              "#ed7953"
             ],
             [
              0.7777777777777778,
              "#fb9f3a"
             ],
             [
              0.8888888888888888,
              "#fdca26"
             ],
             [
              1,
              "#f0f921"
             ]
            ],
            "type": "histogram2d"
           }
          ],
          "histogram2dcontour": [
           {
            "colorbar": {
             "outlinewidth": 0,
             "ticks": ""
            },
            "colorscale": [
             [
              0,
              "#0d0887"
             ],
             [
              0.1111111111111111,
              "#46039f"
             ],
             [
              0.2222222222222222,
              "#7201a8"
             ],
             [
              0.3333333333333333,
              "#9c179e"
             ],
             [
              0.4444444444444444,
              "#bd3786"
             ],
             [
              0.5555555555555556,
              "#d8576b"
             ],
             [
              0.6666666666666666,
              "#ed7953"
             ],
             [
              0.7777777777777778,
              "#fb9f3a"
             ],
             [
              0.8888888888888888,
              "#fdca26"
             ],
             [
              1,
              "#f0f921"
             ]
            ],
            "type": "histogram2dcontour"
           }
          ],
          "mesh3d": [
           {
            "colorbar": {
             "outlinewidth": 0,
             "ticks": ""
            },
            "type": "mesh3d"
           }
          ],
          "parcoords": [
           {
            "line": {
             "colorbar": {
              "outlinewidth": 0,
              "ticks": ""
             }
            },
            "type": "parcoords"
           }
          ],
          "pie": [
           {
            "automargin": true,
            "type": "pie"
           }
          ],
          "scatter": [
           {
            "fillpattern": {
             "fillmode": "overlay",
             "size": 10,
             "solidity": 0.2
            },
            "type": "scatter"
           }
          ],
          "scatter3d": [
           {
            "line": {
             "colorbar": {
              "outlinewidth": 0,
              "ticks": ""
             }
            },
            "marker": {
             "colorbar": {
              "outlinewidth": 0,
              "ticks": ""
             }
            },
            "type": "scatter3d"
           }
          ],
          "scattercarpet": [
           {
            "marker": {
             "colorbar": {
              "outlinewidth": 0,
              "ticks": ""
             }
            },
            "type": "scattercarpet"
           }
          ],
          "scattergeo": [
           {
            "marker": {
             "colorbar": {
              "outlinewidth": 0,
              "ticks": ""
             }
            },
            "type": "scattergeo"
           }
          ],
          "scattergl": [
           {
            "marker": {
             "colorbar": {
              "outlinewidth": 0,
              "ticks": ""
             }
            },
            "type": "scattergl"
           }
          ],
          "scattermapbox": [
           {
            "marker": {
             "colorbar": {
              "outlinewidth": 0,
              "ticks": ""
             }
            },
            "type": "scattermapbox"
           }
          ],
          "scatterpolar": [
           {
            "marker": {
             "colorbar": {
              "outlinewidth": 0,
              "ticks": ""
             }
            },
            "type": "scatterpolar"
           }
          ],
          "scatterpolargl": [
           {
            "marker": {
             "colorbar": {
              "outlinewidth": 0,
              "ticks": ""
             }
            },
            "type": "scatterpolargl"
           }
          ],
          "scatterternary": [
           {
            "marker": {
             "colorbar": {
              "outlinewidth": 0,
              "ticks": ""
             }
            },
            "type": "scatterternary"
           }
          ],
          "surface": [
           {
            "colorbar": {
             "outlinewidth": 0,
             "ticks": ""
            },
            "colorscale": [
             [
              0,
              "#0d0887"
             ],
             [
              0.1111111111111111,
              "#46039f"
             ],
             [
              0.2222222222222222,
              "#7201a8"
             ],
             [
              0.3333333333333333,
              "#9c179e"
             ],
             [
              0.4444444444444444,
              "#bd3786"
             ],
             [
              0.5555555555555556,
              "#d8576b"
             ],
             [
              0.6666666666666666,
              "#ed7953"
             ],
             [
              0.7777777777777778,
              "#fb9f3a"
             ],
             [
              0.8888888888888888,
              "#fdca26"
             ],
             [
              1,
              "#f0f921"
             ]
            ],
            "type": "surface"
           }
          ],
          "table": [
           {
            "cells": {
             "fill": {
              "color": "#EBF0F8"
             },
             "line": {
              "color": "white"
             }
            },
            "header": {
             "fill": {
              "color": "#C8D4E3"
             },
             "line": {
              "color": "white"
             }
            },
            "type": "table"
           }
          ]
         },
         "layout": {
          "annotationdefaults": {
           "arrowcolor": "#2a3f5f",
           "arrowhead": 0,
           "arrowwidth": 1
          },
          "autotypenumbers": "strict",
          "coloraxis": {
           "colorbar": {
            "outlinewidth": 0,
            "ticks": ""
           }
          },
          "colorscale": {
           "diverging": [
            [
             0,
             "#8e0152"
            ],
            [
             0.1,
             "#c51b7d"
            ],
            [
             0.2,
             "#de77ae"
            ],
            [
             0.3,
             "#f1b6da"
            ],
            [
             0.4,
             "#fde0ef"
            ],
            [
             0.5,
             "#f7f7f7"
            ],
            [
             0.6,
             "#e6f5d0"
            ],
            [
             0.7,
             "#b8e186"
            ],
            [
             0.8,
             "#7fbc41"
            ],
            [
             0.9,
             "#4d9221"
            ],
            [
             1,
             "#276419"
            ]
           ],
           "sequential": [
            [
             0,
             "#0d0887"
            ],
            [
             0.1111111111111111,
             "#46039f"
            ],
            [
             0.2222222222222222,
             "#7201a8"
            ],
            [
             0.3333333333333333,
             "#9c179e"
            ],
            [
             0.4444444444444444,
             "#bd3786"
            ],
            [
             0.5555555555555556,
             "#d8576b"
            ],
            [
             0.6666666666666666,
             "#ed7953"
            ],
            [
             0.7777777777777778,
             "#fb9f3a"
            ],
            [
             0.8888888888888888,
             "#fdca26"
            ],
            [
             1,
             "#f0f921"
            ]
           ],
           "sequentialminus": [
            [
             0,
             "#0d0887"
            ],
            [
             0.1111111111111111,
             "#46039f"
            ],
            [
             0.2222222222222222,
             "#7201a8"
            ],
            [
             0.3333333333333333,
             "#9c179e"
            ],
            [
             0.4444444444444444,
             "#bd3786"
            ],
            [
             0.5555555555555556,
             "#d8576b"
            ],
            [
             0.6666666666666666,
             "#ed7953"
            ],
            [
             0.7777777777777778,
             "#fb9f3a"
            ],
            [
             0.8888888888888888,
             "#fdca26"
            ],
            [
             1,
             "#f0f921"
            ]
           ]
          },
          "colorway": [
           "#636efa",
           "#EF553B",
           "#00cc96",
           "#ab63fa",
           "#FFA15A",
           "#19d3f3",
           "#FF6692",
           "#B6E880",
           "#FF97FF",
           "#FECB52"
          ],
          "font": {
           "color": "#2a3f5f"
          },
          "geo": {
           "bgcolor": "white",
           "lakecolor": "white",
           "landcolor": "white",
           "showlakes": true,
           "showland": true,
           "subunitcolor": "#C8D4E3"
          },
          "hoverlabel": {
           "align": "left"
          },
          "hovermode": "closest",
          "mapbox": {
           "style": "light"
          },
          "paper_bgcolor": "white",
          "plot_bgcolor": "white",
          "polar": {
           "angularaxis": {
            "gridcolor": "#EBF0F8",
            "linecolor": "#EBF0F8",
            "ticks": ""
           },
           "bgcolor": "white",
           "radialaxis": {
            "gridcolor": "#EBF0F8",
            "linecolor": "#EBF0F8",
            "ticks": ""
           }
          },
          "scene": {
           "xaxis": {
            "backgroundcolor": "white",
            "gridcolor": "#DFE8F3",
            "gridwidth": 2,
            "linecolor": "#EBF0F8",
            "showbackground": true,
            "ticks": "",
            "zerolinecolor": "#EBF0F8"
           },
           "yaxis": {
            "backgroundcolor": "white",
            "gridcolor": "#DFE8F3",
            "gridwidth": 2,
            "linecolor": "#EBF0F8",
            "showbackground": true,
            "ticks": "",
            "zerolinecolor": "#EBF0F8"
           },
           "zaxis": {
            "backgroundcolor": "white",
            "gridcolor": "#DFE8F3",
            "gridwidth": 2,
            "linecolor": "#EBF0F8",
            "showbackground": true,
            "ticks": "",
            "zerolinecolor": "#EBF0F8"
           }
          },
          "shapedefaults": {
           "line": {
            "color": "#2a3f5f"
           }
          },
          "ternary": {
           "aaxis": {
            "gridcolor": "#DFE8F3",
            "linecolor": "#A2B1C6",
            "ticks": ""
           },
           "baxis": {
            "gridcolor": "#DFE8F3",
            "linecolor": "#A2B1C6",
            "ticks": ""
           },
           "bgcolor": "white",
           "caxis": {
            "gridcolor": "#DFE8F3",
            "linecolor": "#A2B1C6",
            "ticks": ""
           }
          },
          "title": {
           "x": 0.05
          },
          "xaxis": {
           "automargin": true,
           "gridcolor": "#EBF0F8",
           "linecolor": "#EBF0F8",
           "ticks": "",
           "title": {
            "standoff": 15
           },
           "zerolinecolor": "#EBF0F8",
           "zerolinewidth": 2
          },
          "yaxis": {
           "automargin": true,
           "gridcolor": "#EBF0F8",
           "linecolor": "#EBF0F8",
           "ticks": "",
           "title": {
            "standoff": 15
           },
           "zerolinecolor": "#EBF0F8",
           "zerolinewidth": 2
          }
         }
        },
        "title": {
         "font": {
          "family": "Arial Black",
          "size": 24
         },
         "text": "Análisis Comparativo de Métodos de Cálculo",
         "x": 0.5
        },
        "width": 1200,
        "yaxis": {
         "gridcolor": "lightgray",
         "showgrid": true,
         "tickfont": {
          "color": "#1f77b4"
         },
         "title": {
          "font": {
           "color": "#1f77b4",
           "size": 14
          },
          "text": "ΔΔCT Value"
         }
        },
        "yaxis2": {
         "overlaying": "y",
         "showgrid": false,
         "side": "right",
         "tickfont": {
          "color": "#d62728"
         },
         "title": {
          "font": {
           "color": "#d62728",
           "size": 14
          },
          "text": "Fold Change (Log Scale)"
         },
         "type": "log"
        }
       }
      }
     },
     "metadata": {},
     "output_type": "display_data"
    },
    {
     "data": {
      "text/html": [
       "\n",
       "    <div style=\"background-color:#eaf4ea; \n",
       "                color:#2e6637;\n",
       "                padding: 12px; \n",
       "                border-radius: 8px;\n",
       "                border-left: 4px solid #2e6637;\n",
       "                margin: 10px 0;\n",
       "                box-shadow: 0 2px 4px rgba(0,0,0,0.1);\">\n",
       "        <div style=\"font-size: 1.1em; margin-bottom: 6px;\">\n",
       "            🧬 <strong>Gráfico guardado</strong>\n",
       "        </div>\n",
       "        <div style=\"font-size: 0.95em; margin-left: 24px;\">\n",
       "            analisis_comparativo.png\n",
       "        </div>\n",
       "    </div>\n",
       "    "
      ],
      "text/plain": [
       "<IPython.core.display.HTML object>"
      ]
     },
     "metadata": {},
     "output_type": "display_data"
    },
    {
     "data": {
      "text/plain": [
       "PosixPath('../resultados/miRNAs/Cáncer y TEM/miRNA de referencia/Breast Cancer/analisis_comparativo.png')"
      ]
     },
     "execution_count": 10,
     "metadata": {},
     "output_type": "execute_result"
    }
   ],
   "source": [
    "import plotly.graph_objects as go\n",
    "\n",
    "fig = go.Figure()\n",
    "\n",
    "# =============================================================================\n",
    "# 1. Barras para Delta-Delta CT (Eje Y Izquierdo)\n",
    "# =============================================================================\n",
    "fig.add_trace(go.Bar(\n",
    "    x=df_consolidado['target'],\n",
    "    y=df_consolidado['delta_delta_ct_promedio'],\n",
    "    name='ΔΔCT (Promedios)',\n",
    "    marker_color='#1f77b4',  # Azul estándar\n",
    "    opacity=0.8,\n",
    "    yaxis='y'\n",
    "))\n",
    "\n",
    "fig.add_trace(go.Bar(\n",
    "    x=df_consolidado['target'],\n",
    "    y=df_consolidado['delta_delta_ct_gen_ref'],\n",
    "    name='ΔΔCT (Gen Ref)',\n",
    "    marker_color='#ff7f0e',  # Naranja estándar\n",
    "    opacity=0.8,\n",
    "    yaxis='y'\n",
    "))\n",
    "\n",
    "# =============================================================================\n",
    "# 2. Líneas + Marcadores para Fold Change (Eje Y Derecho - Escala Log)\n",
    "# =============================================================================\n",
    "fig.add_trace(go.Scatter(\n",
    "    x=df_consolidado['target'],\n",
    "    y=df_consolidado['fold_change_promedio'],\n",
    "    name='Fold Change (Promedios)',\n",
    "    mode='markers+lines',\n",
    "    marker=dict(color='#2ca02c', size=10, symbol='diamond'),  # Verde\n",
    "    line=dict(color='#2ca02c', width=2, dash='dot'),\n",
    "    yaxis='y2'\n",
    "))\n",
    "\n",
    "fig.add_trace(go.Scatter(\n",
    "    x=df_consolidado['target'],\n",
    "    y=df_consolidado['fold_change_gen_ref'],\n",
    "    name='Fold Change (Gen Ref)',\n",
    "    mode='markers+lines',\n",
    "    marker=dict(color='#d62728', size=10, symbol='diamond'),  # Rojo\n",
    "    line=dict(color='#d62728', width=2, dash='dot'),\n",
    "    yaxis='y2'\n",
    "))\n",
    "\n",
    "# =============================================================================\n",
    "# 3. Ajustes de Layout\n",
    "# =============================================================================\n",
    "fig.update_layout(\n",
    "    title=dict(\n",
    "        text='Análisis Comparativo de Métodos de Cálculo',\n",
    "        font=dict(size=24, family='Arial Black'),\n",
    "        x=0.5\n",
    "    ),\n",
    "    template='plotly_white',\n",
    "    barmode='group',\n",
    "    yaxis=dict(\n",
    "        title='ΔΔCT Value',\n",
    "        titlefont=dict(color='#1f77b4', size=14),\n",
    "        tickfont=dict(color='#1f77b4'),\n",
    "        showgrid=True,\n",
    "        gridcolor='lightgray'\n",
    "    ),\n",
    "    yaxis2=dict(\n",
    "        title='Fold Change (Log Scale)',\n",
    "        titlefont=dict(color='#d62728', size=14),\n",
    "        tickfont=dict(color='#d62728'),\n",
    "        overlaying='y',\n",
    "        side='right',\n",
    "        type='log',\n",
    "        showgrid=False\n",
    "    ),\n",
    "    hovermode='x unified',\n",
    "    legend=dict(\n",
    "        orientation=\"h\",\n",
    "        yanchor=\"bottom\",\n",
    "        y=1.02,\n",
    "        xanchor=\"right\",\n",
    "        x=1,\n",
    "        bgcolor='rgba(255,255,255,0.9)'\n",
    "    ),\n",
    "    height=650,\n",
    "    width=1200,\n",
    "    margin=dict(b=100, t=100),\n",
    "    plot_bgcolor='rgba(245,245,245,0.9)'\n",
    ")\n",
    "\n",
    "# =============================================================================\n",
    "# 4. Anotaciones Clave\n",
    "# =============================================================================\n",
    "fig.add_annotation(\n",
    "    text=\"Fold Change = 1\",\n",
    "    xref=\"paper\", yref=\"y2\",\n",
    "    x=0.05, y=1,\n",
    "    showarrow=False,\n",
    "    font=dict(color=\"#d62728\", size=12)\n",
    ")\n",
    "\n",
    "fig.show()\n",
    "\n",
    "\n",
    "guardar_grafico(fig, 'analisis_comparativo.png')"
   ]
  },
  {
   "cell_type": "markdown",
   "metadata": {
    "id": "PcLRrodrZubT"
   },
   "source": [
    "### Filtrado y Clasificación de Genes por Niveles de Expresión\n",
    "\n",
    "Este código clasifica los genes en tres categorías según su **Fold Change** (cambio en la expresión génica) ademas nos permite elegir los valores con cuales trabajar según el método de cálculo de valor de fold change:  \n",
    "\n",
    "1. **Genes sobreexpresados**: Fold Change >= 2.  \n",
    "2. **Genes estables**: Fold change entre 1 y 2.  \n",
    "3. **Genes subexpresados**: Fold Change < 1.  \n",
    "\n",
    "Además, realiza la misma clasificación normalizando los datos con un **gen de referencia** (`gen_referencia`). Los resultados se guardan en un archivo Excel y se muestran en un resumen visual con los genes clasificados en cada categoría.  "
   ]
  },
  {
   "cell_type": "code",
   "execution_count": 11,
   "metadata": {
    "executionInfo": {
     "elapsed": 503,
     "status": "aborted",
     "timestamp": 1742954402958,
     "user": {
      "displayName": "Sergio CFS",
      "userId": "11626938599988753511"
     },
     "user_tz": 360
    },
    "id": "oQo6QysVDyv8"
   },
   "outputs": [
    {
     "data": {
      "text/html": [
       "\n",
       "    <div style=\"background-color:#e9f5ff; \n",
       "                color:#004085;\n",
       "                padding: 12px; \n",
       "                border-radius: 8px;\n",
       "                border-left: 4px solid #004085;\n",
       "                margin: 10px 0;\n",
       "                box-shadow: 0 2px 4px rgba(0,0,0,0.1);\">\n",
       "        <div style=\"font-size: 1.1em; margin-bottom: 6px;\">\n",
       "            📊 <strong>Se ha elegido</strong>\n",
       "        </div>\n",
       "        <div style=\"font-size: 0.95em; margin-left: 24px;\">\n",
       "            el método de normalizado por miRNA de referencia por SNORD68\n",
       "        </div>\n",
       "    </div>\n",
       "    "
      ],
      "text/plain": [
       "<IPython.core.display.HTML object>"
      ]
     },
     "metadata": {},
     "output_type": "display_data"
    }
   ],
   "source": [
    "\n",
    "if metodo_elegido == \"miRNA de referencia\":\n",
    "    result_message(f\"Se ha elegido: el método de normalizado por {metodo_elegido} por {gen_referencia}\")\n",
    "else:\n",
    "    result_message(f\"Se ha elegido: el método de normalizado por {metodo_elegido} el cual normaliza los datos mediante el promedio de todos los valores de CT\")\n"
   ]
  },
  {
   "cell_type": "code",
   "execution_count": 12,
   "metadata": {
    "executionInfo": {
     "elapsed": 498,
     "status": "aborted",
     "timestamp": 1742954402959,
     "user": {
      "displayName": "Sergio CFS",
      "userId": "11626938599988753511"
     },
     "user_tz": 360
    },
    "id": "BIkjbgkKZubT"
   },
   "outputs": [
    {
     "data": {
      "text/html": [
       "\n",
       "    <div style=\"background-color:#e0f2f1; \n",
       "                color:#00695c;\n",
       "                padding: 12px; \n",
       "                border-radius: 8px;\n",
       "                border-left: 4px solid #00695c;\n",
       "                margin: 10px 0;\n",
       "                box-shadow: 0 2px 4px rgba(0,0,0,0.1);\">\n",
       "        <div style=\"font-size: 1.1em; margin-bottom: 6px;\">\n",
       "            💾 <strong>Archivo exportado</strong>\n",
       "        </div>\n",
       "        <div style=\"font-size: 0.95em; margin-left: 24px;\">\n",
       "            Niveles de expresión.xlsx Niveles de expresión: Archivo que contiene los genes categorizados por nivel de expresión, separados por categoría.\n",
       "        </div>\n",
       "    </div>\n",
       "    "
      ],
      "text/plain": [
       "<IPython.core.display.HTML object>"
      ]
     },
     "metadata": {},
     "output_type": "display_data"
    },
    {
     "data": {
      "text/plain": [
       "PosixPath('../resultados/miRNAs/Cáncer y TEM/miRNA de referencia/Breast Cancer/Niveles de expresión.xlsx')"
      ]
     },
     "execution_count": 12,
     "metadata": {},
     "output_type": "execute_result"
    }
   ],
   "source": [
    "def categorizar_expresion(df, umbral_bajo=1, umbral_alto=2):\n",
    "    # Validación de columnas\n",
    "    required_cols = ['target', 'fold_change']\n",
    "    if not all(col in df.columns for col in required_cols):\n",
    "        raise ValueError(\"Columnas requeridas no encontradas\")\n",
    "\n",
    "    # Categorización vectorizada\n",
    "    condiciones = [\n",
    "        (df['fold_change'] < umbral_bajo),\n",
    "        (df['fold_change'] >= umbral_bajo) & (df['fold_change'] < umbral_alto),\n",
    "        (df['fold_change'] >= umbral_alto)\n",
    "    ]\n",
    "\n",
    "    categorias = ['subexpresado', 'estable', 'sobreexpresado']\n",
    "\n",
    "    df_categorizado = df[required_cols].copy()\n",
    "    df_categorizado['nivel_expresion'] = np.select(condiciones, categorias, default='sin_categorizar')\n",
    "    df_categorizado.sort_values('fold_change', ascending=False)\n",
    "\n",
    "    return df_categorizado\n",
    "\n",
    "if metodo_elegido == \"gen de referencia\":\n",
    "    df_combined_expresion = categorizar_expresion(df_gen_ref)\n",
    "else:\n",
    "    df_combined_expresion = categorizar_expresion(df_promedios)\n",
    "\n",
    "\n",
    "# Extraemos df separados por categoría con su respectivo target y valor de fold change\n",
    "\n",
    "df_sobreexpresados = df_combined_expresion[df_combined_expresion['nivel_expresion'] == 'sobreexpresado'][['target']]\n",
    "lista_sobreexpresados = df_sobreexpresados['target'].tolist()\n",
    "\n",
    "df_estables = df_combined_expresion[df_combined_expresion['nivel_expresion'] == 'estable'][['target']]\n",
    "lista_estables = df_estables['target'].tolist()\n",
    "\n",
    "df_subexpresados = df_combined_expresion[df_combined_expresion['nivel_expresion'] == 'subexpresado'][['target']]\n",
    "lista_subexpresados = df_subexpresados['target'].tolist()\n",
    "\n",
    "export_dfs_to_excel(\n",
    "    [df_combined_expresion, df_sobreexpresados, df_estables, df_subexpresados],\n",
    "    ['niveles_expresion_genes', 'sobreexpresados', 'estables', 'subexpresados'],\n",
    "    \"Niveles de expresión: Archivo que contiene los genes categorizados por nivel de expresión, separados por categoría.\"\n",
    ")\n"
   ]
  },
  {
   "cell_type": "markdown",
   "metadata": {
    "id": "VTY0fdBcDyv9"
   },
   "source": [
    "### Resumen de niveles de expresión"
   ]
  },
  {
   "cell_type": "code",
   "execution_count": 13,
   "metadata": {
    "executionInfo": {
     "elapsed": 493,
     "status": "aborted",
     "timestamp": 1742954402961,
     "user": {
      "displayName": "Sergio CFS",
      "userId": "11626938599988753511"
     },
     "user_tz": 360
    },
    "id": "t1qCg8DgDyv9"
   },
   "outputs": [
    {
     "data": {
      "text/markdown": [
       "### Resumen de niveles de expresión génica"
      ],
      "text/plain": [
       "<IPython.core.display.Markdown object>"
      ]
     },
     "metadata": {},
     "output_type": "display_data"
    },
    {
     "data": {
      "text/html": [
       "\n",
       "    <div style=\"background-color:#fff3cd; \n",
       "                color:#856404;\n",
       "                padding: 12px; \n",
       "                border-radius: 8px;\n",
       "                border-left: 4px solid #856404;\n",
       "                margin: 10px 0;\n",
       "                box-shadow: 0 2px 4px rgba(0,0,0,0.1);\">\n",
       "        <div style=\"font-size: 1.1em; margin-bottom: 6px;\">\n",
       "            💊 <strong>Se muestran las listas de expresión diferencial obtenida por el método de</strong>\n",
       "        </div>\n",
       "        <div style=\"font-size: 0.95em; margin-left: 24px;\">\n",
       "            miRNA de referencia\n",
       "        </div>\n",
       "    </div>\n",
       "    "
      ],
      "text/plain": [
       "<IPython.core.display.HTML object>"
      ]
     },
     "metadata": {},
     "output_type": "display_data"
    },
    {
     "data": {
      "text/html": [
       "\n",
       "    <div style=\"background-color:#e9f5ff; \n",
       "                color:#004085;\n",
       "                padding: 12px; \n",
       "                border-radius: 8px;\n",
       "                border-left: 4px solid #004085;\n",
       "                margin: 10px 0;\n",
       "                box-shadow: 0 2px 4px rgba(0,0,0,0.1);\">\n",
       "        <div style=\"font-size: 1.1em; margin-bottom: 6px;\">\n",
       "            📊 <strong>Genes sobreexpresados (38)</strong>\n",
       "        </div>\n",
       "        <div style=\"font-size: 0.95em; margin-left: 24px;\">\n",
       "            RNU6-6P, SNORD68, SNORD72, SNORD95, SNORD96A, cel-miR-39-3p, hsa-miR-107, hsa-miR-124-3p, hsa-miR-128-3p, hsa-miR-133a-3p, hsa-miR-133b, hsa-miR-141-3p, hsa-miR-143-3p, hsa-miR-145-5p, hsa-miR-150-5p, hsa-miR-17-3p, hsa-miR-184, hsa-miR-18a-5p, hsa-miR-193-5p, hsa-miR-200a-3p, hsa-miR-200b-3p, hsa-miR-203a-3p, hsa-miR-204-5p, hsa-miR-206, hsa-miR-208a-3p, hsa-miR-210-3p, hsa-miR-22-3p, hsa-miR-222-3p, hsa-miR-24-3p, hsa-miR-296-5p, hsa-miR-29a-3p, hsa-miR-30e-5p, hsa-miR-31-5p, hsa-miR-372-3p, hsa-miR-375, hsa-miR-499a-5p, hsa-miR-9-5p, hsa-miR-96-5p\n",
       "        </div>\n",
       "    </div>\n",
       "    "
      ],
      "text/plain": [
       "<IPython.core.display.HTML object>"
      ]
     },
     "metadata": {},
     "output_type": "display_data"
    },
    {
     "data": {
      "text/html": [
       "\n",
       "    <div style=\"background-color:#e9f5ff; \n",
       "                color:#004085;\n",
       "                padding: 12px; \n",
       "                border-radius: 8px;\n",
       "                border-left: 4px solid #004085;\n",
       "                margin: 10px 0;\n",
       "                box-shadow: 0 2px 4px rgba(0,0,0,0.1);\">\n",
       "        <div style=\"font-size: 1.1em; margin-bottom: 6px;\">\n",
       "            📊 <strong>Genes estables (7)</strong>\n",
       "        </div>\n",
       "        <div style=\"font-size: 0.95em; margin-left: 24px;\">\n",
       "            SNORD61, hsa-miR-15a-5p, hsa-miR-19b-3p, hsa-miR-200c-3p, hsa-miR-214-3p, hsa-miR-574-3p, hsa-miR-93-5p\n",
       "        </div>\n",
       "    </div>\n",
       "    "
      ],
      "text/plain": [
       "<IPython.core.display.HTML object>"
      ]
     },
     "metadata": {},
     "output_type": "display_data"
    },
    {
     "data": {
      "text/html": [
       "\n",
       "    <div style=\"background-color:#e9f5ff; \n",
       "                color:#004085;\n",
       "                padding: 12px; \n",
       "                border-radius: 8px;\n",
       "                border-left: 4px solid #004085;\n",
       "                margin: 10px 0;\n",
       "                box-shadow: 0 2px 4px rgba(0,0,0,0.1);\">\n",
       "        <div style=\"font-size: 1.1em; margin-bottom: 6px;\">\n",
       "            📊 <strong>Genes subexpresados (46)</strong>\n",
       "        </div>\n",
       "        <div style=\"font-size: 0.95em; margin-left: 24px;\">\n",
       "            hsa-let-7a-5p, hsa-let-7c-5p, hsa-miR-1-3p, hsa-miR-100-5p, hsa-miR-103a-3p, hsa-miR-106b-5p, hsa-miR-10a-5p, hsa-miR-10b-5p, hsa-miR-122-5p, hsa-miR-125b-5p, hsa-miR-126-3p, hsa-miR-130b-3p, hsa-miR-134-5p, hsa-miR-146a-5p, hsa-miR-148-3p, hsa-miR-155-5p, hsa-miR-15b-5p, hsa-miR-16-5p, hsa-miR-17-5p, hsa-miR-191-5p, hsa-miR-192-5p, hsa-miR-195-5p, hsa-miR-196a-5p, hsa-miR-19a-3p, hsa-miR-205-5p, hsa-miR-20a-5p, hsa-miR-21-5p, hsa-miR-211-5p, hsa-miR-215-5p, hsa-miR-221-3p, hsa-miR-223-3p, hsa-miR-224-5p, hsa-miR-23a-3p, hsa-miR-25-3p, hsa-miR-26a-5p, hsa-miR-26b-5p, hsa-miR-27a-3p, hsa-miR-30d-5p, hsa-miR-34a-5p, hsa-miR-373-3p, hsa-miR-374-5p, hsa-miR-376c-3p, hsa-miR-423-5p, hsa-miR-7-5p, hsa-miR-885-5p, hsa-miR-92a-3p\n",
       "        </div>\n",
       "    </div>\n",
       "    "
      ],
      "text/plain": [
       "<IPython.core.display.HTML object>"
      ]
     },
     "metadata": {},
     "output_type": "display_data"
    }
   ],
   "source": [
    "# Mostrar resultados\n",
    "display(Markdown(\"### Resumen de niveles de expresión génica\"))\n",
    "alert_message(f\"Se muestran las listas de expresión diferencial obtenida por el método de: {metodo_elegido}\")\n",
    "\n",
    "result_message(f\"Genes sobreexpresados ({str(len(lista_sobreexpresados))}): {str(', '.join(lista_sobreexpresados))}\")\n",
    "result_message(f\"Genes estables ({str(len(lista_estables))}): {str(', '.join(lista_estables))}\")\n",
    "result_message(f\"Genes subexpresados ({str(len(lista_subexpresados))}): {str(', '.join(lista_subexpresados))}\")\n",
    "\n"
   ]
  },
  {
   "cell_type": "markdown",
   "metadata": {
    "id": "pKK-hZgfDyv9"
   },
   "source": [
    "## Agregar Información de Ensembl en Lotes\n",
    "\n",
    "Este código agrega información de **Ensembl** (IDs y descripciones) a un DataFrame que contiene nombres de genes. La consulta se realiza en lotes para evitar sobrecargar el servidor de Ensembl.  \n",
    "\n",
    "**Funcionalidad**:  \n",
    "1. **Consulta en Lotes**:  \n",
    "   - Los genes se dividen en lotes de tamaño `batch_size` (por defecto, 50 genes por lote).  \n",
    "   - Se realiza una solicitud HTTP POST a la API de Ensembl para obtener los IDs y descripciones de los genes en cada lote.  \n",
    "\n",
    "2. **Manejo de Respuestas**:  \n",
    "   - Si la consulta es exitosa, se extraen los IDs y descripciones de los genes.  \n",
    "   - Si falla, se asigna \"Not found\" a los genes del lote.  \n",
    "\n",
    "3. **Resultados**:  \n",
    "   - Se agregan dos columnas al DataFrame: `ensembl_id` (ID de Ensembl) y `description` (descripción del gen).  \n",
    "\n",
    "**Uso**:  \n",
    "- Aplica la función `add_ensembl_info_batch` a DataFrames que contengan genes subexpresados, estables y sobreexpresados para enriquecerlos con información de Ensembl.  "
   ]
  },
  {
   "cell_type": "code",
   "execution_count": 14,
   "metadata": {},
   "outputs": [],
   "source": [
    "# Eliminamos los prefijos de los nombres de los miRNAs para facilitar la lectura\n",
    "\n",
    "\n",
    "df_sobreexpresados['target'] = df_sobreexpresados['target'].str.replace(r'^.*?(miR|let)', r'\\1', regex=True)\n",
    "\n",
    "\n",
    "df_subexpresados['target'] = df_subexpresados['target'].str.replace(r'^.*?(miR|let)', r'\\1', regex=True)"
   ]
  },
  {
   "cell_type": "code",
   "execution_count": 15,
   "metadata": {
    "executionInfo": {
     "elapsed": 487,
     "status": "aborted",
     "timestamp": 1742954402961,
     "user": {
      "displayName": "Sergio CFS",
      "userId": "11626938599988753511"
     },
     "user_tz": 360
    },
    "id": "uCTJCrFLDyv9"
   },
   "outputs": [
    {
     "data": {
      "text/markdown": [
       "### Agregar Información de Ensembl a miRNAs Subexpresados"
      ],
      "text/plain": [
       "<IPython.core.display.Markdown object>"
      ]
     },
     "metadata": {},
     "output_type": "display_data"
    },
    {
     "data": {
      "text/html": [
       "\n",
       "    <div style=\"background-color:#fff3cd; \n",
       "                color:#856404;\n",
       "                padding: 12px; \n",
       "                border-radius: 8px;\n",
       "                border-left: 4px solid #856404;\n",
       "                margin: 10px 0;\n",
       "                box-shadow: 0 2px 4px rgba(0,0,0,0.1);\">\n",
       "        <div style=\"font-size: 1.1em; margin-bottom: 6px;\">\n",
       "            💊 <strong>miRNAs no encontrados (33)</strong>\n",
       "        </div>\n",
       "        <div style=\"font-size: 0.95em; margin-left: 24px;\">\n",
       "            miR-39-3p, miR-107, miR-124-3p, miR-128-3p, miR-133a-3p...\n",
       "        </div>\n",
       "    </div>\n",
       "    "
      ],
      "text/plain": [
       "<IPython.core.display.HTML object>"
      ]
     },
     "metadata": {},
     "output_type": "display_data"
    },
    {
     "data": {
      "text/html": [
       "\n",
       "    <div style=\"background-color:#e9f5ff; \n",
       "                color:#004085;\n",
       "                padding: 12px; \n",
       "                border-radius: 8px;\n",
       "                border-left: 4px solid #004085;\n",
       "                margin: 10px 0;\n",
       "                box-shadow: 0 2px 4px rgba(0,0,0,0.1);\">\n",
       "        <div style=\"font-size: 1.1em; margin-bottom: 6px;\">\n",
       "            📊 <strong>Resumen</strong>\n",
       "        </div>\n",
       "        <div style=\"font-size: 0.95em; margin-left: 24px;\">\n",
       "            - Total miRNAs: 38\n",
       "- Encontrados: 5\n",
       "- No encontrados: 33\n",
       "        </div>\n",
       "    </div>\n",
       "    "
      ],
      "text/plain": [
       "<IPython.core.display.HTML object>"
      ]
     },
     "metadata": {},
     "output_type": "display_data"
    },
    {
     "data": {
      "text/html": [
       "\n",
       "    <div style=\"background-color:#fff3cd; \n",
       "                color:#856404;\n",
       "                padding: 12px; \n",
       "                border-radius: 8px;\n",
       "                border-left: 4px solid #856404;\n",
       "                margin: 10px 0;\n",
       "                box-shadow: 0 2px 4px rgba(0,0,0,0.1);\">\n",
       "        <div style=\"font-size: 1.1em; margin-bottom: 6px;\">\n",
       "            💊 <strong>miRNAs no encontrados en miRNAs subexpresados</strong>\n",
       "        </div>\n",
       "        <div style=\"font-size: 0.95em; margin-left: 24px;\">\n",
       "            miR-39-3p, miR-107, miR-124-3p... (33 totales)\n",
       "        </div>\n",
       "    </div>\n",
       "    "
      ],
      "text/plain": [
       "<IPython.core.display.HTML object>"
      ]
     },
     "metadata": {},
     "output_type": "display_data"
    },
    {
     "data": {
      "text/markdown": [
       "### Agregar Información de Ensembl a miRNAs Sobreexpresados"
      ],
      "text/plain": [
       "<IPython.core.display.Markdown object>"
      ]
     },
     "metadata": {},
     "output_type": "display_data"
    },
    {
     "data": {
      "text/html": [
       "\n",
       "    <div style=\"background-color:#fff3cd; \n",
       "                color:#856404;\n",
       "                padding: 12px; \n",
       "                border-radius: 8px;\n",
       "                border-left: 4px solid #856404;\n",
       "                margin: 10px 0;\n",
       "                box-shadow: 0 2px 4px rgba(0,0,0,0.1);\">\n",
       "        <div style=\"font-size: 1.1em; margin-bottom: 6px;\">\n",
       "            💊 <strong>miRNAs no encontrados (46)</strong>\n",
       "        </div>\n",
       "        <div style=\"font-size: 0.95em; margin-left: 24px;\">\n",
       "            let-7a-5p, let-7c-5p, miR-1-3p, miR-100-5p, miR-103a-3p...\n",
       "        </div>\n",
       "    </div>\n",
       "    "
      ],
      "text/plain": [
       "<IPython.core.display.HTML object>"
      ]
     },
     "metadata": {},
     "output_type": "display_data"
    },
    {
     "data": {
      "text/html": [
       "\n",
       "    <div style=\"background-color:#e9f5ff; \n",
       "                color:#004085;\n",
       "                padding: 12px; \n",
       "                border-radius: 8px;\n",
       "                border-left: 4px solid #004085;\n",
       "                margin: 10px 0;\n",
       "                box-shadow: 0 2px 4px rgba(0,0,0,0.1);\">\n",
       "        <div style=\"font-size: 1.1em; margin-bottom: 6px;\">\n",
       "            📊 <strong>Resumen</strong>\n",
       "        </div>\n",
       "        <div style=\"font-size: 0.95em; margin-left: 24px;\">\n",
       "            - Total miRNAs: 46\n",
       "- Encontrados: 0\n",
       "- No encontrados: 46\n",
       "        </div>\n",
       "    </div>\n",
       "    "
      ],
      "text/plain": [
       "<IPython.core.display.HTML object>"
      ]
     },
     "metadata": {},
     "output_type": "display_data"
    },
    {
     "data": {
      "text/html": [
       "\n",
       "    <div style=\"background-color:#fff3cd; \n",
       "                color:#856404;\n",
       "                padding: 12px; \n",
       "                border-radius: 8px;\n",
       "                border-left: 4px solid #856404;\n",
       "                margin: 10px 0;\n",
       "                box-shadow: 0 2px 4px rgba(0,0,0,0.1);\">\n",
       "        <div style=\"font-size: 1.1em; margin-bottom: 6px;\">\n",
       "            💊 <strong>miRNAs no encontrados en miRNAs sobreexpresados</strong>\n",
       "        </div>\n",
       "        <div style=\"font-size: 0.95em; margin-left: 24px;\">\n",
       "            let-7a-5p, let-7c-5p, miR-1-3p... (46 totales)\n",
       "        </div>\n",
       "    </div>\n",
       "    "
      ],
      "text/plain": [
       "<IPython.core.display.HTML object>"
      ]
     },
     "metadata": {},
     "output_type": "display_data"
    },
    {
     "data": {
      "text/html": [
       "\n",
       "    <div style=\"background-color:#e0f2f1; \n",
       "                color:#00695c;\n",
       "                padding: 12px; \n",
       "                border-radius: 8px;\n",
       "                border-left: 4px solid #00695c;\n",
       "                margin: 10px 0;\n",
       "                box-shadow: 0 2px 4px rgba(0,0,0,0.1);\">\n",
       "        <div style=\"font-size: 1.1em; margin-bottom: 6px;\">\n",
       "            💾 <strong>Archivo exportado</strong>\n",
       "        </div>\n",
       "        <div style=\"font-size: 0.95em; margin-left: 24px;\">\n",
       "            IDs y descripciones por miRNAs.xlsx IDs y descripciones por miRNAs: Archivo que contiene la información de Ensembl para los miRNAs categorizados.\n",
       "        </div>\n",
       "    </div>\n",
       "    "
      ],
      "text/plain": [
       "<IPython.core.display.HTML object>"
      ]
     },
     "metadata": {},
     "output_type": "display_data"
    },
    {
     "data": {
      "text/plain": [
       "PosixPath('../resultados/miRNAs/Cáncer y TEM/miRNA de referencia/Breast Cancer/IDs y descripciones por miRNAs.xlsx')"
      ]
     },
     "execution_count": 15,
     "metadata": {},
     "output_type": "execute_result"
    }
   ],
   "source": [
    "import requests\n",
    "import pandas as pd\n",
    "from concurrent.futures import ThreadPoolExecutor\n",
    "from IPython.display import display, Markdown\n",
    "\n",
    "def get_ensembl_id(gene_symbol):\n",
    "    \"\"\"Busca en Ensembl con tolerancia a alias y nombres alternativos\"\"\"\n",
    "    base_url = \"https://rest.ensembl.org\"\n",
    "    endpoints = [\n",
    "        f\"/lookup/symbol/homo_sapiens/{gene_symbol}?expand=1\",\n",
    "        f\"/xrefs/symbol/homo_sapiens/{gene_symbol}?\"\n",
    "    ]\n",
    "\n",
    "    for endpoint in endpoints:\n",
    "        try:\n",
    "            response = requests.get(base_url + endpoint, headers={\"Content-Type\": \"application/json\"})\n",
    "            if response.status_code == 200:\n",
    "                data = response.json()\n",
    "                if isinstance(data, list):  # Para el endpoint xrefs\n",
    "                    for item in data:\n",
    "                        if item['type'] == 'gene':\n",
    "                            return item['id'], item.get('description', 'No description')\n",
    "                else:  # Para el endpoint lookup\n",
    "                    return data['id'], data.get('description', 'No description')\n",
    "        except Exception as e:\n",
    "            continue\n",
    "\n",
    "    # Si falla Ensembl, intentar con MyGene.Info\n",
    "    mygene_response = requests.get(f\"https://mygene.info/v3/query?q={gene_symbol}&species=human\")\n",
    "    if mygene_response.status_code == 200:\n",
    "        results = mygene_response.json().get('hits', [])\n",
    "        for hit in results:\n",
    "            if 'ensembl' in hit:\n",
    "                ensembl_id = hit['ensembl'].get('gene', 'Not found')\n",
    "                description = hit.get('summary', 'No description')\n",
    "                return ensembl_id, description\n",
    "\n",
    "    return 'Not found', 'No description'\n",
    "\n",
    "def process_gene(gene):\n",
    "    \"\"\"Función wrapper para procesamiento paralelo\"\"\"\n",
    "    ensembl_id, description = get_ensembl_id(gene)\n",
    "\n",
    "    # Búsqueda aproximada si no se encuentra\n",
    "    if ensembl_id == 'Not found':\n",
    "        try:\n",
    "            fuzzy_response = requests.get(\n",
    "                f\"https://rest.ensembl.org/lookup/search/homo_sapiens?q={gene}\",\n",
    "                headers={\"Content-Type\": \"application/json\"},\n",
    "                timeout=10\n",
    "            )\n",
    "            if fuzzy_response.status_code == 200:\n",
    "                fuzzy_data = fuzzy_response.json()\n",
    "                if fuzzy_data.get('hits'):\n",
    "                    best_match = fuzzy_data['hits'][0]\n",
    "                    return best_match['id'], best_match.get('description', 'No description')\n",
    "        except:\n",
    "            pass\n",
    "\n",
    "    return ensembl_id, description\n",
    "\n",
    "def add_ensembl_info_batch(df, max_workers=5):\n",
    "    \"\"\"Versión con procesamiento paralelo\"\"\"\n",
    "    targets = df['target'].tolist()\n",
    "\n",
    "    # Procesamiento paralelo\n",
    "    with ThreadPoolExecutor(max_workers=max_workers) as executor:\n",
    "        results = list(executor.map(process_gene, targets))\n",
    "\n",
    "    ids, descriptions = zip(*results)\n",
    "\n",
    "    df['ensembl_id'] = ids\n",
    "    df['description'] = descriptions\n",
    "\n",
    "    # Estadísticas detalladas\n",
    "    not_found = df[df['ensembl_id'] == 'Not found']\n",
    "    if not not_found.empty:\n",
    "        alert_message(f\"miRNAs no encontrados ({len(not_found)}): {', '.join(not_found['target'].tolist()[:5])}\" +\n",
    "                     (\"...\" if len(not_found) > 5 else \"\"))\n",
    "    else:\n",
    "        success_message(\"¡Todos los miRNAs fueron encontrados exitosamente!\")\n",
    "\n",
    "    result_message(f\"Resumen:\\n- Total miRNAs: {len(df)}\\n- Encontrados: {len(df) - len(not_found)}\\n- No encontrados: {len(not_found)}\")\n",
    "\n",
    "    return df\n",
    "\n",
    "\n",
    "# Función de alerta modificada\n",
    "def display_alert_if_genes_not_found(df, dataset_name):\n",
    "    not_found_genes = df[df['ensembl_id'] == 'Not found']\n",
    "    if not not_found_genes.empty:\n",
    "        alert_message(f\"miRNAs no encontrados en {dataset_name}: {', '.join(not_found_genes['target'].unique()[:3])}...\" +\n",
    "                     f\" ({len(not_found_genes)} totales)\")\n",
    "    else:\n",
    "        success_message(f\"Todos los miRNAs en {dataset_name} fueron encontrados en Ensembl.\")\n",
    "\n",
    "# Ejemplo de uso\n",
    "display(Markdown(\"### Agregar Información de Ensembl a miRNAs Subexpresados\"))\n",
    "df_sobreexpresados = add_ensembl_info_batch(df_sobreexpresados, max_workers=8)\n",
    "display_alert_if_genes_not_found(df_sobreexpresados, \"miRNAs subexpresados\")\n",
    "\n",
    "display(Markdown(\"### Agregar Información de Ensembl a miRNAs Sobreexpresados\"))\n",
    "df_subexpresados = add_ensembl_info_batch(df_subexpresados, max_workers=8)\n",
    "display_alert_if_genes_not_found(df_subexpresados, \"miRNAs sobreexpresados\")\n",
    "\n",
    "df_sobreexpresados['nivel_expresion'] = 'Sobreexpresados'\n",
    "df_subexpresados['nivel_expresion'] = 'Subexpresados'\n",
    "\n",
    "df_emsamble_info = pd.concat([df_sobreexpresados, df_subexpresados], ignore_index=True)\n",
    "\n",
    "# Exportar el DataFrame con información de Ensembl\n",
    "\n",
    "export_dfs_to_excel(\n",
    "    [df_emsamble_info],\n",
    "    [\"informacion_ensembl_genes\"],\n",
    "    \"IDs y descripciones por miRNAs: Archivo que contiene la información de Ensembl para los miRNAs categorizados.\")"
   ]
  },
  {
   "cell_type": "markdown",
   "metadata": {
    "id": "a2U0nZ94Dyv-"
   },
   "source": [
    "### Visualización de la distribución de niveles de expresión\n",
    "\n",
    "> Aplica para las lista de genes\n",
    "\n",
    "Antes de iniciar el enriquecimiento, veamos la distribución de los niveles de expresión"
   ]
  },
  {
   "cell_type": "code",
   "execution_count": 17,
   "metadata": {
    "colab": {
     "base_uri": "https://localhost:8080/",
     "height": 217
    },
    "executionInfo": {
     "elapsed": 22,
     "status": "error",
     "timestamp": 1742954403004,
     "user": {
      "displayName": "Sergio CFS",
      "userId": "11626938599988753511"
     },
     "user_tz": 360
    },
    "id": "dJJqnAjgDyv-",
    "outputId": "0439b65d-74a6-423b-8774-c515f73f0c5d"
   },
   "outputs": [
    {
     "data": {
      "application/vnd.plotly.v1+json": {
       "config": {
        "plotlyServerURL": "https://plot.ly"
       },
       "data": [
        {
         "hovertemplate": "<b>%{y}</b><br>Frecuencia: %{x}<br><extra></extra>",
         "marker": {
          "color": [
           "rgb(49, 54, 149)",
           "rgb(224, 243, 248)",
           "rgb(244, 109, 67)"
          ],
          "line": {
           "color": "#333",
           "width": 1
          }
         },
         "orientation": "h",
         "text": [
          7,
          46,
          38
         ],
         "textposition": "outside",
         "texttemplate": "<b>%{text}</b>",
         "type": "bar",
         "x": [
          7,
          46,
          38
         ],
         "y": [
          "estable",
          "subexpresado",
          "sobreexpresado"
         ]
        }
       ],
       "layout": {
        "height": 500,
        "hoverlabel": {
         "bgcolor": "white",
         "bordercolor": "#333",
         "font": {
          "size": 14
         }
        },
        "margin": {
         "b": 80,
         "l": 120,
         "t": 120
        },
        "plot_bgcolor": "white",
        "template": {
         "data": {
          "bar": [
           {
            "error_x": {
             "color": "#2a3f5f"
            },
            "error_y": {
             "color": "#2a3f5f"
            },
            "marker": {
             "line": {
              "color": "#E5ECF6",
              "width": 0.5
             },
             "pattern": {
              "fillmode": "overlay",
              "size": 10,
              "solidity": 0.2
             }
            },
            "type": "bar"
           }
          ],
          "barpolar": [
           {
            "marker": {
             "line": {
              "color": "#E5ECF6",
              "width": 0.5
             },
             "pattern": {
              "fillmode": "overlay",
              "size": 10,
              "solidity": 0.2
             }
            },
            "type": "barpolar"
           }
          ],
          "carpet": [
           {
            "aaxis": {
             "endlinecolor": "#2a3f5f",
             "gridcolor": "white",
             "linecolor": "white",
             "minorgridcolor": "white",
             "startlinecolor": "#2a3f5f"
            },
            "baxis": {
             "endlinecolor": "#2a3f5f",
             "gridcolor": "white",
             "linecolor": "white",
             "minorgridcolor": "white",
             "startlinecolor": "#2a3f5f"
            },
            "type": "carpet"
           }
          ],
          "choropleth": [
           {
            "colorbar": {
             "outlinewidth": 0,
             "ticks": ""
            },
            "type": "choropleth"
           }
          ],
          "contour": [
           {
            "colorbar": {
             "outlinewidth": 0,
             "ticks": ""
            },
            "colorscale": [
             [
              0,
              "#0d0887"
             ],
             [
              0.1111111111111111,
              "#46039f"
             ],
             [
              0.2222222222222222,
              "#7201a8"
             ],
             [
              0.3333333333333333,
              "#9c179e"
             ],
             [
              0.4444444444444444,
              "#bd3786"
             ],
             [
              0.5555555555555556,
              "#d8576b"
             ],
             [
              0.6666666666666666,
              "#ed7953"
             ],
             [
              0.7777777777777778,
              "#fb9f3a"
             ],
             [
              0.8888888888888888,
              "#fdca26"
             ],
             [
              1,
              "#f0f921"
             ]
            ],
            "type": "contour"
           }
          ],
          "contourcarpet": [
           {
            "colorbar": {
             "outlinewidth": 0,
             "ticks": ""
            },
            "type": "contourcarpet"
           }
          ],
          "heatmap": [
           {
            "colorbar": {
             "outlinewidth": 0,
             "ticks": ""
            },
            "colorscale": [
             [
              0,
              "#0d0887"
             ],
             [
              0.1111111111111111,
              "#46039f"
             ],
             [
              0.2222222222222222,
              "#7201a8"
             ],
             [
              0.3333333333333333,
              "#9c179e"
             ],
             [
              0.4444444444444444,
              "#bd3786"
             ],
             [
              0.5555555555555556,
              "#d8576b"
             ],
             [
              0.6666666666666666,
              "#ed7953"
             ],
             [
              0.7777777777777778,
              "#fb9f3a"
             ],
             [
              0.8888888888888888,
              "#fdca26"
             ],
             [
              1,
              "#f0f921"
             ]
            ],
            "type": "heatmap"
           }
          ],
          "heatmapgl": [
           {
            "colorbar": {
             "outlinewidth": 0,
             "ticks": ""
            },
            "colorscale": [
             [
              0,
              "#0d0887"
             ],
             [
              0.1111111111111111,
              "#46039f"
             ],
             [
              0.2222222222222222,
              "#7201a8"
             ],
             [
              0.3333333333333333,
              "#9c179e"
             ],
             [
              0.4444444444444444,
              "#bd3786"
             ],
             [
              0.5555555555555556,
              "#d8576b"
             ],
             [
              0.6666666666666666,
              "#ed7953"
             ],
             [
              0.7777777777777778,
              "#fb9f3a"
             ],
             [
              0.8888888888888888,
              "#fdca26"
             ],
             [
              1,
              "#f0f921"
             ]
            ],
            "type": "heatmapgl"
           }
          ],
          "histogram": [
           {
            "marker": {
             "pattern": {
              "fillmode": "overlay",
              "size": 10,
              "solidity": 0.2
             }
            },
            "type": "histogram"
           }
          ],
          "histogram2d": [
           {
            "colorbar": {
             "outlinewidth": 0,
             "ticks": ""
            },
            "colorscale": [
             [
              0,
              "#0d0887"
             ],
             [
              0.1111111111111111,
              "#46039f"
             ],
             [
              0.2222222222222222,
              "#7201a8"
             ],
             [
              0.3333333333333333,
              "#9c179e"
             ],
             [
              0.4444444444444444,
              "#bd3786"
             ],
             [
              0.5555555555555556,
              "#d8576b"
             ],
             [
              0.6666666666666666,
              "#ed7953"
             ],
             [
              0.7777777777777778,
              "#fb9f3a"
             ],
             [
              0.8888888888888888,
              "#fdca26"
             ],
             [
              1,
              "#f0f921"
             ]
            ],
            "type": "histogram2d"
           }
          ],
          "histogram2dcontour": [
           {
            "colorbar": {
             "outlinewidth": 0,
             "ticks": ""
            },
            "colorscale": [
             [
              0,
              "#0d0887"
             ],
             [
              0.1111111111111111,
              "#46039f"
             ],
             [
              0.2222222222222222,
              "#7201a8"
             ],
             [
              0.3333333333333333,
              "#9c179e"
             ],
             [
              0.4444444444444444,
              "#bd3786"
             ],
             [
              0.5555555555555556,
              "#d8576b"
             ],
             [
              0.6666666666666666,
              "#ed7953"
             ],
             [
              0.7777777777777778,
              "#fb9f3a"
             ],
             [
              0.8888888888888888,
              "#fdca26"
             ],
             [
              1,
              "#f0f921"
             ]
            ],
            "type": "histogram2dcontour"
           }
          ],
          "mesh3d": [
           {
            "colorbar": {
             "outlinewidth": 0,
             "ticks": ""
            },
            "type": "mesh3d"
           }
          ],
          "parcoords": [
           {
            "line": {
             "colorbar": {
              "outlinewidth": 0,
              "ticks": ""
             }
            },
            "type": "parcoords"
           }
          ],
          "pie": [
           {
            "automargin": true,
            "type": "pie"
           }
          ],
          "scatter": [
           {
            "fillpattern": {
             "fillmode": "overlay",
             "size": 10,
             "solidity": 0.2
            },
            "type": "scatter"
           }
          ],
          "scatter3d": [
           {
            "line": {
             "colorbar": {
              "outlinewidth": 0,
              "ticks": ""
             }
            },
            "marker": {
             "colorbar": {
              "outlinewidth": 0,
              "ticks": ""
             }
            },
            "type": "scatter3d"
           }
          ],
          "scattercarpet": [
           {
            "marker": {
             "colorbar": {
              "outlinewidth": 0,
              "ticks": ""
             }
            },
            "type": "scattercarpet"
           }
          ],
          "scattergeo": [
           {
            "marker": {
             "colorbar": {
              "outlinewidth": 0,
              "ticks": ""
             }
            },
            "type": "scattergeo"
           }
          ],
          "scattergl": [
           {
            "marker": {
             "colorbar": {
              "outlinewidth": 0,
              "ticks": ""
             }
            },
            "type": "scattergl"
           }
          ],
          "scattermapbox": [
           {
            "marker": {
             "colorbar": {
              "outlinewidth": 0,
              "ticks": ""
             }
            },
            "type": "scattermapbox"
           }
          ],
          "scatterpolar": [
           {
            "marker": {
             "colorbar": {
              "outlinewidth": 0,
              "ticks": ""
             }
            },
            "type": "scatterpolar"
           }
          ],
          "scatterpolargl": [
           {
            "marker": {
             "colorbar": {
              "outlinewidth": 0,
              "ticks": ""
             }
            },
            "type": "scatterpolargl"
           }
          ],
          "scatterternary": [
           {
            "marker": {
             "colorbar": {
              "outlinewidth": 0,
              "ticks": ""
             }
            },
            "type": "scatterternary"
           }
          ],
          "surface": [
           {
            "colorbar": {
             "outlinewidth": 0,
             "ticks": ""
            },
            "colorscale": [
             [
              0,
              "#0d0887"
             ],
             [
              0.1111111111111111,
              "#46039f"
             ],
             [
              0.2222222222222222,
              "#7201a8"
             ],
             [
              0.3333333333333333,
              "#9c179e"
             ],
             [
              0.4444444444444444,
              "#bd3786"
             ],
             [
              0.5555555555555556,
              "#d8576b"
             ],
             [
              0.6666666666666666,
              "#ed7953"
             ],
             [
              0.7777777777777778,
              "#fb9f3a"
             ],
             [
              0.8888888888888888,
              "#fdca26"
             ],
             [
              1,
              "#f0f921"
             ]
            ],
            "type": "surface"
           }
          ],
          "table": [
           {
            "cells": {
             "fill": {
              "color": "#EBF0F8"
             },
             "line": {
              "color": "white"
             }
            },
            "header": {
             "fill": {
              "color": "#C8D4E3"
             },
             "line": {
              "color": "white"
             }
            },
            "type": "table"
           }
          ]
         },
         "layout": {
          "annotationdefaults": {
           "arrowcolor": "#2a3f5f",
           "arrowhead": 0,
           "arrowwidth": 1
          },
          "autotypenumbers": "strict",
          "coloraxis": {
           "colorbar": {
            "outlinewidth": 0,
            "ticks": ""
           }
          },
          "colorscale": {
           "diverging": [
            [
             0,
             "#8e0152"
            ],
            [
             0.1,
             "#c51b7d"
            ],
            [
             0.2,
             "#de77ae"
            ],
            [
             0.3,
             "#f1b6da"
            ],
            [
             0.4,
             "#fde0ef"
            ],
            [
             0.5,
             "#f7f7f7"
            ],
            [
             0.6,
             "#e6f5d0"
            ],
            [
             0.7,
             "#b8e186"
            ],
            [
             0.8,
             "#7fbc41"
            ],
            [
             0.9,
             "#4d9221"
            ],
            [
             1,
             "#276419"
            ]
           ],
           "sequential": [
            [
             0,
             "#0d0887"
            ],
            [
             0.1111111111111111,
             "#46039f"
            ],
            [
             0.2222222222222222,
             "#7201a8"
            ],
            [
             0.3333333333333333,
             "#9c179e"
            ],
            [
             0.4444444444444444,
             "#bd3786"
            ],
            [
             0.5555555555555556,
             "#d8576b"
            ],
            [
             0.6666666666666666,
             "#ed7953"
            ],
            [
             0.7777777777777778,
             "#fb9f3a"
            ],
            [
             0.8888888888888888,
             "#fdca26"
            ],
            [
             1,
             "#f0f921"
            ]
           ],
           "sequentialminus": [
            [
             0,
             "#0d0887"
            ],
            [
             0.1111111111111111,
             "#46039f"
            ],
            [
             0.2222222222222222,
             "#7201a8"
            ],
            [
             0.3333333333333333,
             "#9c179e"
            ],
            [
             0.4444444444444444,
             "#bd3786"
            ],
            [
             0.5555555555555556,
             "#d8576b"
            ],
            [
             0.6666666666666666,
             "#ed7953"
            ],
            [
             0.7777777777777778,
             "#fb9f3a"
            ],
            [
             0.8888888888888888,
             "#fdca26"
            ],
            [
             1,
             "#f0f921"
            ]
           ]
          },
          "colorway": [
           "#636efa",
           "#EF553B",
           "#00cc96",
           "#ab63fa",
           "#FFA15A",
           "#19d3f3",
           "#FF6692",
           "#B6E880",
           "#FF97FF",
           "#FECB52"
          ],
          "font": {
           "color": "#2a3f5f"
          },
          "geo": {
           "bgcolor": "white",
           "lakecolor": "white",
           "landcolor": "#E5ECF6",
           "showlakes": true,
           "showland": true,
           "subunitcolor": "white"
          },
          "hoverlabel": {
           "align": "left"
          },
          "hovermode": "closest",
          "mapbox": {
           "style": "light"
          },
          "paper_bgcolor": "white",
          "plot_bgcolor": "#E5ECF6",
          "polar": {
           "angularaxis": {
            "gridcolor": "white",
            "linecolor": "white",
            "ticks": ""
           },
           "bgcolor": "#E5ECF6",
           "radialaxis": {
            "gridcolor": "white",
            "linecolor": "white",
            "ticks": ""
           }
          },
          "scene": {
           "xaxis": {
            "backgroundcolor": "#E5ECF6",
            "gridcolor": "white",
            "gridwidth": 2,
            "linecolor": "white",
            "showbackground": true,
            "ticks": "",
            "zerolinecolor": "white"
           },
           "yaxis": {
            "backgroundcolor": "#E5ECF6",
            "gridcolor": "white",
            "gridwidth": 2,
            "linecolor": "white",
            "showbackground": true,
            "ticks": "",
            "zerolinecolor": "white"
           },
           "zaxis": {
            "backgroundcolor": "#E5ECF6",
            "gridcolor": "white",
            "gridwidth": 2,
            "linecolor": "white",
            "showbackground": true,
            "ticks": "",
            "zerolinecolor": "white"
           }
          },
          "shapedefaults": {
           "line": {
            "color": "#2a3f5f"
           }
          },
          "ternary": {
           "aaxis": {
            "gridcolor": "white",
            "linecolor": "white",
            "ticks": ""
           },
           "baxis": {
            "gridcolor": "white",
            "linecolor": "white",
            "ticks": ""
           },
           "bgcolor": "#E5ECF6",
           "caxis": {
            "gridcolor": "white",
            "linecolor": "white",
            "ticks": ""
           }
          },
          "title": {
           "x": 0.05
          },
          "xaxis": {
           "automargin": true,
           "gridcolor": "white",
           "linecolor": "white",
           "ticks": "",
           "title": {
            "standoff": 15
           },
           "zerolinecolor": "white",
           "zerolinewidth": 2
          },
          "yaxis": {
           "automargin": true,
           "gridcolor": "white",
           "linecolor": "white",
           "ticks": "",
           "title": {
            "standoff": 15
           },
           "zerolinecolor": "white",
           "zerolinewidth": 2
          }
         }
        },
        "title": {
         "font": {
          "family": "Arial",
          "size": 24
         },
         "text": "<b>Distribución de Niveles de Expresión</b><br><sub>Análisis de expresión génica</sub>",
         "x": 0.5
        },
        "width": 1000,
        "xaxis": {
         "gridcolor": "rgba(150,150,150,0.2)",
         "linecolor": "#333",
         "mirror": true,
         "showgrid": true,
         "title": {
          "text": "Frecuencia"
         },
         "zeroline": false
        },
        "yaxis": {
         "linecolor": "#333",
         "mirror": true,
         "tickfont": {
          "size": 14
         },
         "title": {
          "text": "Nivel de Expresión"
         },
         "type": "category"
        }
       }
      }
     },
     "metadata": {},
     "output_type": "display_data"
    },
    {
     "data": {
      "text/html": [
       "\n",
       "    <div style=\"background-color:#eaf4ea; \n",
       "                color:#2e6637;\n",
       "                padding: 12px; \n",
       "                border-radius: 8px;\n",
       "                border-left: 4px solid #2e6637;\n",
       "                margin: 10px 0;\n",
       "                box-shadow: 0 2px 4px rgba(0,0,0,0.1);\">\n",
       "        <div style=\"font-size: 1.1em; margin-bottom: 6px;\">\n",
       "            🧬 <strong>Gráfico guardado</strong>\n",
       "        </div>\n",
       "        <div style=\"font-size: 0.95em; margin-left: 24px;\">\n",
       "            distribucion_niveles_expresion.png\n",
       "        </div>\n",
       "    </div>\n",
       "    "
      ],
      "text/plain": [
       "<IPython.core.display.HTML object>"
      ]
     },
     "metadata": {},
     "output_type": "display_data"
    },
    {
     "data": {
      "text/plain": [
       "PosixPath('../resultados/miRNAs/Cáncer y TEM/miRNA de referencia/Breast Cancer/distribucion_niveles_expresion.png')"
      ]
     },
     "execution_count": 17,
     "metadata": {},
     "output_type": "execute_result"
    }
   ],
   "source": [
    "import plotly.graph_objects as go\n",
    "from plotly.colors import sample_colorscale\n",
    "\n",
    "# Orden deseado de las categorías\n",
    "orden_niveles = ['estable', 'subexpresado',  'sobreexpresado']\n",
    "\n",
    "# Calcular frecuencias y reindexar\n",
    "expression_counts = df_combined_expresion['nivel_expresion'].value_counts()\n",
    "expression_counts = expression_counts.reindex(orden_niveles, fill_value=0)\n",
    "\n",
    "# Generar colores usando escala divergente nativa de Plotly\n",
    "colors = sample_colorscale('RdYlBu_r', [0.0, 0.4, 0.8])  # Azul -> Amarillo -> Rojo\n",
    "\n",
    "# Crear gráfico interactivo\n",
    "fig = go.Figure()\n",
    "\n",
    "fig.add_trace(\n",
    "    go.Bar(\n",
    "        y=expression_counts.index,\n",
    "        x=expression_counts.values,\n",
    "        orientation='h',\n",
    "        marker=dict(\n",
    "            color=colors,\n",
    "            line=dict(color='#333', width=1)\n",
    "        ),\n",
    "        text=expression_counts.values,\n",
    "        texttemplate='<b>%{text}</b>',\n",
    "        textposition='outside',\n",
    "        hovertemplate=(\n",
    "            \"<b>%{y}</b><br>\"\n",
    "            \"Frecuencia: %{x}<br>\"\n",
    "            \"<extra></extra>\"\n",
    "        )\n",
    "    )\n",
    ")\n",
    "\n",
    "# Personalización avanzada\n",
    "fig.update_layout(\n",
    "    title=dict(\n",
    "        text='<b>Distribución de Niveles de Expresión</b><br><sub>Análisis de expresión génica</sub>',\n",
    "        x=0.5,\n",
    "        font=dict(size=24, family='Arial')\n",
    "    ),\n",
    "    xaxis=dict(\n",
    "        title='Frecuencia',\n",
    "        showgrid=True,\n",
    "        gridcolor='rgba(150,150,150,0.2)',\n",
    "        linecolor='#333',\n",
    "        mirror=True,\n",
    "        zeroline=False\n",
    "    ),\n",
    "    yaxis=dict(\n",
    "        title='Nivel de Expresión',\n",
    "        type='category',\n",
    "        linecolor='#333',\n",
    "        mirror=True,\n",
    "        tickfont=dict(size=14)\n",
    "    ),\n",
    "    plot_bgcolor='white',\n",
    "    height=500,\n",
    "    width=1000,\n",
    "    margin=dict(t=120, b=80, l=120),\n",
    "    hoverlabel=dict(\n",
    "        bgcolor='white',\n",
    "        font_size=14,\n",
    "        bordercolor='#333'\n",
    "    )\n",
    ")\n",
    "\n",
    "fig.show()\n",
    "\n",
    "guardar_grafico(fig, 'distribucion_niveles_expresion.png')"
   ]
  },
  {
   "cell_type": "markdown",
   "metadata": {
    "id": "JgEWvLO0Dyv_"
   },
   "source": [
    "### Visualización de fold change por nivel de expresión\n",
    "\n",
    "> datos: listas de genes\n",
    "\n",
    "Este código genera una visualización en subplots para cada nivel de expresión génica (**Subexpresado**, **Estable**, **Sobreexpresado**), mostrando el **Fold Change** de los genes en cada categoría.\n",
    "\n",
    "\n",
    "**Uso*:\n",
    "- Esta visualización es útil para comparar el `fold_change` de los genes en cada nivel de expresión y identificar patrones o valores atípicos.  "
   ]
  },
  {
   "cell_type": "code",
   "execution_count": 18,
   "metadata": {
    "executionInfo": {
     "elapsed": 496,
     "status": "aborted",
     "timestamp": 1742954402983,
     "user": {
      "displayName": "Sergio CFS",
      "userId": "11626938599988753511"
     },
     "user_tz": 360
    },
    "id": "wNvnIyX7Dyv_"
   },
   "outputs": [
    {
     "data": {
      "application/vnd.plotly.v1+json": {
       "config": {
        "plotlyServerURL": "https://plot.ly"
       },
       "data": [
        {
         "hovertemplate": "<b>%{x}</b><br>Fold Change: %{y:.2f}<br>Nivel: %{fullData.name}<extra></extra>",
         "marker": {
          "color": [
           "rgb(75, 41, 145)",
           "rgb(135, 44, 162)",
           "rgb(192, 54, 157)",
           "rgb(234, 79, 136)",
           "rgb(250, 120, 118)",
           "rgb(246, 169, 122)",
           "rgb(237, 217, 163)"
          ],
          "line": {
           "color": "rgba(0,0,0,0.5)",
           "width": 1
          }
         },
         "name": "estable",
         "type": "bar",
         "x": [
          "hsa-miR-214-3p",
          "hsa-miR-15a-5p",
          "hsa-miR-93-5p",
          "hsa-miR-200c-3p",
          "hsa-miR-19b-3p",
          "hsa-miR-574-3p",
          "SNORD61"
         ],
         "xaxis": "x",
         "y": [
          1.7932298746623252,
          1.7882648718714191,
          1.5880178248435208,
          1.4871605851958445,
          1.2604105828504326,
          1.2540200713749032,
          1.026613952305411
         ],
         "yaxis": "y"
        },
        {
         "hovertemplate": "<b>%{x}</b><br>Fold Change: %{y:.2f}<br>Nivel: %{fullData.name}<extra></extra>",
         "marker": {
          "color": [
           "rgb(75, 41, 145)",
           "rgb(83, 41, 147)",
           "rgb(91, 42, 150)",
           "rgb(99, 42, 152)",
           "rgb(107, 43, 154)",
           "rgb(115, 43, 156)",
           "rgb(123, 43, 159)",
           "rgb(131, 44, 161)",
           "rgb(139, 45, 162)",
           "rgb(146, 46, 161)",
           "rgb(154, 47, 160)",
           "rgb(162, 49, 160)",
           "rgb(169, 50, 159)",
           "rgb(177, 51, 158)",
           "rgb(184, 53, 158)",
           "rgb(192, 54, 157)",
           "rgb(198, 57, 154)",
           "rgb(203, 61, 151)",
           "rgb(209, 64, 149)",
           "rgb(214, 67, 146)",
           "rgb(220, 71, 143)",
           "rgb(226, 74, 140)",
           "rgb(231, 77, 137)",
           "rgb(235, 82, 135)",
           "rgb(237, 87, 132)",
           "rgb(239, 93, 130)",
           "rgb(241, 98, 128)",
           "rgb(244, 104, 125)",
           "rgb(246, 109, 123)",
           "rgb(248, 115, 120)",
           "rgb(250, 120, 118)",
           "rgb(249, 127, 119)",
           "rgb(249, 133, 119)",
           "rgb(248, 140, 120)",
           "rgb(248, 146, 120)",
           "rgb(247, 153, 121)",
           "rgb(247, 159, 121)",
           "rgb(246, 166, 122)",
           "rgb(245, 172, 125)",
           "rgb(244, 179, 130)",
           "rgb(243, 185, 136)",
           "rgb(242, 191, 141)",
           "rgb(241, 198, 147)",
           "rgb(239, 204, 152)",
           "rgb(238, 211, 158)",
           "rgb(237, 217, 163)"
          ],
          "line": {
           "color": "rgba(0,0,0,0.5)",
           "width": 1
          }
         },
         "name": "subexpresado",
         "type": "bar",
         "x": [
          "hsa-miR-10b-5p",
          "hsa-miR-196a-5p",
          "hsa-miR-103a-3p",
          "hsa-miR-30d-5p",
          "hsa-miR-155-5p",
          "hsa-miR-224-5p",
          "hsa-miR-34a-5p",
          "hsa-miR-1-3p",
          "hsa-miR-10a-5p",
          "hsa-miR-373-3p",
          "hsa-miR-205-5p",
          "hsa-miR-134-5p",
          "hsa-miR-885-5p",
          "hsa-miR-125b-5p",
          "hsa-miR-92a-3p",
          "hsa-miR-100-5p",
          "hsa-miR-374-5p",
          "hsa-let-7c-5p",
          "hsa-miR-25-3p",
          "hsa-miR-106b-5p",
          "hsa-miR-195-5p",
          "hsa-let-7a-5p",
          "hsa-miR-191-5p",
          "hsa-miR-211-5p",
          "hsa-miR-221-3p",
          "hsa-miR-16-5p",
          "hsa-miR-130b-3p",
          "hsa-miR-26b-5p",
          "hsa-miR-20a-5p",
          "hsa-miR-215-5p",
          "hsa-miR-7-5p",
          "hsa-miR-192-5p",
          "hsa-miR-376c-3p",
          "hsa-miR-26a-5p",
          "hsa-miR-126-3p",
          "hsa-miR-423-5p",
          "hsa-miR-122-5p",
          "hsa-miR-17-5p",
          "hsa-miR-27a-3p",
          "hsa-miR-223-3p",
          "hsa-miR-15b-5p",
          "hsa-miR-146a-5p",
          "hsa-miR-23a-3p",
          "hsa-miR-148-3p",
          "hsa-miR-21-5p",
          "hsa-miR-19a-3p"
         ],
         "xaxis": "x2",
         "y": [
          0.954771300538252,
          0.9490529193769766,
          0.8904215655603227,
          0.8871359453635426,
          0.818976393573183,
          0.7484063854426211,
          0.7313127599751007,
          0.7245851310720197,
          0.7116437473649432,
          0.6880381373425418,
          0.6384123384408514,
          0.5378318530018763,
          0.4778270522320885,
          0.45540660036858766,
          0.45080031838832973,
          0.4445940171905878,
          0.40684761528576474,
          0.34833816180333316,
          0.3400676726502964,
          0.32651634228979215,
          0.28424898570576945,
          0.2726698529421442,
          0.26891592650093815,
          0.2451766977223739,
          0.22260539139008068,
          0.18503803720913262,
          0.1481599175760405,
          0.13383806889275807,
          0.12927905293666092,
          0.12720498429625557,
          0.10466810383565511,
          0.09595890063653735,
          0.08891437176193942,
          0.08234893332426076,
          0.08110270103930765,
          0.07152346494234574,
          0.0692149313516267,
          0.061949098842264266,
          0.04944244069276172,
          0.04062637464672471,
          0.03327449173666954,
          0.031948539091458415,
          0.01624223269843655,
          0.013557426002222775,
          0.008854094210200442,
          0.0028356472161557775
         ],
         "yaxis": "y2"
        },
        {
         "hovertemplate": "<b>%{x}</b><br>Fold Change: %{y:.2f}<br>Nivel: %{fullData.name}<extra></extra>",
         "marker": {
          "color": [
           "rgb(75, 41, 145)",
           "rgb(85, 41, 148)",
           "rgb(94, 42, 151)",
           "rgb(104, 42, 153)",
           "rgb(114, 43, 156)",
           "rgb(124, 43, 159)",
           "rgb(133, 44, 162)",
           "rgb(143, 45, 161)",
           "rgb(152, 47, 161)",
           "rgb(161, 49, 160)",
           "rgb(170, 50, 159)",
           "rgb(180, 52, 158)",
           "rgb(189, 53, 157)",
           "rgb(197, 57, 155)",
           "rgb(203, 61, 151)",
           "rgb(210, 65, 148)",
           "rgb(217, 69, 145)",
           "rgb(224, 73, 141)",
           "rgb(231, 77, 138)",
           "rgb(235, 82, 135)",
           "rgb(238, 89, 132)",
           "rgb(240, 96, 129)",
           "rgb(243, 102, 126)",
           "rgb(246, 109, 123)",
           "rgb(248, 116, 120)",
           "rgb(250, 123, 118)",
           "rgb(249, 131, 119)",
           "rgb(248, 139, 120)",
           "rgb(248, 146, 120)",
           "rgb(247, 154, 121)",
           "rgb(247, 162, 121)",
           "rgb(246, 170, 123)",
           "rgb(244, 178, 130)",
           "rgb(243, 186, 136)",
           "rgb(241, 194, 143)",
           "rgb(240, 201, 150)",
           "rgb(238, 209, 156)",
           "rgb(237, 217, 163)"
          ],
          "line": {
           "color": "rgba(0,0,0,0.5)",
           "width": 1
          }
         },
         "name": "sobreexpresado",
         "type": "bar",
         "x": [
          "hsa-miR-22-3p",
          "hsa-miR-24-3p",
          "SNORD95",
          "hsa-miR-133b",
          "hsa-miR-141-3p",
          "hsa-miR-31-5p",
          "hsa-miR-143-3p",
          "hsa-miR-200a-3p",
          "SNORD68",
          "hsa-miR-499a-5p",
          "hsa-miR-372-3p",
          "hsa-miR-296-5p",
          "hsa-miR-206",
          "hsa-miR-203a-3p",
          "hsa-miR-96-5p",
          "hsa-miR-128-3p",
          "SNORD72",
          "hsa-miR-107",
          "hsa-miR-204-5p",
          "hsa-miR-222-3p",
          "hsa-miR-184",
          "RNU6-6P",
          "hsa-miR-145-5p",
          "cel-miR-39-3p",
          "hsa-miR-18a-5p",
          "hsa-miR-17-3p",
          "hsa-miR-9-5p",
          "hsa-miR-208a-3p",
          "hsa-miR-29a-3p",
          "SNORD96A",
          "hsa-miR-210-3p",
          "hsa-miR-193-5p",
          "hsa-miR-150-5p",
          "hsa-miR-200b-3p",
          "hsa-miR-124-3p",
          "hsa-miR-133a-3p",
          "hsa-miR-375",
          "hsa-miR-30e-5p"
         ],
         "xaxis": "x3",
         "y": [
          197.34285005640447,
          130.43860494052453,
          34.86950001947664,
          31.850124487836233,
          23.251100647786163,
          15.525420509274587,
          12.339628930593907,
          8.486837807179468,
          8.486837807179468,
          8.486837807179468,
          8.486837807179468,
          8.486837807179468,
          8.486837807179468,
          8.486837807179468,
          8.486837807179468,
          8.486837807179468,
          8.486837807179468,
          8.486837807179468,
          7.439610577654692,
          7.129958961702602,
          6.893454346368201,
          5.932172045345321,
          5.514488623576666,
          5.352552741195537,
          5.32910689834956,
          5.258168737469479,
          5.2557395088934795,
          4.919666226338923,
          3.8688204427757937,
          3.8049929295051395,
          2.9894783708266535,
          2.7764224626175897,
          2.7230568575375096,
          2.552469589801273,
          2.484967711530318,
          2.340084197284251,
          2.1305517676757444,
          2.001701854109498
         ],
         "yaxis": "y3"
        }
       ],
       "layout": {
        "annotations": [
         {
          "font": {
           "size": 16
          },
          "showarrow": false,
          "text": "Nivel de expresión: estable",
          "x": 0.5,
          "xanchor": "center",
          "xref": "paper",
          "y": 0.9999999999999999,
          "yanchor": "bottom",
          "yref": "paper"
         },
         {
          "font": {
           "size": 16
          },
          "showarrow": false,
          "text": "Nivel de expresión: subexpresado",
          "x": 0.5,
          "xanchor": "center",
          "xref": "paper",
          "y": 0.6166666666666666,
          "yanchor": "bottom",
          "yref": "paper"
         },
         {
          "font": {
           "size": 16
          },
          "showarrow": false,
          "text": "Nivel de expresión: sobreexpresado",
          "x": 0.5,
          "xanchor": "center",
          "xref": "paper",
          "y": 0.2333333333333333,
          "yanchor": "bottom",
          "yref": "paper"
         },
         {
          "font": {
           "color": "#666",
           "size": 10
          },
          "showarrow": false,
          "text": "Visualización generada con Plotly",
          "x": 0.5,
          "xref": "paper",
          "y": -0.15,
          "yref": "paper"
         }
        ],
        "bargap": 0.4,
        "height": 1400,
        "hoverlabel": {
         "bgcolor": "white",
         "font": {
          "family": "Arial",
          "size": 12
         }
        },
        "margin": {
         "b": 100,
         "t": 150
        },
        "plot_bgcolor": "white",
        "showlegend": false,
        "template": {
         "data": {
          "bar": [
           {
            "error_x": {
             "color": "#2a3f5f"
            },
            "error_y": {
             "color": "#2a3f5f"
            },
            "marker": {
             "line": {
              "color": "#E5ECF6",
              "width": 0.5
             },
             "pattern": {
              "fillmode": "overlay",
              "size": 10,
              "solidity": 0.2
             }
            },
            "type": "bar"
           }
          ],
          "barpolar": [
           {
            "marker": {
             "line": {
              "color": "#E5ECF6",
              "width": 0.5
             },
             "pattern": {
              "fillmode": "overlay",
              "size": 10,
              "solidity": 0.2
             }
            },
            "type": "barpolar"
           }
          ],
          "carpet": [
           {
            "aaxis": {
             "endlinecolor": "#2a3f5f",
             "gridcolor": "white",
             "linecolor": "white",
             "minorgridcolor": "white",
             "startlinecolor": "#2a3f5f"
            },
            "baxis": {
             "endlinecolor": "#2a3f5f",
             "gridcolor": "white",
             "linecolor": "white",
             "minorgridcolor": "white",
             "startlinecolor": "#2a3f5f"
            },
            "type": "carpet"
           }
          ],
          "choropleth": [
           {
            "colorbar": {
             "outlinewidth": 0,
             "ticks": ""
            },
            "type": "choropleth"
           }
          ],
          "contour": [
           {
            "colorbar": {
             "outlinewidth": 0,
             "ticks": ""
            },
            "colorscale": [
             [
              0,
              "#0d0887"
             ],
             [
              0.1111111111111111,
              "#46039f"
             ],
             [
              0.2222222222222222,
              "#7201a8"
             ],
             [
              0.3333333333333333,
              "#9c179e"
             ],
             [
              0.4444444444444444,
              "#bd3786"
             ],
             [
              0.5555555555555556,
              "#d8576b"
             ],
             [
              0.6666666666666666,
              "#ed7953"
             ],
             [
              0.7777777777777778,
              "#fb9f3a"
             ],
             [
              0.8888888888888888,
              "#fdca26"
             ],
             [
              1,
              "#f0f921"
             ]
            ],
            "type": "contour"
           }
          ],
          "contourcarpet": [
           {
            "colorbar": {
             "outlinewidth": 0,
             "ticks": ""
            },
            "type": "contourcarpet"
           }
          ],
          "heatmap": [
           {
            "colorbar": {
             "outlinewidth": 0,
             "ticks": ""
            },
            "colorscale": [
             [
              0,
              "#0d0887"
             ],
             [
              0.1111111111111111,
              "#46039f"
             ],
             [
              0.2222222222222222,
              "#7201a8"
             ],
             [
              0.3333333333333333,
              "#9c179e"
             ],
             [
              0.4444444444444444,
              "#bd3786"
             ],
             [
              0.5555555555555556,
              "#d8576b"
             ],
             [
              0.6666666666666666,
              "#ed7953"
             ],
             [
              0.7777777777777778,
              "#fb9f3a"
             ],
             [
              0.8888888888888888,
              "#fdca26"
             ],
             [
              1,
              "#f0f921"
             ]
            ],
            "type": "heatmap"
           }
          ],
          "heatmapgl": [
           {
            "colorbar": {
             "outlinewidth": 0,
             "ticks": ""
            },
            "colorscale": [
             [
              0,
              "#0d0887"
             ],
             [
              0.1111111111111111,
              "#46039f"
             ],
             [
              0.2222222222222222,
              "#7201a8"
             ],
             [
              0.3333333333333333,
              "#9c179e"
             ],
             [
              0.4444444444444444,
              "#bd3786"
             ],
             [
              0.5555555555555556,
              "#d8576b"
             ],
             [
              0.6666666666666666,
              "#ed7953"
             ],
             [
              0.7777777777777778,
              "#fb9f3a"
             ],
             [
              0.8888888888888888,
              "#fdca26"
             ],
             [
              1,
              "#f0f921"
             ]
            ],
            "type": "heatmapgl"
           }
          ],
          "histogram": [
           {
            "marker": {
             "pattern": {
              "fillmode": "overlay",
              "size": 10,
              "solidity": 0.2
             }
            },
            "type": "histogram"
           }
          ],
          "histogram2d": [
           {
            "colorbar": {
             "outlinewidth": 0,
             "ticks": ""
            },
            "colorscale": [
             [
              0,
              "#0d0887"
             ],
             [
              0.1111111111111111,
              "#46039f"
             ],
             [
              0.2222222222222222,
              "#7201a8"
             ],
             [
              0.3333333333333333,
              "#9c179e"
             ],
             [
              0.4444444444444444,
              "#bd3786"
             ],
             [
              0.5555555555555556,
              "#d8576b"
             ],
             [
              0.6666666666666666,
              "#ed7953"
             ],
             [
              0.7777777777777778,
              "#fb9f3a"
             ],
             [
              0.8888888888888888,
              "#fdca26"
             ],
             [
              1,
              "#f0f921"
             ]
            ],
            "type": "histogram2d"
           }
          ],
          "histogram2dcontour": [
           {
            "colorbar": {
             "outlinewidth": 0,
             "ticks": ""
            },
            "colorscale": [
             [
              0,
              "#0d0887"
             ],
             [
              0.1111111111111111,
              "#46039f"
             ],
             [
              0.2222222222222222,
              "#7201a8"
             ],
             [
              0.3333333333333333,
              "#9c179e"
             ],
             [
              0.4444444444444444,
              "#bd3786"
             ],
             [
              0.5555555555555556,
              "#d8576b"
             ],
             [
              0.6666666666666666,
              "#ed7953"
             ],
             [
              0.7777777777777778,
              "#fb9f3a"
             ],
             [
              0.8888888888888888,
              "#fdca26"
             ],
             [
              1,
              "#f0f921"
             ]
            ],
            "type": "histogram2dcontour"
           }
          ],
          "mesh3d": [
           {
            "colorbar": {
             "outlinewidth": 0,
             "ticks": ""
            },
            "type": "mesh3d"
           }
          ],
          "parcoords": [
           {
            "line": {
             "colorbar": {
              "outlinewidth": 0,
              "ticks": ""
             }
            },
            "type": "parcoords"
           }
          ],
          "pie": [
           {
            "automargin": true,
            "type": "pie"
           }
          ],
          "scatter": [
           {
            "fillpattern": {
             "fillmode": "overlay",
             "size": 10,
             "solidity": 0.2
            },
            "type": "scatter"
           }
          ],
          "scatter3d": [
           {
            "line": {
             "colorbar": {
              "outlinewidth": 0,
              "ticks": ""
             }
            },
            "marker": {
             "colorbar": {
              "outlinewidth": 0,
              "ticks": ""
             }
            },
            "type": "scatter3d"
           }
          ],
          "scattercarpet": [
           {
            "marker": {
             "colorbar": {
              "outlinewidth": 0,
              "ticks": ""
             }
            },
            "type": "scattercarpet"
           }
          ],
          "scattergeo": [
           {
            "marker": {
             "colorbar": {
              "outlinewidth": 0,
              "ticks": ""
             }
            },
            "type": "scattergeo"
           }
          ],
          "scattergl": [
           {
            "marker": {
             "colorbar": {
              "outlinewidth": 0,
              "ticks": ""
             }
            },
            "type": "scattergl"
           }
          ],
          "scattermapbox": [
           {
            "marker": {
             "colorbar": {
              "outlinewidth": 0,
              "ticks": ""
             }
            },
            "type": "scattermapbox"
           }
          ],
          "scatterpolar": [
           {
            "marker": {
             "colorbar": {
              "outlinewidth": 0,
              "ticks": ""
             }
            },
            "type": "scatterpolar"
           }
          ],
          "scatterpolargl": [
           {
            "marker": {
             "colorbar": {
              "outlinewidth": 0,
              "ticks": ""
             }
            },
            "type": "scatterpolargl"
           }
          ],
          "scatterternary": [
           {
            "marker": {
             "colorbar": {
              "outlinewidth": 0,
              "ticks": ""
             }
            },
            "type": "scatterternary"
           }
          ],
          "surface": [
           {
            "colorbar": {
             "outlinewidth": 0,
             "ticks": ""
            },
            "colorscale": [
             [
              0,
              "#0d0887"
             ],
             [
              0.1111111111111111,
              "#46039f"
             ],
             [
              0.2222222222222222,
              "#7201a8"
             ],
             [
              0.3333333333333333,
              "#9c179e"
             ],
             [
              0.4444444444444444,
              "#bd3786"
             ],
             [
              0.5555555555555556,
              "#d8576b"
             ],
             [
              0.6666666666666666,
              "#ed7953"
             ],
             [
              0.7777777777777778,
              "#fb9f3a"
             ],
             [
              0.8888888888888888,
              "#fdca26"
             ],
             [
              1,
              "#f0f921"
             ]
            ],
            "type": "surface"
           }
          ],
          "table": [
           {
            "cells": {
             "fill": {
              "color": "#EBF0F8"
             },
             "line": {
              "color": "white"
             }
            },
            "header": {
             "fill": {
              "color": "#C8D4E3"
             },
             "line": {
              "color": "white"
             }
            },
            "type": "table"
           }
          ]
         },
         "layout": {
          "annotationdefaults": {
           "arrowcolor": "#2a3f5f",
           "arrowhead": 0,
           "arrowwidth": 1
          },
          "autotypenumbers": "strict",
          "coloraxis": {
           "colorbar": {
            "outlinewidth": 0,
            "ticks": ""
           }
          },
          "colorscale": {
           "diverging": [
            [
             0,
             "#8e0152"
            ],
            [
             0.1,
             "#c51b7d"
            ],
            [
             0.2,
             "#de77ae"
            ],
            [
             0.3,
             "#f1b6da"
            ],
            [
             0.4,
             "#fde0ef"
            ],
            [
             0.5,
             "#f7f7f7"
            ],
            [
             0.6,
             "#e6f5d0"
            ],
            [
             0.7,
             "#b8e186"
            ],
            [
             0.8,
             "#7fbc41"
            ],
            [
             0.9,
             "#4d9221"
            ],
            [
             1,
             "#276419"
            ]
           ],
           "sequential": [
            [
             0,
             "#0d0887"
            ],
            [
             0.1111111111111111,
             "#46039f"
            ],
            [
             0.2222222222222222,
             "#7201a8"
            ],
            [
             0.3333333333333333,
             "#9c179e"
            ],
            [
             0.4444444444444444,
             "#bd3786"
            ],
            [
             0.5555555555555556,
             "#d8576b"
            ],
            [
             0.6666666666666666,
             "#ed7953"
            ],
            [
             0.7777777777777778,
             "#fb9f3a"
            ],
            [
             0.8888888888888888,
             "#fdca26"
            ],
            [
             1,
             "#f0f921"
            ]
           ],
           "sequentialminus": [
            [
             0,
             "#0d0887"
            ],
            [
             0.1111111111111111,
             "#46039f"
            ],
            [
             0.2222222222222222,
             "#7201a8"
            ],
            [
             0.3333333333333333,
             "#9c179e"
            ],
            [
             0.4444444444444444,
             "#bd3786"
            ],
            [
             0.5555555555555556,
             "#d8576b"
            ],
            [
             0.6666666666666666,
             "#ed7953"
            ],
            [
             0.7777777777777778,
             "#fb9f3a"
            ],
            [
             0.8888888888888888,
             "#fdca26"
            ],
            [
             1,
             "#f0f921"
            ]
           ]
          },
          "colorway": [
           "#636efa",
           "#EF553B",
           "#00cc96",
           "#ab63fa",
           "#FFA15A",
           "#19d3f3",
           "#FF6692",
           "#B6E880",
           "#FF97FF",
           "#FECB52"
          ],
          "font": {
           "color": "#2a3f5f"
          },
          "geo": {
           "bgcolor": "white",
           "lakecolor": "white",
           "landcolor": "#E5ECF6",
           "showlakes": true,
           "showland": true,
           "subunitcolor": "white"
          },
          "hoverlabel": {
           "align": "left"
          },
          "hovermode": "closest",
          "mapbox": {
           "style": "light"
          },
          "paper_bgcolor": "white",
          "plot_bgcolor": "#E5ECF6",
          "polar": {
           "angularaxis": {
            "gridcolor": "white",
            "linecolor": "white",
            "ticks": ""
           },
           "bgcolor": "#E5ECF6",
           "radialaxis": {
            "gridcolor": "white",
            "linecolor": "white",
            "ticks": ""
           }
          },
          "scene": {
           "xaxis": {
            "backgroundcolor": "#E5ECF6",
            "gridcolor": "white",
            "gridwidth": 2,
            "linecolor": "white",
            "showbackground": true,
            "ticks": "",
            "zerolinecolor": "white"
           },
           "yaxis": {
            "backgroundcolor": "#E5ECF6",
            "gridcolor": "white",
            "gridwidth": 2,
            "linecolor": "white",
            "showbackground": true,
            "ticks": "",
            "zerolinecolor": "white"
           },
           "zaxis": {
            "backgroundcolor": "#E5ECF6",
            "gridcolor": "white",
            "gridwidth": 2,
            "linecolor": "white",
            "showbackground": true,
            "ticks": "",
            "zerolinecolor": "white"
           }
          },
          "shapedefaults": {
           "line": {
            "color": "#2a3f5f"
           }
          },
          "ternary": {
           "aaxis": {
            "gridcolor": "white",
            "linecolor": "white",
            "ticks": ""
           },
           "baxis": {
            "gridcolor": "white",
            "linecolor": "white",
            "ticks": ""
           },
           "bgcolor": "#E5ECF6",
           "caxis": {
            "gridcolor": "white",
            "linecolor": "white",
            "ticks": ""
           }
          },
          "title": {
           "x": 0.05
          },
          "xaxis": {
           "automargin": true,
           "gridcolor": "white",
           "linecolor": "white",
           "ticks": "",
           "title": {
            "standoff": 15
           },
           "zerolinecolor": "white",
           "zerolinewidth": 2
          },
          "yaxis": {
           "automargin": true,
           "gridcolor": "white",
           "linecolor": "white",
           "ticks": "",
           "title": {
            "standoff": 15
           },
           "zerolinecolor": "white",
           "zerolinewidth": 2
          }
         }
        },
        "title": {
         "font": {
          "family": "Arial",
          "size": 24
         },
         "text": "<b>Análisis de Expresión Génica</b>",
         "x": 0.5
        },
        "width": 1200,
        "xaxis": {
         "anchor": "y",
         "categoryorder": "total descending",
         "domain": [
          0,
          1
         ],
         "gridcolor": "rgba(200,200,200,0.3)",
         "linecolor": "#444",
         "mirror": true,
         "showgrid": true,
         "tickangle": 90,
         "title": {
          "text": "Genes"
         },
         "zeroline": false
        },
        "xaxis2": {
         "anchor": "y2",
         "categoryorder": "total descending",
         "domain": [
          0,
          1
         ],
         "gridcolor": "rgba(200,200,200,0.3)",
         "linecolor": "#444",
         "mirror": true,
         "showgrid": true,
         "tickangle": 90,
         "title": {
          "text": "Genes"
         },
         "zeroline": false
        },
        "xaxis3": {
         "anchor": "y3",
         "categoryorder": "total descending",
         "domain": [
          0,
          1
         ],
         "gridcolor": "rgba(200,200,200,0.3)",
         "linecolor": "#444",
         "mirror": true,
         "showgrid": true,
         "tickangle": 90,
         "title": {
          "text": "Genes"
         },
         "zeroline": false
        },
        "yaxis": {
         "anchor": "x",
         "domain": [
          0.7666666666666666,
          0.9999999999999999
         ],
         "gridcolor": "rgba(200,200,200,0.3)",
         "linecolor": "#444",
         "mirror": true,
         "showgrid": true,
         "tickformat": ".1f",
         "title": {
          "text": "Fold Change"
         },
         "type": "linear",
         "zeroline": false
        },
        "yaxis2": {
         "anchor": "x2",
         "domain": [
          0.3833333333333333,
          0.6166666666666666
         ],
         "gridcolor": "rgba(200,200,200,0.3)",
         "linecolor": "#444",
         "mirror": true,
         "showgrid": true,
         "tickformat": ".1f",
         "title": {
          "text": "Fold Change (log)"
         },
         "type": "log",
         "zeroline": false
        },
        "yaxis3": {
         "anchor": "x3",
         "domain": [
          0,
          0.2333333333333333
         ],
         "gridcolor": "rgba(200,200,200,0.3)",
         "linecolor": "#444",
         "mirror": true,
         "showgrid": true,
         "tickformat": ".1f",
         "title": {
          "text": "Fold Change"
         },
         "type": "linear",
         "zeroline": false
        }
       }
      }
     },
     "metadata": {},
     "output_type": "display_data"
    },
    {
     "data": {
      "text/html": [
       "\n",
       "    <div style=\"background-color:#eaf4ea; \n",
       "                color:#2e6637;\n",
       "                padding: 12px; \n",
       "                border-radius: 8px;\n",
       "                border-left: 4px solid #2e6637;\n",
       "                margin: 10px 0;\n",
       "                box-shadow: 0 2px 4px rgba(0,0,0,0.1);\">\n",
       "        <div style=\"font-size: 1.1em; margin-bottom: 6px;\">\n",
       "            🧬 <strong>Gráfico guardado</strong>\n",
       "        </div>\n",
       "        <div style=\"font-size: 0.95em; margin-left: 24px;\">\n",
       "            analisis_expresion_genica.png\n",
       "        </div>\n",
       "    </div>\n",
       "    "
      ],
      "text/plain": [
       "<IPython.core.display.HTML object>"
      ]
     },
     "metadata": {},
     "output_type": "display_data"
    },
    {
     "data": {
      "text/plain": [
       "PosixPath('../resultados/miRNAs/Cáncer y TEM/miRNA de referencia/Breast Cancer/analisis_expresion_genica.png')"
      ]
     },
     "execution_count": 18,
     "metadata": {},
     "output_type": "execute_result"
    }
   ],
   "source": [
    "import plotly.graph_objects as go\n",
    "from plotly.subplots import make_subplots\n",
    "from plotly.colors import sample_colorscale, qualitative\n",
    "\n",
    "\n",
    "# Filtrar solo los niveles que existen en los datos\n",
    "unique_levels = [level for level in orden_niveles if level in df_combined_expresion['nivel_expresion'].unique()]\n",
    "num_levels = len(unique_levels)\n",
    "\n",
    "# Crear figura con subplots\n",
    "fig = make_subplots(\n",
    "    rows=num_levels,\n",
    "    cols=1,\n",
    "    subplot_titles=[f'Nivel de expresión: {level}' for level in unique_levels],\n",
    "    vertical_spacing=0.15,\n",
    "    specs=[[{\"secondary_y\": False}] for _ in range(num_levels)]\n",
    ")\n",
    "\n",
    "# Configurar estilo común\n",
    "axis_style = dict(\n",
    "    showgrid=True,\n",
    "    gridcolor='rgba(200,200,200,0.3)',\n",
    "    linecolor='#444',\n",
    "    mirror=True,\n",
    "    zeroline=False\n",
    ")\n",
    "\n",
    "for i, level in enumerate(unique_levels, 1):\n",
    "    # Filtrar y ordenar datos\n",
    "    data_subset = df_combined_expresion[df_combined_expresion['nivel_expresion'] == level]\n",
    "    data_subset = data_subset.sort_values('fold_change', ascending=False)\n",
    "\n",
    "    if data_subset.empty:\n",
    "        continue\n",
    "\n",
    "    num_bars = len(data_subset)\n",
    "\n",
    "    # Generar colores con escala secuencial de Plotly\n",
    "    if num_bars > 1:\n",
    "        colors = sample_colorscale('Agsunset', [n/(num_bars-1) for n in range(num_bars)])\n",
    "    else:\n",
    "        colors = [qualitative.Plotly[0]]  # Color base de Plotly\n",
    "\n",
    "    # Crear gráfico de barras\n",
    "    fig.add_trace(\n",
    "        go.Bar(\n",
    "            x=data_subset['target'],\n",
    "            y=data_subset['fold_change'],\n",
    "            marker=dict(\n",
    "                color=colors,\n",
    "                line=dict(color='rgba(0,0,0,0.5)', width=1)\n",
    "            ),\n",
    "            name=level,\n",
    "            hovertemplate=(\n",
    "                \"<b>%{x}</b><br>\"\n",
    "                \"Fold Change: %{y:.2f}<br>\"\n",
    "                \"Nivel: %{fullData.name}\"\n",
    "                \"<extra></extra>\"\n",
    "            )\n",
    "        ),\n",
    "        row=i,\n",
    "        col=1\n",
    "    )\n",
    "\n",
    "    # Configurar escalas\n",
    "    min_val = data_subset['fold_change'].min()\n",
    "    max_val = data_subset['fold_change'].max()\n",
    "\n",
    "    yaxis_config = dict(\n",
    "        type='log' if (max_val / min_val > 100 and min_val > 0) else 'linear',\n",
    "        title='Fold Change (log)' if (max_val / min_val > 100) else 'Fold Change',\n",
    "        tickformat=\".1f\",\n",
    "        **axis_style\n",
    "    )\n",
    "\n",
    "    fig.update_yaxes(yaxis_config, row=i, col=1)\n",
    "    fig.update_xaxes(\n",
    "        title='Genes',\n",
    "        tickangle=90,\n",
    "        categoryorder='total descending',\n",
    "        **axis_style,\n",
    "        row=i,\n",
    "        col=1\n",
    "    )\n",
    "\n",
    "# Configuración global del layout\n",
    "fig.update_layout(\n",
    "    height=400 * num_levels + 200,\n",
    "    width=1200,\n",
    "    title=dict(\n",
    "        text='<b>Análisis de Expresión Génica</b>',\n",
    "        x=0.5,\n",
    "        font=dict(size=24, family='Arial')\n",
    "    ),\n",
    "    plot_bgcolor='white',\n",
    "    hoverlabel=dict(\n",
    "        bgcolor='white',\n",
    "        font_size=12,\n",
    "        font_family=\"Arial\"\n",
    "    ),\n",
    "    margin=dict(t=150, b=100),\n",
    "    showlegend=False,\n",
    "    bargap=0.4  # Espaciado entre barras\n",
    ")\n",
    "\n",
    "# Añadir anotación de crédito\n",
    "fig.add_annotation(\n",
    "    text=\"Visualización generada con Plotly\",\n",
    "    xref=\"paper\",\n",
    "    yref=\"paper\",\n",
    "    x=0.5,\n",
    "    y=-0.15,\n",
    "    showarrow=False,\n",
    "    font=dict(color='#666', size=10)\n",
    ")\n",
    "\n",
    "fig.show()\n",
    "\n",
    "guardar_grafico(fig, 'analisis_expresion_genica.png')"
   ]
  },
  {
   "cell_type": "markdown",
   "metadata": {
    "id": "60qy9DrJDywB"
   },
   "source": [
    "### Construcción de un diccionario  de significados de categorías de enriquecimiento funcional\n",
    "\n",
    "Este diccionario proporciona una descripción detallada de las categorías utilizadas en el análisis de enriquecimiento funcional. Cada categoría está asociada con un significado específico que ayuda a interpretar los resultados del análisis."
   ]
  },
  {
   "cell_type": "code",
   "execution_count": 32,
   "metadata": {
    "executionInfo": {
     "elapsed": 486,
     "status": "aborted",
     "timestamp": 1742954402985,
     "user": {
      "displayName": "Sergio CFS",
      "userId": "11626938599988753511"
     },
     "user_tz": 360
    },
    "id": "tbUSao4-DywB"
   },
   "outputs": [
    {
     "data": {
      "text/markdown": [
       "### Diccionario de Significados de Categorías"
      ],
      "text/plain": [
       "<IPython.core.display.Markdown object>"
      ]
     },
     "metadata": {},
     "output_type": "display_data"
    },
    {
     "data": {
      "text/html": [
       "\n",
       "    <div style=\"background-color:#e9f5ff; \n",
       "                color:#004085;\n",
       "                padding: 12px; \n",
       "                border-radius: 8px;\n",
       "                border-left: 4px solid #004085;\n",
       "                margin: 10px 0;\n",
       "                box-shadow: 0 2px 4px rgba(0,0,0,0.1);\">\n",
       "        <div style=\"font-size: 1.1em; margin-bottom: 6px;\">\n",
       "            📊 <strong>Diccionario de categorias cargado con exito</strong>\n",
       "        </div>\n",
       "        <div style=\"font-size: 0.95em; margin-left: 24px;\">\n",
       "            \n",
       "        </div>\n",
       "    </div>\n",
       "    "
      ],
      "text/plain": [
       "<IPython.core.display.HTML object>"
      ]
     },
     "metadata": {},
     "output_type": "display_data"
    }
   ],
   "source": [
    "from IPython.display import display, Markdown, HTML\n",
    "\n",
    "# Diccionario de significados de las categorías ampliado y detallado\n",
    "categorias_significados = {\n",
    "    \"HPO\": (\n",
    "        \"Human Phenotype Ontology: Un sistema de clasificación que describe los fenotipos observados en humanos. \"\n",
    "    ),\n",
    "    \"Process\": (\n",
    "        \"Procesos biológicos generales asociados a los genes: Actividades celulares, fisiológicas o moleculares llevadas a cabo por uno o más genes.\"\n",
    "    ),\n",
    "    \"PMID\": (\n",
    "        \"Publicaciones científicas referenciadas mediante PubMed ID: Proporciona enlaces a estudios y artículos revisados por pares disponibles en PubMed.\"\n",
    "    ),\n",
    "    \"RCTM\": (\n",
    "        \"Reactome: Base de datos centrada en vías metabólicas y de señalización celular.\"\n",
    "    ),\n",
    "    \"COMPARTMENTS\": (\n",
    "        \"Localizaciones subcelulares y estructuras biológicas: Describe las ubicaciones dentro de la célula, como el núcleo, citoplasma, membrana plasmática y organelos.\"\n",
    "    ),\n",
    "    \"WikiPathways\": (\n",
    "        \"Rutas metabólicas y biológicas de la base WikiPathways: Una base de datos colaborativa que documenta y organiza rutas biológicas. \"\n",
    "    ),\n",
    "    \"KEGG\": (\n",
    "        \"Rutas y procesos biológicos anotados en KEGG (Kyoto Encyclopedia of Genes and Genomes).\"\n",
    "    ),\n",
    "    \"Component\": (\n",
    "        \"Componentes celulares asociados a los genes: Identifica las estructuras específicas dentro de la célula donde los genes o sus productos desempeñan un papel funcional.\"\n",
    "    ),\n",
    "    \"TISSUES\": (\n",
    "        \"Asociaciones específicas con tejidos biológicos: Describe la relación entre genes y su expresión preferencial o específica en tejidos como cerebro, hígado, pulmón o tejidos tumorales.\"\n",
    "    ),\n",
    "    \"Keyword\": (\n",
    "        \"Palabras clave relacionadas con las funciones genéticas: Etiquetas utilizadas para clasificar y agrupar genes según sus roles funcionales.\"\n",
    "    ),\n",
    "    \"DISEASES\": (\n",
    "        \"Relación con enfermedades humanas conocidas: Vincula genes y términos con patologías específicas como cáncer, enfermedades cardiovasculares o trastornos genéticos.\"\n",
    "    ),\n",
    "    \"Function\": (\n",
    "        \"Funciones moleculares de los genes: Define las actividades bioquímicas llevadas a cabo por los productos génicos, como proteínas y ARN.\"\n",
    "    ),\n",
    "    \"NetworkNeighborAL\": (\n",
    "        \"Genes conectados en redes de interacción cercanas: Representa la proximidad funcional o física de genes en redes biológicas.\"\n",
    "    ),\n",
    "    \"SMART\": (\n",
    "        \"Dominios específicos de proteínas anotados en SMART (Simple Modular Architecture Research Tool): Identifica regiones funcionales dentro de las proteínas.\"\n",
    "    ),\n",
    "    \"InterPro\": (\n",
    "        \"Clasificación y anotación de familias de proteínas: Integra múltiples bases de datos para identificar relaciones evolutivas y dominios funcionales en proteínas.\"\n",
    "    ),\n",
    "    \"Pfam\": (\n",
    "        \"Familias de proteínas definidas en la base Pfam: Ofrece información detallada sobre agrupaciones de proteínas relacionadas por secuencia y estructura.\"\n",
    "    )\n",
    "}\n",
    "\n",
    "# Mostrar el diccionario de significados\n",
    "display(Markdown(\"### Diccionario de Significados de Categorías\"))\n",
    "\n",
    "result_message(\"Diccionario de categorias cargado con exito\")"
   ]
  },
  {
   "cell_type": "markdown",
   "metadata": {
    "id": "0ZDVaymGDywF"
   },
   "source": [
    "### Análisis y exportación de estudios relacionados con cáncer y TEM o micro RNAs\n",
    "\n",
    "Este bloque de código realiza el análisis de un conjunto de datos bibliográficos, permitiendo elegir la relación a investigar: **cáncer y transición epitelio-mesénquima (TEM)** o **cáncer y micro RNAs** (no de forma simultánea). A partir de la selección, se identifican los estudios relevantes y se exportan los resultados a un archivo Excel.\n",
    "\n",
    "> **Nota**: Este código es útil para explorar tendencias en la literatura científica y facilita la organización y visualización de datos complejos en estudios genómicos."
   ]
  },
  {
   "cell_type": "markdown",
   "metadata": {
    "id": "V6LTePq4DywF"
   },
   "source": [
    "#### Diccionario de tipos de cáncer y criterio adicional de búsqueda\n",
    "\n",
    "A continuación, se define un diccionario que será utilizado en la clasificación automática basada en coincidencias dentro de los títulos o resúmenes de la bibliografía obtenida. Además, se incluye un criterio de búsqueda adicional que permite elegir entre **cáncer y TEM** o **cáncer y micro RNAs** para refinar los resultados."
   ]
  },
  {
   "cell_type": "code",
   "execution_count": 33,
   "metadata": {
    "executionInfo": {
     "elapsed": 501,
     "status": "aborted",
     "timestamp": 1742954403015,
     "user": {
      "displayName": "Sergio CFS",
      "userId": "11626938599988753511"
     },
     "user_tz": 360
    },
    "id": "p5_c8m6ZDywF"
   },
   "outputs": [],
   "source": [
    "\n",
    "cancer_type_keywords = {\n",
    "    'Breast Cancer': [\n",
    "        'breast', 'mammary', 'triple negative breast', 'er-positive',\n",
    "        'pr-positive', 'ductal carcinoma', 'lobular carcinoma', 'estrogen receptor', 'progesterone receptor'\n",
    "    ],\n",
    "    'Melanoma': [\n",
    "        'melanoma', 'cutaneous melanoma', 'skin melanoma', 'uveal melanoma', 'ocular melanoma',\n",
    "        'acral melanoma', 'braf', 'braf mutation'\n",
    "    ],\n",
    "    'Colon Cancer': [\n",
    "        'colon', 'colorectal', 'rectal', 'intestinal', 'intestine', 'colon adenocarcinoma',\n",
    "        'rectal adenocarcinoma', 'lynch syndrome', 'hereditary colon cancer'\n",
    "    ],\n",
    "    'Hepatocellular Carcinoma': [\n",
    "        'hepatocellular', 'hcc', 'liver cancer', 'hepatic carcinoma', 'hepatoma', 'cirrhosis',\n",
    "        'hepatitis b', 'hbv', 'hepatitis c', 'hcv', 'fibrolamellar carcinoma', 'afp', 'alpha-fetoprotein'\n",
    "    ],\n",
    "    'Prostate Cancer': [\n",
    "        'prostate', 'prostatic', 'prostate carcinoma', 'androgen receptor', 'ar-positive', 'psa',\n",
    "        'prostate-specific antigen', 'gleason score', 'crpc', 'castration-resistant'\n",
    "    ],\n",
    "    'Lung Cancer': [\n",
    "        'lung', 'pulmonary', 'bronchial', 'nsclc', 'non-small cell lung cancer', 'sclc',\n",
    "        'small cell lung cancer', 'egfr mutation', 'alk rearrangement', 'lung adenocarcinma', 'lung squamous cell carcinoma', 'lung squamous'\n",
    "    ],\n",
    "    'Pancreatic Cancer': [\n",
    "        'pancreatic', 'pancreas', 'pdac', 'ductal adenocarcinoma', 'pancreatic carcinoma',\n",
    "        'neuroendocrine tumor', 'pancreatic neuroendocrine', 'pancreatic islet cell tumor', 'whipple procedure'\n",
    "    ],\n",
    "    'Leukemia': [\n",
    "        'leukemia', 'leukaemia', 'aml', 'acute myeloid leukemia', 'acute lymphoblastic leukemia',\n",
    "        'cll', 'chronic lymphocytic leukemia', 'cml', 'chronic myeloid leukemia', 'philadelphia chromosome',\n",
    "        'bcr-abl', 'mpn', 'myeloproliferative neoplasm'\n",
    "    ],\n",
    "    'Lymphoma': [\n",
    "        'lymphoma', 'hodgkin', 'non-hodgkin', 'nhl', 'b-cell lymphoma', 't-cell lymphoma',\n",
    "        'dlbcl', 'diffuse large b-cell lymphoma', 'follicular lymphoma', 'mantle cell lymphoma',\n",
    "        'burkitt lymphoma', 'cutaneous lymphoma'\n",
    "    ],\n",
    "    'Ovarian Cancer': [\n",
    "        'ovarian', 'ovary', 'ovarian carcinoma', 'high-grade serous carcinoma', 'hgsc', 'brca1',\n",
    "        'brca2', 'ca125', 'clear cell carcinoma', 'granulosa cell tumor'\n",
    "    ],\n",
    "    'Cervical Cancer': [\n",
    "        'cervical', 'cervix', 'cervical carcinoma', 'cervical squamous cell carcinoma', 'cervical adenocarcinoma',\n",
    "        'hpv', 'human papillomavirus', 'pap smear', 'cervical dysplasia', 'cervical squamous'\n",
    "    ],\n",
    "    'Renal Cancer': [\n",
    "        'renal', 'kidney', 'rcc', 'renal carcinoma', 'clear cell carcinoma', 'papillary renal carcinoma',\n",
    "        'chromophobe renal carcinoma', 'von hippel-lindau', 'vhl'\n",
    "    ],\n",
    "    'Bladder Cancer': [\n",
    "        'bladder', 'urothelial', 'bladder carcinoma', 'transitional cell carcinoma', 'non-muscle invasive',\n",
    "        'muscle invasive', 'nmibc', 'mibc'\n",
    "    ],\n",
    "    'Glioblastoma': [\n",
    "        'glioblastoma', 'gbm', 'brain tumor', 'glioma', 'astrocytoma', 'oligodendroglioma', 'idh',\n",
    "        'idh mutation', 'mgmt methylation', 'temozolomide'\n",
    "    ],\n",
    "    'Thyroid Cancer': [\n",
    "        'thyroid', 'thyroid carcinoma', 'papillary thyroid', 'follicular thyroid', 'medullary thyroid',\n",
    "        'anaplastic thyroid', 'braf', 'braf mutation', 'ret', 'ret mutation'\n",
    "    ],\n",
    "    'Gastric Cancer': [\n",
    "        'stomach', 'gastric', 'gastric carcinoma', 'diffuse gastric cancer', 'intestinal metaplasia',\n",
    "        'epstein-barr virus', 'helicobacter pylori', 'h. pylori', 'pylori'\n",
    "    ],\n",
    "    'Esophageal Cancer': [\n",
    "        'esophageal', 'esophagus', 'esophageal carcinoma', 'barrett esophagus', 'esophageal adenocarcinoma',\n",
    "        'esophageal squamous cell carcinoma', 'squamous Cell Carcinoma of the Esophagus.'\n",
    "    ],\n",
    "    'Skin Cancer': [\n",
    "        'skin cancer', 'basal cell carcinoma', 'bcc', 'squamous cell carcinoma of the skin', 'scc',\n",
    "        'cutaneous carcinoma', 'actinic keratosis', 'uv radiation', 'squamous cell carcinoma of skin', 'squamous-cell carcinoma of the skin'\n",
    "    ],\n",
    "    'Testicular Cancer': [\n",
    "        'testicular', 'testis', 'germ cell tumor', 'seminoma', 'non-seminoma', 'beta-hcg',\n",
    "        'alpha-fetoprotein', 'afp'\n",
    "    ],\n",
    "    'Endometrial Cancer': [\n",
    "        'endometrial', 'uterine', 'endometrial carcinoma', 'serous carcinoma', 'lynch syndrome',\n",
    "        'womb cancer'\n",
    "    ],\n",
    "    'Mesothelioma': [\n",
    "        'mesothelioma', 'pleural mesothelioma', 'peritoneal mesothelioma', 'asbestos', 'asbestos exposure',\n",
    "        'asbestosis'\n",
    "    ],\n",
    "    'Head and Neck Cancer': [\n",
    "        'head and neck', 'hnc', 'oral squamous cell carcinoma', 'oscc', 'pharyngeal carcinoma',\n",
    "        'laryngeal carcinoma', 'hpv-positive', 'hpv-negative', 'nasopharyngeal carcinoma' , 'laryngeal squamous cell carcinoma', 'oral squamous', 'naso-oropharyngeal carcinoma', 'tongue squamous'\n",
    "    ],\n",
    "    'Bone Cancer': [\n",
    "    'bone cancer', 'osteosarcoma', 'chondrosarcoma', 'ewing sarcoma', 'primary bone tumor',\n",
    "    'metastatic bone cancer', 'paget disease', 'bone lesion', 'osteogenic sarcoma'\n",
    "]\n",
    "}\n",
    "\n",
    "\n",
    "emt_keywords = [\n",
    "    'epithelial-to-mesenchymal transition',\n",
    "    'epithelial mesenchymal transition',\n",
    "    'emt',\n",
    "    'mesenchymal-epithelial transition',\n",
    "    'transición epitelio-mesenquima',\n",
    "    'transición epitelio mesénquima',\n",
    "    'epitelio-mesenquimal',\n",
    "    'epitelio mesenquima', 'mesenchymal stemstromal', 'cvmscs',\n",
    "    'epithelial-mesenchymal', 'epithelial to mesenchymal', 'mesenchymal stromal cells',\n",
    "    'mesenchymalstem', 'mesenchymal transition', 'Epithelial-mesenchymal', 'mesenchymal'\n",
    "]\n",
    "\n",
    "microrna_keywords = [\n",
    "    'microrna', 'mirna', 'mirnas', 'mir', 'mir-', 'miRNA', 'miRNAs',\n",
    "    'microRNA', 'microRNAs', 'micro-RNA', 'micro-rnas',\n",
    "    'small non-coding rna', 'sncrna', 'sncrnas',\n",
    "    'non-coding rna', 'noncoding rna', 'ncRNA', 'ncRNAs',\n",
    "    'hsa-mir', 'hsa-miR', 'microRNA expression',\n",
    "    'exosomal micrornas', 'exosomal mirnas', 'mRNA'\n",
    "]\n",
    "\n",
    "general_cancer_keywords = ['cancer', 'tumor', 'metastasis']\n"
   ]
  },
  {
   "cell_type": "markdown",
   "metadata": {
    "id": "UZGGsva9DywF"
   },
   "source": [
    "### Clasificación automática de tipos de cáncer en descripciones bibliográficas\n",
    "\n",
    "> Uso enriquecimiento STRING y gseapy\n",
    "\n",
    "Clasificación de tipos de cáncer según términos de búsqueda en titulos o resúmenes de artículos de PUBMED\n",
    "\n",
    "El script define una función llamada `clasificar_tipos_cancer_bibliografia` que procesa un DataFrame con datos bibliográficos para identificar y clasificar artículos médicos relacionados con cáncer, detectando tanto menciones genéricas como tipos específicos de cáncer mediante el análisis del título utilizando expresiones regulares y un diccionario de palabras clave predefinido, añadiendo las columnas `cancer_relation` (indicando si el artículo menciona cáncer) y `cancer_type` (listando los tipos detectados). Adicionalmente, evalúa la relación con procesos biológicos clave como la Transición Epitelio-Mesénquima (TEM) y microRNAs mediante el análisis del abstract (o título en su ausencia), generando las columnas booleanas `emt_relation` y `mRNAs_relation`. Finalmente, filtra el DataFrame para conservar únicamente los artículos con relación al cáncer y devuelve el conjunto de datos enriquecido con estas nuevas clasificaciones, facilitando así el análisis bibliométrico enfocado en investigación oncológica y sus contextos moleculares asociados. La función es flexible ante variaciones en los nombres de columnas y utiliza términos configurables para adaptarse a diferentes necesidades de búsqueda."
   ]
  },
  {
   "cell_type": "code",
   "execution_count": 34,
   "metadata": {
    "executionInfo": {
     "elapsed": 501,
     "status": "aborted",
     "timestamp": 1742954403016,
     "user": {
      "displayName": "Sergio CFS",
      "userId": "11626938599988753511"
     },
     "user_tz": 360
    },
    "id": "xznTUUCzDywF"
   },
   "outputs": [],
   "source": [
    "import pandas as pd\n",
    "import re\n",
    "\n",
    "def clasificar_tipos_cancer_bibliografia(df, cancer_types=cancer_type_keywords, selected_context=\"Cáncer y TEM\"):\n",
    "    \"\"\"\n",
    "    Clasifica artículos médicos según si se menciona cáncer, añadiendo las siguientes columnas:\n",
    "      - cancer_relation: True si en el título se detecta mención (ya sea específica o genérica) de cáncer.\n",
    "      - cancer_type: Tipo(s) de cáncer detectado(s) en el título.\n",
    "      - emt_relation: True si en el abstract (o título, en ausencia de abstract) se detecta relación con TEM.\n",
    "      - mRNAs_relation: True si en el abstract (o título) se detecta relación con micro RNAs.\n",
    "\n",
    "    Además, se filtran los artículos para conservar solo aquellos relacionados con cáncer, y se retorna\n",
    "    un DataFrame que conserva todas las columnas originales más las nuevas:\n",
    "      cancer_relation, cancer_type, emt_relation, mRNAs_relation.\n",
    "\n",
    "    Parámetros:\n",
    "      - df: DataFrame con datos bibliográficos.\n",
    "      - cancer_types: Diccionario de tipos de cáncer y sus palabras clave.\n",
    "      - selected_context: (\"Cáncer y TEM\" o \"Cáncer y micro RNAs\"). (No se utiliza para condicionar el cálculo,\n",
    "                          ya que se generan ambas relaciones).\n",
    "\n",
    "    Retorna:\n",
    "      - DataFrame filtrado y con las columnas originales y las nuevas columnas indicadas.\n",
    "    \"\"\"\n",
    "    # Asegurar que el título esté en 'article_title'\n",
    "    if 'article_title' not in df.columns:\n",
    "        if 'Title' in df.columns:\n",
    "            df = df.rename(columns={'Title': 'article_title'})\n",
    "        else:\n",
    "            raise ValueError(\"El DataFrame debe contener la columna 'article_title' o 'Title'.\")\n",
    "    title_column = 'article_title'\n",
    "\n",
    "    # Usar el abstract si está disponible\n",
    "    abstract_column = 'Abstract' if 'Abstract' in df.columns else None\n",
    "\n",
    "    # Función para detectar mención y tipo de cáncer a partir del título\n",
    "    def classify_cancer_type(text: str, type_dict: dict) -> tuple:\n",
    "        text_lower = text.lower()\n",
    "        # Buscar tipos específicos de cáncer según las palabras clave\n",
    "        detected = [cancer for cancer, keywords in type_dict.items()\n",
    "                    if any(re.search(rf'\\b{keyword}\\b', text_lower) for keyword in keywords)]\n",
    "        if detected:\n",
    "            return True, \", \".join(detected)\n",
    "        # Si no se detecta un tipo específico, buscar términos genéricos\n",
    "        generic_terms = [\"cancer\", \"tumor\", \"neoplasm\", \"metastasis\", \"carcinoma\"]\n",
    "        if any(re.search(rf'\\b{term}\\b', text_lower) for term in generic_terms):\n",
    "            return True, \"General cancer mention\"\n",
    "        return False, None\n",
    "\n",
    "    # Función para detectar relación en el texto (abstract o título)\n",
    "    def detect_relation(text: str, keywords_list: list) -> bool:\n",
    "        text_lower = text.lower()\n",
    "        return any(keyword.lower() in text_lower for keyword in keywords_list)\n",
    "\n",
    "    # Aplicar la clasificación al título para obtener 'cancer_relation' y 'cancer_type'\n",
    "    df[['cancer_relation', 'cancer_type']] = df[title_column].apply(\n",
    "        lambda x: pd.Series(classify_cancer_type(x, cancer_types))\n",
    "    )\n",
    "\n",
    "    # Seleccionar la fuente de texto: se prefiere el abstract, sino se usa el título\n",
    "    source_text = df[abstract_column] if abstract_column else df[title_column]\n",
    "\n",
    "    # Calcular ambas relaciones: para TEM y para micro RNAs\n",
    "    df['emt_relation'] = source_text.apply(lambda x: detect_relation(x, emt_keywords))\n",
    "    df['mRNAs_relation'] = source_text.apply(lambda x: detect_relation(x, microrna_keywords))\n",
    "\n",
    "    # Filtrar solo los artículos que están relacionados con cáncer\n",
    "    df = df[df['cancer_relation'] == True]\n",
    "\n",
    "    return df"
   ]
  },
  {
   "cell_type": "markdown",
   "metadata": {},
   "source": [
    "## Gráfica de la distribución de la bibliografía encontrada por niveles de expresión de los distintos tipos de cáncer\n",
    "\n",
    "El script define una función `graficar_distribucion_cancer_bibliografia_barras` que procesa un DataFrame (`df`) para visualizar la distribución de estudios científicos según tipos de cáncer y niveles de expresión génica (sobreexpresados/subexpresados). Primero, divide las entradas múltiples en `cancer_type` (separadas por comas) en filas individuales usando `explode`, luego agrupa los datos para contar estudios por tipo de cáncer y nivel de expresión. Los tipos de cáncer se ordenan por frecuencia total. Utilizando Plotly Express, genera un gráfico de barras agrupadas interactivo, donde cada barra representa el número de estudios, diferenciado por colores (`#FBB4AE` para sobreexpresados, `#B3CDE3` para subexpresados). El gráfico incluye títulos personalizados, etiquetas claras, tooltips detallados y ajustes de diseño (ejes, leyenda y márgenes). Finalmente, guarda la imagen (`distribucion_cancer_bibliografia.png`) y muestra el gráfico. La visualización está optimizada para explorar patrones en datos oncológicos con un enfoque técnico pero accesible."
   ]
  },
  {
   "cell_type": "code",
   "execution_count": 45,
   "metadata": {
    "executionInfo": {
     "elapsed": 501,
     "status": "aborted",
     "timestamp": 1742954403016,
     "user": {
      "displayName": "Sergio CFS",
      "userId": "11626938599988753511"
     },
     "user_tz": 360
    },
    "id": "Y-SxVXGlDywG"
   },
   "outputs": [],
   "source": [
    "import plotly.express as px\n",
    "import pandas as pd\n",
    "\n",
    "def graficar_distribucion_cancer_bibliografia_barras(df):\n",
    "\n",
    "    df = df.assign(\n",
    "        cancer_type=df['cancer_type'].str.split(', ')\n",
    "    ).explode('cancer_type')\n",
    "\n",
    "    dataset_cancer_counts = df.groupby(['nivel_expresion', 'cancer_type']).size().reset_index(name='study_count')\n",
    "\n",
    "    # Ordenar los tipos de cáncer por frecuencia total\n",
    "    cancer_order = dataset_cancer_counts.groupby('cancer_type')['study_count'].sum().sort_values(ascending=False).index\n",
    "    dataset_cancer_counts['cancer_type'] = pd.Categorical(dataset_cancer_counts['cancer_type'],\n",
    "                                                        categories=cancer_order,\n",
    "                                                        ordered=True)\n",
    "\n",
    "    color_discrete_map = {\n",
    "        'Sobreexpresados': '#FBB4AE',\n",
    "        'Subexpresados': '#B3CDE3'}\n",
    "\n",
    "    # Crear gráfico interactivo con Plotly\n",
    "    fig = px.bar(\n",
    "        dataset_cancer_counts.sort_values('cancer_type'),\n",
    "        x='cancer_type',\n",
    "        y='study_count',\n",
    "        color='nivel_expresion',\n",
    "        # barmode p\n",
    "        barmode='group',\n",
    "        color_discrete_map=color_discrete_map,\n",
    "        title=f'<b>Número de estudios por tipo de cáncer y conjuntos de expresión</b>',\n",
    "        labels={\n",
    "            'study_count': '<b>Número de estudios</b>',\n",
    "            'cancer_type': '<b>Tipo de cáncer</b>',\n",
    "            'dataset': '<b>Conjunto de datos</b>'\n",
    "        },\n",
    "        hover_data={'study_count': ':.0f'},\n",
    "        height=600,\n",
    "        width=1200\n",
    "    )\n",
    "\n",
    "    # Personalizar layout\n",
    "    fig.update_layout(\n",
    "        template='plotly_white',\n",
    "        title_font_size=20,\n",
    "        title_x=0.5,\n",
    "        xaxis_tickangle=-45,\n",
    "        hoverlabel=dict(\n",
    "            bgcolor=\"white\",\n",
    "            font_size=12,\n",
    "            font_family=\"Arial\"\n",
    "        ),\n",
    "        legend=dict(\n",
    "            title_text='<b>Conjunto de datos</b>',\n",
    "            orientation=\"v\",\n",
    "            yanchor=\"bottom\",\n",
    "            y=0.8,\n",
    "            xanchor=\"right\",\n",
    "            x=0.9\n",
    "        ),\n",
    "        margin=dict(l=50, r=50, b=150, t=100),\n",
    "        xaxis=dict(\n",
    "            tickfont=dict(size=12),\n",
    "            title_standoff=25\n",
    "        ),\n",
    "        yaxis=dict(\n",
    "            range=[0, dataset_cancer_counts['study_count'].max() * 1.15],\n",
    "            gridcolor='lightgrey'\n",
    "        )\n",
    "    )\n",
    "\n",
    "    # Mejorar tooltips\n",
    "    fig.update_traces(\n",
    "        hovertemplate=\"<br>\".join([\n",
    "            \"<b>Tipo de cáncer:</b> %{x}\",\n",
    "            \"<b>Conjunto de datos:</b> %{fullData.name}\",\n",
    "            \"<b>Número de estudios:</b> %{y}\"\n",
    "        ])\n",
    "    )\n",
    "\n",
    "    guardar_grafico(fig, 'distribucion_cancer_bibliografia.png')\n",
    "    fig.show()\n"
   ]
  },
  {
   "cell_type": "markdown",
   "metadata": {},
   "source": [
    "## Scatter plot del número de articulos que relacionan tipo de cáncer - contexto biológico\n",
    "\n",
    "El script define una función en Python que genera un gráfico interactivo para visualizar la distribución de artículos científicos según categorías específicas y niveles de expresión asociados.  \n",
    "\n",
    "Primero, la función valida los parámetros de entrada, incluyendo un DataFrame con datos bibliográficos y un contexto de filtrado (como \"Cáncer y TEM\" o \"Cáncer y micro RNAs\"). Luego, filtra los registros relevantes, separa las categorías anidadas (como tipos de cáncer en formato de lista) en filas individuales y agrupa los datos para contar las ocurrencias por categoría y nivel de expresión.  \n",
    "\n",
    "Utilizando Plotly Express, crea un gráfico de dispersión donde:  \n",
    "- El eje **Y** muestra las categorías (ordenadas por frecuencia).  \n",
    "- El eje **X** representa el número de artículos.  \n",
    "- Los puntos se colorean según el nivel de expresión y su tamaño refleja la cantidad de estudios.  \n",
    "\n",
    "El gráfico incluye un título dinámico, etiquetas claras y un diseño limpio con tooltips interactivos. Finalmente, guarda la visualización como imagen PNG y la muestra en pantalla.  \n",
    "\n",
    "Esta función es útil para análisis bibliométricos, permitiendo explorar patrones en estudios científicos basados en categorías temáticas y niveles de expresión génica.\n"
   ]
  },
  {
   "cell_type": "code",
   "execution_count": 38,
   "metadata": {
    "executionInfo": {
     "elapsed": 1,
     "status": "aborted",
     "timestamp": 1742954403018,
     "user": {
      "displayName": "Sergio CFS",
      "userId": "11626938599988753511"
     },
     "user_tz": 360
    },
    "id": "T9vDLzV8DywG"
   },
   "outputs": [],
   "source": [
    "import pandas as pd\n",
    "import plotly.express as px\n",
    "\n",
    "def graficar_distribucion_cancer_bibliografia(df: pd.DataFrame, selected_context) -> None:\n",
    "    \"\"\"\n",
    "    Genera y muestra un gráfico interactivo que visualiza la distribución de artículos\n",
    "    de bibliografía categorizados por tipo de cáncer y nivel de expresión,\n",
    "    únicamente para los artículos relacionados con el contexto seleccionado.\n",
    "\n",
    "    El DataFrame de entrada debe contener, al menos, las siguientes columnas:\n",
    "        - 'cancer_type': Cadena de texto con tipos de cáncer, separados por comas y un espacio (\", \").\n",
    "        - Una columna indicadora de relación con el contexto, que será:\n",
    "            * 'emt_relation' para \"Cáncer y TEM\"\n",
    "            * 'mRNAs_relation' para \"Cáncer y micro RNAs\"\n",
    "        - 'nivel_expresion': Nivel de expresión asociado a cada artículo.\n",
    "\n",
    "    Parámetros:\n",
    "        df (pd.DataFrame): DataFrame con la información de la bibliografía.\n",
    "        selected_context (str): Contexto a utilizar (\"Cáncer y TEM\" o \"Cáncer y micro RNAs\").\n",
    "\n",
    "    Ejemplo de uso:\n",
    "        graficar_distribucion_cancer_bibliografia(mi_dataframe, selected_context=\"Cáncer y micro RNAs\")\n",
    "    \"\"\"\n",
    "    # Determinar la columna a utilizar y el nombre descriptivo del contexto\n",
    "    if selected_context == \"Cáncer y TEM\":\n",
    "        relation_column = \"emt_relation\"\n",
    "        context_name = \"Transición Epitelio Mesénquima (EMT)\"\n",
    "    elif selected_context == \"Cáncer y micro RNAs\":\n",
    "        relation_column = \"mRNAs_relation\"\n",
    "        context_name = \"micro RNAs\"\n",
    "    else:\n",
    "        raise ValueError(f\"Contexto no reconocido: '{selected_context}'. Use 'Cáncer y TEM' o 'Cáncer y micro RNAs'.\")\n",
    "\n",
    "    # Verificar que el DataFrame contenga las columnas necesarias\n",
    "    columnas_requeridas = {'cancer_type', relation_column, 'nivel_expresion'}\n",
    "    columnas_faltantes = columnas_requeridas - set(df.columns)\n",
    "    if columnas_faltantes:\n",
    "        raise ValueError(f\"El DataFrame no contiene las siguientes columnas requeridas para el contexto '{selected_context}': {columnas_faltantes}\")\n",
    "\n",
    "    # Filtrar solo los artículos relacionados con el contexto seleccionado\n",
    "    df_filtrado = df[df[relation_column] == True]\n",
    "\n",
    "    # Transformar el DataFrame: separar la columna 'cancer_type' en múltiples filas y agrupar para contar\n",
    "    df_transformado = (\n",
    "        df_filtrado.copy()\n",
    "        .assign(cancer_type=lambda d: d['cancer_type'].str.split(', '))\n",
    "        .explode('cancer_type')\n",
    "        .groupby(['cancer_type', 'nivel_expresion'], as_index=False)\n",
    "        .size()\n",
    "        .rename(columns={'size': 'count'})\n",
    "    )\n",
    "\n",
    "    # Definir mapa de colores para cada nivel de expresión\n",
    "    color_discrete_map = {\n",
    "        \"Sobreexpresados\": \"#FBB4AE\",\n",
    "        \"Subexpresados\": \"#B3CDE3\",\n",
    "    }\n",
    "\n",
    "    # Creación del gráfico de dispersión usando fstrings para incluir el contexto en el título\n",
    "    fig = px.scatter(\n",
    "        df_transformado,\n",
    "        x='count',\n",
    "        y='cancer_type',\n",
    "        color='nivel_expresion',\n",
    "        color_discrete_map=color_discrete_map,\n",
    "        size='count',\n",
    "        size_max=25,\n",
    "        title=f\"<b>Artículos relacionados con {context_name} y Nivel de Expresión</b>\",\n",
    "        labels={'count': 'Número de Artículos', 'cancer_type': 'Tipo de Cáncer'},\n",
    "        height=600,\n",
    "        width=1000,\n",
    "        template='plotly_white'\n",
    "    )\n",
    "\n",
    "    # Ajuste del layout para mejorar la visualización\n",
    "    fig.update_layout(\n",
    "        yaxis={'categoryorder': 'total ascending'},\n",
    "        hovermode='closest'\n",
    "    )\n",
    "\n",
    "    # Guardar el gráfico como imagen\n",
    "    guardar_grafico(fig, f'distribucion_cancer_bibliografia_{contexto_biologico}.png')\n",
    "\n",
    "    # Mostrar el gráfico interactivo\n",
    "    fig.show()"
   ]
  },
  {
   "cell_type": "markdown",
   "metadata": {
    "id": "zQlkgE1vDywH"
   },
   "source": [
    "# Búsqueda automatizada de bibliografía en PubMed para genes individuales\n",
    "\n",
    "El script implementa un sistema automatizado para buscar y clasificar artículos científicos en PubMed relacionados con genes específicos y su asociación con cáncer y dos contextos biológicos (Transición Epitelio-Mesénquima - TEM - o microRNAs). La función principal `fetch_pubmed_data` recibe información de genes (nombre y ID Ensembl) y construye consultas personalizadas a la API de PubMed utilizando términos clave específicos para cáncer y el contexto seleccionado. Realiza búsquedas con manejo robusto de errores (reintentos automáticos ante limitaciones de la API) y procesa los resultados para extraer metadatos clave como título, resumen, año de publicación y enlace. Cada artículo es clasificado según mencione solo cáncer, solo el contexto biológico (TEM/microRNAs) o ambos, utilizando expresiones regulares para análisis preciso del texto. La función `procesar_genes_y_guardar` paraleliza estas búsquedas para múltiples genes usando ThreadPoolExecutor, consolida los resultados en un DataFrame, elimina duplicados y enriquece la información con datos de expresión génica. El sistema incluye mecanismos de seguridad (gestión de API keys mediante variables de entorno) y proporciona retroalimentación visual del progreso mediante la barra de progreso tqdm. El output final es un dataset estructurado listo para análisis bibliométricos, conectando genes, niveles de expresión y literatura científica relevante."
   ]
  },
  {
   "cell_type": "markdown",
   "metadata": {},
   "source": []
  },
  {
   "cell_type": "code",
   "execution_count": 40,
   "metadata": {
    "executionInfo": {
     "elapsed": 775,
     "status": "aborted",
     "timestamp": 1742954403292,
     "user": {
      "displayName": "Sergio CFS",
      "userId": "11626938599988753511"
     },
     "user_tz": 360
    },
    "id": "N7MLl2coDywH"
   },
   "outputs": [],
   "source": [
    "from Bio import Entrez, Medline\n",
    "from tqdm import tqdm\n",
    "from concurrent.futures import ThreadPoolExecutor\n",
    "import time\n",
    "from urllib.error import HTTPError\n",
    "import random\n",
    "import os\n",
    "import pandas as pd\n",
    "import re\n",
    "\n",
    "import ssl\n",
    "ssl._create_default_https_context = ssl._create_unverified_context\n",
    "\n",
    "# Configuración segura de la API (usar variables de entorno)\n",
    "Entrez.email = os.getenv('NCBI_EMAIL', 'sergio.castelarf@gmail.com')\n",
    "Entrez.api_key = os.getenv('NCBI_API_KEY', 'cbcc86f288ac31140c7e0978fd743cfb0808')\n",
    "\n",
    "# Se asume que las siguientes variables globales están definidas:\n",
    "# emt_keywords: lista de palabras clave para TEM (ej: ['EMT', 'transición epitelio mesénquima'])\n",
    "# microrna_keywords: lista de palabras clave para micro RNAs (ej: ['microRNA', 'miRNA'])\n",
    "# keywords_cancer: lista de palabras clave para cáncer (ej: ['cancer', 'tumor', 'carcinoma'])\n",
    "\n",
    "def fetch_pubmed_data(gene_info, selected_context=\"Cáncer y TEM\"):\n",
    "    gene, ensembl_id = gene_info\n",
    "\n",
    "    if selected_context == \"Cáncer y TEM\":\n",
    "        context_keywords = emt_keywords\n",
    "    elif selected_context == \"Cáncer y micro RNAs\":\n",
    "        context_keywords = microrna_keywords\n",
    "    else:\n",
    "        raise ValueError(f\"Contexto no reconocido: {selected_context}\")\n",
    "\n",
    "    combined_keywords = context_keywords + general_cancer_keywords\n",
    "    query = f'(\"{gene}\"[Title] OR \"{ensembl_id}\"[Title]) AND (\"{\" OR \".join(combined_keywords)}\")'\n",
    "    # Se elimina la impresión de la query para no saturar la salida\n",
    "\n",
    "    article_data = []\n",
    "\n",
    "    for attempt in range(10):\n",
    "        try:\n",
    "            handle = Entrez.esearch(db=\"pubmed\", term=query, retmax=200)\n",
    "            record = Entrez.read(handle)\n",
    "            handle.close()\n",
    "            article_ids = record[\"IdList\"]\n",
    "\n",
    "            if not article_ids:\n",
    "                return []\n",
    "\n",
    "            handle = Entrez.efetch(db=\"pubmed\", id=article_ids, rettype=\"medline\", retmode=\"text\")\n",
    "            records = Medline.parse(handle)\n",
    "\n",
    "            for record in records:\n",
    "                title = record.get('TI', 'No title').lower()\n",
    "                abstract = record.get('AB', 'No abstract').lower()\n",
    "\n",
    "                gene_in_title = re.search(\n",
    "                    rf'\\b{re.escape(gene.lower())}\\b|\\b{re.escape(ensembl_id.lower())}\\b', title\n",
    "                )\n",
    "                if not gene_in_title:\n",
    "                    continue\n",
    "\n",
    "                year = None\n",
    "                date_str = record.get('DP', '')\n",
    "                if date_str:\n",
    "                    year_match = re.search(r'\\b(\\d{4})\\b', date_str)\n",
    "                    if year_match:\n",
    "                        year = int(year_match.group(1))\n",
    "\n",
    "                text_for_search = f\"{title} {abstract}\"\n",
    "\n",
    "                if selected_context == \"Cáncer y TEM\":\n",
    "                    found_context = any(\n",
    "                        re.search(rf'\\b{re.escape(kw.lower())}\\b', text_for_search) for kw in emt_keywords\n",
    "                    )\n",
    "                elif selected_context == \"Cáncer y micro RNAs\":\n",
    "                    found_context = any(\n",
    "                        re.search(rf'\\b{re.escape(kw.lower())}\\b', text_for_search) for kw in microrna_keywords\n",
    "                    )\n",
    "\n",
    "                found_cancer = any(\n",
    "                    re.search(rf'\\b{re.escape(kw.lower())}\\b', text_for_search) for kw in general_cancer_keywords\n",
    "                )\n",
    "\n",
    "                if found_context or found_cancer:\n",
    "                    if found_context and found_cancer:\n",
    "                        category = \"Ambos\"\n",
    "                    elif found_context:\n",
    "                        category = \"TEM\" if selected_context == \"Cáncer y TEM\" else \"micro RNAs\"\n",
    "                    elif found_cancer:\n",
    "                        category = \"Cáncer\"\n",
    "                else:\n",
    "                    category = \"Sin coincidencia\"\n",
    "\n",
    "                if category != \"Sin coincidencia\":\n",
    "                    article_data.append({\n",
    "                        \"Gene\": gene,\n",
    "                        \"Ensembl_ID\": ensembl_id,\n",
    "                        \"Title\": record.get('TI', 'No title'),\n",
    "                        \"Year\": year,\n",
    "                        \"Abstract\": record.get('AB', 'No abstract'),\n",
    "                        \"Link\": f\"https://pubmed.ncbi.nlm.nih.gov/{record.get('PMID', '')}\",\n",
    "                        \"Keyword_Category\": category\n",
    "                    })\n",
    "\n",
    "            handle.close()\n",
    "            break\n",
    "\n",
    "        except HTTPError as e:\n",
    "            if e.code == 429:\n",
    "                wait = random.uniform(1, 5)\n",
    "                time.sleep(wait)\n",
    "            else:\n",
    "                break\n",
    "\n",
    "    return article_data\n",
    "\n",
    "def procesar_genes_y_guardar(df, selected_context=\"Cáncer y TEM\"):\n",
    "    genes = df['target'].tolist()\n",
    "    ensembl_ids = df['ensembl_id'].tolist()\n",
    "\n",
    "    with ThreadPoolExecutor(max_workers=2) as executor:\n",
    "        results = list(tqdm(\n",
    "            executor.map(lambda gene_info: fetch_pubmed_data(gene_info, selected_context), zip(genes, ensembl_ids)),\n",
    "            total=len(genes),\n",
    "            desc=f\"Buscando artículos por gen para {selected_context}\"\n",
    "        ))\n",
    "\n",
    "    articles = [art for sublist in results for art in sublist]\n",
    "    df_resultado = pd.DataFrame(articles)\n",
    "    df_resultado = df_resultado.drop_duplicates(subset=['Link'], keep='first')\n",
    "    df_final = pd.merge(\n",
    "        df_resultado,\n",
    "        df[['target', 'ensembl_id', 'nivel_expresion']],\n",
    "        left_on=['Gene', 'Ensembl_ID'],\n",
    "        right_on=['target', 'ensembl_id']\n",
    "    )\n",
    "    df_final = df_final.drop(columns=['target', 'ensembl_id'])\n",
    "\n",
    "    print(f\"Búsqueda completada para {selected_context}. Artículos encontrados: {len(df_final)}\")\n",
    "    return df_final\n",
    "\n"
   ]
  },
  {
   "cell_type": "markdown",
   "metadata": {},
   "source": [
    "### Se aplica la función de búsqueda de bibliografía en pubmed\n",
    "\n",
    "Primero preprocesamos el datafram df_emsamble_info ya que este ya no contiene nombre de genes si no de miRNAS\n"
   ]
  },
  {
   "cell_type": "code",
   "execution_count": 23,
   "metadata": {},
   "outputs": [
    {
     "data": {
      "application/vnd.microsoft.datawrangler.viewer.v0+json": {
       "columns": [
        {
         "name": "index",
         "rawType": "int64",
         "type": "integer"
        },
        {
         "name": "target",
         "rawType": "object",
         "type": "string"
        },
        {
         "name": "ensembl_id",
         "rawType": "object",
         "type": "string"
        },
        {
         "name": "description",
         "rawType": "object",
         "type": "string"
        },
        {
         "name": "nivel_expresion",
         "rawType": "object",
         "type": "string"
        }
       ],
       "conversionMethod": "pd.DataFrame",
       "ref": "4e6bcbfb-59c7-4d71-84bb-a599619c252a",
       "rows": [
        [
         "0",
         "SNORD95",
         "ENSG00000264549",
         "small nucleolar RNA, C/D box 95 [Source:HGNC Symbol;Acc:HGNC:32757]",
         "Sobreexpresados"
        ],
        [
         "1",
         "miR-133b",
         "Not found",
         "No description",
         "Sobreexpresados"
        ],
        [
         "2",
         "miR-141-3p",
         "Not found",
         "No description",
         "Sobreexpresados"
        ],
        [
         "3",
         "miR-22-3p",
         "Not found",
         "No description",
         "Sobreexpresados"
        ],
        [
         "4",
         "miR-24-3p",
         "Not found",
         "No description",
         "Sobreexpresados"
        ],
        [
         "5",
         "RNU6-6P",
         "ENSG00000272055",
         "RNA, U6 small nuclear 6, pseudogene [Source:HGNC Symbol;Acc:HGNC:10228]",
         "Subexpresados"
        ],
        [
         "6",
         "SNORD61",
         "ENSG00000206979",
         "small nucleolar RNA, C/D box 61 [Source:HGNC Symbol;Acc:HGNC:10218]",
         "Subexpresados"
        ],
        [
         "7",
         "SNORD96A",
         "ENSG00000272296",
         "small nucleolar RNA, C/D box 96A [Source:HGNC Symbol;Acc:HGNC:32758]",
         "Subexpresados"
        ],
        [
         "8",
         "miR-39-3p",
         "Not found",
         "No description",
         "Subexpresados"
        ],
        [
         "9",
         "let-7a-5p",
         "Not found",
         "No description",
         "Subexpresados"
        ],
        [
         "10",
         "let-7c-5p",
         "Not found",
         "No description",
         "Subexpresados"
        ],
        [
         "11",
         "miR-1-3p",
         "Not found",
         "No description",
         "Subexpresados"
        ],
        [
         "12",
         "miR-100-5p",
         "Not found",
         "No description",
         "Subexpresados"
        ],
        [
         "13",
         "miR-103a-3p",
         "Not found",
         "No description",
         "Subexpresados"
        ],
        [
         "14",
         "miR-106b-5p",
         "Not found",
         "No description",
         "Subexpresados"
        ],
        [
         "15",
         "miR-10a-5p",
         "Not found",
         "No description",
         "Subexpresados"
        ],
        [
         "16",
         "miR-10b-5p",
         "Not found",
         "No description",
         "Subexpresados"
        ],
        [
         "17",
         "miR-122-5p",
         "Not found",
         "No description",
         "Subexpresados"
        ],
        [
         "18",
         "miR-124-3p",
         "Not found",
         "No description",
         "Subexpresados"
        ],
        [
         "19",
         "miR-125b-5p",
         "Not found",
         "No description",
         "Subexpresados"
        ],
        [
         "20",
         "miR-126-3p",
         "Not found",
         "No description",
         "Subexpresados"
        ],
        [
         "21",
         "miR-130b-3p",
         "Not found",
         "No description",
         "Subexpresados"
        ],
        [
         "22",
         "miR-133a-3p",
         "Not found",
         "No description",
         "Subexpresados"
        ],
        [
         "23",
         "miR-134-5p",
         "Not found",
         "No description",
         "Subexpresados"
        ],
        [
         "24",
         "miR-145-5p",
         "Not found",
         "No description",
         "Subexpresados"
        ],
        [
         "25",
         "miR-146a-5p",
         "Not found",
         "No description",
         "Subexpresados"
        ],
        [
         "26",
         "miR-148-3p",
         "Not found",
         "No description",
         "Subexpresados"
        ],
        [
         "27",
         "miR-150-5p",
         "Not found",
         "No description",
         "Subexpresados"
        ],
        [
         "28",
         "miR-155-5p",
         "Not found",
         "No description",
         "Subexpresados"
        ],
        [
         "29",
         "miR-15a-5p",
         "Not found",
         "No description",
         "Subexpresados"
        ],
        [
         "30",
         "miR-15b-5p",
         "Not found",
         "No description",
         "Subexpresados"
        ],
        [
         "31",
         "miR-16-5p",
         "Not found",
         "No description",
         "Subexpresados"
        ],
        [
         "32",
         "miR-17-3p",
         "Not found",
         "No description",
         "Subexpresados"
        ],
        [
         "33",
         "miR-17-5p",
         "Not found",
         "No description",
         "Subexpresados"
        ],
        [
         "34",
         "miR-184",
         "Not found",
         "No description",
         "Subexpresados"
        ],
        [
         "35",
         "miR-18a-5p",
         "Not found",
         "No description",
         "Subexpresados"
        ],
        [
         "36",
         "miR-191-5p",
         "Not found",
         "No description",
         "Subexpresados"
        ],
        [
         "37",
         "miR-192-5p",
         "Not found",
         "No description",
         "Subexpresados"
        ],
        [
         "38",
         "miR-193-5p",
         "Not found",
         "No description",
         "Subexpresados"
        ],
        [
         "39",
         "miR-195-5p",
         "Not found",
         "No description",
         "Subexpresados"
        ],
        [
         "40",
         "miR-196a-5p",
         "Not found",
         "No description",
         "Subexpresados"
        ],
        [
         "41",
         "miR-19a-3p",
         "Not found",
         "No description",
         "Subexpresados"
        ],
        [
         "42",
         "miR-19b-3p",
         "Not found",
         "No description",
         "Subexpresados"
        ],
        [
         "43",
         "miR-200b-3p",
         "Not found",
         "No description",
         "Subexpresados"
        ],
        [
         "44",
         "miR-200c-3p",
         "Not found",
         "No description",
         "Subexpresados"
        ],
        [
         "45",
         "miR-204-5p",
         "Not found",
         "No description",
         "Subexpresados"
        ],
        [
         "46",
         "miR-205-5p",
         "Not found",
         "No description",
         "Subexpresados"
        ],
        [
         "47",
         "miR-208a-3p",
         "Not found",
         "No description",
         "Subexpresados"
        ],
        [
         "48",
         "miR-20a-5p",
         "Not found",
         "No description",
         "Subexpresados"
        ],
        [
         "49",
         "miR-21-5p",
         "Not found",
         "No description",
         "Subexpresados"
        ]
       ],
       "shape": {
        "columns": 4,
        "rows": 78
       }
      },
      "text/html": [
       "<div>\n",
       "<style scoped>\n",
       "    .dataframe tbody tr th:only-of-type {\n",
       "        vertical-align: middle;\n",
       "    }\n",
       "\n",
       "    .dataframe tbody tr th {\n",
       "        vertical-align: top;\n",
       "    }\n",
       "\n",
       "    .dataframe thead th {\n",
       "        text-align: right;\n",
       "    }\n",
       "</style>\n",
       "<table border=\"1\" class=\"dataframe\">\n",
       "  <thead>\n",
       "    <tr style=\"text-align: right;\">\n",
       "      <th></th>\n",
       "      <th>target</th>\n",
       "      <th>ensembl_id</th>\n",
       "      <th>description</th>\n",
       "      <th>nivel_expresion</th>\n",
       "    </tr>\n",
       "  </thead>\n",
       "  <tbody>\n",
       "    <tr>\n",
       "      <th>0</th>\n",
       "      <td>SNORD95</td>\n",
       "      <td>ENSG00000264549</td>\n",
       "      <td>small nucleolar RNA, C/D box 95 [Source:HGNC Symbol;Acc:HGNC:32757]</td>\n",
       "      <td>Sobreexpresados</td>\n",
       "    </tr>\n",
       "    <tr>\n",
       "      <th>1</th>\n",
       "      <td>miR-133b</td>\n",
       "      <td>Not found</td>\n",
       "      <td>No description</td>\n",
       "      <td>Sobreexpresados</td>\n",
       "    </tr>\n",
       "    <tr>\n",
       "      <th>2</th>\n",
       "      <td>miR-141-3p</td>\n",
       "      <td>Not found</td>\n",
       "      <td>No description</td>\n",
       "      <td>Sobreexpresados</td>\n",
       "    </tr>\n",
       "    <tr>\n",
       "      <th>3</th>\n",
       "      <td>miR-22-3p</td>\n",
       "      <td>Not found</td>\n",
       "      <td>No description</td>\n",
       "      <td>Sobreexpresados</td>\n",
       "    </tr>\n",
       "    <tr>\n",
       "      <th>4</th>\n",
       "      <td>miR-24-3p</td>\n",
       "      <td>Not found</td>\n",
       "      <td>No description</td>\n",
       "      <td>Sobreexpresados</td>\n",
       "    </tr>\n",
       "    <tr>\n",
       "      <th>...</th>\n",
       "      <td>...</td>\n",
       "      <td>...</td>\n",
       "      <td>...</td>\n",
       "      <td>...</td>\n",
       "    </tr>\n",
       "    <tr>\n",
       "      <th>73</th>\n",
       "      <td>miR-7-5p</td>\n",
       "      <td>Not found</td>\n",
       "      <td>No description</td>\n",
       "      <td>Subexpresados</td>\n",
       "    </tr>\n",
       "    <tr>\n",
       "      <th>74</th>\n",
       "      <td>miR-885-5p</td>\n",
       "      <td>Not found</td>\n",
       "      <td>No description</td>\n",
       "      <td>Subexpresados</td>\n",
       "    </tr>\n",
       "    <tr>\n",
       "      <th>75</th>\n",
       "      <td>miR-9-5p</td>\n",
       "      <td>Not found</td>\n",
       "      <td>No description</td>\n",
       "      <td>Subexpresados</td>\n",
       "    </tr>\n",
       "    <tr>\n",
       "      <th>76</th>\n",
       "      <td>miR-92a-3p</td>\n",
       "      <td>Not found</td>\n",
       "      <td>No description</td>\n",
       "      <td>Subexpresados</td>\n",
       "    </tr>\n",
       "    <tr>\n",
       "      <th>77</th>\n",
       "      <td>miR-93-5p</td>\n",
       "      <td>Not found</td>\n",
       "      <td>No description</td>\n",
       "      <td>Subexpresados</td>\n",
       "    </tr>\n",
       "  </tbody>\n",
       "</table>\n",
       "<p>78 rows × 4 columns</p>\n",
       "</div>"
      ],
      "text/plain": [
       "        target       ensembl_id  \\\n",
       "0      SNORD95  ENSG00000264549   \n",
       "1     miR-133b        Not found   \n",
       "2   miR-141-3p        Not found   \n",
       "3    miR-22-3p        Not found   \n",
       "4    miR-24-3p        Not found   \n",
       "..         ...              ...   \n",
       "73    miR-7-5p        Not found   \n",
       "74  miR-885-5p        Not found   \n",
       "75    miR-9-5p        Not found   \n",
       "76  miR-92a-3p        Not found   \n",
       "77   miR-93-5p        Not found   \n",
       "\n",
       "                                                            description  \\\n",
       "0   small nucleolar RNA, C/D box 95 [Source:HGNC Symbol;Acc:HGNC:32757]   \n",
       "1                                                        No description   \n",
       "2                                                        No description   \n",
       "3                                                        No description   \n",
       "4                                                        No description   \n",
       "..                                                                  ...   \n",
       "73                                                       No description   \n",
       "74                                                       No description   \n",
       "75                                                       No description   \n",
       "76                                                       No description   \n",
       "77                                                       No description   \n",
       "\n",
       "    nivel_expresion  \n",
       "0   Sobreexpresados  \n",
       "1   Sobreexpresados  \n",
       "2   Sobreexpresados  \n",
       "3   Sobreexpresados  \n",
       "4   Sobreexpresados  \n",
       "..              ...  \n",
       "73    Subexpresados  \n",
       "74    Subexpresados  \n",
       "75    Subexpresados  \n",
       "76    Subexpresados  \n",
       "77    Subexpresados  \n",
       "\n",
       "[78 rows x 4 columns]"
      ]
     },
     "execution_count": 23,
     "metadata": {},
     "output_type": "execute_result"
    }
   ],
   "source": [
    "df_emsamble_info"
   ]
  },
  {
   "cell_type": "code",
   "execution_count": 41,
   "metadata": {},
   "outputs": [
    {
     "name": "stderr",
     "output_type": "stream",
     "text": [
      "Buscando artículos por gen para Cáncer y TEM: 100%|██████████| 84/84 [01:16<00:00,  1.09it/s]"
     ]
    },
    {
     "name": "stdout",
     "output_type": "stream",
     "text": [
      "Búsqueda completada para Cáncer y TEM. Artículos encontrados: 4433\n"
     ]
    },
    {
     "name": "stderr",
     "output_type": "stream",
     "text": [
      "\n"
     ]
    },
    {
     "data": {
      "text/html": [
       "\n",
       "    <div style=\"background-color:#eaf4ea; \n",
       "                color:#2e6637;\n",
       "                padding: 12px; \n",
       "                border-radius: 8px;\n",
       "                border-left: 4px solid #2e6637;\n",
       "                margin: 10px 0;\n",
       "                box-shadow: 0 2px 4px rgba(0,0,0,0.1);\">\n",
       "        <div style=\"font-size: 1.1em; margin-bottom: 6px;\">\n",
       "            🧬 <strong>Búsqueda de artículos en PubMed scompletada con éxito para el contexto</strong>\n",
       "        </div>\n",
       "        <div style=\"font-size: 0.95em; margin-left: 24px;\">\n",
       "            Cáncer y TEM\n",
       "        </div>\n",
       "    </div>\n",
       "    "
      ],
      "text/plain": [
       "<IPython.core.display.HTML object>"
      ]
     },
     "metadata": {},
     "output_type": "display_data"
    }
   ],
   "source": [
    "df_resultado_final = procesar_genes_y_guardar(df_emsamble_info, contexto_biologico)\n",
    "success_message(f\"Búsqueda de artículos en PubMed scompletada con éxito para el contexto: {contexto_biologico}\")"
   ]
  },
  {
   "cell_type": "markdown",
   "metadata": {
    "id": "ixpAMFxgDywH"
   },
   "source": [
    "## Clasificación de la bibliografía"
   ]
  },
  {
   "cell_type": "markdown",
   "metadata": {},
   "source": [
    "Aplicamos la función para clasificar la bibliografía encontrada y la asigna al tipo o tipos de cancer mencionados en cada articulo"
   ]
  },
  {
   "cell_type": "code",
   "execution_count": 42,
   "metadata": {
    "executionInfo": {
     "elapsed": 776,
     "status": "aborted",
     "timestamp": 1742954403293,
     "user": {
      "displayName": "Sergio CFS",
      "userId": "11626938599988753511"
     },
     "user_tz": 360
    },
    "id": "JA53YTD2DywH"
   },
   "outputs": [
    {
     "data": {
      "text/html": [
       "\n",
       "    <div style=\"background-color:#e0f2f1; \n",
       "                color:#00695c;\n",
       "                padding: 12px; \n",
       "                border-radius: 8px;\n",
       "                border-left: 4px solid #00695c;\n",
       "                margin: 10px 0;\n",
       "                box-shadow: 0 2px 4px rgba(0,0,0,0.1);\">\n",
       "        <div style=\"font-size: 1.1em; margin-bottom: 6px;\">\n",
       "            💾 <strong>Archivo exportado</strong>\n",
       "        </div>\n",
       "        <div style=\"font-size: 0.95em; margin-left: 24px;\">\n",
       "            Bibliografía de genes clasificada.xlsx Bibliografía de genes clasificada: Archivo que contiene los resultados de la búsqueda en PubMed por genes, con información adicional sobre la clasificación de tipos de cáncer y relación con EMT.\n",
       "        </div>\n",
       "    </div>\n",
       "    "
      ],
      "text/plain": [
       "<IPython.core.display.HTML object>"
      ]
     },
     "metadata": {},
     "output_type": "display_data"
    },
    {
     "data": {
      "text/plain": [
       "PosixPath('../resultados/miRNAs/Cáncer y TEM/miRNA de referencia/Breast Cancer/Bibliografía de genes clasificada.xlsx')"
      ]
     },
     "execution_count": 42,
     "metadata": {},
     "output_type": "execute_result"
    }
   ],
   "source": [
    "bibliografia_genes_clasificada = clasificar_tipos_cancer_bibliografia(df_resultado_final)\n",
    "\n",
    "export_dfs_to_excel(\n",
    "    [bibliografia_genes_clasificada],\n",
    "    [\"bibliografia_genes_clasificada\"],\n",
    "    \"Bibliografía de genes clasificada: Archivo que contiene los resultados de la búsqueda en PubMed por genes, con información adicional sobre la clasificación de tipos de cáncer y relación con EMT.\")"
   ]
  },
  {
   "cell_type": "markdown",
   "metadata": {
    "id": "LRTfvI0aDywH"
   },
   "source": [
    "## Grafico de la distribución de los tipos de cáncer con respecto a la cantidad de bibligrafia separados en grupos de expresión"
   ]
  },
  {
   "cell_type": "code",
   "execution_count": 46,
   "metadata": {
    "executionInfo": {
     "elapsed": 775,
     "status": "aborted",
     "timestamp": 1742954403293,
     "user": {
      "displayName": "Sergio CFS",
      "userId": "11626938599988753511"
     },
     "user_tz": 360
    },
    "id": "oHqnvJdWDywI"
   },
   "outputs": [
    {
     "data": {
      "text/html": [
       "\n",
       "    <div style=\"background-color:#eaf4ea; \n",
       "                color:#2e6637;\n",
       "                padding: 12px; \n",
       "                border-radius: 8px;\n",
       "                border-left: 4px solid #2e6637;\n",
       "                margin: 10px 0;\n",
       "                box-shadow: 0 2px 4px rgba(0,0,0,0.1);\">\n",
       "        <div style=\"font-size: 1.1em; margin-bottom: 6px;\">\n",
       "            🧬 <strong>Gráfico guardado</strong>\n",
       "        </div>\n",
       "        <div style=\"font-size: 0.95em; margin-left: 24px;\">\n",
       "            distribucion_cancer_bibliografia.png\n",
       "        </div>\n",
       "    </div>\n",
       "    "
      ],
      "text/plain": [
       "<IPython.core.display.HTML object>"
      ]
     },
     "metadata": {},
     "output_type": "display_data"
    },
    {
     "data": {
      "application/vnd.plotly.v1+json": {
       "config": {
        "plotlyServerURL": "https://plot.ly"
       },
       "data": [
        {
         "alignmentgroup": "True",
         "hovertemplate": "<b>Tipo de cáncer:</b> %{x}<br><b>Conjunto de datos:</b> %{fullData.name}<br><b>Número de estudios:</b> %{y}",
         "legendgroup": "Subexpresados",
         "marker": {
          "color": "#B3CDE3",
          "pattern": {
           "shape": ""
          }
         },
         "name": "Subexpresados",
         "offsetgroup": "Subexpresados",
         "orientation": "v",
         "showlegend": true,
         "textposition": "auto",
         "type": "bar",
         "x": [
          "Lung Cancer",
          "Colon Cancer",
          "Breast Cancer",
          "Hepatocellular Carcinoma",
          "Gastric Cancer",
          "Prostate Cancer",
          "General cancer mention",
          "Head and Neck Cancer",
          "Glioblastoma",
          "Cervical Cancer",
          "Bone Cancer",
          "Ovarian Cancer",
          "Renal Cancer",
          "Pancreatic Cancer",
          "Thyroid Cancer",
          "Bladder Cancer",
          "Esophageal Cancer",
          "Endometrial Cancer",
          "Melanoma",
          "Leukemia",
          "Lymphoma",
          "Testicular Cancer",
          "Mesothelioma"
         ],
         "xaxis": "x",
         "y": [
          260,
          194,
          170,
          155,
          140,
          80,
          82,
          70,
          78,
          71,
          73,
          57,
          74,
          57,
          54,
          47,
          42,
          29,
          31,
          15,
          8,
          4,
          3
         ],
         "yaxis": "y"
        },
        {
         "alignmentgroup": "True",
         "hovertemplate": "<b>Tipo de cáncer:</b> %{x}<br><b>Conjunto de datos:</b> %{fullData.name}<br><b>Número de estudios:</b> %{y}",
         "legendgroup": "Sobreexpresados",
         "marker": {
          "color": "#FBB4AE",
          "pattern": {
           "shape": ""
          }
         },
         "name": "Sobreexpresados",
         "offsetgroup": "Sobreexpresados",
         "orientation": "v",
         "showlegend": true,
         "textposition": "auto",
         "type": "bar",
         "x": [
          "Lung Cancer",
          "Colon Cancer",
          "Breast Cancer",
          "Hepatocellular Carcinoma",
          "Gastric Cancer",
          "Prostate Cancer",
          "General cancer mention",
          "Head and Neck Cancer",
          "Glioblastoma",
          "Cervical Cancer",
          "Bone Cancer",
          "Ovarian Cancer",
          "Renal Cancer",
          "Pancreatic Cancer",
          "Thyroid Cancer",
          "Bladder Cancer",
          "Esophageal Cancer",
          "Endometrial Cancer",
          "Melanoma",
          "Leukemia",
          "Lymphoma",
          "Testicular Cancer",
          "Mesothelioma"
         ],
         "xaxis": "x",
         "y": [
          219,
          208,
          169,
          140,
          140,
          109,
          94,
          97,
          70,
          76,
          63,
          76,
          54,
          51,
          42,
          47,
          50,
          36,
          25,
          28,
          11,
          3,
          2
         ],
         "yaxis": "y"
        }
       ],
       "layout": {
        "barmode": "group",
        "height": 600,
        "hoverlabel": {
         "bgcolor": "white",
         "font": {
          "family": "Arial",
          "size": 12
         }
        },
        "legend": {
         "orientation": "v",
         "title": {
          "text": "<b>Conjunto de datos</b>"
         },
         "tracegroupgap": 0,
         "x": 0.9,
         "xanchor": "right",
         "y": 0.8,
         "yanchor": "bottom"
        },
        "margin": {
         "b": 150,
         "l": 50,
         "r": 50,
         "t": 100
        },
        "template": {
         "data": {
          "bar": [
           {
            "error_x": {
             "color": "#2a3f5f"
            },
            "error_y": {
             "color": "#2a3f5f"
            },
            "marker": {
             "line": {
              "color": "white",
              "width": 0.5
             },
             "pattern": {
              "fillmode": "overlay",
              "size": 10,
              "solidity": 0.2
             }
            },
            "type": "bar"
           }
          ],
          "barpolar": [
           {
            "marker": {
             "line": {
              "color": "white",
              "width": 0.5
             },
             "pattern": {
              "fillmode": "overlay",
              "size": 10,
              "solidity": 0.2
             }
            },
            "type": "barpolar"
           }
          ],
          "carpet": [
           {
            "aaxis": {
             "endlinecolor": "#2a3f5f",
             "gridcolor": "#C8D4E3",
             "linecolor": "#C8D4E3",
             "minorgridcolor": "#C8D4E3",
             "startlinecolor": "#2a3f5f"
            },
            "baxis": {
             "endlinecolor": "#2a3f5f",
             "gridcolor": "#C8D4E3",
             "linecolor": "#C8D4E3",
             "minorgridcolor": "#C8D4E3",
             "startlinecolor": "#2a3f5f"
            },
            "type": "carpet"
           }
          ],
          "choropleth": [
           {
            "colorbar": {
             "outlinewidth": 0,
             "ticks": ""
            },
            "type": "choropleth"
           }
          ],
          "contour": [
           {
            "colorbar": {
             "outlinewidth": 0,
             "ticks": ""
            },
            "colorscale": [
             [
              0,
              "#0d0887"
             ],
             [
              0.1111111111111111,
              "#46039f"
             ],
             [
              0.2222222222222222,
              "#7201a8"
             ],
             [
              0.3333333333333333,
              "#9c179e"
             ],
             [
              0.4444444444444444,
              "#bd3786"
             ],
             [
              0.5555555555555556,
              "#d8576b"
             ],
             [
              0.6666666666666666,
              "#ed7953"
             ],
             [
              0.7777777777777778,
              "#fb9f3a"
             ],
             [
              0.8888888888888888,
              "#fdca26"
             ],
             [
              1,
              "#f0f921"
             ]
            ],
            "type": "contour"
           }
          ],
          "contourcarpet": [
           {
            "colorbar": {
             "outlinewidth": 0,
             "ticks": ""
            },
            "type": "contourcarpet"
           }
          ],
          "heatmap": [
           {
            "colorbar": {
             "outlinewidth": 0,
             "ticks": ""
            },
            "colorscale": [
             [
              0,
              "#0d0887"
             ],
             [
              0.1111111111111111,
              "#46039f"
             ],
             [
              0.2222222222222222,
              "#7201a8"
             ],
             [
              0.3333333333333333,
              "#9c179e"
             ],
             [
              0.4444444444444444,
              "#bd3786"
             ],
             [
              0.5555555555555556,
              "#d8576b"
             ],
             [
              0.6666666666666666,
              "#ed7953"
             ],
             [
              0.7777777777777778,
              "#fb9f3a"
             ],
             [
              0.8888888888888888,
              "#fdca26"
             ],
             [
              1,
              "#f0f921"
             ]
            ],
            "type": "heatmap"
           }
          ],
          "heatmapgl": [
           {
            "colorbar": {
             "outlinewidth": 0,
             "ticks": ""
            },
            "colorscale": [
             [
              0,
              "#0d0887"
             ],
             [
              0.1111111111111111,
              "#46039f"
             ],
             [
              0.2222222222222222,
              "#7201a8"
             ],
             [
              0.3333333333333333,
              "#9c179e"
             ],
             [
              0.4444444444444444,
              "#bd3786"
             ],
             [
              0.5555555555555556,
              "#d8576b"
             ],
             [
              0.6666666666666666,
              "#ed7953"
             ],
             [
              0.7777777777777778,
              "#fb9f3a"
             ],
             [
              0.8888888888888888,
              "#fdca26"
             ],
             [
              1,
              "#f0f921"
             ]
            ],
            "type": "heatmapgl"
           }
          ],
          "histogram": [
           {
            "marker": {
             "pattern": {
              "fillmode": "overlay",
              "size": 10,
              "solidity": 0.2
             }
            },
            "type": "histogram"
           }
          ],
          "histogram2d": [
           {
            "colorbar": {
             "outlinewidth": 0,
             "ticks": ""
            },
            "colorscale": [
             [
              0,
              "#0d0887"
             ],
             [
              0.1111111111111111,
              "#46039f"
             ],
             [
              0.2222222222222222,
              "#7201a8"
             ],
             [
              0.3333333333333333,
              "#9c179e"
             ],
             [
              0.4444444444444444,
              "#bd3786"
             ],
             [
              0.5555555555555556,
              "#d8576b"
             ],
             [
              0.6666666666666666,
              "#ed7953"
             ],
             [
              0.7777777777777778,
              "#fb9f3a"
             ],
             [
              0.8888888888888888,
              "#fdca26"
             ],
             [
              1,
              "#f0f921"
             ]
            ],
            "type": "histogram2d"
           }
          ],
          "histogram2dcontour": [
           {
            "colorbar": {
             "outlinewidth": 0,
             "ticks": ""
            },
            "colorscale": [
             [
              0,
              "#0d0887"
             ],
             [
              0.1111111111111111,
              "#46039f"
             ],
             [
              0.2222222222222222,
              "#7201a8"
             ],
             [
              0.3333333333333333,
              "#9c179e"
             ],
             [
              0.4444444444444444,
              "#bd3786"
             ],
             [
              0.5555555555555556,
              "#d8576b"
             ],
             [
              0.6666666666666666,
              "#ed7953"
             ],
             [
              0.7777777777777778,
              "#fb9f3a"
             ],
             [
              0.8888888888888888,
              "#fdca26"
             ],
             [
              1,
              "#f0f921"
             ]
            ],
            "type": "histogram2dcontour"
           }
          ],
          "mesh3d": [
           {
            "colorbar": {
             "outlinewidth": 0,
             "ticks": ""
            },
            "type": "mesh3d"
           }
          ],
          "parcoords": [
           {
            "line": {
             "colorbar": {
              "outlinewidth": 0,
              "ticks": ""
             }
            },
            "type": "parcoords"
           }
          ],
          "pie": [
           {
            "automargin": true,
            "type": "pie"
           }
          ],
          "scatter": [
           {
            "fillpattern": {
             "fillmode": "overlay",
             "size": 10,
             "solidity": 0.2
            },
            "type": "scatter"
           }
          ],
          "scatter3d": [
           {
            "line": {
             "colorbar": {
              "outlinewidth": 0,
              "ticks": ""
             }
            },
            "marker": {
             "colorbar": {
              "outlinewidth": 0,
              "ticks": ""
             }
            },
            "type": "scatter3d"
           }
          ],
          "scattercarpet": [
           {
            "marker": {
             "colorbar": {
              "outlinewidth": 0,
              "ticks": ""
             }
            },
            "type": "scattercarpet"
           }
          ],
          "scattergeo": [
           {
            "marker": {
             "colorbar": {
              "outlinewidth": 0,
              "ticks": ""
             }
            },
            "type": "scattergeo"
           }
          ],
          "scattergl": [
           {
            "marker": {
             "colorbar": {
              "outlinewidth": 0,
              "ticks": ""
             }
            },
            "type": "scattergl"
           }
          ],
          "scattermapbox": [
           {
            "marker": {
             "colorbar": {
              "outlinewidth": 0,
              "ticks": ""
             }
            },
            "type": "scattermapbox"
           }
          ],
          "scatterpolar": [
           {
            "marker": {
             "colorbar": {
              "outlinewidth": 0,
              "ticks": ""
             }
            },
            "type": "scatterpolar"
           }
          ],
          "scatterpolargl": [
           {
            "marker": {
             "colorbar": {
              "outlinewidth": 0,
              "ticks": ""
             }
            },
            "type": "scatterpolargl"
           }
          ],
          "scatterternary": [
           {
            "marker": {
             "colorbar": {
              "outlinewidth": 0,
              "ticks": ""
             }
            },
            "type": "scatterternary"
           }
          ],
          "surface": [
           {
            "colorbar": {
             "outlinewidth": 0,
             "ticks": ""
            },
            "colorscale": [
             [
              0,
              "#0d0887"
             ],
             [
              0.1111111111111111,
              "#46039f"
             ],
             [
              0.2222222222222222,
              "#7201a8"
             ],
             [
              0.3333333333333333,
              "#9c179e"
             ],
             [
              0.4444444444444444,
              "#bd3786"
             ],
             [
              0.5555555555555556,
              "#d8576b"
             ],
             [
              0.6666666666666666,
              "#ed7953"
             ],
             [
              0.7777777777777778,
              "#fb9f3a"
             ],
             [
              0.8888888888888888,
              "#fdca26"
             ],
             [
              1,
              "#f0f921"
             ]
            ],
            "type": "surface"
           }
          ],
          "table": [
           {
            "cells": {
             "fill": {
              "color": "#EBF0F8"
             },
             "line": {
              "color": "white"
             }
            },
            "header": {
             "fill": {
              "color": "#C8D4E3"
             },
             "line": {
              "color": "white"
             }
            },
            "type": "table"
           }
          ]
         },
         "layout": {
          "annotationdefaults": {
           "arrowcolor": "#2a3f5f",
           "arrowhead": 0,
           "arrowwidth": 1
          },
          "autotypenumbers": "strict",
          "coloraxis": {
           "colorbar": {
            "outlinewidth": 0,
            "ticks": ""
           }
          },
          "colorscale": {
           "diverging": [
            [
             0,
             "#8e0152"
            ],
            [
             0.1,
             "#c51b7d"
            ],
            [
             0.2,
             "#de77ae"
            ],
            [
             0.3,
             "#f1b6da"
            ],
            [
             0.4,
             "#fde0ef"
            ],
            [
             0.5,
             "#f7f7f7"
            ],
            [
             0.6,
             "#e6f5d0"
            ],
            [
             0.7,
             "#b8e186"
            ],
            [
             0.8,
             "#7fbc41"
            ],
            [
             0.9,
             "#4d9221"
            ],
            [
             1,
             "#276419"
            ]
           ],
           "sequential": [
            [
             0,
             "#0d0887"
            ],
            [
             0.1111111111111111,
             "#46039f"
            ],
            [
             0.2222222222222222,
             "#7201a8"
            ],
            [
             0.3333333333333333,
             "#9c179e"
            ],
            [
             0.4444444444444444,
             "#bd3786"
            ],
            [
             0.5555555555555556,
             "#d8576b"
            ],
            [
             0.6666666666666666,
             "#ed7953"
            ],
            [
             0.7777777777777778,
             "#fb9f3a"
            ],
            [
             0.8888888888888888,
             "#fdca26"
            ],
            [
             1,
             "#f0f921"
            ]
           ],
           "sequentialminus": [
            [
             0,
             "#0d0887"
            ],
            [
             0.1111111111111111,
             "#46039f"
            ],
            [
             0.2222222222222222,
             "#7201a8"
            ],
            [
             0.3333333333333333,
             "#9c179e"
            ],
            [
             0.4444444444444444,
             "#bd3786"
            ],
            [
             0.5555555555555556,
             "#d8576b"
            ],
            [
             0.6666666666666666,
             "#ed7953"
            ],
            [
             0.7777777777777778,
             "#fb9f3a"
            ],
            [
             0.8888888888888888,
             "#fdca26"
            ],
            [
             1,
             "#f0f921"
            ]
           ]
          },
          "colorway": [
           "#636efa",
           "#EF553B",
           "#00cc96",
           "#ab63fa",
           "#FFA15A",
           "#19d3f3",
           "#FF6692",
           "#B6E880",
           "#FF97FF",
           "#FECB52"
          ],
          "font": {
           "color": "#2a3f5f"
          },
          "geo": {
           "bgcolor": "white",
           "lakecolor": "white",
           "landcolor": "white",
           "showlakes": true,
           "showland": true,
           "subunitcolor": "#C8D4E3"
          },
          "hoverlabel": {
           "align": "left"
          },
          "hovermode": "closest",
          "mapbox": {
           "style": "light"
          },
          "paper_bgcolor": "white",
          "plot_bgcolor": "white",
          "polar": {
           "angularaxis": {
            "gridcolor": "#EBF0F8",
            "linecolor": "#EBF0F8",
            "ticks": ""
           },
           "bgcolor": "white",
           "radialaxis": {
            "gridcolor": "#EBF0F8",
            "linecolor": "#EBF0F8",
            "ticks": ""
           }
          },
          "scene": {
           "xaxis": {
            "backgroundcolor": "white",
            "gridcolor": "#DFE8F3",
            "gridwidth": 2,
            "linecolor": "#EBF0F8",
            "showbackground": true,
            "ticks": "",
            "zerolinecolor": "#EBF0F8"
           },
           "yaxis": {
            "backgroundcolor": "white",
            "gridcolor": "#DFE8F3",
            "gridwidth": 2,
            "linecolor": "#EBF0F8",
            "showbackground": true,
            "ticks": "",
            "zerolinecolor": "#EBF0F8"
           },
           "zaxis": {
            "backgroundcolor": "white",
            "gridcolor": "#DFE8F3",
            "gridwidth": 2,
            "linecolor": "#EBF0F8",
            "showbackground": true,
            "ticks": "",
            "zerolinecolor": "#EBF0F8"
           }
          },
          "shapedefaults": {
           "line": {
            "color": "#2a3f5f"
           }
          },
          "ternary": {
           "aaxis": {
            "gridcolor": "#DFE8F3",
            "linecolor": "#A2B1C6",
            "ticks": ""
           },
           "baxis": {
            "gridcolor": "#DFE8F3",
            "linecolor": "#A2B1C6",
            "ticks": ""
           },
           "bgcolor": "white",
           "caxis": {
            "gridcolor": "#DFE8F3",
            "linecolor": "#A2B1C6",
            "ticks": ""
           }
          },
          "title": {
           "x": 0.05
          },
          "xaxis": {
           "automargin": true,
           "gridcolor": "#EBF0F8",
           "linecolor": "#EBF0F8",
           "ticks": "",
           "title": {
            "standoff": 15
           },
           "zerolinecolor": "#EBF0F8",
           "zerolinewidth": 2
          },
          "yaxis": {
           "automargin": true,
           "gridcolor": "#EBF0F8",
           "linecolor": "#EBF0F8",
           "ticks": "",
           "title": {
            "standoff": 15
           },
           "zerolinecolor": "#EBF0F8",
           "zerolinewidth": 2
          }
         }
        },
        "title": {
         "font": {
          "size": 20
         },
         "text": "<b>Número de estudios por tipo de cáncer y conjuntos de expresión</b>",
         "x": 0.5
        },
        "width": 1200,
        "xaxis": {
         "anchor": "y",
         "domain": [
          0,
          1
         ],
         "tickangle": -45,
         "tickfont": {
          "size": 12
         },
         "title": {
          "standoff": 25,
          "text": "<b>Tipo de cáncer</b>"
         }
        },
        "yaxis": {
         "anchor": "x",
         "domain": [
          0,
          1
         ],
         "gridcolor": "lightgrey",
         "range": [
          0,
          299
         ],
         "title": {
          "text": "<b>Número de estudios</b>"
         }
        }
       }
      }
     },
     "metadata": {},
     "output_type": "display_data"
    }
   ],
   "source": [
    "graficar_distribucion_cancer_bibliografia_barras(bibliografia_genes_clasificada)"
   ]
  },
  {
   "cell_type": "code",
   "execution_count": 44,
   "metadata": {
    "executionInfo": {
     "elapsed": 776,
     "status": "aborted",
     "timestamp": 1742954403294,
     "user": {
      "displayName": "Sergio CFS",
      "userId": "11626938599988753511"
     },
     "user_tz": 360
    },
    "id": "DmvzlBg2DywI"
   },
   "outputs": [
    {
     "data": {
      "text/html": [
       "\n",
       "    <div style=\"background-color:#eaf4ea; \n",
       "                color:#2e6637;\n",
       "                padding: 12px; \n",
       "                border-radius: 8px;\n",
       "                border-left: 4px solid #2e6637;\n",
       "                margin: 10px 0;\n",
       "                box-shadow: 0 2px 4px rgba(0,0,0,0.1);\">\n",
       "        <div style=\"font-size: 1.1em; margin-bottom: 6px;\">\n",
       "            🧬 <strong>Gráfico guardado</strong>\n",
       "        </div>\n",
       "        <div style=\"font-size: 0.95em; margin-left: 24px;\">\n",
       "            distribucion_cancer_bibliografia_Cáncer y TEM.png\n",
       "        </div>\n",
       "    </div>\n",
       "    "
      ],
      "text/plain": [
       "<IPython.core.display.HTML object>"
      ]
     },
     "metadata": {},
     "output_type": "display_data"
    },
    {
     "data": {
      "application/vnd.plotly.v1+json": {
       "config": {
        "plotlyServerURL": "https://plot.ly"
       },
       "data": [
        {
         "hovertemplate": "nivel_expresion=Sobreexpresados<br>Número de Artículos=%{marker.size}<br>Tipo de Cáncer=%{y}<extra></extra>",
         "legendgroup": "Sobreexpresados",
         "marker": {
          "color": "#FBB4AE",
          "size": [
           5,
           10,
           18,
           9,
           21,
           9,
           7,
           13,
           10,
           10,
           10,
           25,
           1,
           36,
           1,
           5,
           12,
           8,
           16,
           20,
           4
          ],
          "sizemode": "area",
          "sizeref": 0.0832,
          "symbol": "circle"
         },
         "mode": "markers",
         "name": "Sobreexpresados",
         "orientation": "h",
         "showlegend": true,
         "type": "scatter",
         "x": [
          5,
          10,
          18,
          9,
          21,
          9,
          7,
          13,
          10,
          10,
          10,
          25,
          1,
          36,
          1,
          5,
          12,
          8,
          16,
          20,
          4
         ],
         "xaxis": "x",
         "y": [
          "Bladder Cancer",
          "Bone Cancer",
          "Breast Cancer",
          "Cervical Cancer",
          "Colon Cancer",
          "Endometrial Cancer",
          "Esophageal Cancer",
          "Gastric Cancer",
          "General cancer mention",
          "Glioblastoma",
          "Head and Neck Cancer",
          "Hepatocellular Carcinoma",
          "Leukemia",
          "Lung Cancer",
          "Lymphoma",
          "Melanoma",
          "Ovarian Cancer",
          "Pancreatic Cancer",
          "Prostate Cancer",
          "Renal Cancer",
          "Thyroid Cancer"
         ],
         "yaxis": "y"
        },
        {
         "hovertemplate": "nivel_expresion=Subexpresados<br>Número de Artículos=%{marker.size}<br>Tipo de Cáncer=%{y}<extra></extra>",
         "legendgroup": "Subexpresados",
         "marker": {
          "color": "#B3CDE3",
          "size": [
           6,
           8,
           27,
           8,
           29,
           10,
           9,
           19,
           10,
           13,
           15,
           23,
           4,
           52,
           2,
           6,
           7,
           11,
           13,
           1,
           9
          ],
          "sizemode": "area",
          "sizeref": 0.0832,
          "symbol": "circle"
         },
         "mode": "markers",
         "name": "Subexpresados",
         "orientation": "h",
         "showlegend": true,
         "type": "scatter",
         "x": [
          6,
          8,
          27,
          8,
          29,
          10,
          9,
          19,
          10,
          13,
          15,
          23,
          4,
          52,
          2,
          6,
          7,
          11,
          13,
          1,
          9
         ],
         "xaxis": "x",
         "y": [
          "Bladder Cancer",
          "Bone Cancer",
          "Breast Cancer",
          "Cervical Cancer",
          "Colon Cancer",
          "Endometrial Cancer",
          "Esophageal Cancer",
          "Gastric Cancer",
          "General cancer mention",
          "Glioblastoma",
          "Head and Neck Cancer",
          "Hepatocellular Carcinoma",
          "Leukemia",
          "Lung Cancer",
          "Melanoma",
          "Ovarian Cancer",
          "Pancreatic Cancer",
          "Prostate Cancer",
          "Renal Cancer",
          "Testicular Cancer",
          "Thyroid Cancer"
         ],
         "yaxis": "y"
        }
       ],
       "layout": {
        "height": 600,
        "hovermode": "closest",
        "legend": {
         "itemsizing": "constant",
         "title": {
          "text": "nivel_expresion"
         },
         "tracegroupgap": 0
        },
        "template": {
         "data": {
          "bar": [
           {
            "error_x": {
             "color": "#2a3f5f"
            },
            "error_y": {
             "color": "#2a3f5f"
            },
            "marker": {
             "line": {
              "color": "white",
              "width": 0.5
             },
             "pattern": {
              "fillmode": "overlay",
              "size": 10,
              "solidity": 0.2
             }
            },
            "type": "bar"
           }
          ],
          "barpolar": [
           {
            "marker": {
             "line": {
              "color": "white",
              "width": 0.5
             },
             "pattern": {
              "fillmode": "overlay",
              "size": 10,
              "solidity": 0.2
             }
            },
            "type": "barpolar"
           }
          ],
          "carpet": [
           {
            "aaxis": {
             "endlinecolor": "#2a3f5f",
             "gridcolor": "#C8D4E3",
             "linecolor": "#C8D4E3",
             "minorgridcolor": "#C8D4E3",
             "startlinecolor": "#2a3f5f"
            },
            "baxis": {
             "endlinecolor": "#2a3f5f",
             "gridcolor": "#C8D4E3",
             "linecolor": "#C8D4E3",
             "minorgridcolor": "#C8D4E3",
             "startlinecolor": "#2a3f5f"
            },
            "type": "carpet"
           }
          ],
          "choropleth": [
           {
            "colorbar": {
             "outlinewidth": 0,
             "ticks": ""
            },
            "type": "choropleth"
           }
          ],
          "contour": [
           {
            "colorbar": {
             "outlinewidth": 0,
             "ticks": ""
            },
            "colorscale": [
             [
              0,
              "#0d0887"
             ],
             [
              0.1111111111111111,
              "#46039f"
             ],
             [
              0.2222222222222222,
              "#7201a8"
             ],
             [
              0.3333333333333333,
              "#9c179e"
             ],
             [
              0.4444444444444444,
              "#bd3786"
             ],
             [
              0.5555555555555556,
              "#d8576b"
             ],
             [
              0.6666666666666666,
              "#ed7953"
             ],
             [
              0.7777777777777778,
              "#fb9f3a"
             ],
             [
              0.8888888888888888,
              "#fdca26"
             ],
             [
              1,
              "#f0f921"
             ]
            ],
            "type": "contour"
           }
          ],
          "contourcarpet": [
           {
            "colorbar": {
             "outlinewidth": 0,
             "ticks": ""
            },
            "type": "contourcarpet"
           }
          ],
          "heatmap": [
           {
            "colorbar": {
             "outlinewidth": 0,
             "ticks": ""
            },
            "colorscale": [
             [
              0,
              "#0d0887"
             ],
             [
              0.1111111111111111,
              "#46039f"
             ],
             [
              0.2222222222222222,
              "#7201a8"
             ],
             [
              0.3333333333333333,
              "#9c179e"
             ],
             [
              0.4444444444444444,
              "#bd3786"
             ],
             [
              0.5555555555555556,
              "#d8576b"
             ],
             [
              0.6666666666666666,
              "#ed7953"
             ],
             [
              0.7777777777777778,
              "#fb9f3a"
             ],
             [
              0.8888888888888888,
              "#fdca26"
             ],
             [
              1,
              "#f0f921"
             ]
            ],
            "type": "heatmap"
           }
          ],
          "heatmapgl": [
           {
            "colorbar": {
             "outlinewidth": 0,
             "ticks": ""
            },
            "colorscale": [
             [
              0,
              "#0d0887"
             ],
             [
              0.1111111111111111,
              "#46039f"
             ],
             [
              0.2222222222222222,
              "#7201a8"
             ],
             [
              0.3333333333333333,
              "#9c179e"
             ],
             [
              0.4444444444444444,
              "#bd3786"
             ],
             [
              0.5555555555555556,
              "#d8576b"
             ],
             [
              0.6666666666666666,
              "#ed7953"
             ],
             [
              0.7777777777777778,
              "#fb9f3a"
             ],
             [
              0.8888888888888888,
              "#fdca26"
             ],
             [
              1,
              "#f0f921"
             ]
            ],
            "type": "heatmapgl"
           }
          ],
          "histogram": [
           {
            "marker": {
             "pattern": {
              "fillmode": "overlay",
              "size": 10,
              "solidity": 0.2
             }
            },
            "type": "histogram"
           }
          ],
          "histogram2d": [
           {
            "colorbar": {
             "outlinewidth": 0,
             "ticks": ""
            },
            "colorscale": [
             [
              0,
              "#0d0887"
             ],
             [
              0.1111111111111111,
              "#46039f"
             ],
             [
              0.2222222222222222,
              "#7201a8"
             ],
             [
              0.3333333333333333,
              "#9c179e"
             ],
             [
              0.4444444444444444,
              "#bd3786"
             ],
             [
              0.5555555555555556,
              "#d8576b"
             ],
             [
              0.6666666666666666,
              "#ed7953"
             ],
             [
              0.7777777777777778,
              "#fb9f3a"
             ],
             [
              0.8888888888888888,
              "#fdca26"
             ],
             [
              1,
              "#f0f921"
             ]
            ],
            "type": "histogram2d"
           }
          ],
          "histogram2dcontour": [
           {
            "colorbar": {
             "outlinewidth": 0,
             "ticks": ""
            },
            "colorscale": [
             [
              0,
              "#0d0887"
             ],
             [
              0.1111111111111111,
              "#46039f"
             ],
             [
              0.2222222222222222,
              "#7201a8"
             ],
             [
              0.3333333333333333,
              "#9c179e"
             ],
             [
              0.4444444444444444,
              "#bd3786"
             ],
             [
              0.5555555555555556,
              "#d8576b"
             ],
             [
              0.6666666666666666,
              "#ed7953"
             ],
             [
              0.7777777777777778,
              "#fb9f3a"
             ],
             [
              0.8888888888888888,
              "#fdca26"
             ],
             [
              1,
              "#f0f921"
             ]
            ],
            "type": "histogram2dcontour"
           }
          ],
          "mesh3d": [
           {
            "colorbar": {
             "outlinewidth": 0,
             "ticks": ""
            },
            "type": "mesh3d"
           }
          ],
          "parcoords": [
           {
            "line": {
             "colorbar": {
              "outlinewidth": 0,
              "ticks": ""
             }
            },
            "type": "parcoords"
           }
          ],
          "pie": [
           {
            "automargin": true,
            "type": "pie"
           }
          ],
          "scatter": [
           {
            "fillpattern": {
             "fillmode": "overlay",
             "size": 10,
             "solidity": 0.2
            },
            "type": "scatter"
           }
          ],
          "scatter3d": [
           {
            "line": {
             "colorbar": {
              "outlinewidth": 0,
              "ticks": ""
             }
            },
            "marker": {
             "colorbar": {
              "outlinewidth": 0,
              "ticks": ""
             }
            },
            "type": "scatter3d"
           }
          ],
          "scattercarpet": [
           {
            "marker": {
             "colorbar": {
              "outlinewidth": 0,
              "ticks": ""
             }
            },
            "type": "scattercarpet"
           }
          ],
          "scattergeo": [
           {
            "marker": {
             "colorbar": {
              "outlinewidth": 0,
              "ticks": ""
             }
            },
            "type": "scattergeo"
           }
          ],
          "scattergl": [
           {
            "marker": {
             "colorbar": {
              "outlinewidth": 0,
              "ticks": ""
             }
            },
            "type": "scattergl"
           }
          ],
          "scattermapbox": [
           {
            "marker": {
             "colorbar": {
              "outlinewidth": 0,
              "ticks": ""
             }
            },
            "type": "scattermapbox"
           }
          ],
          "scatterpolar": [
           {
            "marker": {
             "colorbar": {
              "outlinewidth": 0,
              "ticks": ""
             }
            },
            "type": "scatterpolar"
           }
          ],
          "scatterpolargl": [
           {
            "marker": {
             "colorbar": {
              "outlinewidth": 0,
              "ticks": ""
             }
            },
            "type": "scatterpolargl"
           }
          ],
          "scatterternary": [
           {
            "marker": {
             "colorbar": {
              "outlinewidth": 0,
              "ticks": ""
             }
            },
            "type": "scatterternary"
           }
          ],
          "surface": [
           {
            "colorbar": {
             "outlinewidth": 0,
             "ticks": ""
            },
            "colorscale": [
             [
              0,
              "#0d0887"
             ],
             [
              0.1111111111111111,
              "#46039f"
             ],
             [
              0.2222222222222222,
              "#7201a8"
             ],
             [
              0.3333333333333333,
              "#9c179e"
             ],
             [
              0.4444444444444444,
              "#bd3786"
             ],
             [
              0.5555555555555556,
              "#d8576b"
             ],
             [
              0.6666666666666666,
              "#ed7953"
             ],
             [
              0.7777777777777778,
              "#fb9f3a"
             ],
             [
              0.8888888888888888,
              "#fdca26"
             ],
             [
              1,
              "#f0f921"
             ]
            ],
            "type": "surface"
           }
          ],
          "table": [
           {
            "cells": {
             "fill": {
              "color": "#EBF0F8"
             },
             "line": {
              "color": "white"
             }
            },
            "header": {
             "fill": {
              "color": "#C8D4E3"
             },
             "line": {
              "color": "white"
             }
            },
            "type": "table"
           }
          ]
         },
         "layout": {
          "annotationdefaults": {
           "arrowcolor": "#2a3f5f",
           "arrowhead": 0,
           "arrowwidth": 1
          },
          "autotypenumbers": "strict",
          "coloraxis": {
           "colorbar": {
            "outlinewidth": 0,
            "ticks": ""
           }
          },
          "colorscale": {
           "diverging": [
            [
             0,
             "#8e0152"
            ],
            [
             0.1,
             "#c51b7d"
            ],
            [
             0.2,
             "#de77ae"
            ],
            [
             0.3,
             "#f1b6da"
            ],
            [
             0.4,
             "#fde0ef"
            ],
            [
             0.5,
             "#f7f7f7"
            ],
            [
             0.6,
             "#e6f5d0"
            ],
            [
             0.7,
             "#b8e186"
            ],
            [
             0.8,
             "#7fbc41"
            ],
            [
             0.9,
             "#4d9221"
            ],
            [
             1,
             "#276419"
            ]
           ],
           "sequential": [
            [
             0,
             "#0d0887"
            ],
            [
             0.1111111111111111,
             "#46039f"
            ],
            [
             0.2222222222222222,
             "#7201a8"
            ],
            [
             0.3333333333333333,
             "#9c179e"
            ],
            [
             0.4444444444444444,
             "#bd3786"
            ],
            [
             0.5555555555555556,
             "#d8576b"
            ],
            [
             0.6666666666666666,
             "#ed7953"
            ],
            [
             0.7777777777777778,
             "#fb9f3a"
            ],
            [
             0.8888888888888888,
             "#fdca26"
            ],
            [
             1,
             "#f0f921"
            ]
           ],
           "sequentialminus": [
            [
             0,
             "#0d0887"
            ],
            [
             0.1111111111111111,
             "#46039f"
            ],
            [
             0.2222222222222222,
             "#7201a8"
            ],
            [
             0.3333333333333333,
             "#9c179e"
            ],
            [
             0.4444444444444444,
             "#bd3786"
            ],
            [
             0.5555555555555556,
             "#d8576b"
            ],
            [
             0.6666666666666666,
             "#ed7953"
            ],
            [
             0.7777777777777778,
             "#fb9f3a"
            ],
            [
             0.8888888888888888,
             "#fdca26"
            ],
            [
             1,
             "#f0f921"
            ]
           ]
          },
          "colorway": [
           "#636efa",
           "#EF553B",
           "#00cc96",
           "#ab63fa",
           "#FFA15A",
           "#19d3f3",
           "#FF6692",
           "#B6E880",
           "#FF97FF",
           "#FECB52"
          ],
          "font": {
           "color": "#2a3f5f"
          },
          "geo": {
           "bgcolor": "white",
           "lakecolor": "white",
           "landcolor": "white",
           "showlakes": true,
           "showland": true,
           "subunitcolor": "#C8D4E3"
          },
          "hoverlabel": {
           "align": "left"
          },
          "hovermode": "closest",
          "mapbox": {
           "style": "light"
          },
          "paper_bgcolor": "white",
          "plot_bgcolor": "white",
          "polar": {
           "angularaxis": {
            "gridcolor": "#EBF0F8",
            "linecolor": "#EBF0F8",
            "ticks": ""
           },
           "bgcolor": "white",
           "radialaxis": {
            "gridcolor": "#EBF0F8",
            "linecolor": "#EBF0F8",
            "ticks": ""
           }
          },
          "scene": {
           "xaxis": {
            "backgroundcolor": "white",
            "gridcolor": "#DFE8F3",
            "gridwidth": 2,
            "linecolor": "#EBF0F8",
            "showbackground": true,
            "ticks": "",
            "zerolinecolor": "#EBF0F8"
           },
           "yaxis": {
            "backgroundcolor": "white",
            "gridcolor": "#DFE8F3",
            "gridwidth": 2,
            "linecolor": "#EBF0F8",
            "showbackground": true,
            "ticks": "",
            "zerolinecolor": "#EBF0F8"
           },
           "zaxis": {
            "backgroundcolor": "white",
            "gridcolor": "#DFE8F3",
            "gridwidth": 2,
            "linecolor": "#EBF0F8",
            "showbackground": true,
            "ticks": "",
            "zerolinecolor": "#EBF0F8"
           }
          },
          "shapedefaults": {
           "line": {
            "color": "#2a3f5f"
           }
          },
          "ternary": {
           "aaxis": {
            "gridcolor": "#DFE8F3",
            "linecolor": "#A2B1C6",
            "ticks": ""
           },
           "baxis": {
            "gridcolor": "#DFE8F3",
            "linecolor": "#A2B1C6",
            "ticks": ""
           },
           "bgcolor": "white",
           "caxis": {
            "gridcolor": "#DFE8F3",
            "linecolor": "#A2B1C6",
            "ticks": ""
           }
          },
          "title": {
           "x": 0.05
          },
          "xaxis": {
           "automargin": true,
           "gridcolor": "#EBF0F8",
           "linecolor": "#EBF0F8",
           "ticks": "",
           "title": {
            "standoff": 15
           },
           "zerolinecolor": "#EBF0F8",
           "zerolinewidth": 2
          },
          "yaxis": {
           "automargin": true,
           "gridcolor": "#EBF0F8",
           "linecolor": "#EBF0F8",
           "ticks": "",
           "title": {
            "standoff": 15
           },
           "zerolinecolor": "#EBF0F8",
           "zerolinewidth": 2
          }
         }
        },
        "title": {
         "text": "<b>Artículos relacionados con Transición Epitelio Mesénquima (EMT) y Nivel de Expresión</b>"
        },
        "width": 1000,
        "xaxis": {
         "anchor": "y",
         "domain": [
          0,
          1
         ],
         "title": {
          "text": "Número de Artículos"
         }
        },
        "yaxis": {
         "anchor": "x",
         "categoryorder": "total ascending",
         "domain": [
          0,
          1
         ],
         "title": {
          "text": "Tipo de Cáncer"
         }
        }
       }
      }
     },
     "metadata": {},
     "output_type": "display_data"
    }
   ],
   "source": [
    "graficar_distribucion_cancer_bibliografia(bibliografia_genes_clasificada, contexto_biologico)"
   ]
  },
  {
   "cell_type": "markdown",
   "metadata": {
    "id": "JyAX675ODywI"
   },
   "source": [
    "# Creación de firmas\n",
    "\n",
    "## Etapa 1: Firmas analíticas"
   ]
  },
  {
   "cell_type": "markdown",
   "metadata": {},
   "source": [
    "## Preprocesamiento para obtener los genes blanco"
   ]
  },
  {
   "cell_type": "code",
   "execution_count": 51,
   "metadata": {},
   "outputs": [
    {
     "name": "stdout",
     "output_type": "stream",
     "text": [
      "¡Éxito! Datos guardados en mirna_targets.json\n",
      "Total miRNAs: 179\n",
      "Ejemplo: [('let-7a', ['BCL2', 'CDC25A', 'CDK6', 'HMGA2', 'IGF-II', 'MYC', 'NF2', 'NIRF', 'PRDM1/Blimp-1', 'RAS', 'c-myc', 'caspase-3', 'integrin beta(3)']), ('let-7b', ['CCND1', 'CDC25A', 'CDK6', 'Cdc34', 'Dicer', 'HMGA2', 'KRAS'])]\n"
     ]
    }
   ],
   "source": [
    "# import json\n",
    "\n",
    "# def detect_encoding(file_path):\n",
    "#     encodings = ['utf-8', 'latin-1', 'cp1252', 'iso-8859-1']\n",
    "#     for encoding in encodings:\n",
    "#         try:\n",
    "#             with open(file_path, 'r', encoding=encoding) as f:\n",
    "#                 f.read(10000)\n",
    "#             return encoding\n",
    "#         except UnicodeDecodeError:\n",
    "#             continue\n",
    "#     return 'latin-1'\n",
    "\n",
    "# def process_mirna_file(input_file):\n",
    "#     mirna_targets = {}\n",
    "#     encoding = detect_encoding(input_file)\n",
    "    \n",
    "#     with open(input_file, 'r', encoding=encoding) as file:\n",
    "#         # Saltar encabezados\n",
    "#         for _ in range(4):\n",
    "#             next(file)\n",
    "        \n",
    "#         for line in file:\n",
    "#             if not line.strip():\n",
    "#                 continue\n",
    "                \n",
    "#             try:\n",
    "#                 parts = line.strip().split('\\t')\n",
    "#                 if len(parts) >= 2:\n",
    "#                     mirna = parts[0].strip().replace(\"hsa-\", \"\")\n",
    "#                     target = parts[1].strip()\n",
    "                    \n",
    "#                     if mirna not in mirna_targets:\n",
    "#                         mirna_targets[mirna] = set()\n",
    "#                     mirna_targets[mirna].add(target)\n",
    "                    \n",
    "#             except Exception as e:\n",
    "#                 print(f\"Error en línea: {line.strip()}. Error: {str(e)}\")\n",
    "#                 continue\n",
    "    \n",
    "#     return {mirna: sorted(targets) for mirna, targets in mirna_targets.items()}\n",
    "\n",
    "# # Uso del script\n",
    "# input_file = '../miRtar.txt'\n",
    "# output_file = 'mirna_targets.json'\n",
    "\n",
    "# try:\n",
    "#     mirna_data = process_mirna_file(input_file)\n",
    "    \n",
    "#     with open(output_file, 'w', encoding='utf-8') as f:\n",
    "#         json.dump(mirna_data, f, indent=4, ensure_ascii=False)\n",
    "    \n",
    "#     print(f\"¡Éxito! Datos guardados en {output_file}\")\n",
    "#     print(f\"Total miRNAs: {len(mirna_data)}\")\n",
    "#     print(f\"Ejemplo: {list(mirna_data.items())[:2]}\")\n",
    "\n",
    "# except Exception as e:\n",
    "#     print(f\"Error: {str(e)}\")"
   ]
  },
  {
   "cell_type": "markdown",
   "metadata": {
    "id": "64S27P_mDywI"
   },
   "source": [
    "### Generamos las firmas de la etapa 1\n"
   ]
  },
  {
   "cell_type": "code",
   "execution_count": 28,
   "metadata": {
    "executionInfo": {
     "elapsed": 776,
     "status": "aborted",
     "timestamp": 1742954403294,
     "user": {
      "displayName": "Sergio CFS",
      "userId": "11626938599988753511"
     },
     "user_tz": 360
    },
    "id": "HQkg15D7DywI"
   },
   "outputs": [],
   "source": [
    "import pandas as pd\n",
    "import numpy as np\n",
    "import re\n",
    "import datetime\n",
    "import gseapy as gp\n",
    "\n",
    "\n",
    "\n",
    "def hallmarks_enrichment(lista_de_expresion, background_genes):\n",
    "    \"\"\"\n",
    "    Función externa de enriquecimiento\n",
    "    \"\"\"\n",
    "    hallmark_results = gp.enrich(\n",
    "        gene_list=lista_de_expresion,\n",
    "        gene_sets=\"./gen-sets_GSEA_MSigDB/gsea_hallmarks_formatted.gmt\",\n",
    "        background=background_genes,\n",
    "        outdir=None,\n",
    "        verbose=False\n",
    "    )\n",
    "\n",
    "    # Crear un diccionario plano con términos como claves\n",
    "    hallmark_dict = {}\n",
    "    if not hallmark_results.results.empty:\n",
    "        for _, row in hallmark_results.results.iterrows():\n",
    "            term = row[\"Term\"].replace(\" \", \"_\")  # Ej: HALLMARK_EPITHELIAL_MESENCHYMAL_TRANSITION\n",
    "            hallmark_dict[f\"{term}_pvalue\"] = row[\"Adjusted P-value\"]\n",
    "\n",
    "    return hallmark_dict\n",
    "\n",
    "def crear_firma_genetica(df):\n",
    "    \"\"\"\n",
    "    Genera una firma genética con características listas para Machine Learning,\n",
    "    incluyendo las puntuaciones de Hallmarks y una nueva métrica robusta de\n",
    "    significancia bibliográfica que integra:\n",
    "      - Frecuencia relativa del gen en el cáncer versus global.\n",
    "      - Número de artículos (suavizbado con logaritmo).\n",
    "      - Ponderación por recencia de los artículos.\n",
    "    \"\"\"\n",
    "    import re\n",
    "    import datetime\n",
    "\n",
    "    # Copia del DataFrame para no modificar el original\n",
    "    df = df.copy()\n",
    "\n",
    "    # 1. Extracción del PubMed ID a partir de la URL\n",
    "    def extraer_pubmed_id(link):\n",
    "        match = re.search(r'/(\\d+)$', str(link))\n",
    "        return match.group(1) if match else None\n",
    "    df['pubmed_id'] = df['Link'].apply(extraer_pubmed_id)\n",
    "\n",
    "    # 2. Procesamiento del campo 'cancer_type'\n",
    "    df['cancer_type'] = df['cancer_type'].astype(str).str.split(',').apply(lambda x: [i.strip() for i in x])\n",
    "    df = df.explode('cancer_type')\n",
    "\n",
    "    # 3. Carga del conjunto de fondo (background) desde el archivo GMT\n",
    "    background_genes = set()\n",
    "    with open(\"../gen-sets_GSEA_MSigDB/C5- ontology gene sets.gmt\", \"r\") as file:\n",
    "        for line in file:\n",
    "            genes = line.strip().split(\"\\t\")[2:]\n",
    "            background_genes.update(genes)\n",
    "    background_genes = sorted(background_genes)\n",
    "\n",
    "    # 4. Cálculos globales:\n",
    "    # - Conteo total de artículos por tipo de cáncer y nivel de expresión.\n",
    "    cancer_total_counts = df.groupby(['cancer_type', 'nivel_expresion']).size().to_dict()\n",
    "\n",
    "    # - Conteo de artículos relacionados con el contexto biológico,\n",
    "    #   separados por niveles de expresión.\n",
    "    if contexto_biologico == \"Cáncer y TEM\":\n",
    "        biological_context = df[df['emt_relation'] == True]\n",
    "        cancer_biological_context_counts = biological_context.groupby(['cancer_type', 'nivel_expresion']).size().to_dict()\n",
    "    elif contexto_biologico == \"Cáncer y micro RNAs\":\n",
    "        biological_context = df[df['mRNAs_relation'] == True]\n",
    "        cancer_biological_context_counts = biological_context.groupby(['cancer_type', 'nivel_expresion']).size().to_dict()\n",
    "\n",
    "    # Total de artículos en el DataFrame\n",
    "    total_articulos = len(df)\n",
    "\n",
    "    # Conteo global de artículos por gen en todo el DataFrame\n",
    "    global_gene_counts = df['Gene'].value_counts().to_dict()\n",
    "\n",
    "    # Parámetro de decaimiento para ponderar la recencia y año actual\n",
    "    decay = 0.05\n",
    "    current_year = datetime.datetime.now().year\n",
    "\n",
    "\n",
    "    # 5. Función interna para el enriquecimiento de Hallmarks con manejo de excepciones\n",
    "    # 5. Función interna para el enriquecimiento de Hallmarks con manejo de excepciones\n",
    "    def hallmarks_enrichment_local(gene_list):\n",
    "        \"\"\"Devuelve un diccionario plano con características por Hallmark.\"\"\"\n",
    "        if not gene_list:\n",
    "            return {}\n",
    "        try:\n",
    "            enr = gp.enrich(\n",
    "                gene_list=gene_list,\n",
    "                gene_sets=\"../gen-sets_GSEA_MSigDB/gsea_hallmarks_formatted.gmt\",\n",
    "                background=background_genes,\n",
    "                outdir=None,\n",
    "                verbose=False\n",
    "            )\n",
    "\n",
    "            hallmark_features = {}\n",
    "            for _, row in enr.results.iterrows():\n",
    "                term = row['Term'].replace(' ', '_').replace('HALLMARK_', '')\n",
    "                prefix = f\"hallmark_{term}\"\n",
    "                genes_overlap = row['Genes'].split(';')\n",
    "                # Crear una entrada única para los genes de cada hallmark\n",
    "                hallmark_features[f\"{prefix}_genes\"] = genes_overlap  # Clave dinámica\n",
    "                hallmark_features[f\"{prefix}_pvalue\"] = row['Adjusted P-value']\n",
    "            return hallmark_features\n",
    "        except Exception as e:\n",
    "            print(f\"Error en enriquecimiento: {str(e)}\")\n",
    "            return {}\n",
    "\n",
    "    # 6. Procesamiento por grupos (agrupando por 'cancer_type' y 'nivel_expresion')\n",
    "    result_rows = []\n",
    "    grouped = df.groupby(['cancer_type', 'nivel_expresion'])\n",
    "\n",
    "    for (cancer, nivel), group in grouped:\n",
    "        # Genes únicos en el grupo\n",
    "        genes_unicos = group['Gene'].unique().tolist()\n",
    "\n",
    "        # Inicializar listas para almacenar resultados\n",
    "        genes_list = []\n",
    "        conteo_list = []\n",
    "        score_list = []\n",
    "        pubmed_dict = {}\n",
    "\n",
    "        for gene in genes_unicos:\n",
    "            gene_df = group[group['Gene'] == gene]\n",
    "            n_gene = gene_df.shape[0]\n",
    "\n",
    "            # Registrar gene y su conteo en el grupo\n",
    "            genes_list.append(gene)\n",
    "            conteo_list.append(n_gene)\n",
    "\n",
    "            # Total de artículos para este tipo de cáncer\n",
    "            total_cancer = cancer_total_counts.get(cancer, 1)\n",
    "            # Conteo global para el gen en todo el DataFrame\n",
    "            n_gene_global = global_gene_counts.get(gene, 1)\n",
    "\n",
    "            # Frecuencia relativa:\n",
    "            # (n_gene / total_cancer) en este cáncer frente a (n_gene_global / total_articulos) en general\n",
    "            freq_ratio = (n_gene / total_cancer) / (n_gene_global / total_articulos)\n",
    "\n",
    "            # Factor de recencia: promedio del decaimiento exponencial basado en la diferencia de años\n",
    "            recency_values = np.exp(-decay * (current_year - gene_df['Year'].astype(float)))\n",
    "            recency_factor = recency_values.mean()\n",
    "\n",
    "            # Métrica robusta combinada\n",
    "            gene_score = freq_ratio * np.log(1 + n_gene) * recency_factor\n",
    "            score_list.append(gene_score)\n",
    "\n",
    "            # Recopilar PubMed IDs asociados a este gen\n",
    "            pubmed_dict[gene] = gene_df['pubmed_id'].dropna().unique().tolist()\n",
    "\n",
    "        # Enriquecimiento de Hallmarks para la lista de genes del grupo\n",
    "        hallmark_features = hallmarks_enrichment_local(genes_list)\n",
    "\n",
    "        # Construir la fila de resultados para el grupo\n",
    "        result_row = {\n",
    "            'cancer_type': cancer,\n",
    "            'nivel_expresion': nivel,\n",
    "            'genes': genes_list,\n",
    "            'conteo_articulos_por_gene': conteo_list,\n",
    "            'estadistica_significancia_bibliografica': score_list,\n",
    "            'conteo_global_contexto_biologico': cancer_biological_context_counts.get(cancer, 0),\n",
    "            'pubmed_ids': pubmed_dict,\n",
    "            **hallmark_features  # Se integran las características obtenidas del enriquecimiento\n",
    "        }\n",
    "\n",
    "        result_rows.append(result_row)\n",
    "\n",
    "    # 7. Creación del DataFrame final\n",
    "    result_df = pd.DataFrame(result_rows)\n",
    "\n",
    "    # Rellenar NaN para las columnas de hallmarks (importante para ML)\n",
    "    hallmark_cols = [col for col in result_df.columns if col.startswith('hallmark_')]\n",
    "    result_df[hallmark_cols] = result_df[hallmark_cols].fillna(0)\n",
    "\n",
    "    return result_df"
   ]
  },
  {
   "cell_type": "markdown",
   "metadata": {},
   "source": [
    "## Firmas con mapeo de miRNAs"
   ]
  },
  {
   "cell_type": "code",
   "execution_count": 59,
   "metadata": {},
   "outputs": [],
   "source": [
    "import pandas as pd\n",
    "import numpy as np\n",
    "import re\n",
    "import datetime\n",
    "import gseapy as gp\n",
    "import json\n",
    "\n",
    "def hallmarks_enrichment(lista_de_expresion, background_genes):\n",
    "    \"\"\"Función externa de enriquecimiento\"\"\"\n",
    "    hallmark_results = gp.enrich(\n",
    "        gene_list=lista_de_expresion,\n",
    "        gene_sets=\"./gen-sets_GSEA_MSigDB/gsea_hallmarks_formatted.gmt\",\n",
    "        background=background_genes,\n",
    "        outdir=None,\n",
    "        verbose=False\n",
    "    )\n",
    "\n",
    "    hallmark_dict = {}\n",
    "    if not hallmark_results.results.empty:\n",
    "        for _, row in hallmark_results.results.iterrows():\n",
    "            term = row[\"Term\"].replace(\" \", \"_\")\n",
    "            hallmark_dict[f\"{term}_pvalue\"] = row[\"Adjusted P-value\"]\n",
    "    \n",
    "    return hallmark_dict\n",
    "\n",
    "def crear_firma_genetica(df, contexto_biologico = contexto_biologico):\n",
    "    \"\"\"Genera firma genética integrando miRNAs y genes\"\"\"\n",
    "    # Cargar mapeo de miRNAs desde archivo JSON\n",
    "    with open('../mirna_targets.json', 'r') as f:\n",
    "        miRNA_targets = json.load(f)\n",
    "\n",
    "    # Copia del DataFrame para no modificar el original\n",
    "    df = df.copy()\n",
    "\n",
    "    # 1. Extracción del PubMed ID\n",
    "    df['pubmed_id'] = df['Link'].apply(lambda x: re.search(r'/(\\d+)$', str(x)).group(1) if x else None)\n",
    "\n",
    "    # 2. Procesamiento del campo 'cancer_type'\n",
    "    df['cancer_type'] = df['cancer_type'].astype(str).str.split(',').apply(lambda x: [i.strip() for i in x])\n",
    "    df = df.explode('cancer_type')\n",
    "\n",
    "    # 3. Carga del conjunto de fondo (background)\n",
    "    background_genes = set()\n",
    "    with open(\"../gen-sets_GSEA_MSigDB/C5- ontology gene sets.gmt\", \"r\") as file:\n",
    "        for line in file:\n",
    "            genes = line.strip().split(\"\\t\")[2:]\n",
    "            background_genes.update(genes)\n",
    "    background_genes = sorted(background_genes)\n",
    "\n",
    "    # 4. Cálculos globales\n",
    "    cancer_total_counts = df.groupby(['cancer_type', 'nivel_expresion']).size().to_dict()\n",
    "    \n",
    "    if contexto_biologico == \"Cáncer y TEM\":\n",
    "        biological_context = df[df['emt_relation'] == True]\n",
    "    elif contexto_biologico == \"Cáncer y micro RNAs\":\n",
    "        biological_context = df[df['mRNAs_relation'] == True]\n",
    "    \n",
    "    cancer_biological_context_counts = biological_context.groupby(['cancer_type', 'nivel_expresion']).size().to_dict()\n",
    "    total_articulos = len(df)\n",
    "    global_gene_counts = df['Gene'].value_counts().to_dict()\n",
    "    decay = 0.05\n",
    "    current_year = datetime.datetime.now().year\n",
    "\n",
    "    # 5. Función interna para enriquecimiento modificada\n",
    "    def hallmarks_enrichment_local(gene_list):\n",
    "        if not gene_list:\n",
    "            return {}\n",
    "        try:\n",
    "            enr = gp.enrich(\n",
    "                gene_list=gene_list,\n",
    "                gene_sets=\"../gen-sets_GSEA_MSigDB/gsea_hallmarks_formatted.gmt\",\n",
    "                background=background_genes,\n",
    "                outdir=None,\n",
    "                verbose=False\n",
    "            )\n",
    "\n",
    "            hallmark_features = {}\n",
    "            for _, row in enr.results.iterrows():\n",
    "                term = row['Term'].replace(' ', '_').replace('HALLMARK_', '')\n",
    "                prefix = f\"hallmark_{term}\"\n",
    "                genes_overlap = row['Genes'].split(';')\n",
    "                hallmark_features[f\"{prefix}_genes\"] = genes_overlap\n",
    "                hallmark_features[f\"{prefix}_pvalue\"] = row['Adjusted P-value']\n",
    "            return hallmark_features\n",
    "        except Exception as e:\n",
    "            print(f\"Error en enriquecimiento: {str(e)}\")\n",
    "            return {}\n",
    "\n",
    "    # 6. Procesamiento por grupos\n",
    "    result_rows = []\n",
    "    grouped = df.groupby(['cancer_type', 'nivel_expresion'])\n",
    "\n",
    "    for (cancer, nivel), group in grouped:\n",
    "        genes_unicos = group['Gene'].unique().tolist()\n",
    "        \n",
    "        print(f\"Procesando grupo: {cancer} - {nivel}\")\n",
    "        print(\"genes unicos: \", genes_unicos)\n",
    "        \n",
    "        # Mapear miRNAs a genes target y crear lista combinada\n",
    "        enrichment_genes = []\n",
    "        original_elements = []  # Mantener elementos originales para resultados\n",
    "        \n",
    "        for element in genes_unicos:\n",
    "            original_elements.append(element)\n",
    "            if element in miRNA_targets:\n",
    "                print(f\"miRNA encontrado: {element}\")\n",
    "                enrichment_genes.extend(miRNA_targets[element])\n",
    "            else:\n",
    "                enrichment_genes.append(element)\n",
    "        \n",
    "        # Limpiar duplicados y elementos vacíos\n",
    "        enrichment_genes = list(set([g for g in enrichment_genes if g]))\n",
    "        enrichment_genes = [g for g in enrichment_genes if g in background_genes]\n",
    "\n",
    "        # Procesamiento de scores y PubMed\n",
    "        genes_list = []\n",
    "        conteo_list = []\n",
    "        score_list = []\n",
    "        pubmed_dict = {}\n",
    "\n",
    "        for gene in genes_unicos:\n",
    "            gene_df = group[group['Gene'] == gene]\n",
    "            n_gene = gene_df.shape[0]\n",
    "\n",
    "            # Cálculo de métricas\n",
    "            total_cancer = cancer_total_counts.get((cancer, nivel), 1)\n",
    "            n_gene_global = global_gene_counts.get(gene, 1)\n",
    "            freq_ratio = (n_gene / total_cancer) / (n_gene_global / total_articulos)\n",
    "            \n",
    "            # Manejo de años faltantes\n",
    "            try:\n",
    "                recency_values = np.exp(-decay * (current_year - gene_df['Year'].astype(float)))\n",
    "                recency_factor = recency_values.mean()\n",
    "            except:\n",
    "                recency_factor = 1.0  # Valor por defecto si hay error\n",
    "            \n",
    "            gene_score = freq_ratio * np.log(1 + n_gene) * recency_factor\n",
    "            \n",
    "            # Almacenar resultados\n",
    "            genes_list.append(gene)\n",
    "            conteo_list.append(n_gene)\n",
    "            score_list.append(gene_score)\n",
    "            pubmed_dict[gene] = gene_df['pubmed_id'].dropna().unique().tolist()\n",
    "\n",
    "        # Realizar enriquecimiento con genes mapeados\n",
    "        hallmark_features = hallmarks_enrichment_local(enrichment_genes)\n",
    "\n",
    "        # Construir fila de resultados\n",
    "        result_row = {\n",
    "            'cancer_type': cancer,\n",
    "            'nivel_expresion': nivel,\n",
    "            'elementos_originales': original_elements,  # miRNAs y genes originales\n",
    "            'genes_mapeados': enrichment_genes,       # Genes para enriquecimiento\n",
    "            'conteo_articulos_por_elemento': conteo_list,\n",
    "            'estadistica_significancia_bibliografica': score_list,\n",
    "            'conteo_global_contexto_biologico': cancer_biological_context_counts.get((cancer, nivel), 0),\n",
    "            'pubmed_ids': pubmed_dict,\n",
    "            **hallmark_features\n",
    "        }\n",
    "\n",
    "        result_rows.append(result_row)\n",
    "\n",
    "    # 7. Creación del DataFrame final\n",
    "    result_df = pd.DataFrame(result_rows)\n",
    "\n",
    "    # Rellenar NaN para características de hallmarks\n",
    "    hallmark_cols = [col for col in result_df.columns if col.startswith('hallmark_')]\n",
    "    result_df[hallmark_cols] = result_df[hallmark_cols].fillna(0)\n",
    "\n",
    "    return result_df"
   ]
  },
  {
   "cell_type": "code",
   "execution_count": null,
   "metadata": {},
   "outputs": [],
   "source": []
  },
  {
   "cell_type": "code",
   "execution_count": null,
   "metadata": {},
   "outputs": [],
   "source": [
    "bibliografia_genes_clasificada"
   ]
  },
  {
   "cell_type": "code",
   "execution_count": 60,
   "metadata": {
    "executionInfo": {
     "elapsed": 776,
     "status": "aborted",
     "timestamp": 1742954403295,
     "user": {
      "displayName": "Sergio CFS",
      "userId": "11626938599988753511"
     },
     "user_tz": 360
    },
    "id": "OaSoLH8tDywI"
   },
   "outputs": [
    {
     "name": "stdout",
     "output_type": "stream",
     "text": [
      "Procesando grupo: Bladder Cancer - Sobreexpresados\n",
      "genes unicos:  ['miR-107', 'miR-124-3p', 'miR-128-3p', 'miR-133a-3p', 'miR-133b', 'miR-141-3p', 'miR-143-3p', 'miR-145-5p', 'miR-184', 'miR-18a-5p', 'miR-200a-3p', 'miR-204-5p', 'miR-206', 'miR-210-3p', 'miR-22-3p', 'miR-222-3p', 'miR-24-3p', 'miR-30e-5p', 'miR-31-5p', 'miR-375', 'miR-9-5p', 'miR-96-5p']\n",
      "miRNA encontrado: miR-107\n",
      "miRNA encontrado: miR-133b\n",
      "miRNA encontrado: miR-184\n",
      "miRNA encontrado: miR-206\n",
      "miRNA encontrado: miR-375\n",
      "Procesando grupo: Bladder Cancer - Subexpresados\n",
      "genes unicos:  ['let-7c-5p', 'miR-1-3p', 'miR-10a-5p', 'miR-125b-5p', 'miR-126-3p', 'miR-130b-3p', 'miR-146a-5p', 'miR-155-5p', 'miR-15b-5p', 'miR-16-5p', 'miR-17-5p', 'miR-191-5p', 'miR-192-5p', 'miR-195-5p', 'miR-196a-5p', 'miR-19a-3p', 'miR-205-5p', 'miR-20a-5p', 'miR-21-5p', 'miR-211-5p', 'miR-223-3p', 'miR-26a-5p', 'miR-26b-5p', 'miR-27a-3p', 'miR-7-5p']\n",
      "miRNA encontrado: miR-17-5p\n",
      "Procesando grupo: Bone Cancer - Sobreexpresados\n",
      "genes unicos:  ['miR-107', 'miR-124-3p', 'miR-128-3p', 'miR-133a-3p', 'miR-133b', 'miR-141-3p', 'miR-143-3p', 'miR-145-5p', 'miR-150-5p', 'miR-184', 'miR-18a-5p', 'miR-200a-3p', 'miR-203a-3p', 'miR-204-5p', 'miR-206', 'miR-222-3p', 'miR-24-3p', 'miR-296-5p', 'miR-29a-3p', 'miR-372-3p', 'miR-375', 'miR-9-5p', 'miR-96-5p']\n",
      "miRNA encontrado: miR-107\n",
      "miRNA encontrado: miR-133b\n",
      "miRNA encontrado: miR-184\n",
      "miRNA encontrado: miR-206\n",
      "miRNA encontrado: miR-375\n",
      "Procesando grupo: Bone Cancer - Subexpresados\n",
      "genes unicos:  ['miR-103a-3p', 'miR-106b-5p', 'miR-10a-5p', 'miR-122-5p', 'miR-125b-5p', 'miR-134-5p', 'miR-146a-5p', 'miR-155-5p', 'miR-15b-5p', 'miR-16-5p', 'miR-17-5p', 'miR-195-5p', 'miR-196a-5p', 'miR-19a-3p', 'miR-205-5p', 'miR-20a-5p', 'miR-21-5p', 'miR-215-5p', 'miR-223-3p', 'miR-23a-3p', 'miR-25-3p', 'miR-26a-5p', 'miR-26b-5p', 'miR-27a-3p', 'miR-30d-5p', 'miR-34a-5p', 'miR-423-5p', 'miR-7-5p', 'miR-885-5p']\n",
      "miRNA encontrado: miR-17-5p\n",
      "Procesando grupo: Breast Cancer - Sobreexpresados\n",
      "genes unicos:  ['miR-39-3p', 'miR-107', 'miR-124-3p', 'miR-128-3p', 'miR-133a-3p', 'miR-133b', 'miR-141-3p', 'miR-143-3p', 'miR-145-5p', 'miR-150-5p', 'miR-184', 'miR-18a-5p', 'miR-200a-3p', 'miR-200b-3p', 'miR-203a-3p', 'miR-204-5p', 'miR-206', 'miR-210-3p', 'miR-22-3p', 'miR-222-3p', 'miR-24-3p', 'miR-296-5p', 'miR-29a-3p', 'miR-30e-5p', 'miR-375', 'miR-499a-5p', 'miR-9-5p', 'miR-96-5p']\n",
      "miRNA encontrado: miR-107\n",
      "miRNA encontrado: miR-133b\n",
      "miRNA encontrado: miR-184\n",
      "miRNA encontrado: miR-206\n",
      "miRNA encontrado: miR-375\n",
      "Procesando grupo: Breast Cancer - Subexpresados\n",
      "genes unicos:  ['let-7a-5p', 'let-7c-5p', 'miR-103a-3p', 'miR-106b-5p', 'miR-10a-5p', 'miR-10b-5p', 'miR-122-5p', 'miR-125b-5p', 'miR-126-3p', 'miR-130b-3p', 'miR-134-5p', 'miR-146a-5p', 'miR-155-5p', 'miR-15b-5p', 'miR-16-5p', 'miR-17-5p', 'miR-191-5p', 'miR-195-5p', 'miR-196a-5p', 'miR-19a-3p', 'miR-205-5p', 'miR-20a-5p', 'miR-21-5p', 'miR-211-5p', 'miR-215-5p', 'miR-221-3p', 'miR-223-3p', 'miR-224-5p', 'miR-23a-3p', 'miR-25-3p', 'miR-26a-5p', 'miR-26b-5p', 'miR-27a-3p', 'miR-30d-5p', 'miR-34a-5p', 'miR-376c-3p', 'miR-423-5p', 'miR-7-5p', 'miR-92a-3p']\n",
      "miRNA encontrado: miR-17-5p\n",
      "Procesando grupo: Cervical Cancer - Sobreexpresados\n",
      "genes unicos:  ['miR-39-3p', 'miR-107', 'miR-124-3p', 'miR-128-3p', 'miR-133a-3p', 'miR-133b', 'miR-141-3p', 'miR-143-3p', 'miR-145-5p', 'miR-150-5p', 'miR-18a-5p', 'miR-200a-3p', 'miR-203a-3p', 'miR-204-5p', 'miR-206', 'miR-210-3p', 'miR-22-3p', 'miR-296-5p', 'miR-29a-3p', 'miR-31-5p', 'miR-375', 'miR-499a-5p', 'miR-9-5p', 'miR-96-5p']\n",
      "miRNA encontrado: miR-107\n",
      "miRNA encontrado: miR-133b\n",
      "miRNA encontrado: miR-206\n",
      "miRNA encontrado: miR-375\n",
      "Procesando grupo: Cervical Cancer - Subexpresados\n",
      "genes unicos:  ['let-7a-5p', 'let-7c-5p', 'miR-103a-3p', 'miR-106b-5p', 'miR-122-5p', 'miR-125b-5p', 'miR-155-5p', 'miR-16-5p', 'miR-17-5p', 'miR-192-5p', 'miR-195-5p', 'miR-19a-3p', 'miR-205-5p', 'miR-20a-5p', 'miR-21-5p', 'miR-211-5p', 'miR-221-3p', 'miR-223-3p', 'miR-25-3p', 'miR-26a-5p', 'miR-27a-3p', 'miR-30d-5p', 'miR-34a-5p', 'miR-423-5p', 'miR-7-5p', 'miR-885-5p', 'miR-92a-3p']\n",
      "miRNA encontrado: miR-17-5p\n",
      "Procesando grupo: Colon Cancer - Sobreexpresados\n",
      "genes unicos:  ['miR-39-3p', 'miR-107', 'miR-124-3p', 'miR-128-3p', 'miR-133a-3p', 'miR-133b', 'miR-141-3p', 'miR-143-3p', 'miR-145-5p', 'miR-150-5p', 'miR-17-3p', 'miR-184', 'miR-18a-5p', 'miR-200a-3p', 'miR-200b-3p', 'miR-203a-3p', 'miR-204-5p', 'miR-206', 'miR-208a-3p', 'miR-210-3p', 'miR-22-3p', 'miR-24-3p', 'miR-296-5p', 'miR-29a-3p', 'miR-30e-5p', 'miR-31-5p', 'miR-372-3p', 'miR-375', 'miR-499a-5p', 'miR-9-5p', 'miR-96-5p']\n",
      "miRNA encontrado: miR-107\n",
      "miRNA encontrado: miR-133b\n",
      "miRNA encontrado: miR-17-3p\n",
      "miRNA encontrado: miR-184\n",
      "miRNA encontrado: miR-206\n",
      "miRNA encontrado: miR-375\n",
      "Procesando grupo: Colon Cancer - Subexpresados\n",
      "genes unicos:  ['let-7a-5p', 'let-7c-5p', 'miR-1-3p', 'miR-100-5p', 'miR-103a-3p', 'miR-106b-5p', 'miR-10b-5p', 'miR-122-5p', 'miR-125b-5p', 'miR-126-3p', 'miR-130b-3p', 'miR-134-5p', 'miR-146a-5p', 'miR-155-5p', 'miR-15b-5p', 'miR-16-5p', 'miR-17-5p', 'miR-191-5p', 'miR-192-5p', 'miR-195-5p', 'miR-196a-5p', 'miR-19a-3p', 'miR-205-5p', 'miR-20a-5p', 'miR-21-5p', 'miR-211-5p', 'miR-215-5p', 'miR-221-3p', 'miR-223-3p', 'miR-224-5p', 'miR-23a-3p', 'miR-25-3p', 'miR-26a-5p', 'miR-26b-5p', 'miR-27a-3p', 'miR-30d-5p', 'miR-34a-5p', 'miR-373-3p', 'miR-376c-3p', 'miR-423-5p', 'miR-7-5p', 'miR-885-5p', 'miR-92a-3p']\n",
      "miRNA encontrado: miR-17-5p\n",
      "Procesando grupo: Endometrial Cancer - Sobreexpresados\n",
      "genes unicos:  ['miR-124-3p', 'miR-128-3p', 'miR-141-3p', 'miR-145-5p', 'miR-150-5p', 'miR-184', 'miR-18a-5p', 'miR-200a-3p', 'miR-200b-3p', 'miR-204-5p', 'miR-206', 'miR-210-3p', 'miR-22-3p', 'miR-222-3p', 'miR-29a-3p', 'miR-375', 'miR-499a-5p', 'miR-96-5p']\n",
      "miRNA encontrado: miR-184\n",
      "miRNA encontrado: miR-206\n",
      "miRNA encontrado: miR-375\n",
      "Procesando grupo: Endometrial Cancer - Subexpresados\n",
      "genes unicos:  ['miR-191-5p', 'miR-192-5p', 'miR-195-5p', 'miR-196a-5p', 'miR-205-5p', 'miR-20a-5p', 'miR-21-5p', 'miR-223-3p', 'miR-224-5p', 'miR-25-3p', 'miR-26a-5p', 'miR-34a-5p', 'miR-7-5p', 'miR-92a-3p']\n",
      "Procesando grupo: Esophageal Cancer - Sobreexpresados\n",
      "genes unicos:  ['miR-107', 'miR-124-3p', 'miR-128-3p', 'miR-133a-3p', 'miR-133b', 'miR-141-3p', 'miR-143-3p', 'miR-145-5p', 'miR-150-5p', 'miR-18a-5p', 'miR-200a-3p', 'miR-200b-3p', 'miR-203a-3p', 'miR-204-5p', 'miR-206', 'miR-210-3p', 'miR-296-5p', 'miR-30e-5p', 'miR-375']\n",
      "miRNA encontrado: miR-107\n",
      "miRNA encontrado: miR-133b\n",
      "miRNA encontrado: miR-206\n",
      "miRNA encontrado: miR-375\n",
      "Procesando grupo: Esophageal Cancer - Subexpresados\n",
      "genes unicos:  ['let-7c-5p', 'miR-1-3p', 'miR-100-5p', 'miR-106b-5p', 'miR-125b-5p', 'miR-134-5p', 'miR-155-5p', 'miR-16-5p', 'miR-17-5p', 'miR-191-5p', 'miR-192-5p', 'miR-195-5p', 'miR-196a-5p', 'miR-21-5p', 'miR-224-5p', 'miR-25-3p', 'miR-26a-5p', 'miR-26b-5p', 'miR-27a-3p', 'miR-30d-5p', 'miR-34a-5p', 'miR-373-3p', 'miR-423-5p', 'miR-7-5p', 'miR-885-5p', 'miR-92a-3p']\n",
      "miRNA encontrado: miR-17-5p\n",
      "Procesando grupo: Gastric Cancer - Sobreexpresados\n",
      "genes unicos:  ['miR-39-3p', 'miR-107', 'miR-124-3p', 'miR-133a-3p', 'miR-133b', 'miR-141-3p', 'miR-143-3p', 'miR-145-5p', 'miR-150-5p', 'miR-184', 'miR-18a-5p', 'miR-200a-3p', 'miR-200b-3p', 'miR-203a-3p', 'miR-204-5p', 'miR-206', 'miR-208a-3p', 'miR-22-3p', 'miR-222-3p', 'miR-24-3p', 'miR-296-5p', 'miR-29a-3p', 'miR-375', 'miR-499a-5p', 'miR-9-5p', 'miR-96-5p']\n",
      "miRNA encontrado: miR-107\n",
      "miRNA encontrado: miR-133b\n",
      "miRNA encontrado: miR-184\n",
      "miRNA encontrado: miR-206\n",
      "miRNA encontrado: miR-375\n",
      "Procesando grupo: Gastric Cancer - Subexpresados\n",
      "genes unicos:  ['let-7a-5p', 'miR-1-3p', 'miR-100-5p', 'miR-103a-3p', 'miR-106b-5p', 'miR-10a-5p', 'miR-10b-5p', 'miR-122-5p', 'miR-125b-5p', 'miR-134-5p', 'miR-146a-5p', 'miR-148-3p', 'miR-155-5p', 'miR-15b-5p', 'miR-16-5p', 'miR-17-5p', 'miR-192-5p', 'miR-195-5p', 'miR-196a-5p', 'miR-19a-3p', 'miR-205-5p', 'miR-20a-5p', 'miR-21-5p', 'miR-221-3p', 'miR-223-3p', 'miR-224-5p', 'miR-25-3p', 'miR-26a-5p', 'miR-26b-5p', 'miR-27a-3p', 'miR-34a-5p', 'miR-376c-3p', 'miR-423-5p', 'miR-7-5p', 'miR-885-5p', 'miR-92a-3p']\n",
      "miRNA encontrado: miR-17-5p\n",
      "Procesando grupo: General cancer mention - Sobreexpresados\n",
      "genes unicos:  ['miR-39-3p', 'miR-107', 'miR-124-3p', 'miR-128-3p', 'miR-133a-3p', 'miR-133b', 'miR-141-3p', 'miR-143-3p', 'miR-145-5p', 'miR-150-5p', 'miR-17-3p', 'miR-184', 'miR-18a-5p', 'miR-200a-3p', 'miR-200b-3p', 'miR-203a-3p', 'miR-204-5p', 'miR-206', 'miR-210-3p', 'miR-22-3p', 'miR-222-3p', 'miR-24-3p', 'miR-296-5p', 'miR-29a-3p', 'miR-31-5p', 'miR-375', 'miR-9-5p', 'miR-96-5p']\n",
      "miRNA encontrado: miR-107\n",
      "miRNA encontrado: miR-133b\n",
      "miRNA encontrado: miR-17-3p\n",
      "miRNA encontrado: miR-184\n",
      "miRNA encontrado: miR-206\n",
      "miRNA encontrado: miR-375\n",
      "Procesando grupo: General cancer mention - Subexpresados\n",
      "genes unicos:  ['let-7c-5p', 'miR-1-3p', 'miR-106b-5p', 'miR-10a-5p', 'miR-10b-5p', 'miR-122-5p', 'miR-125b-5p', 'miR-126-3p', 'miR-130b-3p', 'miR-134-5p', 'miR-146a-5p', 'miR-155-5p', 'miR-15b-5p', 'miR-16-5p', 'miR-17-5p', 'miR-195-5p', 'miR-196a-5p', 'miR-205-5p', 'miR-20a-5p', 'miR-21-5p', 'miR-211-5p', 'miR-221-3p', 'miR-223-3p', 'miR-224-5p', 'miR-23a-3p', 'miR-25-3p', 'miR-26a-5p', 'miR-26b-5p', 'miR-27a-3p', 'miR-30d-5p', 'miR-34a-5p', 'miR-423-5p', 'miR-7-5p', 'miR-885-5p', 'miR-92a-3p']\n",
      "miRNA encontrado: miR-17-5p\n",
      "Procesando grupo: Glioblastoma - Sobreexpresados\n",
      "genes unicos:  ['miR-107', 'miR-124-3p', 'miR-128-3p', 'miR-133b', 'miR-141-3p', 'miR-143-3p', 'miR-145-5p', 'miR-150-5p', 'miR-17-3p', 'miR-184', 'miR-18a-5p', 'miR-200b-3p', 'miR-204-5p', 'miR-206', 'miR-22-3p', 'miR-24-3p', 'miR-296-5p', 'miR-31-5p', 'miR-375', 'miR-499a-5p', 'miR-9-5p', 'miR-96-5p']\n",
      "miRNA encontrado: miR-107\n",
      "miRNA encontrado: miR-133b\n",
      "miRNA encontrado: miR-17-3p\n",
      "miRNA encontrado: miR-184\n",
      "miRNA encontrado: miR-206\n",
      "miRNA encontrado: miR-375\n",
      "Procesando grupo: Glioblastoma - Subexpresados\n",
      "genes unicos:  ['let-7c-5p', 'miR-103a-3p', 'miR-106b-5p', 'miR-10a-5p', 'miR-10b-5p', 'miR-122-5p', 'miR-125b-5p', 'miR-126-3p', 'miR-130b-3p', 'miR-134-5p', 'miR-146a-5p', 'miR-148-3p', 'miR-155-5p', 'miR-15b-5p', 'miR-16-5p', 'miR-17-5p', 'miR-192-5p', 'miR-195-5p', 'miR-196a-5p', 'miR-205-5p', 'miR-20a-5p', 'miR-21-5p', 'miR-211-5p', 'miR-223-3p', 'miR-224-5p', 'miR-23a-3p', 'miR-25-3p', 'miR-26a-5p', 'miR-26b-5p', 'miR-27a-3p', 'miR-34a-5p', 'miR-423-5p', 'miR-7-5p', 'miR-92a-3p']\n",
      "miRNA encontrado: miR-17-5p\n",
      "Procesando grupo: Head and Neck Cancer - Sobreexpresados\n",
      "genes unicos:  ['miR-107', 'miR-124-3p', 'miR-128-3p', 'miR-133a-3p', 'miR-133b', 'miR-141-3p', 'miR-143-3p', 'miR-145-5p', 'miR-150-5p', 'miR-17-3p', 'miR-184', 'miR-18a-5p', 'miR-200a-3p', 'miR-203a-3p', 'miR-204-5p', 'miR-206', 'miR-210-3p', 'miR-22-3p', 'miR-24-3p', 'miR-296-5p', 'miR-29a-3p', 'miR-30e-5p', 'miR-31-5p', 'miR-375', 'miR-9-5p', 'miR-96-5p']\n",
      "miRNA encontrado: miR-107\n",
      "miRNA encontrado: miR-133b\n",
      "miRNA encontrado: miR-17-3p\n",
      "miRNA encontrado: miR-184\n",
      "miRNA encontrado: miR-206\n",
      "miRNA encontrado: miR-375\n",
      "Procesando grupo: Head and Neck Cancer - Subexpresados\n",
      "genes unicos:  ['let-7a-5p', 'let-7c-5p', 'miR-100-5p', 'miR-103a-3p', 'miR-10b-5p', 'miR-122-5p', 'miR-125b-5p', 'miR-130b-3p', 'miR-134-5p', 'miR-146a-5p', 'miR-155-5p', 'miR-15b-5p', 'miR-17-5p', 'miR-195-5p', 'miR-205-5p', 'miR-21-5p', 'miR-211-5p', 'miR-223-3p', 'miR-23a-3p', 'miR-26a-5p', 'miR-27a-3p', 'miR-34a-5p', 'miR-373-3p', 'miR-376c-3p', 'miR-423-5p', 'miR-7-5p', 'miR-885-5p']\n",
      "miRNA encontrado: miR-17-5p\n",
      "Procesando grupo: Hepatocellular Carcinoma - Sobreexpresados\n",
      "genes unicos:  ['SNORD72', 'miR-107', 'miR-124-3p', 'miR-128-3p', 'miR-133a-3p', 'miR-133b', 'miR-141-3p', 'miR-143-3p', 'miR-145-5p', 'miR-150-5p', 'miR-17-3p', 'miR-184', 'miR-18a-5p', 'miR-200a-3p', 'miR-200b-3p', 'miR-203a-3p', 'miR-204-5p', 'miR-206', 'miR-210-3p', 'miR-22-3p', 'miR-222-3p', 'miR-24-3p', 'miR-296-5p', 'miR-29a-3p', 'miR-30e-5p', 'miR-31-5p', 'miR-372-3p', 'miR-375', 'miR-9-5p', 'miR-96-5p']\n",
      "miRNA encontrado: miR-107\n",
      "miRNA encontrado: miR-133b\n",
      "miRNA encontrado: miR-17-3p\n",
      "miRNA encontrado: miR-184\n",
      "miRNA encontrado: miR-206\n",
      "miRNA encontrado: miR-375\n",
      "Procesando grupo: Hepatocellular Carcinoma - Subexpresados\n",
      "genes unicos:  ['let-7a-5p', 'let-7c-5p', 'miR-1-3p', 'miR-100-5p', 'miR-103a-3p', 'miR-106b-5p', 'miR-10a-5p', 'miR-10b-5p', 'miR-122-5p', 'miR-125b-5p', 'miR-126-3p', 'miR-130b-3p', 'miR-134-5p', 'miR-146a-5p', 'miR-155-5p', 'miR-15b-5p', 'miR-16-5p', 'miR-17-5p', 'miR-191-5p', 'miR-192-5p', 'miR-195-5p', 'miR-19a-3p', 'miR-205-5p', 'miR-20a-5p', 'miR-21-5p', 'miR-211-5p', 'miR-215-5p', 'miR-221-3p', 'miR-223-3p', 'miR-224-5p', 'miR-23a-3p', 'miR-25-3p', 'miR-26a-5p', 'miR-26b-5p', 'miR-27a-3p', 'miR-34a-5p', 'miR-423-5p', 'miR-7-5p', 'miR-885-5p', 'miR-92a-3p']\n",
      "miRNA encontrado: miR-17-5p\n",
      "Procesando grupo: Leukemia - Sobreexpresados\n",
      "genes unicos:  ['miR-39-3p', 'miR-107', 'miR-124-3p', 'miR-141-3p', 'miR-143-3p', 'miR-150-5p', 'miR-184', 'miR-22-3p', 'miR-222-3p', 'miR-24-3p', 'miR-30e-5p', 'miR-375', 'miR-499a-5p', 'miR-9-5p', 'miR-96-5p']\n",
      "miRNA encontrado: miR-107\n",
      "miRNA encontrado: miR-184\n",
      "miRNA encontrado: miR-375\n",
      "Procesando grupo: Leukemia - Subexpresados\n",
      "genes unicos:  ['miR-125b-5p', 'miR-155-5p', 'miR-17-5p', 'miR-192-5p', 'miR-20a-5p', 'miR-211-5p', 'miR-221-3p', 'miR-26a-5p', 'miR-26b-5p', 'miR-34a-5p', 'miR-92a-3p']\n",
      "miRNA encontrado: miR-17-5p\n",
      "Procesando grupo: Lung Cancer - Sobreexpresados\n",
      "genes unicos:  ['miR-39-3p', 'miR-107', 'miR-124-3p', 'miR-128-3p', 'miR-133a-3p', 'miR-133b', 'miR-141-3p', 'miR-143-3p', 'miR-145-5p', 'miR-150-5p', 'miR-17-3p', 'miR-184', 'miR-18a-5p', 'miR-200a-3p', 'miR-200b-3p', 'miR-203a-3p', 'miR-204-5p', 'miR-206', 'miR-210-3p', 'miR-22-3p', 'miR-222-3p', 'miR-24-3p', 'miR-296-5p', 'miR-29a-3p', 'miR-30e-5p', 'miR-31-5p', 'miR-372-3p', 'miR-375', 'miR-499a-5p', 'miR-9-5p', 'miR-96-5p']\n",
      "miRNA encontrado: miR-107\n",
      "miRNA encontrado: miR-133b\n",
      "miRNA encontrado: miR-17-3p\n",
      "miRNA encontrado: miR-184\n",
      "miRNA encontrado: miR-206\n",
      "miRNA encontrado: miR-375\n",
      "Procesando grupo: Lung Cancer - Subexpresados\n",
      "genes unicos:  ['let-7a-5p', 'let-7c-5p', 'miR-1-3p', 'miR-100-5p', 'miR-103a-3p', 'miR-106b-5p', 'miR-10a-5p', 'miR-10b-5p', 'miR-122-5p', 'miR-125b-5p', 'miR-126-3p', 'miR-130b-3p', 'miR-134-5p', 'miR-146a-5p', 'miR-155-5p', 'miR-15b-5p', 'miR-16-5p', 'miR-17-5p', 'miR-191-5p', 'miR-192-5p', 'miR-195-5p', 'miR-196a-5p', 'miR-19a-3p', 'miR-205-5p', 'miR-20a-5p', 'miR-21-5p', 'miR-211-5p', 'miR-215-5p', 'miR-221-3p', 'miR-223-3p', 'miR-224-5p', 'miR-23a-3p', 'miR-25-3p', 'miR-26a-5p', 'miR-26b-5p', 'miR-27a-3p', 'miR-30d-5p', 'miR-34a-5p', 'miR-373-3p', 'miR-423-5p', 'miR-7-5p', 'miR-92a-3p']\n",
      "miRNA encontrado: miR-17-5p\n",
      "Procesando grupo: Lymphoma - Sobreexpresados\n",
      "genes unicos:  ['miR-39-3p', 'miR-107', 'miR-141-3p', 'miR-145-5p', 'miR-150-5p', 'miR-184', 'miR-204-5p', 'miR-222-3p', 'miR-24-3p', 'miR-296-5p']\n",
      "miRNA encontrado: miR-107\n",
      "miRNA encontrado: miR-184\n",
      "Procesando grupo: Lymphoma - Subexpresados\n",
      "genes unicos:  ['miR-16-5p', 'miR-17-5p', 'miR-21-5p', 'miR-26b-5p', 'miR-34a-5p', 'miR-7-5p']\n",
      "miRNA encontrado: miR-17-5p\n",
      "Procesando grupo: Melanoma - Sobreexpresados\n",
      "genes unicos:  ['miR-107', 'miR-128-3p', 'miR-133a-3p', 'miR-141-3p', 'miR-143-3p', 'miR-145-5p', 'miR-150-5p', 'miR-200b-3p', 'miR-204-5p', 'miR-22-3p', 'miR-222-3p']\n",
      "miRNA encontrado: miR-107\n",
      "Procesando grupo: Melanoma - Subexpresados\n",
      "genes unicos:  ['let-7c-5p', 'miR-100-5p', 'miR-103a-3p', 'miR-106b-5p', 'miR-122-5p', 'miR-125b-5p', 'miR-126-3p', 'miR-134-5p', 'miR-146a-5p', 'miR-155-5p', 'miR-16-5p', 'miR-195-5p', 'miR-205-5p', 'miR-21-5p', 'miR-211-5p', 'miR-224-5p', 'miR-23a-3p', 'miR-26a-5p']\n",
      "Procesando grupo: Mesothelioma - Sobreexpresados\n",
      "genes unicos:  ['miR-141-3p', 'miR-24-3p']\n",
      "Procesando grupo: Mesothelioma - Subexpresados\n",
      "genes unicos:  ['miR-103a-3p', 'miR-16-5p', 'miR-17-5p']\n",
      "miRNA encontrado: miR-17-5p\n",
      "Procesando grupo: Ovarian Cancer - Sobreexpresados\n",
      "genes unicos:  ['miR-39-3p', 'miR-107', 'miR-124-3p', 'miR-128-3p', 'miR-133a-3p', 'miR-133b', 'miR-141-3p', 'miR-143-3p', 'miR-145-5p', 'miR-150-5p', 'miR-184', 'miR-18a-5p', 'miR-200a-3p', 'miR-203a-3p', 'miR-204-5p', 'miR-206', 'miR-210-3p', 'miR-22-3p', 'miR-222-3p', 'miR-29a-3p', 'miR-31-5p', 'miR-375', 'miR-9-5p', 'miR-96-5p']\n",
      "miRNA encontrado: miR-107\n",
      "miRNA encontrado: miR-133b\n",
      "miRNA encontrado: miR-184\n",
      "miRNA encontrado: miR-206\n",
      "miRNA encontrado: miR-375\n",
      "Procesando grupo: Ovarian Cancer - Subexpresados\n",
      "genes unicos:  ['miR-1-3p', 'miR-100-5p', 'miR-106b-5p', 'miR-10a-5p', 'miR-122-5p', 'miR-125b-5p', 'miR-126-3p', 'miR-130b-3p', 'miR-134-5p', 'miR-155-5p', 'miR-15b-5p', 'miR-16-5p', 'miR-17-5p', 'miR-192-5p', 'miR-195-5p', 'miR-19a-3p', 'miR-205-5p', 'miR-21-5p', 'miR-211-5p', 'miR-221-3p', 'miR-223-3p', 'miR-224-5p', 'miR-23a-3p', 'miR-26b-5p', 'miR-30d-5p', 'miR-34a-5p', 'miR-376c-3p', 'miR-423-5p', 'miR-7-5p', 'miR-885-5p']\n",
      "miRNA encontrado: miR-17-5p\n",
      "Procesando grupo: Pancreatic Cancer - Sobreexpresados\n",
      "genes unicos:  ['miR-39-3p', 'miR-107', 'miR-124-3p', 'miR-128-3p', 'miR-133b', 'miR-141-3p', 'miR-143-3p', 'miR-145-5p', 'miR-150-5p', 'miR-184', 'miR-18a-5p', 'miR-200a-3p', 'miR-200b-3p', 'miR-203a-3p', 'miR-204-5p', 'miR-210-3p', 'miR-22-3p', 'miR-222-3p', 'miR-24-3p', 'miR-30e-5p', 'miR-31-5p', 'miR-375', 'miR-499a-5p', 'miR-9-5p', 'miR-96-5p']\n",
      "miRNA encontrado: miR-107\n",
      "miRNA encontrado: miR-133b\n",
      "miRNA encontrado: miR-184\n",
      "miRNA encontrado: miR-375\n",
      "Procesando grupo: Pancreatic Cancer - Subexpresados\n",
      "genes unicos:  ['miR-100-5p', 'miR-103a-3p', 'miR-10a-5p', 'miR-122-5p', 'miR-125b-5p', 'miR-146a-5p', 'miR-155-5p', 'miR-15b-5p', 'miR-16-5p', 'miR-17-5p', 'miR-192-5p', 'miR-195-5p', 'miR-19a-3p', 'miR-205-5p', 'miR-20a-5p', 'miR-21-5p', 'miR-211-5p', 'miR-223-3p', 'miR-224-5p', 'miR-23a-3p', 'miR-25-3p', 'miR-26a-5p', 'miR-26b-5p', 'miR-27a-3p', 'miR-30d-5p', 'miR-34a-5p', 'miR-373-3p', 'miR-7-5p', 'miR-92a-3p']\n",
      "miRNA encontrado: miR-17-5p\n",
      "Procesando grupo: Prostate Cancer - Sobreexpresados\n",
      "genes unicos:  ['miR-39-3p', 'miR-107', 'miR-124-3p', 'miR-128-3p', 'miR-133a-3p', 'miR-133b', 'miR-141-3p', 'miR-143-3p', 'miR-145-5p', 'miR-150-5p', 'miR-17-3p', 'miR-184', 'miR-18a-5p', 'miR-200a-3p', 'miR-200b-3p', 'miR-204-5p', 'miR-206', 'miR-210-3p', 'miR-222-3p', 'miR-24-3p', 'miR-296-5p', 'miR-29a-3p', 'miR-30e-5p', 'miR-31-5p', 'miR-372-3p', 'miR-375', 'miR-9-5p', 'miR-96-5p']\n",
      "miRNA encontrado: miR-107\n",
      "miRNA encontrado: miR-133b\n",
      "miRNA encontrado: miR-17-3p\n",
      "miRNA encontrado: miR-184\n",
      "miRNA encontrado: miR-206\n",
      "miRNA encontrado: miR-375\n",
      "Procesando grupo: Prostate Cancer - Subexpresados\n",
      "genes unicos:  ['let-7a-5p', 'miR-1-3p', 'miR-100-5p', 'miR-103a-3p', 'miR-106b-5p', 'miR-10a-5p', 'miR-122-5p', 'miR-126-3p', 'miR-130b-3p', 'miR-134-5p', 'miR-146a-5p', 'miR-148-3p', 'miR-155-5p', 'miR-15b-5p', 'miR-17-5p', 'miR-192-5p', 'miR-195-5p', 'miR-19a-3p', 'miR-205-5p', 'miR-20a-5p', 'miR-21-5p', 'miR-211-5p', 'miR-215-5p', 'miR-221-3p', 'miR-223-3p', 'miR-224-5p', 'miR-23a-3p', 'miR-25-3p', 'miR-26a-5p', 'miR-30d-5p', 'miR-34a-5p', 'miR-373-3p', 'miR-423-5p', 'miR-7-5p', 'miR-885-5p', 'miR-92a-3p']\n",
      "miRNA encontrado: miR-17-5p\n",
      "Procesando grupo: Renal Cancer - Sobreexpresados\n",
      "genes unicos:  ['SNORD96A', 'miR-107', 'miR-124-3p', 'miR-133b', 'miR-141-3p', 'miR-143-3p', 'miR-145-5p', 'miR-150-5p', 'miR-184', 'miR-18a-5p', 'miR-200a-3p', 'miR-204-5p', 'miR-206', 'miR-210-3p', 'miR-22-3p', 'miR-222-3p', 'miR-296-5p', 'miR-29a-3p', 'miR-30e-5p', 'miR-31-5p', 'miR-375', 'miR-9-5p', 'miR-96-5p']\n",
      "miRNA encontrado: miR-107\n",
      "miRNA encontrado: miR-133b\n",
      "miRNA encontrado: miR-184\n",
      "miRNA encontrado: miR-206\n",
      "miRNA encontrado: miR-375\n",
      "Procesando grupo: Renal Cancer - Subexpresados\n",
      "genes unicos:  ['miR-1-3p', 'miR-100-5p', 'miR-106b-5p', 'miR-10a-5p', 'miR-10b-5p', 'miR-122-5p', 'miR-125b-5p', 'miR-130b-3p', 'miR-134-5p', 'miR-146a-5p', 'miR-155-5p', 'miR-16-5p', 'miR-17-5p', 'miR-192-5p', 'miR-195-5p', 'miR-196a-5p', 'miR-205-5p', 'miR-21-5p', 'miR-211-5p', 'miR-215-5p', 'miR-223-3p', 'miR-224-5p', 'miR-23a-3p', 'miR-25-3p', 'miR-26a-5p', 'miR-27a-3p', 'miR-30d-5p', 'miR-34a-5p', 'miR-373-3p', 'miR-423-5p', 'miR-885-5p', 'miR-92a-3p']\n",
      "miRNA encontrado: miR-17-5p\n",
      "Procesando grupo: Testicular Cancer - Sobreexpresados\n",
      "genes unicos:  ['miR-143-3p', 'miR-29a-3p', 'miR-372-3p']\n",
      "Procesando grupo: Testicular Cancer - Subexpresados\n",
      "genes unicos:  ['let-7a-5p', 'miR-122-5p', 'miR-155-5p', 'miR-373-3p']\n",
      "Procesando grupo: Thyroid Cancer - Sobreexpresados\n",
      "genes unicos:  ['miR-107', 'miR-128-3p', 'miR-133a-3p', 'miR-141-3p', 'miR-145-5p', 'miR-150-5p', 'miR-18a-5p', 'miR-200a-3p', 'miR-203a-3p', 'miR-204-5p', 'miR-206', 'miR-22-3p', 'miR-222-3p', 'miR-24-3p', 'miR-296-5p', 'miR-29a-3p', 'miR-31-5p', 'miR-375', 'miR-96-5p']\n",
      "miRNA encontrado: miR-107\n",
      "miRNA encontrado: miR-206\n",
      "miRNA encontrado: miR-375\n",
      "Procesando grupo: Thyroid Cancer - Subexpresados\n",
      "genes unicos:  ['let-7a-5p', 'miR-100-5p', 'miR-122-5p', 'miR-126-3p', 'miR-134-5p', 'miR-155-5p', 'miR-16-5p', 'miR-17-5p', 'miR-192-5p', 'miR-195-5p', 'miR-196a-5p', 'miR-205-5p', 'miR-20a-5p', 'miR-21-5p', 'miR-211-5p', 'miR-215-5p', 'miR-221-3p', 'miR-223-3p', 'miR-224-5p', 'miR-23a-3p', 'miR-25-3p', 'miR-26a-5p', 'miR-26b-5p', 'miR-34a-5p', 'miR-373-3p', 'miR-376c-3p', 'miR-423-5p', 'miR-7-5p', 'miR-885-5p']\n",
      "miRNA encontrado: miR-17-5p\n"
     ]
    },
    {
     "data": {
      "text/html": [
       "\n",
       "    <div style=\"background-color:#e0f2f1; \n",
       "                color:#00695c;\n",
       "                padding: 12px; \n",
       "                border-radius: 8px;\n",
       "                border-left: 4px solid #00695c;\n",
       "                margin: 10px 0;\n",
       "                box-shadow: 0 2px 4px rgba(0,0,0,0.1);\">\n",
       "        <div style=\"font-size: 1.1em; margin-bottom: 6px;\">\n",
       "            💾 <strong>Archivo exportado</strong>\n",
       "        </div>\n",
       "        <div style=\"font-size: 0.95em; margin-left: 24px;\">\n",
       "            Firmas genéticas por tipo de cáncer.xlsx Firmas genéticas por tipo de cáncer: Archivo que contiene la firma genética por tipo de cáncer y nivel de expresión, con información sobre los genes asociados, estadísticas y PubMed IDs.\n",
       "        </div>\n",
       "    </div>\n",
       "    "
      ],
      "text/plain": [
       "<IPython.core.display.HTML object>"
      ]
     },
     "metadata": {},
     "output_type": "display_data"
    },
    {
     "data": {
      "text/plain": [
       "PosixPath('../resultados/miRNAs/Cáncer y TEM/miRNA de referencia/Breast Cancer/Firmas genéticas por tipo de cáncer.xlsx')"
      ]
     },
     "execution_count": 60,
     "metadata": {},
     "output_type": "execute_result"
    }
   ],
   "source": [
    "df_firmas_geneticas = crear_firma_genetica(bibliografia_genes_clasificada)\n",
    "\n",
    "export_dfs_to_excel(\n",
    "    [df_firmas_geneticas],\n",
    "    [\"firmas_por_tipo\"],\n",
    "    \"Firmas genéticas por tipo de cáncer: Archivo que contiene la firma genética por tipo de cáncer y nivel de expresión, con información sobre los genes asociados, estadísticas y PubMed IDs.\"\n",
    ")\n"
   ]
  },
  {
   "cell_type": "markdown",
   "metadata": {
    "id": "u_V14LEDDywI"
   },
   "source": [
    "### Gráfico de distribución de los hallmarks de las firmas por tipo de cáncer y grupo de expresión"
   ]
  },
  {
   "cell_type": "code",
   "execution_count": 54,
   "metadata": {
    "executionInfo": {
     "elapsed": 776,
     "status": "aborted",
     "timestamp": 1742954403295,
     "user": {
      "displayName": "Sergio CFS",
      "userId": "11626938599988753511"
     },
     "user_tz": 360
    },
    "id": "zQqyjWKTDywJ"
   },
   "outputs": [
    {
     "ename": "ValueError",
     "evalue": "No se encontraron registros válidos para Breast Cancer.",
     "output_type": "error",
     "traceback": [
      "\u001b[0;31m---------------------------------------------------------------------------\u001b[0m",
      "\u001b[0;31mValueError\u001b[0m                                Traceback (most recent call last)",
      "Cell \u001b[0;32mIn[54], line 164\u001b[0m\n\u001b[1;32m    161\u001b[0m     \u001b[38;5;28;01mreturn\u001b[39;00m figuras_por_nivel\n\u001b[1;32m    163\u001b[0m \u001b[38;5;66;03m# Ejecución\u001b[39;00m\n\u001b[0;32m--> 164\u001b[0m figs_por_nivel \u001b[38;5;241m=\u001b[39m generar_sunburst_para_tipo_cancer(df_firmas_geneticas)\n\u001b[1;32m    165\u001b[0m \u001b[38;5;28;01mfor\u001b[39;00m nivel, fig \u001b[38;5;129;01min\u001b[39;00m figs_por_nivel\u001b[38;5;241m.\u001b[39mitems():\n\u001b[1;32m    166\u001b[0m     guardar_grafico(fig, \u001b[38;5;124mf\u001b[39m\u001b[38;5;124m\"\u001b[39m\u001b[38;5;124msunburst_\u001b[39m\u001b[38;5;132;01m{\u001b[39;00mtipo_cancer\u001b[38;5;241m.\u001b[39mlower()\u001b[38;5;241m.\u001b[39mreplace(\u001b[38;5;124m'\u001b[39m\u001b[38;5;124m \u001b[39m\u001b[38;5;124m'\u001b[39m,\u001b[38;5;250m \u001b[39m\u001b[38;5;124m'\u001b[39m\u001b[38;5;124m_\u001b[39m\u001b[38;5;124m'\u001b[39m)\u001b[38;5;132;01m}\u001b[39;00m\u001b[38;5;124m_nivel_\u001b[39m\u001b[38;5;132;01m{\u001b[39;00mnivel\u001b[38;5;132;01m}\u001b[39;00m\u001b[38;5;124m.png\u001b[39m\u001b[38;5;124m\"\u001b[39m)\n",
      "Cell \u001b[0;32mIn[54], line 85\u001b[0m, in \u001b[0;36mgenerar_sunburst_para_tipo_cancer\u001b[0;34m(df_firmas_geneticas, hallmarks, fig_width, fig_height, color_scale)\u001b[0m\n\u001b[1;32m     75\u001b[0m                     registros\u001b[38;5;241m.\u001b[39mappend({\n\u001b[1;32m     76\u001b[0m                         \u001b[38;5;124m\"\u001b[39m\u001b[38;5;124mcancer_type\u001b[39m\u001b[38;5;124m\"\u001b[39m: cancer,\n\u001b[1;32m     77\u001b[0m                         \u001b[38;5;124m\"\u001b[39m\u001b[38;5;124mnivel_expresion\u001b[39m\u001b[38;5;124m\"\u001b[39m: nivel,\n\u001b[0;32m   (...)\u001b[0m\n\u001b[1;32m     81\u001b[0m                         \u001b[38;5;124m\"\u001b[39m\u001b[38;5;124mpvalue\u001b[39m\u001b[38;5;124m\"\u001b[39m: pvalue\n\u001b[1;32m     82\u001b[0m                     })\n\u001b[1;32m     84\u001b[0m \u001b[38;5;28;01mif\u001b[39;00m \u001b[38;5;129;01mnot\u001b[39;00m registros:\n\u001b[0;32m---> 85\u001b[0m     \u001b[38;5;28;01mraise\u001b[39;00m \u001b[38;5;167;01mValueError\u001b[39;00m(\u001b[38;5;124mf\u001b[39m\u001b[38;5;124m\"\u001b[39m\u001b[38;5;124mNo se encontraron registros válidos para \u001b[39m\u001b[38;5;132;01m{\u001b[39;00mtipo_cancer\u001b[38;5;132;01m}\u001b[39;00m\u001b[38;5;124m.\u001b[39m\u001b[38;5;124m\"\u001b[39m)\n\u001b[1;32m     87\u001b[0m df_plano \u001b[38;5;241m=\u001b[39m pd\u001b[38;5;241m.\u001b[39mDataFrame(registros)\n\u001b[1;32m     88\u001b[0m df_plano[\u001b[38;5;124m\"\u001b[39m\u001b[38;5;124mlog_pvalue\u001b[39m\u001b[38;5;124m\"\u001b[39m] \u001b[38;5;241m=\u001b[39m \u001b[38;5;241m-\u001b[39mnp\u001b[38;5;241m.\u001b[39mlog10(df_plano[\u001b[38;5;124m\"\u001b[39m\u001b[38;5;124mpvalue\u001b[39m\u001b[38;5;124m\"\u001b[39m]\u001b[38;5;241m.\u001b[39mreplace(\u001b[38;5;241m0\u001b[39m, \u001b[38;5;241m1e-300\u001b[39m))\n",
      "\u001b[0;31mValueError\u001b[0m: No se encontraron registros válidos para Breast Cancer."
     ]
    }
   ],
   "source": [
    "import pandas as pd\n",
    "import plotly.express as px\n",
    "import numpy as np\n",
    "from typing import List, Dict\n",
    "\n",
    "\n",
    "\n",
    "def generar_sunburst_para_tipo_cancer(\n",
    "    df_firmas_geneticas: pd.DataFrame,\n",
    "    hallmarks: List[str] = [\n",
    "        \"EVADING_GROWTH_SUPPRESSORS\",\n",
    "        \"EVADING_IMMUNE_DESTRUCTION\",\n",
    "        \"GENOME_INSTABILITY\",\n",
    "        \"REPLICATIVE_IMMORTALITY\",\n",
    "        \"REPROGRAMMING_ENERGY_METABOLISM\",\n",
    "        \"RESISTING_CELL_DEATH\",\n",
    "        \"SUSTAINED_ANGIOGENESIS\",\n",
    "        \"SUSTAINING_PROLIFERATIVE_SIGNALING\",\n",
    "        \"TISSUE_INVASION_AND_METASTASIS\",\n",
    "        \"TUMOR-PROMOTING_INFLAMMATION\"\n",
    "    ],\n",
    "    fig_width: int = 1200,\n",
    "    fig_height: int = 900,\n",
    "    color_scale: str = 'RdBu_r'\n",
    ") -> Dict[str, px.sunburst]:\n",
    "\n",
    "    # Configuraciones\n",
    "    NON_SIG_COLOR = '#4a4a4a'\n",
    "    PVAL_THRESHOLD = 0.05\n",
    "    LOG_THRESHOLD = -np.log10(PVAL_THRESHOLD)\n",
    "\n",
    "    # Diccionario de alias\n",
    "    hallmark_aliases = {\n",
    "        \"EVADING_GROWTH_SUPPRESSORS\": \"Evade Growth Suppression\",\n",
    "        \"EVADING_IMMUNE_DESTRUCTION\": \"Evade Immune Destruction\",\n",
    "        \"GENOME_INSTABILITY\": \"Genome Instability\",\n",
    "        \"REPLICATIVE_IMMORTALITY\": \"Replicative Immortality\",\n",
    "        \"REPROGRAMMING_ENERGY_METABOLISM\": \"Metabolic Reprogramming\",\n",
    "        \"RESISTING_CELL_DEATH\": \"Resist Cell Death\",\n",
    "        \"SUSTAINED_ANGIOGENESIS\": \"Sustain Angiogenesis\",\n",
    "        \"SUSTAINING_PROLIFERATIVE_SIGNALING\": \"Sustain Proliferation\",\n",
    "        \"TISSUE_INVASION_AND_METASTASIS\": \"Invasion & Metastasis\",\n",
    "        \"TUMOR-PROMOTING_INFLAMMATION\": \"Tumor Inflammation\"\n",
    "    }\n",
    "\n",
    "    # Procesamiento de datos\n",
    "    registros = []\n",
    "    for _, row in df_firmas_geneticas.iterrows():\n",
    "        cancer = row.get(\"cancer_type\")\n",
    "        nivel = row.get(\"nivel_expresion\")\n",
    "        genes_firma = row.get(\"genes\", [])\n",
    "        counts_firma = row.get(\"conteo_articulos_por_gene\", [])\n",
    "\n",
    "        # Solo procesar el tipo de cáncer especificado\n",
    "        if cancer != tipo_cancer:\n",
    "            continue\n",
    "\n",
    "        if not (isinstance(genes_firma, list) and isinstance(counts_firma, list) and len(genes_firma) == len(counts_firma)):\n",
    "            continue\n",
    "\n",
    "        gene_to_count = dict(zip(genes_firma, counts_firma))\n",
    "\n",
    "        for gene in genes_firma:\n",
    "            articles_gene = gene_to_count.get(gene, 0)\n",
    "\n",
    "            for hallmark in hallmarks:\n",
    "                col_genes = f\"hallmark_{hallmark}_genes\"\n",
    "                col_pvalue = f\"hallmark_{hallmark}_pvalue\"\n",
    "\n",
    "                if col_genes in row and col_pvalue in row:\n",
    "                    genes_hallmark = row[col_genes] if isinstance(row[col_genes], list) else []\n",
    "                    pvalue = row[col_pvalue]\n",
    "\n",
    "                    if gene in genes_hallmark:\n",
    "                        registros.append({\n",
    "                            \"cancer_type\": cancer,\n",
    "                            \"nivel_expresion\": nivel,\n",
    "                            \"gene\": gene,\n",
    "                            \"hallmark\": hallmark_aliases.get(hallmark, hallmark),\n",
    "                            \"articles\": articles_gene,\n",
    "                            \"pvalue\": pvalue\n",
    "                        })\n",
    "\n",
    "    if not registros:\n",
    "        raise ValueError(f\"No se encontraron registros válidos para {tipo_cancer}.\")\n",
    "\n",
    "    df_plano = pd.DataFrame(registros)\n",
    "    df_plano[\"log_pvalue\"] = -np.log10(df_plano[\"pvalue\"].replace(0, 1e-300))\n",
    "\n",
    "    # Funciones auxiliares\n",
    "    def create_custom_colorscale(max_log_p: float) -> list:\n",
    "        \"\"\"Crea la escala de color personalizada\"\"\"\n",
    "        if max_log_p <= LOG_THRESHOLD:\n",
    "            return [[0, NON_SIG_COLOR], [1, NON_SIG_COLOR]]\n",
    "\n",
    "        threshold_pos = LOG_THRESHOLD / max_log_p\n",
    "        RdBu_r_colors = px.colors.diverging.RdBu_r\n",
    "\n",
    "        return [\n",
    "            [0, NON_SIG_COLOR],\n",
    "            [threshold_pos, NON_SIG_COLOR],\n",
    "            [threshold_pos, RdBu_r_colors[0]],\n",
    "            *[[threshold_pos + (i/(len(RdBu_r_colors)-1)*(1-threshold_pos)), color]\n",
    "              for i, color in enumerate(RdBu_r_colors)],\n",
    "            [1, RdBu_r_colors[-1]]\n",
    "        ]\n",
    "\n",
    "    def add_custom_annotations(fig):\n",
    "        \"\"\"Añade las anotaciones al gráfico\"\"\"\n",
    "        fig.add_annotation(\n",
    "            x=0.98, y=0.05,\n",
    "            xref=\"paper\", yref=\"paper\",\n",
    "            text=(\n",
    "                \"<b>📚 Tamaño: Evidencia bibliográfica<br>\"\n",
    "                \"🎨 Color: Significancia estadística<br>\"\n",
    "                \"⚪ p ≥ 0.05 (No significativo)</b>\"\n",
    "            ),\n",
    "            showarrow=False,\n",
    "            font=dict(size=11, color=\"#404040\"),\n",
    "            align=\"right\",\n",
    "            bordercolor=\"#a0a0a0\",\n",
    "            borderwidth=1,\n",
    "            bgcolor=\"#ffffff\"\n",
    "        )\n",
    "\n",
    "    # Generación de gráficos\n",
    "    figuras_por_nivel = {}\n",
    "    for nivel in df_plano[\"nivel_expresion\"].unique():\n",
    "        df_nivel = df_plano[df_plano[\"nivel_expresion\"] == nivel].copy()\n",
    "\n",
    "        max_log_p = df_nivel[\"log_pvalue\"].max()\n",
    "        color_scale_custom = create_custom_colorscale(max_log_p)\n",
    "\n",
    "        fig = px.sunburst(\n",
    "            df_nivel,\n",
    "            path=['gene', 'hallmark'],  # Eliminamos cancer_type ya que solo hay uno\n",
    "            values='articles',\n",
    "            color='log_pvalue',\n",
    "            color_continuous_scale=color_scale_custom,\n",
    "            range_color=[0, max_log_p],\n",
    "            title=f\"Sunburst - {tipo_cancer} - Nivel: {nivel}\",\n",
    "            hover_data={'pvalue': True, 'log_pvalue': True}\n",
    "        )\n",
    "\n",
    "        add_custom_annotations(fig)\n",
    "\n",
    "        fig.update_layout(\n",
    "            width=fig_width,\n",
    "            height=fig_height,\n",
    "            margin=dict(t=60, b=20, l=20, r=20),\n",
    "            coloraxis_colorbar=dict(\n",
    "                title=\"<b>-log10(p)</b>\",\n",
    "                thickness=15,\n",
    "                yanchor=\"middle\",\n",
    "                y=0.5\n",
    "            )\n",
    "        )\n",
    "\n",
    "        figuras_por_nivel[nivel] = fig\n",
    "\n",
    "    return figuras_por_nivel\n",
    "\n",
    "# Ejecución\n",
    "figs_por_nivel = generar_sunburst_para_tipo_cancer(df_firmas_geneticas)\n",
    "for nivel, fig in figs_por_nivel.items():\n",
    "    guardar_grafico(fig, f\"sunburst_{tipo_cancer.lower().replace(' ', '_')}_nivel_{nivel}.png\")\n",
    "    fig.show()"
   ]
  },
  {
   "cell_type": "code",
   "execution_count": null,
   "metadata": {
    "executionInfo": {
     "elapsed": 777,
     "status": "aborted",
     "timestamp": 1742954403296,
     "user": {
      "displayName": "Sergio CFS",
      "userId": "11626938599988753511"
     },
     "user_tz": 360
    },
    "id": "--bKi8rMDywJ"
   },
   "outputs": [],
   "source": [
    "import pandas as pd\n",
    "import numpy as np\n",
    "import plotly.graph_objects as go\n",
    "import plotly.express as px\n",
    "\n",
    "\n",
    "# Diccionario de alias\n",
    "hallmark_aliases = {\n",
    "    \"EVADING_GROWTH_SUPPRESSORS\": \"Evade Growth Suppression\",\n",
    "    \"EVADING_IMMUNE_DESTRUCTION\": \"Evade Immune Destruction\",\n",
    "    \"GENOME_INSTABILITY\": \"Genome Instability\",\n",
    "    \"REPLICATIVE_IMMORTALITY\": \"Replicative Immortality\",\n",
    "    \"REPROGRAMMING_ENERGY_METABOLISM\": \"Metabolic Reprogramming\",\n",
    "    \"RESISTING_CELL_DEATH\": \"Resist Cell Death\",\n",
    "    \"SUSTAINED_ANGIOGENESIS\": \"Sustain Angiogenesis\",\n",
    "    \"SUSTAINING_PROLIFERATIVE_SIGNALING\": \"Sustain Proliferation\",\n",
    "    \"TISSUE_INVASION_AND_METASTASIS\": \"Invasion & Metastasis\",\n",
    "    \"TUMOR-PROMOTING_INFLAMMATION\": \"Tumor Inflammation\"\n",
    "}\n",
    "\n",
    "# Función para generar el gráfico\n",
    "def generar_grafico(cancer_seleccionado, nivel_expresion):\n",
    "    # Filtrar datos\n",
    "    filtro = (df_firmas_geneticas['cancer_type'] == cancer_seleccionado) & \\\n",
    "             (df_firmas_geneticas['nivel_expresion'] == nivel_expresion)\n",
    "\n",
    "    if df_firmas_geneticas[filtro].empty:\n",
    "        return go.Figure()\n",
    "\n",
    "    datos = df_firmas_geneticas[filtro].iloc[0]\n",
    "\n",
    "    # Procesar p-values\n",
    "    pvalue_cols = [c for c in datos.index if c.startswith('hallmark_') and c.endswith('_pvalue')]\n",
    "    hallmarks = ['_'.join(c.split('_')[1:-1]) for c in pvalue_cols]\n",
    "    pvalues = datos[pvalue_cols].tolist()\n",
    "\n",
    "    # Transformar valores\n",
    "    transformed_values = [-np.log10(p) if p > 0 else 0 for p in pvalues]\n",
    "    significant = [p < 0.05 for p in pvalues]\n",
    "\n",
    "# Configurar colores con paleta Pastel1\n",
    "    colores = []\n",
    "    palette = px.colors.sequential.Aggrnyl\n",
    "    color_idx = 0\n",
    "    for sig in significant:\n",
    "        if sig:\n",
    "            colores.append(palette[color_idx % len(palette)])\n",
    "            color_idx += 1\n",
    "        else:\n",
    "            colores.append('#e0e0e0')  # Gris pastel\n",
    "\n",
    "    # Crear figura\n",
    "    fig = go.Figure()\n",
    "\n",
    "    # Añadir barras traslúcidas\n",
    "    fig.add_trace(go.Barpolar(\n",
    "        r=transformed_values,\n",
    "        theta=[hallmark_aliases[h] for h in hallmarks],\n",
    "        marker_color=[c.replace('rgb', 'rgba').replace(')', ',0.4)') for c in colores],\n",
    "        marker_line_color='rgba(100,100,100,0.5)',\n",
    "        marker_line_width=1,\n",
    "        hoverinfo='text',\n",
    "        hovertext=[f\"<b>{hallmark_aliases[h]}</b><br>-log10(p): {v:.2f}<br>p-value: {p:.4e}\"\n",
    "                  for h, v, p in zip(hallmarks, transformed_values, pvalues)]\n",
    "    ))\n",
    "\n",
    "    # Añadir marcadores circulares encima\n",
    "    fig.add_trace(go.Scatterpolar(\n",
    "        r=transformed_values,\n",
    "        theta=[hallmark_aliases[h] for h in hallmarks],\n",
    "        mode='markers',\n",
    "        marker=dict(\n",
    "            color=colores,\n",
    "            size=6,\n",
    "            symbol='circle',\n",
    "            line=dict(color='rgba(0,0,0,0.5)', width=1)\n",
    "        ),\n",
    "        hoverinfo='none'\n",
    "    ))\n",
    "\n",
    "    # Diseño mejorado\n",
    "    fig.update_layout(\n",
    "        title= f\"Hallmarks en {cancer_seleccionado} - {nivel_expresion}\",\n",
    "        polar={\n",
    "            'bgcolor': 'white',\n",
    "            'radialaxis': {\n",
    "                'title': {'text': '<b>-log10(p-value)</b>', 'font': {'size': 14, 'color':'#000'}},\n",
    "                'gridcolor': '#dfe6e9',\n",
    "                'linecolor': '#b2bec3',\n",
    "                'tickfont': {'color': '#000'},\n",
    "                'range': [0, max(transformed_values)*1.2]\n",
    "            },\n",
    "            'angularaxis': {\n",
    "                'rotation': 90,\n",
    "                'direction': 'clockwise',\n",
    "                'gridcolor': '#dfe6e9',\n",
    "                'linecolor': '#b2bec3',\n",
    "                'tickfont': {'size': 12, 'color':'#000'}\n",
    "            }\n",
    "        },\n",
    "        paper_bgcolor='white',\n",
    "        plot_bgcolor='white',\n",
    "        height=700,\n",
    "        margin={'t': 100, 'b': 80, 'l': 80, 'r': 80},\n",
    "        showlegend=False,\n",
    "        annotations=[\n",
    "            dict(\n",
    "                x=0.98,\n",
    "                y=0.98,\n",
    "                xref='paper',\n",
    "                yref='paper',\n",
    "                text='<b style=\"color:#2c3e50\">● Hallmarks significativos (p < 0.05)</b>',\n",
    "                showarrow=False,\n",
    "                bgcolor='rgba(255,255,255,0.9)',\n",
    "                bordercolor='#dfe6e9',\n",
    "                borderwidth=1,\n",
    "                font={'size': 12}\n",
    "            )\n",
    "        ]\n",
    "    )\n",
    "\n",
    "    return fig\n",
    "\n",
    "from IPython.display import display\n",
    "\n",
    "# Lista de combinaciones que queremos graficar\n",
    "\n",
    "niveles_expresion = ['Sobreexpresados', 'Subexpresados']\n",
    "\n",
    "# Mostrar gráficos para cada combinación\n",
    "\n",
    "for nivel in niveles_expresion:\n",
    "    fig = generar_grafico(tipo_cancer, nivel)\n",
    "    guardar_grafico(fig, f\"hallmarks_{tipo_cancer}_{nivel}.png\")\n",
    "    display(fig)"
   ]
  },
  {
   "cell_type": "code",
   "execution_count": null,
   "metadata": {},
   "outputs": [],
   "source": [
    "def preparar_y_visualizar_fingerprint(df, tipo_cancer):\n",
    "    \"\"\"\n",
    "    \"\"\"\n",
    "    import ast\n",
    "    import pandas as pd\n",
    "    import numpy as np\n",
    "    import plotly.graph_objects as go\n",
    "    from plotly.subplots import make_subplots\n",
    "    import plotly.figure_factory as ff\n",
    "    from scipy.cluster.hierarchy import linkage, leaves_list\n",
    "\n",
    "    # Función de conversión segura\n",
    "    def convertir_a_lista_si_es_str(x):\n",
    "        if isinstance(x, str) and x.startswith(\"[\") and x.endswith(\"]\"):\n",
    "            try:\n",
    "                return ast.literal_eval(x)\n",
    "            except Exception:\n",
    "                return x\n",
    "        return x\n",
    "\n",
    "    # Limpieza de datos\n",
    "    df = df.copy()\n",
    "    df[\"cancer_type\"] = df[\"cancer_type\"].astype(str).str.strip()\n",
    "    df[\"nivel_expresion\"] = df[\"nivel_expresion\"].astype(str).str.strip()\n",
    "    df[\"genes\"] = df[\"genes\"].apply(convertir_a_lista_si_es_str)\n",
    "    \n",
    "    cols_genes = [col for col in df.columns if col.startswith(\"hallmark_\") and col.endswith(\"_genes\")]\n",
    "    for col in cols_genes:\n",
    "        df[col] = df[col].apply(convertir_a_lista_si_es_str)\n",
    "\n",
    "    pval_cols = [col for col in df.columns if col.startswith(\"hallmark_\") and col.endswith(\"_pvalue\")]\n",
    "\n",
    "    for nivel_expresion in [\"Sobreexpresados\", \"Subexpresados\"]:\n",
    "        firma = df[\n",
    "            (df[\"cancer_type\"] == tipo_cancer.strip()) &\n",
    "            (df[\"nivel_expresion\"] == nivel_expresion.strip())\n",
    "        ]\n",
    "\n",
    "        if firma.empty:\n",
    "            print(f\"❌ No se encontraron datos para: {tipo_cancer} - {nivel_expresion}\")\n",
    "            continue\n",
    "\n",
    "        fila = firma.iloc[0]\n",
    "        genes_firma = fila[\"genes\"]\n",
    "\n",
    "        registros = []\n",
    "        for gcol in cols_genes:\n",
    "            hallmark_base = gcol.replace(\"hallmark_\", \"\").replace(\"_genes\", \"\")\n",
    "            pval_col = f\"hallmark_{hallmark_base}_pvalue\"\n",
    "            hallmark_name = hallmark_base.replace(\"_\", \" \").title()\n",
    "\n",
    "            genes_hallmark = fila[gcol]\n",
    "            pval = fila[pval_col] if fila[pval_col] > 0 else 1.0\n",
    "            logp = -np.log10(pval)\n",
    "\n",
    "            for gen in genes_firma:\n",
    "                if isinstance(genes_hallmark, list) and gen in genes_hallmark:\n",
    "                    registros.append({\n",
    "                        \"gen\": gen,\n",
    "                        \"hallmark\": hallmark_name,\n",
    "                        \"-log10(p)\": logp,\n",
    "                        \"p-value\": 10**-logp\n",
    "                    })\n",
    "\n",
    "        df_plot = pd.DataFrame(registros)\n",
    "        if df_plot.empty:\n",
    "            print(f\"⚠️ No hay genes coincidentes para: {tipo_cancer} - {nivel_expresion}\")\n",
    "            continue\n",
    "\n",
    "        # Crear matriz y aplicar clustering\n",
    "        matriz = df_plot.pivot(index=\"gen\", columns=\"hallmark\", values=\"-log10(p)\")\n",
    "        matriz_filled = matriz.fillna(0)\n",
    "        \n",
    "        # Clustering jerárquico\n",
    "        if len(matriz) > 1:\n",
    "            row_linkage = linkage(matriz_filled, method='ward')\n",
    "            row_order = leaves_list(row_linkage)\n",
    "            matriz = matriz.iloc[row_order[::-1]]  # Invertir para mejor visualización\n",
    "\n",
    "        if len(matriz.columns) > 1:\n",
    "            col_linkage = linkage(matriz_filled.T, method='ward')\n",
    "            col_order = leaves_list(col_linkage)\n",
    "            matriz = matriz.iloc[:, col_order]\n",
    "\n",
    "        # Generar texto para hover\n",
    "        hover_text = np.array([[\n",
    "            f\"<b>Gen:</b> {gen}<br><b>Hallmark:</b> {hm}<br>\"\n",
    "            f\"<b>-log10(p):</b> {matriz.loc[gen, hm]:.2f}<br>\"\n",
    "            f\"<b>p-value:</b> {10**-matriz.loc[gen, hm]:.2e}\"\n",
    "            if not np.isnan(matriz.loc[gen, hm]) else \"\"\n",
    "            for hm in matriz.columns\n",
    "        ] for gen in matriz.index])\n",
    "\n",
    "        # Crear visualización interactiva\n",
    "        fig = go.Figure(go.Heatmap(\n",
    "            z=matriz.values,\n",
    "            x=matriz.columns,\n",
    "            y=matriz.index,\n",
    "            colorscale=\"Viridis\",\n",
    "            colorbar={\"title\": \"-log10(p)\", \"tickvals\": np.linspace(0, matriz.max().max(), 5)},\n",
    "            hoverinfo=\"text\",\n",
    "            text=hover_text,\n",
    "            texttemplate=\"\",\n",
    "            zmin=0,\n",
    "            zmid=matriz.max().max()/2,\n",
    "            zmax=matriz.max().max()\n",
    "        ))\n",
    "\n",
    "        # Ajustes de diseño profesional\n",
    "        fig.update_layout(\n",
    "            title={\n",
    "                'text': f\"<b>Fingerprint Genómico</b><br>{tipo_cancer} ({nivel_expresion})\",\n",
    "                'y':0.95,\n",
    "                'x':0.5,\n",
    "                'xanchor': 'center',\n",
    "                'font': {'size': 24}\n",
    "            },\n",
    "            xaxis={\n",
    "                'title': 'Hallmarks',\n",
    "                'tickangle': 45,\n",
    "                'tickfont': {'size': 12},\n",
    "                'automargin': True\n",
    "            },\n",
    "            yaxis={\n",
    "                'title': 'Genes',\n",
    "                'tickfont': {'size': 12},\n",
    "                'automargin': True\n",
    "            },\n",
    "            margin={'l': 150, 'r': 50, 't': 150, 'b': 150},\n",
    "            width=900,\n",
    "            height=700,\n",
    "            hoverlabel={\n",
    "                'bgcolor': 'white',\n",
    "                'font_size': 14,\n",
    "                'font_family': 'Arial'\n",
    "            },\n",
    "            plot_bgcolor='rgba(245,245,245,0.9)'\n",
    "        )\n",
    "\n",
    "        # Añadir interactividad avanzada\n",
    "        fig.update_xaxes(fixedrange=False)\n",
    "        fig.update_yaxes(fixedrange=False)\n",
    "        \n",
    "        # Mostrar y guardar\n",
    "        fig.show()\n",
    "        guardar_grafico(fig, f\"fingerprint_mejorado_{tipo_cancer.replace(' ', '_')}_{nivel_expresion}.png\")"
   ]
  },
  {
   "cell_type": "code",
   "execution_count": null,
   "metadata": {},
   "outputs": [],
   "source": [
    "# Ejecuta para cualquier tipo de cáncer\n",
    "preparar_y_visualizar_fingerprint(df_firmas_geneticas, \"Breast Cancer\")"
   ]
  },
  {
   "cell_type": "code",
   "execution_count": null,
   "metadata": {},
   "outputs": [],
   "source": []
  },
  {
   "cell_type": "code",
   "execution_count": null,
   "metadata": {
    "executionInfo": {
     "elapsed": 778,
     "status": "aborted",
     "timestamp": 1742954403297,
     "user": {
      "displayName": "Sergio CFS",
      "userId": "11626938599988753511"
     },
     "user_tz": 360
    },
    "id": "R61YkvM2DywJ"
   },
   "outputs": [],
   "source": []
  },
  {
   "cell_type": "markdown",
   "metadata": {
    "id": "QV-Qj4LPDywJ"
   },
   "source": [
    "### Niveles de expresión relativa\n",
    "\n"
   ]
  },
  {
   "cell_type": "code",
   "execution_count": null,
   "metadata": {
    "executionInfo": {
     "elapsed": 777,
     "status": "aborted",
     "timestamp": 1742954403297,
     "user": {
      "displayName": "Sergio CFS",
      "userId": "11626938599988753511"
     },
     "user_tz": 360
    },
    "id": "Z0lpdIRZDywJ"
   },
   "outputs": [],
   "source": [
    "import pandas as pd\n",
    "import plotly.express as px\n",
    "import plotly.figure_factory as ff\n",
    "import plotly.graph_objects as go\n",
    "from plotly.subplots import make_subplots\n",
    "\n",
    "# ------------------------------\n",
    "# 1. Filtrar firmas genéticas y extraer las listas\n",
    "# ------------------------------\n",
    "# Se asume que 'df_firmas_geneticas' ya está definido y contiene:\n",
    "# 'cancer_type', 'nivel_expresion' y 'genes'\n",
    "\n",
    "# Definir el tipo de cáncer a analizar (por ejemplo, 'Breast Cancer')\n",
    "df_cancer = df_firmas_geneticas[df_firmas_geneticas['cancer_type'] == tipo_cancer]\n",
    "\n",
    "# Función para asegurar que 'genes' se procese como lista\n",
    "def ensure_list(val):\n",
    "    if isinstance(val, list):\n",
    "        return [item.strip() for item in val]\n",
    "    elif isinstance(val, str):\n",
    "        return [item.strip() for item in val.split(',')]\n",
    "    else:\n",
    "        return list(val)\n",
    "\n",
    "# Extraer genes según el nivel de expresión\n",
    "cadena_sobre = df_cancer.loc[df_cancer['nivel_expresion'] == 'Sobreexpresados', 'genes'].iloc[0]\n",
    "cadena_sub   = df_cancer.loc[df_cancer['nivel_expresion'] == 'Subexpresados', 'genes'].iloc[0]\n",
    "\n",
    "lista_sobre = ensure_list(cadena_sobre)\n",
    "lista_sub   = ensure_list(cadena_sub)\n",
    "\n",
    "print(f\"Genes sobreexpresados: {lista_sobre}\")\n",
    "print(f\"Genes subexpresados: {lista_sub}\")\n",
    "\n",
    "# ------------------------------\n",
    "# 2. Concatenar los DataFrames de expresión (controles y muestras)\n",
    "# ------------------------------\n",
    "# Se asume que 'controles_df' y 'muestras_df' ya están definidos y contienen:\n",
    "# 'test', 'tipo', 'target' y 'ct'\n",
    "df_total = pd.concat([controles_df, muestras_df])\n",
    "\n",
    "# ------------------------------\n",
    "# 3. Normalización de datos según el método elegido\n",
    "# ------------------------------\n",
    "\n",
    "if metodo_elegido == \"gen de referencia\":\n",
    "    # Se extrae el Ct del gen de referencia para cada test\n",
    "    ref_ct = df_total[df_total['target'] == gen_referencia][['test', 'ct']].rename(\n",
    "        columns={'ct': f'{gen_referencia}_ct'}\n",
    "    )\n",
    "    df_norm = df_total.merge(ref_ct, on='test')\n",
    "    df_norm['delta_ct'] = df_norm['ct'] - df_norm[f'{gen_referencia}_ct']\n",
    "    df_norm['log2_rel_expr'] = -df_norm['delta_ct']  # log2(2^(-ΔCt)) = -ΔCt\n",
    "\n",
    "elif metodo_elegido == \"promedios\":\n",
    "    # Se calcula el promedio de Ct para cada test y se normaliza respecto a ese promedio\n",
    "    df_norm = df_total.copy()\n",
    "    df_norm['ct_promedio_test'] = df_norm.groupby('test')['ct'].transform('mean')\n",
    "    df_norm['delta_ct_promedio'] = df_norm['ct'] - df_norm['ct_promedio_test']\n",
    "    df_norm['log2_rel_expr'] = -df_norm['delta_ct_promedio']\n",
    "\n",
    "else:\n",
    "    raise ValueError(\"El método de normalización debe ser 'gen de referencia' o 'promedios'.\")\n",
    "\n",
    "# Crear la matriz para el heatmap (tabla pivote)\n",
    "# Si se normaliza por gen de referencia, se elimina dicho gen de la matriz\n",
    "if metodo_elegido == \"gen de referencia\":\n",
    "    heatmap_data = df_norm.pivot_table(\n",
    "        index='target',\n",
    "        columns='test',\n",
    "        values='log2_rel_expr',\n",
    "        aggfunc='mean'\n",
    "    ).drop(gen_referencia, errors='ignore')\n",
    "else:\n",
    "    heatmap_data = df_norm.pivot_table(\n",
    "        index='target',\n",
    "        columns='test',\n",
    "        values='log2_rel_expr',\n",
    "        aggfunc='mean'\n",
    "    )\n",
    "\n",
    "# ------------------------------\n",
    "# 4. Filtrar la matriz para cada nivel de expresión\n",
    "# ------------------------------\n",
    "heatmap_data_sobre = heatmap_data[heatmap_data.index.isin(lista_sobre)]\n",
    "heatmap_data_sub   = heatmap_data[heatmap_data.index.isin(lista_sub)]\n",
    "\n",
    "# ------------------------------\n",
    "# 5. Crear el clustergrama (heatmap con dendrogramas)\n",
    "# ------------------------------\n",
    "from scipy.cluster.hierarchy import linkage\n",
    "import plotly.figure_factory as ff\n",
    "from plotly.subplots import make_subplots\n",
    "import plotly.graph_objects as go\n",
    "\n",
    "def create_clustered_heatmap(heatmap_data, title):\n",
    "    # Clustering y dendrogramas para columnas (tests)\n",
    "    dendro_col = ff.create_dendrogram(\n",
    "        heatmap_data.T,\n",
    "        orientation='bottom',\n",
    "        labels=heatmap_data.columns.tolist(),\n",
    "        linkagefun=lambda x: linkage(x, method='average', metric='euclidean')\n",
    "    )\n",
    "    col_order = dendro_col['layout']['xaxis']['ticktext']\n",
    "\n",
    "    # Clustering y dendrogramas para filas (genes)\n",
    "    dendro_row = ff.create_dendrogram(\n",
    "        heatmap_data,\n",
    "        orientation='right',\n",
    "        labels=heatmap_data.index.tolist(),\n",
    "        linkagefun=lambda x: linkage(x, method='average', metric='euclidean')\n",
    "    )\n",
    "    row_order = dendro_row['layout']['yaxis']['ticktext']\n",
    "\n",
    "    # Reordenar la matriz según el clustering obtenido\n",
    "    clustered_data = heatmap_data.loc[row_order, col_order]\n",
    "\n",
    "    # Definir la escala de colores personalizada:\n",
    "    # - Valores bajos (subexpresados): azul\n",
    "    # - 0 (expresión similar al método de normalización): amarillo pastel\n",
    "    # - Valores altos (sobreexpresados): rojo\n",
    "    custom_colorscale = [\n",
    "        [0.0, '#2c7bb6'],   # Azul\n",
    "        [0.5, '#ffffb2'],   # Amarillo pastel\n",
    "        [1.0, '#d7191c']    # Rojo\n",
    "    ]\n",
    "\n",
    "    # Crear subplots para combinar dendrogramas y heatmap\n",
    "    fig = make_subplots(\n",
    "        rows=2, cols=2,\n",
    "        shared_xaxes=True,\n",
    "        shared_yaxes=True,\n",
    "        vertical_spacing=0.02,\n",
    "        horizontal_spacing=0.02,\n",
    "        column_widths=[0.8, 0.2],\n",
    "        row_heights=[0.10, 1],\n",
    "        specs=[[{\"type\": \"scatter\", \"colspan\": 2}, None],\n",
    "               [{\"type\": \"heatmap\"}, {\"type\": \"scatter\"}]]\n",
    "    )\n",
    "\n",
    "    # Añadir dendrograma de columnas\n",
    "    for trace in dendro_col['data']:\n",
    "        fig.add_trace(trace, row=1, col=1)\n",
    "\n",
    "    # Añadir dendrograma de filas\n",
    "    for trace in dendro_row['data']:\n",
    "        fig.add_trace(trace, row=2, col=2)\n",
    "\n",
    "    # Añadir heatmap utilizando la escala de colores personalizada y centrándose en 0\n",
    "    heatmap = go.Heatmap(\n",
    "        z=clustered_data.values,\n",
    "        x=col_order,\n",
    "        y=row_order,\n",
    "        colorscale=custom_colorscale,\n",
    "        colorbar=dict(\n",
    "            title=f\"log2(Exp. Rel. { 'vs ' + gen_referencia if metodo_elegido=='gen de referencia' else 'por promedios' })\"\n",
    "        ),\n",
    "        showscale=True,\n",
    "        zmid=0\n",
    "    )\n",
    "    fig.add_trace(heatmap, row=2, col=1)\n",
    "\n",
    "    # Ajustes de layout\n",
    "    fig.update_layout(\n",
    "        title_text=title,\n",
    "        width=1000,\n",
    "        height=800,\n",
    "        showlegend=False\n",
    "    )\n",
    "\n",
    "    # Configuración de ejes\n",
    "    fig.update_xaxes(showticklabels=False, row=1, col=1)\n",
    "    fig.update_xaxes(showticklabels=True, row=2, col=1, title=\"Tests\")\n",
    "    fig.update_yaxes(showticklabels=True, row=2, col=1, title=\"Genes\")\n",
    "    fig.update_yaxes(showticklabels=False, row=2, col=2)\n",
    "\n",
    "    return fig\n",
    "\n",
    "# Definir el título según el método de normalización\n",
    "if metodo_elegido == \"gen de referencia\":\n",
    "    norm_title = f\"Normalizado vs {gen_referencia}\"\n",
    "elif metodo_elegido == \"promedios\":\n",
    "    norm_title = \"Normalizado por promedios\"\n",
    "else:\n",
    "    norm_title = \"Normalización desconocida\"\n",
    "\n",
    "# ------------------------------\n",
    "# 6. Clustergrama interactivo para genes sobreexpresados\n",
    "# ------------------------------\n",
    "fig_sobre = create_clustered_heatmap(\n",
    "    heatmap_data_sobre,\n",
    "    title=f\"Expresión de Genes Sobreexpresados en {tipo_cancer} con Dendrograma ({norm_title})\"\n",
    ")\n",
    "guardar_grafico(fig_sobre, f\"clustergrama_sobreexpresados_{tipo_cancer}.png\")\n",
    "\n",
    "fig_sobre.show()\n",
    "\n",
    "# ------------------------------\n",
    "# 7. Clustergrama interactivo para genes subexpresados\n",
    "# ------------------------------\n",
    "fig_sub = create_clustered_heatmap(\n",
    "    heatmap_data_sub,\n",
    "    title=f\"Expresión de Genes Subexpresados en {tipo_cancer} con Dendrograma ({norm_title})\"\n",
    ")\n",
    "guardar_grafico(fig_sub, f\"clustergrama_subexpresados_{tipo_cancer}.png\")\n",
    "fig_sub.show()"
   ]
  },
  {
   "cell_type": "markdown",
   "metadata": {
    "id": "CdamqxrqDywJ"
   },
   "source": [
    "# Eriquecimiento funcional utilizando GSEApy y conjuntos de genes personalizados\n",
    "\n",
    "En esta sección se realiza un análisis de enriquecimiento funcional utilizando la herramienta **GSEApy** y un conjunto de genes personalizado opcional relacionado con un contexto biológico específico. Además, combina los resultados obtenidos con información detallada de términos extraída de un archivo **JSON**. Es decir cada gen set debe obtener sus detalles de un archivo correspondiente en formato JSON\n",
    "\n",
    "GSEApy, al integrarse fácilmente con Python, permite automatizar análisis en múltiples datasets, facilitando su uso en flujos de trabajo bioinformáticos. Es compatible con bases de datos populares (KEGG, GO, Reactome), no requiere instalaciones complejas, y ofrece flexibilidad en análisis clásicos o preranked, además de ser rápido para grandes datasets."
   ]
  },
  {
   "cell_type": "code",
   "execution_count": null,
   "metadata": {
    "executionInfo": {
     "elapsed": 778,
     "status": "aborted",
     "timestamp": 1742954403298,
     "user": {
      "displayName": "Sergio CFS",
      "userId": "11626938599988753511"
     },
     "user_tz": 360
    },
    "id": "hrgXZbdaDywK"
   },
   "outputs": [],
   "source": [
    "import pandas as pd\n",
    "import gseapy as gp\n",
    "import json\n",
    "\n",
    "def realizar_enriquecimiento_gseapy(lista_genes, gene_category):\n",
    "    \"\"\"\n",
    "    Realiza el análisis de enriquecimiento para una lista de genes dada.\n",
    "\n",
    "    Parámetros:\n",
    "    - lista_genes: lista de genes de interés.\n",
    "    - gene_category: categoría de los genes (Subexpresados, Sobreexpresados o Estables).\n",
    "    - ruta_genes_fondo: Ruta al archivo que contiene los genes de fondo.\n",
    "\n",
    "    Retorna:\n",
    "    - DataFrame con los resultados ordenados por p-value ajustado, incluyendo la columna GeneCategory.\n",
    "    \"\"\"\n",
    "    # Background genes\n",
    "    # ruta_archivo_genes_fondo = '../gen-sets_GSEA_MSigDB/background_TEM.txt'\n",
    "    # background_genes = pd.read_csv(ruta_archivo_genes_fondo, sep='\\t')\n",
    "\n",
    "\n",
    "    # Lista de genes de fondo\n",
    "    #lista_genes_fondo = background_genes['GeneSymbol'].tolist()\n",
    "\n",
    "    # Ruta al archivo JSON con términos y sus detalles\n",
    "    #ruta_archivo_json = '../gen-sets_GSEA_MSigDB/GO-Gene Ontology gene sets.json'\n",
    "    ruta_archivo_json = '../gen-sets_GSEA_MSigDB/h.all.v2024.1.Hs.json'\n",
    "    #ruta_archivo_json = '../gen-sets_GSEA_MSigDB/C2.json'\n",
    "\n",
    "    # gen sets\n",
    "    #gen_set = '../gen-sets_GSEA_MSigDB/C5- ontology gene sets.gmt'\n",
    "    gen_set = '../gen-sets_GSEA_MSigDB/H_hallmark gene sets.gmt'\n",
    "    #gen_set = '../gen-sets_GSEA_MSigDB/C2.gmt'\n",
    "\n",
    "    # Cargar el archivo JSON con los términos y sus IDs generales\n",
    "    with open(ruta_archivo_json, 'r') as archivo_json:\n",
    "        datos_detalles = json.load(archivo_json)\n",
    "\n",
    "    # Crear un DataFrame con información detallada\n",
    "    detalles_df = pd.DataFrame.from_dict(datos_detalles, orient='index')\n",
    "    detalles_df.reset_index(inplace=True)\n",
    "    detalles_df.rename(columns={'index': 'Term'}, inplace=True)\n",
    "\n",
    "    # Realizar el análisis de enriquecimiento utilizando gseapy\n",
    "    enriquecimiento = gp.enrich(\n",
    "        gene_list=lista_genes,\n",
    "        gene_sets=[gen_set],\n",
    "        background= None,  # Usar los genes de fondo\n",
    "        outdir=None  # No guardar resultados en disco\n",
    "    )\n",
    "\n",
    "    # Convertir resultados a DataFrame\n",
    "    resultados_consolidados = enriquecimiento.results\n",
    "\n",
    "    # Filtrar términos por p-value ajustado (FDR) < 0.05\n",
    "    resultados_filtrados = resultados_consolidados[resultados_consolidados['Adjusted P-value'] < 0.05]\n",
    "\n",
    "    # Agregar información adicional desde el JSON\n",
    "    resultados_filtrados = resultados_filtrados.merge(\n",
    "        detalles_df,\n",
    "        on='Term',\n",
    "        how='left'\n",
    "    )\n",
    "\n",
    "    # Agregar la columna 'category' según el contenido de la columna 'collection'\n",
    "    resultados_filtrados['category'] = resultados_filtrados['collection'].str.extract(r'GO:(\\w+)', expand=False)\n",
    "\n",
    "    # Mapear los sufijos a nombres más legibles\n",
    "    mapeo_categorias = {\n",
    "        'BP': 'Process',\n",
    "        'CC': 'Component',\n",
    "        'MF': 'Function'\n",
    "    }\n",
    "    resultados_filtrados['category'] = resultados_filtrados['category'].map(mapeo_categorias).fillna('Unknown')\n",
    "\n",
    "    # Limpiar la columna 'Term'\n",
    "    resultados_filtrados['Term'] = (\n",
    "        resultados_filtrados['Term']\n",
    "        .str.replace(r'^GO\\w{2}_', '', regex=True)  # Eliminar prefijo GOXX_\n",
    "        .str.replace('_', ' ')                      # Reemplazar guiones bajos por espacios\n",
    "        .str.lower()                                # Convertir a minúsculas\n",
    "    )\n",
    "\n",
    "    # Extraer el número de genes y el número de genes en el fondo\n",
    "    resultados_filtrados[['number_of_genes', 'number_of_genes_in_background']] = (\n",
    "    resultados_filtrados['Overlap']\n",
    "    .str.extract(r'(\\d+)/(\\d+)')\n",
    "    .astype(int)\n",
    "    )\n",
    "\n",
    "    # Agregar la nueva columna GeneCategory\n",
    "    resultados_filtrados['nivel_expresion'] = gene_category\n",
    "\n",
    "    # Ordenar los resultados por p-value ajustado\n",
    "    resultados_ordenados = resultados_filtrados.sort_values(by=\"Adjusted P-value\")\n",
    "\n",
    "    # Renombrar columnas\n",
    "    resultados_ordenados.rename(columns={\n",
    "        'exactSource': 'term',\n",
    "        'Genes': 'inputGenes',\n",
    "        'P-value': 'p_value',\n",
    "        'Term': 'description'\n",
    "    }, inplace=True)\n",
    "\n",
    "    # Convertir la columna 'inputGenes' a listas de Python\n",
    "    resultados_ordenados['inputGenes'] = resultados_ordenados['inputGenes'].apply(lambda x: x.split(';'))\n",
    "\n",
    "    # Eliminar columnas innecesarias\n",
    "    resultados_ordenados = resultados_ordenados.drop(columns=[\n",
    "        'systematicName', 'externalDetailsURL',\n",
    "        'msigdbURL', 'filteredBySimilarity', 'externalNamesForSimilarTerms', 'Overlap', 'collection', 'geneSymbols'\n",
    "    ])\n",
    "\n",
    "    return resultados_ordenados"
   ]
  },
  {
   "cell_type": "code",
   "execution_count": null,
   "metadata": {
    "executionInfo": {
     "elapsed": 778,
     "status": "aborted",
     "timestamp": 1742954403298,
     "user": {
      "displayName": "Sergio CFS",
      "userId": "11626938599988753511"
     },
     "user_tz": 360
    },
    "id": "AEs_jE8zDywK"
   },
   "outputs": [],
   "source": [
    "enrich_sobre = realizar_enriquecimiento_gseapy(lista_sobre, \"Sobreexpresados\")\n",
    "enrich_sub = realizar_enriquecimiento_gseapy(lista_sub, \"Subexpresados\")\n",
    "\n",
    "# Concatenar los DataFrames\n",
    "enrich_all = pd.concat([enrich_sub, enrich_sobre], ignore_index=True)\n",
    "\n",
    "# Reemplazar 'Unknow' por 'Human Phenotype' en la columna 'category'\n",
    "enrich_all['category'] = enrich_all['category'].replace('Unknown', 'Human Phenotype')\n",
    "\n",
    "export_dfs_to_excel(\n",
    "    [enrich_all],\n",
    "    [\"enriquecimiento_genes\"],\n",
    "    \"Enriquecimiento de genes gseapy: Archivo que contiene los resultados del análisis de enriquecimiento de genes, para ambos niveles de expresión y basados en la firma analitica obtenida para el tipo de cancer.\"\n",
    ")"
   ]
  },
  {
   "cell_type": "code",
   "execution_count": null,
   "metadata": {
    "executionInfo": {
     "elapsed": 779,
     "status": "aborted",
     "timestamp": 1742954403299,
     "user": {
      "displayName": "Sergio CFS",
      "userId": "11626938599988753511"
     },
     "user_tz": 360
    },
    "id": "ZIXoj_o4DywK"
   },
   "outputs": [],
   "source": [
    "import pandas as pd\n",
    "import plotly.express as px\n",
    "import numpy as np\n",
    "\n",
    "# Configuración inicial\n",
    "pd.options.plotting.backend = \"plotly\"\n",
    "\n",
    "# Agrupar por categoría y nivel de expresión\n",
    "groups = enrich_all.groupby(['category', 'nivel_expresion'])\n",
    "\n",
    "for (category, nivel), group in groups:\n",
    "    # Seleccionar top 10 términos por significancia\n",
    "    top_terms = group.sort_values('Adjusted P-value').head(10).copy()\n",
    "\n",
    "    # Calcular -log10 para mejor visualización\n",
    "    top_terms['-log10(Adj P)'] = -np.log10(top_terms['Adjusted P-value'])\n",
    "\n",
    "    # Ordenar valores para mejor visualización en horizontal\n",
    "    top_terms = top_terms.sort_values('-log10(Adj P)', ascending=True)\n",
    "\n",
    "    # Crear gráfico de barras horizontales\n",
    "    fig = px.bar(\n",
    "        top_terms,\n",
    "        x='-log10(Adj P)',\n",
    "        y='description',\n",
    "        color='-log10(Adj P)',\n",
    "        title=f'{category} - {nivel}',\n",
    "        labels={'description': 'Término', '-log10(Adj P)': '-log10(Adjusted P-value)'},\n",
    "        hover_data={'Adjusted P-value': ':.2e'},  # Formato científico para hover\n",
    "        orientation='h',\n",
    "        color_continuous_scale=px.colors.sequential.Aggrnyl\n",
    "    )\n",
    "\n",
    "    # Ajustes de diseño\n",
    "    fig.update_layout(\n",
    "        height=600,\n",
    "        margin=dict(l=200, r=50),  # Margen izquierdo amplio para nombres\n",
    "        title_x=0.5,\n",
    "        xaxis_title=\"-log10(Adjusted P-value)\",\n",
    "        yaxis_title=\"\",\n",
    "        yaxis=dict(autorange=\"reversed\"),  # Invertir orden para mejor visualización\n",
    "        coloraxis_showscale=False\n",
    "    )\n",
    "\n",
    "    fig.show()"
   ]
  },
  {
   "cell_type": "markdown",
   "metadata": {
    "id": "hgzFQJZdDywK"
   },
   "source": [
    "# Redes de interacción\n"
   ]
  },
  {
   "cell_type": "markdown",
   "metadata": {
    "id": "2D71nOknDywK"
   },
   "source": []
  },
  {
   "cell_type": "code",
   "execution_count": null,
   "metadata": {
    "executionInfo": {
     "elapsed": 779,
     "status": "aborted",
     "timestamp": 1742954403300,
     "user": {
      "displayName": "Sergio CFS",
      "userId": "11626938599988753511"
     },
     "user_tz": 360
    },
    "id": "jXlpGmTRDywK"
   },
   "outputs": [],
   "source": [
    "\"\"\"\n",
    "RED DE INTERACCIONES GENÉTICAS\n",
    "1. Definir claramente el objetivo: Visualizar interacciones proteína-proteína\n",
    "2. Simplificar en componentes: API, Procesamiento, Visualización\n",
    "3. Explicar con analogías: El grafo como un mapa de carreteras moleculares\n",
    "4. Usar ejemplos concretos: Conexiones entre genes conocidos\n",
    "\"\"\"\n",
    "\n",
    "import requests\n",
    "import networkx as nx\n",
    "import plotly.graph_objects as go\n",
    "from typing import List, Dict, Set\n",
    "\n",
    "# Analogía: Configurar una línea telefónica para comunicarse con STRING\n",
    "def obtener_datos_string(genes: List[str], score_minimo: int = 400) -> List[Dict]:\n",
    "    \"\"\"\n",
    "    Obtiene datos de interacciones desde STRING DB.\n",
    "\n",
    "    Parámetros:\n",
    "    genes -- Lista de identificadores genéticos (ej: ['BRCA1', 'TP53'])\n",
    "    score_minimo -- Umbral de confianza (0-1000)\n",
    "\n",
    "    Retorna:\n",
    "    Lista de interacciones validadas\n",
    "    \"\"\"\n",
    "    string_api_url = \"https://string-db.org/api/json/network\"\n",
    "\n",
    "    try:\n",
    "        respuesta = requests.post(\n",
    "            string_api_url,\n",
    "            data={\n",
    "                \"identifiers\": \"\\r\".join(genes),\n",
    "                \"species\": 9606,  # Homo sapiens\n",
    "                \"required_score\": score_minimo,\n",
    "                \"caller_identity\": \"pybio_learner\"\n",
    "            },\n",
    "            timeout=10  # Evitar esperas infinitas\n",
    "        )\n",
    "        respuesta.raise_for_status()\n",
    "        return [i for i in respuesta.json()\n",
    "               if i['preferredName_A'] in genes\n",
    "               and i['preferredName_B'] in genes]\n",
    "\n",
    "    except requests.exceptions.RequestException as error:\n",
    "        print(f\"🚨 Error en la conexión: {error}\")\n",
    "        return []\n",
    "\n",
    "# Analogía: Construir un puente entre datos crudos y estructura analizable\n",
    "def construir_grafo(genes: List[str], interacciones: List[Dict]) -> nx.Graph:\n",
    "    \"\"\"\n",
    "    Crea un grafo de interacciones a partir de los datos brutos.\n",
    "\n",
    "    Parámetros:\n",
    "    genes -- Lista original de genes para incluir nodos aislados\n",
    "    interacciones -- Lista de diccionarios con las conexiones\n",
    "\n",
    "    Retorna:\n",
    "    Grafo NetworkX con nodos y conexiones ponderadas\n",
    "\n",
    "    \"\"\"\n",
    "    conjunto_genes = set(genes)  # Para búsquedas rápidas O(1)\n",
    "    G = nx.Graph()\n",
    "\n",
    "    # Añadir todos los nodos (incluyendo posibles islas genéticas)\n",
    "    G.add_nodes_from(conjunto_genes)\n",
    "\n",
    "    # Procesar conexiones con compresión de generador (eficiencia en memoria)\n",
    "    conexiones_validas = (\n",
    "        (i['preferredName_A'], i['preferredName_B'], float(i['score']))\n",
    "        for i in interacciones\n",
    "        if i['preferredName_A'] in conjunto_genes\n",
    "        and i['preferredName_B'] in conjunto_genes\n",
    "    )\n",
    "\n",
    "    # Añadir conexiones con pesos como atributos\n",
    "    G.add_weighted_edges_from(conexiones_validas)\n",
    "\n",
    "    return G\n",
    "\n",
    "\n",
    "\n",
    "# Analogía: Crear una visualización interactiva tipo \"Google Maps molecular\"\n",
    "def visualizar_grafo(G: nx.Graph) -> go.Figure:\n",
    "    \"\"\"\n",
    "    Genera visualización interactiva con Plotly.\n",
    "\n",
    "    Parámetros:\n",
    "    G -- Grafo de NetworkX procesado\n",
    "\n",
    "    Retorna:\n",
    "    Figura Plotly lista para mostrar\n",
    "\n",
    "    \"\"\"\n",
    "    # Optimización: Usar layout de Kamada-Kawai para mejor distribución\n",
    "    posiciones = nx.kamada_kawai_layout(G, weight='weight')\n",
    "\n",
    "    # Crear trazas de bordes con generadores (eficiencia)\n",
    "    bordes_x = []\n",
    "    bordes_y = []\n",
    "    for origen, destino in G.edges():\n",
    "        x0, y0 = posiciones[origen]\n",
    "        x1, y1 = posiciones[destino]\n",
    "        bordes_x.extend([x0, x1, None])  # None permite trazos separados\n",
    "        bordes_y.extend([y0, y1, None])\n",
    "\n",
    "    traza_bordes = go.Scatter(\n",
    "        x=bordes_x, y=bordes_y,\n",
    "        line=dict(width=1.5, color='rgba(100,100,100,0.4)'),\n",
    "        hoverinfo='none',\n",
    "        mode='lines'\n",
    "    )\n",
    "\n",
    "    # Calcular métricas avanzadas para visualización\n",
    "    grados = dict(G.degree())\n",
    "    centralidad = nx.betweenness_centrality(G)\n",
    "\n",
    "    # Crear traza de nodos con información enriquecida\n",
    "    nodos_x = [posiciones[node][0] for node in G.nodes()]\n",
    "    nodos_y = [posiciones[node][1] for node in G.nodes()]\n",
    "    etiquetas = [\n",
    "        (f\"Gen: {node}<br>\"\n",
    "         f\"Conexiones: {grados[node]}<br>\"\n",
    "         f\"Centralidad: {centralidad[node]:.2f}\")\n",
    "        for node in G.nodes()\n",
    "    ]\n",
    "\n",
    "    traza_nodos = go.Scatter(\n",
    "        x=nodos_x, y=nodos_y,\n",
    "        mode='markers+text',\n",
    "        text=list(G.nodes()),\n",
    "        textposition=\"top center\",\n",
    "        marker=dict(\n",
    "            showscale=True,\n",
    "            colorscale='Rainbow',\n",
    "            size=[10 + 15 * centralidad[node] for node in G.nodes()],\n",
    "            color=list(grados.values()),\n",
    "            colorbar=dict(title=\"Conexiones Directas\"),\n",
    "            line=dict(width=2, color='DarkSlateGrey')\n",
    "        ),\n",
    "        hovertext=etiquetas,\n",
    "        hoverinfo='text'\n",
    "    )\n",
    "\n",
    "    # Diseño con mejoras de legibilidad\n",
    "    layout = go.Layout(\n",
    "        title='<b>Mapa de Interacciones Genéticas</b><br><i>Análisis de Red basado en STRING DB</i>',\n",
    "        titlefont=dict(size=20, family='Arial'),\n",
    "        showlegend=False,\n",
    "        hovermode='closest',\n",
    "        margin=dict(b=20, l=20, r=20, t=80),\n",
    "        plot_bgcolor='rgba(240,240,240,0.95)',\n",
    "        width=1200,\n",
    "        height=900,\n",
    "        xaxis=dict(visible=False),\n",
    "        yaxis=dict(visible=False),\n",
    "    )\n",
    "\n",
    "    return go.Figure(data=[traza_bordes, traza_nodos], layout=layout)\n",
    "\n",
    "# Función principal siguiendo el principio de \"caja transparente\"\n",
    "def analizar_red_genetica(genes: List[str], score_minimo: int = 400):\n",
    "    \"\"\"\n",
    "    Ejecuta el análisis completo de red genética:\n",
    "    1. Limpia la lista de genes\n",
    "    2. Consulta interacciones en STRING\n",
    "    3. Construye el grafo con NetworkX\n",
    "    4. Visualiza en Cytoscape (si está disponible)\n",
    "    5. Genera figura interactiva con Plotly\n",
    "\n",
    "    Parámetros:\n",
    "    genes -- Lista de genes de entrada\n",
    "    score_minimo -- Umbral mínimo de score para considerar interacciones\n",
    "\n",
    "    Retorna:\n",
    "    Tuple (figura_plotly, dataframe_interacciones) o (None, None) si no hay datos\n",
    "    \"\"\"\n",
    "\n",
    "    print(\"🔎 Iniciando análisis de red genética...\")\n",
    "\n",
    "    # 1. Limpieza y validación básica\n",
    "    genes = [g.strip().upper() for g in genes if g and isinstance(g, str)]\n",
    "    if len(genes) < 2:\n",
    "        print(\"⚠️ Lista de genes insuficiente para construir una red.\")\n",
    "        return None, None\n",
    "\n",
    "    print(f\"🧬 Genes analizados: {len(genes)} | Umbral de score: {score_minimo}\")\n",
    "\n",
    "    # 2. Consulta a STRING DB\n",
    "    interacciones = obtener_datos_string(genes, score_minimo)\n",
    "\n",
    "    if not interacciones:\n",
    "        print(\"⚠️ No se encontraron interacciones con los parámetros actuales.\")\n",
    "        print(\"🧪 Intenta reducir el umbral de score o verifica los nombres de los genes.\")\n",
    "        return None, None\n",
    "\n",
    "    # 3. Construcción del grafo\n",
    "    df_interacciones = pd.DataFrame(interacciones)\n",
    "    G = construir_grafo(genes, interacciones)\n",
    "\n",
    "    print(f\"🕸️ Red construida: {G.number_of_nodes()} nodos, {G.number_of_edges()} interacciones.\")\n",
    "\n",
    "    # 4. Visualización externa (Cytoscape)\n",
    "    visualizar_en_cytoscape(G)\n",
    "\n",
    "    # 5. Visualización interactiva\n",
    "    figura = visualizar_grafo(G)\n",
    "\n",
    "    print(\"✅ Análisis finalizado con éxito.\")\n",
    "\n",
    "    return figura, df_interacciones\n",
    "\n",
    "def visualizar_en_cytoscape(G: nx.Graph):\n",
    "    \"\"\"\n",
    "    Envía el grafo a Cytoscape para visualización avanzada.\n",
    "\n",
    "    Parámetros:\n",
    "    G -- Grafo de NetworkX procesado\n",
    "\n",
    "    Requiere:\n",
    "    - Cytoscape 3.8+ en ejecución\n",
    "    - py2cytoscape instalado\n",
    "    - Aplicación cyREST instalada en Cytoscape (viene por defecto)\n",
    "    \"\"\"\n",
    "    try:\n",
    "        from py2cytoscape import cyrest\n",
    "        import pandas as pd\n",
    "\n",
    "        print(\"\\n🖥️ Conectando con Cytoscape...\")\n",
    "\n",
    "        # Iniciar conexión con Cytoscape\n",
    "        cytoscape = cyrest.cyclient()\n",
    "\n",
    "        # Limpiar sesión previa\n",
    "        cytoscape.session.delete()\n",
    "\n",
    "        # Convertir y cargar red\n",
    "        print(\"🔄 Convirtiendo grafo a formato Cytoscape...\")\n",
    "        network = cytoscape.network.create_from_networkx(G)\n",
    "\n",
    "        # Aplicar layout force-directed\n",
    "        print(\"🎨 Aplicando diseño...\")\n",
    "        cytoscape.layout.apply(name='force-directed', network=network)\n",
    "\n",
    "        # Configurar estilo visual básico\n",
    "        cytoscape.vizmap.apply(styles=['default'])\n",
    "\n",
    "        # Mapear atributos a propiedades visuales\n",
    "        style_params = {\n",
    "            'NODE_FILL_COLOR': '#FFA07A',  # Color salmón para nodos\n",
    "            'EDGE_TRANSPARENCY': 150,\n",
    "            'NODE_SIZE': 50,\n",
    "            'NODE_LABEL_COLOR': '#2E4053'\n",
    "        }\n",
    "        cytoscape.vizmap.update_style('default', style_params)\n",
    "\n",
    "        print(\"✅ Visualización lista en Cytoscape. Ver ventana principal.\")\n",
    "        print(f\"🔗 Nodos: {len(G.nodes())} | 🔗 Conexiones: {len(G.edges())}\")\n",
    "\n",
    "    except ImportError:\n",
    "        print(\"🚨 py2cytoscape no está instalado. Instala con: pip install py2cytoscape\")\n",
    "    except Exception as error:\n",
    "        print(f\"🚨 Error en Cytoscape: {str(error)}\")\n",
    "        print(\"Asegúrate que Cytoscape está corriendo y cyREST está instalado\")\n"
   ]
  },
  {
   "cell_type": "code",
   "execution_count": null,
   "metadata": {},
   "outputs": [],
   "source": [
    "lista_sub"
   ]
  },
  {
   "cell_type": "code",
   "execution_count": null,
   "metadata": {},
   "outputs": [],
   "source": [
    "lista_sobre"
   ]
  },
  {
   "cell_type": "code",
   "execution_count": null,
   "metadata": {
    "executionInfo": {
     "elapsed": 779,
     "status": "aborted",
     "timestamp": 1742954403300,
     "user": {
      "displayName": "Sergio CFS",
      "userId": "11626938599988753511"
     },
     "user_tz": 360
    },
    "id": "1YdG4z0xDywK"
   },
   "outputs": [],
   "source": [
    "\n",
    "red_subexpresados, df_interacciones_subexpresados = analizar_red_genetica(lista_sub)\n",
    "guardar_grafico(red_subexpresados, \"red_subexpresados.png\")\n",
    "export_dfs_to_excel(\n",
    "    [df_interacciones_subexpresados],\n",
    "    [\"interacciones_subexpresados\"],\n",
    "    \"Interacciones de genes subexpresados: Archivo que contiene las interacciones de los genes subexpresados en la red de interacciones genéticas.\"\n",
    ")\n",
    "red_subexpresados.show()"
   ]
  },
  {
   "cell_type": "code",
   "execution_count": null,
   "metadata": {
    "executionInfo": {
     "elapsed": 780,
     "status": "aborted",
     "timestamp": 1742954403301,
     "user": {
      "displayName": "Sergio CFS",
      "userId": "11626938599988753511"
     },
     "user_tz": 360
    },
    "id": "eTsnTBrkDywL"
   },
   "outputs": [],
   "source": [
    "red_sobreexpresados, df_interacciones_sobreexpresados = analizar_red_genetica(lista_sobre)\n",
    "guardar_grafico(red_sobreexpresados, \"red_sobreexpresados.png\")\n",
    "export_dfs_to_excel(\n",
    "    [df_interacciones_sobreexpresados],\n",
    "    [\"interacciones_sobreexpresados\"],\n",
    "    \"Interacciones de genes sobreexpresados: Archivo que contiene las interacciones de los genes sobreexpresados en la red de interacciones genéticas.\"\n",
    ")\n",
    "red_sobreexpresados.show()"
   ]
  },
  {
   "cell_type": "code",
   "execution_count": 64,
   "metadata": {
    "executionInfo": {
     "elapsed": 781,
     "status": "aborted",
     "timestamp": 1742954403302,
     "user": {
      "displayName": "Sergio CFS",
      "userId": "11626938599988753511"
     },
     "user_tz": 360
    },
    "id": "EqlcvNWdDywL"
   },
   "outputs": [
    {
     "name": "stdout",
     "output_type": "stream",
     "text": [
      "AAK1 ABL2 ACVR2B ADAM23 AGFG1 AGO1 AGO4 AK2 AKIRIN2 AMMECR1 AMOT AMPH ANK3 ANKFY1 ANO3 ARIH1 ARIH2 ARL8A ARMC1 ARMC8 ASH1L ATF7 ATP13A3 ATP1B2 AXIN2 BACH2 BCAT2 BST1 BTLA BTRC C2CD5 C5orf47 C5orf60 CAB39 CACNA2D1 CC2D1B CCDC50 CCDC6 CCNYL1 CDC25A CDK6 CELSR2 CEP85L CHD2 CLIP1 CLOCK CNNM2 COBLL1 CORO2B CPEB3 CRYBG1 CSNK1G2 CSNK1G3 CUL4A DCN DCTN5 DCUN1D3 DENND1B DICER1 DLEU7 DLG5 DLL1 DYNC1LI2 DYNLT3 DYRK2 EDIL3 EIF4B EIF5 ELK4 EPHA7 ESR1 EVA1A EXOC3L2 FAF2 FAM81A FAM98A FBXW7 FERMT2 FEZF1 FGF2 FGFRL1 FLOT2 FOXP1 G3BP2 GABRG2 GALNT7 GGA3 GPAT4 GPATCH8 GPC6 GPCPD1 GPR6 GSKIP HACD2 HDGFL3 HERC2 HIC2 HSDL1 HTATIP2 HTT IARS1 IGSF3 IL10RB INO80D ITPR1 JAKMIP2 KATNBL1 KCNN4 KDM7A KIF21A KIF23 KIF5A KIF5C KLF4 LATS2 LGR5 LRRN3 MAPK8 MARCHF3 MBNL1 MED26 MEF2D MFN2 MICAL2 MTFR1L MYCN MYH9 N4BP1 NAA16 NDEL1 NEDD9 NEIL1 NF1 NFIA NKTR NOVA1 NPAS2 NPAS3 NRP2 NSG1 NUDCD2 NUP50 OAS3 OSBPL6 PAFAH1B2 PAG1 PCGF2 PDCD10 PDE3B PDS5A PDZD8 PGRMC2 PHACTR2 PHF20 PHYHIPL PLCB1 PLEKHA1 PLEKHF2 PPIP5K2 PPM1E PPP2R3C PPP4R3B PPP6C PPP6R2 PRKAG3 PRKCE PRKG1 PRPF4B PRR14L PRRT2 PSMD3 PTCHD3 PTH PTPN4 PURB RAB1B RAB9B RAI14 RBM24 RIMS3 RNF38 ROR1 RORA RRAGC RUNX1T1 SALL1 SBNO1 SCN2A SCN8A SEPTIN6 SERPINB5 SH3BP4 SIX4 SLAIN2 SLC25A37 SLC26A7 SLC35D1 SLITRK1 SMARCE1 SMS SNRK SNX12 SNX3 SPATS2L SREK1 SRGAP1 STOM STRN SUN2 SUSD6 SYDE2 SYNJ1 TBKBP1 TDG TECPR2 TGFBR3 THOC2 TMEM170A TMEM248 TMEM25 TMEM260 TMEM35A TMEM47 TNPO1 TNRC6B TRIAP1 TRIM71 TSC1 TSHZ2 TWF1 UBE2R2 UBE4A UNC80 USF3 USP42 VAV3 VCAN WASHC4 WDR20 WNK1 YTHDC1 ZBTB10 ZBTB39 ZCCHC2 ZDHHC21 ZFPM2 ZFYVE16 ZHX1 ZNF449 ZNF592 ZNF662 ZNF85 ZNRF2\n",
      "<function genlista at 0x1227e4860>\n"
     ]
    }
   ],
   "source": [
    "def genlista(lista):\n",
    "    lista = \" \".join(lista)\n",
    "    print(lista)\n",
    "\n",
    "lista1 = ['BMF', 'CD276', 'CTNNBIP1', 'DNMT1', 'DUSP2', 'FOXJ2', 'IREB2', 'LPL']\n",
    "\n",
    "lista2 = ['BMP1', 'COL3A1', 'CTNNB1', 'FOXC2', 'FZD7', 'GSC', 'JAG1', 'KRT19', 'MAP1B', 'NOTCH1', 'PTK2', 'RAC1', 'SNAI1', 'SPARC', 'STEAP1', 'TCF4', 'TWIST1', 'VIM', 'ZEB2']\n",
    "\n",
    "lista = lista1\n",
    "\n",
    "#genlista(lista_sub)\n",
    "\n",
    "listamir = [\"AAK1\",\"ABL2\",\"ACVR2B\",\"ADAM23\",\"AGFG1\",\"AGO1\",\"AGO4\",\"AK2\",\"AKIRIN2\",\"AMMECR1\",\"AMOT\",\"AMPH\",\"ANK3\",\"ANKFY1\",\"ANO3\",\"ARIH1\",\"ARIH2\",\"ARL8A\",\"ARMC1\",\"ARMC8\",\"ASH1L\",\"ATF7\",\"ATP13A3\",\"ATP1B2\",\"AXIN2\",\"BACH2\",\"BCAT2\",\"BST1\",\"BTLA\",\"BTRC\",\"C2CD5\",\"C5orf47\",\"C5orf60\",\"CAB39\",\"CACNA2D1\",\"CC2D1B\",\"CCDC50\",\"CCDC6\",\"CCNYL1\",\"CDC25A\",\"CDK6\",\"CELSR2\",\"CEP85L\",\"CHD2\",\"CLIP1\",\"CLOCK\",\"CNNM2\",\"COBLL1\",\"CORO2B\",\"CPEB3\",\"CRYBG1\",\"CSNK1G2\",\"CSNK1G3\",\"CUL4A\",\"DCN\",\"DCTN5\",\"DCUN1D3\",\"DENND1B\",\"DICER1\",\"DLEU7\",\"DLG5\",\"DLL1\",\"DYNC1LI2\",\"DYNLT3\",\"DYRK2\",\"EDIL3\",\"EIF4B\",\"EIF5\",\"ELK4\",\"EPHA7\",\"ESR1\",\"EVA1A\",\"EXOC3L2\",\"FAF2\",\"FAM81A\",\"FAM98A\",\"FBXW7\",\"FERMT2\",\"FEZF1\",\"FGF2\",\"FGFRL1\",\"FLOT2\",\"FOXP1\",\"G3BP2\",\"GABRG2\",\"GALNT7\",\"GGA3\",\"GPAT4\",\"GPATCH8\",\"GPC6\",\"GPCPD1\",\"GPR6\",\"GSKIP\",\"HACD2\",\"HDGFL3\",\"HERC2\",\"HIC2\",\"HSDL1\",\"HTATIP2\",\"HTT\",\"IARS1\",\"IGSF3\",\"IL10RB\",\"INO80D\",\"ITPR1\",\"JAKMIP2\",\"KATNBL1\",\"KCNN4\",\"KDM7A\",\"KIF21A\",\"KIF23\",\"KIF5A\",\"KIF5C\",\"KLF4\",\"LATS2\",\"LGR5\",\"LRRN3\",\"MAPK8\",\"MARCHF3\",\"MBNL1\",\"MED26\",\"MEF2D\",\"MFN2\",\"MICAL2\",\"MTFR1L\",\"MYCN\",\"MYH9\",\"N4BP1\",\"NAA16\",\"NDEL1\",\"NEDD9\",\"NEIL1\",\"NF1\",\"NFIA\",\"NKTR\",\"NOVA1\",\"NPAS2\",\"NPAS3\",\"NRP2\",\"NSG1\",\"NUDCD2\",\"NUP50\",\"OAS3\",\"OSBPL6\",\"PAFAH1B2\",\"PAG1\",\"PCGF2\",\"PDCD10\",\"PDE3B\",\"PDS5A\",\"PDZD8\",\"PGRMC2\",\"PHACTR2\",\"PHF20\",\"PHYHIPL\",\"PLCB1\",\"PLEKHA1\",\"PLEKHF2\",\"PPIP5K2\",\"PPM1E\",\"PPP2R3C\",\"PPP4R3B\",\"PPP6C\",\"PPP6R2\",\"PRKAG3\",\"PRKCE\",\"PRKG1\",\"PRPF4B\",\"PRR14L\",\"PRRT2\",\"PSMD3\",\"PTCHD3\",\"PTH\",\"PTPN4\",\"PURB\",\"RAB1B\",\"RAB9B\",\"RAI14\",\"RBM24\",\"RIMS3\",\"RNF38\",\"ROR1\",\"RORA\",\"RRAGC\",\"RUNX1T1\",\"SALL1\",\"SBNO1\",\"SCN2A\",\"SCN8A\",\"SEPTIN6\",\"SERPINB5\",\"SH3BP4\",\"SIX4\",\"SLAIN2\",\"SLC25A37\",\"SLC26A7\",\"SLC35D1\",\"SLITRK1\",\"SMARCE1\",\"SMS\",\"SNRK\",\"SNX12\",\"SNX3\",\"SPATS2L\",\"SREK1\",\"SRGAP1\",\"STOM\",\"STRN\",\"SUN2\",\"SUSD6\",\"SYDE2\",\"SYNJ1\",\"TBKBP1\",\"TDG\",\"TECPR2\",\"TGFBR3\",\"THOC2\",\"TMEM170A\",\"TMEM248\",\"TMEM25\",\"TMEM260\",\"TMEM35A\",\"TMEM47\",\"TNPO1\",\"TNRC6B\",\"TRIAP1\",\"TRIM71\",\"TSC1\",\"TSHZ2\",\"TWF1\",\"UBE2R2\",\"UBE4A\",\"UNC80\",\"USF3\",\"USP42\",\"VAV3\",\"VCAN\",\"WASHC4\",\"WDR20\",\"WNK1\",\"YTHDC1\",\"ZBTB10\",\"ZBTB39\",\"ZCCHC2\",\"ZDHHC21\",\"ZFPM2\",\"ZFYVE16\",\"ZHX1\",\"ZNF449\",\"ZNF592\",\"ZNF662\",\"ZNF85\",\"ZNRF2\"]\n",
    "\n",
    "genlista(listamir)\n",
    "print(genlista)"
   ]
  },
  {
   "cell_type": "code",
   "execution_count": null,
   "metadata": {
    "executionInfo": {
     "elapsed": 780,
     "status": "aborted",
     "timestamp": 1742954403302,
     "user": {
      "displayName": "Sergio CFS",
      "userId": "11626938599988753511"
     },
     "user_tz": 360
    },
    "id": "BJbq0N24DywL"
   },
   "outputs": [],
   "source": [
    "print(lista_sobre)\n",
    "print(lista_sub)"
   ]
  },
  {
   "cell_type": "code",
   "execution_count": null,
   "metadata": {
    "executionInfo": {
     "elapsed": 781,
     "status": "aborted",
     "timestamp": 1742954403303,
     "user": {
      "displayName": "Sergio CFS",
      "userId": "11626938599988753511"
     },
     "user_tz": 360
    },
    "id": "pyElSZs0DywL"
   },
   "outputs": [],
   "source": [
    "enriquecimiento_sobreexpresados_STRING = realizar_enriquecimiento_STRING(lista_sobre, \"Sobreexpresados\")\n",
    "\n",
    "export_dfs_to_excel(\n",
    "    [enriquecimiento_sobreexpresados_STRING],\n",
    "    [\"enriquecimiento_sobreexpresados_STRING\"],\n",
    "    \"Enriquecimiento de genes sobreexpresados STRING: Archivo que contiene los resultados del análisis de enriquecimiento de genes sobreexpresados, basado en la firma analitica obtenida para el tipo de cancer.\"\n",
    ")\n",
    "\n",
    "enriquecimiento_subexpresados_STRING = realizar_enriquecimiento_STRING(lista_sub, \"Subexpresados\")\n",
    "export_dfs_to_excel(\n",
    "    [enriquecimiento_subexpresados_STRING],\n",
    "    [\"enriquecimiento_subexpresados_STRING\"],\n",
    "    \"Enriquecimiento de genes subexpresados STRING: Archivo que contiene los resultados del análisis de enriquecimiento de genes subexpresados, basado en la firma analitica obtenida para el tipo de cancer.\"\n",
    ")"
   ]
  },
  {
   "cell_type": "markdown",
   "metadata": {
    "id": "AIqsRd9qDywL"
   },
   "source": []
  },
  {
   "cell_type": "code",
   "execution_count": null,
   "metadata": {},
   "outputs": [],
   "source": [
    "len"
   ]
  },
  {
   "cell_type": "markdown",
   "metadata": {},
   "source": [
    "### Obtención de los datos de enriquecimiento funcional con API STRING\n",
    "\n",
    "\n",
    "> datos: listas de genes\n",
    "\n",
    "Este código realiza un **análisis de enriquecimiento funcional** utilizando la API de STRING para identificar procesos biológicos, rutas y funciones moleculares asociadas a los genes en cada nivel de expresión (**Subexpresado**, **Estable**, **Sobreexpresado**).\n",
    "\n",
    "**Uso**:\n",
    "- Este análisis es útil para identificar procesos biológicos clave asociados a los genes en cada nivel de expresión, lo que puede ayudar a interpretar los resultados del análisis diferencial.  "
   ]
  },
  {
   "cell_type": "code",
   "execution_count": null,
   "metadata": {},
   "outputs": [],
   "source": []
  }
 ],
 "metadata": {
  "colab": {
   "provenance": []
  },
  "kernelspec": {
   "display_name": "base",
   "language": "python",
   "name": "python3"
  },
  "language_info": {
   "codemirror_mode": {
    "name": "ipython",
    "version": 3
   },
   "file_extension": ".py",
   "mimetype": "text/x-python",
   "name": "python",
   "nbconvert_exporter": "python",
   "pygments_lexer": "ipython3",
   "version": "3.11.7"
  }
 },
 "nbformat": 4,
 "nbformat_minor": 0
}
